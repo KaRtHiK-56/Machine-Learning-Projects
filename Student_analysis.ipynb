{
  "nbformat": 4,
  "nbformat_minor": 0,
  "metadata": {
    "colab": {
      "name": "Student analysis.ipynb",
      "provenance": [],
      "collapsed_sections": [],
      "include_colab_link": true
    },
    "kernelspec": {
      "display_name": "Python 3",
      "language": "python",
      "name": "python3"
    },
    "language_info": {
      "codemirror_mode": {
        "name": "ipython",
        "version": 3
      },
      "file_extension": ".py",
      "mimetype": "text/x-python",
      "name": "python",
      "nbconvert_exporter": "python",
      "pygments_lexer": "ipython3",
      "version": "3.7.4"
    }
  },
  "cells": [
    {
      "cell_type": "markdown",
      "metadata": {
        "id": "view-in-github",
        "colab_type": "text"
      },
      "source": [
        "<a href=\"https://colab.research.google.com/github/VegetaSan1/Machine-Learning-Projects/blob/main/Student_analysis.ipynb\" target=\"_parent\"><img src=\"https://colab.research.google.com/assets/colab-badge.svg\" alt=\"Open In Colab\"/></a>"
      ]
    },
    {
      "cell_type": "code",
      "metadata": {
        "id": "igWTRGfQgN34"
      },
      "source": [
        "import pandas as pd \n",
        "import numpy as np\n",
        "import seaborn as sns\n",
        "import matplotlib.pyplot as plt"
      ],
      "execution_count": null,
      "outputs": []
    },
    {
      "cell_type": "code",
      "metadata": {
        "colab": {
          "base_uri": "https://localhost:8080/",
          "height": 436
        },
        "id": "e7s55qKNgN4T",
        "outputId": "95a95019-907e-4ed0-ac51-55e671d55c01"
      },
      "source": [
        "ds=pd.read_csv('StudentsPerformance.csv')\n",
        "ds"
      ],
      "execution_count": null,
      "outputs": [
        {
          "output_type": "execute_result",
          "data": {
            "text/html": [
              "<div>\n",
              "<style scoped>\n",
              "    .dataframe tbody tr th:only-of-type {\n",
              "        vertical-align: middle;\n",
              "    }\n",
              "\n",
              "    .dataframe tbody tr th {\n",
              "        vertical-align: top;\n",
              "    }\n",
              "\n",
              "    .dataframe thead th {\n",
              "        text-align: right;\n",
              "    }\n",
              "</style>\n",
              "<table border=\"1\" class=\"dataframe\">\n",
              "  <thead>\n",
              "    <tr style=\"text-align: right;\">\n",
              "      <th></th>\n",
              "      <th>gender</th>\n",
              "      <th>Unnamed: 1</th>\n",
              "      <th>parental level of education</th>\n",
              "      <th>lunch</th>\n",
              "      <th>test preparation course</th>\n",
              "      <th>math score</th>\n",
              "      <th>reading score</th>\n",
              "      <th>writing score</th>\n",
              "      <th>race/ethnicity</th>\n",
              "    </tr>\n",
              "  </thead>\n",
              "  <tbody>\n",
              "    <tr>\n",
              "      <th>0</th>\n",
              "      <td>female</td>\n",
              "      <td>NaN</td>\n",
              "      <td>bachelor's degree</td>\n",
              "      <td>standard</td>\n",
              "      <td>none</td>\n",
              "      <td>72</td>\n",
              "      <td>72</td>\n",
              "      <td>74</td>\n",
              "      <td>group B</td>\n",
              "    </tr>\n",
              "    <tr>\n",
              "      <th>1</th>\n",
              "      <td>female</td>\n",
              "      <td>NaN</td>\n",
              "      <td>some college</td>\n",
              "      <td>standard</td>\n",
              "      <td>completed</td>\n",
              "      <td>69</td>\n",
              "      <td>90</td>\n",
              "      <td>88</td>\n",
              "      <td>group C</td>\n",
              "    </tr>\n",
              "    <tr>\n",
              "      <th>2</th>\n",
              "      <td>female</td>\n",
              "      <td>NaN</td>\n",
              "      <td>master's degree</td>\n",
              "      <td>standard</td>\n",
              "      <td>none</td>\n",
              "      <td>90</td>\n",
              "      <td>95</td>\n",
              "      <td>93</td>\n",
              "      <td>group B</td>\n",
              "    </tr>\n",
              "    <tr>\n",
              "      <th>3</th>\n",
              "      <td>male</td>\n",
              "      <td>NaN</td>\n",
              "      <td>associate's degree</td>\n",
              "      <td>free/reduced</td>\n",
              "      <td>none</td>\n",
              "      <td>47</td>\n",
              "      <td>57</td>\n",
              "      <td>44</td>\n",
              "      <td>group A</td>\n",
              "    </tr>\n",
              "    <tr>\n",
              "      <th>4</th>\n",
              "      <td>male</td>\n",
              "      <td>NaN</td>\n",
              "      <td>some college</td>\n",
              "      <td>standard</td>\n",
              "      <td>none</td>\n",
              "      <td>76</td>\n",
              "      <td>78</td>\n",
              "      <td>75</td>\n",
              "      <td>group C</td>\n",
              "    </tr>\n",
              "    <tr>\n",
              "      <th>...</th>\n",
              "      <td>...</td>\n",
              "      <td>...</td>\n",
              "      <td>...</td>\n",
              "      <td>...</td>\n",
              "      <td>...</td>\n",
              "      <td>...</td>\n",
              "      <td>...</td>\n",
              "      <td>...</td>\n",
              "      <td>...</td>\n",
              "    </tr>\n",
              "    <tr>\n",
              "      <th>995</th>\n",
              "      <td>female</td>\n",
              "      <td>NaN</td>\n",
              "      <td>master's degree</td>\n",
              "      <td>standard</td>\n",
              "      <td>completed</td>\n",
              "      <td>88</td>\n",
              "      <td>99</td>\n",
              "      <td>95</td>\n",
              "      <td>group E</td>\n",
              "    </tr>\n",
              "    <tr>\n",
              "      <th>996</th>\n",
              "      <td>male</td>\n",
              "      <td>NaN</td>\n",
              "      <td>high school</td>\n",
              "      <td>free/reduced</td>\n",
              "      <td>none</td>\n",
              "      <td>62</td>\n",
              "      <td>55</td>\n",
              "      <td>55</td>\n",
              "      <td>group C</td>\n",
              "    </tr>\n",
              "    <tr>\n",
              "      <th>997</th>\n",
              "      <td>female</td>\n",
              "      <td>NaN</td>\n",
              "      <td>high school</td>\n",
              "      <td>free/reduced</td>\n",
              "      <td>completed</td>\n",
              "      <td>59</td>\n",
              "      <td>71</td>\n",
              "      <td>65</td>\n",
              "      <td>group C</td>\n",
              "    </tr>\n",
              "    <tr>\n",
              "      <th>998</th>\n",
              "      <td>female</td>\n",
              "      <td>NaN</td>\n",
              "      <td>some college</td>\n",
              "      <td>standard</td>\n",
              "      <td>completed</td>\n",
              "      <td>68</td>\n",
              "      <td>78</td>\n",
              "      <td>77</td>\n",
              "      <td>group D</td>\n",
              "    </tr>\n",
              "    <tr>\n",
              "      <th>999</th>\n",
              "      <td>female</td>\n",
              "      <td>NaN</td>\n",
              "      <td>some college</td>\n",
              "      <td>free/reduced</td>\n",
              "      <td>none</td>\n",
              "      <td>77</td>\n",
              "      <td>86</td>\n",
              "      <td>86</td>\n",
              "      <td>group D</td>\n",
              "    </tr>\n",
              "  </tbody>\n",
              "</table>\n",
              "<p>1000 rows × 9 columns</p>\n",
              "</div>"
            ],
            "text/plain": [
              "     gender  Unnamed: 1  ... writing score race/ethnicity\n",
              "0    female         NaN  ...            74        group B\n",
              "1    female         NaN  ...            88        group C\n",
              "2    female         NaN  ...            93        group B\n",
              "3      male         NaN  ...            44        group A\n",
              "4      male         NaN  ...            75        group C\n",
              "..      ...         ...  ...           ...            ...\n",
              "995  female         NaN  ...            95        group E\n",
              "996    male         NaN  ...            55        group C\n",
              "997  female         NaN  ...            65        group C\n",
              "998  female         NaN  ...            77        group D\n",
              "999  female         NaN  ...            86        group D\n",
              "\n",
              "[1000 rows x 9 columns]"
            ]
          },
          "metadata": {
            "tags": []
          },
          "execution_count": 6
        }
      ]
    },
    {
      "cell_type": "code",
      "metadata": {
        "colab": {
          "base_uri": "https://localhost:8080/",
          "height": 436
        },
        "id": "rOhrHiokgN4X",
        "outputId": "f0695a7e-a7d4-4080-f360-54fb2ae5c3fb"
      },
      "source": [
        "del ds['Unnamed: 1']\n",
        "ds"
      ],
      "execution_count": null,
      "outputs": [
        {
          "output_type": "execute_result",
          "data": {
            "text/html": [
              "<div>\n",
              "<style scoped>\n",
              "    .dataframe tbody tr th:only-of-type {\n",
              "        vertical-align: middle;\n",
              "    }\n",
              "\n",
              "    .dataframe tbody tr th {\n",
              "        vertical-align: top;\n",
              "    }\n",
              "\n",
              "    .dataframe thead th {\n",
              "        text-align: right;\n",
              "    }\n",
              "</style>\n",
              "<table border=\"1\" class=\"dataframe\">\n",
              "  <thead>\n",
              "    <tr style=\"text-align: right;\">\n",
              "      <th></th>\n",
              "      <th>gender</th>\n",
              "      <th>parental level of education</th>\n",
              "      <th>lunch</th>\n",
              "      <th>test preparation course</th>\n",
              "      <th>math score</th>\n",
              "      <th>reading score</th>\n",
              "      <th>writing score</th>\n",
              "      <th>race/ethnicity</th>\n",
              "    </tr>\n",
              "  </thead>\n",
              "  <tbody>\n",
              "    <tr>\n",
              "      <th>0</th>\n",
              "      <td>female</td>\n",
              "      <td>bachelor's degree</td>\n",
              "      <td>standard</td>\n",
              "      <td>none</td>\n",
              "      <td>72</td>\n",
              "      <td>72</td>\n",
              "      <td>74</td>\n",
              "      <td>group B</td>\n",
              "    </tr>\n",
              "    <tr>\n",
              "      <th>1</th>\n",
              "      <td>female</td>\n",
              "      <td>some college</td>\n",
              "      <td>standard</td>\n",
              "      <td>completed</td>\n",
              "      <td>69</td>\n",
              "      <td>90</td>\n",
              "      <td>88</td>\n",
              "      <td>group C</td>\n",
              "    </tr>\n",
              "    <tr>\n",
              "      <th>2</th>\n",
              "      <td>female</td>\n",
              "      <td>master's degree</td>\n",
              "      <td>standard</td>\n",
              "      <td>none</td>\n",
              "      <td>90</td>\n",
              "      <td>95</td>\n",
              "      <td>93</td>\n",
              "      <td>group B</td>\n",
              "    </tr>\n",
              "    <tr>\n",
              "      <th>3</th>\n",
              "      <td>male</td>\n",
              "      <td>associate's degree</td>\n",
              "      <td>free/reduced</td>\n",
              "      <td>none</td>\n",
              "      <td>47</td>\n",
              "      <td>57</td>\n",
              "      <td>44</td>\n",
              "      <td>group A</td>\n",
              "    </tr>\n",
              "    <tr>\n",
              "      <th>4</th>\n",
              "      <td>male</td>\n",
              "      <td>some college</td>\n",
              "      <td>standard</td>\n",
              "      <td>none</td>\n",
              "      <td>76</td>\n",
              "      <td>78</td>\n",
              "      <td>75</td>\n",
              "      <td>group C</td>\n",
              "    </tr>\n",
              "    <tr>\n",
              "      <th>...</th>\n",
              "      <td>...</td>\n",
              "      <td>...</td>\n",
              "      <td>...</td>\n",
              "      <td>...</td>\n",
              "      <td>...</td>\n",
              "      <td>...</td>\n",
              "      <td>...</td>\n",
              "      <td>...</td>\n",
              "    </tr>\n",
              "    <tr>\n",
              "      <th>995</th>\n",
              "      <td>female</td>\n",
              "      <td>master's degree</td>\n",
              "      <td>standard</td>\n",
              "      <td>completed</td>\n",
              "      <td>88</td>\n",
              "      <td>99</td>\n",
              "      <td>95</td>\n",
              "      <td>group E</td>\n",
              "    </tr>\n",
              "    <tr>\n",
              "      <th>996</th>\n",
              "      <td>male</td>\n",
              "      <td>high school</td>\n",
              "      <td>free/reduced</td>\n",
              "      <td>none</td>\n",
              "      <td>62</td>\n",
              "      <td>55</td>\n",
              "      <td>55</td>\n",
              "      <td>group C</td>\n",
              "    </tr>\n",
              "    <tr>\n",
              "      <th>997</th>\n",
              "      <td>female</td>\n",
              "      <td>high school</td>\n",
              "      <td>free/reduced</td>\n",
              "      <td>completed</td>\n",
              "      <td>59</td>\n",
              "      <td>71</td>\n",
              "      <td>65</td>\n",
              "      <td>group C</td>\n",
              "    </tr>\n",
              "    <tr>\n",
              "      <th>998</th>\n",
              "      <td>female</td>\n",
              "      <td>some college</td>\n",
              "      <td>standard</td>\n",
              "      <td>completed</td>\n",
              "      <td>68</td>\n",
              "      <td>78</td>\n",
              "      <td>77</td>\n",
              "      <td>group D</td>\n",
              "    </tr>\n",
              "    <tr>\n",
              "      <th>999</th>\n",
              "      <td>female</td>\n",
              "      <td>some college</td>\n",
              "      <td>free/reduced</td>\n",
              "      <td>none</td>\n",
              "      <td>77</td>\n",
              "      <td>86</td>\n",
              "      <td>86</td>\n",
              "      <td>group D</td>\n",
              "    </tr>\n",
              "  </tbody>\n",
              "</table>\n",
              "<p>1000 rows × 8 columns</p>\n",
              "</div>"
            ],
            "text/plain": [
              "     gender parental level of education  ... writing score race/ethnicity\n",
              "0    female           bachelor's degree  ...            74        group B\n",
              "1    female                some college  ...            88        group C\n",
              "2    female             master's degree  ...            93        group B\n",
              "3      male          associate's degree  ...            44        group A\n",
              "4      male                some college  ...            75        group C\n",
              "..      ...                         ...  ...           ...            ...\n",
              "995  female             master's degree  ...            95        group E\n",
              "996    male                 high school  ...            55        group C\n",
              "997  female                 high school  ...            65        group C\n",
              "998  female                some college  ...            77        group D\n",
              "999  female                some college  ...            86        group D\n",
              "\n",
              "[1000 rows x 8 columns]"
            ]
          },
          "metadata": {
            "tags": []
          },
          "execution_count": 7
        }
      ]
    },
    {
      "cell_type": "code",
      "metadata": {
        "colab": {
          "base_uri": "https://localhost:8080/",
          "height": 297
        },
        "id": "YsLZEp1SgN4a",
        "outputId": "980b724d-e4e6-458b-c1f8-03d00103d5d1"
      },
      "source": [
        "ds.describe()"
      ],
      "execution_count": null,
      "outputs": [
        {
          "output_type": "execute_result",
          "data": {
            "text/html": [
              "<div>\n",
              "<style scoped>\n",
              "    .dataframe tbody tr th:only-of-type {\n",
              "        vertical-align: middle;\n",
              "    }\n",
              "\n",
              "    .dataframe tbody tr th {\n",
              "        vertical-align: top;\n",
              "    }\n",
              "\n",
              "    .dataframe thead th {\n",
              "        text-align: right;\n",
              "    }\n",
              "</style>\n",
              "<table border=\"1\" class=\"dataframe\">\n",
              "  <thead>\n",
              "    <tr style=\"text-align: right;\">\n",
              "      <th></th>\n",
              "      <th>math score</th>\n",
              "      <th>reading score</th>\n",
              "      <th>writing score</th>\n",
              "    </tr>\n",
              "  </thead>\n",
              "  <tbody>\n",
              "    <tr>\n",
              "      <th>count</th>\n",
              "      <td>1000.00000</td>\n",
              "      <td>1000.000000</td>\n",
              "      <td>1000.000000</td>\n",
              "    </tr>\n",
              "    <tr>\n",
              "      <th>mean</th>\n",
              "      <td>66.08900</td>\n",
              "      <td>69.169000</td>\n",
              "      <td>68.054000</td>\n",
              "    </tr>\n",
              "    <tr>\n",
              "      <th>std</th>\n",
              "      <td>15.16308</td>\n",
              "      <td>14.600192</td>\n",
              "      <td>15.195657</td>\n",
              "    </tr>\n",
              "    <tr>\n",
              "      <th>min</th>\n",
              "      <td>0.00000</td>\n",
              "      <td>17.000000</td>\n",
              "      <td>10.000000</td>\n",
              "    </tr>\n",
              "    <tr>\n",
              "      <th>25%</th>\n",
              "      <td>57.00000</td>\n",
              "      <td>59.000000</td>\n",
              "      <td>57.750000</td>\n",
              "    </tr>\n",
              "    <tr>\n",
              "      <th>50%</th>\n",
              "      <td>66.00000</td>\n",
              "      <td>70.000000</td>\n",
              "      <td>69.000000</td>\n",
              "    </tr>\n",
              "    <tr>\n",
              "      <th>75%</th>\n",
              "      <td>77.00000</td>\n",
              "      <td>79.000000</td>\n",
              "      <td>79.000000</td>\n",
              "    </tr>\n",
              "    <tr>\n",
              "      <th>max</th>\n",
              "      <td>100.00000</td>\n",
              "      <td>100.000000</td>\n",
              "      <td>100.000000</td>\n",
              "    </tr>\n",
              "  </tbody>\n",
              "</table>\n",
              "</div>"
            ],
            "text/plain": [
              "       math score  reading score  writing score\n",
              "count  1000.00000    1000.000000    1000.000000\n",
              "mean     66.08900      69.169000      68.054000\n",
              "std      15.16308      14.600192      15.195657\n",
              "min       0.00000      17.000000      10.000000\n",
              "25%      57.00000      59.000000      57.750000\n",
              "50%      66.00000      70.000000      69.000000\n",
              "75%      77.00000      79.000000      79.000000\n",
              "max     100.00000     100.000000     100.000000"
            ]
          },
          "metadata": {
            "tags": []
          },
          "execution_count": 8
        }
      ]
    },
    {
      "cell_type": "code",
      "metadata": {
        "colab": {
          "base_uri": "https://localhost:8080/"
        },
        "id": "cnLAs0imgN4b",
        "outputId": "8fe0a950-8f4f-4b8c-de25-0f33f9d5a5ce"
      },
      "source": [
        "ds.info()"
      ],
      "execution_count": null,
      "outputs": [
        {
          "output_type": "stream",
          "text": [
            "<class 'pandas.core.frame.DataFrame'>\n",
            "RangeIndex: 1000 entries, 0 to 999\n",
            "Data columns (total 8 columns):\n",
            " #   Column                       Non-Null Count  Dtype \n",
            "---  ------                       --------------  ----- \n",
            " 0   gender                       1000 non-null   object\n",
            " 1   parental level of education  1000 non-null   object\n",
            " 2   lunch                        1000 non-null   object\n",
            " 3   test preparation course      1000 non-null   object\n",
            " 4   math score                   1000 non-null   int64 \n",
            " 5   reading score                1000 non-null   int64 \n",
            " 6   writing score                1000 non-null   int64 \n",
            " 7   race/ethnicity               1000 non-null   object\n",
            "dtypes: int64(3), object(5)\n",
            "memory usage: 62.6+ KB\n"
          ],
          "name": "stdout"
        }
      ]
    },
    {
      "cell_type": "code",
      "metadata": {
        "colab": {
          "base_uri": "https://localhost:8080/"
        },
        "id": "1TFWtYmdgN4c",
        "outputId": "09668178-b826-4885-dea9-6315096ce1cb"
      },
      "source": [
        "ds.isnull().sum()"
      ],
      "execution_count": null,
      "outputs": [
        {
          "output_type": "execute_result",
          "data": {
            "text/plain": [
              "gender                         0\n",
              "parental level of education    0\n",
              "lunch                          0\n",
              "test preparation course        0\n",
              "math score                     0\n",
              "reading score                  0\n",
              "writing score                  0\n",
              "race/ethnicity                 0\n",
              "dtype: int64"
            ]
          },
          "metadata": {
            "tags": []
          },
          "execution_count": 10
        }
      ]
    },
    {
      "cell_type": "code",
      "metadata": {
        "colab": {
          "base_uri": "https://localhost:8080/"
        },
        "id": "6kTxhXYCgN4d",
        "outputId": "e6c415a6-81af-4fa0-bd34-38d306160c53"
      },
      "source": [
        "ds.nunique()<10"
      ],
      "execution_count": null,
      "outputs": [
        {
          "output_type": "execute_result",
          "data": {
            "text/plain": [
              "gender                          True\n",
              "parental level of education     True\n",
              "lunch                           True\n",
              "test preparation course         True\n",
              "math score                     False\n",
              "reading score                  False\n",
              "writing score                  False\n",
              "race/ethnicity                  True\n",
              "dtype: bool"
            ]
          },
          "metadata": {
            "tags": []
          },
          "execution_count": 11
        }
      ]
    },
    {
      "cell_type": "code",
      "metadata": {
        "colab": {
          "base_uri": "https://localhost:8080/",
          "height": 436
        },
        "id": "N2IX3WizgN4e",
        "outputId": "8a7c1969-7601-4712-d4b5-b9b72142525f"
      },
      "source": [
        "from sklearn.preprocessing import LabelEncoder\n",
        "race_ethnicity = ('group A','group B','group C','group D','group E')\n",
        "ds1 = pd.DataFrame(race_ethnicity, columns=['race/ethnicity'])\n",
        "labelencoder = LabelEncoder()\n",
        "ds['race/ethnicity'] = labelencoder.fit_transform(ds['race/ethnicity'])\n",
        "ds"
      ],
      "execution_count": null,
      "outputs": [
        {
          "output_type": "execute_result",
          "data": {
            "text/html": [
              "<div>\n",
              "<style scoped>\n",
              "    .dataframe tbody tr th:only-of-type {\n",
              "        vertical-align: middle;\n",
              "    }\n",
              "\n",
              "    .dataframe tbody tr th {\n",
              "        vertical-align: top;\n",
              "    }\n",
              "\n",
              "    .dataframe thead th {\n",
              "        text-align: right;\n",
              "    }\n",
              "</style>\n",
              "<table border=\"1\" class=\"dataframe\">\n",
              "  <thead>\n",
              "    <tr style=\"text-align: right;\">\n",
              "      <th></th>\n",
              "      <th>gender</th>\n",
              "      <th>parental level of education</th>\n",
              "      <th>lunch</th>\n",
              "      <th>test preparation course</th>\n",
              "      <th>math score</th>\n",
              "      <th>reading score</th>\n",
              "      <th>writing score</th>\n",
              "      <th>race/ethnicity</th>\n",
              "    </tr>\n",
              "  </thead>\n",
              "  <tbody>\n",
              "    <tr>\n",
              "      <th>0</th>\n",
              "      <td>female</td>\n",
              "      <td>bachelor's degree</td>\n",
              "      <td>standard</td>\n",
              "      <td>none</td>\n",
              "      <td>72</td>\n",
              "      <td>72</td>\n",
              "      <td>74</td>\n",
              "      <td>1</td>\n",
              "    </tr>\n",
              "    <tr>\n",
              "      <th>1</th>\n",
              "      <td>female</td>\n",
              "      <td>some college</td>\n",
              "      <td>standard</td>\n",
              "      <td>completed</td>\n",
              "      <td>69</td>\n",
              "      <td>90</td>\n",
              "      <td>88</td>\n",
              "      <td>2</td>\n",
              "    </tr>\n",
              "    <tr>\n",
              "      <th>2</th>\n",
              "      <td>female</td>\n",
              "      <td>master's degree</td>\n",
              "      <td>standard</td>\n",
              "      <td>none</td>\n",
              "      <td>90</td>\n",
              "      <td>95</td>\n",
              "      <td>93</td>\n",
              "      <td>1</td>\n",
              "    </tr>\n",
              "    <tr>\n",
              "      <th>3</th>\n",
              "      <td>male</td>\n",
              "      <td>associate's degree</td>\n",
              "      <td>free/reduced</td>\n",
              "      <td>none</td>\n",
              "      <td>47</td>\n",
              "      <td>57</td>\n",
              "      <td>44</td>\n",
              "      <td>0</td>\n",
              "    </tr>\n",
              "    <tr>\n",
              "      <th>4</th>\n",
              "      <td>male</td>\n",
              "      <td>some college</td>\n",
              "      <td>standard</td>\n",
              "      <td>none</td>\n",
              "      <td>76</td>\n",
              "      <td>78</td>\n",
              "      <td>75</td>\n",
              "      <td>2</td>\n",
              "    </tr>\n",
              "    <tr>\n",
              "      <th>...</th>\n",
              "      <td>...</td>\n",
              "      <td>...</td>\n",
              "      <td>...</td>\n",
              "      <td>...</td>\n",
              "      <td>...</td>\n",
              "      <td>...</td>\n",
              "      <td>...</td>\n",
              "      <td>...</td>\n",
              "    </tr>\n",
              "    <tr>\n",
              "      <th>995</th>\n",
              "      <td>female</td>\n",
              "      <td>master's degree</td>\n",
              "      <td>standard</td>\n",
              "      <td>completed</td>\n",
              "      <td>88</td>\n",
              "      <td>99</td>\n",
              "      <td>95</td>\n",
              "      <td>4</td>\n",
              "    </tr>\n",
              "    <tr>\n",
              "      <th>996</th>\n",
              "      <td>male</td>\n",
              "      <td>high school</td>\n",
              "      <td>free/reduced</td>\n",
              "      <td>none</td>\n",
              "      <td>62</td>\n",
              "      <td>55</td>\n",
              "      <td>55</td>\n",
              "      <td>2</td>\n",
              "    </tr>\n",
              "    <tr>\n",
              "      <th>997</th>\n",
              "      <td>female</td>\n",
              "      <td>high school</td>\n",
              "      <td>free/reduced</td>\n",
              "      <td>completed</td>\n",
              "      <td>59</td>\n",
              "      <td>71</td>\n",
              "      <td>65</td>\n",
              "      <td>2</td>\n",
              "    </tr>\n",
              "    <tr>\n",
              "      <th>998</th>\n",
              "      <td>female</td>\n",
              "      <td>some college</td>\n",
              "      <td>standard</td>\n",
              "      <td>completed</td>\n",
              "      <td>68</td>\n",
              "      <td>78</td>\n",
              "      <td>77</td>\n",
              "      <td>3</td>\n",
              "    </tr>\n",
              "    <tr>\n",
              "      <th>999</th>\n",
              "      <td>female</td>\n",
              "      <td>some college</td>\n",
              "      <td>free/reduced</td>\n",
              "      <td>none</td>\n",
              "      <td>77</td>\n",
              "      <td>86</td>\n",
              "      <td>86</td>\n",
              "      <td>3</td>\n",
              "    </tr>\n",
              "  </tbody>\n",
              "</table>\n",
              "<p>1000 rows × 8 columns</p>\n",
              "</div>"
            ],
            "text/plain": [
              "     gender parental level of education  ... writing score race/ethnicity\n",
              "0    female           bachelor's degree  ...            74              1\n",
              "1    female                some college  ...            88              2\n",
              "2    female             master's degree  ...            93              1\n",
              "3      male          associate's degree  ...            44              0\n",
              "4      male                some college  ...            75              2\n",
              "..      ...                         ...  ...           ...            ...\n",
              "995  female             master's degree  ...            95              4\n",
              "996    male                 high school  ...            55              2\n",
              "997  female                 high school  ...            65              2\n",
              "998  female                some college  ...            77              3\n",
              "999  female                some college  ...            86              3\n",
              "\n",
              "[1000 rows x 8 columns]"
            ]
          },
          "metadata": {
            "tags": []
          },
          "execution_count": 12
        }
      ]
    },
    {
      "cell_type": "code",
      "metadata": {
        "colab": {
          "base_uri": "https://localhost:8080/",
          "height": 436
        },
        "id": "0Lcn9BkjgN4f",
        "outputId": "9dc6972d-89cc-496f-9b20-4ef83101b3e1"
      },
      "source": [
        "test_preparation_course = ('none','completed')\n",
        "ds1 = pd.DataFrame(test_preparation_course, columns=['test preparation course'])\n",
        "labelencoder = LabelEncoder()\n",
        "ds['test preparation course'] = labelencoder.fit_transform(ds['test preparation course'])\n",
        "ds"
      ],
      "execution_count": null,
      "outputs": [
        {
          "output_type": "execute_result",
          "data": {
            "text/html": [
              "<div>\n",
              "<style scoped>\n",
              "    .dataframe tbody tr th:only-of-type {\n",
              "        vertical-align: middle;\n",
              "    }\n",
              "\n",
              "    .dataframe tbody tr th {\n",
              "        vertical-align: top;\n",
              "    }\n",
              "\n",
              "    .dataframe thead th {\n",
              "        text-align: right;\n",
              "    }\n",
              "</style>\n",
              "<table border=\"1\" class=\"dataframe\">\n",
              "  <thead>\n",
              "    <tr style=\"text-align: right;\">\n",
              "      <th></th>\n",
              "      <th>gender</th>\n",
              "      <th>parental level of education</th>\n",
              "      <th>lunch</th>\n",
              "      <th>test preparation course</th>\n",
              "      <th>math score</th>\n",
              "      <th>reading score</th>\n",
              "      <th>writing score</th>\n",
              "      <th>race/ethnicity</th>\n",
              "    </tr>\n",
              "  </thead>\n",
              "  <tbody>\n",
              "    <tr>\n",
              "      <th>0</th>\n",
              "      <td>female</td>\n",
              "      <td>bachelor's degree</td>\n",
              "      <td>standard</td>\n",
              "      <td>1</td>\n",
              "      <td>72</td>\n",
              "      <td>72</td>\n",
              "      <td>74</td>\n",
              "      <td>1</td>\n",
              "    </tr>\n",
              "    <tr>\n",
              "      <th>1</th>\n",
              "      <td>female</td>\n",
              "      <td>some college</td>\n",
              "      <td>standard</td>\n",
              "      <td>0</td>\n",
              "      <td>69</td>\n",
              "      <td>90</td>\n",
              "      <td>88</td>\n",
              "      <td>2</td>\n",
              "    </tr>\n",
              "    <tr>\n",
              "      <th>2</th>\n",
              "      <td>female</td>\n",
              "      <td>master's degree</td>\n",
              "      <td>standard</td>\n",
              "      <td>1</td>\n",
              "      <td>90</td>\n",
              "      <td>95</td>\n",
              "      <td>93</td>\n",
              "      <td>1</td>\n",
              "    </tr>\n",
              "    <tr>\n",
              "      <th>3</th>\n",
              "      <td>male</td>\n",
              "      <td>associate's degree</td>\n",
              "      <td>free/reduced</td>\n",
              "      <td>1</td>\n",
              "      <td>47</td>\n",
              "      <td>57</td>\n",
              "      <td>44</td>\n",
              "      <td>0</td>\n",
              "    </tr>\n",
              "    <tr>\n",
              "      <th>4</th>\n",
              "      <td>male</td>\n",
              "      <td>some college</td>\n",
              "      <td>standard</td>\n",
              "      <td>1</td>\n",
              "      <td>76</td>\n",
              "      <td>78</td>\n",
              "      <td>75</td>\n",
              "      <td>2</td>\n",
              "    </tr>\n",
              "    <tr>\n",
              "      <th>...</th>\n",
              "      <td>...</td>\n",
              "      <td>...</td>\n",
              "      <td>...</td>\n",
              "      <td>...</td>\n",
              "      <td>...</td>\n",
              "      <td>...</td>\n",
              "      <td>...</td>\n",
              "      <td>...</td>\n",
              "    </tr>\n",
              "    <tr>\n",
              "      <th>995</th>\n",
              "      <td>female</td>\n",
              "      <td>master's degree</td>\n",
              "      <td>standard</td>\n",
              "      <td>0</td>\n",
              "      <td>88</td>\n",
              "      <td>99</td>\n",
              "      <td>95</td>\n",
              "      <td>4</td>\n",
              "    </tr>\n",
              "    <tr>\n",
              "      <th>996</th>\n",
              "      <td>male</td>\n",
              "      <td>high school</td>\n",
              "      <td>free/reduced</td>\n",
              "      <td>1</td>\n",
              "      <td>62</td>\n",
              "      <td>55</td>\n",
              "      <td>55</td>\n",
              "      <td>2</td>\n",
              "    </tr>\n",
              "    <tr>\n",
              "      <th>997</th>\n",
              "      <td>female</td>\n",
              "      <td>high school</td>\n",
              "      <td>free/reduced</td>\n",
              "      <td>0</td>\n",
              "      <td>59</td>\n",
              "      <td>71</td>\n",
              "      <td>65</td>\n",
              "      <td>2</td>\n",
              "    </tr>\n",
              "    <tr>\n",
              "      <th>998</th>\n",
              "      <td>female</td>\n",
              "      <td>some college</td>\n",
              "      <td>standard</td>\n",
              "      <td>0</td>\n",
              "      <td>68</td>\n",
              "      <td>78</td>\n",
              "      <td>77</td>\n",
              "      <td>3</td>\n",
              "    </tr>\n",
              "    <tr>\n",
              "      <th>999</th>\n",
              "      <td>female</td>\n",
              "      <td>some college</td>\n",
              "      <td>free/reduced</td>\n",
              "      <td>1</td>\n",
              "      <td>77</td>\n",
              "      <td>86</td>\n",
              "      <td>86</td>\n",
              "      <td>3</td>\n",
              "    </tr>\n",
              "  </tbody>\n",
              "</table>\n",
              "<p>1000 rows × 8 columns</p>\n",
              "</div>"
            ],
            "text/plain": [
              "     gender parental level of education  ... writing score  race/ethnicity\n",
              "0    female           bachelor's degree  ...            74               1\n",
              "1    female                some college  ...            88               2\n",
              "2    female             master's degree  ...            93               1\n",
              "3      male          associate's degree  ...            44               0\n",
              "4      male                some college  ...            75               2\n",
              "..      ...                         ...  ...           ...             ...\n",
              "995  female             master's degree  ...            95               4\n",
              "996    male                 high school  ...            55               2\n",
              "997  female                 high school  ...            65               2\n",
              "998  female                some college  ...            77               3\n",
              "999  female                some college  ...            86               3\n",
              "\n",
              "[1000 rows x 8 columns]"
            ]
          },
          "metadata": {
            "tags": []
          },
          "execution_count": 13
        }
      ]
    },
    {
      "cell_type": "code",
      "metadata": {
        "colab": {
          "base_uri": "https://localhost:8080/",
          "height": 436
        },
        "id": "tjQBBY9egN4g",
        "outputId": "54c2b98d-09a3-4b41-8ec9-65fa78f3b493"
      },
      "source": [
        "lunch = ('standard','free/reduced')\n",
        "ds1 = pd.DataFrame(lunch, columns=['lunch'])\n",
        "labelencoder = LabelEncoder()\n",
        "ds['lunch'] = labelencoder.fit_transform(ds['lunch'])\n",
        "ds"
      ],
      "execution_count": null,
      "outputs": [
        {
          "output_type": "execute_result",
          "data": {
            "text/html": [
              "<div>\n",
              "<style scoped>\n",
              "    .dataframe tbody tr th:only-of-type {\n",
              "        vertical-align: middle;\n",
              "    }\n",
              "\n",
              "    .dataframe tbody tr th {\n",
              "        vertical-align: top;\n",
              "    }\n",
              "\n",
              "    .dataframe thead th {\n",
              "        text-align: right;\n",
              "    }\n",
              "</style>\n",
              "<table border=\"1\" class=\"dataframe\">\n",
              "  <thead>\n",
              "    <tr style=\"text-align: right;\">\n",
              "      <th></th>\n",
              "      <th>gender</th>\n",
              "      <th>parental level of education</th>\n",
              "      <th>lunch</th>\n",
              "      <th>test preparation course</th>\n",
              "      <th>math score</th>\n",
              "      <th>reading score</th>\n",
              "      <th>writing score</th>\n",
              "      <th>race/ethnicity</th>\n",
              "    </tr>\n",
              "  </thead>\n",
              "  <tbody>\n",
              "    <tr>\n",
              "      <th>0</th>\n",
              "      <td>female</td>\n",
              "      <td>bachelor's degree</td>\n",
              "      <td>1</td>\n",
              "      <td>1</td>\n",
              "      <td>72</td>\n",
              "      <td>72</td>\n",
              "      <td>74</td>\n",
              "      <td>1</td>\n",
              "    </tr>\n",
              "    <tr>\n",
              "      <th>1</th>\n",
              "      <td>female</td>\n",
              "      <td>some college</td>\n",
              "      <td>1</td>\n",
              "      <td>0</td>\n",
              "      <td>69</td>\n",
              "      <td>90</td>\n",
              "      <td>88</td>\n",
              "      <td>2</td>\n",
              "    </tr>\n",
              "    <tr>\n",
              "      <th>2</th>\n",
              "      <td>female</td>\n",
              "      <td>master's degree</td>\n",
              "      <td>1</td>\n",
              "      <td>1</td>\n",
              "      <td>90</td>\n",
              "      <td>95</td>\n",
              "      <td>93</td>\n",
              "      <td>1</td>\n",
              "    </tr>\n",
              "    <tr>\n",
              "      <th>3</th>\n",
              "      <td>male</td>\n",
              "      <td>associate's degree</td>\n",
              "      <td>0</td>\n",
              "      <td>1</td>\n",
              "      <td>47</td>\n",
              "      <td>57</td>\n",
              "      <td>44</td>\n",
              "      <td>0</td>\n",
              "    </tr>\n",
              "    <tr>\n",
              "      <th>4</th>\n",
              "      <td>male</td>\n",
              "      <td>some college</td>\n",
              "      <td>1</td>\n",
              "      <td>1</td>\n",
              "      <td>76</td>\n",
              "      <td>78</td>\n",
              "      <td>75</td>\n",
              "      <td>2</td>\n",
              "    </tr>\n",
              "    <tr>\n",
              "      <th>...</th>\n",
              "      <td>...</td>\n",
              "      <td>...</td>\n",
              "      <td>...</td>\n",
              "      <td>...</td>\n",
              "      <td>...</td>\n",
              "      <td>...</td>\n",
              "      <td>...</td>\n",
              "      <td>...</td>\n",
              "    </tr>\n",
              "    <tr>\n",
              "      <th>995</th>\n",
              "      <td>female</td>\n",
              "      <td>master's degree</td>\n",
              "      <td>1</td>\n",
              "      <td>0</td>\n",
              "      <td>88</td>\n",
              "      <td>99</td>\n",
              "      <td>95</td>\n",
              "      <td>4</td>\n",
              "    </tr>\n",
              "    <tr>\n",
              "      <th>996</th>\n",
              "      <td>male</td>\n",
              "      <td>high school</td>\n",
              "      <td>0</td>\n",
              "      <td>1</td>\n",
              "      <td>62</td>\n",
              "      <td>55</td>\n",
              "      <td>55</td>\n",
              "      <td>2</td>\n",
              "    </tr>\n",
              "    <tr>\n",
              "      <th>997</th>\n",
              "      <td>female</td>\n",
              "      <td>high school</td>\n",
              "      <td>0</td>\n",
              "      <td>0</td>\n",
              "      <td>59</td>\n",
              "      <td>71</td>\n",
              "      <td>65</td>\n",
              "      <td>2</td>\n",
              "    </tr>\n",
              "    <tr>\n",
              "      <th>998</th>\n",
              "      <td>female</td>\n",
              "      <td>some college</td>\n",
              "      <td>1</td>\n",
              "      <td>0</td>\n",
              "      <td>68</td>\n",
              "      <td>78</td>\n",
              "      <td>77</td>\n",
              "      <td>3</td>\n",
              "    </tr>\n",
              "    <tr>\n",
              "      <th>999</th>\n",
              "      <td>female</td>\n",
              "      <td>some college</td>\n",
              "      <td>0</td>\n",
              "      <td>1</td>\n",
              "      <td>77</td>\n",
              "      <td>86</td>\n",
              "      <td>86</td>\n",
              "      <td>3</td>\n",
              "    </tr>\n",
              "  </tbody>\n",
              "</table>\n",
              "<p>1000 rows × 8 columns</p>\n",
              "</div>"
            ],
            "text/plain": [
              "     gender parental level of education  ...  writing score  race/ethnicity\n",
              "0    female           bachelor's degree  ...             74               1\n",
              "1    female                some college  ...             88               2\n",
              "2    female             master's degree  ...             93               1\n",
              "3      male          associate's degree  ...             44               0\n",
              "4      male                some college  ...             75               2\n",
              "..      ...                         ...  ...            ...             ...\n",
              "995  female             master's degree  ...             95               4\n",
              "996    male                 high school  ...             55               2\n",
              "997  female                 high school  ...             65               2\n",
              "998  female                some college  ...             77               3\n",
              "999  female                some college  ...             86               3\n",
              "\n",
              "[1000 rows x 8 columns]"
            ]
          },
          "metadata": {
            "tags": []
          },
          "execution_count": 14
        }
      ]
    },
    {
      "cell_type": "code",
      "metadata": {
        "colab": {
          "base_uri": "https://localhost:8080/",
          "height": 436
        },
        "id": "Nl4udDWXgN4h",
        "outputId": "ba3bf1d8-86e6-4df0-a481-cdc35fb91031"
      },
      "source": [
        "parental_level_of_education = ('bachelor\\'s degree','some college','associate\\'s degree','high school')\n",
        "ds1 = pd.DataFrame(parental_level_of_education, columns=['parental level of education'])\n",
        "labelencoder = LabelEncoder()\n",
        "ds['parental level of education'] = labelencoder.fit_transform(ds['parental level of education'])\n",
        "ds"
      ],
      "execution_count": null,
      "outputs": [
        {
          "output_type": "execute_result",
          "data": {
            "text/html": [
              "<div>\n",
              "<style scoped>\n",
              "    .dataframe tbody tr th:only-of-type {\n",
              "        vertical-align: middle;\n",
              "    }\n",
              "\n",
              "    .dataframe tbody tr th {\n",
              "        vertical-align: top;\n",
              "    }\n",
              "\n",
              "    .dataframe thead th {\n",
              "        text-align: right;\n",
              "    }\n",
              "</style>\n",
              "<table border=\"1\" class=\"dataframe\">\n",
              "  <thead>\n",
              "    <tr style=\"text-align: right;\">\n",
              "      <th></th>\n",
              "      <th>gender</th>\n",
              "      <th>parental level of education</th>\n",
              "      <th>lunch</th>\n",
              "      <th>test preparation course</th>\n",
              "      <th>math score</th>\n",
              "      <th>reading score</th>\n",
              "      <th>writing score</th>\n",
              "      <th>race/ethnicity</th>\n",
              "    </tr>\n",
              "  </thead>\n",
              "  <tbody>\n",
              "    <tr>\n",
              "      <th>0</th>\n",
              "      <td>female</td>\n",
              "      <td>1</td>\n",
              "      <td>1</td>\n",
              "      <td>1</td>\n",
              "      <td>72</td>\n",
              "      <td>72</td>\n",
              "      <td>74</td>\n",
              "      <td>1</td>\n",
              "    </tr>\n",
              "    <tr>\n",
              "      <th>1</th>\n",
              "      <td>female</td>\n",
              "      <td>4</td>\n",
              "      <td>1</td>\n",
              "      <td>0</td>\n",
              "      <td>69</td>\n",
              "      <td>90</td>\n",
              "      <td>88</td>\n",
              "      <td>2</td>\n",
              "    </tr>\n",
              "    <tr>\n",
              "      <th>2</th>\n",
              "      <td>female</td>\n",
              "      <td>3</td>\n",
              "      <td>1</td>\n",
              "      <td>1</td>\n",
              "      <td>90</td>\n",
              "      <td>95</td>\n",
              "      <td>93</td>\n",
              "      <td>1</td>\n",
              "    </tr>\n",
              "    <tr>\n",
              "      <th>3</th>\n",
              "      <td>male</td>\n",
              "      <td>0</td>\n",
              "      <td>0</td>\n",
              "      <td>1</td>\n",
              "      <td>47</td>\n",
              "      <td>57</td>\n",
              "      <td>44</td>\n",
              "      <td>0</td>\n",
              "    </tr>\n",
              "    <tr>\n",
              "      <th>4</th>\n",
              "      <td>male</td>\n",
              "      <td>4</td>\n",
              "      <td>1</td>\n",
              "      <td>1</td>\n",
              "      <td>76</td>\n",
              "      <td>78</td>\n",
              "      <td>75</td>\n",
              "      <td>2</td>\n",
              "    </tr>\n",
              "    <tr>\n",
              "      <th>...</th>\n",
              "      <td>...</td>\n",
              "      <td>...</td>\n",
              "      <td>...</td>\n",
              "      <td>...</td>\n",
              "      <td>...</td>\n",
              "      <td>...</td>\n",
              "      <td>...</td>\n",
              "      <td>...</td>\n",
              "    </tr>\n",
              "    <tr>\n",
              "      <th>995</th>\n",
              "      <td>female</td>\n",
              "      <td>3</td>\n",
              "      <td>1</td>\n",
              "      <td>0</td>\n",
              "      <td>88</td>\n",
              "      <td>99</td>\n",
              "      <td>95</td>\n",
              "      <td>4</td>\n",
              "    </tr>\n",
              "    <tr>\n",
              "      <th>996</th>\n",
              "      <td>male</td>\n",
              "      <td>2</td>\n",
              "      <td>0</td>\n",
              "      <td>1</td>\n",
              "      <td>62</td>\n",
              "      <td>55</td>\n",
              "      <td>55</td>\n",
              "      <td>2</td>\n",
              "    </tr>\n",
              "    <tr>\n",
              "      <th>997</th>\n",
              "      <td>female</td>\n",
              "      <td>2</td>\n",
              "      <td>0</td>\n",
              "      <td>0</td>\n",
              "      <td>59</td>\n",
              "      <td>71</td>\n",
              "      <td>65</td>\n",
              "      <td>2</td>\n",
              "    </tr>\n",
              "    <tr>\n",
              "      <th>998</th>\n",
              "      <td>female</td>\n",
              "      <td>4</td>\n",
              "      <td>1</td>\n",
              "      <td>0</td>\n",
              "      <td>68</td>\n",
              "      <td>78</td>\n",
              "      <td>77</td>\n",
              "      <td>3</td>\n",
              "    </tr>\n",
              "    <tr>\n",
              "      <th>999</th>\n",
              "      <td>female</td>\n",
              "      <td>4</td>\n",
              "      <td>0</td>\n",
              "      <td>1</td>\n",
              "      <td>77</td>\n",
              "      <td>86</td>\n",
              "      <td>86</td>\n",
              "      <td>3</td>\n",
              "    </tr>\n",
              "  </tbody>\n",
              "</table>\n",
              "<p>1000 rows × 8 columns</p>\n",
              "</div>"
            ],
            "text/plain": [
              "     gender  parental level of education  ...  writing score  race/ethnicity\n",
              "0    female                            1  ...             74               1\n",
              "1    female                            4  ...             88               2\n",
              "2    female                            3  ...             93               1\n",
              "3      male                            0  ...             44               0\n",
              "4      male                            4  ...             75               2\n",
              "..      ...                          ...  ...            ...             ...\n",
              "995  female                            3  ...             95               4\n",
              "996    male                            2  ...             55               2\n",
              "997  female                            2  ...             65               2\n",
              "998  female                            4  ...             77               3\n",
              "999  female                            4  ...             86               3\n",
              "\n",
              "[1000 rows x 8 columns]"
            ]
          },
          "metadata": {
            "tags": []
          },
          "execution_count": 15
        }
      ]
    },
    {
      "cell_type": "code",
      "metadata": {
        "colab": {
          "base_uri": "https://localhost:8080/",
          "height": 436
        },
        "id": "q2r6UtY9gN4j",
        "outputId": "8a3d6e32-de24-4100-894d-5de62df867de"
      },
      "source": [
        "gender = ('male','female')\n",
        "ds1 = pd.DataFrame(gender, columns=['gender'])\n",
        "labelencoder = LabelEncoder()\n",
        "ds['gender'] = labelencoder.fit_transform(ds['gender'])\n",
        "ds"
      ],
      "execution_count": null,
      "outputs": [
        {
          "output_type": "execute_result",
          "data": {
            "text/html": [
              "<div>\n",
              "<style scoped>\n",
              "    .dataframe tbody tr th:only-of-type {\n",
              "        vertical-align: middle;\n",
              "    }\n",
              "\n",
              "    .dataframe tbody tr th {\n",
              "        vertical-align: top;\n",
              "    }\n",
              "\n",
              "    .dataframe thead th {\n",
              "        text-align: right;\n",
              "    }\n",
              "</style>\n",
              "<table border=\"1\" class=\"dataframe\">\n",
              "  <thead>\n",
              "    <tr style=\"text-align: right;\">\n",
              "      <th></th>\n",
              "      <th>gender</th>\n",
              "      <th>parental level of education</th>\n",
              "      <th>lunch</th>\n",
              "      <th>test preparation course</th>\n",
              "      <th>math score</th>\n",
              "      <th>reading score</th>\n",
              "      <th>writing score</th>\n",
              "      <th>race/ethnicity</th>\n",
              "    </tr>\n",
              "  </thead>\n",
              "  <tbody>\n",
              "    <tr>\n",
              "      <th>0</th>\n",
              "      <td>0</td>\n",
              "      <td>1</td>\n",
              "      <td>1</td>\n",
              "      <td>1</td>\n",
              "      <td>72</td>\n",
              "      <td>72</td>\n",
              "      <td>74</td>\n",
              "      <td>1</td>\n",
              "    </tr>\n",
              "    <tr>\n",
              "      <th>1</th>\n",
              "      <td>0</td>\n",
              "      <td>4</td>\n",
              "      <td>1</td>\n",
              "      <td>0</td>\n",
              "      <td>69</td>\n",
              "      <td>90</td>\n",
              "      <td>88</td>\n",
              "      <td>2</td>\n",
              "    </tr>\n",
              "    <tr>\n",
              "      <th>2</th>\n",
              "      <td>0</td>\n",
              "      <td>3</td>\n",
              "      <td>1</td>\n",
              "      <td>1</td>\n",
              "      <td>90</td>\n",
              "      <td>95</td>\n",
              "      <td>93</td>\n",
              "      <td>1</td>\n",
              "    </tr>\n",
              "    <tr>\n",
              "      <th>3</th>\n",
              "      <td>1</td>\n",
              "      <td>0</td>\n",
              "      <td>0</td>\n",
              "      <td>1</td>\n",
              "      <td>47</td>\n",
              "      <td>57</td>\n",
              "      <td>44</td>\n",
              "      <td>0</td>\n",
              "    </tr>\n",
              "    <tr>\n",
              "      <th>4</th>\n",
              "      <td>1</td>\n",
              "      <td>4</td>\n",
              "      <td>1</td>\n",
              "      <td>1</td>\n",
              "      <td>76</td>\n",
              "      <td>78</td>\n",
              "      <td>75</td>\n",
              "      <td>2</td>\n",
              "    </tr>\n",
              "    <tr>\n",
              "      <th>...</th>\n",
              "      <td>...</td>\n",
              "      <td>...</td>\n",
              "      <td>...</td>\n",
              "      <td>...</td>\n",
              "      <td>...</td>\n",
              "      <td>...</td>\n",
              "      <td>...</td>\n",
              "      <td>...</td>\n",
              "    </tr>\n",
              "    <tr>\n",
              "      <th>995</th>\n",
              "      <td>0</td>\n",
              "      <td>3</td>\n",
              "      <td>1</td>\n",
              "      <td>0</td>\n",
              "      <td>88</td>\n",
              "      <td>99</td>\n",
              "      <td>95</td>\n",
              "      <td>4</td>\n",
              "    </tr>\n",
              "    <tr>\n",
              "      <th>996</th>\n",
              "      <td>1</td>\n",
              "      <td>2</td>\n",
              "      <td>0</td>\n",
              "      <td>1</td>\n",
              "      <td>62</td>\n",
              "      <td>55</td>\n",
              "      <td>55</td>\n",
              "      <td>2</td>\n",
              "    </tr>\n",
              "    <tr>\n",
              "      <th>997</th>\n",
              "      <td>0</td>\n",
              "      <td>2</td>\n",
              "      <td>0</td>\n",
              "      <td>0</td>\n",
              "      <td>59</td>\n",
              "      <td>71</td>\n",
              "      <td>65</td>\n",
              "      <td>2</td>\n",
              "    </tr>\n",
              "    <tr>\n",
              "      <th>998</th>\n",
              "      <td>0</td>\n",
              "      <td>4</td>\n",
              "      <td>1</td>\n",
              "      <td>0</td>\n",
              "      <td>68</td>\n",
              "      <td>78</td>\n",
              "      <td>77</td>\n",
              "      <td>3</td>\n",
              "    </tr>\n",
              "    <tr>\n",
              "      <th>999</th>\n",
              "      <td>0</td>\n",
              "      <td>4</td>\n",
              "      <td>0</td>\n",
              "      <td>1</td>\n",
              "      <td>77</td>\n",
              "      <td>86</td>\n",
              "      <td>86</td>\n",
              "      <td>3</td>\n",
              "    </tr>\n",
              "  </tbody>\n",
              "</table>\n",
              "<p>1000 rows × 8 columns</p>\n",
              "</div>"
            ],
            "text/plain": [
              "     gender  parental level of education  ...  writing score  race/ethnicity\n",
              "0         0                            1  ...             74               1\n",
              "1         0                            4  ...             88               2\n",
              "2         0                            3  ...             93               1\n",
              "3         1                            0  ...             44               0\n",
              "4         1                            4  ...             75               2\n",
              "..      ...                          ...  ...            ...             ...\n",
              "995       0                            3  ...             95               4\n",
              "996       1                            2  ...             55               2\n",
              "997       0                            2  ...             65               2\n",
              "998       0                            4  ...             77               3\n",
              "999       0                            4  ...             86               3\n",
              "\n",
              "[1000 rows x 8 columns]"
            ]
          },
          "metadata": {
            "tags": []
          },
          "execution_count": 16
        }
      ]
    },
    {
      "cell_type": "code",
      "metadata": {
        "colab": {
          "base_uri": "https://localhost:8080/",
          "height": 314
        },
        "id": "AGFkL1N9gN4j",
        "outputId": "b98ac4d8-2069-417a-bbd7-2c75be93e32a"
      },
      "source": [
        "ds.describe()"
      ],
      "execution_count": null,
      "outputs": [
        {
          "output_type": "execute_result",
          "data": {
            "text/html": [
              "<div>\n",
              "<style scoped>\n",
              "    .dataframe tbody tr th:only-of-type {\n",
              "        vertical-align: middle;\n",
              "    }\n",
              "\n",
              "    .dataframe tbody tr th {\n",
              "        vertical-align: top;\n",
              "    }\n",
              "\n",
              "    .dataframe thead th {\n",
              "        text-align: right;\n",
              "    }\n",
              "</style>\n",
              "<table border=\"1\" class=\"dataframe\">\n",
              "  <thead>\n",
              "    <tr style=\"text-align: right;\">\n",
              "      <th></th>\n",
              "      <th>gender</th>\n",
              "      <th>parental level of education</th>\n",
              "      <th>lunch</th>\n",
              "      <th>test preparation course</th>\n",
              "      <th>math score</th>\n",
              "      <th>reading score</th>\n",
              "      <th>writing score</th>\n",
              "      <th>race/ethnicity</th>\n",
              "    </tr>\n",
              "  </thead>\n",
              "  <tbody>\n",
              "    <tr>\n",
              "      <th>count</th>\n",
              "      <td>1000.000000</td>\n",
              "      <td>1000.000000</td>\n",
              "      <td>1000.000000</td>\n",
              "      <td>1000.000000</td>\n",
              "      <td>1000.00000</td>\n",
              "      <td>1000.000000</td>\n",
              "      <td>1000.000000</td>\n",
              "      <td>1000.000000</td>\n",
              "    </tr>\n",
              "    <tr>\n",
              "      <th>mean</th>\n",
              "      <td>0.482000</td>\n",
              "      <td>2.486000</td>\n",
              "      <td>0.645000</td>\n",
              "      <td>0.642000</td>\n",
              "      <td>66.08900</td>\n",
              "      <td>69.169000</td>\n",
              "      <td>68.054000</td>\n",
              "      <td>2.174000</td>\n",
              "    </tr>\n",
              "    <tr>\n",
              "      <th>std</th>\n",
              "      <td>0.499926</td>\n",
              "      <td>1.829522</td>\n",
              "      <td>0.478753</td>\n",
              "      <td>0.479652</td>\n",
              "      <td>15.16308</td>\n",
              "      <td>14.600192</td>\n",
              "      <td>15.195657</td>\n",
              "      <td>1.157179</td>\n",
              "    </tr>\n",
              "    <tr>\n",
              "      <th>min</th>\n",
              "      <td>0.000000</td>\n",
              "      <td>0.000000</td>\n",
              "      <td>0.000000</td>\n",
              "      <td>0.000000</td>\n",
              "      <td>0.00000</td>\n",
              "      <td>17.000000</td>\n",
              "      <td>10.000000</td>\n",
              "      <td>0.000000</td>\n",
              "    </tr>\n",
              "    <tr>\n",
              "      <th>25%</th>\n",
              "      <td>0.000000</td>\n",
              "      <td>1.000000</td>\n",
              "      <td>0.000000</td>\n",
              "      <td>0.000000</td>\n",
              "      <td>57.00000</td>\n",
              "      <td>59.000000</td>\n",
              "      <td>57.750000</td>\n",
              "      <td>1.000000</td>\n",
              "    </tr>\n",
              "    <tr>\n",
              "      <th>50%</th>\n",
              "      <td>0.000000</td>\n",
              "      <td>2.000000</td>\n",
              "      <td>1.000000</td>\n",
              "      <td>1.000000</td>\n",
              "      <td>66.00000</td>\n",
              "      <td>70.000000</td>\n",
              "      <td>69.000000</td>\n",
              "      <td>2.000000</td>\n",
              "    </tr>\n",
              "    <tr>\n",
              "      <th>75%</th>\n",
              "      <td>1.000000</td>\n",
              "      <td>4.000000</td>\n",
              "      <td>1.000000</td>\n",
              "      <td>1.000000</td>\n",
              "      <td>77.00000</td>\n",
              "      <td>79.000000</td>\n",
              "      <td>79.000000</td>\n",
              "      <td>3.000000</td>\n",
              "    </tr>\n",
              "    <tr>\n",
              "      <th>max</th>\n",
              "      <td>1.000000</td>\n",
              "      <td>5.000000</td>\n",
              "      <td>1.000000</td>\n",
              "      <td>1.000000</td>\n",
              "      <td>100.00000</td>\n",
              "      <td>100.000000</td>\n",
              "      <td>100.000000</td>\n",
              "      <td>4.000000</td>\n",
              "    </tr>\n",
              "  </tbody>\n",
              "</table>\n",
              "</div>"
            ],
            "text/plain": [
              "            gender  parental level of education  ...  writing score  race/ethnicity\n",
              "count  1000.000000                  1000.000000  ...    1000.000000     1000.000000\n",
              "mean      0.482000                     2.486000  ...      68.054000        2.174000\n",
              "std       0.499926                     1.829522  ...      15.195657        1.157179\n",
              "min       0.000000                     0.000000  ...      10.000000        0.000000\n",
              "25%       0.000000                     1.000000  ...      57.750000        1.000000\n",
              "50%       0.000000                     2.000000  ...      69.000000        2.000000\n",
              "75%       1.000000                     4.000000  ...      79.000000        3.000000\n",
              "max       1.000000                     5.000000  ...     100.000000        4.000000\n",
              "\n",
              "[8 rows x 8 columns]"
            ]
          },
          "metadata": {
            "tags": []
          },
          "execution_count": 17
        }
      ]
    },
    {
      "cell_type": "code",
      "metadata": {
        "colab": {
          "base_uri": "https://localhost:8080/"
        },
        "id": "NDFnMVI6gN4l",
        "outputId": "95db047d-4825-4a16-c58e-19aa120651d9"
      },
      "source": [
        "ds.info()"
      ],
      "execution_count": null,
      "outputs": [
        {
          "output_type": "stream",
          "text": [
            "<class 'pandas.core.frame.DataFrame'>\n",
            "RangeIndex: 1000 entries, 0 to 999\n",
            "Data columns (total 8 columns):\n",
            " #   Column                       Non-Null Count  Dtype\n",
            "---  ------                       --------------  -----\n",
            " 0   gender                       1000 non-null   int64\n",
            " 1   parental level of education  1000 non-null   int64\n",
            " 2   lunch                        1000 non-null   int64\n",
            " 3   test preparation course      1000 non-null   int64\n",
            " 4   math score                   1000 non-null   int64\n",
            " 5   reading score                1000 non-null   int64\n",
            " 6   writing score                1000 non-null   int64\n",
            " 7   race/ethnicity               1000 non-null   int64\n",
            "dtypes: int64(8)\n",
            "memory usage: 62.6 KB\n"
          ],
          "name": "stdout"
        }
      ]
    },
    {
      "cell_type": "code",
      "metadata": {
        "colab": {
          "base_uri": "https://localhost:8080/",
          "height": 454
        },
        "id": "EQd5O_9SgN4l",
        "outputId": "7e3c370e-47ad-44e8-f229-122a7d7abeaf"
      },
      "source": [
        "sns.factorplot(x='gender',data=ds,kind='count')"
      ],
      "execution_count": null,
      "outputs": [
        {
          "output_type": "stream",
          "text": [
            "/usr/local/lib/python3.6/dist-packages/seaborn/categorical.py:3714: UserWarning: The `factorplot` function has been renamed to `catplot`. The original name will be removed in a future release. Please update your code. Note that the default `kind` in `factorplot` (`'point'`) has changed `'strip'` in `catplot`.\n",
            "  warnings.warn(msg)\n"
          ],
          "name": "stderr"
        },
        {
          "output_type": "execute_result",
          "data": {
            "text/plain": [
              "<seaborn.axisgrid.FacetGrid at 0x7fa042129c50>"
            ]
          },
          "metadata": {
            "tags": []
          },
          "execution_count": 19
        },
        {
          "output_type": "display_data",
          "data": {
            "image/png": "[encoded data removed]",
            "text/plain": [
              "<Figure size 360x360 with 1 Axes>"
            ]
          },
          "metadata": {
            "tags": [],
            "needs_background": "light"
          }
        }
      ]
    },
    {
      "cell_type": "code",
      "metadata": {
        "colab": {
          "base_uri": "https://localhost:8080/",
          "height": 454
        },
        "id": "gkPw0SevgN4m",
        "outputId": "d31dc328-32e6-4ed4-d520-20b31510b8a3"
      },
      "source": [
        "sns.factorplot(x='lunch',data=ds,kind='count')"
      ],
      "execution_count": null,
      "outputs": [
        {
          "output_type": "stream",
          "text": [
            "/usr/local/lib/python3.6/dist-packages/seaborn/categorical.py:3714: UserWarning: The `factorplot` function has been renamed to `catplot`. The original name will be removed in a future release. Please update your code. Note that the default `kind` in `factorplot` (`'point'`) has changed `'strip'` in `catplot`.\n",
            "  warnings.warn(msg)\n"
          ],
          "name": "stderr"
        },
        {
          "output_type": "execute_result",
          "data": {
            "text/plain": [
              "<seaborn.axisgrid.FacetGrid at 0x7fa042129a20>"
            ]
          },
          "metadata": {
            "tags": []
          },
          "execution_count": 20
        },
        {
          "output_type": "display_data",
          "data": {
            "image/png": "[encoded data removed]",
            "text/plain": [
              "<Figure size 360x360 with 1 Axes>"
            ]
          },
          "metadata": {
            "tags": [],
            "needs_background": "light"
          }
        }
      ]
    },
    {
      "cell_type": "code",
      "metadata": {
        "colab": {
          "base_uri": "https://localhost:8080/",
          "height": 454
        },
        "id": "uKctO72KgN4n",
        "outputId": "c36a73bc-89a9-44a5-ebc3-4c3dc6a21089"
      },
      "source": [
        "sns.factorplot(x='test preparation course',data=ds,kind='count')"
      ],
      "execution_count": null,
      "outputs": [
        {
          "output_type": "stream",
          "text": [
            "/usr/local/lib/python3.6/dist-packages/seaborn/categorical.py:3714: UserWarning: The `factorplot` function has been renamed to `catplot`. The original name will be removed in a future release. Please update your code. Note that the default `kind` in `factorplot` (`'point'`) has changed `'strip'` in `catplot`.\n",
            "  warnings.warn(msg)\n"
          ],
          "name": "stderr"
        },
        {
          "output_type": "execute_result",
          "data": {
            "text/plain": [
              "<seaborn.axisgrid.FacetGrid at 0x7fa042129e48>"
            ]
          },
          "metadata": {
            "tags": []
          },
          "execution_count": 21
        },
        {
          "output_type": "display_data",
          "data": {
            "image/png": "[encoded data removed]",
            "text/plain": [
              "<Figure size 360x360 with 1 Axes>"
            ]
          },
          "metadata": {
            "tags": [],
            "needs_background": "light"
          }
        }
      ]
    },
    {
      "cell_type": "code",
      "metadata": {
        "colab": {
          "base_uri": "https://localhost:8080/",
          "height": 454
        },
        "id": "l0tjdoLzgN4o",
        "outputId": "4393bcef-fa84-4f68-984b-c2f1311d0d0f"
      },
      "source": [
        "sns.factorplot(x='race/ethnicity',data=ds,kind='count')"
      ],
      "execution_count": null,
      "outputs": [
        {
          "output_type": "stream",
          "text": [
            "/usr/local/lib/python3.6/dist-packages/seaborn/categorical.py:3714: UserWarning: The `factorplot` function has been renamed to `catplot`. The original name will be removed in a future release. Please update your code. Note that the default `kind` in `factorplot` (`'point'`) has changed `'strip'` in `catplot`.\n",
            "  warnings.warn(msg)\n"
          ],
          "name": "stderr"
        },
        {
          "output_type": "execute_result",
          "data": {
            "text/plain": [
              "<seaborn.axisgrid.FacetGrid at 0x7fa03933f7f0>"
            ]
          },
          "metadata": {
            "tags": []
          },
          "execution_count": 22
        },
        {
          "output_type": "display_data",
          "data": {
            "image/png": "[encoded data removed]",
            "text/plain": [
              "<Figure size 360x360 with 1 Axes>"
            ]
          },
          "metadata": {
            "tags": [],
            "needs_background": "light"
          }
        }
      ]
    },
    {
      "cell_type": "code",
      "metadata": {
        "colab": {
          "base_uri": "https://localhost:8080/",
          "height": 454
        },
        "id": "Vbl4ZNdQgN4p",
        "outputId": "ca19b906-4592-4a08-a21e-eed9806d0bc1"
      },
      "source": [
        "sns.factorplot(x='race/ethnicity',data=ds,kind='count')"
      ],
      "execution_count": null,
      "outputs": [
        {
          "output_type": "stream",
          "text": [
            "/usr/local/lib/python3.6/dist-packages/seaborn/categorical.py:3714: UserWarning: The `factorplot` function has been renamed to `catplot`. The original name will be removed in a future release. Please update your code. Note that the default `kind` in `factorplot` (`'point'`) has changed `'strip'` in `catplot`.\n",
            "  warnings.warn(msg)\n"
          ],
          "name": "stderr"
        },
        {
          "output_type": "execute_result",
          "data": {
            "text/plain": [
              "<seaborn.axisgrid.FacetGrid at 0x7fa042042dd8>"
            ]
          },
          "metadata": {
            "tags": []
          },
          "execution_count": 23
        },
        {
          "output_type": "display_data",
          "data": {
            "image/png": "[encoded data removed]",
            "text/plain": [
              "<Figure size 360x360 with 1 Axes>"
            ]
          },
          "metadata": {
            "tags": [],
            "needs_background": "light"
          }
        }
      ]
    },
    {
      "cell_type": "code",
      "metadata": {
        "colab": {
          "base_uri": "https://localhost:8080/",
          "height": 365
        },
        "id": "aFDssGUQgN4q",
        "outputId": "3e29e22f-b1fd-480e-c543-80bcdfb1cc47"
      },
      "source": [
        "corr=ds.corr()\n",
        "corr"
      ],
      "execution_count": null,
      "outputs": [
        {
          "output_type": "execute_result",
          "data": {
            "text/html": [
              "<div>\n",
              "<style scoped>\n",
              "    .dataframe tbody tr th:only-of-type {\n",
              "        vertical-align: middle;\n",
              "    }\n",
              "\n",
              "    .dataframe tbody tr th {\n",
              "        vertical-align: top;\n",
              "    }\n",
              "\n",
              "    .dataframe thead th {\n",
              "        text-align: right;\n",
              "    }\n",
              "</style>\n",
              "<table border=\"1\" class=\"dataframe\">\n",
              "  <thead>\n",
              "    <tr style=\"text-align: right;\">\n",
              "      <th></th>\n",
              "      <th>gender</th>\n",
              "      <th>parental level of education</th>\n",
              "      <th>lunch</th>\n",
              "      <th>test preparation course</th>\n",
              "      <th>math score</th>\n",
              "      <th>reading score</th>\n",
              "      <th>writing score</th>\n",
              "      <th>race/ethnicity</th>\n",
              "    </tr>\n",
              "  </thead>\n",
              "  <tbody>\n",
              "    <tr>\n",
              "      <th>gender</th>\n",
              "      <td>1.000000</td>\n",
              "      <td>0.001913</td>\n",
              "      <td>0.021372</td>\n",
              "      <td>-0.006028</td>\n",
              "      <td>0.167982</td>\n",
              "      <td>-0.244313</td>\n",
              "      <td>-0.301225</td>\n",
              "      <td>-0.001502</td>\n",
              "    </tr>\n",
              "    <tr>\n",
              "      <th>parental level of education</th>\n",
              "      <td>0.001913</td>\n",
              "      <td>1.000000</td>\n",
              "      <td>0.006320</td>\n",
              "      <td>-0.023968</td>\n",
              "      <td>-0.068279</td>\n",
              "      <td>-0.072444</td>\n",
              "      <td>-0.084299</td>\n",
              "      <td>-0.031946</td>\n",
              "    </tr>\n",
              "    <tr>\n",
              "      <th>lunch</th>\n",
              "      <td>0.021372</td>\n",
              "      <td>0.006320</td>\n",
              "      <td>1.000000</td>\n",
              "      <td>0.017044</td>\n",
              "      <td>0.350877</td>\n",
              "      <td>0.229560</td>\n",
              "      <td>0.245769</td>\n",
              "      <td>0.046563</td>\n",
              "    </tr>\n",
              "    <tr>\n",
              "      <th>test preparation course</th>\n",
              "      <td>-0.006028</td>\n",
              "      <td>-0.023968</td>\n",
              "      <td>0.017044</td>\n",
              "      <td>1.000000</td>\n",
              "      <td>-0.177702</td>\n",
              "      <td>-0.241780</td>\n",
              "      <td>-0.312946</td>\n",
              "      <td>-0.017508</td>\n",
              "    </tr>\n",
              "    <tr>\n",
              "      <th>math score</th>\n",
              "      <td>0.167982</td>\n",
              "      <td>-0.068279</td>\n",
              "      <td>0.350877</td>\n",
              "      <td>-0.177702</td>\n",
              "      <td>1.000000</td>\n",
              "      <td>0.817580</td>\n",
              "      <td>0.802642</td>\n",
              "      <td>0.216415</td>\n",
              "    </tr>\n",
              "    <tr>\n",
              "      <th>reading score</th>\n",
              "      <td>-0.244313</td>\n",
              "      <td>-0.072444</td>\n",
              "      <td>0.229560</td>\n",
              "      <td>-0.241780</td>\n",
              "      <td>0.817580</td>\n",
              "      <td>1.000000</td>\n",
              "      <td>0.954598</td>\n",
              "      <td>0.145253</td>\n",
              "    </tr>\n",
              "    <tr>\n",
              "      <th>writing score</th>\n",
              "      <td>-0.301225</td>\n",
              "      <td>-0.084299</td>\n",
              "      <td>0.245769</td>\n",
              "      <td>-0.312946</td>\n",
              "      <td>0.802642</td>\n",
              "      <td>0.954598</td>\n",
              "      <td>1.000000</td>\n",
              "      <td>0.165691</td>\n",
              "    </tr>\n",
              "    <tr>\n",
              "      <th>race/ethnicity</th>\n",
              "      <td>-0.001502</td>\n",
              "      <td>-0.031946</td>\n",
              "      <td>0.046563</td>\n",
              "      <td>-0.017508</td>\n",
              "      <td>0.216415</td>\n",
              "      <td>0.145253</td>\n",
              "      <td>0.165691</td>\n",
              "      <td>1.000000</td>\n",
              "    </tr>\n",
              "  </tbody>\n",
              "</table>\n",
              "</div>"
            ],
            "text/plain": [
              "                               gender  ...  race/ethnicity\n",
              "gender                       1.000000  ...       -0.001502\n",
              "parental level of education  0.001913  ...       -0.031946\n",
              "lunch                        0.021372  ...        0.046563\n",
              "test preparation course     -0.006028  ...       -0.017508\n",
              "math score                   0.167982  ...        0.216415\n",
              "reading score               -0.244313  ...        0.145253\n",
              "writing score               -0.301225  ...        0.165691\n",
              "race/ethnicity              -0.001502  ...        1.000000\n",
              "\n",
              "[8 rows x 8 columns]"
            ]
          },
          "metadata": {
            "tags": []
          },
          "execution_count": 24
        }
      ]
    },
    {
      "cell_type": "code",
      "metadata": {
        "colab": {
          "background_save": true,
          "base_uri": "https://localhost:8080/",
          "height": 1000
        },
        "id": "zm2nmWHagN4q",
        "outputId": "48e0250d-a1a4-418b-b82e-226c6bd887a0"
      },
      "source": [
        "sns.pairplot(data=ds)"
      ],
      "execution_count": null,
      "outputs": [
        {
          "output_type": "execute_result",
          "data": {
            "text/plain": [
              "<seaborn.axisgrid.PairGrid at 0x7f5d42177da0>"
            ]
          },
          "metadata": {
            "tags": []
          },
          "execution_count": 0
        },
        {
          "output_type": "display_data",
          "data": {
            "image/png": "[encoded data removed]",
            "text/plain": [
              "<Figure size 1440x1440 with 72 Axes>"
            ]
          },
          "metadata": {
            "tags": []
          }
        }
      ]
    },
    {
      "cell_type": "code",
      "metadata": {
        "id": "pEIivjU1gN4r"
      },
      "source": [
        "x=ds.iloc[:,:-1].values\n",
        "y=ds.iloc[:,-1].values"
      ],
      "execution_count": null,
      "outputs": []
    },
    {
      "cell_type": "code",
      "metadata": {
        "colab": {
          "base_uri": "https://localhost:8080/",
          "height": 384
        },
        "id": "ql3m5JY5gN4s",
        "outputId": "c0211dfd-a98f-4402-ee1d-9fdfdaf2fba3"
      },
      "source": [
        "from sklearn.feature_selection import SelectKBest\n",
        "from sklearn.feature_selection import f_classif\n",
        "\n",
        "fs = SelectKBest(score_func=f_classif, k='all')\n",
        "fs1 = fs.fit_transform(x,y)\n",
        "for i in range(len(fs.scores_)):\n",
        "    print('Feature %d: %f' % (i, fs.scores_[i]))\n",
        "plt.bar([i for i in range(len(fs.scores_))], fs.scores_)\n",
        "plt.show()"
      ],
      "execution_count": null,
      "outputs": [
        {
          "output_type": "stream",
          "text": [
            "Feature 0: 2.266019\n",
            "Feature 1: 2.487511\n",
            "Feature 2: 0.859242\n",
            "Feature 3: 1.372551\n",
            "Feature 4: 14.593885\n",
            "Feature 5: 5.621659\n",
            "Feature 6: 7.162415\n"
          ],
          "name": "stdout"
        },
        {
          "output_type": "display_data",
          "data": {
            "image/png": "[encoded data removed]",
            "text/plain": [
              "<Figure size 432x288 with 1 Axes>"
            ]
          },
          "metadata": {
            "tags": [],
            "needs_background": "light"
          }
        }
      ]
    },
    {
      "cell_type": "code",
      "metadata": {
        "colab": {
          "base_uri": "https://localhost:8080/"
        },
        "id": "Bb6msoXRgN4t",
        "outputId": "1437e52e-817a-4204-e126-bd43aca2e8c6"
      },
      "source": [
        "fs.scores_ > 5.0"
      ],
      "execution_count": null,
      "outputs": [
        {
          "output_type": "execute_result",
          "data": {
            "text/plain": [
              "array([False, False, False, False,  True,  True,  True])"
            ]
          },
          "metadata": {
            "tags": []
          },
          "execution_count": 27
        }
      ]
    },
    {
      "cell_type": "code",
      "metadata": {
        "colab": {
          "base_uri": "https://localhost:8080/",
          "height": 365
        },
        "id": "5OkR_OHKgN4u",
        "outputId": "01189ffb-488c-419d-ff8c-c21f01b713ec"
      },
      "source": [
        "corr"
      ],
      "execution_count": null,
      "outputs": [
        {
          "output_type": "execute_result",
          "data": {
            "text/html": [
              "<div>\n",
              "<style scoped>\n",
              "    .dataframe tbody tr th:only-of-type {\n",
              "        vertical-align: middle;\n",
              "    }\n",
              "\n",
              "    .dataframe tbody tr th {\n",
              "        vertical-align: top;\n",
              "    }\n",
              "\n",
              "    .dataframe thead th {\n",
              "        text-align: right;\n",
              "    }\n",
              "</style>\n",
              "<table border=\"1\" class=\"dataframe\">\n",
              "  <thead>\n",
              "    <tr style=\"text-align: right;\">\n",
              "      <th></th>\n",
              "      <th>gender</th>\n",
              "      <th>parental level of education</th>\n",
              "      <th>lunch</th>\n",
              "      <th>test preparation course</th>\n",
              "      <th>math score</th>\n",
              "      <th>reading score</th>\n",
              "      <th>writing score</th>\n",
              "      <th>race/ethnicity</th>\n",
              "    </tr>\n",
              "  </thead>\n",
              "  <tbody>\n",
              "    <tr>\n",
              "      <th>gender</th>\n",
              "      <td>1.000000</td>\n",
              "      <td>0.001913</td>\n",
              "      <td>0.021372</td>\n",
              "      <td>-0.006028</td>\n",
              "      <td>0.167982</td>\n",
              "      <td>-0.244313</td>\n",
              "      <td>-0.301225</td>\n",
              "      <td>-0.001502</td>\n",
              "    </tr>\n",
              "    <tr>\n",
              "      <th>parental level of education</th>\n",
              "      <td>0.001913</td>\n",
              "      <td>1.000000</td>\n",
              "      <td>0.006320</td>\n",
              "      <td>-0.023968</td>\n",
              "      <td>-0.068279</td>\n",
              "      <td>-0.072444</td>\n",
              "      <td>-0.084299</td>\n",
              "      <td>-0.031946</td>\n",
              "    </tr>\n",
              "    <tr>\n",
              "      <th>lunch</th>\n",
              "      <td>0.021372</td>\n",
              "      <td>0.006320</td>\n",
              "      <td>1.000000</td>\n",
              "      <td>0.017044</td>\n",
              "      <td>0.350877</td>\n",
              "      <td>0.229560</td>\n",
              "      <td>0.245769</td>\n",
              "      <td>0.046563</td>\n",
              "    </tr>\n",
              "    <tr>\n",
              "      <th>test preparation course</th>\n",
              "      <td>-0.006028</td>\n",
              "      <td>-0.023968</td>\n",
              "      <td>0.017044</td>\n",
              "      <td>1.000000</td>\n",
              "      <td>-0.177702</td>\n",
              "      <td>-0.241780</td>\n",
              "      <td>-0.312946</td>\n",
              "      <td>-0.017508</td>\n",
              "    </tr>\n",
              "    <tr>\n",
              "      <th>math score</th>\n",
              "      <td>0.167982</td>\n",
              "      <td>-0.068279</td>\n",
              "      <td>0.350877</td>\n",
              "      <td>-0.177702</td>\n",
              "      <td>1.000000</td>\n",
              "      <td>0.817580</td>\n",
              "      <td>0.802642</td>\n",
              "      <td>0.216415</td>\n",
              "    </tr>\n",
              "    <tr>\n",
              "      <th>reading score</th>\n",
              "      <td>-0.244313</td>\n",
              "      <td>-0.072444</td>\n",
              "      <td>0.229560</td>\n",
              "      <td>-0.241780</td>\n",
              "      <td>0.817580</td>\n",
              "      <td>1.000000</td>\n",
              "      <td>0.954598</td>\n",
              "      <td>0.145253</td>\n",
              "    </tr>\n",
              "    <tr>\n",
              "      <th>writing score</th>\n",
              "      <td>-0.301225</td>\n",
              "      <td>-0.084299</td>\n",
              "      <td>0.245769</td>\n",
              "      <td>-0.312946</td>\n",
              "      <td>0.802642</td>\n",
              "      <td>0.954598</td>\n",
              "      <td>1.000000</td>\n",
              "      <td>0.165691</td>\n",
              "    </tr>\n",
              "    <tr>\n",
              "      <th>race/ethnicity</th>\n",
              "      <td>-0.001502</td>\n",
              "      <td>-0.031946</td>\n",
              "      <td>0.046563</td>\n",
              "      <td>-0.017508</td>\n",
              "      <td>0.216415</td>\n",
              "      <td>0.145253</td>\n",
              "      <td>0.165691</td>\n",
              "      <td>1.000000</td>\n",
              "    </tr>\n",
              "  </tbody>\n",
              "</table>\n",
              "</div>"
            ],
            "text/plain": [
              "                               gender  ...  race/ethnicity\n",
              "gender                       1.000000  ...       -0.001502\n",
              "parental level of education  0.001913  ...       -0.031946\n",
              "lunch                        0.021372  ...        0.046563\n",
              "test preparation course     -0.006028  ...       -0.017508\n",
              "math score                   0.167982  ...        0.216415\n",
              "reading score               -0.244313  ...        0.145253\n",
              "writing score               -0.301225  ...        0.165691\n",
              "race/ethnicity              -0.001502  ...        1.000000\n",
              "\n",
              "[8 rows x 8 columns]"
            ]
          },
          "metadata": {
            "tags": []
          },
          "execution_count": 28
        }
      ]
    },
    {
      "cell_type": "code",
      "metadata": {
        "colab": {
          "base_uri": "https://localhost:8080/",
          "height": 410
        },
        "id": "lusj2wtfgN4v",
        "outputId": "7f4c9808-f84b-4122-e5e1-872c09698ead"
      },
      "source": [
        "sns.heatmap(corr,xticklabels=corr.columns,yticklabels=corr.columns,annot=True)"
      ],
      "execution_count": null,
      "outputs": [
        {
          "output_type": "execute_result",
          "data": {
            "text/plain": [
              "<matplotlib.axes._subplots.AxesSubplot at 0x7fa03935db00>"
            ]
          },
          "metadata": {
            "tags": []
          },
          "execution_count": 29
        },
        {
          "output_type": "display_data",
          "data": {
            "image/png": "[encoded data removed]",
            "text/plain": [
              "<Figure size 432x288 with 2 Axes>"
            ]
          },
          "metadata": {
            "tags": [],
            "needs_background": "light"
          }
        }
      ]
    },
    {
      "cell_type": "code",
      "metadata": {
        "colab": {
          "base_uri": "https://localhost:8080/",
          "height": 436
        },
        "id": "PTDlmrfegN4v",
        "scrolled": true,
        "outputId": "342b4b0a-1784-4867-e67e-7f98ca4c6612"
      },
      "source": [
        "ds"
      ],
      "execution_count": null,
      "outputs": [
        {
          "output_type": "execute_result",
          "data": {
            "text/html": [
              "<div>\n",
              "<style scoped>\n",
              "    .dataframe tbody tr th:only-of-type {\n",
              "        vertical-align: middle;\n",
              "    }\n",
              "\n",
              "    .dataframe tbody tr th {\n",
              "        vertical-align: top;\n",
              "    }\n",
              "\n",
              "    .dataframe thead th {\n",
              "        text-align: right;\n",
              "    }\n",
              "</style>\n",
              "<table border=\"1\" class=\"dataframe\">\n",
              "  <thead>\n",
              "    <tr style=\"text-align: right;\">\n",
              "      <th></th>\n",
              "      <th>gender</th>\n",
              "      <th>parental level of education</th>\n",
              "      <th>lunch</th>\n",
              "      <th>test preparation course</th>\n",
              "      <th>math score</th>\n",
              "      <th>reading score</th>\n",
              "      <th>writing score</th>\n",
              "      <th>race/ethnicity</th>\n",
              "    </tr>\n",
              "  </thead>\n",
              "  <tbody>\n",
              "    <tr>\n",
              "      <th>0</th>\n",
              "      <td>0</td>\n",
              "      <td>1</td>\n",
              "      <td>1</td>\n",
              "      <td>1</td>\n",
              "      <td>72</td>\n",
              "      <td>72</td>\n",
              "      <td>74</td>\n",
              "      <td>1</td>\n",
              "    </tr>\n",
              "    <tr>\n",
              "      <th>1</th>\n",
              "      <td>0</td>\n",
              "      <td>4</td>\n",
              "      <td>1</td>\n",
              "      <td>0</td>\n",
              "      <td>69</td>\n",
              "      <td>90</td>\n",
              "      <td>88</td>\n",
              "      <td>2</td>\n",
              "    </tr>\n",
              "    <tr>\n",
              "      <th>2</th>\n",
              "      <td>0</td>\n",
              "      <td>3</td>\n",
              "      <td>1</td>\n",
              "      <td>1</td>\n",
              "      <td>90</td>\n",
              "      <td>95</td>\n",
              "      <td>93</td>\n",
              "      <td>1</td>\n",
              "    </tr>\n",
              "    <tr>\n",
              "      <th>3</th>\n",
              "      <td>1</td>\n",
              "      <td>0</td>\n",
              "      <td>0</td>\n",
              "      <td>1</td>\n",
              "      <td>47</td>\n",
              "      <td>57</td>\n",
              "      <td>44</td>\n",
              "      <td>0</td>\n",
              "    </tr>\n",
              "    <tr>\n",
              "      <th>4</th>\n",
              "      <td>1</td>\n",
              "      <td>4</td>\n",
              "      <td>1</td>\n",
              "      <td>1</td>\n",
              "      <td>76</td>\n",
              "      <td>78</td>\n",
              "      <td>75</td>\n",
              "      <td>2</td>\n",
              "    </tr>\n",
              "    <tr>\n",
              "      <th>...</th>\n",
              "      <td>...</td>\n",
              "      <td>...</td>\n",
              "      <td>...</td>\n",
              "      <td>...</td>\n",
              "      <td>...</td>\n",
              "      <td>...</td>\n",
              "      <td>...</td>\n",
              "      <td>...</td>\n",
              "    </tr>\n",
              "    <tr>\n",
              "      <th>995</th>\n",
              "      <td>0</td>\n",
              "      <td>3</td>\n",
              "      <td>1</td>\n",
              "      <td>0</td>\n",
              "      <td>88</td>\n",
              "      <td>99</td>\n",
              "      <td>95</td>\n",
              "      <td>4</td>\n",
              "    </tr>\n",
              "    <tr>\n",
              "      <th>996</th>\n",
              "      <td>1</td>\n",
              "      <td>2</td>\n",
              "      <td>0</td>\n",
              "      <td>1</td>\n",
              "      <td>62</td>\n",
              "      <td>55</td>\n",
              "      <td>55</td>\n",
              "      <td>2</td>\n",
              "    </tr>\n",
              "    <tr>\n",
              "      <th>997</th>\n",
              "      <td>0</td>\n",
              "      <td>2</td>\n",
              "      <td>0</td>\n",
              "      <td>0</td>\n",
              "      <td>59</td>\n",
              "      <td>71</td>\n",
              "      <td>65</td>\n",
              "      <td>2</td>\n",
              "    </tr>\n",
              "    <tr>\n",
              "      <th>998</th>\n",
              "      <td>0</td>\n",
              "      <td>4</td>\n",
              "      <td>1</td>\n",
              "      <td>0</td>\n",
              "      <td>68</td>\n",
              "      <td>78</td>\n",
              "      <td>77</td>\n",
              "      <td>3</td>\n",
              "    </tr>\n",
              "    <tr>\n",
              "      <th>999</th>\n",
              "      <td>0</td>\n",
              "      <td>4</td>\n",
              "      <td>0</td>\n",
              "      <td>1</td>\n",
              "      <td>77</td>\n",
              "      <td>86</td>\n",
              "      <td>86</td>\n",
              "      <td>3</td>\n",
              "    </tr>\n",
              "  </tbody>\n",
              "</table>\n",
              "<p>1000 rows × 8 columns</p>\n",
              "</div>"
            ],
            "text/plain": [
              "     gender  parental level of education  ...  writing score  race/ethnicity\n",
              "0         0                            1  ...             74               1\n",
              "1         0                            4  ...             88               2\n",
              "2         0                            3  ...             93               1\n",
              "3         1                            0  ...             44               0\n",
              "4         1                            4  ...             75               2\n",
              "..      ...                          ...  ...            ...             ...\n",
              "995       0                            3  ...             95               4\n",
              "996       1                            2  ...             55               2\n",
              "997       0                            2  ...             65               2\n",
              "998       0                            4  ...             77               3\n",
              "999       0                            4  ...             86               3\n",
              "\n",
              "[1000 rows x 8 columns]"
            ]
          },
          "metadata": {
            "tags": []
          },
          "execution_count": 30
        }
      ]
    },
    {
      "cell_type": "code",
      "metadata": {
        "colab": {
          "base_uri": "https://localhost:8080/",
          "height": 365
        },
        "id": "zeGaD5OSgN4w",
        "outputId": "440eaecd-2fed-4e9d-9650-f92468a2f8a0"
      },
      "source": [
        "corr"
      ],
      "execution_count": null,
      "outputs": [
        {
          "output_type": "execute_result",
          "data": {
            "text/html": [
              "<div>\n",
              "<style scoped>\n",
              "    .dataframe tbody tr th:only-of-type {\n",
              "        vertical-align: middle;\n",
              "    }\n",
              "\n",
              "    .dataframe tbody tr th {\n",
              "        vertical-align: top;\n",
              "    }\n",
              "\n",
              "    .dataframe thead th {\n",
              "        text-align: right;\n",
              "    }\n",
              "</style>\n",
              "<table border=\"1\" class=\"dataframe\">\n",
              "  <thead>\n",
              "    <tr style=\"text-align: right;\">\n",
              "      <th></th>\n",
              "      <th>gender</th>\n",
              "      <th>parental level of education</th>\n",
              "      <th>lunch</th>\n",
              "      <th>test preparation course</th>\n",
              "      <th>math score</th>\n",
              "      <th>reading score</th>\n",
              "      <th>writing score</th>\n",
              "      <th>race/ethnicity</th>\n",
              "    </tr>\n",
              "  </thead>\n",
              "  <tbody>\n",
              "    <tr>\n",
              "      <th>gender</th>\n",
              "      <td>1.000000</td>\n",
              "      <td>0.001913</td>\n",
              "      <td>0.021372</td>\n",
              "      <td>-0.006028</td>\n",
              "      <td>0.167982</td>\n",
              "      <td>-0.244313</td>\n",
              "      <td>-0.301225</td>\n",
              "      <td>-0.001502</td>\n",
              "    </tr>\n",
              "    <tr>\n",
              "      <th>parental level of education</th>\n",
              "      <td>0.001913</td>\n",
              "      <td>1.000000</td>\n",
              "      <td>0.006320</td>\n",
              "      <td>-0.023968</td>\n",
              "      <td>-0.068279</td>\n",
              "      <td>-0.072444</td>\n",
              "      <td>-0.084299</td>\n",
              "      <td>-0.031946</td>\n",
              "    </tr>\n",
              "    <tr>\n",
              "      <th>lunch</th>\n",
              "      <td>0.021372</td>\n",
              "      <td>0.006320</td>\n",
              "      <td>1.000000</td>\n",
              "      <td>0.017044</td>\n",
              "      <td>0.350877</td>\n",
              "      <td>0.229560</td>\n",
              "      <td>0.245769</td>\n",
              "      <td>0.046563</td>\n",
              "    </tr>\n",
              "    <tr>\n",
              "      <th>test preparation course</th>\n",
              "      <td>-0.006028</td>\n",
              "      <td>-0.023968</td>\n",
              "      <td>0.017044</td>\n",
              "      <td>1.000000</td>\n",
              "      <td>-0.177702</td>\n",
              "      <td>-0.241780</td>\n",
              "      <td>-0.312946</td>\n",
              "      <td>-0.017508</td>\n",
              "    </tr>\n",
              "    <tr>\n",
              "      <th>math score</th>\n",
              "      <td>0.167982</td>\n",
              "      <td>-0.068279</td>\n",
              "      <td>0.350877</td>\n",
              "      <td>-0.177702</td>\n",
              "      <td>1.000000</td>\n",
              "      <td>0.817580</td>\n",
              "      <td>0.802642</td>\n",
              "      <td>0.216415</td>\n",
              "    </tr>\n",
              "    <tr>\n",
              "      <th>reading score</th>\n",
              "      <td>-0.244313</td>\n",
              "      <td>-0.072444</td>\n",
              "      <td>0.229560</td>\n",
              "      <td>-0.241780</td>\n",
              "      <td>0.817580</td>\n",
              "      <td>1.000000</td>\n",
              "      <td>0.954598</td>\n",
              "      <td>0.145253</td>\n",
              "    </tr>\n",
              "    <tr>\n",
              "      <th>writing score</th>\n",
              "      <td>-0.301225</td>\n",
              "      <td>-0.084299</td>\n",
              "      <td>0.245769</td>\n",
              "      <td>-0.312946</td>\n",
              "      <td>0.802642</td>\n",
              "      <td>0.954598</td>\n",
              "      <td>1.000000</td>\n",
              "      <td>0.165691</td>\n",
              "    </tr>\n",
              "    <tr>\n",
              "      <th>race/ethnicity</th>\n",
              "      <td>-0.001502</td>\n",
              "      <td>-0.031946</td>\n",
              "      <td>0.046563</td>\n",
              "      <td>-0.017508</td>\n",
              "      <td>0.216415</td>\n",
              "      <td>0.145253</td>\n",
              "      <td>0.165691</td>\n",
              "      <td>1.000000</td>\n",
              "    </tr>\n",
              "  </tbody>\n",
              "</table>\n",
              "</div>"
            ],
            "text/plain": [
              "                               gender  ...  race/ethnicity\n",
              "gender                       1.000000  ...       -0.001502\n",
              "parental level of education  0.001913  ...       -0.031946\n",
              "lunch                        0.021372  ...        0.046563\n",
              "test preparation course     -0.006028  ...       -0.017508\n",
              "math score                   0.167982  ...        0.216415\n",
              "reading score               -0.244313  ...        0.145253\n",
              "writing score               -0.301225  ...        0.165691\n",
              "race/ethnicity              -0.001502  ...        1.000000\n",
              "\n",
              "[8 rows x 8 columns]"
            ]
          },
          "metadata": {
            "tags": []
          },
          "execution_count": 31
        }
      ]
    },
    {
      "cell_type": "code",
      "metadata": {
        "colab": {
          "base_uri": "https://localhost:8080/",
          "height": 419
        },
        "id": "g7ceL97EgdjD",
        "outputId": "bf386ab8-1893-4486-8e69-8faad44bd9ac"
      },
      "source": [
        "\n",
        "del ds['parental level of education']\n",
        "del ds['test preparation course']\n",
        "ds"
      ],
      "execution_count": null,
      "outputs": [
        {
          "output_type": "execute_result",
          "data": {
            "text/html": [
              "<div>\n",
              "<style scoped>\n",
              "    .dataframe tbody tr th:only-of-type {\n",
              "        vertical-align: middle;\n",
              "    }\n",
              "\n",
              "    .dataframe tbody tr th {\n",
              "        vertical-align: top;\n",
              "    }\n",
              "\n",
              "    .dataframe thead th {\n",
              "        text-align: right;\n",
              "    }\n",
              "</style>\n",
              "<table border=\"1\" class=\"dataframe\">\n",
              "  <thead>\n",
              "    <tr style=\"text-align: right;\">\n",
              "      <th></th>\n",
              "      <th>gender</th>\n",
              "      <th>lunch</th>\n",
              "      <th>math score</th>\n",
              "      <th>reading score</th>\n",
              "      <th>writing score</th>\n",
              "      <th>race/ethnicity</th>\n",
              "    </tr>\n",
              "  </thead>\n",
              "  <tbody>\n",
              "    <tr>\n",
              "      <th>0</th>\n",
              "      <td>0</td>\n",
              "      <td>1</td>\n",
              "      <td>72</td>\n",
              "      <td>72</td>\n",
              "      <td>74</td>\n",
              "      <td>1</td>\n",
              "    </tr>\n",
              "    <tr>\n",
              "      <th>1</th>\n",
              "      <td>0</td>\n",
              "      <td>1</td>\n",
              "      <td>69</td>\n",
              "      <td>90</td>\n",
              "      <td>88</td>\n",
              "      <td>2</td>\n",
              "    </tr>\n",
              "    <tr>\n",
              "      <th>2</th>\n",
              "      <td>0</td>\n",
              "      <td>1</td>\n",
              "      <td>90</td>\n",
              "      <td>95</td>\n",
              "      <td>93</td>\n",
              "      <td>1</td>\n",
              "    </tr>\n",
              "    <tr>\n",
              "      <th>3</th>\n",
              "      <td>1</td>\n",
              "      <td>0</td>\n",
              "      <td>47</td>\n",
              "      <td>57</td>\n",
              "      <td>44</td>\n",
              "      <td>0</td>\n",
              "    </tr>\n",
              "    <tr>\n",
              "      <th>4</th>\n",
              "      <td>1</td>\n",
              "      <td>1</td>\n",
              "      <td>76</td>\n",
              "      <td>78</td>\n",
              "      <td>75</td>\n",
              "      <td>2</td>\n",
              "    </tr>\n",
              "    <tr>\n",
              "      <th>...</th>\n",
              "      <td>...</td>\n",
              "      <td>...</td>\n",
              "      <td>...</td>\n",
              "      <td>...</td>\n",
              "      <td>...</td>\n",
              "      <td>...</td>\n",
              "    </tr>\n",
              "    <tr>\n",
              "      <th>995</th>\n",
              "      <td>0</td>\n",
              "      <td>1</td>\n",
              "      <td>88</td>\n",
              "      <td>99</td>\n",
              "      <td>95</td>\n",
              "      <td>4</td>\n",
              "    </tr>\n",
              "    <tr>\n",
              "      <th>996</th>\n",
              "      <td>1</td>\n",
              "      <td>0</td>\n",
              "      <td>62</td>\n",
              "      <td>55</td>\n",
              "      <td>55</td>\n",
              "      <td>2</td>\n",
              "    </tr>\n",
              "    <tr>\n",
              "      <th>997</th>\n",
              "      <td>0</td>\n",
              "      <td>0</td>\n",
              "      <td>59</td>\n",
              "      <td>71</td>\n",
              "      <td>65</td>\n",
              "      <td>2</td>\n",
              "    </tr>\n",
              "    <tr>\n",
              "      <th>998</th>\n",
              "      <td>0</td>\n",
              "      <td>1</td>\n",
              "      <td>68</td>\n",
              "      <td>78</td>\n",
              "      <td>77</td>\n",
              "      <td>3</td>\n",
              "    </tr>\n",
              "    <tr>\n",
              "      <th>999</th>\n",
              "      <td>0</td>\n",
              "      <td>0</td>\n",
              "      <td>77</td>\n",
              "      <td>86</td>\n",
              "      <td>86</td>\n",
              "      <td>3</td>\n",
              "    </tr>\n",
              "  </tbody>\n",
              "</table>\n",
              "<p>1000 rows × 6 columns</p>\n",
              "</div>"
            ],
            "text/plain": [
              "     gender  lunch  math score  reading score  writing score  race/ethnicity\n",
              "0         0      1          72             72             74               1\n",
              "1         0      1          69             90             88               2\n",
              "2         0      1          90             95             93               1\n",
              "3         1      0          47             57             44               0\n",
              "4         1      1          76             78             75               2\n",
              "..      ...    ...         ...            ...            ...             ...\n",
              "995       0      1          88             99             95               4\n",
              "996       1      0          62             55             55               2\n",
              "997       0      0          59             71             65               2\n",
              "998       0      1          68             78             77               3\n",
              "999       0      0          77             86             86               3\n",
              "\n",
              "[1000 rows x 6 columns]"
            ]
          },
          "metadata": {
            "tags": []
          },
          "execution_count": 32
        }
      ]
    },
    {
      "cell_type": "code",
      "metadata": {
        "colab": {
          "base_uri": "https://localhost:8080/"
        },
        "id": "lIFS8K2kgN4y",
        "outputId": "7d53d136-6de8-4f5d-9e9b-4882d3b5cf9b"
      },
      "source": [
        "title=list(ds.columns)\n",
        "title"
      ],
      "execution_count": null,
      "outputs": [
        {
          "output_type": "execute_result",
          "data": {
            "text/plain": [
              "['gender',\n",
              " 'lunch',\n",
              " 'math score',\n",
              " 'reading score',\n",
              " 'writing score',\n",
              " 'race/ethnicity']"
            ]
          },
          "metadata": {
            "tags": []
          },
          "execution_count": 33
        }
      ]
    },
    {
      "cell_type": "code",
      "metadata": {
        "colab": {
          "base_uri": "https://localhost:8080/",
          "height": 419
        },
        "id": "ZR2HMNsFgN4y",
        "outputId": "f75c825b-375a-40e5-a7d4-8073cee78291"
      },
      "source": [
        "\n",
        "title[2],title[5]=title[5],title[2]\n",
        "ds=ds[title]\n",
        "ds"
      ],
      "execution_count": null,
      "outputs": [
        {
          "output_type": "execute_result",
          "data": {
            "text/html": [
              "<div>\n",
              "<style scoped>\n",
              "    .dataframe tbody tr th:only-of-type {\n",
              "        vertical-align: middle;\n",
              "    }\n",
              "\n",
              "    .dataframe tbody tr th {\n",
              "        vertical-align: top;\n",
              "    }\n",
              "\n",
              "    .dataframe thead th {\n",
              "        text-align: right;\n",
              "    }\n",
              "</style>\n",
              "<table border=\"1\" class=\"dataframe\">\n",
              "  <thead>\n",
              "    <tr style=\"text-align: right;\">\n",
              "      <th></th>\n",
              "      <th>gender</th>\n",
              "      <th>writing score</th>\n",
              "      <th>race/ethnicity</th>\n",
              "      <th>reading score</th>\n",
              "      <th>lunch</th>\n",
              "      <th>math score</th>\n",
              "    </tr>\n",
              "  </thead>\n",
              "  <tbody>\n",
              "    <tr>\n",
              "      <th>0</th>\n",
              "      <td>0</td>\n",
              "      <td>74</td>\n",
              "      <td>1</td>\n",
              "      <td>72</td>\n",
              "      <td>1</td>\n",
              "      <td>72</td>\n",
              "    </tr>\n",
              "    <tr>\n",
              "      <th>1</th>\n",
              "      <td>0</td>\n",
              "      <td>88</td>\n",
              "      <td>2</td>\n",
              "      <td>90</td>\n",
              "      <td>1</td>\n",
              "      <td>69</td>\n",
              "    </tr>\n",
              "    <tr>\n",
              "      <th>2</th>\n",
              "      <td>0</td>\n",
              "      <td>93</td>\n",
              "      <td>1</td>\n",
              "      <td>95</td>\n",
              "      <td>1</td>\n",
              "      <td>90</td>\n",
              "    </tr>\n",
              "    <tr>\n",
              "      <th>3</th>\n",
              "      <td>1</td>\n",
              "      <td>44</td>\n",
              "      <td>0</td>\n",
              "      <td>57</td>\n",
              "      <td>0</td>\n",
              "      <td>47</td>\n",
              "    </tr>\n",
              "    <tr>\n",
              "      <th>4</th>\n",
              "      <td>1</td>\n",
              "      <td>75</td>\n",
              "      <td>2</td>\n",
              "      <td>78</td>\n",
              "      <td>1</td>\n",
              "      <td>76</td>\n",
              "    </tr>\n",
              "    <tr>\n",
              "      <th>...</th>\n",
              "      <td>...</td>\n",
              "      <td>...</td>\n",
              "      <td>...</td>\n",
              "      <td>...</td>\n",
              "      <td>...</td>\n",
              "      <td>...</td>\n",
              "    </tr>\n",
              "    <tr>\n",
              "      <th>995</th>\n",
              "      <td>0</td>\n",
              "      <td>95</td>\n",
              "      <td>4</td>\n",
              "      <td>99</td>\n",
              "      <td>1</td>\n",
              "      <td>88</td>\n",
              "    </tr>\n",
              "    <tr>\n",
              "      <th>996</th>\n",
              "      <td>1</td>\n",
              "      <td>55</td>\n",
              "      <td>2</td>\n",
              "      <td>55</td>\n",
              "      <td>0</td>\n",
              "      <td>62</td>\n",
              "    </tr>\n",
              "    <tr>\n",
              "      <th>997</th>\n",
              "      <td>0</td>\n",
              "      <td>65</td>\n",
              "      <td>2</td>\n",
              "      <td>71</td>\n",
              "      <td>0</td>\n",
              "      <td>59</td>\n",
              "    </tr>\n",
              "    <tr>\n",
              "      <th>998</th>\n",
              "      <td>0</td>\n",
              "      <td>77</td>\n",
              "      <td>3</td>\n",
              "      <td>78</td>\n",
              "      <td>1</td>\n",
              "      <td>68</td>\n",
              "    </tr>\n",
              "    <tr>\n",
              "      <th>999</th>\n",
              "      <td>0</td>\n",
              "      <td>86</td>\n",
              "      <td>3</td>\n",
              "      <td>86</td>\n",
              "      <td>0</td>\n",
              "      <td>77</td>\n",
              "    </tr>\n",
              "  </tbody>\n",
              "</table>\n",
              "<p>1000 rows × 6 columns</p>\n",
              "</div>"
            ],
            "text/plain": [
              "     gender  writing score  race/ethnicity  reading score  lunch  math score\n",
              "0         0             74               1             72      1          72\n",
              "1         0             88               2             90      1          69\n",
              "2         0             93               1             95      1          90\n",
              "3         1             44               0             57      0          47\n",
              "4         1             75               2             78      1          76\n",
              "..      ...            ...             ...            ...    ...         ...\n",
              "995       0             95               4             99      1          88\n",
              "996       1             55               2             55      0          62\n",
              "997       0             65               2             71      0          59\n",
              "998       0             77               3             78      1          68\n",
              "999       0             86               3             86      0          77\n",
              "\n",
              "[1000 rows x 6 columns]"
            ]
          },
          "metadata": {
            "tags": []
          },
          "execution_count": 35
        }
      ]
    },
    {
      "cell_type": "code",
      "metadata": {
        "id": "3qAUq3wMgN4z"
      },
      "source": [
        "x=ds.iloc[:,:-1].values\n",
        "y=ds.iloc[:,-1].values"
      ],
      "execution_count": null,
      "outputs": []
    },
    {
      "cell_type": "code",
      "metadata": {
        "id": "r_DNmc9IgN4z"
      },
      "source": [
        "from sklearn.model_selection import train_test_split\n",
        "x_train,x_test,y_train,y_test=train_test_split(x,y,test_size=0.2,random_state=0)"
      ],
      "execution_count": null,
      "outputs": []
    },
    {
      "cell_type": "code",
      "metadata": {
        "colab": {
          "base_uri": "https://localhost:8080/"
        },
        "id": "04bJO6wvgN40",
        "outputId": "23529d1b-02c8-49de-a7f3-94a17c4fbce3"
      },
      "source": [
        "from sklearn.linear_model import LinearRegression\n",
        "lr=LinearRegression()\n",
        "lr.fit(x_train,y_train)"
      ],
      "execution_count": null,
      "outputs": [
        {
          "output_type": "execute_result",
          "data": {
            "text/plain": [
              "LinearRegression(copy_X=True, fit_intercept=True, n_jobs=None, normalize=False)"
            ]
          },
          "metadata": {
            "tags": []
          },
          "execution_count": 38
        }
      ]
    },
    {
      "cell_type": "code",
      "metadata": {
        "colab": {
          "base_uri": "https://localhost:8080/"
        },
        "id": "USNRG_mvgN40",
        "outputId": "5fb070ee-ebe6-4ab6-acf4-49e55ca55506"
      },
      "source": [
        "lr.score(x_train,y_train)"
      ],
      "execution_count": null,
      "outputs": [
        {
          "output_type": "execute_result",
          "data": {
            "text/plain": [
              "0.8587857946072851"
            ]
          },
          "metadata": {
            "tags": []
          },
          "execution_count": 39
        }
      ]
    },
    {
      "cell_type": "code",
      "metadata": {
        "colab": {
          "base_uri": "https://localhost:8080/",
          "height": 419
        },
        "id": "7kfpfkvYgN41",
        "outputId": "1ddaa76c-46de-4760-cd25-1a79c013766b"
      },
      "source": [
        "y_pred=lr.predict(x_test)\n",
        "y_pred=pd.DataFrame(y_pred)\n",
        "y_pred"
      ],
      "execution_count": null,
      "outputs": [
        {
          "output_type": "execute_result",
          "data": {
            "text/html": [
              "<div>\n",
              "<style scoped>\n",
              "    .dataframe tbody tr th:only-of-type {\n",
              "        vertical-align: middle;\n",
              "    }\n",
              "\n",
              "    .dataframe tbody tr th {\n",
              "        vertical-align: top;\n",
              "    }\n",
              "\n",
              "    .dataframe thead th {\n",
              "        text-align: right;\n",
              "    }\n",
              "</style>\n",
              "<table border=\"1\" class=\"dataframe\">\n",
              "  <thead>\n",
              "    <tr style=\"text-align: right;\">\n",
              "      <th></th>\n",
              "      <th>0</th>\n",
              "    </tr>\n",
              "  </thead>\n",
              "  <tbody>\n",
              "    <tr>\n",
              "      <th>0</th>\n",
              "      <td>62.644702</td>\n",
              "    </tr>\n",
              "    <tr>\n",
              "      <th>1</th>\n",
              "      <td>73.348500</td>\n",
              "    </tr>\n",
              "    <tr>\n",
              "      <th>2</th>\n",
              "      <td>50.719329</td>\n",
              "    </tr>\n",
              "    <tr>\n",
              "      <th>3</th>\n",
              "      <td>65.600049</td>\n",
              "    </tr>\n",
              "    <tr>\n",
              "      <th>4</th>\n",
              "      <td>69.086400</td>\n",
              "    </tr>\n",
              "    <tr>\n",
              "      <th>...</th>\n",
              "      <td>...</td>\n",
              "    </tr>\n",
              "    <tr>\n",
              "      <th>195</th>\n",
              "      <td>63.186644</td>\n",
              "    </tr>\n",
              "    <tr>\n",
              "      <th>196</th>\n",
              "      <td>75.411922</td>\n",
              "    </tr>\n",
              "    <tr>\n",
              "      <th>197</th>\n",
              "      <td>82.025311</td>\n",
              "    </tr>\n",
              "    <tr>\n",
              "      <th>198</th>\n",
              "      <td>62.626988</td>\n",
              "    </tr>\n",
              "    <tr>\n",
              "      <th>199</th>\n",
              "      <td>71.101128</td>\n",
              "    </tr>\n",
              "  </tbody>\n",
              "</table>\n",
              "<p>200 rows × 1 columns</p>\n",
              "</div>"
            ],
            "text/plain": [
              "             0\n",
              "0    62.644702\n",
              "1    73.348500\n",
              "2    50.719329\n",
              "3    65.600049\n",
              "4    69.086400\n",
              "..         ...\n",
              "195  63.186644\n",
              "196  75.411922\n",
              "197  82.025311\n",
              "198  62.626988\n",
              "199  71.101128\n",
              "\n",
              "[200 rows x 1 columns]"
            ]
          },
          "metadata": {
            "tags": []
          },
          "execution_count": 40
        }
      ]
    },
    {
      "cell_type": "code",
      "metadata": {
        "colab": {
          "base_uri": "https://localhost:8080/",
          "height": 419
        },
        "id": "HNwcQMeRgN42",
        "outputId": "891cfbbf-9bb3-46b0-fbf6-df488248a819"
      },
      "source": [
        "y_test=pd.DataFrame(y_test)\n",
        "y_test"
      ],
      "execution_count": null,
      "outputs": [
        {
          "output_type": "execute_result",
          "data": {
            "text/html": [
              "<div>\n",
              "<style scoped>\n",
              "    .dataframe tbody tr th:only-of-type {\n",
              "        vertical-align: middle;\n",
              "    }\n",
              "\n",
              "    .dataframe tbody tr th {\n",
              "        vertical-align: top;\n",
              "    }\n",
              "\n",
              "    .dataframe thead th {\n",
              "        text-align: right;\n",
              "    }\n",
              "</style>\n",
              "<table border=\"1\" class=\"dataframe\">\n",
              "  <thead>\n",
              "    <tr style=\"text-align: right;\">\n",
              "      <th></th>\n",
              "      <th>0</th>\n",
              "    </tr>\n",
              "  </thead>\n",
              "  <tbody>\n",
              "    <tr>\n",
              "      <th>0</th>\n",
              "      <td>62</td>\n",
              "    </tr>\n",
              "    <tr>\n",
              "      <th>1</th>\n",
              "      <td>87</td>\n",
              "    </tr>\n",
              "    <tr>\n",
              "      <th>2</th>\n",
              "      <td>40</td>\n",
              "    </tr>\n",
              "    <tr>\n",
              "      <th>3</th>\n",
              "      <td>77</td>\n",
              "    </tr>\n",
              "    <tr>\n",
              "      <th>4</th>\n",
              "      <td>69</td>\n",
              "    </tr>\n",
              "    <tr>\n",
              "      <th>...</th>\n",
              "      <td>...</td>\n",
              "    </tr>\n",
              "    <tr>\n",
              "      <th>195</th>\n",
              "      <td>63</td>\n",
              "    </tr>\n",
              "    <tr>\n",
              "      <th>196</th>\n",
              "      <td>74</td>\n",
              "    </tr>\n",
              "    <tr>\n",
              "      <th>197</th>\n",
              "      <td>84</td>\n",
              "    </tr>\n",
              "    <tr>\n",
              "      <th>198</th>\n",
              "      <td>65</td>\n",
              "    </tr>\n",
              "    <tr>\n",
              "      <th>199</th>\n",
              "      <td>62</td>\n",
              "    </tr>\n",
              "  </tbody>\n",
              "</table>\n",
              "<p>200 rows × 1 columns</p>\n",
              "</div>"
            ],
            "text/plain": [
              "      0\n",
              "0    62\n",
              "1    87\n",
              "2    40\n",
              "3    77\n",
              "4    69\n",
              "..   ..\n",
              "195  63\n",
              "196  74\n",
              "197  84\n",
              "198  65\n",
              "199  62\n",
              "\n",
              "[200 rows x 1 columns]"
            ]
          },
          "metadata": {
            "tags": []
          },
          "execution_count": 41
        }
      ]
    },
    {
      "cell_type": "code",
      "metadata": {
        "colab": {
          "base_uri": "https://localhost:8080/",
          "height": 419
        },
        "id": "Zih0wiFjgN42",
        "outputId": "2bfa2224-b2e6-461e-f314-bc30145aea9d"
      },
      "source": [
        "pred=pd.concat([y_test,y_pred],axis=1)\n",
        "pred"
      ],
      "execution_count": null,
      "outputs": [
        {
          "output_type": "execute_result",
          "data": {
            "text/html": [
              "<div>\n",
              "<style scoped>\n",
              "    .dataframe tbody tr th:only-of-type {\n",
              "        vertical-align: middle;\n",
              "    }\n",
              "\n",
              "    .dataframe tbody tr th {\n",
              "        vertical-align: top;\n",
              "    }\n",
              "\n",
              "    .dataframe thead th {\n",
              "        text-align: right;\n",
              "    }\n",
              "</style>\n",
              "<table border=\"1\" class=\"dataframe\">\n",
              "  <thead>\n",
              "    <tr style=\"text-align: right;\">\n",
              "      <th></th>\n",
              "      <th>0</th>\n",
              "      <th>0</th>\n",
              "    </tr>\n",
              "  </thead>\n",
              "  <tbody>\n",
              "    <tr>\n",
              "      <th>0</th>\n",
              "      <td>62</td>\n",
              "      <td>62.644702</td>\n",
              "    </tr>\n",
              "    <tr>\n",
              "      <th>1</th>\n",
              "      <td>87</td>\n",
              "      <td>73.348500</td>\n",
              "    </tr>\n",
              "    <tr>\n",
              "      <th>2</th>\n",
              "      <td>40</td>\n",
              "      <td>50.719329</td>\n",
              "    </tr>\n",
              "    <tr>\n",
              "      <th>3</th>\n",
              "      <td>77</td>\n",
              "      <td>65.600049</td>\n",
              "    </tr>\n",
              "    <tr>\n",
              "      <th>4</th>\n",
              "      <td>69</td>\n",
              "      <td>69.086400</td>\n",
              "    </tr>\n",
              "    <tr>\n",
              "      <th>...</th>\n",
              "      <td>...</td>\n",
              "      <td>...</td>\n",
              "    </tr>\n",
              "    <tr>\n",
              "      <th>195</th>\n",
              "      <td>63</td>\n",
              "      <td>63.186644</td>\n",
              "    </tr>\n",
              "    <tr>\n",
              "      <th>196</th>\n",
              "      <td>74</td>\n",
              "      <td>75.411922</td>\n",
              "    </tr>\n",
              "    <tr>\n",
              "      <th>197</th>\n",
              "      <td>84</td>\n",
              "      <td>82.025311</td>\n",
              "    </tr>\n",
              "    <tr>\n",
              "      <th>198</th>\n",
              "      <td>65</td>\n",
              "      <td>62.626988</td>\n",
              "    </tr>\n",
              "    <tr>\n",
              "      <th>199</th>\n",
              "      <td>62</td>\n",
              "      <td>71.101128</td>\n",
              "    </tr>\n",
              "  </tbody>\n",
              "</table>\n",
              "<p>200 rows × 2 columns</p>\n",
              "</div>"
            ],
            "text/plain": [
              "      0          0\n",
              "0    62  62.644702\n",
              "1    87  73.348500\n",
              "2    40  50.719329\n",
              "3    77  65.600049\n",
              "4    69  69.086400\n",
              "..   ..        ...\n",
              "195  63  63.186644\n",
              "196  74  75.411922\n",
              "197  84  82.025311\n",
              "198  65  62.626988\n",
              "199  62  71.101128\n",
              "\n",
              "[200 rows x 2 columns]"
            ]
          },
          "metadata": {
            "tags": []
          },
          "execution_count": 42
        }
      ]
    },
    {
      "cell_type": "code",
      "metadata": {
        "colab": {
          "base_uri": "https://localhost:8080/"
        },
        "id": "f0ggnDkSgN43",
        "outputId": "5e5819c3-aa04-4643-e7ec-2bdd470bdb88"
      },
      "source": [
        "lr.intercept_"
      ],
      "execution_count": null,
      "outputs": [
        {
          "output_type": "execute_result",
          "data": {
            "text/plain": [
              "-8.266886077392257"
            ]
          },
          "metadata": {
            "tags": []
          },
          "execution_count": 43
        }
      ]
    },
    {
      "cell_type": "code",
      "metadata": {
        "colab": {
          "base_uri": "https://localhost:8080/"
        },
        "id": "NwMlg_I3gN43",
        "outputId": "e3fd0534-ee38-43c8-cbda-41c7ccd5a03d"
      },
      "source": [
        "lr.coef_"
      ],
      "execution_count": null,
      "outputs": [
        {
          "output_type": "execute_result",
          "data": {
            "text/plain": [
              "array([12.25238537,  0.49456704,  0.99459115,  0.43513687,  3.83633289])"
            ]
          },
          "metadata": {
            "tags": []
          },
          "execution_count": 44
        }
      ]
    },
    {
      "cell_type": "code",
      "metadata": {
        "colab": {
          "base_uri": "https://localhost:8080/"
        },
        "id": "nbAF7wPsgN44",
        "outputId": "de07f947-940e-445f-f0c4-213d75129eb7"
      },
      "source": [
        "from sklearn.metrics import r2_score\n",
        "a=r2_score(y_test,y_pred)\n",
        "a"
      ],
      "execution_count": null,
      "outputs": [
        {
          "output_type": "execute_result",
          "data": {
            "text/plain": [
              "0.8595607327288426"
            ]
          },
          "metadata": {
            "tags": []
          },
          "execution_count": 106
        }
      ]
    },
    {
      "cell_type": "code",
      "metadata": {
        "colab": {
          "base_uri": "https://localhost:8080/"
        },
        "id": "J5jV1MyigN44",
        "outputId": "13f197b8-a0bd-4b2b-804d-2731f17ee25f"
      },
      "source": [
        "from sklearn.metrics import mean_squared_error\n",
        "from math import sqrt\n",
        "rmse = sqrt(mean_squared_error(y_test, y_pred))\n",
        "rmse"
      ],
      "execution_count": null,
      "outputs": [
        {
          "output_type": "execute_result",
          "data": {
            "text/plain": [
              "5.641255415815871"
            ]
          },
          "metadata": {
            "tags": []
          },
          "execution_count": 46
        }
      ]
    },
    {
      "cell_type": "code",
      "metadata": {
        "colab": {
          "base_uri": "https://localhost:8080/",
          "height": 561
        },
        "id": "9SuUUK52gN45",
        "outputId": "99e3ede7-61c1-4d4a-c3bd-e86e82f428f1"
      },
      "source": [
        "import statsmodels.api as sn\n",
        "m=sn.OLS(y_train,x_train).fit()\n",
        "m.summary()"
      ],
      "execution_count": null,
      "outputs": [
        {
          "output_type": "stream",
          "text": [
            "/usr/local/lib/python3.6/dist-packages/statsmodels/tools/_testing.py:19: FutureWarning: pandas.util.testing is deprecated. Use the functions in the public API at pandas.testing instead.\n",
            "  import pandas.util.testing as tm\n"
          ],
          "name": "stderr"
        },
        {
          "output_type": "execute_result",
          "data": {
            "text/html": [
              "<table class=\"simpletable\">\n",
              "<caption>OLS Regression Results</caption>\n",
              "<tr>\n",
              "  <th>Dep. Variable:</th>            <td>y</td>        <th>  R-squared (uncentered):</th>      <td>   0.992</td> \n",
              "</tr>\n",
              "<tr>\n",
              "  <th>Model:</th>                   <td>OLS</td>       <th>  Adj. R-squared (uncentered):</th> <td>   0.992</td> \n",
              "</tr>\n",
              "<tr>\n",
              "  <th>Method:</th>             <td>Least Squares</td>  <th>  F-statistic:       </th>          <td>2.091e+04</td>\n",
              "</tr>\n",
              "<tr>\n",
              "  <th>Date:</th>             <td>Sat, 23 Jan 2021</td> <th>  Prob (F-statistic):</th>           <td>  0.00</td>  \n",
              "</tr>\n",
              "<tr>\n",
              "  <th>Time:</th>                 <td>06:22:33</td>     <th>  Log-Likelihood:    </th>          <td> -2554.9</td> \n",
              "</tr>\n",
              "<tr>\n",
              "  <th>No. Observations:</th>      <td>   800</td>      <th>  AIC:               </th>          <td>   5120.</td> \n",
              "</tr>\n",
              "<tr>\n",
              "  <th>Df Residuals:</th>          <td>   795</td>      <th>  BIC:               </th>          <td>   5143.</td> \n",
              "</tr>\n",
              "<tr>\n",
              "  <th>Df Model:</th>              <td>     5</td>      <th>                     </th>              <td> </td>    \n",
              "</tr>\n",
              "<tr>\n",
              "  <th>Covariance Type:</th>      <td>nonrobust</td>    <th>                     </th>              <td> </td>    \n",
              "</tr>\n",
              "</table>\n",
              "<table class=\"simpletable\">\n",
              "<tr>\n",
              "   <td></td>     <th>coef</th>     <th>std err</th>      <th>t</th>      <th>P>|t|</th>  <th>[0.025</th>    <th>0.975]</th>  \n",
              "</tr>\n",
              "<tr>\n",
              "  <th>x1</th> <td>   10.9690</td> <td>    0.413</td> <td>   26.566</td> <td> 0.000</td> <td>   10.158</td> <td>   11.779</td>\n",
              "</tr>\n",
              "<tr>\n",
              "  <th>x2</th> <td>    0.4786</td> <td>    0.047</td> <td>   10.123</td> <td> 0.000</td> <td>    0.386</td> <td>    0.571</td>\n",
              "</tr>\n",
              "<tr>\n",
              "  <th>x3</th> <td>    0.7222</td> <td>    0.178</td> <td>    4.048</td> <td> 0.000</td> <td>    0.372</td> <td>    1.072</td>\n",
              "</tr>\n",
              "<tr>\n",
              "  <th>x4</th> <td>    0.3530</td> <td>    0.047</td> <td>    7.553</td> <td> 0.000</td> <td>    0.261</td> <td>    0.445</td>\n",
              "</tr>\n",
              "<tr>\n",
              "  <th>x5</th> <td>    3.8298</td> <td>    0.457</td> <td>    8.381</td> <td> 0.000</td> <td>    2.933</td> <td>    4.727</td>\n",
              "</tr>\n",
              "</table>\n",
              "<table class=\"simpletable\">\n",
              "<tr>\n",
              "  <th>Omnibus:</th>       <td> 1.362</td> <th>  Durbin-Watson:     </th> <td>   1.848</td>\n",
              "</tr>\n",
              "<tr>\n",
              "  <th>Prob(Omnibus):</th> <td> 0.506</td> <th>  Jarque-Bera (JB):  </th> <td>   1.269</td>\n",
              "</tr>\n",
              "<tr>\n",
              "  <th>Skew:</th>          <td>-0.095</td> <th>  Prob(JB):          </th> <td>   0.530</td>\n",
              "</tr>\n",
              "<tr>\n",
              "  <th>Kurtosis:</th>      <td> 3.042</td> <th>  Cond. No.          </th> <td>    222.</td>\n",
              "</tr>\n",
              "</table><br/><br/>Warnings:<br/>[1] Standard Errors assume that the covariance matrix of the errors is correctly specified."
            ],
            "text/plain": [
              "<class 'statsmodels.iolib.summary.Summary'>\n",
              "\"\"\"\n",
              "                                 OLS Regression Results                                \n",
              "=======================================================================================\n",
              "Dep. Variable:                      y   R-squared (uncentered):                   0.992\n",
              "Model:                            OLS   Adj. R-squared (uncentered):              0.992\n",
              "Method:                 Least Squares   F-statistic:                          2.091e+04\n",
              "Date:                Sat, 23 Jan 2021   Prob (F-statistic):                        0.00\n",
              "Time:                        06:22:33   Log-Likelihood:                         -2554.9\n",
              "No. Observations:                 800   AIC:                                      5120.\n",
              "Df Residuals:                     795   BIC:                                      5143.\n",
              "Df Model:                           5                                                  \n",
              "Covariance Type:            nonrobust                                                  \n",
              "==============================================================================\n",
              "                 coef    std err          t      P>|t|      [0.025      0.975]\n",
              "------------------------------------------------------------------------------\n",
              "x1            10.9690      0.413     26.566      0.000      10.158      11.779\n",
              "x2             0.4786      0.047     10.123      0.000       0.386       0.571\n",
              "x3             0.7222      0.178      4.048      0.000       0.372       1.072\n",
              "x4             0.3530      0.047      7.553      0.000       0.261       0.445\n",
              "x5             3.8298      0.457      8.381      0.000       2.933       4.727\n",
              "==============================================================================\n",
              "Omnibus:                        1.362   Durbin-Watson:                   1.848\n",
              "Prob(Omnibus):                  0.506   Jarque-Bera (JB):                1.269\n",
              "Skew:                          -0.095   Prob(JB):                        0.530\n",
              "Kurtosis:                       3.042   Cond. No.                         222.\n",
              "==============================================================================\n",
              "\n",
              "Warnings:\n",
              "[1] Standard Errors assume that the covariance matrix of the errors is correctly specified.\n",
              "\"\"\""
            ]
          },
          "metadata": {
            "tags": []
          },
          "execution_count": 47
        }
      ]
    },
    {
      "cell_type": "code",
      "metadata": {
        "colab": {
          "base_uri": "https://localhost:8080/",
          "height": 507
        },
        "id": "ztlkGIK2gN45",
        "outputId": "a8631795-65c4-421c-c8ac-78728a2e104c"
      },
      "source": [
        "import statsmodels.api as sn\n",
        "m=sn.OLS(y_test,x_test).fit()\n",
        "m.summary()"
      ],
      "execution_count": null,
      "outputs": [
        {
          "output_type": "execute_result",
          "data": {
            "text/html": [
              "<table class=\"simpletable\">\n",
              "<caption>OLS Regression Results</caption>\n",
              "<tr>\n",
              "  <th>Dep. Variable:</th>            <td>0</td>        <th>  R-squared (uncentered):</th>      <td>   0.993</td> \n",
              "</tr>\n",
              "<tr>\n",
              "  <th>Model:</th>                   <td>OLS</td>       <th>  Adj. R-squared (uncentered):</th> <td>   0.993</td> \n",
              "</tr>\n",
              "<tr>\n",
              "  <th>Method:</th>             <td>Least Squares</td>  <th>  F-statistic:       </th>          <td>   5795.</td> \n",
              "</tr>\n",
              "<tr>\n",
              "  <th>Date:</th>             <td>Sat, 23 Jan 2021</td> <th>  Prob (F-statistic):</th>          <td>6.48e-210</td>\n",
              "</tr>\n",
              "<tr>\n",
              "  <th>Time:</th>                 <td>06:22:33</td>     <th>  Log-Likelihood:    </th>          <td> -625.19</td> \n",
              "</tr>\n",
              "<tr>\n",
              "  <th>No. Observations:</th>      <td>   200</td>      <th>  AIC:               </th>          <td>   1260.</td> \n",
              "</tr>\n",
              "<tr>\n",
              "  <th>Df Residuals:</th>          <td>   195</td>      <th>  BIC:               </th>          <td>   1277.</td> \n",
              "</tr>\n",
              "<tr>\n",
              "  <th>Df Model:</th>              <td>     5</td>      <th>                     </th>              <td> </td>    \n",
              "</tr>\n",
              "<tr>\n",
              "  <th>Covariance Type:</th>      <td>nonrobust</td>    <th>                     </th>              <td> </td>    \n",
              "</tr>\n",
              "</table>\n",
              "<table class=\"simpletable\">\n",
              "<tr>\n",
              "   <td></td>     <th>coef</th>     <th>std err</th>      <th>t</th>      <th>P>|t|</th>  <th>[0.025</th>    <th>0.975]</th>  \n",
              "</tr>\n",
              "<tr>\n",
              "  <th>x1</th> <td>   13.3560</td> <td>    0.775</td> <td>   17.244</td> <td> 0.000</td> <td>   11.828</td> <td>   14.884</td>\n",
              "</tr>\n",
              "<tr>\n",
              "  <th>x2</th> <td>    0.5469</td> <td>    0.098</td> <td>    5.558</td> <td> 0.000</td> <td>    0.353</td> <td>    0.741</td>\n",
              "</tr>\n",
              "<tr>\n",
              "  <th>x3</th> <td>    0.4645</td> <td>    0.357</td> <td>    1.302</td> <td> 0.194</td> <td>   -0.239</td> <td>    1.168</td>\n",
              "</tr>\n",
              "<tr>\n",
              "  <th>x4</th> <td>    0.2778</td> <td>    0.097</td> <td>    2.877</td> <td> 0.004</td> <td>    0.087</td> <td>    0.468</td>\n",
              "</tr>\n",
              "<tr>\n",
              "  <th>x5</th> <td>    3.8271</td> <td>    0.842</td> <td>    4.546</td> <td> 0.000</td> <td>    2.167</td> <td>    5.487</td>\n",
              "</tr>\n",
              "</table>\n",
              "<table class=\"simpletable\">\n",
              "<tr>\n",
              "  <th>Omnibus:</th>       <td> 0.319</td> <th>  Durbin-Watson:     </th> <td>   2.079</td>\n",
              "</tr>\n",
              "<tr>\n",
              "  <th>Prob(Omnibus):</th> <td> 0.852</td> <th>  Jarque-Bera (JB):  </th> <td>   0.107</td>\n",
              "</tr>\n",
              "<tr>\n",
              "  <th>Skew:</th>          <td> 0.002</td> <th>  Prob(JB):          </th> <td>   0.948</td>\n",
              "</tr>\n",
              "<tr>\n",
              "  <th>Kurtosis:</th>      <td> 3.113</td> <th>  Cond. No.          </th> <td>    221.</td>\n",
              "</tr>\n",
              "</table><br/><br/>Warnings:<br/>[1] Standard Errors assume that the covariance matrix of the errors is correctly specified."
            ],
            "text/plain": [
              "<class 'statsmodels.iolib.summary.Summary'>\n",
              "\"\"\"\n",
              "                                 OLS Regression Results                                \n",
              "=======================================================================================\n",
              "Dep. Variable:                      0   R-squared (uncentered):                   0.993\n",
              "Model:                            OLS   Adj. R-squared (uncentered):              0.993\n",
              "Method:                 Least Squares   F-statistic:                              5795.\n",
              "Date:                Sat, 23 Jan 2021   Prob (F-statistic):                   6.48e-210\n",
              "Time:                        06:22:33   Log-Likelihood:                         -625.19\n",
              "No. Observations:                 200   AIC:                                      1260.\n",
              "Df Residuals:                     195   BIC:                                      1277.\n",
              "Df Model:                           5                                                  \n",
              "Covariance Type:            nonrobust                                                  \n",
              "==============================================================================\n",
              "                 coef    std err          t      P>|t|      [0.025      0.975]\n",
              "------------------------------------------------------------------------------\n",
              "x1            13.3560      0.775     17.244      0.000      11.828      14.884\n",
              "x2             0.5469      0.098      5.558      0.000       0.353       0.741\n",
              "x3             0.4645      0.357      1.302      0.194      -0.239       1.168\n",
              "x4             0.2778      0.097      2.877      0.004       0.087       0.468\n",
              "x5             3.8271      0.842      4.546      0.000       2.167       5.487\n",
              "==============================================================================\n",
              "Omnibus:                        0.319   Durbin-Watson:                   2.079\n",
              "Prob(Omnibus):                  0.852   Jarque-Bera (JB):                0.107\n",
              "Skew:                           0.002   Prob(JB):                        0.948\n",
              "Kurtosis:                       3.113   Cond. No.                         221.\n",
              "==============================================================================\n",
              "\n",
              "Warnings:\n",
              "[1] Standard Errors assume that the covariance matrix of the errors is correctly specified.\n",
              "\"\"\""
            ]
          },
          "metadata": {
            "tags": []
          },
          "execution_count": 48
        }
      ]
    },
    {
      "cell_type": "code",
      "metadata": {
        "colab": {
          "base_uri": "https://localhost:8080/"
        },
        "id": "rkjHoBfbgN46",
        "outputId": "1c22ee5c-c611-4dee-b6ab-d632f61c9d3f"
      },
      "source": [
        "from sklearn.tree import DecisionTreeRegressor\n",
        "from sklearn.model_selection import GridSearchCV\n",
        "model=DecisionTreeRegressor()\n",
        "parameters = { 'max_depth'    : [1,2,3,4,5,6,7,8,9,10],\n",
        "               'criterion' : ['mse', 'friedman_mse', 'mae']\n",
        "                 }\n",
        "dt = GridSearchCV(estimator=model, param_grid = parameters, cv = 2, n_jobs=-1)\n",
        "dt.fit(x_train, y_train)\n",
        "\n",
        "print(\" Results from Grid Search \" )\n",
        "print()\n",
        "print(\"\\n The best estimator across ALL searched params:\\n\",\n",
        "          dt.best_estimator_)\n",
        "print(\"\\n The best score across ALL searched params:\\n\",\n",
        "          dt.best_score_)\n",
        "print(\"\\n The best parameters across ALL searched params:\\n\",\n",
        "          dt.best_params_)"
      ],
      "execution_count": null,
      "outputs": [
        {
          "output_type": "stream",
          "text": [
            " Results from Grid Search \n",
            "\n",
            "\n",
            " The best estimator across ALL searched params:\n",
            " DecisionTreeRegressor(ccp_alpha=0.0, criterion='friedman_mse', max_depth=6,\n",
            "                      max_features=None, max_leaf_nodes=None,\n",
            "                      min_impurity_decrease=0.0, min_impurity_split=None,\n",
            "                      min_samples_leaf=1, min_samples_split=2,\n",
            "                      min_weight_fraction_leaf=0.0, presort='deprecated',\n",
            "                      random_state=None, splitter='best')\n",
            "\n",
            " The best score across ALL searched params:\n",
            " 0.7764996176562396\n",
            "\n",
            " The best parameters across ALL searched params:\n",
            " {'criterion': 'friedman_mse', 'max_depth': 6}\n"
          ],
          "name": "stdout"
        }
      ]
    },
    {
      "cell_type": "code",
      "metadata": {
        "colab": {
          "base_uri": "https://localhost:8080/"
        },
        "id": "wZwLK5SRgN46",
        "outputId": "3ee59b4a-0a51-473b-973d-8c750d16159b"
      },
      "source": [
        "from sklearn.tree import DecisionTreeRegressor\n",
        "dtr=DecisionTreeRegressor(criterion='friedman_mse',max_depth=6,splitter=\"random\",random_state=0)\n",
        "dtr.fit(x_train,y_train)"
      ],
      "execution_count": null,
      "outputs": [
        {
          "output_type": "execute_result",
          "data": {
            "text/plain": [
              "DecisionTreeRegressor(ccp_alpha=0.0, criterion='friedman_mse', max_depth=6,\n",
              "                      max_features=None, max_leaf_nodes=None,\n",
              "                      min_impurity_decrease=0.0, min_impurity_split=None,\n",
              "                      min_samples_leaf=1, min_samples_split=2,\n",
              "                      min_weight_fraction_leaf=0.0, presort='deprecated',\n",
              "                      random_state=0, splitter='random')"
            ]
          },
          "metadata": {
            "tags": []
          },
          "execution_count": 62
        }
      ]
    },
    {
      "cell_type": "code",
      "metadata": {
        "colab": {
          "base_uri": "https://localhost:8080/"
        },
        "id": "KC_OOG-ngN47",
        "outputId": "e925b139-8b78-4f47-8a42-5c69cf8f0136"
      },
      "source": [
        "dtr.score(x_train,y_train)"
      ],
      "execution_count": null,
      "outputs": [
        {
          "output_type": "execute_result",
          "data": {
            "text/plain": [
              "0.8294289974019351"
            ]
          },
          "metadata": {
            "tags": []
          },
          "execution_count": 63
        }
      ]
    },
    {
      "cell_type": "code",
      "metadata": {
        "colab": {
          "base_uri": "https://localhost:8080/",
          "height": 419
        },
        "id": "KA2SrVx0gN47",
        "outputId": "b4bd67ef-1284-41cb-b6bc-5876ea00b834"
      },
      "source": [
        "y_pred6=dtr.predict(x_test)\n",
        "y_pred6=pd.DataFrame(y_pred6)\n",
        "y_pred6"
      ],
      "execution_count": null,
      "outputs": [
        {
          "output_type": "execute_result",
          "data": {
            "text/html": [
              "<div>\n",
              "<style scoped>\n",
              "    .dataframe tbody tr th:only-of-type {\n",
              "        vertical-align: middle;\n",
              "    }\n",
              "\n",
              "    .dataframe tbody tr th {\n",
              "        vertical-align: top;\n",
              "    }\n",
              "\n",
              "    .dataframe thead th {\n",
              "        text-align: right;\n",
              "    }\n",
              "</style>\n",
              "<table border=\"1\" class=\"dataframe\">\n",
              "  <thead>\n",
              "    <tr style=\"text-align: right;\">\n",
              "      <th></th>\n",
              "      <th>0</th>\n",
              "    </tr>\n",
              "  </thead>\n",
              "  <tbody>\n",
              "    <tr>\n",
              "      <th>0</th>\n",
              "      <td>58.000000</td>\n",
              "    </tr>\n",
              "    <tr>\n",
              "      <th>1</th>\n",
              "      <td>73.083333</td>\n",
              "    </tr>\n",
              "    <tr>\n",
              "      <th>2</th>\n",
              "      <td>49.071429</td>\n",
              "    </tr>\n",
              "    <tr>\n",
              "      <th>3</th>\n",
              "      <td>65.750000</td>\n",
              "    </tr>\n",
              "    <tr>\n",
              "      <th>4</th>\n",
              "      <td>70.130841</td>\n",
              "    </tr>\n",
              "    <tr>\n",
              "      <th>...</th>\n",
              "      <td>...</td>\n",
              "    </tr>\n",
              "    <tr>\n",
              "      <th>195</th>\n",
              "      <td>55.106383</td>\n",
              "    </tr>\n",
              "    <tr>\n",
              "      <th>196</th>\n",
              "      <td>78.000000</td>\n",
              "    </tr>\n",
              "    <tr>\n",
              "      <th>197</th>\n",
              "      <td>82.659574</td>\n",
              "    </tr>\n",
              "    <tr>\n",
              "      <th>198</th>\n",
              "      <td>70.130841</td>\n",
              "    </tr>\n",
              "    <tr>\n",
              "      <th>199</th>\n",
              "      <td>72.044118</td>\n",
              "    </tr>\n",
              "  </tbody>\n",
              "</table>\n",
              "<p>200 rows × 1 columns</p>\n",
              "</div>"
            ],
            "text/plain": [
              "             0\n",
              "0    58.000000\n",
              "1    73.083333\n",
              "2    49.071429\n",
              "3    65.750000\n",
              "4    70.130841\n",
              "..         ...\n",
              "195  55.106383\n",
              "196  78.000000\n",
              "197  82.659574\n",
              "198  70.130841\n",
              "199  72.044118\n",
              "\n",
              "[200 rows x 1 columns]"
            ]
          },
          "metadata": {
            "tags": []
          },
          "execution_count": 64
        }
      ]
    },
    {
      "cell_type": "code",
      "metadata": {
        "colab": {
          "base_uri": "https://localhost:8080/",
          "height": 419
        },
        "id": "2P-ngJwRgN48",
        "outputId": "0bd6564b-0132-4bf4-be58-f10f524a7d28"
      },
      "source": [
        "pred6=pd.concat([y_test,y_pred6],axis=1)\n",
        "pred6"
      ],
      "execution_count": null,
      "outputs": [
        {
          "output_type": "execute_result",
          "data": {
            "text/html": [
              "<div>\n",
              "<style scoped>\n",
              "    .dataframe tbody tr th:only-of-type {\n",
              "        vertical-align: middle;\n",
              "    }\n",
              "\n",
              "    .dataframe tbody tr th {\n",
              "        vertical-align: top;\n",
              "    }\n",
              "\n",
              "    .dataframe thead th {\n",
              "        text-align: right;\n",
              "    }\n",
              "</style>\n",
              "<table border=\"1\" class=\"dataframe\">\n",
              "  <thead>\n",
              "    <tr style=\"text-align: right;\">\n",
              "      <th></th>\n",
              "      <th>0</th>\n",
              "      <th>0</th>\n",
              "    </tr>\n",
              "  </thead>\n",
              "  <tbody>\n",
              "    <tr>\n",
              "      <th>0</th>\n",
              "      <td>62</td>\n",
              "      <td>58.000000</td>\n",
              "    </tr>\n",
              "    <tr>\n",
              "      <th>1</th>\n",
              "      <td>87</td>\n",
              "      <td>73.083333</td>\n",
              "    </tr>\n",
              "    <tr>\n",
              "      <th>2</th>\n",
              "      <td>40</td>\n",
              "      <td>49.071429</td>\n",
              "    </tr>\n",
              "    <tr>\n",
              "      <th>3</th>\n",
              "      <td>77</td>\n",
              "      <td>65.750000</td>\n",
              "    </tr>\n",
              "    <tr>\n",
              "      <th>4</th>\n",
              "      <td>69</td>\n",
              "      <td>70.130841</td>\n",
              "    </tr>\n",
              "    <tr>\n",
              "      <th>...</th>\n",
              "      <td>...</td>\n",
              "      <td>...</td>\n",
              "    </tr>\n",
              "    <tr>\n",
              "      <th>195</th>\n",
              "      <td>63</td>\n",
              "      <td>55.106383</td>\n",
              "    </tr>\n",
              "    <tr>\n",
              "      <th>196</th>\n",
              "      <td>74</td>\n",
              "      <td>78.000000</td>\n",
              "    </tr>\n",
              "    <tr>\n",
              "      <th>197</th>\n",
              "      <td>84</td>\n",
              "      <td>82.659574</td>\n",
              "    </tr>\n",
              "    <tr>\n",
              "      <th>198</th>\n",
              "      <td>65</td>\n",
              "      <td>70.130841</td>\n",
              "    </tr>\n",
              "    <tr>\n",
              "      <th>199</th>\n",
              "      <td>62</td>\n",
              "      <td>72.044118</td>\n",
              "    </tr>\n",
              "  </tbody>\n",
              "</table>\n",
              "<p>200 rows × 2 columns</p>\n",
              "</div>"
            ],
            "text/plain": [
              "      0          0\n",
              "0    62  58.000000\n",
              "1    87  73.083333\n",
              "2    40  49.071429\n",
              "3    77  65.750000\n",
              "4    69  70.130841\n",
              "..   ..        ...\n",
              "195  63  55.106383\n",
              "196  74  78.000000\n",
              "197  84  82.659574\n",
              "198  65  70.130841\n",
              "199  62  72.044118\n",
              "\n",
              "[200 rows x 2 columns]"
            ]
          },
          "metadata": {
            "tags": []
          },
          "execution_count": 65
        }
      ]
    },
    {
      "cell_type": "code",
      "metadata": {
        "colab": {
          "base_uri": "https://localhost:8080/"
        },
        "id": "0NMXUBeLgN48",
        "outputId": "f7192137-e6a1-4f3b-ab3d-dc2a6e9ada27"
      },
      "source": [
        "from sklearn.metrics import r2_score\n",
        "c=r2_score(y_test,y_pred6)\n",
        "c"
      ],
      "execution_count": null,
      "outputs": [
        {
          "output_type": "execute_result",
          "data": {
            "text/plain": [
              "0.8091500650240879"
            ]
          },
          "metadata": {
            "tags": []
          },
          "execution_count": 107
        }
      ]
    },
    {
      "cell_type": "code",
      "metadata": {
        "colab": {
          "base_uri": "https://localhost:8080/"
        },
        "id": "v8-xK44igN49",
        "outputId": "69d9691a-d408-42ab-a654-7a8d14dbb16c"
      },
      "source": [
        "from sklearn import metrics\n",
        "print(np.sqrt(metrics.mean_squared_error(y_test, y_pred6)))"
      ],
      "execution_count": null,
      "outputs": [
        {
          "output_type": "stream",
          "text": [
            "6.576237573676734\n"
          ],
          "name": "stdout"
        }
      ]
    },
    {
      "cell_type": "code",
      "metadata": {
        "colab": {
          "base_uri": "https://localhost:8080/",
          "height": 507
        },
        "id": "TrNK8BQ8gN49",
        "outputId": "8b6f1cca-a796-4f81-8aba-d60710fa216f"
      },
      "source": [
        "import statsmodels.api as sm\n",
        "m6=sm.OLS(y_train,x_train).fit()\n",
        "m6.summary()"
      ],
      "execution_count": null,
      "outputs": [
        {
          "output_type": "execute_result",
          "data": {
            "text/html": [
              "<table class=\"simpletable\">\n",
              "<caption>OLS Regression Results</caption>\n",
              "<tr>\n",
              "  <th>Dep. Variable:</th>            <td>y</td>        <th>  R-squared (uncentered):</th>      <td>   0.992</td> \n",
              "</tr>\n",
              "<tr>\n",
              "  <th>Model:</th>                   <td>OLS</td>       <th>  Adj. R-squared (uncentered):</th> <td>   0.992</td> \n",
              "</tr>\n",
              "<tr>\n",
              "  <th>Method:</th>             <td>Least Squares</td>  <th>  F-statistic:       </th>          <td>2.091e+04</td>\n",
              "</tr>\n",
              "<tr>\n",
              "  <th>Date:</th>             <td>Sat, 23 Jan 2021</td> <th>  Prob (F-statistic):</th>           <td>  0.00</td>  \n",
              "</tr>\n",
              "<tr>\n",
              "  <th>Time:</th>                 <td>06:23:45</td>     <th>  Log-Likelihood:    </th>          <td> -2554.9</td> \n",
              "</tr>\n",
              "<tr>\n",
              "  <th>No. Observations:</th>      <td>   800</td>      <th>  AIC:               </th>          <td>   5120.</td> \n",
              "</tr>\n",
              "<tr>\n",
              "  <th>Df Residuals:</th>          <td>   795</td>      <th>  BIC:               </th>          <td>   5143.</td> \n",
              "</tr>\n",
              "<tr>\n",
              "  <th>Df Model:</th>              <td>     5</td>      <th>                     </th>              <td> </td>    \n",
              "</tr>\n",
              "<tr>\n",
              "  <th>Covariance Type:</th>      <td>nonrobust</td>    <th>                     </th>              <td> </td>    \n",
              "</tr>\n",
              "</table>\n",
              "<table class=\"simpletable\">\n",
              "<tr>\n",
              "   <td></td>     <th>coef</th>     <th>std err</th>      <th>t</th>      <th>P>|t|</th>  <th>[0.025</th>    <th>0.975]</th>  \n",
              "</tr>\n",
              "<tr>\n",
              "  <th>x1</th> <td>   10.9690</td> <td>    0.413</td> <td>   26.566</td> <td> 0.000</td> <td>   10.158</td> <td>   11.779</td>\n",
              "</tr>\n",
              "<tr>\n",
              "  <th>x2</th> <td>    0.4786</td> <td>    0.047</td> <td>   10.123</td> <td> 0.000</td> <td>    0.386</td> <td>    0.571</td>\n",
              "</tr>\n",
              "<tr>\n",
              "  <th>x3</th> <td>    0.7222</td> <td>    0.178</td> <td>    4.048</td> <td> 0.000</td> <td>    0.372</td> <td>    1.072</td>\n",
              "</tr>\n",
              "<tr>\n",
              "  <th>x4</th> <td>    0.3530</td> <td>    0.047</td> <td>    7.553</td> <td> 0.000</td> <td>    0.261</td> <td>    0.445</td>\n",
              "</tr>\n",
              "<tr>\n",
              "  <th>x5</th> <td>    3.8298</td> <td>    0.457</td> <td>    8.381</td> <td> 0.000</td> <td>    2.933</td> <td>    4.727</td>\n",
              "</tr>\n",
              "</table>\n",
              "<table class=\"simpletable\">\n",
              "<tr>\n",
              "  <th>Omnibus:</th>       <td> 1.362</td> <th>  Durbin-Watson:     </th> <td>   1.848</td>\n",
              "</tr>\n",
              "<tr>\n",
              "  <th>Prob(Omnibus):</th> <td> 0.506</td> <th>  Jarque-Bera (JB):  </th> <td>   1.269</td>\n",
              "</tr>\n",
              "<tr>\n",
              "  <th>Skew:</th>          <td>-0.095</td> <th>  Prob(JB):          </th> <td>   0.530</td>\n",
              "</tr>\n",
              "<tr>\n",
              "  <th>Kurtosis:</th>      <td> 3.042</td> <th>  Cond. No.          </th> <td>    222.</td>\n",
              "</tr>\n",
              "</table><br/><br/>Warnings:<br/>[1] Standard Errors assume that the covariance matrix of the errors is correctly specified."
            ],
            "text/plain": [
              "<class 'statsmodels.iolib.summary.Summary'>\n",
              "\"\"\"\n",
              "                                 OLS Regression Results                                \n",
              "=======================================================================================\n",
              "Dep. Variable:                      y   R-squared (uncentered):                   0.992\n",
              "Model:                            OLS   Adj. R-squared (uncentered):              0.992\n",
              "Method:                 Least Squares   F-statistic:                          2.091e+04\n",
              "Date:                Sat, 23 Jan 2021   Prob (F-statistic):                        0.00\n",
              "Time:                        06:23:45   Log-Likelihood:                         -2554.9\n",
              "No. Observations:                 800   AIC:                                      5120.\n",
              "Df Residuals:                     795   BIC:                                      5143.\n",
              "Df Model:                           5                                                  \n",
              "Covariance Type:            nonrobust                                                  \n",
              "==============================================================================\n",
              "                 coef    std err          t      P>|t|      [0.025      0.975]\n",
              "------------------------------------------------------------------------------\n",
              "x1            10.9690      0.413     26.566      0.000      10.158      11.779\n",
              "x2             0.4786      0.047     10.123      0.000       0.386       0.571\n",
              "x3             0.7222      0.178      4.048      0.000       0.372       1.072\n",
              "x4             0.3530      0.047      7.553      0.000       0.261       0.445\n",
              "x5             3.8298      0.457      8.381      0.000       2.933       4.727\n",
              "==============================================================================\n",
              "Omnibus:                        1.362   Durbin-Watson:                   1.848\n",
              "Prob(Omnibus):                  0.506   Jarque-Bera (JB):                1.269\n",
              "Skew:                          -0.095   Prob(JB):                        0.530\n",
              "Kurtosis:                       3.042   Cond. No.                         222.\n",
              "==============================================================================\n",
              "\n",
              "Warnings:\n",
              "[1] Standard Errors assume that the covariance matrix of the errors is correctly specified.\n",
              "\"\"\""
            ]
          },
          "metadata": {
            "tags": []
          },
          "execution_count": 68
        }
      ]
    },
    {
      "cell_type": "code",
      "metadata": {
        "colab": {
          "base_uri": "https://localhost:8080/",
          "height": 507
        },
        "id": "j_EHlouggN4-",
        "outputId": "18e96ddc-7526-428b-eb7d-80fe573dad78"
      },
      "source": [
        "import statsmodels.api as sm\n",
        "m6=sm.OLS(y_test,x_test).fit()\n",
        "m6.summary()"
      ],
      "execution_count": null,
      "outputs": [
        {
          "output_type": "execute_result",
          "data": {
            "text/html": [
              "<table class=\"simpletable\">\n",
              "<caption>OLS Regression Results</caption>\n",
              "<tr>\n",
              "  <th>Dep. Variable:</th>            <td>0</td>        <th>  R-squared (uncentered):</th>      <td>   0.993</td> \n",
              "</tr>\n",
              "<tr>\n",
              "  <th>Model:</th>                   <td>OLS</td>       <th>  Adj. R-squared (uncentered):</th> <td>   0.993</td> \n",
              "</tr>\n",
              "<tr>\n",
              "  <th>Method:</th>             <td>Least Squares</td>  <th>  F-statistic:       </th>          <td>   5795.</td> \n",
              "</tr>\n",
              "<tr>\n",
              "  <th>Date:</th>             <td>Sat, 23 Jan 2021</td> <th>  Prob (F-statistic):</th>          <td>6.48e-210</td>\n",
              "</tr>\n",
              "<tr>\n",
              "  <th>Time:</th>                 <td>06:23:49</td>     <th>  Log-Likelihood:    </th>          <td> -625.19</td> \n",
              "</tr>\n",
              "<tr>\n",
              "  <th>No. Observations:</th>      <td>   200</td>      <th>  AIC:               </th>          <td>   1260.</td> \n",
              "</tr>\n",
              "<tr>\n",
              "  <th>Df Residuals:</th>          <td>   195</td>      <th>  BIC:               </th>          <td>   1277.</td> \n",
              "</tr>\n",
              "<tr>\n",
              "  <th>Df Model:</th>              <td>     5</td>      <th>                     </th>              <td> </td>    \n",
              "</tr>\n",
              "<tr>\n",
              "  <th>Covariance Type:</th>      <td>nonrobust</td>    <th>                     </th>              <td> </td>    \n",
              "</tr>\n",
              "</table>\n",
              "<table class=\"simpletable\">\n",
              "<tr>\n",
              "   <td></td>     <th>coef</th>     <th>std err</th>      <th>t</th>      <th>P>|t|</th>  <th>[0.025</th>    <th>0.975]</th>  \n",
              "</tr>\n",
              "<tr>\n",
              "  <th>x1</th> <td>   13.3560</td> <td>    0.775</td> <td>   17.244</td> <td> 0.000</td> <td>   11.828</td> <td>   14.884</td>\n",
              "</tr>\n",
              "<tr>\n",
              "  <th>x2</th> <td>    0.5469</td> <td>    0.098</td> <td>    5.558</td> <td> 0.000</td> <td>    0.353</td> <td>    0.741</td>\n",
              "</tr>\n",
              "<tr>\n",
              "  <th>x3</th> <td>    0.4645</td> <td>    0.357</td> <td>    1.302</td> <td> 0.194</td> <td>   -0.239</td> <td>    1.168</td>\n",
              "</tr>\n",
              "<tr>\n",
              "  <th>x4</th> <td>    0.2778</td> <td>    0.097</td> <td>    2.877</td> <td> 0.004</td> <td>    0.087</td> <td>    0.468</td>\n",
              "</tr>\n",
              "<tr>\n",
              "  <th>x5</th> <td>    3.8271</td> <td>    0.842</td> <td>    4.546</td> <td> 0.000</td> <td>    2.167</td> <td>    5.487</td>\n",
              "</tr>\n",
              "</table>\n",
              "<table class=\"simpletable\">\n",
              "<tr>\n",
              "  <th>Omnibus:</th>       <td> 0.319</td> <th>  Durbin-Watson:     </th> <td>   2.079</td>\n",
              "</tr>\n",
              "<tr>\n",
              "  <th>Prob(Omnibus):</th> <td> 0.852</td> <th>  Jarque-Bera (JB):  </th> <td>   0.107</td>\n",
              "</tr>\n",
              "<tr>\n",
              "  <th>Skew:</th>          <td> 0.002</td> <th>  Prob(JB):          </th> <td>   0.948</td>\n",
              "</tr>\n",
              "<tr>\n",
              "  <th>Kurtosis:</th>      <td> 3.113</td> <th>  Cond. No.          </th> <td>    221.</td>\n",
              "</tr>\n",
              "</table><br/><br/>Warnings:<br/>[1] Standard Errors assume that the covariance matrix of the errors is correctly specified."
            ],
            "text/plain": [
              "<class 'statsmodels.iolib.summary.Summary'>\n",
              "\"\"\"\n",
              "                                 OLS Regression Results                                \n",
              "=======================================================================================\n",
              "Dep. Variable:                      0   R-squared (uncentered):                   0.993\n",
              "Model:                            OLS   Adj. R-squared (uncentered):              0.993\n",
              "Method:                 Least Squares   F-statistic:                              5795.\n",
              "Date:                Sat, 23 Jan 2021   Prob (F-statistic):                   6.48e-210\n",
              "Time:                        06:23:49   Log-Likelihood:                         -625.19\n",
              "No. Observations:                 200   AIC:                                      1260.\n",
              "Df Residuals:                     195   BIC:                                      1277.\n",
              "Df Model:                           5                                                  \n",
              "Covariance Type:            nonrobust                                                  \n",
              "==============================================================================\n",
              "                 coef    std err          t      P>|t|      [0.025      0.975]\n",
              "------------------------------------------------------------------------------\n",
              "x1            13.3560      0.775     17.244      0.000      11.828      14.884\n",
              "x2             0.5469      0.098      5.558      0.000       0.353       0.741\n",
              "x3             0.4645      0.357      1.302      0.194      -0.239       1.168\n",
              "x4             0.2778      0.097      2.877      0.004       0.087       0.468\n",
              "x5             3.8271      0.842      4.546      0.000       2.167       5.487\n",
              "==============================================================================\n",
              "Omnibus:                        0.319   Durbin-Watson:                   2.079\n",
              "Prob(Omnibus):                  0.852   Jarque-Bera (JB):                0.107\n",
              "Skew:                           0.002   Prob(JB):                        0.948\n",
              "Kurtosis:                       3.113   Cond. No.                         221.\n",
              "==============================================================================\n",
              "\n",
              "Warnings:\n",
              "[1] Standard Errors assume that the covariance matrix of the errors is correctly specified.\n",
              "\"\"\""
            ]
          },
          "metadata": {
            "tags": []
          },
          "execution_count": 69
        }
      ]
    },
    {
      "cell_type": "code",
      "metadata": {
        "colab": {
          "base_uri": "https://localhost:8080/"
        },
        "id": "K1cV7rnCgN4-",
        "outputId": "eb3010a5-fe3c-416f-c86a-6a333ef24351"
      },
      "source": [
        "from sklearn.neighbors import KNeighborsRegressor\n",
        "from sklearn.model_selection import GridSearchCV\n",
        "model=KNeighborsRegressor()\n",
        "parameters = {'n_neighbors' : [1,2,3,4,5,6,7,8,9,10,11,12,13,14,15,16,17],\n",
        "               'leaf_size' : [1,2,3,4,5,6,7,8,9,10]\n",
        "                  \n",
        "                 }\n",
        "kn = GridSearchCV(estimator=model, param_grid = parameters, cv = 2, n_jobs=-1)\n",
        "kn.fit(x, y)\n",
        "\n",
        "    # Results from Grid Search\n",
        "print(\" Results from Grid Search \" )\n",
        "print()\n",
        "\n",
        "print(\"\\n The best score across ALL searched params:\\n\",\n",
        "        kn.best_score_)\n",
        "print(\"\\n The best parameters across ALL searched params:\\n\",\n",
        "          kn.best_params_)"
      ],
      "execution_count": null,
      "outputs": [
        {
          "output_type": "stream",
          "text": [
            " Results from Grid Search \n",
            "\n",
            "\n",
            " The best score across ALL searched params:\n",
            " 0.6812198173079713\n",
            "\n",
            " The best parameters across ALL searched params:\n",
            " {'leaf_size': 1, 'n_neighbors': 11}\n"
          ],
          "name": "stdout"
        }
      ]
    },
    {
      "cell_type": "code",
      "metadata": {
        "colab": {
          "base_uri": "https://localhost:8080/"
        },
        "id": "TPtEfzkEgN4_",
        "outputId": "033e3277-53d5-4643-f358-72872e03f04b"
      },
      "source": [
        "from sklearn.neighbors import KNeighborsRegressor\n",
        "knnr=KNeighborsRegressor(n_neighbors=11, leaf_size=2)\n",
        "knnr.fit(x_train,y_train)"
      ],
      "execution_count": null,
      "outputs": [
        {
          "output_type": "execute_result",
          "data": {
            "text/plain": [
              "KNeighborsRegressor(algorithm='auto', leaf_size=2, metric='minkowski',\n",
              "                    metric_params=None, n_jobs=None, n_neighbors=11, p=2,\n",
              "                    weights='uniform')"
            ]
          },
          "metadata": {
            "tags": []
          },
          "execution_count": 77
        }
      ]
    },
    {
      "cell_type": "code",
      "metadata": {
        "colab": {
          "base_uri": "https://localhost:8080/"
        },
        "id": "kaDwA0XggN4_",
        "outputId": "109ecb0a-c461-465d-d91b-291a3c55edab"
      },
      "source": [
        "knnr.score(x_train,y_train)"
      ],
      "execution_count": null,
      "outputs": [
        {
          "output_type": "execute_result",
          "data": {
            "text/plain": [
              "0.7412616848910641"
            ]
          },
          "metadata": {
            "tags": []
          },
          "execution_count": 78
        }
      ]
    },
    {
      "cell_type": "code",
      "metadata": {
        "colab": {
          "base_uri": "https://localhost:8080/",
          "height": 419
        },
        "id": "cEKKydoggN5A",
        "outputId": "983678ad-2fa2-40f5-dc8b-ddbff4b42330"
      },
      "source": [
        "y_pred7=knnr.predict(x_test)\n",
        "y_pred7=pd.DataFrame(y_pred7)\n",
        "y_pred7"
      ],
      "execution_count": null,
      "outputs": [
        {
          "output_type": "execute_result",
          "data": {
            "text/html": [
              "<div>\n",
              "<style scoped>\n",
              "    .dataframe tbody tr th:only-of-type {\n",
              "        vertical-align: middle;\n",
              "    }\n",
              "\n",
              "    .dataframe tbody tr th {\n",
              "        vertical-align: top;\n",
              "    }\n",
              "\n",
              "    .dataframe thead th {\n",
              "        text-align: right;\n",
              "    }\n",
              "</style>\n",
              "<table border=\"1\" class=\"dataframe\">\n",
              "  <thead>\n",
              "    <tr style=\"text-align: right;\">\n",
              "      <th></th>\n",
              "      <th>0</th>\n",
              "    </tr>\n",
              "  </thead>\n",
              "  <tbody>\n",
              "    <tr>\n",
              "      <th>0</th>\n",
              "      <td>67.909091</td>\n",
              "    </tr>\n",
              "    <tr>\n",
              "      <th>1</th>\n",
              "      <td>67.363636</td>\n",
              "    </tr>\n",
              "    <tr>\n",
              "      <th>2</th>\n",
              "      <td>48.000000</td>\n",
              "    </tr>\n",
              "    <tr>\n",
              "      <th>3</th>\n",
              "      <td>67.818182</td>\n",
              "    </tr>\n",
              "    <tr>\n",
              "      <th>4</th>\n",
              "      <td>73.909091</td>\n",
              "    </tr>\n",
              "    <tr>\n",
              "      <th>...</th>\n",
              "      <td>...</td>\n",
              "    </tr>\n",
              "    <tr>\n",
              "      <th>195</th>\n",
              "      <td>55.727273</td>\n",
              "    </tr>\n",
              "    <tr>\n",
              "      <th>196</th>\n",
              "      <td>80.636364</td>\n",
              "    </tr>\n",
              "    <tr>\n",
              "      <th>197</th>\n",
              "      <td>76.909091</td>\n",
              "    </tr>\n",
              "    <tr>\n",
              "      <th>198</th>\n",
              "      <td>65.090909</td>\n",
              "    </tr>\n",
              "    <tr>\n",
              "      <th>199</th>\n",
              "      <td>68.090909</td>\n",
              "    </tr>\n",
              "  </tbody>\n",
              "</table>\n",
              "<p>200 rows × 1 columns</p>\n",
              "</div>"
            ],
            "text/plain": [
              "             0\n",
              "0    67.909091\n",
              "1    67.363636\n",
              "2    48.000000\n",
              "3    67.818182\n",
              "4    73.909091\n",
              "..         ...\n",
              "195  55.727273\n",
              "196  80.636364\n",
              "197  76.909091\n",
              "198  65.090909\n",
              "199  68.090909\n",
              "\n",
              "[200 rows x 1 columns]"
            ]
          },
          "metadata": {
            "tags": []
          },
          "execution_count": 79
        }
      ]
    },
    {
      "cell_type": "code",
      "metadata": {
        "colab": {
          "base_uri": "https://localhost:8080/",
          "height": 419
        },
        "id": "naV2nMdGgN5A",
        "outputId": "17be5490-16a2-43bd-e741-994e74a293a2"
      },
      "source": [
        "pred7=pd.concat([y_test,y_pred7],axis=1)\n",
        "pred7"
      ],
      "execution_count": null,
      "outputs": [
        {
          "output_type": "execute_result",
          "data": {
            "text/html": [
              "<div>\n",
              "<style scoped>\n",
              "    .dataframe tbody tr th:only-of-type {\n",
              "        vertical-align: middle;\n",
              "    }\n",
              "\n",
              "    .dataframe tbody tr th {\n",
              "        vertical-align: top;\n",
              "    }\n",
              "\n",
              "    .dataframe thead th {\n",
              "        text-align: right;\n",
              "    }\n",
              "</style>\n",
              "<table border=\"1\" class=\"dataframe\">\n",
              "  <thead>\n",
              "    <tr style=\"text-align: right;\">\n",
              "      <th></th>\n",
              "      <th>0</th>\n",
              "      <th>0</th>\n",
              "    </tr>\n",
              "  </thead>\n",
              "  <tbody>\n",
              "    <tr>\n",
              "      <th>0</th>\n",
              "      <td>62</td>\n",
              "      <td>67.909091</td>\n",
              "    </tr>\n",
              "    <tr>\n",
              "      <th>1</th>\n",
              "      <td>87</td>\n",
              "      <td>67.363636</td>\n",
              "    </tr>\n",
              "    <tr>\n",
              "      <th>2</th>\n",
              "      <td>40</td>\n",
              "      <td>48.000000</td>\n",
              "    </tr>\n",
              "    <tr>\n",
              "      <th>3</th>\n",
              "      <td>77</td>\n",
              "      <td>67.818182</td>\n",
              "    </tr>\n",
              "    <tr>\n",
              "      <th>4</th>\n",
              "      <td>69</td>\n",
              "      <td>73.909091</td>\n",
              "    </tr>\n",
              "    <tr>\n",
              "      <th>...</th>\n",
              "      <td>...</td>\n",
              "      <td>...</td>\n",
              "    </tr>\n",
              "    <tr>\n",
              "      <th>195</th>\n",
              "      <td>63</td>\n",
              "      <td>55.727273</td>\n",
              "    </tr>\n",
              "    <tr>\n",
              "      <th>196</th>\n",
              "      <td>74</td>\n",
              "      <td>80.636364</td>\n",
              "    </tr>\n",
              "    <tr>\n",
              "      <th>197</th>\n",
              "      <td>84</td>\n",
              "      <td>76.909091</td>\n",
              "    </tr>\n",
              "    <tr>\n",
              "      <th>198</th>\n",
              "      <td>65</td>\n",
              "      <td>65.090909</td>\n",
              "    </tr>\n",
              "    <tr>\n",
              "      <th>199</th>\n",
              "      <td>62</td>\n",
              "      <td>68.090909</td>\n",
              "    </tr>\n",
              "  </tbody>\n",
              "</table>\n",
              "<p>200 rows × 2 columns</p>\n",
              "</div>"
            ],
            "text/plain": [
              "      0          0\n",
              "0    62  67.909091\n",
              "1    87  67.363636\n",
              "2    40  48.000000\n",
              "3    77  67.818182\n",
              "4    69  73.909091\n",
              "..   ..        ...\n",
              "195  63  55.727273\n",
              "196  74  80.636364\n",
              "197  84  76.909091\n",
              "198  65  65.090909\n",
              "199  62  68.090909\n",
              "\n",
              "[200 rows x 2 columns]"
            ]
          },
          "metadata": {
            "tags": []
          },
          "execution_count": 80
        }
      ]
    },
    {
      "cell_type": "code",
      "metadata": {
        "colab": {
          "base_uri": "https://localhost:8080/"
        },
        "id": "PHsd9zargN5B",
        "outputId": "cde55639-17a2-423e-cf70-23d8dc9475ef"
      },
      "source": [
        "from sklearn.metrics import r2_score\n",
        "b=r2_score(y_test,y_pred7)\n",
        "b"
      ],
      "execution_count": null,
      "outputs": [
        {
          "output_type": "execute_result",
          "data": {
            "text/plain": [
              "0.6815530935686389"
            ]
          },
          "metadata": {
            "tags": []
          },
          "execution_count": 108
        }
      ]
    },
    {
      "cell_type": "code",
      "metadata": {
        "colab": {
          "base_uri": "https://localhost:8080/"
        },
        "id": "9Kj1H874gN5C",
        "outputId": "cde2dc4a-b889-4211-be65-0f885177e610"
      },
      "source": [
        "from sklearn import metrics\n",
        "print(np.sqrt(metrics.mean_squared_error(y_test, y_pred7)))"
      ],
      "execution_count": null,
      "outputs": [
        {
          "output_type": "stream",
          "text": [
            "8.494738283925921\n"
          ],
          "name": "stdout"
        }
      ]
    },
    {
      "cell_type": "code",
      "metadata": {
        "colab": {
          "base_uri": "https://localhost:8080/"
        },
        "id": "X8HgfRxJgN5C",
        "outputId": "21f48c6e-c781-498e-bda5-dc810ad0bf16"
      },
      "source": [
        "from sklearn.linear_model import RidgeCV\n",
        "rr_cv = RidgeCV(alphas=[0.1,1.0,1.0,2.0,2.9,3.0,3.1,3.2,3.3,3.4,3.5,3.9,4.0,4.1,4.2,4.3,4.4,4.5,4.6,4.7,5.0])\n",
        "model_cv = rr_cv.fit(x_train,y_train)\n",
        "model_cv.alpha_"
      ],
      "execution_count": null,
      "outputs": [
        {
          "output_type": "execute_result",
          "data": {
            "text/plain": [
              "0.1"
            ]
          },
          "metadata": {
            "tags": []
          },
          "execution_count": 83
        }
      ]
    },
    {
      "cell_type": "code",
      "metadata": {
        "colab": {
          "base_uri": "https://localhost:8080/"
        },
        "id": "2tF9VvgsgN5D",
        "outputId": "dd11816d-6383-4cff-b3a8-1035a77edbba"
      },
      "source": [
        "\n",
        "from sklearn.linear_model import Ridge \n",
        "rr=Ridge(alpha=0.1,solver=\"auto\")\n",
        "rr.fit(x_train,y_train)"
      ],
      "execution_count": null,
      "outputs": [
        {
          "output_type": "execute_result",
          "data": {
            "text/plain": [
              "Ridge(alpha=0.1, copy_X=True, fit_intercept=True, max_iter=None,\n",
              "      normalize=False, random_state=None, solver='auto', tol=0.001)"
            ]
          },
          "metadata": {
            "tags": []
          },
          "execution_count": 84
        }
      ]
    },
    {
      "cell_type": "code",
      "metadata": {
        "colab": {
          "base_uri": "https://localhost:8080/",
          "height": 419
        },
        "id": "Ucr107fKgN5D",
        "outputId": "20d16c76-b475-4c13-a328-92b4f5ea8561"
      },
      "source": [
        "y_pred8=rr.predict(x_test)\n",
        "y_pred8=pd.DataFrame(y_pred8)\n",
        "y_pred8"
      ],
      "execution_count": null,
      "outputs": [
        {
          "output_type": "execute_result",
          "data": {
            "text/html": [
              "<div>\n",
              "<style scoped>\n",
              "    .dataframe tbody tr th:only-of-type {\n",
              "        vertical-align: middle;\n",
              "    }\n",
              "\n",
              "    .dataframe tbody tr th {\n",
              "        vertical-align: top;\n",
              "    }\n",
              "\n",
              "    .dataframe thead th {\n",
              "        text-align: right;\n",
              "    }\n",
              "</style>\n",
              "<table border=\"1\" class=\"dataframe\">\n",
              "  <thead>\n",
              "    <tr style=\"text-align: right;\">\n",
              "      <th></th>\n",
              "      <th>0</th>\n",
              "    </tr>\n",
              "  </thead>\n",
              "  <tbody>\n",
              "    <tr>\n",
              "      <th>0</th>\n",
              "      <td>62.648428</td>\n",
              "    </tr>\n",
              "    <tr>\n",
              "      <th>1</th>\n",
              "      <td>73.345737</td>\n",
              "    </tr>\n",
              "    <tr>\n",
              "      <th>2</th>\n",
              "      <td>50.717060</td>\n",
              "    </tr>\n",
              "    <tr>\n",
              "      <th>3</th>\n",
              "      <td>65.597408</td>\n",
              "    </tr>\n",
              "    <tr>\n",
              "      <th>4</th>\n",
              "      <td>69.088815</td>\n",
              "    </tr>\n",
              "    <tr>\n",
              "      <th>...</th>\n",
              "      <td>...</td>\n",
              "    </tr>\n",
              "    <tr>\n",
              "      <th>195</th>\n",
              "      <td>63.184552</td>\n",
              "    </tr>\n",
              "    <tr>\n",
              "      <th>196</th>\n",
              "      <td>75.415267</td>\n",
              "    </tr>\n",
              "    <tr>\n",
              "      <th>197</th>\n",
              "      <td>82.021541</td>\n",
              "    </tr>\n",
              "    <tr>\n",
              "      <th>198</th>\n",
              "      <td>62.628635</td>\n",
              "    </tr>\n",
              "    <tr>\n",
              "      <th>199</th>\n",
              "      <td>71.096397</td>\n",
              "    </tr>\n",
              "  </tbody>\n",
              "</table>\n",
              "<p>200 rows × 1 columns</p>\n",
              "</div>"
            ],
            "text/plain": [
              "             0\n",
              "0    62.648428\n",
              "1    73.345737\n",
              "2    50.717060\n",
              "3    65.597408\n",
              "4    69.088815\n",
              "..         ...\n",
              "195  63.184552\n",
              "196  75.415267\n",
              "197  82.021541\n",
              "198  62.628635\n",
              "199  71.096397\n",
              "\n",
              "[200 rows x 1 columns]"
            ]
          },
          "metadata": {
            "tags": []
          },
          "execution_count": 85
        }
      ]
    },
    {
      "cell_type": "code",
      "metadata": {
        "colab": {
          "base_uri": "https://localhost:8080/",
          "height": 419
        },
        "id": "eaf9OQgOgN5E",
        "outputId": "dc236e12-4223-4a0e-9976-12d403638ff3"
      },
      "source": [
        "pred8=pd.concat([y_test,y_pred8],axis=1)\n",
        "pred8"
      ],
      "execution_count": null,
      "outputs": [
        {
          "output_type": "execute_result",
          "data": {
            "text/html": [
              "<div>\n",
              "<style scoped>\n",
              "    .dataframe tbody tr th:only-of-type {\n",
              "        vertical-align: middle;\n",
              "    }\n",
              "\n",
              "    .dataframe tbody tr th {\n",
              "        vertical-align: top;\n",
              "    }\n",
              "\n",
              "    .dataframe thead th {\n",
              "        text-align: right;\n",
              "    }\n",
              "</style>\n",
              "<table border=\"1\" class=\"dataframe\">\n",
              "  <thead>\n",
              "    <tr style=\"text-align: right;\">\n",
              "      <th></th>\n",
              "      <th>0</th>\n",
              "      <th>0</th>\n",
              "    </tr>\n",
              "  </thead>\n",
              "  <tbody>\n",
              "    <tr>\n",
              "      <th>0</th>\n",
              "      <td>62</td>\n",
              "      <td>62.648428</td>\n",
              "    </tr>\n",
              "    <tr>\n",
              "      <th>1</th>\n",
              "      <td>87</td>\n",
              "      <td>73.345737</td>\n",
              "    </tr>\n",
              "    <tr>\n",
              "      <th>2</th>\n",
              "      <td>40</td>\n",
              "      <td>50.717060</td>\n",
              "    </tr>\n",
              "    <tr>\n",
              "      <th>3</th>\n",
              "      <td>77</td>\n",
              "      <td>65.597408</td>\n",
              "    </tr>\n",
              "    <tr>\n",
              "      <th>4</th>\n",
              "      <td>69</td>\n",
              "      <td>69.088815</td>\n",
              "    </tr>\n",
              "    <tr>\n",
              "      <th>...</th>\n",
              "      <td>...</td>\n",
              "      <td>...</td>\n",
              "    </tr>\n",
              "    <tr>\n",
              "      <th>195</th>\n",
              "      <td>63</td>\n",
              "      <td>63.184552</td>\n",
              "    </tr>\n",
              "    <tr>\n",
              "      <th>196</th>\n",
              "      <td>74</td>\n",
              "      <td>75.415267</td>\n",
              "    </tr>\n",
              "    <tr>\n",
              "      <th>197</th>\n",
              "      <td>84</td>\n",
              "      <td>82.021541</td>\n",
              "    </tr>\n",
              "    <tr>\n",
              "      <th>198</th>\n",
              "      <td>65</td>\n",
              "      <td>62.628635</td>\n",
              "    </tr>\n",
              "    <tr>\n",
              "      <th>199</th>\n",
              "      <td>62</td>\n",
              "      <td>71.096397</td>\n",
              "    </tr>\n",
              "  </tbody>\n",
              "</table>\n",
              "<p>200 rows × 2 columns</p>\n",
              "</div>"
            ],
            "text/plain": [
              "      0          0\n",
              "0    62  62.648428\n",
              "1    87  73.345737\n",
              "2    40  50.717060\n",
              "3    77  65.597408\n",
              "4    69  69.088815\n",
              "..   ..        ...\n",
              "195  63  63.184552\n",
              "196  74  75.415267\n",
              "197  84  82.021541\n",
              "198  65  62.628635\n",
              "199  62  71.096397\n",
              "\n",
              "[200 rows x 2 columns]"
            ]
          },
          "metadata": {
            "tags": []
          },
          "execution_count": 86
        }
      ]
    },
    {
      "cell_type": "code",
      "metadata": {
        "colab": {
          "base_uri": "https://localhost:8080/"
        },
        "id": "Qzqa8j1-gN5F",
        "outputId": "64cfe41e-18ae-41b3-c7e7-417a3e482d39"
      },
      "source": [
        "from sklearn.metrics import r2_score\n",
        "d=r2_score(y_test,y_pred8)\n",
        "d"
      ],
      "execution_count": null,
      "outputs": [
        {
          "output_type": "execute_result",
          "data": {
            "text/plain": [
              "0.8595363115832046"
            ]
          },
          "metadata": {
            "tags": []
          },
          "execution_count": 109
        }
      ]
    },
    {
      "cell_type": "code",
      "metadata": {
        "colab": {
          "base_uri": "https://localhost:8080/"
        },
        "id": "5VdZ-GuXgN5F",
        "outputId": "190f2712-38cd-427b-bfd2-b5a8989341d9"
      },
      "source": [
        "from sklearn import metrics\n",
        "print(np.sqrt(metrics.mean_squared_error(y_test, y_pred8)))"
      ],
      "execution_count": null,
      "outputs": [
        {
          "output_type": "stream",
          "text": [
            "5.641745876689884\n"
          ],
          "name": "stdout"
        }
      ]
    },
    {
      "cell_type": "code",
      "metadata": {
        "colab": {
          "base_uri": "https://localhost:8080/"
        },
        "id": "WwsTo68egN5F",
        "outputId": "9aaf097c-3afc-490f-dfa2-03ec3a387b7b"
      },
      "source": [
        "from sklearn.linear_model import Lasso\n",
        "lsr=Lasso(alpha=0.1)\n",
        "lsr.fit(x_train,y_train)"
      ],
      "execution_count": null,
      "outputs": [
        {
          "output_type": "execute_result",
          "data": {
            "text/plain": [
              "Lasso(alpha=0.1, copy_X=True, fit_intercept=True, max_iter=1000,\n",
              "      normalize=False, positive=False, precompute=False, random_state=None,\n",
              "      selection='cyclic', tol=0.0001, warm_start=False)"
            ]
          },
          "metadata": {
            "tags": []
          },
          "execution_count": 90
        }
      ]
    },
    {
      "cell_type": "code",
      "metadata": {
        "colab": {
          "base_uri": "https://localhost:8080/",
          "height": 419
        },
        "id": "jXw1PEVdgN5G",
        "outputId": "f92abbab-f6d9-4630-ca10-7ba8e36105f3"
      },
      "source": [
        "y_pred9=lsr.predict(x_test)\n",
        "y_pred9=pd.DataFrame(y_pred9)\n",
        "y_pred9"
      ],
      "execution_count": null,
      "outputs": [
        {
          "output_type": "execute_result",
          "data": {
            "text/html": [
              "<div>\n",
              "<style scoped>\n",
              "    .dataframe tbody tr th:only-of-type {\n",
              "        vertical-align: middle;\n",
              "    }\n",
              "\n",
              "    .dataframe tbody tr th {\n",
              "        vertical-align: top;\n",
              "    }\n",
              "\n",
              "    .dataframe thead th {\n",
              "        text-align: right;\n",
              "    }\n",
              "</style>\n",
              "<table border=\"1\" class=\"dataframe\">\n",
              "  <thead>\n",
              "    <tr style=\"text-align: right;\">\n",
              "      <th></th>\n",
              "      <th>0</th>\n",
              "    </tr>\n",
              "  </thead>\n",
              "  <tbody>\n",
              "    <tr>\n",
              "      <th>0</th>\n",
              "      <td>63.055262</td>\n",
              "    </tr>\n",
              "    <tr>\n",
              "      <th>1</th>\n",
              "      <td>73.423774</td>\n",
              "    </tr>\n",
              "    <tr>\n",
              "      <th>2</th>\n",
              "      <td>50.778045</td>\n",
              "    </tr>\n",
              "    <tr>\n",
              "      <th>3</th>\n",
              "      <td>65.604024</td>\n",
              "    </tr>\n",
              "    <tr>\n",
              "      <th>4</th>\n",
              "      <td>69.145654</td>\n",
              "    </tr>\n",
              "    <tr>\n",
              "      <th>...</th>\n",
              "      <td>...</td>\n",
              "    </tr>\n",
              "    <tr>\n",
              "      <th>195</th>\n",
              "      <td>63.201452</td>\n",
              "    </tr>\n",
              "    <tr>\n",
              "      <th>196</th>\n",
              "      <td>75.958101</td>\n",
              "    </tr>\n",
              "    <tr>\n",
              "      <th>197</th>\n",
              "      <td>81.759852</td>\n",
              "    </tr>\n",
              "    <tr>\n",
              "      <th>198</th>\n",
              "      <td>62.787284</td>\n",
              "    </tr>\n",
              "    <tr>\n",
              "      <th>199</th>\n",
              "      <td>70.861660</td>\n",
              "    </tr>\n",
              "  </tbody>\n",
              "</table>\n",
              "<p>200 rows × 1 columns</p>\n",
              "</div>"
            ],
            "text/plain": [
              "             0\n",
              "0    63.055262\n",
              "1    73.423774\n",
              "2    50.778045\n",
              "3    65.604024\n",
              "4    69.145654\n",
              "..         ...\n",
              "195  63.201452\n",
              "196  75.958101\n",
              "197  81.759852\n",
              "198  62.787284\n",
              "199  70.861660\n",
              "\n",
              "[200 rows x 1 columns]"
            ]
          },
          "metadata": {
            "tags": []
          },
          "execution_count": 91
        }
      ]
    },
    {
      "cell_type": "code",
      "metadata": {
        "colab": {
          "base_uri": "https://localhost:8080/",
          "height": 419
        },
        "id": "gOC_iiCGgN5G",
        "outputId": "1824be0e-aaec-4516-baa6-9639ebe43861"
      },
      "source": [
        "pred9=pd.concat([y_test,y_pred9],axis=1)\n",
        "pred9"
      ],
      "execution_count": null,
      "outputs": [
        {
          "output_type": "execute_result",
          "data": {
            "text/html": [
              "<div>\n",
              "<style scoped>\n",
              "    .dataframe tbody tr th:only-of-type {\n",
              "        vertical-align: middle;\n",
              "    }\n",
              "\n",
              "    .dataframe tbody tr th {\n",
              "        vertical-align: top;\n",
              "    }\n",
              "\n",
              "    .dataframe thead th {\n",
              "        text-align: right;\n",
              "    }\n",
              "</style>\n",
              "<table border=\"1\" class=\"dataframe\">\n",
              "  <thead>\n",
              "    <tr style=\"text-align: right;\">\n",
              "      <th></th>\n",
              "      <th>0</th>\n",
              "      <th>0</th>\n",
              "    </tr>\n",
              "  </thead>\n",
              "  <tbody>\n",
              "    <tr>\n",
              "      <th>0</th>\n",
              "      <td>62</td>\n",
              "      <td>63.055262</td>\n",
              "    </tr>\n",
              "    <tr>\n",
              "      <th>1</th>\n",
              "      <td>87</td>\n",
              "      <td>73.423774</td>\n",
              "    </tr>\n",
              "    <tr>\n",
              "      <th>2</th>\n",
              "      <td>40</td>\n",
              "      <td>50.778045</td>\n",
              "    </tr>\n",
              "    <tr>\n",
              "      <th>3</th>\n",
              "      <td>77</td>\n",
              "      <td>65.604024</td>\n",
              "    </tr>\n",
              "    <tr>\n",
              "      <th>4</th>\n",
              "      <td>69</td>\n",
              "      <td>69.145654</td>\n",
              "    </tr>\n",
              "    <tr>\n",
              "      <th>...</th>\n",
              "      <td>...</td>\n",
              "      <td>...</td>\n",
              "    </tr>\n",
              "    <tr>\n",
              "      <th>195</th>\n",
              "      <td>63</td>\n",
              "      <td>63.201452</td>\n",
              "    </tr>\n",
              "    <tr>\n",
              "      <th>196</th>\n",
              "      <td>74</td>\n",
              "      <td>75.958101</td>\n",
              "    </tr>\n",
              "    <tr>\n",
              "      <th>197</th>\n",
              "      <td>84</td>\n",
              "      <td>81.759852</td>\n",
              "    </tr>\n",
              "    <tr>\n",
              "      <th>198</th>\n",
              "      <td>65</td>\n",
              "      <td>62.787284</td>\n",
              "    </tr>\n",
              "    <tr>\n",
              "      <th>199</th>\n",
              "      <td>62</td>\n",
              "      <td>70.861660</td>\n",
              "    </tr>\n",
              "  </tbody>\n",
              "</table>\n",
              "<p>200 rows × 2 columns</p>\n",
              "</div>"
            ],
            "text/plain": [
              "      0          0\n",
              "0    62  63.055262\n",
              "1    87  73.423774\n",
              "2    40  50.778045\n",
              "3    77  65.604024\n",
              "4    69  69.145654\n",
              "..   ..        ...\n",
              "195  63  63.201452\n",
              "196  74  75.958101\n",
              "197  84  81.759852\n",
              "198  65  62.787284\n",
              "199  62  70.861660\n",
              "\n",
              "[200 rows x 2 columns]"
            ]
          },
          "metadata": {
            "tags": []
          },
          "execution_count": 92
        }
      ]
    },
    {
      "cell_type": "code",
      "metadata": {
        "colab": {
          "base_uri": "https://localhost:8080/"
        },
        "id": "4qguDKElgN5H",
        "outputId": "207692d7-1645-4f33-d5c5-732ac79878d6"
      },
      "source": [
        "from sklearn.metrics import r2_score\n",
        "e=r2_score(y_test,y_pred9)\n",
        "e"
      ],
      "execution_count": null,
      "outputs": [
        {
          "output_type": "execute_result",
          "data": {
            "text/plain": [
              "0.8577422369806381"
            ]
          },
          "metadata": {
            "tags": []
          },
          "execution_count": 110
        }
      ]
    },
    {
      "cell_type": "code",
      "metadata": {
        "colab": {
          "base_uri": "https://localhost:8080/"
        },
        "id": "W_ZJCpK9gN5H",
        "outputId": "9eaf8781-6d88-4614-f3c6-2f3bbead7bea"
      },
      "source": [
        "from sklearn import metrics\n",
        "print(np.sqrt(metrics.mean_squared_error(y_test, y_pred9)))"
      ],
      "execution_count": null,
      "outputs": [
        {
          "output_type": "stream",
          "text": [
            "5.67766120093549\n"
          ],
          "name": "stdout"
        }
      ]
    },
    {
      "cell_type": "code",
      "metadata": {
        "id": "Ndh6OgyEgN5I"
      },
      "source": [
        "import keras\n",
        "import tensorflow as tf\n",
        "from keras.layers import Dense\n",
        "from keras.models import Sequential \n",
        "from sklearn.model_selection import GridSearchCV\n",
        "\n"
      ],
      "execution_count": null,
      "outputs": []
    },
    {
      "cell_type": "code",
      "metadata": {
        "id": "0xazkibig8I3"
      },
      "source": [
        "ann=tf.keras.models.Sequential()"
      ],
      "execution_count": null,
      "outputs": []
    },
    {
      "cell_type": "code",
      "metadata": {
        "colab": {
          "base_uri": "https://localhost:8080/",
          "height": 408
        },
        "id": "9M0t7HgKhlKR",
        "outputId": "a8b6e5a1-ed27-434a-8c19-8b62066c7cd0"
      },
      "source": [
        "from sklearn.model_selection import GridSearchCV\n",
        "parameters = {'epochs' : [10,60,80,100,120,140,150,160,180,200,220,240,260],\n",
        "               'batch_size' : [1,2,3,4,5,6,7,8,9,10,20,30,50,50]\n",
        "              }\n",
        "an = GridSearchCV(estimator=ann, param_grid = parameters, cv = 2, n_jobs=-1,scoring='neg_mean_absolute_error')\n",
        "an.fit(x_train,y_train)\n",
        "print(\" Results from Grid Search \" )\n",
        "print()\n",
        "print(\"\\n The best estimator across ALL searched params:\\n\",\n",
        "          an.best_estimator_)\n",
        "\n",
        "print(\"\\n The best score across ALL searched params:\\n\",\n",
        "       an.best_score_)\n",
        "print(\"\\n The best parameters across ALL searched params:\\n\",\n",
        "          an.best_params_)"
      ],
      "execution_count": null,
      "outputs": [
        {
          "output_type": "error",
          "ename": "TypeError",
          "evalue": "ignored",
          "traceback": [
            "\u001b[0;31m---------------------------------------------------------------------------\u001b[0m",
            "\u001b[0;31mTypeError\u001b[0m                                 Traceback (most recent call last)",
            "\u001b[0;32m<ipython-input-97-98d80597606f>\u001b[0m in \u001b[0;36m<module>\u001b[0;34m()\u001b[0m\n\u001b[1;32m      4\u001b[0m               }\n\u001b[1;32m      5\u001b[0m \u001b[0man\u001b[0m \u001b[0;34m=\u001b[0m \u001b[0mGridSearchCV\u001b[0m\u001b[0;34m(\u001b[0m\u001b[0mestimator\u001b[0m\u001b[0;34m=\u001b[0m\u001b[0mann\u001b[0m\u001b[0;34m,\u001b[0m \u001b[0mparam_grid\u001b[0m \u001b[0;34m=\u001b[0m \u001b[0mparameters\u001b[0m\u001b[0;34m,\u001b[0m \u001b[0mcv\u001b[0m \u001b[0;34m=\u001b[0m \u001b[0;36m2\u001b[0m\u001b[0;34m,\u001b[0m \u001b[0mn_jobs\u001b[0m\u001b[0;34m=\u001b[0m\u001b[0;34m-\u001b[0m\u001b[0;36m1\u001b[0m\u001b[0;34m,\u001b[0m\u001b[0mscoring\u001b[0m\u001b[0;34m=\u001b[0m\u001b[0;34m'neg_mean_absolute_error'\u001b[0m\u001b[0;34m)\u001b[0m\u001b[0;34m\u001b[0m\u001b[0;34m\u001b[0m\u001b[0m\n\u001b[0;32m----> 6\u001b[0;31m \u001b[0man\u001b[0m\u001b[0;34m.\u001b[0m\u001b[0mfit\u001b[0m\u001b[0;34m(\u001b[0m\u001b[0mx_train\u001b[0m\u001b[0;34m,\u001b[0m\u001b[0my_train\u001b[0m\u001b[0;34m)\u001b[0m\u001b[0;34m\u001b[0m\u001b[0;34m\u001b[0m\u001b[0m\n\u001b[0m\u001b[1;32m      7\u001b[0m \u001b[0mprint\u001b[0m\u001b[0;34m(\u001b[0m\u001b[0;34m\" Results from Grid Search \"\u001b[0m \u001b[0;34m)\u001b[0m\u001b[0;34m\u001b[0m\u001b[0;34m\u001b[0m\u001b[0m\n\u001b[1;32m      8\u001b[0m \u001b[0mprint\u001b[0m\u001b[0;34m(\u001b[0m\u001b[0;34m)\u001b[0m\u001b[0;34m\u001b[0m\u001b[0;34m\u001b[0m\u001b[0m\n",
            "\u001b[0;32m/usr/local/lib/python3.6/dist-packages/sklearn/model_selection/_search.py\u001b[0m in \u001b[0;36mfit\u001b[0;34m(self, X, y, groups, **fit_params)\u001b[0m\n\u001b[1;32m    653\u001b[0m         \u001b[0mn_splits\u001b[0m \u001b[0;34m=\u001b[0m \u001b[0mcv\u001b[0m\u001b[0;34m.\u001b[0m\u001b[0mget_n_splits\u001b[0m\u001b[0;34m(\u001b[0m\u001b[0mX\u001b[0m\u001b[0;34m,\u001b[0m \u001b[0my\u001b[0m\u001b[0;34m,\u001b[0m \u001b[0mgroups\u001b[0m\u001b[0;34m)\u001b[0m\u001b[0;34m\u001b[0m\u001b[0;34m\u001b[0m\u001b[0m\n\u001b[1;32m    654\u001b[0m \u001b[0;34m\u001b[0m\u001b[0m\n\u001b[0;32m--> 655\u001b[0;31m         \u001b[0mbase_estimator\u001b[0m \u001b[0;34m=\u001b[0m \u001b[0mclone\u001b[0m\u001b[0;34m(\u001b[0m\u001b[0mself\u001b[0m\u001b[0;34m.\u001b[0m\u001b[0mestimator\u001b[0m\u001b[0;34m)\u001b[0m\u001b[0;34m\u001b[0m\u001b[0;34m\u001b[0m\u001b[0m\n\u001b[0m\u001b[1;32m    656\u001b[0m \u001b[0;34m\u001b[0m\u001b[0m\n\u001b[1;32m    657\u001b[0m         parallel = Parallel(n_jobs=self.n_jobs, verbose=self.verbose,\n",
            "\u001b[0;32m/usr/local/lib/python3.6/dist-packages/sklearn/base.py\u001b[0m in \u001b[0;36mclone\u001b[0;34m(estimator, safe)\u001b[0m\n\u001b[1;32m     65\u001b[0m                             \u001b[0;34m\"it does not seem to be a scikit-learn estimator \"\u001b[0m\u001b[0;34m\u001b[0m\u001b[0;34m\u001b[0m\u001b[0m\n\u001b[1;32m     66\u001b[0m                             \u001b[0;34m\"as it does not implement a 'get_params' methods.\"\u001b[0m\u001b[0;34m\u001b[0m\u001b[0;34m\u001b[0m\u001b[0m\n\u001b[0;32m---> 67\u001b[0;31m                             % (repr(estimator), type(estimator)))\n\u001b[0m\u001b[1;32m     68\u001b[0m     \u001b[0mklass\u001b[0m \u001b[0;34m=\u001b[0m \u001b[0mestimator\u001b[0m\u001b[0;34m.\u001b[0m\u001b[0m__class__\u001b[0m\u001b[0;34m\u001b[0m\u001b[0;34m\u001b[0m\u001b[0m\n\u001b[1;32m     69\u001b[0m     \u001b[0mnew_object_params\u001b[0m \u001b[0;34m=\u001b[0m \u001b[0mestimator\u001b[0m\u001b[0;34m.\u001b[0m\u001b[0mget_params\u001b[0m\u001b[0;34m(\u001b[0m\u001b[0mdeep\u001b[0m\u001b[0;34m=\u001b[0m\u001b[0;32mFalse\u001b[0m\u001b[0;34m)\u001b[0m\u001b[0;34m\u001b[0m\u001b[0;34m\u001b[0m\u001b[0m\n",
            "\u001b[0;31mTypeError\u001b[0m: Cannot clone object '<tensorflow.python.keras.engine.sequential.Sequential object at 0x7fa023191da0>' (type <class 'tensorflow.python.keras.engine.sequential.Sequential'>): it does not seem to be a scikit-learn estimator as it does not implement a 'get_params' methods."
          ]
        }
      ]
    },
    {
      "cell_type": "code",
      "metadata": {
        "id": "NhibBBY8g8MJ"
      },
      "source": [
        "ann.add(tf.keras.layers.Dense(units=5,activation='linear'))\n",
        "ann.add(tf.keras.layers.Dense(units=5,activation='linear'))\n",
        "ann.add(tf.keras.layers.Dense(units=3,activation='linear'))\n",
        "ann.add(tf.keras.layers.Dense(units=1,activation='linear'))"
      ],
      "execution_count": null,
      "outputs": []
    },
    {
      "cell_type": "code",
      "metadata": {
        "colab": {
          "base_uri": "https://localhost:8080/"
        },
        "id": "5bk0nRQlg8QE",
        "outputId": "f380f043-0669-45ff-fe88-f66c702d8029"
      },
      "source": [
        "ann.compile(optimizer='rmsprop',loss='mean_squared_error',metrics=['mean_squared_error'])\n",
        "ann.fit(x_train,y_train,batch_size=21,epochs=150)"
      ],
      "execution_count": null,
      "outputs": [
        {
          "output_type": "stream",
          "text": [
            "Epoch 1/150\n",
            "39/39 [==============================] - 1s 2ms/step - loss: 40.5124 - mean_squared_error: 40.5124\n",
            "Epoch 2/150\n",
            "39/39 [==============================] - 0s 1ms/step - loss: 33.3480 - mean_squared_error: 33.3480\n",
            "Epoch 3/150\n",
            "39/39 [==============================] - 0s 2ms/step - loss: 35.4929 - mean_squared_error: 35.4929\n",
            "Epoch 4/150\n",
            "39/39 [==============================] - 0s 1ms/step - loss: 34.6165 - mean_squared_error: 34.6165\n",
            "Epoch 5/150\n",
            "39/39 [==============================] - 0s 1ms/step - loss: 36.3352 - mean_squared_error: 36.3352\n",
            "Epoch 6/150\n",
            "39/39 [==============================] - 0s 1ms/step - loss: 36.9301 - mean_squared_error: 36.9301\n",
            "Epoch 7/150\n",
            "39/39 [==============================] - 0s 1ms/step - loss: 38.8533 - mean_squared_error: 38.8533\n",
            "Epoch 8/150\n",
            "39/39 [==============================] - 0s 1ms/step - loss: 39.3614 - mean_squared_error: 39.3614\n",
            "Epoch 9/150\n",
            "39/39 [==============================] - 0s 1ms/step - loss: 37.9547 - mean_squared_error: 37.9547\n",
            "Epoch 10/150\n",
            "39/39 [==============================] - 0s 1ms/step - loss: 34.5355 - mean_squared_error: 34.5355\n",
            "Epoch 11/150\n",
            "39/39 [==============================] - 0s 1ms/step - loss: 39.6429 - mean_squared_error: 39.6429\n",
            "Epoch 12/150\n",
            "39/39 [==============================] - 0s 1ms/step - loss: 35.2867 - mean_squared_error: 35.2867\n",
            "Epoch 13/150\n",
            "39/39 [==============================] - 0s 2ms/step - loss: 41.2460 - mean_squared_error: 41.2460\n",
            "Epoch 14/150\n",
            "39/39 [==============================] - 0s 1ms/step - loss: 36.3662 - mean_squared_error: 36.3662\n",
            "Epoch 15/150\n",
            "39/39 [==============================] - 0s 1ms/step - loss: 35.9314 - mean_squared_error: 35.9314\n",
            "Epoch 16/150\n",
            "39/39 [==============================] - 0s 1ms/step - loss: 39.7298 - mean_squared_error: 39.7298\n",
            "Epoch 17/150\n",
            "39/39 [==============================] - 0s 2ms/step - loss: 33.8912 - mean_squared_error: 33.8912\n",
            "Epoch 18/150\n",
            "39/39 [==============================] - 0s 1ms/step - loss: 36.6143 - mean_squared_error: 36.6143\n",
            "Epoch 19/150\n",
            "39/39 [==============================] - 0s 1ms/step - loss: 36.0349 - mean_squared_error: 36.0349\n",
            "Epoch 20/150\n",
            "39/39 [==============================] - 0s 1ms/step - loss: 39.0510 - mean_squared_error: 39.0510\n",
            "Epoch 21/150\n",
            "39/39 [==============================] - 0s 2ms/step - loss: 34.6342 - mean_squared_error: 34.6342\n",
            "Epoch 22/150\n",
            "39/39 [==============================] - 0s 1ms/step - loss: 37.4691 - mean_squared_error: 37.4691\n",
            "Epoch 23/150\n",
            "39/39 [==============================] - 0s 1ms/step - loss: 36.1390 - mean_squared_error: 36.1390\n",
            "Epoch 24/150\n",
            "39/39 [==============================] - 0s 1ms/step - loss: 37.5893 - mean_squared_error: 37.5893\n",
            "Epoch 25/150\n",
            "39/39 [==============================] - 0s 1ms/step - loss: 34.5145 - mean_squared_error: 34.5145\n",
            "Epoch 26/150\n",
            "39/39 [==============================] - 0s 1ms/step - loss: 38.2798 - mean_squared_error: 38.2798\n",
            "Epoch 27/150\n",
            "39/39 [==============================] - 0s 1ms/step - loss: 38.2182 - mean_squared_error: 38.2182\n",
            "Epoch 28/150\n",
            "39/39 [==============================] - 0s 1ms/step - loss: 40.3183 - mean_squared_error: 40.3183\n",
            "Epoch 29/150\n",
            "39/39 [==============================] - 0s 1ms/step - loss: 38.3631 - mean_squared_error: 38.3631\n",
            "Epoch 30/150\n",
            "39/39 [==============================] - 0s 1ms/step - loss: 35.5378 - mean_squared_error: 35.5378\n",
            "Epoch 31/150\n",
            "39/39 [==============================] - 0s 1ms/step - loss: 35.2439 - mean_squared_error: 35.2439\n",
            "Epoch 32/150\n",
            "39/39 [==============================] - 0s 2ms/step - loss: 38.7132 - mean_squared_error: 38.7132\n",
            "Epoch 33/150\n",
            "39/39 [==============================] - 0s 1ms/step - loss: 36.1510 - mean_squared_error: 36.1510\n",
            "Epoch 34/150\n",
            "39/39 [==============================] - 0s 1ms/step - loss: 34.0503 - mean_squared_error: 34.0503\n",
            "Epoch 35/150\n",
            "39/39 [==============================] - 0s 2ms/step - loss: 37.1043 - mean_squared_error: 37.1043\n",
            "Epoch 36/150\n",
            "39/39 [==============================] - 0s 2ms/step - loss: 38.6990 - mean_squared_error: 38.6990\n",
            "Epoch 37/150\n",
            "39/39 [==============================] - 0s 2ms/step - loss: 34.2543 - mean_squared_error: 34.2543\n",
            "Epoch 38/150\n",
            "39/39 [==============================] - 0s 2ms/step - loss: 35.8274 - mean_squared_error: 35.8274\n",
            "Epoch 39/150\n",
            "39/39 [==============================] - 0s 1ms/step - loss: 33.9307 - mean_squared_error: 33.9307\n",
            "Epoch 40/150\n",
            "39/39 [==============================] - 0s 2ms/step - loss: 34.1942 - mean_squared_error: 34.1942\n",
            "Epoch 41/150\n",
            "39/39 [==============================] - 0s 1ms/step - loss: 37.9915 - mean_squared_error: 37.9915\n",
            "Epoch 42/150\n",
            "39/39 [==============================] - 0s 1ms/step - loss: 34.4354 - mean_squared_error: 34.4354\n",
            "Epoch 43/150\n",
            "39/39 [==============================] - 0s 2ms/step - loss: 35.8464 - mean_squared_error: 35.8464\n",
            "Epoch 44/150\n",
            "39/39 [==============================] - 0s 1ms/step - loss: 35.5397 - mean_squared_error: 35.5397\n",
            "Epoch 45/150\n",
            "39/39 [==============================] - 0s 1ms/step - loss: 35.0816 - mean_squared_error: 35.0816\n",
            "Epoch 46/150\n",
            "39/39 [==============================] - 0s 1ms/step - loss: 32.6898 - mean_squared_error: 32.6898\n",
            "Epoch 47/150\n",
            "39/39 [==============================] - 0s 2ms/step - loss: 35.6167 - mean_squared_error: 35.6167\n",
            "Epoch 48/150\n",
            "39/39 [==============================] - 0s 1ms/step - loss: 33.1404 - mean_squared_error: 33.1404\n",
            "Epoch 49/150\n",
            "39/39 [==============================] - 0s 2ms/step - loss: 36.1038 - mean_squared_error: 36.1038\n",
            "Epoch 50/150\n",
            "39/39 [==============================] - 0s 2ms/step - loss: 37.2711 - mean_squared_error: 37.2711\n",
            "Epoch 51/150\n",
            "39/39 [==============================] - 0s 1ms/step - loss: 32.9750 - mean_squared_error: 32.9750\n",
            "Epoch 52/150\n",
            "39/39 [==============================] - 0s 2ms/step - loss: 35.1560 - mean_squared_error: 35.1560\n",
            "Epoch 53/150\n",
            "39/39 [==============================] - 0s 1ms/step - loss: 32.3080 - mean_squared_error: 32.3080\n",
            "Epoch 54/150\n",
            "39/39 [==============================] - 0s 2ms/step - loss: 36.3754 - mean_squared_error: 36.3754\n",
            "Epoch 55/150\n",
            "39/39 [==============================] - 0s 2ms/step - loss: 34.0068 - mean_squared_error: 34.0068\n",
            "Epoch 56/150\n",
            "39/39 [==============================] - 0s 2ms/step - loss: 32.4854 - mean_squared_error: 32.4854\n",
            "Epoch 57/150\n",
            "39/39 [==============================] - 0s 2ms/step - loss: 35.3661 - mean_squared_error: 35.3661\n",
            "Epoch 58/150\n",
            "39/39 [==============================] - 0s 1ms/step - loss: 37.0827 - mean_squared_error: 37.0827\n",
            "Epoch 59/150\n",
            "39/39 [==============================] - 0s 1ms/step - loss: 36.3815 - mean_squared_error: 36.3815\n",
            "Epoch 60/150\n",
            "39/39 [==============================] - 0s 1ms/step - loss: 33.9339 - mean_squared_error: 33.9339\n",
            "Epoch 61/150\n",
            "39/39 [==============================] - 0s 1ms/step - loss: 35.3328 - mean_squared_error: 35.3328\n",
            "Epoch 62/150\n",
            "39/39 [==============================] - 0s 1ms/step - loss: 33.5098 - mean_squared_error: 33.5098\n",
            "Epoch 63/150\n",
            "39/39 [==============================] - 0s 2ms/step - loss: 36.3484 - mean_squared_error: 36.3484\n",
            "Epoch 64/150\n",
            "39/39 [==============================] - 0s 2ms/step - loss: 35.7564 - mean_squared_error: 35.7564\n",
            "Epoch 65/150\n",
            "39/39 [==============================] - 0s 1ms/step - loss: 35.8643 - mean_squared_error: 35.8643\n",
            "Epoch 66/150\n",
            "39/39 [==============================] - 0s 1ms/step - loss: 36.7992 - mean_squared_error: 36.7992\n",
            "Epoch 67/150\n",
            "39/39 [==============================] - 0s 1ms/step - loss: 36.7882 - mean_squared_error: 36.7882\n",
            "Epoch 68/150\n",
            "39/39 [==============================] - 0s 1ms/step - loss: 38.0321 - mean_squared_error: 38.0321\n",
            "Epoch 69/150\n",
            "39/39 [==============================] - 0s 1ms/step - loss: 36.8067 - mean_squared_error: 36.8067\n",
            "Epoch 70/150\n",
            "39/39 [==============================] - 0s 2ms/step - loss: 41.6183 - mean_squared_error: 41.6183\n",
            "Epoch 71/150\n",
            "39/39 [==============================] - 0s 1ms/step - loss: 37.3742 - mean_squared_error: 37.3742\n",
            "Epoch 72/150\n",
            "39/39 [==============================] - 0s 1ms/step - loss: 37.8878 - mean_squared_error: 37.8878\n",
            "Epoch 73/150\n",
            "39/39 [==============================] - 0s 2ms/step - loss: 37.7257 - mean_squared_error: 37.7257\n",
            "Epoch 74/150\n",
            "39/39 [==============================] - 0s 2ms/step - loss: 34.8610 - mean_squared_error: 34.8610\n",
            "Epoch 75/150\n",
            "39/39 [==============================] - 0s 1ms/step - loss: 33.7153 - mean_squared_error: 33.7153\n",
            "Epoch 76/150\n",
            "39/39 [==============================] - 0s 1ms/step - loss: 32.3532 - mean_squared_error: 32.3532\n",
            "Epoch 77/150\n",
            "39/39 [==============================] - 0s 1ms/step - loss: 35.2865 - mean_squared_error: 35.2865\n",
            "Epoch 78/150\n",
            "39/39 [==============================] - 0s 2ms/step - loss: 36.5978 - mean_squared_error: 36.5978\n",
            "Epoch 79/150\n",
            "39/39 [==============================] - 0s 2ms/step - loss: 35.5255 - mean_squared_error: 35.5255\n",
            "Epoch 80/150\n",
            "39/39 [==============================] - 0s 1ms/step - loss: 32.7321 - mean_squared_error: 32.7321\n",
            "Epoch 81/150\n",
            "39/39 [==============================] - 0s 2ms/step - loss: 37.8387 - mean_squared_error: 37.8387\n",
            "Epoch 82/150\n",
            "39/39 [==============================] - 0s 2ms/step - loss: 37.3438 - mean_squared_error: 37.3438\n",
            "Epoch 83/150\n",
            "39/39 [==============================] - 0s 2ms/step - loss: 37.6427 - mean_squared_error: 37.6427\n",
            "Epoch 84/150\n",
            "39/39 [==============================] - 0s 2ms/step - loss: 37.3593 - mean_squared_error: 37.3593\n",
            "Epoch 85/150\n",
            "39/39 [==============================] - 0s 2ms/step - loss: 34.2640 - mean_squared_error: 34.2640\n",
            "Epoch 86/150\n",
            "39/39 [==============================] - 0s 2ms/step - loss: 33.5084 - mean_squared_error: 33.5084\n",
            "Epoch 87/150\n",
            "39/39 [==============================] - 0s 2ms/step - loss: 35.4553 - mean_squared_error: 35.4553\n",
            "Epoch 88/150\n",
            "39/39 [==============================] - 0s 2ms/step - loss: 32.9992 - mean_squared_error: 32.9992\n",
            "Epoch 89/150\n",
            "39/39 [==============================] - 0s 2ms/step - loss: 33.8847 - mean_squared_error: 33.8847\n",
            "Epoch 90/150\n",
            "39/39 [==============================] - 0s 2ms/step - loss: 32.8450 - mean_squared_error: 32.8450\n",
            "Epoch 91/150\n",
            "39/39 [==============================] - 0s 2ms/step - loss: 34.5373 - mean_squared_error: 34.5373\n",
            "Epoch 92/150\n",
            "39/39 [==============================] - 0s 2ms/step - loss: 32.9943 - mean_squared_error: 32.9943\n",
            "Epoch 93/150\n",
            "39/39 [==============================] - 0s 1ms/step - loss: 34.3777 - mean_squared_error: 34.3777\n",
            "Epoch 94/150\n",
            "39/39 [==============================] - 0s 1ms/step - loss: 34.1481 - mean_squared_error: 34.1481\n",
            "Epoch 95/150\n",
            "39/39 [==============================] - 0s 1ms/step - loss: 33.9283 - mean_squared_error: 33.9283\n",
            "Epoch 96/150\n",
            "39/39 [==============================] - 0s 1ms/step - loss: 33.1442 - mean_squared_error: 33.1442\n",
            "Epoch 97/150\n",
            "39/39 [==============================] - 0s 2ms/step - loss: 36.5913 - mean_squared_error: 36.5913\n",
            "Epoch 98/150\n",
            "39/39 [==============================] - 0s 2ms/step - loss: 36.3177 - mean_squared_error: 36.3177\n",
            "Epoch 99/150\n",
            "39/39 [==============================] - 0s 1ms/step - loss: 33.6230 - mean_squared_error: 33.6230\n",
            "Epoch 100/150\n",
            "39/39 [==============================] - 0s 2ms/step - loss: 34.0809 - mean_squared_error: 34.0809\n",
            "Epoch 101/150\n",
            "39/39 [==============================] - 0s 1ms/step - loss: 36.7311 - mean_squared_error: 36.7311\n",
            "Epoch 102/150\n",
            "39/39 [==============================] - 0s 1ms/step - loss: 34.5400 - mean_squared_error: 34.5400\n",
            "Epoch 103/150\n",
            "39/39 [==============================] - 0s 2ms/step - loss: 34.9771 - mean_squared_error: 34.9771\n",
            "Epoch 104/150\n",
            "39/39 [==============================] - 0s 2ms/step - loss: 35.8500 - mean_squared_error: 35.8500\n",
            "Epoch 105/150\n",
            "39/39 [==============================] - 0s 2ms/step - loss: 33.4938 - mean_squared_error: 33.4938\n",
            "Epoch 106/150\n",
            "39/39 [==============================] - 0s 1ms/step - loss: 36.6183 - mean_squared_error: 36.6183\n",
            "Epoch 107/150\n",
            "39/39 [==============================] - 0s 2ms/step - loss: 38.3858 - mean_squared_error: 38.3858\n",
            "Epoch 108/150\n",
            "39/39 [==============================] - 0s 1ms/step - loss: 36.1983 - mean_squared_error: 36.1983\n",
            "Epoch 109/150\n",
            "39/39 [==============================] - 0s 2ms/step - loss: 34.1219 - mean_squared_error: 34.1219\n",
            "Epoch 110/150\n",
            "39/39 [==============================] - 0s 2ms/step - loss: 34.0855 - mean_squared_error: 34.0855\n",
            "Epoch 111/150\n",
            "39/39 [==============================] - 0s 2ms/step - loss: 32.7751 - mean_squared_error: 32.7751\n",
            "Epoch 112/150\n",
            "39/39 [==============================] - 0s 2ms/step - loss: 38.0744 - mean_squared_error: 38.0744\n",
            "Epoch 113/150\n",
            "39/39 [==============================] - 0s 2ms/step - loss: 35.7662 - mean_squared_error: 35.7662\n",
            "Epoch 114/150\n",
            "39/39 [==============================] - 0s 1ms/step - loss: 33.2236 - mean_squared_error: 33.2236\n",
            "Epoch 115/150\n",
            "39/39 [==============================] - 0s 2ms/step - loss: 39.0891 - mean_squared_error: 39.0891\n",
            "Epoch 116/150\n",
            "39/39 [==============================] - 0s 2ms/step - loss: 33.5732 - mean_squared_error: 33.5732\n",
            "Epoch 117/150\n",
            "39/39 [==============================] - 0s 2ms/step - loss: 33.4541 - mean_squared_error: 33.4541\n",
            "Epoch 118/150\n",
            "39/39 [==============================] - 0s 2ms/step - loss: 36.0102 - mean_squared_error: 36.0102\n",
            "Epoch 119/150\n",
            "39/39 [==============================] - 0s 1ms/step - loss: 33.6487 - mean_squared_error: 33.6487\n",
            "Epoch 120/150\n",
            "39/39 [==============================] - 0s 2ms/step - loss: 38.7560 - mean_squared_error: 38.7560\n",
            "Epoch 121/150\n",
            "39/39 [==============================] - 0s 2ms/step - loss: 34.3020 - mean_squared_error: 34.3020\n",
            "Epoch 122/150\n",
            "39/39 [==============================] - 0s 1ms/step - loss: 34.6079 - mean_squared_error: 34.6079\n",
            "Epoch 123/150\n",
            "39/39 [==============================] - 0s 2ms/step - loss: 34.2089 - mean_squared_error: 34.2089\n",
            "Epoch 124/150\n",
            "39/39 [==============================] - 0s 2ms/step - loss: 33.9984 - mean_squared_error: 33.9985\n",
            "Epoch 125/150\n",
            "39/39 [==============================] - 0s 2ms/step - loss: 35.1157 - mean_squared_error: 35.1157\n",
            "Epoch 126/150\n",
            "39/39 [==============================] - 0s 2ms/step - loss: 31.5667 - mean_squared_error: 31.5667\n",
            "Epoch 127/150\n",
            "39/39 [==============================] - 0s 1ms/step - loss: 32.9585 - mean_squared_error: 32.9585\n",
            "Epoch 128/150\n",
            "39/39 [==============================] - 0s 2ms/step - loss: 33.7078 - mean_squared_error: 33.7078\n",
            "Epoch 129/150\n",
            "39/39 [==============================] - 0s 2ms/step - loss: 37.6398 - mean_squared_error: 37.6398\n",
            "Epoch 130/150\n",
            "39/39 [==============================] - 0s 2ms/step - loss: 35.5881 - mean_squared_error: 35.5881\n",
            "Epoch 131/150\n",
            "39/39 [==============================] - 0s 2ms/step - loss: 34.6881 - mean_squared_error: 34.6881\n",
            "Epoch 132/150\n",
            "39/39 [==============================] - 0s 1ms/step - loss: 37.4044 - mean_squared_error: 37.4044\n",
            "Epoch 133/150\n",
            "39/39 [==============================] - 0s 2ms/step - loss: 34.1234 - mean_squared_error: 34.1234\n",
            "Epoch 134/150\n",
            "39/39 [==============================] - 0s 1ms/step - loss: 35.9463 - mean_squared_error: 35.9463\n",
            "Epoch 135/150\n",
            "39/39 [==============================] - 0s 2ms/step - loss: 34.1542 - mean_squared_error: 34.1542\n",
            "Epoch 136/150\n",
            "39/39 [==============================] - 0s 2ms/step - loss: 37.2522 - mean_squared_error: 37.2522\n",
            "Epoch 137/150\n",
            "39/39 [==============================] - 0s 2ms/step - loss: 35.6189 - mean_squared_error: 35.6189\n",
            "Epoch 138/150\n",
            "39/39 [==============================] - 0s 2ms/step - loss: 34.5274 - mean_squared_error: 34.5274\n",
            "Epoch 139/150\n",
            "39/39 [==============================] - 0s 1ms/step - loss: 37.0142 - mean_squared_error: 37.0142\n",
            "Epoch 140/150\n",
            "39/39 [==============================] - 0s 2ms/step - loss: 34.9682 - mean_squared_error: 34.9682\n",
            "Epoch 141/150\n",
            "39/39 [==============================] - 0s 2ms/step - loss: 36.1360 - mean_squared_error: 36.1360\n",
            "Epoch 142/150\n",
            "39/39 [==============================] - 0s 1ms/step - loss: 37.6299 - mean_squared_error: 37.6299\n",
            "Epoch 143/150\n",
            "39/39 [==============================] - 0s 1ms/step - loss: 34.4824 - mean_squared_error: 34.4824\n",
            "Epoch 144/150\n",
            "39/39 [==============================] - 0s 2ms/step - loss: 36.0985 - mean_squared_error: 36.0985\n",
            "Epoch 145/150\n",
            "39/39 [==============================] - 0s 2ms/step - loss: 37.5746 - mean_squared_error: 37.5746\n",
            "Epoch 146/150\n",
            "39/39 [==============================] - 0s 2ms/step - loss: 33.8294 - mean_squared_error: 33.8294\n",
            "Epoch 147/150\n",
            "39/39 [==============================] - 0s 1ms/step - loss: 39.8720 - mean_squared_error: 39.8720\n",
            "Epoch 148/150\n",
            "39/39 [==============================] - 0s 1ms/step - loss: 36.2065 - mean_squared_error: 36.2065\n",
            "Epoch 149/150\n",
            "39/39 [==============================] - 0s 2ms/step - loss: 33.9374 - mean_squared_error: 33.9374\n",
            "Epoch 150/150\n",
            "39/39 [==============================] - 0s 2ms/step - loss: 32.3757 - mean_squared_error: 32.3757\n"
          ],
          "name": "stdout"
        },
        {
          "output_type": "execute_result",
          "data": {
            "text/plain": [
              "<tensorflow.python.keras.callbacks.History at 0x7f9feb9036d8>"
            ]
          },
          "metadata": {
            "tags": []
          },
          "execution_count": 101
        }
      ]
    },
    {
      "cell_type": "code",
      "metadata": {
        "colab": {
          "base_uri": "https://localhost:8080/",
          "height": 419
        },
        "id": "vy-kVvYag8UK",
        "outputId": "fe7a51cd-9ab3-47b9-d351-c4b8761fb058"
      },
      "source": [
        "y_pred11=lsr.predict(x_test)\n",
        "y_pred11=pd.DataFrame(y_pred11)\n",
        "y_pred11"
      ],
      "execution_count": null,
      "outputs": [
        {
          "output_type": "execute_result",
          "data": {
            "text/html": [
              "<div>\n",
              "<style scoped>\n",
              "    .dataframe tbody tr th:only-of-type {\n",
              "        vertical-align: middle;\n",
              "    }\n",
              "\n",
              "    .dataframe tbody tr th {\n",
              "        vertical-align: top;\n",
              "    }\n",
              "\n",
              "    .dataframe thead th {\n",
              "        text-align: right;\n",
              "    }\n",
              "</style>\n",
              "<table border=\"1\" class=\"dataframe\">\n",
              "  <thead>\n",
              "    <tr style=\"text-align: right;\">\n",
              "      <th></th>\n",
              "      <th>0</th>\n",
              "    </tr>\n",
              "  </thead>\n",
              "  <tbody>\n",
              "    <tr>\n",
              "      <th>0</th>\n",
              "      <td>63.055262</td>\n",
              "    </tr>\n",
              "    <tr>\n",
              "      <th>1</th>\n",
              "      <td>73.423774</td>\n",
              "    </tr>\n",
              "    <tr>\n",
              "      <th>2</th>\n",
              "      <td>50.778045</td>\n",
              "    </tr>\n",
              "    <tr>\n",
              "      <th>3</th>\n",
              "      <td>65.604024</td>\n",
              "    </tr>\n",
              "    <tr>\n",
              "      <th>4</th>\n",
              "      <td>69.145654</td>\n",
              "    </tr>\n",
              "    <tr>\n",
              "      <th>...</th>\n",
              "      <td>...</td>\n",
              "    </tr>\n",
              "    <tr>\n",
              "      <th>195</th>\n",
              "      <td>63.201452</td>\n",
              "    </tr>\n",
              "    <tr>\n",
              "      <th>196</th>\n",
              "      <td>75.958101</td>\n",
              "    </tr>\n",
              "    <tr>\n",
              "      <th>197</th>\n",
              "      <td>81.759852</td>\n",
              "    </tr>\n",
              "    <tr>\n",
              "      <th>198</th>\n",
              "      <td>62.787284</td>\n",
              "    </tr>\n",
              "    <tr>\n",
              "      <th>199</th>\n",
              "      <td>70.861660</td>\n",
              "    </tr>\n",
              "  </tbody>\n",
              "</table>\n",
              "<p>200 rows × 1 columns</p>\n",
              "</div>"
            ],
            "text/plain": [
              "             0\n",
              "0    63.055262\n",
              "1    73.423774\n",
              "2    50.778045\n",
              "3    65.604024\n",
              "4    69.145654\n",
              "..         ...\n",
              "195  63.201452\n",
              "196  75.958101\n",
              "197  81.759852\n",
              "198  62.787284\n",
              "199  70.861660\n",
              "\n",
              "[200 rows x 1 columns]"
            ]
          },
          "metadata": {
            "tags": []
          },
          "execution_count": 102
        }
      ]
    },
    {
      "cell_type": "code",
      "metadata": {
        "colab": {
          "base_uri": "https://localhost:8080/",
          "height": 419
        },
        "id": "m14QRY7tg8Xt",
        "outputId": "f336b757-91cd-4f7f-ca8b-aab28b6804f2"
      },
      "source": [
        "pred9=pd.concat([y_test,y_pred11],axis=1)\n",
        "pred9"
      ],
      "execution_count": null,
      "outputs": [
        {
          "output_type": "execute_result",
          "data": {
            "text/html": [
              "<div>\n",
              "<style scoped>\n",
              "    .dataframe tbody tr th:only-of-type {\n",
              "        vertical-align: middle;\n",
              "    }\n",
              "\n",
              "    .dataframe tbody tr th {\n",
              "        vertical-align: top;\n",
              "    }\n",
              "\n",
              "    .dataframe thead th {\n",
              "        text-align: right;\n",
              "    }\n",
              "</style>\n",
              "<table border=\"1\" class=\"dataframe\">\n",
              "  <thead>\n",
              "    <tr style=\"text-align: right;\">\n",
              "      <th></th>\n",
              "      <th>0</th>\n",
              "      <th>0</th>\n",
              "    </tr>\n",
              "  </thead>\n",
              "  <tbody>\n",
              "    <tr>\n",
              "      <th>0</th>\n",
              "      <td>62</td>\n",
              "      <td>63.055262</td>\n",
              "    </tr>\n",
              "    <tr>\n",
              "      <th>1</th>\n",
              "      <td>87</td>\n",
              "      <td>73.423774</td>\n",
              "    </tr>\n",
              "    <tr>\n",
              "      <th>2</th>\n",
              "      <td>40</td>\n",
              "      <td>50.778045</td>\n",
              "    </tr>\n",
              "    <tr>\n",
              "      <th>3</th>\n",
              "      <td>77</td>\n",
              "      <td>65.604024</td>\n",
              "    </tr>\n",
              "    <tr>\n",
              "      <th>4</th>\n",
              "      <td>69</td>\n",
              "      <td>69.145654</td>\n",
              "    </tr>\n",
              "    <tr>\n",
              "      <th>...</th>\n",
              "      <td>...</td>\n",
              "      <td>...</td>\n",
              "    </tr>\n",
              "    <tr>\n",
              "      <th>195</th>\n",
              "      <td>63</td>\n",
              "      <td>63.201452</td>\n",
              "    </tr>\n",
              "    <tr>\n",
              "      <th>196</th>\n",
              "      <td>74</td>\n",
              "      <td>75.958101</td>\n",
              "    </tr>\n",
              "    <tr>\n",
              "      <th>197</th>\n",
              "      <td>84</td>\n",
              "      <td>81.759852</td>\n",
              "    </tr>\n",
              "    <tr>\n",
              "      <th>198</th>\n",
              "      <td>65</td>\n",
              "      <td>62.787284</td>\n",
              "    </tr>\n",
              "    <tr>\n",
              "      <th>199</th>\n",
              "      <td>62</td>\n",
              "      <td>70.861660</td>\n",
              "    </tr>\n",
              "  </tbody>\n",
              "</table>\n",
              "<p>200 rows × 2 columns</p>\n",
              "</div>"
            ],
            "text/plain": [
              "      0          0\n",
              "0    62  63.055262\n",
              "1    87  73.423774\n",
              "2    40  50.778045\n",
              "3    77  65.604024\n",
              "4    69  69.145654\n",
              "..   ..        ...\n",
              "195  63  63.201452\n",
              "196  74  75.958101\n",
              "197  84  81.759852\n",
              "198  65  62.787284\n",
              "199  62  70.861660\n",
              "\n",
              "[200 rows x 2 columns]"
            ]
          },
          "metadata": {
            "tags": []
          },
          "execution_count": 103
        }
      ]
    },
    {
      "cell_type": "code",
      "metadata": {
        "colab": {
          "base_uri": "https://localhost:8080/"
        },
        "id": "FuqEBnU6g8ed",
        "outputId": "0c30b744-284d-4bc2-b52d-68807c28c12d"
      },
      "source": [
        "from sklearn.metrics import r2_score\n",
        "f=r2_score(y_test,y_pred11)\n",
        "f"
      ],
      "execution_count": null,
      "outputs": [
        {
          "output_type": "execute_result",
          "data": {
            "text/plain": [
              "0.8577422369806381"
            ]
          },
          "metadata": {
            "tags": []
          },
          "execution_count": 111
        }
      ]
    },
    {
      "cell_type": "code",
      "metadata": {
        "colab": {
          "base_uri": "https://localhost:8080/"
        },
        "id": "DcUFpHybg8hM",
        "outputId": "e1317066-6bdf-4bea-a48b-3486e7ba12ca"
      },
      "source": [
        "from sklearn import metrics\n",
        "print(np.sqrt(metrics.mean_squared_error(y_test, y_pred11)))"
      ],
      "execution_count": null,
      "outputs": [
        {
          "output_type": "stream",
          "text": [
            "5.67766120093549\n"
          ],
          "name": "stdout"
        }
      ]
    },
    {
      "cell_type": "code",
      "metadata": {
        "colab": {
          "base_uri": "https://localhost:8080/"
        },
        "id": "AbE5ATlS5hQI",
        "outputId": "b197d499-2837-4881-fd3d-72938db38376"
      },
      "source": [
        "print('Linear Regression',a)\n",
        "print('knn Regressor',b)\n",
        "print('Decision Tree Regressor',c)\n",
        "print('Ridge Regression',d)\n",
        "print('Lasso Regression',e)\n",
        "print('Neural network',f)"
      ],
      "execution_count": null,
      "outputs": [
        {
          "output_type": "stream",
          "text": [
            "Linear Regression 0.8595607327288426\n",
            "knn Regressor 0.6815530935686389\n",
            "Decision Tree Regressor 0.8091500650240879\n",
            "Ridge Regression 0.8595363115832046\n",
            "Lasso Regression 0.8577422369806381\n",
            "Neural network 0.8577422369806381\n"
          ],
          "name": "stdout"
        }
      ]
    },
    {
      "cell_type": "code",
      "metadata": {
        "id": "W-lsYrC_96Wq"
      },
      "source": [
        ""
      ],
      "execution_count": null,
      "outputs": []
    }
  ]
}