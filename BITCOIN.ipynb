{
  "nbformat": 4,
  "nbformat_minor": 0,
  "metadata": {
    "colab": {
      "name": "BITCOIN.ipynb",
      "provenance": [],
      "collapsed_sections": [],
      "authorship_tag": "ABX9TyPcW/eRF9ygM8I1N2fLKwVs",
      "include_colab_link": true
    },
    "kernelspec": {
      "name": "python3",
      "display_name": "Python 3"
    }
  },
  "cells": [
    {
      "cell_type": "markdown",
      "metadata": {
        "id": "view-in-github",
        "colab_type": "text"
      },
      "source": [
        "<a href=\"https://colab.research.google.com/github/VegetaSan1/Machine-Learning-Projects/blob/main/BITCOIN.ipynb\" target=\"_parent\"><img src=\"https://colab.research.google.com/assets/colab-badge.svg\" alt=\"Open In Colab\"/></a>"
      ]
    },
    {
      "cell_type": "code",
      "metadata": {
        "id": "aFZjmKcF1rk6"
      },
      "source": [
        "import pandas as pd \n",
        "import numpy as np \n",
        "import matplotlib.pyplot as plt"
      ],
      "execution_count": null,
      "outputs": []
    },
    {
      "cell_type": "code",
      "metadata": {
        "id": "RzvRJqfZ5Am_"
      },
      "source": [
        "train=pd.read_csv('bitcoin_price_Training - Training.csv')\n",
        "test=pd.read_csv('bitcoin_price_1week_Test - Test.csv')"
      ],
      "execution_count": null,
      "outputs": []
    },
    {
      "cell_type": "code",
      "metadata": {
        "colab": {
          "base_uri": "https://localhost:8080/",
          "height": 419
        },
        "id": "ICwxA8iu5Wzu",
        "outputId": "6bafd5db-ed1d-4c55-f494-cd4ebc41a324"
      },
      "source": [
        "train"
      ],
      "execution_count": null,
      "outputs": [
        {
          "output_type": "execute_result",
          "data": {
            "text/html": [
              "<div>\n",
              "<style scoped>\n",
              "    .dataframe tbody tr th:only-of-type {\n",
              "        vertical-align: middle;\n",
              "    }\n",
              "\n",
              "    .dataframe tbody tr th {\n",
              "        vertical-align: top;\n",
              "    }\n",
              "\n",
              "    .dataframe thead th {\n",
              "        text-align: right;\n",
              "    }\n",
              "</style>\n",
              "<table border=\"1\" class=\"dataframe\">\n",
              "  <thead>\n",
              "    <tr style=\"text-align: right;\">\n",
              "      <th></th>\n",
              "      <th>Date</th>\n",
              "      <th>Open</th>\n",
              "      <th>High</th>\n",
              "      <th>Low</th>\n",
              "      <th>Close</th>\n",
              "      <th>Volume</th>\n",
              "      <th>Market Cap</th>\n",
              "    </tr>\n",
              "  </thead>\n",
              "  <tbody>\n",
              "    <tr>\n",
              "      <th>0</th>\n",
              "      <td>31-Jul-17</td>\n",
              "      <td>2763.24</td>\n",
              "      <td>2889.62</td>\n",
              "      <td>2720.61</td>\n",
              "      <td>2875.34</td>\n",
              "      <td>86,05,75,000</td>\n",
              "      <td>45,53,58,00,000</td>\n",
              "    </tr>\n",
              "    <tr>\n",
              "      <th>1</th>\n",
              "      <td>30-Jul-17</td>\n",
              "      <td>2724.39</td>\n",
              "      <td>2758.53</td>\n",
              "      <td>2644.85</td>\n",
              "      <td>2757.18</td>\n",
              "      <td>70,59,43,000</td>\n",
              "      <td>44,89,07,00,000</td>\n",
              "    </tr>\n",
              "    <tr>\n",
              "      <th>2</th>\n",
              "      <td>29-Jul-17</td>\n",
              "      <td>2807.02</td>\n",
              "      <td>2808.76</td>\n",
              "      <td>2692.80</td>\n",
              "      <td>2726.45</td>\n",
              "      <td>80,37,46,000</td>\n",
              "      <td>46,24,67,00,000</td>\n",
              "    </tr>\n",
              "    <tr>\n",
              "      <th>3</th>\n",
              "      <td>28-Jul-17</td>\n",
              "      <td>2679.73</td>\n",
              "      <td>2897.45</td>\n",
              "      <td>2679.73</td>\n",
              "      <td>2809.01</td>\n",
              "      <td>1,38,01,00,000</td>\n",
              "      <td>44,14,44,00,000</td>\n",
              "    </tr>\n",
              "    <tr>\n",
              "      <th>4</th>\n",
              "      <td>27-Jul-17</td>\n",
              "      <td>2538.71</td>\n",
              "      <td>2693.32</td>\n",
              "      <td>2529.34</td>\n",
              "      <td>2671.78</td>\n",
              "      <td>78,91,04,000</td>\n",
              "      <td>41,81,65,00,000</td>\n",
              "    </tr>\n",
              "    <tr>\n",
              "      <th>...</th>\n",
              "      <td>...</td>\n",
              "      <td>...</td>\n",
              "      <td>...</td>\n",
              "      <td>...</td>\n",
              "      <td>...</td>\n",
              "      <td>...</td>\n",
              "      <td>...</td>\n",
              "    </tr>\n",
              "    <tr>\n",
              "      <th>1552</th>\n",
              "      <td>01-May-13</td>\n",
              "      <td>139.00</td>\n",
              "      <td>139.89</td>\n",
              "      <td>107.72</td>\n",
              "      <td>116.99</td>\n",
              "      <td>2,31,46,600</td>\n",
              "      <td>1,54,28,20,000</td>\n",
              "    </tr>\n",
              "    <tr>\n",
              "      <th>1553</th>\n",
              "      <td>30-Apr-13</td>\n",
              "      <td>144.00</td>\n",
              "      <td>146.93</td>\n",
              "      <td>134.05</td>\n",
              "      <td>139.00</td>\n",
              "      <td>2,62,72,600</td>\n",
              "      <td>1,59,77,80,000</td>\n",
              "    </tr>\n",
              "    <tr>\n",
              "      <th>1554</th>\n",
              "      <td>29-Apr-13</td>\n",
              "      <td>134.44</td>\n",
              "      <td>147.49</td>\n",
              "      <td>134.00</td>\n",
              "      <td>144.54</td>\n",
              "      <td>2,28,77,200</td>\n",
              "      <td>1,49,11,60,000</td>\n",
              "    </tr>\n",
              "    <tr>\n",
              "      <th>1555</th>\n",
              "      <td>28-Apr-13</td>\n",
              "      <td>135.30</td>\n",
              "      <td>135.98</td>\n",
              "      <td>132.10</td>\n",
              "      <td>134.21</td>\n",
              "      <td>2,26,72,000</td>\n",
              "      <td>1,50,05,20,000</td>\n",
              "    </tr>\n",
              "    <tr>\n",
              "      <th>1556</th>\n",
              "      <td>NaN</td>\n",
              "      <td>NaN</td>\n",
              "      <td>NaN</td>\n",
              "      <td>NaN</td>\n",
              "      <td>NaN</td>\n",
              "      <td>NaN</td>\n",
              "      <td>NaN</td>\n",
              "    </tr>\n",
              "  </tbody>\n",
              "</table>\n",
              "<p>1557 rows × 7 columns</p>\n",
              "</div>"
            ],
            "text/plain": [
              "           Date     Open     High  ...    Close          Volume       Market Cap\n",
              "0     31-Jul-17  2763.24  2889.62  ...  2875.34    86,05,75,000  45,53,58,00,000\n",
              "1     30-Jul-17  2724.39  2758.53  ...  2757.18    70,59,43,000  44,89,07,00,000\n",
              "2     29-Jul-17  2807.02  2808.76  ...  2726.45    80,37,46,000  46,24,67,00,000\n",
              "3     28-Jul-17  2679.73  2897.45  ...  2809.01  1,38,01,00,000  44,14,44,00,000\n",
              "4     27-Jul-17  2538.71  2693.32  ...  2671.78    78,91,04,000  41,81,65,00,000\n",
              "...         ...      ...      ...  ...      ...             ...              ...\n",
              "1552  01-May-13   139.00   139.89  ...   116.99     2,31,46,600   1,54,28,20,000\n",
              "1553  30-Apr-13   144.00   146.93  ...   139.00     2,62,72,600   1,59,77,80,000\n",
              "1554  29-Apr-13   134.44   147.49  ...   144.54     2,28,77,200   1,49,11,60,000\n",
              "1555  28-Apr-13   135.30   135.98  ...   134.21     2,26,72,000   1,50,05,20,000\n",
              "1556        NaN      NaN      NaN  ...      NaN             NaN              NaN\n",
              "\n",
              "[1557 rows x 7 columns]"
            ]
          },
          "metadata": {
            "tags": []
          },
          "execution_count": 245
        }
      ]
    },
    {
      "cell_type": "code",
      "metadata": {
        "colab": {
          "base_uri": "https://localhost:8080/",
          "height": 266
        },
        "id": "xhAGADJY5Yp-",
        "outputId": "a3ea792f-5d32-4bf9-d895-0a52165da72b"
      },
      "source": [
        "test"
      ],
      "execution_count": null,
      "outputs": [
        {
          "output_type": "execute_result",
          "data": {
            "text/html": [
              "<div>\n",
              "<style scoped>\n",
              "    .dataframe tbody tr th:only-of-type {\n",
              "        vertical-align: middle;\n",
              "    }\n",
              "\n",
              "    .dataframe tbody tr th {\n",
              "        vertical-align: top;\n",
              "    }\n",
              "\n",
              "    .dataframe thead th {\n",
              "        text-align: right;\n",
              "    }\n",
              "</style>\n",
              "<table border=\"1\" class=\"dataframe\">\n",
              "  <thead>\n",
              "    <tr style=\"text-align: right;\">\n",
              "      <th></th>\n",
              "      <th>Date</th>\n",
              "      <th>Open</th>\n",
              "      <th>High</th>\n",
              "      <th>Low</th>\n",
              "      <th>Close</th>\n",
              "      <th>Volume</th>\n",
              "      <th>Market Cap</th>\n",
              "    </tr>\n",
              "  </thead>\n",
              "  <tbody>\n",
              "    <tr>\n",
              "      <th>0</th>\n",
              "      <td>07-Aug-17</td>\n",
              "      <td>3212.78</td>\n",
              "      <td>3397.68</td>\n",
              "      <td>3180.89</td>\n",
              "      <td>3378.94</td>\n",
              "      <td>1,48,22,80,000</td>\n",
              "      <td>52,98,73,00,000</td>\n",
              "    </tr>\n",
              "    <tr>\n",
              "      <th>1</th>\n",
              "      <td>06-Aug-17</td>\n",
              "      <td>3257.61</td>\n",
              "      <td>3293.29</td>\n",
              "      <td>3155.60</td>\n",
              "      <td>3213.94</td>\n",
              "      <td>1,10,50,30,000</td>\n",
              "      <td>53,72,09,00,000</td>\n",
              "    </tr>\n",
              "    <tr>\n",
              "      <th>2</th>\n",
              "      <td>05-Aug-17</td>\n",
              "      <td>2897.63</td>\n",
              "      <td>3290.01</td>\n",
              "      <td>2874.83</td>\n",
              "      <td>3252.91</td>\n",
              "      <td>1,94,57,00,000</td>\n",
              "      <td>47,77,82,00,000</td>\n",
              "    </tr>\n",
              "    <tr>\n",
              "      <th>3</th>\n",
              "      <td>04-Aug-17</td>\n",
              "      <td>2806.93</td>\n",
              "      <td>2899.33</td>\n",
              "      <td>2743.72</td>\n",
              "      <td>2895.89</td>\n",
              "      <td>1,00,21,20,000</td>\n",
              "      <td>46,27,62,00,000</td>\n",
              "    </tr>\n",
              "    <tr>\n",
              "      <th>4</th>\n",
              "      <td>03-Aug-17</td>\n",
              "      <td>2709.56</td>\n",
              "      <td>2813.31</td>\n",
              "      <td>2685.14</td>\n",
              "      <td>2804.73</td>\n",
              "      <td>80,47,97,000</td>\n",
              "      <td>44,66,64,00,000</td>\n",
              "    </tr>\n",
              "    <tr>\n",
              "      <th>5</th>\n",
              "      <td>02-Aug-17</td>\n",
              "      <td>2727.13</td>\n",
              "      <td>2762.53</td>\n",
              "      <td>2668.59</td>\n",
              "      <td>2710.67</td>\n",
              "      <td>1,09,49,50,000</td>\n",
              "      <td>44,95,08,00,000</td>\n",
              "    </tr>\n",
              "    <tr>\n",
              "      <th>6</th>\n",
              "      <td>01-Aug-17</td>\n",
              "      <td>2871.30</td>\n",
              "      <td>2921.35</td>\n",
              "      <td>2685.61</td>\n",
              "      <td>2718.26</td>\n",
              "      <td>1,32,46,70,000</td>\n",
              "      <td>47,32,18,00,000</td>\n",
              "    </tr>\n",
              "  </tbody>\n",
              "</table>\n",
              "</div>"
            ],
            "text/plain": [
              "        Date     Open     High  ...    Close          Volume       Market Cap\n",
              "0  07-Aug-17  3212.78  3397.68  ...  3378.94  1,48,22,80,000  52,98,73,00,000\n",
              "1  06-Aug-17  3257.61  3293.29  ...  3213.94  1,10,50,30,000  53,72,09,00,000\n",
              "2  05-Aug-17  2897.63  3290.01  ...  3252.91  1,94,57,00,000  47,77,82,00,000\n",
              "3  04-Aug-17  2806.93  2899.33  ...  2895.89  1,00,21,20,000  46,27,62,00,000\n",
              "4  03-Aug-17  2709.56  2813.31  ...  2804.73    80,47,97,000  44,66,64,00,000\n",
              "5  02-Aug-17  2727.13  2762.53  ...  2710.67  1,09,49,50,000  44,95,08,00,000\n",
              "6  01-Aug-17  2871.30  2921.35  ...  2718.26  1,32,46,70,000  47,32,18,00,000\n",
              "\n",
              "[7 rows x 7 columns]"
            ]
          },
          "metadata": {
            "tags": []
          },
          "execution_count": 246
        }
      ]
    },
    {
      "cell_type": "code",
      "metadata": {
        "colab": {
          "base_uri": "https://localhost:8080/"
        },
        "id": "K1hVf7U25Zut",
        "outputId": "861971f0-5316-4a99-f35d-70ebb61cd9fe"
      },
      "source": [
        "train.info()"
      ],
      "execution_count": null,
      "outputs": [
        {
          "output_type": "stream",
          "text": [
            "<class 'pandas.core.frame.DataFrame'>\n",
            "RangeIndex: 1557 entries, 0 to 1556\n",
            "Data columns (total 7 columns):\n",
            " #   Column      Non-Null Count  Dtype  \n",
            "---  ------      --------------  -----  \n",
            " 0   Date        1556 non-null   object \n",
            " 1   Open        1556 non-null   float64\n",
            " 2   High        1556 non-null   float64\n",
            " 3   Low         1556 non-null   float64\n",
            " 4   Close       1556 non-null   float64\n",
            " 5   Volume      1556 non-null   object \n",
            " 6   Market Cap  1556 non-null   object \n",
            "dtypes: float64(4), object(3)\n",
            "memory usage: 85.3+ KB\n"
          ],
          "name": "stdout"
        }
      ]
    },
    {
      "cell_type": "code",
      "metadata": {
        "colab": {
          "base_uri": "https://localhost:8080/",
          "height": 297
        },
        "id": "MZgORftm5kRh",
        "outputId": "6fffa81c-5834-4f8f-9d0d-a7690a9ed6ad"
      },
      "source": [
        "train.describe()"
      ],
      "execution_count": null,
      "outputs": [
        {
          "output_type": "execute_result",
          "data": {
            "text/html": [
              "<div>\n",
              "<style scoped>\n",
              "    .dataframe tbody tr th:only-of-type {\n",
              "        vertical-align: middle;\n",
              "    }\n",
              "\n",
              "    .dataframe tbody tr th {\n",
              "        vertical-align: top;\n",
              "    }\n",
              "\n",
              "    .dataframe thead th {\n",
              "        text-align: right;\n",
              "    }\n",
              "</style>\n",
              "<table border=\"1\" class=\"dataframe\">\n",
              "  <thead>\n",
              "    <tr style=\"text-align: right;\">\n",
              "      <th></th>\n",
              "      <th>Open</th>\n",
              "      <th>High</th>\n",
              "      <th>Low</th>\n",
              "      <th>Close</th>\n",
              "    </tr>\n",
              "  </thead>\n",
              "  <tbody>\n",
              "    <tr>\n",
              "      <th>count</th>\n",
              "      <td>1556.000000</td>\n",
              "      <td>1556.000000</td>\n",
              "      <td>1556.000000</td>\n",
              "      <td>1556.000000</td>\n",
              "    </tr>\n",
              "    <tr>\n",
              "      <th>mean</th>\n",
              "      <td>582.625328</td>\n",
              "      <td>597.992847</td>\n",
              "      <td>567.851446</td>\n",
              "      <td>584.239396</td>\n",
              "    </tr>\n",
              "    <tr>\n",
              "      <th>std</th>\n",
              "      <td>523.137312</td>\n",
              "      <td>542.992855</td>\n",
              "      <td>505.877401</td>\n",
              "      <td>525.904442</td>\n",
              "    </tr>\n",
              "    <tr>\n",
              "      <th>min</th>\n",
              "      <td>68.500000</td>\n",
              "      <td>74.560000</td>\n",
              "      <td>65.530000</td>\n",
              "      <td>68.430000</td>\n",
              "    </tr>\n",
              "    <tr>\n",
              "      <th>25%</th>\n",
              "      <td>254.287500</td>\n",
              "      <td>260.327500</td>\n",
              "      <td>248.835000</td>\n",
              "      <td>254.320000</td>\n",
              "    </tr>\n",
              "    <tr>\n",
              "      <th>50%</th>\n",
              "      <td>438.600000</td>\n",
              "      <td>447.560000</td>\n",
              "      <td>430.570000</td>\n",
              "      <td>438.855000</td>\n",
              "    </tr>\n",
              "    <tr>\n",
              "      <th>75%</th>\n",
              "      <td>662.437500</td>\n",
              "      <td>674.525000</td>\n",
              "      <td>646.735000</td>\n",
              "      <td>663.402500</td>\n",
              "    </tr>\n",
              "    <tr>\n",
              "      <th>max</th>\n",
              "      <td>2953.220000</td>\n",
              "      <td>2999.910000</td>\n",
              "      <td>2840.530000</td>\n",
              "      <td>2958.110000</td>\n",
              "    </tr>\n",
              "  </tbody>\n",
              "</table>\n",
              "</div>"
            ],
            "text/plain": [
              "              Open         High          Low        Close\n",
              "count  1556.000000  1556.000000  1556.000000  1556.000000\n",
              "mean    582.625328   597.992847   567.851446   584.239396\n",
              "std     523.137312   542.992855   505.877401   525.904442\n",
              "min      68.500000    74.560000    65.530000    68.430000\n",
              "25%     254.287500   260.327500   248.835000   254.320000\n",
              "50%     438.600000   447.560000   430.570000   438.855000\n",
              "75%     662.437500   674.525000   646.735000   663.402500\n",
              "max    2953.220000  2999.910000  2840.530000  2958.110000"
            ]
          },
          "metadata": {
            "tags": []
          },
          "execution_count": 248
        }
      ]
    },
    {
      "cell_type": "code",
      "metadata": {
        "colab": {
          "base_uri": "https://localhost:8080/"
        },
        "id": "5KhFSv9z5nOW",
        "outputId": "d4ba184d-376f-4b49-c73b-5d5e2198cfcd"
      },
      "source": [
        "train.isnull().sum()"
      ],
      "execution_count": null,
      "outputs": [
        {
          "output_type": "execute_result",
          "data": {
            "text/plain": [
              "Date          1\n",
              "Open          1\n",
              "High          1\n",
              "Low           1\n",
              "Close         1\n",
              "Volume        1\n",
              "Market Cap    1\n",
              "dtype: int64"
            ]
          },
          "metadata": {
            "tags": []
          },
          "execution_count": 249
        }
      ]
    },
    {
      "cell_type": "code",
      "metadata": {
        "id": "sbhak2X0yhdn"
      },
      "source": [
        "train['Date']=pd.to_datetime(train['Date'])\n",
        "test['Date']=pd.to_datetime(test['Date'])"
      ],
      "execution_count": null,
      "outputs": []
    },
    {
      "cell_type": "code",
      "metadata": {
        "colab": {
          "base_uri": "https://localhost:8080/",
          "height": 419
        },
        "id": "LkdkjbMEvs1u",
        "outputId": "a5639646-4e7b-481a-fda7-3e6697ec8e2b"
      },
      "source": [
        "train"
      ],
      "execution_count": null,
      "outputs": [
        {
          "output_type": "execute_result",
          "data": {
            "text/html": [
              "<div>\n",
              "<style scoped>\n",
              "    .dataframe tbody tr th:only-of-type {\n",
              "        vertical-align: middle;\n",
              "    }\n",
              "\n",
              "    .dataframe tbody tr th {\n",
              "        vertical-align: top;\n",
              "    }\n",
              "\n",
              "    .dataframe thead th {\n",
              "        text-align: right;\n",
              "    }\n",
              "</style>\n",
              "<table border=\"1\" class=\"dataframe\">\n",
              "  <thead>\n",
              "    <tr style=\"text-align: right;\">\n",
              "      <th></th>\n",
              "      <th>Date</th>\n",
              "      <th>Open</th>\n",
              "      <th>High</th>\n",
              "      <th>Low</th>\n",
              "      <th>Close</th>\n",
              "      <th>Volume</th>\n",
              "      <th>Market Cap</th>\n",
              "    </tr>\n",
              "  </thead>\n",
              "  <tbody>\n",
              "    <tr>\n",
              "      <th>0</th>\n",
              "      <td>2017-07-31</td>\n",
              "      <td>2763.24</td>\n",
              "      <td>2889.62</td>\n",
              "      <td>2720.61</td>\n",
              "      <td>2875.34</td>\n",
              "      <td>86,05,75,000</td>\n",
              "      <td>45,53,58,00,000</td>\n",
              "    </tr>\n",
              "    <tr>\n",
              "      <th>1</th>\n",
              "      <td>2017-07-30</td>\n",
              "      <td>2724.39</td>\n",
              "      <td>2758.53</td>\n",
              "      <td>2644.85</td>\n",
              "      <td>2757.18</td>\n",
              "      <td>70,59,43,000</td>\n",
              "      <td>44,89,07,00,000</td>\n",
              "    </tr>\n",
              "    <tr>\n",
              "      <th>2</th>\n",
              "      <td>2017-07-29</td>\n",
              "      <td>2807.02</td>\n",
              "      <td>2808.76</td>\n",
              "      <td>2692.80</td>\n",
              "      <td>2726.45</td>\n",
              "      <td>80,37,46,000</td>\n",
              "      <td>46,24,67,00,000</td>\n",
              "    </tr>\n",
              "    <tr>\n",
              "      <th>3</th>\n",
              "      <td>2017-07-28</td>\n",
              "      <td>2679.73</td>\n",
              "      <td>2897.45</td>\n",
              "      <td>2679.73</td>\n",
              "      <td>2809.01</td>\n",
              "      <td>1,38,01,00,000</td>\n",
              "      <td>44,14,44,00,000</td>\n",
              "    </tr>\n",
              "    <tr>\n",
              "      <th>4</th>\n",
              "      <td>2017-07-27</td>\n",
              "      <td>2538.71</td>\n",
              "      <td>2693.32</td>\n",
              "      <td>2529.34</td>\n",
              "      <td>2671.78</td>\n",
              "      <td>78,91,04,000</td>\n",
              "      <td>41,81,65,00,000</td>\n",
              "    </tr>\n",
              "    <tr>\n",
              "      <th>...</th>\n",
              "      <td>...</td>\n",
              "      <td>...</td>\n",
              "      <td>...</td>\n",
              "      <td>...</td>\n",
              "      <td>...</td>\n",
              "      <td>...</td>\n",
              "      <td>...</td>\n",
              "    </tr>\n",
              "    <tr>\n",
              "      <th>1552</th>\n",
              "      <td>2013-05-01</td>\n",
              "      <td>139.00</td>\n",
              "      <td>139.89</td>\n",
              "      <td>107.72</td>\n",
              "      <td>116.99</td>\n",
              "      <td>2,31,46,600</td>\n",
              "      <td>1,54,28,20,000</td>\n",
              "    </tr>\n",
              "    <tr>\n",
              "      <th>1553</th>\n",
              "      <td>2013-04-30</td>\n",
              "      <td>144.00</td>\n",
              "      <td>146.93</td>\n",
              "      <td>134.05</td>\n",
              "      <td>139.00</td>\n",
              "      <td>2,62,72,600</td>\n",
              "      <td>1,59,77,80,000</td>\n",
              "    </tr>\n",
              "    <tr>\n",
              "      <th>1554</th>\n",
              "      <td>2013-04-29</td>\n",
              "      <td>134.44</td>\n",
              "      <td>147.49</td>\n",
              "      <td>134.00</td>\n",
              "      <td>144.54</td>\n",
              "      <td>2,28,77,200</td>\n",
              "      <td>1,49,11,60,000</td>\n",
              "    </tr>\n",
              "    <tr>\n",
              "      <th>1555</th>\n",
              "      <td>2013-04-28</td>\n",
              "      <td>135.30</td>\n",
              "      <td>135.98</td>\n",
              "      <td>132.10</td>\n",
              "      <td>134.21</td>\n",
              "      <td>2,26,72,000</td>\n",
              "      <td>1,50,05,20,000</td>\n",
              "    </tr>\n",
              "    <tr>\n",
              "      <th>1556</th>\n",
              "      <td>NaT</td>\n",
              "      <td>NaN</td>\n",
              "      <td>NaN</td>\n",
              "      <td>NaN</td>\n",
              "      <td>NaN</td>\n",
              "      <td>NaN</td>\n",
              "      <td>NaN</td>\n",
              "    </tr>\n",
              "  </tbody>\n",
              "</table>\n",
              "<p>1557 rows × 7 columns</p>\n",
              "</div>"
            ],
            "text/plain": [
              "           Date     Open     High  ...    Close          Volume       Market Cap\n",
              "0    2017-07-31  2763.24  2889.62  ...  2875.34    86,05,75,000  45,53,58,00,000\n",
              "1    2017-07-30  2724.39  2758.53  ...  2757.18    70,59,43,000  44,89,07,00,000\n",
              "2    2017-07-29  2807.02  2808.76  ...  2726.45    80,37,46,000  46,24,67,00,000\n",
              "3    2017-07-28  2679.73  2897.45  ...  2809.01  1,38,01,00,000  44,14,44,00,000\n",
              "4    2017-07-27  2538.71  2693.32  ...  2671.78    78,91,04,000  41,81,65,00,000\n",
              "...         ...      ...      ...  ...      ...             ...              ...\n",
              "1552 2013-05-01   139.00   139.89  ...   116.99     2,31,46,600   1,54,28,20,000\n",
              "1553 2013-04-30   144.00   146.93  ...   139.00     2,62,72,600   1,59,77,80,000\n",
              "1554 2013-04-29   134.44   147.49  ...   144.54     2,28,77,200   1,49,11,60,000\n",
              "1555 2013-04-28   135.30   135.98  ...   134.21     2,26,72,000   1,50,05,20,000\n",
              "1556        NaT      NaN      NaN  ...      NaN             NaN              NaN\n",
              "\n",
              "[1557 rows x 7 columns]"
            ]
          },
          "metadata": {
            "tags": []
          },
          "execution_count": 251
        }
      ]
    },
    {
      "cell_type": "code",
      "metadata": {
        "colab": {
          "base_uri": "https://localhost:8080/",
          "height": 266
        },
        "id": "mh_0GzfTvuMg",
        "outputId": "1a707f3e-699e-4b35-9e0b-9718f5b52e0f"
      },
      "source": [
        "test"
      ],
      "execution_count": null,
      "outputs": [
        {
          "output_type": "execute_result",
          "data": {
            "text/html": [
              "<div>\n",
              "<style scoped>\n",
              "    .dataframe tbody tr th:only-of-type {\n",
              "        vertical-align: middle;\n",
              "    }\n",
              "\n",
              "    .dataframe tbody tr th {\n",
              "        vertical-align: top;\n",
              "    }\n",
              "\n",
              "    .dataframe thead th {\n",
              "        text-align: right;\n",
              "    }\n",
              "</style>\n",
              "<table border=\"1\" class=\"dataframe\">\n",
              "  <thead>\n",
              "    <tr style=\"text-align: right;\">\n",
              "      <th></th>\n",
              "      <th>Date</th>\n",
              "      <th>Open</th>\n",
              "      <th>High</th>\n",
              "      <th>Low</th>\n",
              "      <th>Close</th>\n",
              "      <th>Volume</th>\n",
              "      <th>Market Cap</th>\n",
              "    </tr>\n",
              "  </thead>\n",
              "  <tbody>\n",
              "    <tr>\n",
              "      <th>0</th>\n",
              "      <td>2017-08-07</td>\n",
              "      <td>3212.78</td>\n",
              "      <td>3397.68</td>\n",
              "      <td>3180.89</td>\n",
              "      <td>3378.94</td>\n",
              "      <td>1,48,22,80,000</td>\n",
              "      <td>52,98,73,00,000</td>\n",
              "    </tr>\n",
              "    <tr>\n",
              "      <th>1</th>\n",
              "      <td>2017-08-06</td>\n",
              "      <td>3257.61</td>\n",
              "      <td>3293.29</td>\n",
              "      <td>3155.60</td>\n",
              "      <td>3213.94</td>\n",
              "      <td>1,10,50,30,000</td>\n",
              "      <td>53,72,09,00,000</td>\n",
              "    </tr>\n",
              "    <tr>\n",
              "      <th>2</th>\n",
              "      <td>2017-08-05</td>\n",
              "      <td>2897.63</td>\n",
              "      <td>3290.01</td>\n",
              "      <td>2874.83</td>\n",
              "      <td>3252.91</td>\n",
              "      <td>1,94,57,00,000</td>\n",
              "      <td>47,77,82,00,000</td>\n",
              "    </tr>\n",
              "    <tr>\n",
              "      <th>3</th>\n",
              "      <td>2017-08-04</td>\n",
              "      <td>2806.93</td>\n",
              "      <td>2899.33</td>\n",
              "      <td>2743.72</td>\n",
              "      <td>2895.89</td>\n",
              "      <td>1,00,21,20,000</td>\n",
              "      <td>46,27,62,00,000</td>\n",
              "    </tr>\n",
              "    <tr>\n",
              "      <th>4</th>\n",
              "      <td>2017-08-03</td>\n",
              "      <td>2709.56</td>\n",
              "      <td>2813.31</td>\n",
              "      <td>2685.14</td>\n",
              "      <td>2804.73</td>\n",
              "      <td>80,47,97,000</td>\n",
              "      <td>44,66,64,00,000</td>\n",
              "    </tr>\n",
              "    <tr>\n",
              "      <th>5</th>\n",
              "      <td>2017-08-02</td>\n",
              "      <td>2727.13</td>\n",
              "      <td>2762.53</td>\n",
              "      <td>2668.59</td>\n",
              "      <td>2710.67</td>\n",
              "      <td>1,09,49,50,000</td>\n",
              "      <td>44,95,08,00,000</td>\n",
              "    </tr>\n",
              "    <tr>\n",
              "      <th>6</th>\n",
              "      <td>2017-08-01</td>\n",
              "      <td>2871.30</td>\n",
              "      <td>2921.35</td>\n",
              "      <td>2685.61</td>\n",
              "      <td>2718.26</td>\n",
              "      <td>1,32,46,70,000</td>\n",
              "      <td>47,32,18,00,000</td>\n",
              "    </tr>\n",
              "  </tbody>\n",
              "</table>\n",
              "</div>"
            ],
            "text/plain": [
              "        Date     Open     High  ...    Close          Volume       Market Cap\n",
              "0 2017-08-07  3212.78  3397.68  ...  3378.94  1,48,22,80,000  52,98,73,00,000\n",
              "1 2017-08-06  3257.61  3293.29  ...  3213.94  1,10,50,30,000  53,72,09,00,000\n",
              "2 2017-08-05  2897.63  3290.01  ...  3252.91  1,94,57,00,000  47,77,82,00,000\n",
              "3 2017-08-04  2806.93  2899.33  ...  2895.89  1,00,21,20,000  46,27,62,00,000\n",
              "4 2017-08-03  2709.56  2813.31  ...  2804.73    80,47,97,000  44,66,64,00,000\n",
              "5 2017-08-02  2727.13  2762.53  ...  2710.67  1,09,49,50,000  44,95,08,00,000\n",
              "6 2017-08-01  2871.30  2921.35  ...  2718.26  1,32,46,70,000  47,32,18,00,000\n",
              "\n",
              "[7 rows x 7 columns]"
            ]
          },
          "metadata": {
            "tags": []
          },
          "execution_count": 252
        }
      ]
    },
    {
      "cell_type": "code",
      "metadata": {
        "colab": {
          "base_uri": "https://localhost:8080/",
          "height": 419
        },
        "id": "qVmD8gE1wDdI",
        "outputId": "16cdf2cc-3584-4abf-8b87-b0027d45532e"
      },
      "source": [
        "train"
      ],
      "execution_count": null,
      "outputs": [
        {
          "output_type": "execute_result",
          "data": {
            "text/html": [
              "<div>\n",
              "<style scoped>\n",
              "    .dataframe tbody tr th:only-of-type {\n",
              "        vertical-align: middle;\n",
              "    }\n",
              "\n",
              "    .dataframe tbody tr th {\n",
              "        vertical-align: top;\n",
              "    }\n",
              "\n",
              "    .dataframe thead th {\n",
              "        text-align: right;\n",
              "    }\n",
              "</style>\n",
              "<table border=\"1\" class=\"dataframe\">\n",
              "  <thead>\n",
              "    <tr style=\"text-align: right;\">\n",
              "      <th></th>\n",
              "      <th>Date</th>\n",
              "      <th>Open</th>\n",
              "      <th>High</th>\n",
              "      <th>Low</th>\n",
              "      <th>Close</th>\n",
              "      <th>Volume</th>\n",
              "      <th>Market Cap</th>\n",
              "    </tr>\n",
              "  </thead>\n",
              "  <tbody>\n",
              "    <tr>\n",
              "      <th>0</th>\n",
              "      <td>2017-07-31</td>\n",
              "      <td>2763.24</td>\n",
              "      <td>2889.62</td>\n",
              "      <td>2720.61</td>\n",
              "      <td>2875.34</td>\n",
              "      <td>86,05,75,000</td>\n",
              "      <td>45,53,58,00,000</td>\n",
              "    </tr>\n",
              "    <tr>\n",
              "      <th>1</th>\n",
              "      <td>2017-07-30</td>\n",
              "      <td>2724.39</td>\n",
              "      <td>2758.53</td>\n",
              "      <td>2644.85</td>\n",
              "      <td>2757.18</td>\n",
              "      <td>70,59,43,000</td>\n",
              "      <td>44,89,07,00,000</td>\n",
              "    </tr>\n",
              "    <tr>\n",
              "      <th>2</th>\n",
              "      <td>2017-07-29</td>\n",
              "      <td>2807.02</td>\n",
              "      <td>2808.76</td>\n",
              "      <td>2692.80</td>\n",
              "      <td>2726.45</td>\n",
              "      <td>80,37,46,000</td>\n",
              "      <td>46,24,67,00,000</td>\n",
              "    </tr>\n",
              "    <tr>\n",
              "      <th>3</th>\n",
              "      <td>2017-07-28</td>\n",
              "      <td>2679.73</td>\n",
              "      <td>2897.45</td>\n",
              "      <td>2679.73</td>\n",
              "      <td>2809.01</td>\n",
              "      <td>1,38,01,00,000</td>\n",
              "      <td>44,14,44,00,000</td>\n",
              "    </tr>\n",
              "    <tr>\n",
              "      <th>4</th>\n",
              "      <td>2017-07-27</td>\n",
              "      <td>2538.71</td>\n",
              "      <td>2693.32</td>\n",
              "      <td>2529.34</td>\n",
              "      <td>2671.78</td>\n",
              "      <td>78,91,04,000</td>\n",
              "      <td>41,81,65,00,000</td>\n",
              "    </tr>\n",
              "    <tr>\n",
              "      <th>...</th>\n",
              "      <td>...</td>\n",
              "      <td>...</td>\n",
              "      <td>...</td>\n",
              "      <td>...</td>\n",
              "      <td>...</td>\n",
              "      <td>...</td>\n",
              "      <td>...</td>\n",
              "    </tr>\n",
              "    <tr>\n",
              "      <th>1552</th>\n",
              "      <td>2013-05-01</td>\n",
              "      <td>139.00</td>\n",
              "      <td>139.89</td>\n",
              "      <td>107.72</td>\n",
              "      <td>116.99</td>\n",
              "      <td>2,31,46,600</td>\n",
              "      <td>1,54,28,20,000</td>\n",
              "    </tr>\n",
              "    <tr>\n",
              "      <th>1553</th>\n",
              "      <td>2013-04-30</td>\n",
              "      <td>144.00</td>\n",
              "      <td>146.93</td>\n",
              "      <td>134.05</td>\n",
              "      <td>139.00</td>\n",
              "      <td>2,62,72,600</td>\n",
              "      <td>1,59,77,80,000</td>\n",
              "    </tr>\n",
              "    <tr>\n",
              "      <th>1554</th>\n",
              "      <td>2013-04-29</td>\n",
              "      <td>134.44</td>\n",
              "      <td>147.49</td>\n",
              "      <td>134.00</td>\n",
              "      <td>144.54</td>\n",
              "      <td>2,28,77,200</td>\n",
              "      <td>1,49,11,60,000</td>\n",
              "    </tr>\n",
              "    <tr>\n",
              "      <th>1555</th>\n",
              "      <td>2013-04-28</td>\n",
              "      <td>135.30</td>\n",
              "      <td>135.98</td>\n",
              "      <td>132.10</td>\n",
              "      <td>134.21</td>\n",
              "      <td>2,26,72,000</td>\n",
              "      <td>1,50,05,20,000</td>\n",
              "    </tr>\n",
              "    <tr>\n",
              "      <th>1556</th>\n",
              "      <td>NaT</td>\n",
              "      <td>NaN</td>\n",
              "      <td>NaN</td>\n",
              "      <td>NaN</td>\n",
              "      <td>NaN</td>\n",
              "      <td>NaN</td>\n",
              "      <td>NaN</td>\n",
              "    </tr>\n",
              "  </tbody>\n",
              "</table>\n",
              "<p>1557 rows × 7 columns</p>\n",
              "</div>"
            ],
            "text/plain": [
              "           Date     Open     High  ...    Close          Volume       Market Cap\n",
              "0    2017-07-31  2763.24  2889.62  ...  2875.34    86,05,75,000  45,53,58,00,000\n",
              "1    2017-07-30  2724.39  2758.53  ...  2757.18    70,59,43,000  44,89,07,00,000\n",
              "2    2017-07-29  2807.02  2808.76  ...  2726.45    80,37,46,000  46,24,67,00,000\n",
              "3    2017-07-28  2679.73  2897.45  ...  2809.01  1,38,01,00,000  44,14,44,00,000\n",
              "4    2017-07-27  2538.71  2693.32  ...  2671.78    78,91,04,000  41,81,65,00,000\n",
              "...         ...      ...      ...  ...      ...             ...              ...\n",
              "1552 2013-05-01   139.00   139.89  ...   116.99     2,31,46,600   1,54,28,20,000\n",
              "1553 2013-04-30   144.00   146.93  ...   139.00     2,62,72,600   1,59,77,80,000\n",
              "1554 2013-04-29   134.44   147.49  ...   144.54     2,28,77,200   1,49,11,60,000\n",
              "1555 2013-04-28   135.30   135.98  ...   134.21     2,26,72,000   1,50,05,20,000\n",
              "1556        NaT      NaN      NaN  ...      NaN             NaN              NaN\n",
              "\n",
              "[1557 rows x 7 columns]"
            ]
          },
          "metadata": {
            "tags": []
          },
          "execution_count": 253
        }
      ]
    },
    {
      "cell_type": "code",
      "metadata": {
        "colab": {
          "base_uri": "https://localhost:8080/",
          "height": 266
        },
        "id": "9QoPZLJswD5a",
        "outputId": "b750c127-7827-400f-c36f-64e0ee36ecaf"
      },
      "source": [
        "test"
      ],
      "execution_count": null,
      "outputs": [
        {
          "output_type": "execute_result",
          "data": {
            "text/html": [
              "<div>\n",
              "<style scoped>\n",
              "    .dataframe tbody tr th:only-of-type {\n",
              "        vertical-align: middle;\n",
              "    }\n",
              "\n",
              "    .dataframe tbody tr th {\n",
              "        vertical-align: top;\n",
              "    }\n",
              "\n",
              "    .dataframe thead th {\n",
              "        text-align: right;\n",
              "    }\n",
              "</style>\n",
              "<table border=\"1\" class=\"dataframe\">\n",
              "  <thead>\n",
              "    <tr style=\"text-align: right;\">\n",
              "      <th></th>\n",
              "      <th>Date</th>\n",
              "      <th>Open</th>\n",
              "      <th>High</th>\n",
              "      <th>Low</th>\n",
              "      <th>Close</th>\n",
              "      <th>Volume</th>\n",
              "      <th>Market Cap</th>\n",
              "    </tr>\n",
              "  </thead>\n",
              "  <tbody>\n",
              "    <tr>\n",
              "      <th>0</th>\n",
              "      <td>2017-08-07</td>\n",
              "      <td>3212.78</td>\n",
              "      <td>3397.68</td>\n",
              "      <td>3180.89</td>\n",
              "      <td>3378.94</td>\n",
              "      <td>1,48,22,80,000</td>\n",
              "      <td>52,98,73,00,000</td>\n",
              "    </tr>\n",
              "    <tr>\n",
              "      <th>1</th>\n",
              "      <td>2017-08-06</td>\n",
              "      <td>3257.61</td>\n",
              "      <td>3293.29</td>\n",
              "      <td>3155.60</td>\n",
              "      <td>3213.94</td>\n",
              "      <td>1,10,50,30,000</td>\n",
              "      <td>53,72,09,00,000</td>\n",
              "    </tr>\n",
              "    <tr>\n",
              "      <th>2</th>\n",
              "      <td>2017-08-05</td>\n",
              "      <td>2897.63</td>\n",
              "      <td>3290.01</td>\n",
              "      <td>2874.83</td>\n",
              "      <td>3252.91</td>\n",
              "      <td>1,94,57,00,000</td>\n",
              "      <td>47,77,82,00,000</td>\n",
              "    </tr>\n",
              "    <tr>\n",
              "      <th>3</th>\n",
              "      <td>2017-08-04</td>\n",
              "      <td>2806.93</td>\n",
              "      <td>2899.33</td>\n",
              "      <td>2743.72</td>\n",
              "      <td>2895.89</td>\n",
              "      <td>1,00,21,20,000</td>\n",
              "      <td>46,27,62,00,000</td>\n",
              "    </tr>\n",
              "    <tr>\n",
              "      <th>4</th>\n",
              "      <td>2017-08-03</td>\n",
              "      <td>2709.56</td>\n",
              "      <td>2813.31</td>\n",
              "      <td>2685.14</td>\n",
              "      <td>2804.73</td>\n",
              "      <td>80,47,97,000</td>\n",
              "      <td>44,66,64,00,000</td>\n",
              "    </tr>\n",
              "    <tr>\n",
              "      <th>5</th>\n",
              "      <td>2017-08-02</td>\n",
              "      <td>2727.13</td>\n",
              "      <td>2762.53</td>\n",
              "      <td>2668.59</td>\n",
              "      <td>2710.67</td>\n",
              "      <td>1,09,49,50,000</td>\n",
              "      <td>44,95,08,00,000</td>\n",
              "    </tr>\n",
              "    <tr>\n",
              "      <th>6</th>\n",
              "      <td>2017-08-01</td>\n",
              "      <td>2871.30</td>\n",
              "      <td>2921.35</td>\n",
              "      <td>2685.61</td>\n",
              "      <td>2718.26</td>\n",
              "      <td>1,32,46,70,000</td>\n",
              "      <td>47,32,18,00,000</td>\n",
              "    </tr>\n",
              "  </tbody>\n",
              "</table>\n",
              "</div>"
            ],
            "text/plain": [
              "        Date     Open     High  ...    Close          Volume       Market Cap\n",
              "0 2017-08-07  3212.78  3397.68  ...  3378.94  1,48,22,80,000  52,98,73,00,000\n",
              "1 2017-08-06  3257.61  3293.29  ...  3213.94  1,10,50,30,000  53,72,09,00,000\n",
              "2 2017-08-05  2897.63  3290.01  ...  3252.91  1,94,57,00,000  47,77,82,00,000\n",
              "3 2017-08-04  2806.93  2899.33  ...  2895.89  1,00,21,20,000  46,27,62,00,000\n",
              "4 2017-08-03  2709.56  2813.31  ...  2804.73    80,47,97,000  44,66,64,00,000\n",
              "5 2017-08-02  2727.13  2762.53  ...  2710.67  1,09,49,50,000  44,95,08,00,000\n",
              "6 2017-08-01  2871.30  2921.35  ...  2718.26  1,32,46,70,000  47,32,18,00,000\n",
              "\n",
              "[7 rows x 7 columns]"
            ]
          },
          "metadata": {
            "tags": []
          },
          "execution_count": 254
        }
      ]
    },
    {
      "cell_type": "code",
      "metadata": {
        "id": "GDi4J07MtrUw"
      },
      "source": [
        "train['Date']=pd.to_datetime(train['Date'])\n",
        "test['Date']=pd.to_datetime(test['Date'])"
      ],
      "execution_count": null,
      "outputs": []
    },
    {
      "cell_type": "code",
      "metadata": {
        "colab": {
          "base_uri": "https://localhost:8080/"
        },
        "id": "3hgUq2HSyGKS",
        "outputId": "04430298-a74c-4877-e44b-06fb3e691231"
      },
      "source": [
        "train.info()"
      ],
      "execution_count": null,
      "outputs": [
        {
          "output_type": "stream",
          "text": [
            "<class 'pandas.core.frame.DataFrame'>\n",
            "RangeIndex: 1557 entries, 0 to 1556\n",
            "Data columns (total 7 columns):\n",
            " #   Column      Non-Null Count  Dtype         \n",
            "---  ------      --------------  -----         \n",
            " 0   Date        1556 non-null   datetime64[ns]\n",
            " 1   Open        1556 non-null   float64       \n",
            " 2   High        1556 non-null   float64       \n",
            " 3   Low         1556 non-null   float64       \n",
            " 4   Close       1556 non-null   float64       \n",
            " 5   Volume      1556 non-null   object        \n",
            " 6   Market Cap  1556 non-null   object        \n",
            "dtypes: datetime64[ns](1), float64(4), object(2)\n",
            "memory usage: 85.3+ KB\n"
          ],
          "name": "stdout"
        }
      ]
    },
    {
      "cell_type": "code",
      "metadata": {
        "colab": {
          "base_uri": "https://localhost:8080/"
        },
        "id": "DV54kvCQyGNP",
        "outputId": "b4ea43af-b65c-43ae-994a-b148212f0540"
      },
      "source": [
        "test.info()"
      ],
      "execution_count": null,
      "outputs": [
        {
          "output_type": "stream",
          "text": [
            "<class 'pandas.core.frame.DataFrame'>\n",
            "RangeIndex: 7 entries, 0 to 6\n",
            "Data columns (total 7 columns):\n",
            " #   Column      Non-Null Count  Dtype         \n",
            "---  ------      --------------  -----         \n",
            " 0   Date        7 non-null      datetime64[ns]\n",
            " 1   Open        7 non-null      float64       \n",
            " 2   High        7 non-null      float64       \n",
            " 3   Low         7 non-null      float64       \n",
            " 4   Close       7 non-null      float64       \n",
            " 5   Volume      7 non-null      object        \n",
            " 6   Market Cap  7 non-null      object        \n",
            "dtypes: datetime64[ns](1), float64(4), object(2)\n",
            "memory usage: 520.0+ bytes\n"
          ],
          "name": "stdout"
        }
      ]
    },
    {
      "cell_type": "code",
      "metadata": {
        "colab": {
          "base_uri": "https://localhost:8080/",
          "height": 419
        },
        "id": "7hRgWFsKwENf",
        "outputId": "cc5e6e6c-3888-43f7-80b2-6e126df27f6c"
      },
      "source": [
        "train.dropna()"
      ],
      "execution_count": null,
      "outputs": [
        {
          "output_type": "execute_result",
          "data": {
            "text/html": [
              "<div>\n",
              "<style scoped>\n",
              "    .dataframe tbody tr th:only-of-type {\n",
              "        vertical-align: middle;\n",
              "    }\n",
              "\n",
              "    .dataframe tbody tr th {\n",
              "        vertical-align: top;\n",
              "    }\n",
              "\n",
              "    .dataframe thead th {\n",
              "        text-align: right;\n",
              "    }\n",
              "</style>\n",
              "<table border=\"1\" class=\"dataframe\">\n",
              "  <thead>\n",
              "    <tr style=\"text-align: right;\">\n",
              "      <th></th>\n",
              "      <th>Date</th>\n",
              "      <th>Open</th>\n",
              "      <th>High</th>\n",
              "      <th>Low</th>\n",
              "      <th>Close</th>\n",
              "      <th>Volume</th>\n",
              "      <th>Market Cap</th>\n",
              "    </tr>\n",
              "  </thead>\n",
              "  <tbody>\n",
              "    <tr>\n",
              "      <th>0</th>\n",
              "      <td>2017-07-31</td>\n",
              "      <td>2763.24</td>\n",
              "      <td>2889.62</td>\n",
              "      <td>2720.61</td>\n",
              "      <td>2875.34</td>\n",
              "      <td>86,05,75,000</td>\n",
              "      <td>45,53,58,00,000</td>\n",
              "    </tr>\n",
              "    <tr>\n",
              "      <th>1</th>\n",
              "      <td>2017-07-30</td>\n",
              "      <td>2724.39</td>\n",
              "      <td>2758.53</td>\n",
              "      <td>2644.85</td>\n",
              "      <td>2757.18</td>\n",
              "      <td>70,59,43,000</td>\n",
              "      <td>44,89,07,00,000</td>\n",
              "    </tr>\n",
              "    <tr>\n",
              "      <th>2</th>\n",
              "      <td>2017-07-29</td>\n",
              "      <td>2807.02</td>\n",
              "      <td>2808.76</td>\n",
              "      <td>2692.80</td>\n",
              "      <td>2726.45</td>\n",
              "      <td>80,37,46,000</td>\n",
              "      <td>46,24,67,00,000</td>\n",
              "    </tr>\n",
              "    <tr>\n",
              "      <th>3</th>\n",
              "      <td>2017-07-28</td>\n",
              "      <td>2679.73</td>\n",
              "      <td>2897.45</td>\n",
              "      <td>2679.73</td>\n",
              "      <td>2809.01</td>\n",
              "      <td>1,38,01,00,000</td>\n",
              "      <td>44,14,44,00,000</td>\n",
              "    </tr>\n",
              "    <tr>\n",
              "      <th>4</th>\n",
              "      <td>2017-07-27</td>\n",
              "      <td>2538.71</td>\n",
              "      <td>2693.32</td>\n",
              "      <td>2529.34</td>\n",
              "      <td>2671.78</td>\n",
              "      <td>78,91,04,000</td>\n",
              "      <td>41,81,65,00,000</td>\n",
              "    </tr>\n",
              "    <tr>\n",
              "      <th>...</th>\n",
              "      <td>...</td>\n",
              "      <td>...</td>\n",
              "      <td>...</td>\n",
              "      <td>...</td>\n",
              "      <td>...</td>\n",
              "      <td>...</td>\n",
              "      <td>...</td>\n",
              "    </tr>\n",
              "    <tr>\n",
              "      <th>1551</th>\n",
              "      <td>2013-05-02</td>\n",
              "      <td>116.38</td>\n",
              "      <td>125.60</td>\n",
              "      <td>92.28</td>\n",
              "      <td>105.21</td>\n",
              "      <td>1,24,93,500</td>\n",
              "      <td>1,29,21,90,000</td>\n",
              "    </tr>\n",
              "    <tr>\n",
              "      <th>1552</th>\n",
              "      <td>2013-05-01</td>\n",
              "      <td>139.00</td>\n",
              "      <td>139.89</td>\n",
              "      <td>107.72</td>\n",
              "      <td>116.99</td>\n",
              "      <td>2,31,46,600</td>\n",
              "      <td>1,54,28,20,000</td>\n",
              "    </tr>\n",
              "    <tr>\n",
              "      <th>1553</th>\n",
              "      <td>2013-04-30</td>\n",
              "      <td>144.00</td>\n",
              "      <td>146.93</td>\n",
              "      <td>134.05</td>\n",
              "      <td>139.00</td>\n",
              "      <td>2,62,72,600</td>\n",
              "      <td>1,59,77,80,000</td>\n",
              "    </tr>\n",
              "    <tr>\n",
              "      <th>1554</th>\n",
              "      <td>2013-04-29</td>\n",
              "      <td>134.44</td>\n",
              "      <td>147.49</td>\n",
              "      <td>134.00</td>\n",
              "      <td>144.54</td>\n",
              "      <td>2,28,77,200</td>\n",
              "      <td>1,49,11,60,000</td>\n",
              "    </tr>\n",
              "    <tr>\n",
              "      <th>1555</th>\n",
              "      <td>2013-04-28</td>\n",
              "      <td>135.30</td>\n",
              "      <td>135.98</td>\n",
              "      <td>132.10</td>\n",
              "      <td>134.21</td>\n",
              "      <td>2,26,72,000</td>\n",
              "      <td>1,50,05,20,000</td>\n",
              "    </tr>\n",
              "  </tbody>\n",
              "</table>\n",
              "<p>1556 rows × 7 columns</p>\n",
              "</div>"
            ],
            "text/plain": [
              "           Date     Open     High  ...    Close          Volume       Market Cap\n",
              "0    2017-07-31  2763.24  2889.62  ...  2875.34    86,05,75,000  45,53,58,00,000\n",
              "1    2017-07-30  2724.39  2758.53  ...  2757.18    70,59,43,000  44,89,07,00,000\n",
              "2    2017-07-29  2807.02  2808.76  ...  2726.45    80,37,46,000  46,24,67,00,000\n",
              "3    2017-07-28  2679.73  2897.45  ...  2809.01  1,38,01,00,000  44,14,44,00,000\n",
              "4    2017-07-27  2538.71  2693.32  ...  2671.78    78,91,04,000  41,81,65,00,000\n",
              "...         ...      ...      ...  ...      ...             ...              ...\n",
              "1551 2013-05-02   116.38   125.60  ...   105.21     1,24,93,500   1,29,21,90,000\n",
              "1552 2013-05-01   139.00   139.89  ...   116.99     2,31,46,600   1,54,28,20,000\n",
              "1553 2013-04-30   144.00   146.93  ...   139.00     2,62,72,600   1,59,77,80,000\n",
              "1554 2013-04-29   134.44   147.49  ...   144.54     2,28,77,200   1,49,11,60,000\n",
              "1555 2013-04-28   135.30   135.98  ...   134.21     2,26,72,000   1,50,05,20,000\n",
              "\n",
              "[1556 rows x 7 columns]"
            ]
          },
          "metadata": {
            "tags": []
          },
          "execution_count": 258
        }
      ]
    },
    {
      "cell_type": "code",
      "metadata": {
        "id": "99geC8WGwJmy"
      },
      "source": [
        "train1=train[::-1]\n",
        "test1=test[::-1]"
      ],
      "execution_count": null,
      "outputs": []
    },
    {
      "cell_type": "code",
      "metadata": {
        "colab": {
          "base_uri": "https://localhost:8080/",
          "height": 419
        },
        "id": "YIW3P7MOwRjY",
        "outputId": "e3a98fab-2b04-45f9-8d18-84d434fd20f7"
      },
      "source": [
        "train1"
      ],
      "execution_count": null,
      "outputs": [
        {
          "output_type": "execute_result",
          "data": {
            "text/html": [
              "<div>\n",
              "<style scoped>\n",
              "    .dataframe tbody tr th:only-of-type {\n",
              "        vertical-align: middle;\n",
              "    }\n",
              "\n",
              "    .dataframe tbody tr th {\n",
              "        vertical-align: top;\n",
              "    }\n",
              "\n",
              "    .dataframe thead th {\n",
              "        text-align: right;\n",
              "    }\n",
              "</style>\n",
              "<table border=\"1\" class=\"dataframe\">\n",
              "  <thead>\n",
              "    <tr style=\"text-align: right;\">\n",
              "      <th></th>\n",
              "      <th>Date</th>\n",
              "      <th>Open</th>\n",
              "      <th>High</th>\n",
              "      <th>Low</th>\n",
              "      <th>Close</th>\n",
              "      <th>Volume</th>\n",
              "      <th>Market Cap</th>\n",
              "    </tr>\n",
              "  </thead>\n",
              "  <tbody>\n",
              "    <tr>\n",
              "      <th>1556</th>\n",
              "      <td>NaT</td>\n",
              "      <td>NaN</td>\n",
              "      <td>NaN</td>\n",
              "      <td>NaN</td>\n",
              "      <td>NaN</td>\n",
              "      <td>NaN</td>\n",
              "      <td>NaN</td>\n",
              "    </tr>\n",
              "    <tr>\n",
              "      <th>1555</th>\n",
              "      <td>2013-04-28</td>\n",
              "      <td>135.30</td>\n",
              "      <td>135.98</td>\n",
              "      <td>132.10</td>\n",
              "      <td>134.21</td>\n",
              "      <td>2,26,72,000</td>\n",
              "      <td>1,50,05,20,000</td>\n",
              "    </tr>\n",
              "    <tr>\n",
              "      <th>1554</th>\n",
              "      <td>2013-04-29</td>\n",
              "      <td>134.44</td>\n",
              "      <td>147.49</td>\n",
              "      <td>134.00</td>\n",
              "      <td>144.54</td>\n",
              "      <td>2,28,77,200</td>\n",
              "      <td>1,49,11,60,000</td>\n",
              "    </tr>\n",
              "    <tr>\n",
              "      <th>1553</th>\n",
              "      <td>2013-04-30</td>\n",
              "      <td>144.00</td>\n",
              "      <td>146.93</td>\n",
              "      <td>134.05</td>\n",
              "      <td>139.00</td>\n",
              "      <td>2,62,72,600</td>\n",
              "      <td>1,59,77,80,000</td>\n",
              "    </tr>\n",
              "    <tr>\n",
              "      <th>1552</th>\n",
              "      <td>2013-05-01</td>\n",
              "      <td>139.00</td>\n",
              "      <td>139.89</td>\n",
              "      <td>107.72</td>\n",
              "      <td>116.99</td>\n",
              "      <td>2,31,46,600</td>\n",
              "      <td>1,54,28,20,000</td>\n",
              "    </tr>\n",
              "    <tr>\n",
              "      <th>...</th>\n",
              "      <td>...</td>\n",
              "      <td>...</td>\n",
              "      <td>...</td>\n",
              "      <td>...</td>\n",
              "      <td>...</td>\n",
              "      <td>...</td>\n",
              "      <td>...</td>\n",
              "    </tr>\n",
              "    <tr>\n",
              "      <th>4</th>\n",
              "      <td>2017-07-27</td>\n",
              "      <td>2538.71</td>\n",
              "      <td>2693.32</td>\n",
              "      <td>2529.34</td>\n",
              "      <td>2671.78</td>\n",
              "      <td>78,91,04,000</td>\n",
              "      <td>41,81,65,00,000</td>\n",
              "    </tr>\n",
              "    <tr>\n",
              "      <th>3</th>\n",
              "      <td>2017-07-28</td>\n",
              "      <td>2679.73</td>\n",
              "      <td>2897.45</td>\n",
              "      <td>2679.73</td>\n",
              "      <td>2809.01</td>\n",
              "      <td>1,38,01,00,000</td>\n",
              "      <td>44,14,44,00,000</td>\n",
              "    </tr>\n",
              "    <tr>\n",
              "      <th>2</th>\n",
              "      <td>2017-07-29</td>\n",
              "      <td>2807.02</td>\n",
              "      <td>2808.76</td>\n",
              "      <td>2692.80</td>\n",
              "      <td>2726.45</td>\n",
              "      <td>80,37,46,000</td>\n",
              "      <td>46,24,67,00,000</td>\n",
              "    </tr>\n",
              "    <tr>\n",
              "      <th>1</th>\n",
              "      <td>2017-07-30</td>\n",
              "      <td>2724.39</td>\n",
              "      <td>2758.53</td>\n",
              "      <td>2644.85</td>\n",
              "      <td>2757.18</td>\n",
              "      <td>70,59,43,000</td>\n",
              "      <td>44,89,07,00,000</td>\n",
              "    </tr>\n",
              "    <tr>\n",
              "      <th>0</th>\n",
              "      <td>2017-07-31</td>\n",
              "      <td>2763.24</td>\n",
              "      <td>2889.62</td>\n",
              "      <td>2720.61</td>\n",
              "      <td>2875.34</td>\n",
              "      <td>86,05,75,000</td>\n",
              "      <td>45,53,58,00,000</td>\n",
              "    </tr>\n",
              "  </tbody>\n",
              "</table>\n",
              "<p>1557 rows × 7 columns</p>\n",
              "</div>"
            ],
            "text/plain": [
              "           Date     Open     High  ...    Close          Volume       Market Cap\n",
              "1556        NaT      NaN      NaN  ...      NaN             NaN              NaN\n",
              "1555 2013-04-28   135.30   135.98  ...   134.21     2,26,72,000   1,50,05,20,000\n",
              "1554 2013-04-29   134.44   147.49  ...   144.54     2,28,77,200   1,49,11,60,000\n",
              "1553 2013-04-30   144.00   146.93  ...   139.00     2,62,72,600   1,59,77,80,000\n",
              "1552 2013-05-01   139.00   139.89  ...   116.99     2,31,46,600   1,54,28,20,000\n",
              "...         ...      ...      ...  ...      ...             ...              ...\n",
              "4    2017-07-27  2538.71  2693.32  ...  2671.78    78,91,04,000  41,81,65,00,000\n",
              "3    2017-07-28  2679.73  2897.45  ...  2809.01  1,38,01,00,000  44,14,44,00,000\n",
              "2    2017-07-29  2807.02  2808.76  ...  2726.45    80,37,46,000  46,24,67,00,000\n",
              "1    2017-07-30  2724.39  2758.53  ...  2757.18    70,59,43,000  44,89,07,00,000\n",
              "0    2017-07-31  2763.24  2889.62  ...  2875.34    86,05,75,000  45,53,58,00,000\n",
              "\n",
              "[1557 rows x 7 columns]"
            ]
          },
          "metadata": {
            "tags": []
          },
          "execution_count": 260
        }
      ]
    },
    {
      "cell_type": "code",
      "metadata": {
        "colab": {
          "base_uri": "https://localhost:8080/",
          "height": 266
        },
        "id": "g4HBPdb7wTJS",
        "outputId": "0d2c2545-3a01-4fd3-8e75-91ca0f9c6f83"
      },
      "source": [
        "test1"
      ],
      "execution_count": null,
      "outputs": [
        {
          "output_type": "execute_result",
          "data": {
            "text/html": [
              "<div>\n",
              "<style scoped>\n",
              "    .dataframe tbody tr th:only-of-type {\n",
              "        vertical-align: middle;\n",
              "    }\n",
              "\n",
              "    .dataframe tbody tr th {\n",
              "        vertical-align: top;\n",
              "    }\n",
              "\n",
              "    .dataframe thead th {\n",
              "        text-align: right;\n",
              "    }\n",
              "</style>\n",
              "<table border=\"1\" class=\"dataframe\">\n",
              "  <thead>\n",
              "    <tr style=\"text-align: right;\">\n",
              "      <th></th>\n",
              "      <th>Date</th>\n",
              "      <th>Open</th>\n",
              "      <th>High</th>\n",
              "      <th>Low</th>\n",
              "      <th>Close</th>\n",
              "      <th>Volume</th>\n",
              "      <th>Market Cap</th>\n",
              "    </tr>\n",
              "  </thead>\n",
              "  <tbody>\n",
              "    <tr>\n",
              "      <th>6</th>\n",
              "      <td>2017-08-01</td>\n",
              "      <td>2871.30</td>\n",
              "      <td>2921.35</td>\n",
              "      <td>2685.61</td>\n",
              "      <td>2718.26</td>\n",
              "      <td>1,32,46,70,000</td>\n",
              "      <td>47,32,18,00,000</td>\n",
              "    </tr>\n",
              "    <tr>\n",
              "      <th>5</th>\n",
              "      <td>2017-08-02</td>\n",
              "      <td>2727.13</td>\n",
              "      <td>2762.53</td>\n",
              "      <td>2668.59</td>\n",
              "      <td>2710.67</td>\n",
              "      <td>1,09,49,50,000</td>\n",
              "      <td>44,95,08,00,000</td>\n",
              "    </tr>\n",
              "    <tr>\n",
              "      <th>4</th>\n",
              "      <td>2017-08-03</td>\n",
              "      <td>2709.56</td>\n",
              "      <td>2813.31</td>\n",
              "      <td>2685.14</td>\n",
              "      <td>2804.73</td>\n",
              "      <td>80,47,97,000</td>\n",
              "      <td>44,66,64,00,000</td>\n",
              "    </tr>\n",
              "    <tr>\n",
              "      <th>3</th>\n",
              "      <td>2017-08-04</td>\n",
              "      <td>2806.93</td>\n",
              "      <td>2899.33</td>\n",
              "      <td>2743.72</td>\n",
              "      <td>2895.89</td>\n",
              "      <td>1,00,21,20,000</td>\n",
              "      <td>46,27,62,00,000</td>\n",
              "    </tr>\n",
              "    <tr>\n",
              "      <th>2</th>\n",
              "      <td>2017-08-05</td>\n",
              "      <td>2897.63</td>\n",
              "      <td>3290.01</td>\n",
              "      <td>2874.83</td>\n",
              "      <td>3252.91</td>\n",
              "      <td>1,94,57,00,000</td>\n",
              "      <td>47,77,82,00,000</td>\n",
              "    </tr>\n",
              "    <tr>\n",
              "      <th>1</th>\n",
              "      <td>2017-08-06</td>\n",
              "      <td>3257.61</td>\n",
              "      <td>3293.29</td>\n",
              "      <td>3155.60</td>\n",
              "      <td>3213.94</td>\n",
              "      <td>1,10,50,30,000</td>\n",
              "      <td>53,72,09,00,000</td>\n",
              "    </tr>\n",
              "    <tr>\n",
              "      <th>0</th>\n",
              "      <td>2017-08-07</td>\n",
              "      <td>3212.78</td>\n",
              "      <td>3397.68</td>\n",
              "      <td>3180.89</td>\n",
              "      <td>3378.94</td>\n",
              "      <td>1,48,22,80,000</td>\n",
              "      <td>52,98,73,00,000</td>\n",
              "    </tr>\n",
              "  </tbody>\n",
              "</table>\n",
              "</div>"
            ],
            "text/plain": [
              "        Date     Open     High  ...    Close          Volume       Market Cap\n",
              "6 2017-08-01  2871.30  2921.35  ...  2718.26  1,32,46,70,000  47,32,18,00,000\n",
              "5 2017-08-02  2727.13  2762.53  ...  2710.67  1,09,49,50,000  44,95,08,00,000\n",
              "4 2017-08-03  2709.56  2813.31  ...  2804.73    80,47,97,000  44,66,64,00,000\n",
              "3 2017-08-04  2806.93  2899.33  ...  2895.89  1,00,21,20,000  46,27,62,00,000\n",
              "2 2017-08-05  2897.63  3290.01  ...  3252.91  1,94,57,00,000  47,77,82,00,000\n",
              "1 2017-08-06  3257.61  3293.29  ...  3213.94  1,10,50,30,000  53,72,09,00,000\n",
              "0 2017-08-07  3212.78  3397.68  ...  3378.94  1,48,22,80,000  52,98,73,00,000\n",
              "\n",
              "[7 rows x 7 columns]"
            ]
          },
          "metadata": {
            "tags": []
          },
          "execution_count": 261
        }
      ]
    },
    {
      "cell_type": "code",
      "metadata": {
        "colab": {
          "base_uri": "https://localhost:8080/",
          "height": 419
        },
        "id": "fkhMALvowTkV",
        "outputId": "02f3b394-be98-44a5-d31e-854a2ccf06a2"
      },
      "source": [
        "train1.dropna()"
      ],
      "execution_count": null,
      "outputs": [
        {
          "output_type": "execute_result",
          "data": {
            "text/html": [
              "<div>\n",
              "<style scoped>\n",
              "    .dataframe tbody tr th:only-of-type {\n",
              "        vertical-align: middle;\n",
              "    }\n",
              "\n",
              "    .dataframe tbody tr th {\n",
              "        vertical-align: top;\n",
              "    }\n",
              "\n",
              "    .dataframe thead th {\n",
              "        text-align: right;\n",
              "    }\n",
              "</style>\n",
              "<table border=\"1\" class=\"dataframe\">\n",
              "  <thead>\n",
              "    <tr style=\"text-align: right;\">\n",
              "      <th></th>\n",
              "      <th>Date</th>\n",
              "      <th>Open</th>\n",
              "      <th>High</th>\n",
              "      <th>Low</th>\n",
              "      <th>Close</th>\n",
              "      <th>Volume</th>\n",
              "      <th>Market Cap</th>\n",
              "    </tr>\n",
              "  </thead>\n",
              "  <tbody>\n",
              "    <tr>\n",
              "      <th>1555</th>\n",
              "      <td>2013-04-28</td>\n",
              "      <td>135.30</td>\n",
              "      <td>135.98</td>\n",
              "      <td>132.10</td>\n",
              "      <td>134.21</td>\n",
              "      <td>2,26,72,000</td>\n",
              "      <td>1,50,05,20,000</td>\n",
              "    </tr>\n",
              "    <tr>\n",
              "      <th>1554</th>\n",
              "      <td>2013-04-29</td>\n",
              "      <td>134.44</td>\n",
              "      <td>147.49</td>\n",
              "      <td>134.00</td>\n",
              "      <td>144.54</td>\n",
              "      <td>2,28,77,200</td>\n",
              "      <td>1,49,11,60,000</td>\n",
              "    </tr>\n",
              "    <tr>\n",
              "      <th>1553</th>\n",
              "      <td>2013-04-30</td>\n",
              "      <td>144.00</td>\n",
              "      <td>146.93</td>\n",
              "      <td>134.05</td>\n",
              "      <td>139.00</td>\n",
              "      <td>2,62,72,600</td>\n",
              "      <td>1,59,77,80,000</td>\n",
              "    </tr>\n",
              "    <tr>\n",
              "      <th>1552</th>\n",
              "      <td>2013-05-01</td>\n",
              "      <td>139.00</td>\n",
              "      <td>139.89</td>\n",
              "      <td>107.72</td>\n",
              "      <td>116.99</td>\n",
              "      <td>2,31,46,600</td>\n",
              "      <td>1,54,28,20,000</td>\n",
              "    </tr>\n",
              "    <tr>\n",
              "      <th>1551</th>\n",
              "      <td>2013-05-02</td>\n",
              "      <td>116.38</td>\n",
              "      <td>125.60</td>\n",
              "      <td>92.28</td>\n",
              "      <td>105.21</td>\n",
              "      <td>1,24,93,500</td>\n",
              "      <td>1,29,21,90,000</td>\n",
              "    </tr>\n",
              "    <tr>\n",
              "      <th>...</th>\n",
              "      <td>...</td>\n",
              "      <td>...</td>\n",
              "      <td>...</td>\n",
              "      <td>...</td>\n",
              "      <td>...</td>\n",
              "      <td>...</td>\n",
              "      <td>...</td>\n",
              "    </tr>\n",
              "    <tr>\n",
              "      <th>4</th>\n",
              "      <td>2017-07-27</td>\n",
              "      <td>2538.71</td>\n",
              "      <td>2693.32</td>\n",
              "      <td>2529.34</td>\n",
              "      <td>2671.78</td>\n",
              "      <td>78,91,04,000</td>\n",
              "      <td>41,81,65,00,000</td>\n",
              "    </tr>\n",
              "    <tr>\n",
              "      <th>3</th>\n",
              "      <td>2017-07-28</td>\n",
              "      <td>2679.73</td>\n",
              "      <td>2897.45</td>\n",
              "      <td>2679.73</td>\n",
              "      <td>2809.01</td>\n",
              "      <td>1,38,01,00,000</td>\n",
              "      <td>44,14,44,00,000</td>\n",
              "    </tr>\n",
              "    <tr>\n",
              "      <th>2</th>\n",
              "      <td>2017-07-29</td>\n",
              "      <td>2807.02</td>\n",
              "      <td>2808.76</td>\n",
              "      <td>2692.80</td>\n",
              "      <td>2726.45</td>\n",
              "      <td>80,37,46,000</td>\n",
              "      <td>46,24,67,00,000</td>\n",
              "    </tr>\n",
              "    <tr>\n",
              "      <th>1</th>\n",
              "      <td>2017-07-30</td>\n",
              "      <td>2724.39</td>\n",
              "      <td>2758.53</td>\n",
              "      <td>2644.85</td>\n",
              "      <td>2757.18</td>\n",
              "      <td>70,59,43,000</td>\n",
              "      <td>44,89,07,00,000</td>\n",
              "    </tr>\n",
              "    <tr>\n",
              "      <th>0</th>\n",
              "      <td>2017-07-31</td>\n",
              "      <td>2763.24</td>\n",
              "      <td>2889.62</td>\n",
              "      <td>2720.61</td>\n",
              "      <td>2875.34</td>\n",
              "      <td>86,05,75,000</td>\n",
              "      <td>45,53,58,00,000</td>\n",
              "    </tr>\n",
              "  </tbody>\n",
              "</table>\n",
              "<p>1556 rows × 7 columns</p>\n",
              "</div>"
            ],
            "text/plain": [
              "           Date     Open     High  ...    Close          Volume       Market Cap\n",
              "1555 2013-04-28   135.30   135.98  ...   134.21     2,26,72,000   1,50,05,20,000\n",
              "1554 2013-04-29   134.44   147.49  ...   144.54     2,28,77,200   1,49,11,60,000\n",
              "1553 2013-04-30   144.00   146.93  ...   139.00     2,62,72,600   1,59,77,80,000\n",
              "1552 2013-05-01   139.00   139.89  ...   116.99     2,31,46,600   1,54,28,20,000\n",
              "1551 2013-05-02   116.38   125.60  ...   105.21     1,24,93,500   1,29,21,90,000\n",
              "...         ...      ...      ...  ...      ...             ...              ...\n",
              "4    2017-07-27  2538.71  2693.32  ...  2671.78    78,91,04,000  41,81,65,00,000\n",
              "3    2017-07-28  2679.73  2897.45  ...  2809.01  1,38,01,00,000  44,14,44,00,000\n",
              "2    2017-07-29  2807.02  2808.76  ...  2726.45    80,37,46,000  46,24,67,00,000\n",
              "1    2017-07-30  2724.39  2758.53  ...  2757.18    70,59,43,000  44,89,07,00,000\n",
              "0    2017-07-31  2763.24  2889.62  ...  2875.34    86,05,75,000  45,53,58,00,000\n",
              "\n",
              "[1556 rows x 7 columns]"
            ]
          },
          "metadata": {
            "tags": []
          },
          "execution_count": 262
        }
      ]
    },
    {
      "cell_type": "code",
      "metadata": {
        "colab": {
          "base_uri": "https://localhost:8080/",
          "height": 282
        },
        "id": "FifCNAkcwWjP",
        "outputId": "7472e11e-30fc-42ae-e308-e0aaf6afa266"
      },
      "source": [
        "plt.plot(train1['Close'],color='blue')\n"
      ],
      "execution_count": null,
      "outputs": [
        {
          "output_type": "execute_result",
          "data": {
            "text/plain": [
              "[<matplotlib.lines.Line2D at 0x7f6a683884d0>]"
            ]
          },
          "metadata": {
            "tags": []
          },
          "execution_count": 263
        },
        {
          "output_type": "display_data",
          "data": {
            "image/png": "[encoded data removed]",
            "text/plain": [
              "<Figure size 432x288 with 1 Axes>"
            ]
          },
          "metadata": {
            "tags": [],
            "needs_background": "light"
          }
        }
      ]
    },
    {
      "cell_type": "code",
      "metadata": {
        "colab": {
          "base_uri": "https://localhost:8080/",
          "height": 283
        },
        "id": "quLhEDpTwmaS",
        "outputId": "87e956c9-e15f-47f4-c65d-726986da7b97"
      },
      "source": [
        "plt.plot(test1['Close'],color='red')"
      ],
      "execution_count": null,
      "outputs": [
        {
          "output_type": "execute_result",
          "data": {
            "text/plain": [
              "[<matplotlib.lines.Line2D at 0x7f6a68253d90>]"
            ]
          },
          "metadata": {
            "tags": []
          },
          "execution_count": 264
        },
        {
          "output_type": "display_data",
          "data": {
            "image/png": "[encoded data removed]",
            "text/plain": [
              "<Figure size 432x288 with 1 Axes>"
            ]
          },
          "metadata": {
            "tags": [],
            "needs_background": "light"
          }
        }
      ]
    },
    {
      "cell_type": "code",
      "metadata": {
        "colab": {
          "base_uri": "https://localhost:8080/"
        },
        "id": "LV4X7ib2wqG1",
        "outputId": "b4314acd-5317-4f4b-bc13-c72fa0c29ad1"
      },
      "source": [
        "train1.isnull().sum()"
      ],
      "execution_count": null,
      "outputs": [
        {
          "output_type": "execute_result",
          "data": {
            "text/plain": [
              "Date          1\n",
              "Open          1\n",
              "High          1\n",
              "Low           1\n",
              "Close         1\n",
              "Volume        1\n",
              "Market Cap    1\n",
              "dtype: int64"
            ]
          },
          "metadata": {
            "tags": []
          },
          "execution_count": 265
        }
      ]
    },
    {
      "cell_type": "code",
      "metadata": {
        "colab": {
          "base_uri": "https://localhost:8080/",
          "height": 419
        },
        "id": "Z4PXS8NVw2GM",
        "outputId": "06c38ac0-3226-425c-d414-8da5d7430f10"
      },
      "source": [
        "train1"
      ],
      "execution_count": null,
      "outputs": [
        {
          "output_type": "execute_result",
          "data": {
            "text/html": [
              "<div>\n",
              "<style scoped>\n",
              "    .dataframe tbody tr th:only-of-type {\n",
              "        vertical-align: middle;\n",
              "    }\n",
              "\n",
              "    .dataframe tbody tr th {\n",
              "        vertical-align: top;\n",
              "    }\n",
              "\n",
              "    .dataframe thead th {\n",
              "        text-align: right;\n",
              "    }\n",
              "</style>\n",
              "<table border=\"1\" class=\"dataframe\">\n",
              "  <thead>\n",
              "    <tr style=\"text-align: right;\">\n",
              "      <th></th>\n",
              "      <th>Date</th>\n",
              "      <th>Open</th>\n",
              "      <th>High</th>\n",
              "      <th>Low</th>\n",
              "      <th>Close</th>\n",
              "      <th>Volume</th>\n",
              "      <th>Market Cap</th>\n",
              "    </tr>\n",
              "  </thead>\n",
              "  <tbody>\n",
              "    <tr>\n",
              "      <th>1556</th>\n",
              "      <td>NaT</td>\n",
              "      <td>NaN</td>\n",
              "      <td>NaN</td>\n",
              "      <td>NaN</td>\n",
              "      <td>NaN</td>\n",
              "      <td>NaN</td>\n",
              "      <td>NaN</td>\n",
              "    </tr>\n",
              "    <tr>\n",
              "      <th>1555</th>\n",
              "      <td>2013-04-28</td>\n",
              "      <td>135.30</td>\n",
              "      <td>135.98</td>\n",
              "      <td>132.10</td>\n",
              "      <td>134.21</td>\n",
              "      <td>2,26,72,000</td>\n",
              "      <td>1,50,05,20,000</td>\n",
              "    </tr>\n",
              "    <tr>\n",
              "      <th>1554</th>\n",
              "      <td>2013-04-29</td>\n",
              "      <td>134.44</td>\n",
              "      <td>147.49</td>\n",
              "      <td>134.00</td>\n",
              "      <td>144.54</td>\n",
              "      <td>2,28,77,200</td>\n",
              "      <td>1,49,11,60,000</td>\n",
              "    </tr>\n",
              "    <tr>\n",
              "      <th>1553</th>\n",
              "      <td>2013-04-30</td>\n",
              "      <td>144.00</td>\n",
              "      <td>146.93</td>\n",
              "      <td>134.05</td>\n",
              "      <td>139.00</td>\n",
              "      <td>2,62,72,600</td>\n",
              "      <td>1,59,77,80,000</td>\n",
              "    </tr>\n",
              "    <tr>\n",
              "      <th>1552</th>\n",
              "      <td>2013-05-01</td>\n",
              "      <td>139.00</td>\n",
              "      <td>139.89</td>\n",
              "      <td>107.72</td>\n",
              "      <td>116.99</td>\n",
              "      <td>2,31,46,600</td>\n",
              "      <td>1,54,28,20,000</td>\n",
              "    </tr>\n",
              "    <tr>\n",
              "      <th>...</th>\n",
              "      <td>...</td>\n",
              "      <td>...</td>\n",
              "      <td>...</td>\n",
              "      <td>...</td>\n",
              "      <td>...</td>\n",
              "      <td>...</td>\n",
              "      <td>...</td>\n",
              "    </tr>\n",
              "    <tr>\n",
              "      <th>4</th>\n",
              "      <td>2017-07-27</td>\n",
              "      <td>2538.71</td>\n",
              "      <td>2693.32</td>\n",
              "      <td>2529.34</td>\n",
              "      <td>2671.78</td>\n",
              "      <td>78,91,04,000</td>\n",
              "      <td>41,81,65,00,000</td>\n",
              "    </tr>\n",
              "    <tr>\n",
              "      <th>3</th>\n",
              "      <td>2017-07-28</td>\n",
              "      <td>2679.73</td>\n",
              "      <td>2897.45</td>\n",
              "      <td>2679.73</td>\n",
              "      <td>2809.01</td>\n",
              "      <td>1,38,01,00,000</td>\n",
              "      <td>44,14,44,00,000</td>\n",
              "    </tr>\n",
              "    <tr>\n",
              "      <th>2</th>\n",
              "      <td>2017-07-29</td>\n",
              "      <td>2807.02</td>\n",
              "      <td>2808.76</td>\n",
              "      <td>2692.80</td>\n",
              "      <td>2726.45</td>\n",
              "      <td>80,37,46,000</td>\n",
              "      <td>46,24,67,00,000</td>\n",
              "    </tr>\n",
              "    <tr>\n",
              "      <th>1</th>\n",
              "      <td>2017-07-30</td>\n",
              "      <td>2724.39</td>\n",
              "      <td>2758.53</td>\n",
              "      <td>2644.85</td>\n",
              "      <td>2757.18</td>\n",
              "      <td>70,59,43,000</td>\n",
              "      <td>44,89,07,00,000</td>\n",
              "    </tr>\n",
              "    <tr>\n",
              "      <th>0</th>\n",
              "      <td>2017-07-31</td>\n",
              "      <td>2763.24</td>\n",
              "      <td>2889.62</td>\n",
              "      <td>2720.61</td>\n",
              "      <td>2875.34</td>\n",
              "      <td>86,05,75,000</td>\n",
              "      <td>45,53,58,00,000</td>\n",
              "    </tr>\n",
              "  </tbody>\n",
              "</table>\n",
              "<p>1557 rows × 7 columns</p>\n",
              "</div>"
            ],
            "text/plain": [
              "           Date     Open     High  ...    Close          Volume       Market Cap\n",
              "1556        NaT      NaN      NaN  ...      NaN             NaN              NaN\n",
              "1555 2013-04-28   135.30   135.98  ...   134.21     2,26,72,000   1,50,05,20,000\n",
              "1554 2013-04-29   134.44   147.49  ...   144.54     2,28,77,200   1,49,11,60,000\n",
              "1553 2013-04-30   144.00   146.93  ...   139.00     2,62,72,600   1,59,77,80,000\n",
              "1552 2013-05-01   139.00   139.89  ...   116.99     2,31,46,600   1,54,28,20,000\n",
              "...         ...      ...      ...  ...      ...             ...              ...\n",
              "4    2017-07-27  2538.71  2693.32  ...  2671.78    78,91,04,000  41,81,65,00,000\n",
              "3    2017-07-28  2679.73  2897.45  ...  2809.01  1,38,01,00,000  44,14,44,00,000\n",
              "2    2017-07-29  2807.02  2808.76  ...  2726.45    80,37,46,000  46,24,67,00,000\n",
              "1    2017-07-30  2724.39  2758.53  ...  2757.18    70,59,43,000  44,89,07,00,000\n",
              "0    2017-07-31  2763.24  2889.62  ...  2875.34    86,05,75,000  45,53,58,00,000\n",
              "\n",
              "[1557 rows x 7 columns]"
            ]
          },
          "metadata": {
            "tags": []
          },
          "execution_count": 266
        }
      ]
    },
    {
      "cell_type": "code",
      "metadata": {
        "id": "pEqJbL4YxBF7"
      },
      "source": [
        "train1['Close']=train1['Close'].fillna(0)"
      ],
      "execution_count": null,
      "outputs": []
    },
    {
      "cell_type": "code",
      "metadata": {
        "colab": {
          "base_uri": "https://localhost:8080/",
          "height": 419
        },
        "id": "2n8DJLzHxNMK",
        "outputId": "c4c489af-f161-40cd-d168-0cd5ad58c76b"
      },
      "source": [
        "train1"
      ],
      "execution_count": null,
      "outputs": [
        {
          "output_type": "execute_result",
          "data": {
            "text/html": [
              "<div>\n",
              "<style scoped>\n",
              "    .dataframe tbody tr th:only-of-type {\n",
              "        vertical-align: middle;\n",
              "    }\n",
              "\n",
              "    .dataframe tbody tr th {\n",
              "        vertical-align: top;\n",
              "    }\n",
              "\n",
              "    .dataframe thead th {\n",
              "        text-align: right;\n",
              "    }\n",
              "</style>\n",
              "<table border=\"1\" class=\"dataframe\">\n",
              "  <thead>\n",
              "    <tr style=\"text-align: right;\">\n",
              "      <th></th>\n",
              "      <th>Date</th>\n",
              "      <th>Open</th>\n",
              "      <th>High</th>\n",
              "      <th>Low</th>\n",
              "      <th>Close</th>\n",
              "      <th>Volume</th>\n",
              "      <th>Market Cap</th>\n",
              "    </tr>\n",
              "  </thead>\n",
              "  <tbody>\n",
              "    <tr>\n",
              "      <th>1556</th>\n",
              "      <td>NaT</td>\n",
              "      <td>NaN</td>\n",
              "      <td>NaN</td>\n",
              "      <td>NaN</td>\n",
              "      <td>0.00</td>\n",
              "      <td>NaN</td>\n",
              "      <td>NaN</td>\n",
              "    </tr>\n",
              "    <tr>\n",
              "      <th>1555</th>\n",
              "      <td>2013-04-28</td>\n",
              "      <td>135.30</td>\n",
              "      <td>135.98</td>\n",
              "      <td>132.10</td>\n",
              "      <td>134.21</td>\n",
              "      <td>2,26,72,000</td>\n",
              "      <td>1,50,05,20,000</td>\n",
              "    </tr>\n",
              "    <tr>\n",
              "      <th>1554</th>\n",
              "      <td>2013-04-29</td>\n",
              "      <td>134.44</td>\n",
              "      <td>147.49</td>\n",
              "      <td>134.00</td>\n",
              "      <td>144.54</td>\n",
              "      <td>2,28,77,200</td>\n",
              "      <td>1,49,11,60,000</td>\n",
              "    </tr>\n",
              "    <tr>\n",
              "      <th>1553</th>\n",
              "      <td>2013-04-30</td>\n",
              "      <td>144.00</td>\n",
              "      <td>146.93</td>\n",
              "      <td>134.05</td>\n",
              "      <td>139.00</td>\n",
              "      <td>2,62,72,600</td>\n",
              "      <td>1,59,77,80,000</td>\n",
              "    </tr>\n",
              "    <tr>\n",
              "      <th>1552</th>\n",
              "      <td>2013-05-01</td>\n",
              "      <td>139.00</td>\n",
              "      <td>139.89</td>\n",
              "      <td>107.72</td>\n",
              "      <td>116.99</td>\n",
              "      <td>2,31,46,600</td>\n",
              "      <td>1,54,28,20,000</td>\n",
              "    </tr>\n",
              "    <tr>\n",
              "      <th>...</th>\n",
              "      <td>...</td>\n",
              "      <td>...</td>\n",
              "      <td>...</td>\n",
              "      <td>...</td>\n",
              "      <td>...</td>\n",
              "      <td>...</td>\n",
              "      <td>...</td>\n",
              "    </tr>\n",
              "    <tr>\n",
              "      <th>4</th>\n",
              "      <td>2017-07-27</td>\n",
              "      <td>2538.71</td>\n",
              "      <td>2693.32</td>\n",
              "      <td>2529.34</td>\n",
              "      <td>2671.78</td>\n",
              "      <td>78,91,04,000</td>\n",
              "      <td>41,81,65,00,000</td>\n",
              "    </tr>\n",
              "    <tr>\n",
              "      <th>3</th>\n",
              "      <td>2017-07-28</td>\n",
              "      <td>2679.73</td>\n",
              "      <td>2897.45</td>\n",
              "      <td>2679.73</td>\n",
              "      <td>2809.01</td>\n",
              "      <td>1,38,01,00,000</td>\n",
              "      <td>44,14,44,00,000</td>\n",
              "    </tr>\n",
              "    <tr>\n",
              "      <th>2</th>\n",
              "      <td>2017-07-29</td>\n",
              "      <td>2807.02</td>\n",
              "      <td>2808.76</td>\n",
              "      <td>2692.80</td>\n",
              "      <td>2726.45</td>\n",
              "      <td>80,37,46,000</td>\n",
              "      <td>46,24,67,00,000</td>\n",
              "    </tr>\n",
              "    <tr>\n",
              "      <th>1</th>\n",
              "      <td>2017-07-30</td>\n",
              "      <td>2724.39</td>\n",
              "      <td>2758.53</td>\n",
              "      <td>2644.85</td>\n",
              "      <td>2757.18</td>\n",
              "      <td>70,59,43,000</td>\n",
              "      <td>44,89,07,00,000</td>\n",
              "    </tr>\n",
              "    <tr>\n",
              "      <th>0</th>\n",
              "      <td>2017-07-31</td>\n",
              "      <td>2763.24</td>\n",
              "      <td>2889.62</td>\n",
              "      <td>2720.61</td>\n",
              "      <td>2875.34</td>\n",
              "      <td>86,05,75,000</td>\n",
              "      <td>45,53,58,00,000</td>\n",
              "    </tr>\n",
              "  </tbody>\n",
              "</table>\n",
              "<p>1557 rows × 7 columns</p>\n",
              "</div>"
            ],
            "text/plain": [
              "           Date     Open     High  ...    Close          Volume       Market Cap\n",
              "1556        NaT      NaN      NaN  ...     0.00             NaN              NaN\n",
              "1555 2013-04-28   135.30   135.98  ...   134.21     2,26,72,000   1,50,05,20,000\n",
              "1554 2013-04-29   134.44   147.49  ...   144.54     2,28,77,200   1,49,11,60,000\n",
              "1553 2013-04-30   144.00   146.93  ...   139.00     2,62,72,600   1,59,77,80,000\n",
              "1552 2013-05-01   139.00   139.89  ...   116.99     2,31,46,600   1,54,28,20,000\n",
              "...         ...      ...      ...  ...      ...             ...              ...\n",
              "4    2017-07-27  2538.71  2693.32  ...  2671.78    78,91,04,000  41,81,65,00,000\n",
              "3    2017-07-28  2679.73  2897.45  ...  2809.01  1,38,01,00,000  44,14,44,00,000\n",
              "2    2017-07-29  2807.02  2808.76  ...  2726.45    80,37,46,000  46,24,67,00,000\n",
              "1    2017-07-30  2724.39  2758.53  ...  2757.18    70,59,43,000  44,89,07,00,000\n",
              "0    2017-07-31  2763.24  2889.62  ...  2875.34    86,05,75,000  45,53,58,00,000\n",
              "\n",
              "[1557 rows x 7 columns]"
            ]
          },
          "metadata": {
            "tags": []
          },
          "execution_count": 268
        }
      ]
    },
    {
      "cell_type": "code",
      "metadata": {
        "colab": {
          "base_uri": "https://localhost:8080/"
        },
        "id": "U-KPD0nbxmOg",
        "outputId": "66106d5a-be2a-49b6-cbf6-8c48faf7a29e"
      },
      "source": [
        "train1.isnull().sum()"
      ],
      "execution_count": null,
      "outputs": [
        {
          "output_type": "execute_result",
          "data": {
            "text/plain": [
              "Date          1\n",
              "Open          1\n",
              "High          1\n",
              "Low           1\n",
              "Close         0\n",
              "Volume        1\n",
              "Market Cap    1\n",
              "dtype: int64"
            ]
          },
          "metadata": {
            "tags": []
          },
          "execution_count": 269
        }
      ]
    },
    {
      "cell_type": "code",
      "metadata": {
        "colab": {
          "base_uri": "https://localhost:8080/",
          "height": 419
        },
        "id": "IOim98dZ9135",
        "outputId": "d2e7df0c-1e8f-480c-ae02-6c48d10fccde"
      },
      "source": [
        "train1"
      ],
      "execution_count": null,
      "outputs": [
        {
          "output_type": "execute_result",
          "data": {
            "text/html": [
              "<div>\n",
              "<style scoped>\n",
              "    .dataframe tbody tr th:only-of-type {\n",
              "        vertical-align: middle;\n",
              "    }\n",
              "\n",
              "    .dataframe tbody tr th {\n",
              "        vertical-align: top;\n",
              "    }\n",
              "\n",
              "    .dataframe thead th {\n",
              "        text-align: right;\n",
              "    }\n",
              "</style>\n",
              "<table border=\"1\" class=\"dataframe\">\n",
              "  <thead>\n",
              "    <tr style=\"text-align: right;\">\n",
              "      <th></th>\n",
              "      <th>Date</th>\n",
              "      <th>Close</th>\n",
              "    </tr>\n",
              "  </thead>\n",
              "  <tbody>\n",
              "    <tr>\n",
              "      <th>1556</th>\n",
              "      <td>NaT</td>\n",
              "      <td>0.00</td>\n",
              "    </tr>\n",
              "    <tr>\n",
              "      <th>1555</th>\n",
              "      <td>2013-04-28</td>\n",
              "      <td>134.21</td>\n",
              "    </tr>\n",
              "    <tr>\n",
              "      <th>1554</th>\n",
              "      <td>2013-04-29</td>\n",
              "      <td>144.54</td>\n",
              "    </tr>\n",
              "    <tr>\n",
              "      <th>1553</th>\n",
              "      <td>2013-04-30</td>\n",
              "      <td>139.00</td>\n",
              "    </tr>\n",
              "    <tr>\n",
              "      <th>1552</th>\n",
              "      <td>2013-05-01</td>\n",
              "      <td>116.99</td>\n",
              "    </tr>\n",
              "    <tr>\n",
              "      <th>...</th>\n",
              "      <td>...</td>\n",
              "      <td>...</td>\n",
              "    </tr>\n",
              "    <tr>\n",
              "      <th>4</th>\n",
              "      <td>2017-07-27</td>\n",
              "      <td>2671.78</td>\n",
              "    </tr>\n",
              "    <tr>\n",
              "      <th>3</th>\n",
              "      <td>2017-07-28</td>\n",
              "      <td>2809.01</td>\n",
              "    </tr>\n",
              "    <tr>\n",
              "      <th>2</th>\n",
              "      <td>2017-07-29</td>\n",
              "      <td>2726.45</td>\n",
              "    </tr>\n",
              "    <tr>\n",
              "      <th>1</th>\n",
              "      <td>2017-07-30</td>\n",
              "      <td>2757.18</td>\n",
              "    </tr>\n",
              "    <tr>\n",
              "      <th>0</th>\n",
              "      <td>2017-07-31</td>\n",
              "      <td>2875.34</td>\n",
              "    </tr>\n",
              "  </tbody>\n",
              "</table>\n",
              "<p>1557 rows × 2 columns</p>\n",
              "</div>"
            ],
            "text/plain": [
              "           Date    Close\n",
              "1556        NaT     0.00\n",
              "1555 2013-04-28   134.21\n",
              "1554 2013-04-29   144.54\n",
              "1553 2013-04-30   139.00\n",
              "1552 2013-05-01   116.99\n",
              "...         ...      ...\n",
              "4    2017-07-27  2671.78\n",
              "3    2017-07-28  2809.01\n",
              "2    2017-07-29  2726.45\n",
              "1    2017-07-30  2757.18\n",
              "0    2017-07-31  2875.34\n",
              "\n",
              "[1557 rows x 2 columns]"
            ]
          },
          "metadata": {
            "tags": []
          },
          "execution_count": 272
        }
      ]
    },
    {
      "cell_type": "code",
      "metadata": {
        "id": "FupDdZhR8Yi0"
      },
      "source": [
        "train1=train1.set_index('Date')"
      ],
      "execution_count": null,
      "outputs": []
    },
    {
      "cell_type": "code",
      "metadata": {
        "colab": {
          "base_uri": "https://localhost:8080/",
          "height": 450
        },
        "id": "Pc0aJQ3H8vTt",
        "outputId": "367c4d6f-3adf-4825-a257-05bc404fe01e"
      },
      "source": [
        "train1"
      ],
      "execution_count": null,
      "outputs": [
        {
          "output_type": "execute_result",
          "data": {
            "text/html": [
              "<div>\n",
              "<style scoped>\n",
              "    .dataframe tbody tr th:only-of-type {\n",
              "        vertical-align: middle;\n",
              "    }\n",
              "\n",
              "    .dataframe tbody tr th {\n",
              "        vertical-align: top;\n",
              "    }\n",
              "\n",
              "    .dataframe thead th {\n",
              "        text-align: right;\n",
              "    }\n",
              "</style>\n",
              "<table border=\"1\" class=\"dataframe\">\n",
              "  <thead>\n",
              "    <tr style=\"text-align: right;\">\n",
              "      <th></th>\n",
              "      <th>Close</th>\n",
              "    </tr>\n",
              "    <tr>\n",
              "      <th>Date</th>\n",
              "      <th></th>\n",
              "    </tr>\n",
              "  </thead>\n",
              "  <tbody>\n",
              "    <tr>\n",
              "      <th>NaT</th>\n",
              "      <td>0.00</td>\n",
              "    </tr>\n",
              "    <tr>\n",
              "      <th>2013-04-28</th>\n",
              "      <td>134.21</td>\n",
              "    </tr>\n",
              "    <tr>\n",
              "      <th>2013-04-29</th>\n",
              "      <td>144.54</td>\n",
              "    </tr>\n",
              "    <tr>\n",
              "      <th>2013-04-30</th>\n",
              "      <td>139.00</td>\n",
              "    </tr>\n",
              "    <tr>\n",
              "      <th>2013-05-01</th>\n",
              "      <td>116.99</td>\n",
              "    </tr>\n",
              "    <tr>\n",
              "      <th>...</th>\n",
              "      <td>...</td>\n",
              "    </tr>\n",
              "    <tr>\n",
              "      <th>2017-07-27</th>\n",
              "      <td>2671.78</td>\n",
              "    </tr>\n",
              "    <tr>\n",
              "      <th>2017-07-28</th>\n",
              "      <td>2809.01</td>\n",
              "    </tr>\n",
              "    <tr>\n",
              "      <th>2017-07-29</th>\n",
              "      <td>2726.45</td>\n",
              "    </tr>\n",
              "    <tr>\n",
              "      <th>2017-07-30</th>\n",
              "      <td>2757.18</td>\n",
              "    </tr>\n",
              "    <tr>\n",
              "      <th>2017-07-31</th>\n",
              "      <td>2875.34</td>\n",
              "    </tr>\n",
              "  </tbody>\n",
              "</table>\n",
              "<p>1557 rows × 1 columns</p>\n",
              "</div>"
            ],
            "text/plain": [
              "              Close\n",
              "Date               \n",
              "NaT            0.00\n",
              "2013-04-28   134.21\n",
              "2013-04-29   144.54\n",
              "2013-04-30   139.00\n",
              "2013-05-01   116.99\n",
              "...             ...\n",
              "2017-07-27  2671.78\n",
              "2017-07-28  2809.01\n",
              "2017-07-29  2726.45\n",
              "2017-07-30  2757.18\n",
              "2017-07-31  2875.34\n",
              "\n",
              "[1557 rows x 1 columns]"
            ]
          },
          "metadata": {
            "tags": []
          },
          "execution_count": 275
        }
      ]
    },
    {
      "cell_type": "code",
      "metadata": {
        "colab": {
          "base_uri": "https://localhost:8080/",
          "height": 163
        },
        "id": "drWO03o29CF8",
        "outputId": "497e05d8-5151-40d2-a702-3faa0b3835dd"
      },
      "source": [
        "train1.drop(train1.index('1556'))"
      ],
      "execution_count": null,
      "outputs": [
        {
          "output_type": "error",
          "ename": "TypeError",
          "evalue": "ignored",
          "traceback": [
            "\u001b[0;31m---------------------------------------------------------------------------\u001b[0m",
            "\u001b[0;31mTypeError\u001b[0m                                 Traceback (most recent call last)",
            "\u001b[0;32m<ipython-input-273-d6d2f789d0e1>\u001b[0m in \u001b[0;36m<module>\u001b[0;34m()\u001b[0m\n\u001b[0;32m----> 1\u001b[0;31m \u001b[0mtrain1\u001b[0m\u001b[0;34m.\u001b[0m\u001b[0mdrop\u001b[0m\u001b[0;34m(\u001b[0m\u001b[0mtrain1\u001b[0m\u001b[0;34m.\u001b[0m\u001b[0mindex\u001b[0m\u001b[0;34m(\u001b[0m\u001b[0;34m'1556'\u001b[0m\u001b[0;34m)\u001b[0m\u001b[0;34m)\u001b[0m\u001b[0;34m\u001b[0m\u001b[0;34m\u001b[0m\u001b[0m\n\u001b[0m",
            "\u001b[0;31mTypeError\u001b[0m: 'RangeIndex' object is not callable"
          ]
        }
      ]
    },
    {
      "cell_type": "code",
      "metadata": {
        "id": "7-H8_5FWxwAH"
      },
      "source": [
        "x_train=[]\n",
        "y_train=[]\n",
        "for i in range(60,1556):\n",
        "  x_train.append(train1[i-60:i,0])\n",
        "  y_train.append(train1[i,0])\n",
        "x_train,y_train=np.array(x_train),np.array(y_train)\n",
        "x_train=np.reshape(x_train,(x_train.shape[0],x_train.shape[1],1))"
      ],
      "execution_count": null,
      "outputs": []
    },
    {
      "cell_type": "code",
      "metadata": {
        "id": "h1aYGrUfx0YJ"
      },
      "source": [
        "x_train.shape"
      ],
      "execution_count": null,
      "outputs": []
    },
    {
      "cell_type": "code",
      "metadata": {
        "id": "HtUoJpe8x4OO"
      },
      "source": [
        "import keras\n",
        "from keras.models import Sequential\n",
        "from keras.layers import Dense,LSTM,Dropout"
      ],
      "execution_count": null,
      "outputs": []
    },
    {
      "cell_type": "code",
      "metadata": {
        "id": "vlIs6GOHx6YP"
      },
      "source": [
        "model=Sequential()"
      ],
      "execution_count": null,
      "outputs": []
    },
    {
      "cell_type": "code",
      "metadata": {
        "id": "hteACHCOx8hd"
      },
      "source": [
        "model.add(LSTM(units=25,return_sequences=True,input_shape=(x_train.shape[1],1)))\n",
        "model.add(Dropout(0.1))\n",
        "model.add(LSTM(units=15,return_sequences=False))\n",
        "model.add(Dropout(0.1))\n",
        "model.add(Dense(units=5))"
      ],
      "execution_count": null,
      "outputs": []
    },
    {
      "cell_type": "code",
      "metadata": {
        "id": "Y7YYc7Dyx-mj"
      },
      "source": [
        "model.compile(optimizer='adam',loss='mean_squared_error')\n",
        "history=model.fit(x_train,y_train,epochs=10,batch_size=21)"
      ],
      "execution_count": null,
      "outputs": []
    },
    {
      "cell_type": "code",
      "metadata": {
        "id": "XeT-ewkY4By5"
      },
      "source": [
        "plt.plot(history.history['loss'], label='train')\n",
        "plt.plot(history.history['val_loss'], label='test')\n",
        "plt.legend()\n",
        "plt.show()"
      ],
      "execution_count": null,
      "outputs": []
    },
    {
      "cell_type": "code",
      "metadata": {
        "id": "8g7HKSEn8JWg"
      },
      "source": [
        "total=pd.concat((train['Close'],test['Close']),axis=0)\n",
        "inputs=total[len(total)-len(test)-60:].values\n",
        "inputs=inputs.reshape(-1,1)\n",
        "inputs=ms.transform(inputs)"
      ],
      "execution_count": null,
      "outputs": []
    },
    {
      "cell_type": "code",
      "metadata": {
        "id": "LZHaMawZ80II"
      },
      "source": [
        "inputs.shape"
      ],
      "execution_count": null,
      "outputs": []
    },
    {
      "cell_type": "code",
      "metadata": {
        "id": "pN6BCScS83Eg"
      },
      "source": [
        "x_test=[]\n",
        "for i in range(60,67):\n",
        "  x_test.append(inputs[i-60:i,0])\n",
        "x_test=np.array(x_test)\n",
        "x_test=np.reshape(x_test,(x_test.shape[0],x_test.shape[1],1))\n"
      ],
      "execution_count": null,
      "outputs": []
    },
    {
      "cell_type": "code",
      "metadata": {
        "id": "55vy_X6U8-VY"
      },
      "source": [
        "x_test.shape"
      ],
      "execution_count": null,
      "outputs": []
    },
    {
      "cell_type": "code",
      "metadata": {
        "id": "nf4Ns4MJ9At_"
      },
      "source": [
        "pred= model.predict(x_test)\n",
        "pred= ms.inverse_transform(pred)\n",
        "pred=pd.DataFrame(pred)\n",
        "pred"
      ],
      "execution_count": null,
      "outputs": []
    },
    {
      "cell_type": "code",
      "metadata": {
        "id": "6fZLNp1LdEjE"
      },
      "source": [
        "plt.plot(pred,color='red')"
      ],
      "execution_count": null,
      "outputs": []
    },
    {
      "cell_type": "code",
      "metadata": {
        "id": "qq45BjvH9DUZ"
      },
      "source": [
        "aa=plt.plot(test['Close'],color='blue')\n",
        "aa"
      ],
      "execution_count": null,
      "outputs": []
    },
    {
      "cell_type": "code",
      "metadata": {
        "id": "CMTYO9gZx1N7"
      },
      "source": [
        "plt.plot(test['Close'],color='blue')\n",
        "plt.plot(pred,color='red')\n",
        "plt.show()"
      ],
      "execution_count": null,
      "outputs": []
    },
    {
      "cell_type": "code",
      "metadata": {
        "id": "oyZIPVB99L5u"
      },
      "source": [
        "model.summary()"
      ],
      "execution_count": null,
      "outputs": []
    },
    {
      "cell_type": "code",
      "metadata": {
        "id": "ngWhJQGwlJD0"
      },
      "source": [
        ""
      ],
      "execution_count": null,
      "outputs": []
    }
  ]
}