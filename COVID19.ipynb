{
  "nbformat": 4,
  "nbformat_minor": 0,
  "metadata": {
    "colab": {
      "name": "COVID19.ipynb",
      "provenance": [],
      "collapsed_sections": [],
      "toc_visible": true,
      "include_colab_link": true
    },
    "kernelspec": {
      "display_name": "Python 3",
      "name": "python3"
    },
    "language_info": {
      "name": "python"
    }
  },
  "cells": [
    {
      "cell_type": "markdown",
      "metadata": {
        "id": "view-in-github",
        "colab_type": "text"
      },
      "source": [
        "<a href=\"https://colab.research.google.com/github/VegetaSan1/Machine-Learning-Projects/blob/main/COVID19.ipynb\" target=\"_parent\"><img src=\"https://colab.research.google.com/assets/colab-badge.svg\" alt=\"Open In Colab\"/></a>"
      ]
    },
    {
      "cell_type": "code",
      "metadata": {
        "id": "IpTan2jXT1aw"
      },
      "source": [
        "import numpy as np \n",
        "import pandas as pd\n",
        "import matplotlib.pyplot as plt\n",
        "import seaborn as sns"
      ],
      "execution_count": null,
      "outputs": []
    },
    {
      "cell_type": "code",
      "metadata": {
        "id": "KBcv6ojnYwnp"
      },
      "source": [
        "ds1=pd.read_csv('covid_19_india.csv')"
      ],
      "execution_count": null,
      "outputs": []
    },
    {
      "cell_type": "code",
      "metadata": {
        "colab": {
          "base_uri": "https://localhost:8080/",
          "height": 419
        },
        "id": "-RiKv5l8Z-dv",
        "outputId": "cf3b8da1-1243-43c0-ce0a-52959cf6e323"
      },
      "source": [
        "ds1"
      ],
      "execution_count": null,
      "outputs": [
        {
          "output_type": "execute_result",
          "data": {
            "text/html": [
              "<div>\n",
              "<style scoped>\n",
              "    .dataframe tbody tr th:only-of-type {\n",
              "        vertical-align: middle;\n",
              "    }\n",
              "\n",
              "    .dataframe tbody tr th {\n",
              "        vertical-align: top;\n",
              "    }\n",
              "\n",
              "    .dataframe thead th {\n",
              "        text-align: right;\n",
              "    }\n",
              "</style>\n",
              "<table border=\"1\" class=\"dataframe\">\n",
              "  <thead>\n",
              "    <tr style=\"text-align: right;\">\n",
              "      <th></th>\n",
              "      <th>Sno</th>\n",
              "      <th>Date</th>\n",
              "      <th>Time</th>\n",
              "      <th>States</th>\n",
              "      <th>ConfirmedIndianNational</th>\n",
              "      <th>ConfirmedForeignNational</th>\n",
              "      <th>Cured</th>\n",
              "      <th>Deaths</th>\n",
              "      <th>Confirmed</th>\n",
              "    </tr>\n",
              "  </thead>\n",
              "  <tbody>\n",
              "    <tr>\n",
              "      <th>0</th>\n",
              "      <td>1</td>\n",
              "      <td>30-01-2020</td>\n",
              "      <td>6:00 PM</td>\n",
              "      <td>Kerala</td>\n",
              "      <td>1</td>\n",
              "      <td>0</td>\n",
              "      <td>0</td>\n",
              "      <td>0</td>\n",
              "      <td>1</td>\n",
              "    </tr>\n",
              "    <tr>\n",
              "      <th>1</th>\n",
              "      <td>2</td>\n",
              "      <td>31-01-2020</td>\n",
              "      <td>6:00 PM</td>\n",
              "      <td>Kerala</td>\n",
              "      <td>1</td>\n",
              "      <td>0</td>\n",
              "      <td>0</td>\n",
              "      <td>0</td>\n",
              "      <td>1</td>\n",
              "    </tr>\n",
              "    <tr>\n",
              "      <th>2</th>\n",
              "      <td>3</td>\n",
              "      <td>01-02-2020</td>\n",
              "      <td>6:00 PM</td>\n",
              "      <td>Kerala</td>\n",
              "      <td>2</td>\n",
              "      <td>0</td>\n",
              "      <td>0</td>\n",
              "      <td>0</td>\n",
              "      <td>2</td>\n",
              "    </tr>\n",
              "    <tr>\n",
              "      <th>3</th>\n",
              "      <td>4</td>\n",
              "      <td>02-02-2020</td>\n",
              "      <td>6:00 PM</td>\n",
              "      <td>Kerala</td>\n",
              "      <td>3</td>\n",
              "      <td>0</td>\n",
              "      <td>0</td>\n",
              "      <td>0</td>\n",
              "      <td>3</td>\n",
              "    </tr>\n",
              "    <tr>\n",
              "      <th>4</th>\n",
              "      <td>5</td>\n",
              "      <td>03-02-2020</td>\n",
              "      <td>6:00 PM</td>\n",
              "      <td>Kerala</td>\n",
              "      <td>3</td>\n",
              "      <td>0</td>\n",
              "      <td>0</td>\n",
              "      <td>0</td>\n",
              "      <td>3</td>\n",
              "    </tr>\n",
              "    <tr>\n",
              "      <th>...</th>\n",
              "      <td>...</td>\n",
              "      <td>...</td>\n",
              "      <td>...</td>\n",
              "      <td>...</td>\n",
              "      <td>...</td>\n",
              "      <td>...</td>\n",
              "      <td>...</td>\n",
              "      <td>...</td>\n",
              "      <td>...</td>\n",
              "    </tr>\n",
              "    <tr>\n",
              "      <th>8285</th>\n",
              "      <td>8286</td>\n",
              "      <td>11-11-2020</td>\n",
              "      <td>8:00 AM</td>\n",
              "      <td>Goa</td>\n",
              "      <td>-</td>\n",
              "      <td>-</td>\n",
              "      <td>42877</td>\n",
              "      <td>651</td>\n",
              "      <td>45389</td>\n",
              "    </tr>\n",
              "    <tr>\n",
              "      <th>8286</th>\n",
              "      <td>8287</td>\n",
              "      <td>11-11-2020</td>\n",
              "      <td>8:00 AM</td>\n",
              "      <td>Gujarat</td>\n",
              "      <td>-</td>\n",
              "      <td>-</td>\n",
              "      <td>166331</td>\n",
              "      <td>3770</td>\n",
              "      <td>182557</td>\n",
              "    </tr>\n",
              "    <tr>\n",
              "      <th>8287</th>\n",
              "      <td>8288</td>\n",
              "      <td>11-11-2020</td>\n",
              "      <td>8:00 AM</td>\n",
              "      <td>Haryana</td>\n",
              "      <td>-</td>\n",
              "      <td>-</td>\n",
              "      <td>168421</td>\n",
              "      <td>1935</td>\n",
              "      <td>187777</td>\n",
              "    </tr>\n",
              "    <tr>\n",
              "      <th>8288</th>\n",
              "      <td>8289</td>\n",
              "      <td>11-11-2020</td>\n",
              "      <td>8:00 AM</td>\n",
              "      <td>Himachal Pradesh</td>\n",
              "      <td>-</td>\n",
              "      <td>-</td>\n",
              "      <td>21047</td>\n",
              "      <td>396</td>\n",
              "      <td>26808</td>\n",
              "    </tr>\n",
              "    <tr>\n",
              "      <th>8289</th>\n",
              "      <td>8290</td>\n",
              "      <td>11-11-2020</td>\n",
              "      <td>8:00 AM</td>\n",
              "      <td>Jammu and Kashmir</td>\n",
              "      <td>-</td>\n",
              "      <td>-</td>\n",
              "      <td>92880</td>\n",
              "      <td>1549</td>\n",
              "      <td>99844</td>\n",
              "    </tr>\n",
              "  </tbody>\n",
              "</table>\n",
              "<p>8290 rows × 9 columns</p>\n",
              "</div>"
            ],
            "text/plain": [
              "       Sno        Date     Time  ...   Cured Deaths Confirmed\n",
              "0        1  30-01-2020  6:00 PM  ...       0      0         1\n",
              "1        2  31-01-2020  6:00 PM  ...       0      0         1\n",
              "2        3  01-02-2020  6:00 PM  ...       0      0         2\n",
              "3        4  02-02-2020  6:00 PM  ...       0      0         3\n",
              "4        5  03-02-2020  6:00 PM  ...       0      0         3\n",
              "...    ...         ...      ...  ...     ...    ...       ...\n",
              "8285  8286  11-11-2020  8:00 AM  ...   42877    651     45389\n",
              "8286  8287  11-11-2020  8:00 AM  ...  166331   3770    182557\n",
              "8287  8288  11-11-2020  8:00 AM  ...  168421   1935    187777\n",
              "8288  8289  11-11-2020  8:00 AM  ...   21047    396     26808\n",
              "8289  8290  11-11-2020  8:00 AM  ...   92880   1549     99844\n",
              "\n",
              "[8290 rows x 9 columns]"
            ]
          },
          "metadata": {
            "tags": []
          },
          "execution_count": 885
        }
      ]
    },
    {
      "cell_type": "code",
      "metadata": {
        "colab": {
          "base_uri": "https://localhost:8080/",
          "height": 419
        },
        "id": "56XVRAgdZ-5q",
        "outputId": "93ce3672-ab2e-406d-8321-e2ba3b31041a"
      },
      "source": [
        "ds2"
      ],
      "execution_count": null,
      "outputs": [
        {
          "output_type": "execute_result",
          "data": {
            "text/html": [
              "<div>\n",
              "<style scoped>\n",
              "    .dataframe tbody tr th:only-of-type {\n",
              "        vertical-align: middle;\n",
              "    }\n",
              "\n",
              "    .dataframe tbody tr th {\n",
              "        vertical-align: top;\n",
              "    }\n",
              "\n",
              "    .dataframe thead th {\n",
              "        text-align: right;\n",
              "    }\n",
              "</style>\n",
              "<table border=\"1\" class=\"dataframe\">\n",
              "  <thead>\n",
              "    <tr style=\"text-align: right;\">\n",
              "      <th></th>\n",
              "      <th>Date</th>\n",
              "      <th>State</th>\n",
              "      <th>TotalSamples</th>\n",
              "      <th>Negative</th>\n",
              "      <th>Positive</th>\n",
              "      <th>confirmed</th>\n",
              "    </tr>\n",
              "  </thead>\n",
              "  <tbody>\n",
              "    <tr>\n",
              "      <th>0</th>\n",
              "      <td>17-04-2020</td>\n",
              "      <td>Andaman and Nicobar Islands</td>\n",
              "      <td>1403</td>\n",
              "      <td>1210.0</td>\n",
              "      <td>12.0</td>\n",
              "      <td>1222.0</td>\n",
              "    </tr>\n",
              "    <tr>\n",
              "      <th>1</th>\n",
              "      <td>24-04-2020</td>\n",
              "      <td>Andaman and Nicobar Islands</td>\n",
              "      <td>2679</td>\n",
              "      <td>1210.0</td>\n",
              "      <td>27.0</td>\n",
              "      <td>1237.0</td>\n",
              "    </tr>\n",
              "    <tr>\n",
              "      <th>2</th>\n",
              "      <td>27-04-2020</td>\n",
              "      <td>Andaman and Nicobar Islands</td>\n",
              "      <td>2848</td>\n",
              "      <td>1210.0</td>\n",
              "      <td>33.0</td>\n",
              "      <td>1243.0</td>\n",
              "    </tr>\n",
              "    <tr>\n",
              "      <th>3</th>\n",
              "      <td>01-05-2020</td>\n",
              "      <td>Andaman and Nicobar Islands</td>\n",
              "      <td>3754</td>\n",
              "      <td>1210.0</td>\n",
              "      <td>33.0</td>\n",
              "      <td>1243.0</td>\n",
              "    </tr>\n",
              "    <tr>\n",
              "      <th>4</th>\n",
              "      <td>16-05-2020</td>\n",
              "      <td>Andaman and Nicobar Islands</td>\n",
              "      <td>6677</td>\n",
              "      <td>1210.0</td>\n",
              "      <td>33.0</td>\n",
              "      <td>1243.0</td>\n",
              "    </tr>\n",
              "    <tr>\n",
              "      <th>...</th>\n",
              "      <td>...</td>\n",
              "      <td>...</td>\n",
              "      <td>...</td>\n",
              "      <td>...</td>\n",
              "      <td>...</td>\n",
              "      <td>...</td>\n",
              "    </tr>\n",
              "    <tr>\n",
              "      <th>8061</th>\n",
              "      <td>04-12-2020</td>\n",
              "      <td>West Bengal</td>\n",
              "      <td>6047279</td>\n",
              "      <td>568.0</td>\n",
              "      <td>135596.0</td>\n",
              "      <td>136164.0</td>\n",
              "    </tr>\n",
              "    <tr>\n",
              "      <th>8062</th>\n",
              "      <td>05-12-2020</td>\n",
              "      <td>West Bengal</td>\n",
              "      <td>6091668</td>\n",
              "      <td>568.0</td>\n",
              "      <td>135596.0</td>\n",
              "      <td>136164.0</td>\n",
              "    </tr>\n",
              "    <tr>\n",
              "      <th>8063</th>\n",
              "      <td>06-12-2020</td>\n",
              "      <td>West Bengal</td>\n",
              "      <td>6135854</td>\n",
              "      <td>568.0</td>\n",
              "      <td>135596.0</td>\n",
              "      <td>136164.0</td>\n",
              "    </tr>\n",
              "    <tr>\n",
              "      <th>8064</th>\n",
              "      <td>07-12-2020</td>\n",
              "      <td>West Bengal</td>\n",
              "      <td>6167307</td>\n",
              "      <td>568.0</td>\n",
              "      <td>135596.0</td>\n",
              "      <td>136164.0</td>\n",
              "    </tr>\n",
              "    <tr>\n",
              "      <th>8065</th>\n",
              "      <td>08-12-2020</td>\n",
              "      <td>West Bengal</td>\n",
              "      <td>6211537</td>\n",
              "      <td>568.0</td>\n",
              "      <td>135596.0</td>\n",
              "      <td>136164.0</td>\n",
              "    </tr>\n",
              "  </tbody>\n",
              "</table>\n",
              "<p>8066 rows × 6 columns</p>\n",
              "</div>"
            ],
            "text/plain": [
              "            Date                        State  ...  Positive  confirmed\n",
              "0     17-04-2020  Andaman and Nicobar Islands  ...      12.0     1222.0\n",
              "1     24-04-2020  Andaman and Nicobar Islands  ...      27.0     1237.0\n",
              "2     27-04-2020  Andaman and Nicobar Islands  ...      33.0     1243.0\n",
              "3     01-05-2020  Andaman and Nicobar Islands  ...      33.0     1243.0\n",
              "4     16-05-2020  Andaman and Nicobar Islands  ...      33.0     1243.0\n",
              "...          ...                          ...  ...       ...        ...\n",
              "8061  04-12-2020                  West Bengal  ...  135596.0   136164.0\n",
              "8062  05-12-2020                  West Bengal  ...  135596.0   136164.0\n",
              "8063  06-12-2020                  West Bengal  ...  135596.0   136164.0\n",
              "8064  07-12-2020                  West Bengal  ...  135596.0   136164.0\n",
              "8065  08-12-2020                  West Bengal  ...  135596.0   136164.0\n",
              "\n",
              "[8066 rows x 6 columns]"
            ]
          },
          "metadata": {
            "tags": []
          },
          "execution_count": 886
        }
      ]
    },
    {
      "cell_type": "markdown",
      "metadata": {
        "id": "R3a82XwmaZoY"
      },
      "source": [
        "# ***DATA ANALYSIS***"
      ]
    },
    {
      "cell_type": "markdown",
      "metadata": {
        "id": "AwltCfKiaevc"
      },
      "source": [
        "***DS1***"
      ]
    },
    {
      "cell_type": "code",
      "metadata": {
        "colab": {
          "base_uri": "https://localhost:8080/"
        },
        "id": "191SiTdcaAN0",
        "outputId": "9c829a8c-1289-47b7-84aa-8459d2abbdb8"
      },
      "source": [
        "ds1.isnull().sum()"
      ],
      "execution_count": null,
      "outputs": [
        {
          "output_type": "execute_result",
          "data": {
            "text/plain": [
              "Sno                         0\n",
              "Date                        0\n",
              "Time                        0\n",
              "States                      0\n",
              "ConfirmedIndianNational     0\n",
              "ConfirmedForeignNational    0\n",
              "Cured                       0\n",
              "Deaths                      0\n",
              "Confirmed                   0\n",
              "dtype: int64"
            ]
          },
          "metadata": {
            "tags": []
          },
          "execution_count": 887
        }
      ]
    },
    {
      "cell_type": "code",
      "metadata": {
        "colab": {
          "base_uri": "https://localhost:8080/",
          "height": 419
        },
        "id": "Ry1c6-EIaoEh",
        "outputId": "3692a2eb-5749-4f65-a193-c38d8735557b"
      },
      "source": [
        "del ds1['Sno']\n",
        "ds1"
      ],
      "execution_count": null,
      "outputs": [
        {
          "output_type": "execute_result",
          "data": {
            "text/html": [
              "<div>\n",
              "<style scoped>\n",
              "    .dataframe tbody tr th:only-of-type {\n",
              "        vertical-align: middle;\n",
              "    }\n",
              "\n",
              "    .dataframe tbody tr th {\n",
              "        vertical-align: top;\n",
              "    }\n",
              "\n",
              "    .dataframe thead th {\n",
              "        text-align: right;\n",
              "    }\n",
              "</style>\n",
              "<table border=\"1\" class=\"dataframe\">\n",
              "  <thead>\n",
              "    <tr style=\"text-align: right;\">\n",
              "      <th></th>\n",
              "      <th>Date</th>\n",
              "      <th>Time</th>\n",
              "      <th>States</th>\n",
              "      <th>ConfirmedIndianNational</th>\n",
              "      <th>ConfirmedForeignNational</th>\n",
              "      <th>Cured</th>\n",
              "      <th>Deaths</th>\n",
              "      <th>Confirmed</th>\n",
              "    </tr>\n",
              "  </thead>\n",
              "  <tbody>\n",
              "    <tr>\n",
              "      <th>0</th>\n",
              "      <td>30-01-2020</td>\n",
              "      <td>6:00 PM</td>\n",
              "      <td>Kerala</td>\n",
              "      <td>1</td>\n",
              "      <td>0</td>\n",
              "      <td>0</td>\n",
              "      <td>0</td>\n",
              "      <td>1</td>\n",
              "    </tr>\n",
              "    <tr>\n",
              "      <th>1</th>\n",
              "      <td>31-01-2020</td>\n",
              "      <td>6:00 PM</td>\n",
              "      <td>Kerala</td>\n",
              "      <td>1</td>\n",
              "      <td>0</td>\n",
              "      <td>0</td>\n",
              "      <td>0</td>\n",
              "      <td>1</td>\n",
              "    </tr>\n",
              "    <tr>\n",
              "      <th>2</th>\n",
              "      <td>01-02-2020</td>\n",
              "      <td>6:00 PM</td>\n",
              "      <td>Kerala</td>\n",
              "      <td>2</td>\n",
              "      <td>0</td>\n",
              "      <td>0</td>\n",
              "      <td>0</td>\n",
              "      <td>2</td>\n",
              "    </tr>\n",
              "    <tr>\n",
              "      <th>3</th>\n",
              "      <td>02-02-2020</td>\n",
              "      <td>6:00 PM</td>\n",
              "      <td>Kerala</td>\n",
              "      <td>3</td>\n",
              "      <td>0</td>\n",
              "      <td>0</td>\n",
              "      <td>0</td>\n",
              "      <td>3</td>\n",
              "    </tr>\n",
              "    <tr>\n",
              "      <th>4</th>\n",
              "      <td>03-02-2020</td>\n",
              "      <td>6:00 PM</td>\n",
              "      <td>Kerala</td>\n",
              "      <td>3</td>\n",
              "      <td>0</td>\n",
              "      <td>0</td>\n",
              "      <td>0</td>\n",
              "      <td>3</td>\n",
              "    </tr>\n",
              "    <tr>\n",
              "      <th>...</th>\n",
              "      <td>...</td>\n",
              "      <td>...</td>\n",
              "      <td>...</td>\n",
              "      <td>...</td>\n",
              "      <td>...</td>\n",
              "      <td>...</td>\n",
              "      <td>...</td>\n",
              "      <td>...</td>\n",
              "    </tr>\n",
              "    <tr>\n",
              "      <th>8285</th>\n",
              "      <td>11-11-2020</td>\n",
              "      <td>8:00 AM</td>\n",
              "      <td>Goa</td>\n",
              "      <td>-</td>\n",
              "      <td>-</td>\n",
              "      <td>42877</td>\n",
              "      <td>651</td>\n",
              "      <td>45389</td>\n",
              "    </tr>\n",
              "    <tr>\n",
              "      <th>8286</th>\n",
              "      <td>11-11-2020</td>\n",
              "      <td>8:00 AM</td>\n",
              "      <td>Gujarat</td>\n",
              "      <td>-</td>\n",
              "      <td>-</td>\n",
              "      <td>166331</td>\n",
              "      <td>3770</td>\n",
              "      <td>182557</td>\n",
              "    </tr>\n",
              "    <tr>\n",
              "      <th>8287</th>\n",
              "      <td>11-11-2020</td>\n",
              "      <td>8:00 AM</td>\n",
              "      <td>Haryana</td>\n",
              "      <td>-</td>\n",
              "      <td>-</td>\n",
              "      <td>168421</td>\n",
              "      <td>1935</td>\n",
              "      <td>187777</td>\n",
              "    </tr>\n",
              "    <tr>\n",
              "      <th>8288</th>\n",
              "      <td>11-11-2020</td>\n",
              "      <td>8:00 AM</td>\n",
              "      <td>Himachal Pradesh</td>\n",
              "      <td>-</td>\n",
              "      <td>-</td>\n",
              "      <td>21047</td>\n",
              "      <td>396</td>\n",
              "      <td>26808</td>\n",
              "    </tr>\n",
              "    <tr>\n",
              "      <th>8289</th>\n",
              "      <td>11-11-2020</td>\n",
              "      <td>8:00 AM</td>\n",
              "      <td>Jammu and Kashmir</td>\n",
              "      <td>-</td>\n",
              "      <td>-</td>\n",
              "      <td>92880</td>\n",
              "      <td>1549</td>\n",
              "      <td>99844</td>\n",
              "    </tr>\n",
              "  </tbody>\n",
              "</table>\n",
              "<p>8290 rows × 8 columns</p>\n",
              "</div>"
            ],
            "text/plain": [
              "            Date     Time             States  ...   Cured Deaths  Confirmed\n",
              "0     30-01-2020  6:00 PM             Kerala  ...       0      0          1\n",
              "1     31-01-2020  6:00 PM             Kerala  ...       0      0          1\n",
              "2     01-02-2020  6:00 PM             Kerala  ...       0      0          2\n",
              "3     02-02-2020  6:00 PM             Kerala  ...       0      0          3\n",
              "4     03-02-2020  6:00 PM             Kerala  ...       0      0          3\n",
              "...          ...      ...                ...  ...     ...    ...        ...\n",
              "8285  11-11-2020  8:00 AM                Goa  ...   42877    651      45389\n",
              "8286  11-11-2020  8:00 AM            Gujarat  ...  166331   3770     182557\n",
              "8287  11-11-2020  8:00 AM            Haryana  ...  168421   1935     187777\n",
              "8288  11-11-2020  8:00 AM   Himachal Pradesh  ...   21047    396      26808\n",
              "8289  11-11-2020  8:00 AM  Jammu and Kashmir  ...   92880   1549      99844\n",
              "\n",
              "[8290 rows x 8 columns]"
            ]
          },
          "metadata": {
            "tags": []
          },
          "execution_count": 888
        }
      ]
    },
    {
      "cell_type": "code",
      "metadata": {
        "colab": {
          "base_uri": "https://localhost:8080/",
          "height": 297
        },
        "id": "kdO8n9cDaR_l",
        "outputId": "79040012-f791-4489-a25f-6e16bcf7f5ad"
      },
      "source": [
        "ds1.describe()"
      ],
      "execution_count": null,
      "outputs": [
        {
          "output_type": "execute_result",
          "data": {
            "text/html": [
              "<div>\n",
              "<style scoped>\n",
              "    .dataframe tbody tr th:only-of-type {\n",
              "        vertical-align: middle;\n",
              "    }\n",
              "\n",
              "    .dataframe tbody tr th {\n",
              "        vertical-align: top;\n",
              "    }\n",
              "\n",
              "    .dataframe thead th {\n",
              "        text-align: right;\n",
              "    }\n",
              "</style>\n",
              "<table border=\"1\" class=\"dataframe\">\n",
              "  <thead>\n",
              "    <tr style=\"text-align: right;\">\n",
              "      <th></th>\n",
              "      <th>Cured</th>\n",
              "      <th>Deaths</th>\n",
              "      <th>Confirmed</th>\n",
              "    </tr>\n",
              "  </thead>\n",
              "  <tbody>\n",
              "    <tr>\n",
              "      <th>count</th>\n",
              "      <td>8.290000e+03</td>\n",
              "      <td>8290.000000</td>\n",
              "      <td>8.290000e+03</td>\n",
              "    </tr>\n",
              "    <tr>\n",
              "      <th>mean</th>\n",
              "      <td>5.820850e+04</td>\n",
              "      <td>1199.546441</td>\n",
              "      <td>7.101213e+04</td>\n",
              "    </tr>\n",
              "    <tr>\n",
              "      <th>std</th>\n",
              "      <td>1.546008e+05</td>\n",
              "      <td>4028.033405</td>\n",
              "      <td>1.806477e+05</td>\n",
              "    </tr>\n",
              "    <tr>\n",
              "      <th>min</th>\n",
              "      <td>0.000000e+00</td>\n",
              "      <td>0.000000</td>\n",
              "      <td>0.000000e+00</td>\n",
              "    </tr>\n",
              "    <tr>\n",
              "      <th>25%</th>\n",
              "      <td>7.225000e+01</td>\n",
              "      <td>1.000000</td>\n",
              "      <td>3.350000e+02</td>\n",
              "    </tr>\n",
              "    <tr>\n",
              "      <th>50%</th>\n",
              "      <td>2.913000e+03</td>\n",
              "      <td>46.000000</td>\n",
              "      <td>4.443500e+03</td>\n",
              "    </tr>\n",
              "    <tr>\n",
              "      <th>75%</th>\n",
              "      <td>3.484575e+04</td>\n",
              "      <td>656.000000</td>\n",
              "      <td>4.996675e+04</td>\n",
              "    </tr>\n",
              "    <tr>\n",
              "      <th>max</th>\n",
              "      <td>1.581373e+06</td>\n",
              "      <td>45325.000000</td>\n",
              "      <td>1.723135e+06</td>\n",
              "    </tr>\n",
              "  </tbody>\n",
              "</table>\n",
              "</div>"
            ],
            "text/plain": [
              "              Cured        Deaths     Confirmed\n",
              "count  8.290000e+03   8290.000000  8.290000e+03\n",
              "mean   5.820850e+04   1199.546441  7.101213e+04\n",
              "std    1.546008e+05   4028.033405  1.806477e+05\n",
              "min    0.000000e+00      0.000000  0.000000e+00\n",
              "25%    7.225000e+01      1.000000  3.350000e+02\n",
              "50%    2.913000e+03     46.000000  4.443500e+03\n",
              "75%    3.484575e+04    656.000000  4.996675e+04\n",
              "max    1.581373e+06  45325.000000  1.723135e+06"
            ]
          },
          "metadata": {
            "tags": []
          },
          "execution_count": 889
        }
      ]
    },
    {
      "cell_type": "code",
      "metadata": {
        "colab": {
          "base_uri": "https://localhost:8080/"
        },
        "id": "pQn3FDpBajAd",
        "outputId": "e6bbe7f8-d070-4664-a714-866213b6361d"
      },
      "source": [
        "ds1.info()"
      ],
      "execution_count": null,
      "outputs": [
        {
          "output_type": "stream",
          "text": [
            "<class 'pandas.core.frame.DataFrame'>\n",
            "RangeIndex: 8290 entries, 0 to 8289\n",
            "Data columns (total 8 columns):\n",
            " #   Column                    Non-Null Count  Dtype \n",
            "---  ------                    --------------  ----- \n",
            " 0   Date                      8290 non-null   object\n",
            " 1   Time                      8290 non-null   object\n",
            " 2   States                    8290 non-null   object\n",
            " 3   ConfirmedIndianNational   8290 non-null   object\n",
            " 4   ConfirmedForeignNational  8290 non-null   object\n",
            " 5   Cured                     8290 non-null   int64 \n",
            " 6   Deaths                    8290 non-null   int64 \n",
            " 7   Confirmed                 8290 non-null   int64 \n",
            "dtypes: int64(3), object(5)\n",
            "memory usage: 518.2+ KB\n"
          ],
          "name": "stdout"
        }
      ]
    },
    {
      "cell_type": "code",
      "metadata": {
        "colab": {
          "base_uri": "https://localhost:8080/"
        },
        "id": "BWRAOh7Saj-G",
        "outputId": "ce471d2c-bf11-451f-84df-7b01252a1945"
      },
      "source": [
        "ds1.isnull().sum()"
      ],
      "execution_count": null,
      "outputs": [
        {
          "output_type": "execute_result",
          "data": {
            "text/plain": [
              "Date                        0\n",
              "Time                        0\n",
              "States                      0\n",
              "ConfirmedIndianNational     0\n",
              "ConfirmedForeignNational    0\n",
              "Cured                       0\n",
              "Deaths                      0\n",
              "Confirmed                   0\n",
              "dtype: int64"
            ]
          },
          "metadata": {
            "tags": []
          },
          "execution_count": 891
        }
      ]
    },
    {
      "cell_type": "code",
      "metadata": {
        "colab": {
          "base_uri": "https://localhost:8080/",
          "height": 142
        },
        "id": "Rwah2b3ij-aC",
        "outputId": "8c7a0209-f7fa-483e-aa11-2caba8f2ffc5"
      },
      "source": [
        "ds1.corr()"
      ],
      "execution_count": null,
      "outputs": [
        {
          "output_type": "execute_result",
          "data": {
            "text/html": [
              "<div>\n",
              "<style scoped>\n",
              "    .dataframe tbody tr th:only-of-type {\n",
              "        vertical-align: middle;\n",
              "    }\n",
              "\n",
              "    .dataframe tbody tr th {\n",
              "        vertical-align: top;\n",
              "    }\n",
              "\n",
              "    .dataframe thead th {\n",
              "        text-align: right;\n",
              "    }\n",
              "</style>\n",
              "<table border=\"1\" class=\"dataframe\">\n",
              "  <thead>\n",
              "    <tr style=\"text-align: right;\">\n",
              "      <th></th>\n",
              "      <th>Cured</th>\n",
              "      <th>Deaths</th>\n",
              "      <th>Confirmed</th>\n",
              "    </tr>\n",
              "  </thead>\n",
              "  <tbody>\n",
              "    <tr>\n",
              "      <th>Cured</th>\n",
              "      <td>1.000000</td>\n",
              "      <td>0.891172</td>\n",
              "      <td>0.994110</td>\n",
              "    </tr>\n",
              "    <tr>\n",
              "      <th>Deaths</th>\n",
              "      <td>0.891172</td>\n",
              "      <td>1.000000</td>\n",
              "      <td>0.915891</td>\n",
              "    </tr>\n",
              "    <tr>\n",
              "      <th>Confirmed</th>\n",
              "      <td>0.994110</td>\n",
              "      <td>0.915891</td>\n",
              "      <td>1.000000</td>\n",
              "    </tr>\n",
              "  </tbody>\n",
              "</table>\n",
              "</div>"
            ],
            "text/plain": [
              "              Cured    Deaths  Confirmed\n",
              "Cured      1.000000  0.891172   0.994110\n",
              "Deaths     0.891172  1.000000   0.915891\n",
              "Confirmed  0.994110  0.915891   1.000000"
            ]
          },
          "metadata": {
            "tags": []
          },
          "execution_count": 892
        }
      ]
    },
    {
      "cell_type": "markdown",
      "metadata": {
        "id": "nw6vDqRJjVfJ"
      },
      "source": [
        "# ***ANALYSIS***"
      ]
    },
    {
      "cell_type": "code",
      "metadata": {
        "colab": {
          "base_uri": "https://localhost:8080/",
          "height": 303
        },
        "id": "QzdOwPjlIPzI",
        "outputId": "262345f4-426b-40be-bb8b-a597bd0aa07c"
      },
      "source": [
        "group_size = [sum(ds1['Confirmed']),\n",
        "              sum(ds1['Cured']),\n",
        "              sum(ds1['Deaths'])]\n",
        "group_labels = ['Confirmed\\n' + str(sum(ds1['Confirmed'])),\n",
        "                'Cured\\n' + str(sum(ds1['Cured'])),\n",
        "                'Deaths\\n' + str(sum(ds1['Deaths']))]\n",
        "custom_colors = ['blue','green','red']\n",
        "plt.figure(figsize = (5,5))\n",
        "plt.pie(group_size, labels = group_labels, colors = custom_colors)\n",
        "central_circle = plt.Circle((0,0), 0.5, color = 'white')\n",
        "fig = plt.gcf()\n",
        "fig.gca().add_artist(central_circle)\n",
        "plt.rc('font', size = 12)\n",
        "plt.show()"
      ],
      "execution_count": null,
      "outputs": [
        {
          "output_type": "display_data",
          "data": {
            "image/png": "[encoded data removed]",
            "text/plain": [
              "<Figure size 360x360 with 1 Axes>"
            ]
          },
          "metadata": {
            "tags": []
          }
        }
      ]
    },
    {
      "cell_type": "code",
      "metadata": {
        "id": "o8rjDDPL1mHM"
      },
      "source": [
        "ds1=ds1.replace('Telengana***','Telangana')\n",
        "ds1=ds1.replace('Telangana***','Telangana')\n",
        "ds1=ds1.replace('Maharashtra***','Maharashtra')\n",
        "ds1=ds1.replace('Chandigarh***','Chandigarh')\n",
        "ds1=ds1.replace('Punjab***','Punjab')"
      ],
      "execution_count": null,
      "outputs": []
    },
    {
      "cell_type": "code",
      "metadata": {
        "colab": {
          "base_uri": "https://localhost:8080/",
          "height": 559
        },
        "id": "xiGxwhD-Bx3J",
        "outputId": "d80acfe4-4b55-42c7-cae3-8bd0323e4bd6"
      },
      "source": [
        "fig = plt.figure(figsize=(20,10))\n",
        "plt.barh(ds1['States'],ds1['Confirmed'])"
      ],
      "execution_count": null,
      "outputs": [
        {
          "output_type": "execute_result",
          "data": {
            "text/plain": [
              "<BarContainer object of 8290 artists>"
            ]
          },
          "metadata": {
            "tags": []
          },
          "execution_count": 895
        },
        {
          "output_type": "display_data",
          "data": {
            "image/png": "[encoded data removed]",
            "text/plain": [
              "<Figure size 1440x720 with 1 Axes>"
            ]
          },
          "metadata": {
            "tags": [],
            "needs_background": "light"
          }
        }
      ]
    },
    {
      "cell_type": "code",
      "metadata": {
        "colab": {
          "base_uri": "https://localhost:8080/",
          "height": 304
        },
        "id": "O7vw-crnjuf_",
        "outputId": "98b80173-0a71-4506-8d13-89073eb2dee1"
      },
      "source": [
        "sns.lineplot(x='Date',y='Confirmed',data=ds1,color='blue')"
      ],
      "execution_count": null,
      "outputs": [
        {
          "output_type": "execute_result",
          "data": {
            "text/plain": [
              "<matplotlib.axes._subplots.AxesSubplot at 0x7f43ad4f5d50>"
            ]
          },
          "metadata": {
            "tags": []
          },
          "execution_count": 896
        },
        {
          "output_type": "display_data",
          "data": {
            "image/png": "[encoded data removed]",
            "text/plain": [
              "<Figure size 432x288 with 1 Axes>"
            ]
          },
          "metadata": {
            "tags": [],
            "needs_background": "light"
          }
        }
      ]
    },
    {
      "cell_type": "code",
      "metadata": {
        "colab": {
          "base_uri": "https://localhost:8080/",
          "height": 307
        },
        "id": "jN_6A441ohD6",
        "outputId": "1a4e2bb1-4c68-487d-905d-e3d1f9f7c268"
      },
      "source": [
        "sns.lineplot(x='Date',y='Deaths',data=ds1,color='red')"
      ],
      "execution_count": null,
      "outputs": [
        {
          "output_type": "execute_result",
          "data": {
            "text/plain": [
              "<matplotlib.axes._subplots.AxesSubplot at 0x7f43aa91da90>"
            ]
          },
          "metadata": {
            "tags": []
          },
          "execution_count": 897
        },
        {
          "output_type": "display_data",
          "data": {
            "image/png": "[encoded data removed]",
            "text/plain": [
              "<Figure size 432x288 with 1 Axes>"
            ]
          },
          "metadata": {
            "tags": [],
            "needs_background": "light"
          }
        }
      ]
    },
    {
      "cell_type": "code",
      "metadata": {
        "colab": {
          "base_uri": "https://localhost:8080/",
          "height": 302
        },
        "id": "GIulHQdKohGJ",
        "outputId": "bcf73ea4-a314-42b2-fd8d-0dcdf940b795"
      },
      "source": [
        "sns.lineplot(x='Date',y='Cured',data=ds1,color='green')"
      ],
      "execution_count": null,
      "outputs": [
        {
          "output_type": "execute_result",
          "data": {
            "text/plain": [
              "<matplotlib.axes._subplots.AxesSubplot at 0x7f43aa8e64d0>"
            ]
          },
          "metadata": {
            "tags": []
          },
          "execution_count": 898
        },
        {
          "output_type": "display_data",
          "data": {
            "image/png": "[encoded data removed]",
            "text/plain": [
              "<Figure size 432x288 with 1 Axes>"
            ]
          },
          "metadata": {
            "tags": [],
            "needs_background": "light"
          }
        }
      ]
    },
    {
      "cell_type": "code",
      "metadata": {
        "colab": {
          "base_uri": "https://localhost:8080/",
          "height": 281
        },
        "id": "yJil0wBgohIE",
        "outputId": "dd3b46a9-c6bf-4e3b-fbc4-5d4ba814d19f"
      },
      "source": [
        "plt.plot(ds1['Confirmed'],color='blue')\n",
        "plt.plot(ds1['Cured'],color='green')\n",
        "plt.plot(ds1['Deaths'],color='red')\n",
        "plt.show()"
      ],
      "execution_count": null,
      "outputs": [
        {
          "output_type": "display_data",
          "data": {
            "image/png": "[encoded data removed]",
            "text/plain": [
              "<Figure size 432x288 with 1 Axes>"
            ]
          },
          "metadata": {
            "tags": [],
            "needs_background": "light"
          }
        }
      ]
    },
    {
      "cell_type": "code",
      "metadata": {
        "colab": {
          "base_uri": "https://localhost:8080/",
          "height": 268
        },
        "id": "xjvTr7NvuRMA",
        "outputId": "e2b19972-206e-4432-bdc7-5612e89f8657"
      },
      "source": [
        "a=ds1['Confirmed'].sum()\n",
        "b=ds1['Cured'].sum()\n",
        "c=ds1['Deaths'].sum()\n",
        "barp = sns.barplot(x=['Confirmed','Cured','Deaths'],y=[a,b,c])\n",
        "barp.set_yticklabels(labels=(barp.get_yticks()*1).astype(int))\n",
        "plt.show()"
      ],
      "execution_count": null,
      "outputs": [
        {
          "output_type": "display_data",
          "data": {
            "image/png": "[encoded data removed]",
            "text/plain": [
              "<Figure size 432x288 with 1 Axes>"
            ]
          },
          "metadata": {
            "tags": [],
            "needs_background": "light"
          }
        }
      ]
    },
    {
      "cell_type": "code",
      "metadata": {
        "colab": {
          "base_uri": "https://localhost:8080/",
          "height": 287
        },
        "id": "mj_nwrpGtS-R",
        "outputId": "0a2de171-474e-4202-a909-0b85a1e7a421"
      },
      "source": [
        "plt.hist(ds1['Confirmed'],color='blue')\n",
        "plt.hist(ds1['Cured'],color='green')\n",
        "plt.hist(ds1['Deaths'],color='red')\n",
        "plt.ylabel('Count')\n",
        "plt.xlabel('Cases')\n",
        "plt.show()"
      ],
      "execution_count": null,
      "outputs": [
        {
          "output_type": "display_data",
          "data": {
            "image/png": "[encoded data removed]",
            "text/plain": [
              "<Figure size 432x288 with 1 Axes>"
            ]
          },
          "metadata": {
            "tags": [],
            "needs_background": "light"
          }
        }
      ]
    },
    {
      "cell_type": "code",
      "metadata": {
        "colab": {
          "base_uri": "https://localhost:8080/"
        },
        "id": "dC3lhNYC1Ea4",
        "outputId": "9e1bb67b-db5f-441f-c3cc-6c2ea67353e4"
      },
      "source": [
        "ds1['States'].unique()"
      ],
      "execution_count": null,
      "outputs": [
        {
          "output_type": "execute_result",
          "data": {
            "text/plain": [
              "array(['Kerala', 'Telengana', 'Delhi', 'Rajasthan', 'Uttar Pradesh',\n",
              "       'Haryana', 'Ladakh', 'Tamil Nadu', 'Karnataka', 'Maharashtra',\n",
              "       'Punjab', 'Jammu and Kashmir', 'Andhra Pradesh', 'Uttarakhand',\n",
              "       'Odisha', 'Puducherry', 'West Bengal', 'Chhattisgarh',\n",
              "       'Chandigarh', 'Gujarat', 'Himachal Pradesh', 'Madhya Pradesh',\n",
              "       'Bihar', 'Manipur', 'Mizoram', 'Andaman and Nicobar Islands',\n",
              "       'Goa', 'Unassigned', 'Assam', 'Jharkhand', 'Arunachal Pradesh',\n",
              "       'Tripura', 'Nagaland', 'Meghalaya', 'Dadar Nagar Haveli',\n",
              "       'Cases being reassigned to states', 'Sikkim', 'Daman & Diu',\n",
              "       'Dadra and Nagar Haveli and Daman and Diu', 'Telangana'],\n",
              "      dtype=object)"
            ]
          },
          "metadata": {
            "tags": []
          },
          "execution_count": 902
        }
      ]
    },
    {
      "cell_type": "code",
      "metadata": {
        "id": "paNCSBfe54BP"
      },
      "source": [
        "ds1_sorted=ds1.sort_values(by='Confirmed',ascending=False).head(320)"
      ],
      "execution_count": null,
      "outputs": []
    },
    {
      "cell_type": "code",
      "metadata": {
        "colab": {
          "base_uri": "https://localhost:8080/"
        },
        "id": "LCtjgNDE54Dd",
        "outputId": "8ea3a356-2f91-48ee-b959-114e11500a65"
      },
      "source": [
        "ds1_sorted['States'].unique()"
      ],
      "execution_count": null,
      "outputs": [
        {
          "output_type": "execute_result",
          "data": {
            "text/plain": [
              "array(['Maharashtra', 'Karnataka', 'Andhra Pradesh', 'Tamil Nadu',\n",
              "       'Uttar Pradesh', 'Kerala'], dtype=object)"
            ]
          },
          "metadata": {
            "tags": []
          },
          "execution_count": 904
        }
      ]
    },
    {
      "cell_type": "code",
      "metadata": {
        "id": "a5awvvt40MXd"
      },
      "source": [
        "mh=ds1.loc[ds1['States'] == 'Maharashtra']\n",
        "ka=ds1.loc[ds1['States'] == 'Karnataka']\n",
        "ap=ds1.loc[ds1['States'] == 'Andhra Pradesh']\n",
        "tn=ds1.loc[ds1['States'] == 'Tamil Nadu']\n",
        "kr=ds1.loc[ds1['States'] == 'Kerala']"
      ],
      "execution_count": null,
      "outputs": []
    },
    {
      "cell_type": "code",
      "metadata": {
        "colab": {
          "base_uri": "https://localhost:8080/",
          "height": 419
        },
        "id": "QgwCUqaTGkX6",
        "outputId": "2bf76c7e-4069-47e4-ea10-15e8f908c08d"
      },
      "source": [
        "mh"
      ],
      "execution_count": null,
      "outputs": [
        {
          "output_type": "execute_result",
          "data": {
            "text/html": [
              "<div>\n",
              "<style scoped>\n",
              "    .dataframe tbody tr th:only-of-type {\n",
              "        vertical-align: middle;\n",
              "    }\n",
              "\n",
              "    .dataframe tbody tr th {\n",
              "        vertical-align: top;\n",
              "    }\n",
              "\n",
              "    .dataframe thead th {\n",
              "        text-align: right;\n",
              "    }\n",
              "</style>\n",
              "<table border=\"1\" class=\"dataframe\">\n",
              "  <thead>\n",
              "    <tr style=\"text-align: right;\">\n",
              "      <th></th>\n",
              "      <th>Date</th>\n",
              "      <th>Time</th>\n",
              "      <th>States</th>\n",
              "      <th>ConfirmedIndianNational</th>\n",
              "      <th>ConfirmedForeignNational</th>\n",
              "      <th>Cured</th>\n",
              "      <th>Deaths</th>\n",
              "      <th>Confirmed</th>\n",
              "    </tr>\n",
              "  </thead>\n",
              "  <tbody>\n",
              "    <tr>\n",
              "      <th>76</th>\n",
              "      <td>09-03-2020</td>\n",
              "      <td>6:00 PM</td>\n",
              "      <td>Maharashtra</td>\n",
              "      <td>2</td>\n",
              "      <td>0</td>\n",
              "      <td>0</td>\n",
              "      <td>0</td>\n",
              "      <td>2</td>\n",
              "    </tr>\n",
              "    <tr>\n",
              "      <th>91</th>\n",
              "      <td>10-03-2020</td>\n",
              "      <td>6:00 PM</td>\n",
              "      <td>Maharashtra</td>\n",
              "      <td>5</td>\n",
              "      <td>0</td>\n",
              "      <td>0</td>\n",
              "      <td>0</td>\n",
              "      <td>5</td>\n",
              "    </tr>\n",
              "    <tr>\n",
              "      <th>97</th>\n",
              "      <td>11-03-2020</td>\n",
              "      <td>6:00 PM</td>\n",
              "      <td>Maharashtra</td>\n",
              "      <td>2</td>\n",
              "      <td>0</td>\n",
              "      <td>0</td>\n",
              "      <td>0</td>\n",
              "      <td>2</td>\n",
              "    </tr>\n",
              "    <tr>\n",
              "      <th>120</th>\n",
              "      <td>12-03-2020</td>\n",
              "      <td>6:00 PM</td>\n",
              "      <td>Maharashtra</td>\n",
              "      <td>11</td>\n",
              "      <td>0</td>\n",
              "      <td>0</td>\n",
              "      <td>0</td>\n",
              "      <td>11</td>\n",
              "    </tr>\n",
              "    <tr>\n",
              "      <th>133</th>\n",
              "      <td>13-03-2020</td>\n",
              "      <td>6:00 PM</td>\n",
              "      <td>Maharashtra</td>\n",
              "      <td>14</td>\n",
              "      <td>0</td>\n",
              "      <td>0</td>\n",
              "      <td>0</td>\n",
              "      <td>14</td>\n",
              "    </tr>\n",
              "    <tr>\n",
              "      <th>...</th>\n",
              "      <td>...</td>\n",
              "      <td>...</td>\n",
              "      <td>...</td>\n",
              "      <td>...</td>\n",
              "      <td>...</td>\n",
              "      <td>...</td>\n",
              "      <td>...</td>\n",
              "      <td>...</td>\n",
              "    </tr>\n",
              "    <tr>\n",
              "      <th>8120</th>\n",
              "      <td>06-11-2020</td>\n",
              "      <td>8:00 AM</td>\n",
              "      <td>Maharashtra</td>\n",
              "      <td>-</td>\n",
              "      <td>-</td>\n",
              "      <td>1551282</td>\n",
              "      <td>44804</td>\n",
              "      <td>1703444</td>\n",
              "    </tr>\n",
              "    <tr>\n",
              "      <th>8155</th>\n",
              "      <td>07-11-2020</td>\n",
              "      <td>8:00 AM</td>\n",
              "      <td>Maharashtra</td>\n",
              "      <td>-</td>\n",
              "      <td>-</td>\n",
              "      <td>1562342</td>\n",
              "      <td>44965</td>\n",
              "      <td>1710314</td>\n",
              "    </tr>\n",
              "    <tr>\n",
              "      <th>8190</th>\n",
              "      <td>08-11-2020</td>\n",
              "      <td>8:00 AM</td>\n",
              "      <td>Maharashtra</td>\n",
              "      <td>-</td>\n",
              "      <td>-</td>\n",
              "      <td>1569090</td>\n",
              "      <td>45115</td>\n",
              "      <td>1714273</td>\n",
              "    </tr>\n",
              "    <tr>\n",
              "      <th>8225</th>\n",
              "      <td>09-11-2020</td>\n",
              "      <td>8:00 AM</td>\n",
              "      <td>Maharashtra</td>\n",
              "      <td>-</td>\n",
              "      <td>-</td>\n",
              "      <td>1577322</td>\n",
              "      <td>45240</td>\n",
              "      <td>1719858</td>\n",
              "    </tr>\n",
              "    <tr>\n",
              "      <th>8260</th>\n",
              "      <td>10-11-2020</td>\n",
              "      <td>8:00 AM</td>\n",
              "      <td>Maharashtra</td>\n",
              "      <td>-</td>\n",
              "      <td>-</td>\n",
              "      <td>1581373</td>\n",
              "      <td>45325</td>\n",
              "      <td>1723135</td>\n",
              "    </tr>\n",
              "  </tbody>\n",
              "</table>\n",
              "<p>247 rows × 8 columns</p>\n",
              "</div>"
            ],
            "text/plain": [
              "            Date     Time       States  ...    Cured Deaths  Confirmed\n",
              "76    09-03-2020  6:00 PM  Maharashtra  ...        0      0          2\n",
              "91    10-03-2020  6:00 PM  Maharashtra  ...        0      0          5\n",
              "97    11-03-2020  6:00 PM  Maharashtra  ...        0      0          2\n",
              "120   12-03-2020  6:00 PM  Maharashtra  ...        0      0         11\n",
              "133   13-03-2020  6:00 PM  Maharashtra  ...        0      0         14\n",
              "...          ...      ...          ...  ...      ...    ...        ...\n",
              "8120  06-11-2020  8:00 AM  Maharashtra  ...  1551282  44804    1703444\n",
              "8155  07-11-2020  8:00 AM  Maharashtra  ...  1562342  44965    1710314\n",
              "8190  08-11-2020  8:00 AM  Maharashtra  ...  1569090  45115    1714273\n",
              "8225  09-11-2020  8:00 AM  Maharashtra  ...  1577322  45240    1719858\n",
              "8260  10-11-2020  8:00 AM  Maharashtra  ...  1581373  45325    1723135\n",
              "\n",
              "[247 rows x 8 columns]"
            ]
          },
          "metadata": {
            "tags": []
          },
          "execution_count": 906
        }
      ]
    },
    {
      "cell_type": "code",
      "metadata": {
        "colab": {
          "base_uri": "https://localhost:8080/",
          "height": 281
        },
        "id": "FY16Ip7y2Aaj",
        "outputId": "a8884069-9d90-43d0-96a6-7be7e33a2168"
      },
      "source": [
        "plt.plot(mh['Date'],mh['Confirmed'],color='red')\n",
        "plt.plot(ka['Date'],ka['Confirmed'],color='blue')\n",
        "plt.plot(ap['Date'],ap['Confirmed'],color='green')\n",
        "plt.plot(tn['Date'],tn['Confirmed'],color='yellow')\n",
        "plt.plot(kr['Date'],kr['Confirmed'],color='orange')\n",
        "plt.show()"
      ],
      "execution_count": null,
      "outputs": [
        {
          "output_type": "display_data",
          "data": {
            "image/png": "[encoded data removed]",
            "text/plain": [
              "<Figure size 432x288 with 1 Axes>"
            ]
          },
          "metadata": {
            "tags": [],
            "needs_background": "light"
          }
        }
      ]
    },
    {
      "cell_type": "code",
      "metadata": {
        "colab": {
          "base_uri": "https://localhost:8080/",
          "height": 281
        },
        "id": "scHE8ahcGZHM",
        "outputId": "08ee77f4-8324-4d44-bf61-02df5c97d375"
      },
      "source": [
        "plt.plot(mh['Date'],mh['Cured'],color='red')\n",
        "plt.plot(ka['Date'],ka['Cured'],color='blue')\n",
        "plt.plot(ap['Date'],ap['Cured'],color='green')\n",
        "plt.plot(tn['Date'],tn['Cured'],color='yellow')\n",
        "plt.plot(kr['Date'],kr['Cured'],color='orange')\n",
        "plt.show()"
      ],
      "execution_count": null,
      "outputs": [
        {
          "output_type": "display_data",
          "data": {
            "image/png": "[encoded data removed]",
            "text/plain": [
              "<Figure size 432x288 with 1 Axes>"
            ]
          },
          "metadata": {
            "tags": [],
            "needs_background": "light"
          }
        }
      ]
    },
    {
      "cell_type": "code",
      "metadata": {
        "colab": {
          "base_uri": "https://localhost:8080/",
          "height": 268
        },
        "id": "H3iw1r_1GZKF",
        "outputId": "75e57211-fa30-4254-ca4a-21dabd60ee5c"
      },
      "source": [
        "plt.plot(mh['Date'],mh['Deaths'],color='red',)\n",
        "plt.plot(ka['Date'],ka['Deaths'],color='blue')\n",
        "plt.plot(ap['Date'],ap['Deaths'],color='green')\n",
        "plt.plot(tn['Date'],tn['Deaths'],color='yellow')\n",
        "plt.plot(kr['Date'],kr['Deaths'],color='orange')\n",
        "plt.show()"
      ],
      "execution_count": null,
      "outputs": [
        {
          "output_type": "display_data",
          "data": {
            "image/png": "[encoded data removed]",
            "text/plain": [
              "<Figure size 432x288 with 1 Axes>"
            ]
          },
          "metadata": {
            "tags": [],
            "needs_background": "light"
          }
        }
      ]
    },
    {
      "cell_type": "code",
      "metadata": {
        "colab": {
          "base_uri": "https://localhost:8080/",
          "height": 303
        },
        "id": "cul4ZV54EbGE",
        "outputId": "ab712503-c73b-4aa4-a9ff-da514296cfae"
      },
      "source": [
        "group_size = [sum(ds1_sorted['Confirmed']),\n",
        "              sum(ds1_sorted['Cured']),\n",
        "              sum(ds1_sorted['Deaths'])]\n",
        "group_labels = ['Confirmed\\n' + str(sum(ds1_sorted['Confirmed'])),\n",
        "                'Cured\\n' + str(sum(ds1_sorted['Cured'])),\n",
        "                'Deaths\\n' + str(sum(ds1_sorted['Deaths']))]\n",
        "custom_colors = ['blue','green','red']\n",
        "plt.figure(figsize = (5,5))\n",
        "plt.pie(group_size, labels = group_labels, colors = custom_colors)\n",
        "central_circle = plt.Circle((0,0), 0.5, color = 'white')\n",
        "fig = plt.gcf()\n",
        "fig.gca().add_artist(central_circle)\n",
        "plt.rc('font', size = 12)\n",
        "plt.show()"
      ],
      "execution_count": null,
      "outputs": [
        {
          "output_type": "display_data",
          "data": {
            "image/png": "[encoded data removed]",
            "text/plain": [
              "<Figure size 360x360 with 1 Axes>"
            ]
          },
          "metadata": {
            "tags": []
          }
        }
      ]
    },
    {
      "cell_type": "markdown",
      "metadata": {
        "id": "-lpGlRpzwlXP"
      },
      "source": [
        "# ***37.65% of the confirmed cases belong to top 5-states***\n",
        "# ***39.40% of the cured cases belong to top 5-states***\n",
        "# ***44.65% of the death cases belong to top 5-states***"
      ]
    },
    {
      "cell_type": "code",
      "metadata": {
        "id": "jJYaDtTOG2oc"
      },
      "source": [
        "ds1_sorted['Confirmed']=ds1_sorted['Confirmed'].astype(int)"
      ],
      "execution_count": null,
      "outputs": []
    },
    {
      "cell_type": "code",
      "metadata": {
        "colab": {
          "base_uri": "https://localhost:8080/",
          "height": 356
        },
        "id": "1b3ZlSeatQVk",
        "outputId": "ed3df036-5c08-456b-d13b-2b2ff11b8e40"
      },
      "source": [
        "fig = plt.figure(figsize=(10, 5))\n",
        "plt.barh(ds1_sorted['States'],ds1_sorted['Confirmed'])"
      ],
      "execution_count": null,
      "outputs": [
        {
          "output_type": "execute_result",
          "data": {
            "text/plain": [
              "<BarContainer object of 320 artists>"
            ]
          },
          "metadata": {
            "tags": []
          },
          "execution_count": 912
        },
        {
          "output_type": "display_data",
          "data": {
            "image/png": "[encoded data removed]",
            "text/plain": [
              "<Figure size 720x360 with 1 Axes>"
            ]
          },
          "metadata": {
            "tags": [],
            "needs_background": "light"
          }
        }
      ]
    },
    {
      "cell_type": "code",
      "metadata": {
        "colab": {
          "base_uri": "https://localhost:8080/",
          "height": 419
        },
        "id": "xY1PoN2ZDpP-",
        "outputId": "8949e7e4-1f1b-43a5-d037-3a01a383ce73"
      },
      "source": [
        "ds1"
      ],
      "execution_count": null,
      "outputs": [
        {
          "output_type": "execute_result",
          "data": {
            "text/html": [
              "<div>\n",
              "<style scoped>\n",
              "    .dataframe tbody tr th:only-of-type {\n",
              "        vertical-align: middle;\n",
              "    }\n",
              "\n",
              "    .dataframe tbody tr th {\n",
              "        vertical-align: top;\n",
              "    }\n",
              "\n",
              "    .dataframe thead th {\n",
              "        text-align: right;\n",
              "    }\n",
              "</style>\n",
              "<table border=\"1\" class=\"dataframe\">\n",
              "  <thead>\n",
              "    <tr style=\"text-align: right;\">\n",
              "      <th></th>\n",
              "      <th>Date</th>\n",
              "      <th>Time</th>\n",
              "      <th>States</th>\n",
              "      <th>ConfirmedIndianNational</th>\n",
              "      <th>ConfirmedForeignNational</th>\n",
              "      <th>Cured</th>\n",
              "      <th>Deaths</th>\n",
              "      <th>Confirmed</th>\n",
              "    </tr>\n",
              "  </thead>\n",
              "  <tbody>\n",
              "    <tr>\n",
              "      <th>0</th>\n",
              "      <td>30-01-2020</td>\n",
              "      <td>6:00 PM</td>\n",
              "      <td>Kerala</td>\n",
              "      <td>1</td>\n",
              "      <td>0</td>\n",
              "      <td>0</td>\n",
              "      <td>0</td>\n",
              "      <td>1</td>\n",
              "    </tr>\n",
              "    <tr>\n",
              "      <th>1</th>\n",
              "      <td>31-01-2020</td>\n",
              "      <td>6:00 PM</td>\n",
              "      <td>Kerala</td>\n",
              "      <td>1</td>\n",
              "      <td>0</td>\n",
              "      <td>0</td>\n",
              "      <td>0</td>\n",
              "      <td>1</td>\n",
              "    </tr>\n",
              "    <tr>\n",
              "      <th>2</th>\n",
              "      <td>01-02-2020</td>\n",
              "      <td>6:00 PM</td>\n",
              "      <td>Kerala</td>\n",
              "      <td>2</td>\n",
              "      <td>0</td>\n",
              "      <td>0</td>\n",
              "      <td>0</td>\n",
              "      <td>2</td>\n",
              "    </tr>\n",
              "    <tr>\n",
              "      <th>3</th>\n",
              "      <td>02-02-2020</td>\n",
              "      <td>6:00 PM</td>\n",
              "      <td>Kerala</td>\n",
              "      <td>3</td>\n",
              "      <td>0</td>\n",
              "      <td>0</td>\n",
              "      <td>0</td>\n",
              "      <td>3</td>\n",
              "    </tr>\n",
              "    <tr>\n",
              "      <th>4</th>\n",
              "      <td>03-02-2020</td>\n",
              "      <td>6:00 PM</td>\n",
              "      <td>Kerala</td>\n",
              "      <td>3</td>\n",
              "      <td>0</td>\n",
              "      <td>0</td>\n",
              "      <td>0</td>\n",
              "      <td>3</td>\n",
              "    </tr>\n",
              "    <tr>\n",
              "      <th>...</th>\n",
              "      <td>...</td>\n",
              "      <td>...</td>\n",
              "      <td>...</td>\n",
              "      <td>...</td>\n",
              "      <td>...</td>\n",
              "      <td>...</td>\n",
              "      <td>...</td>\n",
              "      <td>...</td>\n",
              "    </tr>\n",
              "    <tr>\n",
              "      <th>8285</th>\n",
              "      <td>11-11-2020</td>\n",
              "      <td>8:00 AM</td>\n",
              "      <td>Goa</td>\n",
              "      <td>-</td>\n",
              "      <td>-</td>\n",
              "      <td>42877</td>\n",
              "      <td>651</td>\n",
              "      <td>45389</td>\n",
              "    </tr>\n",
              "    <tr>\n",
              "      <th>8286</th>\n",
              "      <td>11-11-2020</td>\n",
              "      <td>8:00 AM</td>\n",
              "      <td>Gujarat</td>\n",
              "      <td>-</td>\n",
              "      <td>-</td>\n",
              "      <td>166331</td>\n",
              "      <td>3770</td>\n",
              "      <td>182557</td>\n",
              "    </tr>\n",
              "    <tr>\n",
              "      <th>8287</th>\n",
              "      <td>11-11-2020</td>\n",
              "      <td>8:00 AM</td>\n",
              "      <td>Haryana</td>\n",
              "      <td>-</td>\n",
              "      <td>-</td>\n",
              "      <td>168421</td>\n",
              "      <td>1935</td>\n",
              "      <td>187777</td>\n",
              "    </tr>\n",
              "    <tr>\n",
              "      <th>8288</th>\n",
              "      <td>11-11-2020</td>\n",
              "      <td>8:00 AM</td>\n",
              "      <td>Himachal Pradesh</td>\n",
              "      <td>-</td>\n",
              "      <td>-</td>\n",
              "      <td>21047</td>\n",
              "      <td>396</td>\n",
              "      <td>26808</td>\n",
              "    </tr>\n",
              "    <tr>\n",
              "      <th>8289</th>\n",
              "      <td>11-11-2020</td>\n",
              "      <td>8:00 AM</td>\n",
              "      <td>Jammu and Kashmir</td>\n",
              "      <td>-</td>\n",
              "      <td>-</td>\n",
              "      <td>92880</td>\n",
              "      <td>1549</td>\n",
              "      <td>99844</td>\n",
              "    </tr>\n",
              "  </tbody>\n",
              "</table>\n",
              "<p>8290 rows × 8 columns</p>\n",
              "</div>"
            ],
            "text/plain": [
              "            Date     Time             States  ...   Cured Deaths  Confirmed\n",
              "0     30-01-2020  6:00 PM             Kerala  ...       0      0          1\n",
              "1     31-01-2020  6:00 PM             Kerala  ...       0      0          1\n",
              "2     01-02-2020  6:00 PM             Kerala  ...       0      0          2\n",
              "3     02-02-2020  6:00 PM             Kerala  ...       0      0          3\n",
              "4     03-02-2020  6:00 PM             Kerala  ...       0      0          3\n",
              "...          ...      ...                ...  ...     ...    ...        ...\n",
              "8285  11-11-2020  8:00 AM                Goa  ...   42877    651      45389\n",
              "8286  11-11-2020  8:00 AM            Gujarat  ...  166331   3770     182557\n",
              "8287  11-11-2020  8:00 AM            Haryana  ...  168421   1935     187777\n",
              "8288  11-11-2020  8:00 AM   Himachal Pradesh  ...   21047    396      26808\n",
              "8289  11-11-2020  8:00 AM  Jammu and Kashmir  ...   92880   1549      99844\n",
              "\n",
              "[8290 rows x 8 columns]"
            ]
          },
          "metadata": {
            "tags": []
          },
          "execution_count": 913
        }
      ]
    },
    {
      "cell_type": "code",
      "metadata": {
        "colab": {
          "base_uri": "https://localhost:8080/",
          "height": 285
        },
        "id": "XR9yH0_n72h9",
        "outputId": "4d206764-5e98-4bd4-8c13-6c19be5ce199"
      },
      "source": [
        "ds1.mean().plot()"
      ],
      "execution_count": null,
      "outputs": [
        {
          "output_type": "execute_result",
          "data": {
            "text/plain": [
              "<matplotlib.axes._subplots.AxesSubplot at 0x7f43a6900e90>"
            ]
          },
          "metadata": {
            "tags": []
          },
          "execution_count": 914
        },
        {
          "output_type": "display_data",
          "data": {
            "image/png": "[encoded data removed]",
            "text/plain": [
              "<Figure size 432x288 with 1 Axes>"
            ]
          },
          "metadata": {
            "tags": [],
            "needs_background": "light"
          }
        }
      ]
    },
    {
      "cell_type": "code",
      "metadata": {
        "colab": {
          "base_uri": "https://localhost:8080/"
        },
        "id": "Yuz4Loi9KiCl",
        "outputId": "e6281900-b898-4d2a-a8c1-3db622908d1a"
      },
      "source": [
        "ds1['Date']=pd.to_datetime(ds1['Date'])\n",
        "ds1.info()"
      ],
      "execution_count": null,
      "outputs": [
        {
          "output_type": "stream",
          "text": [
            "<class 'pandas.core.frame.DataFrame'>\n",
            "RangeIndex: 8290 entries, 0 to 8289\n",
            "Data columns (total 8 columns):\n",
            " #   Column                    Non-Null Count  Dtype         \n",
            "---  ------                    --------------  -----         \n",
            " 0   Date                      8290 non-null   datetime64[ns]\n",
            " 1   Time                      8290 non-null   object        \n",
            " 2   States                    8290 non-null   object        \n",
            " 3   ConfirmedIndianNational   8290 non-null   object        \n",
            " 4   ConfirmedForeignNational  8290 non-null   object        \n",
            " 5   Cured                     8290 non-null   int64         \n",
            " 6   Deaths                    8290 non-null   int64         \n",
            " 7   Confirmed                 8290 non-null   int64         \n",
            "dtypes: datetime64[ns](1), int64(3), object(4)\n",
            "memory usage: 518.2+ KB\n"
          ],
          "name": "stdout"
        }
      ]
    },
    {
      "cell_type": "code",
      "metadata": {
        "colab": {
          "base_uri": "https://localhost:8080/",
          "height": 317
        },
        "id": "i_K9p2bX29ru",
        "outputId": "b65da7a8-3dca-45b5-d750-61a5ee635eed"
      },
      "source": [
        "ds1.resample('M',on='Date').mean().plot()"
      ],
      "execution_count": null,
      "outputs": [
        {
          "output_type": "execute_result",
          "data": {
            "text/plain": [
              "<matplotlib.axes._subplots.AxesSubplot at 0x7f43a684ab10>"
            ]
          },
          "metadata": {
            "tags": []
          },
          "execution_count": 916
        },
        {
          "output_type": "display_data",
          "data": {
            "image/png": "[encoded data removed]",
            "text/plain": [
              "<Figure size 432x288 with 1 Axes>"
            ]
          },
          "metadata": {
            "tags": [],
            "needs_background": "light"
          }
        }
      ]
    },
    {
      "cell_type": "code",
      "metadata": {
        "colab": {
          "base_uri": "https://localhost:8080/",
          "height": 307
        },
        "id": "F6OMMnS7MuTH",
        "outputId": "8c0a49ca-0ce7-4d61-aaca-d53821f8a59a"
      },
      "source": [
        "pd.plotting.autocorrelation_plot(ds1['Confirmed'])"
      ],
      "execution_count": null,
      "outputs": [
        {
          "output_type": "execute_result",
          "data": {
            "text/plain": [
              "<matplotlib.axes._subplots.AxesSubplot at 0x7f43a67edad0>"
            ]
          },
          "metadata": {
            "tags": []
          },
          "execution_count": 917
        },
        {
          "output_type": "display_data",
          "data": {
            "image/png": "[encoded data removed]",
            "text/plain": [
              "<Figure size 432x288 with 1 Axes>"
            ]
          },
          "metadata": {
            "tags": [],
            "needs_background": "light"
          }
        }
      ]
    },
    {
      "cell_type": "code",
      "metadata": {
        "colab": {
          "base_uri": "https://localhost:8080/"
        },
        "id": "rbQiMnFe-ynD",
        "outputId": "4deb636b-140c-455b-ef29-67c1107be676"
      },
      "source": [
        "from statsmodels.tsa.stattools import kpss\n",
        "stats,p,logs,critical_values=kpss(ds1['Confirmed'],'ct')\n",
        "print(stats)\n",
        "print(p)\n",
        "print(logs)\n",
        "print(critical_values)\n",
        "\n",
        "if p < 0.05:\n",
        "  print('not-stationary')\n",
        "else:\n",
        "  print('stationary')\n"
      ],
      "execution_count": null,
      "outputs": [
        {
          "output_type": "stream",
          "text": [
            "5.278505970861677\n",
            "0.01\n",
            "37\n",
            "{'10%': 0.119, '5%': 0.146, '2.5%': 0.176, '1%': 0.216}\n",
            "not-stationary\n"
          ],
          "name": "stdout"
        },
        {
          "output_type": "stream",
          "text": [
            "/usr/local/lib/python3.7/dist-packages/statsmodels/tsa/stattools.py:1685: FutureWarning: The behavior of using lags=None will change in the next release. Currently lags=None is the same as lags='legacy', and so a sample-size lag length is used. After the next release, the default will change to be the same as lags='auto' which uses an automatic lag length selection method. To silence this warning, either use 'auto' or 'legacy'\n",
            "  warn(msg, FutureWarning)\n",
            "/usr/local/lib/python3.7/dist-packages/statsmodels/tsa/stattools.py:1709: InterpolationWarning: p-value is smaller than the indicated p-value\n",
            "  warn(\"p-value is smaller than the indicated p-value\", InterpolationWarning)\n"
          ],
          "name": "stderr"
        }
      ]
    },
    {
      "cell_type": "code",
      "metadata": {
        "colab": {
          "base_uri": "https://localhost:8080/"
        },
        "id": "11q6QLDgOo2A",
        "outputId": "ba9a3de8-5511-40a4-8d6b-2d70bb2b06ea"
      },
      "source": [
        "from statsmodels.tsa.stattools import adfuller\n",
        "p1=adfuller(ds1['Confirmed'])\n",
        "print(p1)\n",
        "\n",
        "if p > 0.05:\n",
        "  print('stationary')\n",
        "else:\n",
        "  print('not-stationary')"
      ],
      "execution_count": null,
      "outputs": [
        {
          "output_type": "stream",
          "text": [
            "(8.454021494391613, 1.0, 37, 8252, {'1%': -3.4311426969631635, '5%': -2.8618903167323966, '10%': -2.5669564687836073}, 184965.10760581796)\n",
            "not-stationary\n"
          ],
          "name": "stdout"
        }
      ]
    },
    {
      "cell_type": "code",
      "metadata": {
        "colab": {
          "base_uri": "https://localhost:8080/",
          "height": 298
        },
        "id": "PQeKfbEwjEfi",
        "outputId": "dbed7969-afdc-4635-fc40-395e76865f79"
      },
      "source": [
        "ds1['Confirmed'].plot()"
      ],
      "execution_count": null,
      "outputs": [
        {
          "output_type": "execute_result",
          "data": {
            "text/plain": [
              "<matplotlib.axes._subplots.AxesSubplot at 0x7f43a6743090>"
            ]
          },
          "metadata": {
            "tags": []
          },
          "execution_count": 920
        },
        {
          "output_type": "display_data",
          "data": {
            "image/png": "[encoded data removed]",
            "text/plain": [
              "<Figure size 432x288 with 1 Axes>"
            ]
          },
          "metadata": {
            "tags": [],
            "needs_background": "light"
          }
        }
      ]
    },
    {
      "cell_type": "code",
      "metadata": {
        "id": "vQCXPU_TnbpT"
      },
      "source": [
        "from sklearn.preprocessing import MinMaxScaler\n",
        "ss=MinMaxScaler(feature_range=(0,1))\n",
        "ds1['Confirmed']=ss.fit_transform(ds1[['Confirmed']])"
      ],
      "execution_count": null,
      "outputs": []
    },
    {
      "cell_type": "code",
      "metadata": {
        "colab": {
          "base_uri": "https://localhost:8080/",
          "height": 419
        },
        "id": "hL7moB_2rAFi",
        "outputId": "61f22ef2-b8d4-4192-97a3-78002fa81fd0"
      },
      "source": [
        "ds1"
      ],
      "execution_count": null,
      "outputs": [
        {
          "output_type": "execute_result",
          "data": {
            "text/html": [
              "<div>\n",
              "<style scoped>\n",
              "    .dataframe tbody tr th:only-of-type {\n",
              "        vertical-align: middle;\n",
              "    }\n",
              "\n",
              "    .dataframe tbody tr th {\n",
              "        vertical-align: top;\n",
              "    }\n",
              "\n",
              "    .dataframe thead th {\n",
              "        text-align: right;\n",
              "    }\n",
              "</style>\n",
              "<table border=\"1\" class=\"dataframe\">\n",
              "  <thead>\n",
              "    <tr style=\"text-align: right;\">\n",
              "      <th></th>\n",
              "      <th>Date</th>\n",
              "      <th>Time</th>\n",
              "      <th>States</th>\n",
              "      <th>ConfirmedIndianNational</th>\n",
              "      <th>ConfirmedForeignNational</th>\n",
              "      <th>Cured</th>\n",
              "      <th>Deaths</th>\n",
              "      <th>Confirmed</th>\n",
              "    </tr>\n",
              "  </thead>\n",
              "  <tbody>\n",
              "    <tr>\n",
              "      <th>0</th>\n",
              "      <td>2020-01-30</td>\n",
              "      <td>6:00 PM</td>\n",
              "      <td>Kerala</td>\n",
              "      <td>1</td>\n",
              "      <td>0</td>\n",
              "      <td>0</td>\n",
              "      <td>0</td>\n",
              "      <td>5.803376e-07</td>\n",
              "    </tr>\n",
              "    <tr>\n",
              "      <th>1</th>\n",
              "      <td>2020-01-31</td>\n",
              "      <td>6:00 PM</td>\n",
              "      <td>Kerala</td>\n",
              "      <td>1</td>\n",
              "      <td>0</td>\n",
              "      <td>0</td>\n",
              "      <td>0</td>\n",
              "      <td>5.803376e-07</td>\n",
              "    </tr>\n",
              "    <tr>\n",
              "      <th>2</th>\n",
              "      <td>2020-01-02</td>\n",
              "      <td>6:00 PM</td>\n",
              "      <td>Kerala</td>\n",
              "      <td>2</td>\n",
              "      <td>0</td>\n",
              "      <td>0</td>\n",
              "      <td>0</td>\n",
              "      <td>1.160675e-06</td>\n",
              "    </tr>\n",
              "    <tr>\n",
              "      <th>3</th>\n",
              "      <td>2020-02-02</td>\n",
              "      <td>6:00 PM</td>\n",
              "      <td>Kerala</td>\n",
              "      <td>3</td>\n",
              "      <td>0</td>\n",
              "      <td>0</td>\n",
              "      <td>0</td>\n",
              "      <td>1.741013e-06</td>\n",
              "    </tr>\n",
              "    <tr>\n",
              "      <th>4</th>\n",
              "      <td>2020-03-02</td>\n",
              "      <td>6:00 PM</td>\n",
              "      <td>Kerala</td>\n",
              "      <td>3</td>\n",
              "      <td>0</td>\n",
              "      <td>0</td>\n",
              "      <td>0</td>\n",
              "      <td>1.741013e-06</td>\n",
              "    </tr>\n",
              "    <tr>\n",
              "      <th>...</th>\n",
              "      <td>...</td>\n",
              "      <td>...</td>\n",
              "      <td>...</td>\n",
              "      <td>...</td>\n",
              "      <td>...</td>\n",
              "      <td>...</td>\n",
              "      <td>...</td>\n",
              "      <td>...</td>\n",
              "    </tr>\n",
              "    <tr>\n",
              "      <th>8285</th>\n",
              "      <td>2020-11-11</td>\n",
              "      <td>8:00 AM</td>\n",
              "      <td>Goa</td>\n",
              "      <td>-</td>\n",
              "      <td>-</td>\n",
              "      <td>42877</td>\n",
              "      <td>651</td>\n",
              "      <td>2.634094e-02</td>\n",
              "    </tr>\n",
              "    <tr>\n",
              "      <th>8286</th>\n",
              "      <td>2020-11-11</td>\n",
              "      <td>8:00 AM</td>\n",
              "      <td>Gujarat</td>\n",
              "      <td>-</td>\n",
              "      <td>-</td>\n",
              "      <td>166331</td>\n",
              "      <td>3770</td>\n",
              "      <td>1.059447e-01</td>\n",
              "    </tr>\n",
              "    <tr>\n",
              "      <th>8287</th>\n",
              "      <td>2020-11-11</td>\n",
              "      <td>8:00 AM</td>\n",
              "      <td>Haryana</td>\n",
              "      <td>-</td>\n",
              "      <td>-</td>\n",
              "      <td>168421</td>\n",
              "      <td>1935</td>\n",
              "      <td>1.089741e-01</td>\n",
              "    </tr>\n",
              "    <tr>\n",
              "      <th>8288</th>\n",
              "      <td>2020-11-11</td>\n",
              "      <td>8:00 AM</td>\n",
              "      <td>Himachal Pradesh</td>\n",
              "      <td>-</td>\n",
              "      <td>-</td>\n",
              "      <td>21047</td>\n",
              "      <td>396</td>\n",
              "      <td>1.555769e-02</td>\n",
              "    </tr>\n",
              "    <tr>\n",
              "      <th>8289</th>\n",
              "      <td>2020-11-11</td>\n",
              "      <td>8:00 AM</td>\n",
              "      <td>Jammu and Kashmir</td>\n",
              "      <td>-</td>\n",
              "      <td>-</td>\n",
              "      <td>92880</td>\n",
              "      <td>1549</td>\n",
              "      <td>5.794323e-02</td>\n",
              "    </tr>\n",
              "  </tbody>\n",
              "</table>\n",
              "<p>8290 rows × 8 columns</p>\n",
              "</div>"
            ],
            "text/plain": [
              "           Date     Time             States  ...   Cured Deaths     Confirmed\n",
              "0    2020-01-30  6:00 PM             Kerala  ...       0      0  5.803376e-07\n",
              "1    2020-01-31  6:00 PM             Kerala  ...       0      0  5.803376e-07\n",
              "2    2020-01-02  6:00 PM             Kerala  ...       0      0  1.160675e-06\n",
              "3    2020-02-02  6:00 PM             Kerala  ...       0      0  1.741013e-06\n",
              "4    2020-03-02  6:00 PM             Kerala  ...       0      0  1.741013e-06\n",
              "...         ...      ...                ...  ...     ...    ...           ...\n",
              "8285 2020-11-11  8:00 AM                Goa  ...   42877    651  2.634094e-02\n",
              "8286 2020-11-11  8:00 AM            Gujarat  ...  166331   3770  1.059447e-01\n",
              "8287 2020-11-11  8:00 AM            Haryana  ...  168421   1935  1.089741e-01\n",
              "8288 2020-11-11  8:00 AM   Himachal Pradesh  ...   21047    396  1.555769e-02\n",
              "8289 2020-11-11  8:00 AM  Jammu and Kashmir  ...   92880   1549  5.794323e-02\n",
              "\n",
              "[8290 rows x 8 columns]"
            ]
          },
          "metadata": {
            "tags": []
          },
          "execution_count": 922
        }
      ]
    },
    {
      "cell_type": "code",
      "metadata": {
        "id": "Zc_xaQxbrAOC"
      },
      "source": [
        "del ds1['Time']\n",
        "del ds1['States']\n",
        "del ds1['ConfirmedIndianNational']\n",
        "del ds1['ConfirmedForeignNational']\n",
        "del ds1['Cured']\n",
        "del ds1['Deaths']"
      ],
      "execution_count": null,
      "outputs": []
    },
    {
      "cell_type": "code",
      "metadata": {
        "id": "liuy1Zwfq3cb"
      },
      "source": [
        "ds1.set_index('Date',inplace=True)"
      ],
      "execution_count": null,
      "outputs": []
    },
    {
      "cell_type": "code",
      "metadata": {
        "colab": {
          "base_uri": "https://localhost:8080/",
          "height": 450
        },
        "id": "BvT6v2aqts6J",
        "outputId": "5cc59f8d-7650-48df-81bd-48c1c97ad887"
      },
      "source": [
        "ds1"
      ],
      "execution_count": null,
      "outputs": [
        {
          "output_type": "execute_result",
          "data": {
            "text/html": [
              "<div>\n",
              "<style scoped>\n",
              "    .dataframe tbody tr th:only-of-type {\n",
              "        vertical-align: middle;\n",
              "    }\n",
              "\n",
              "    .dataframe tbody tr th {\n",
              "        vertical-align: top;\n",
              "    }\n",
              "\n",
              "    .dataframe thead th {\n",
              "        text-align: right;\n",
              "    }\n",
              "</style>\n",
              "<table border=\"1\" class=\"dataframe\">\n",
              "  <thead>\n",
              "    <tr style=\"text-align: right;\">\n",
              "      <th></th>\n",
              "      <th>Confirmed</th>\n",
              "    </tr>\n",
              "    <tr>\n",
              "      <th>Date</th>\n",
              "      <th></th>\n",
              "    </tr>\n",
              "  </thead>\n",
              "  <tbody>\n",
              "    <tr>\n",
              "      <th>2020-01-30</th>\n",
              "      <td>5.803376e-07</td>\n",
              "    </tr>\n",
              "    <tr>\n",
              "      <th>2020-01-31</th>\n",
              "      <td>5.803376e-07</td>\n",
              "    </tr>\n",
              "    <tr>\n",
              "      <th>2020-01-02</th>\n",
              "      <td>1.160675e-06</td>\n",
              "    </tr>\n",
              "    <tr>\n",
              "      <th>2020-02-02</th>\n",
              "      <td>1.741013e-06</td>\n",
              "    </tr>\n",
              "    <tr>\n",
              "      <th>2020-03-02</th>\n",
              "      <td>1.741013e-06</td>\n",
              "    </tr>\n",
              "    <tr>\n",
              "      <th>...</th>\n",
              "      <td>...</td>\n",
              "    </tr>\n",
              "    <tr>\n",
              "      <th>2020-11-11</th>\n",
              "      <td>2.634094e-02</td>\n",
              "    </tr>\n",
              "    <tr>\n",
              "      <th>2020-11-11</th>\n",
              "      <td>1.059447e-01</td>\n",
              "    </tr>\n",
              "    <tr>\n",
              "      <th>2020-11-11</th>\n",
              "      <td>1.089741e-01</td>\n",
              "    </tr>\n",
              "    <tr>\n",
              "      <th>2020-11-11</th>\n",
              "      <td>1.555769e-02</td>\n",
              "    </tr>\n",
              "    <tr>\n",
              "      <th>2020-11-11</th>\n",
              "      <td>5.794323e-02</td>\n",
              "    </tr>\n",
              "  </tbody>\n",
              "</table>\n",
              "<p>8290 rows × 1 columns</p>\n",
              "</div>"
            ],
            "text/plain": [
              "               Confirmed\n",
              "Date                    \n",
              "2020-01-30  5.803376e-07\n",
              "2020-01-31  5.803376e-07\n",
              "2020-01-02  1.160675e-06\n",
              "2020-02-02  1.741013e-06\n",
              "2020-03-02  1.741013e-06\n",
              "...                  ...\n",
              "2020-11-11  2.634094e-02\n",
              "2020-11-11  1.059447e-01\n",
              "2020-11-11  1.089741e-01\n",
              "2020-11-11  1.555769e-02\n",
              "2020-11-11  5.794323e-02\n",
              "\n",
              "[8290 rows x 1 columns]"
            ]
          },
          "metadata": {
            "tags": []
          },
          "execution_count": 925
        }
      ]
    },
    {
      "cell_type": "markdown",
      "metadata": {
        "id": "Uiezg2SdgD1f"
      },
      "source": [
        "# ***TestSet***"
      ]
    },
    {
      "cell_type": "code",
      "metadata": {
        "colab": {
          "base_uri": "https://localhost:8080/",
          "height": 419
        },
        "id": "XQH47IEjgDGL",
        "outputId": "6f6dec7e-75c0-41ca-8a6d-b274a2518b58"
      },
      "source": [
        "ds3=pd.read_csv('covid_19_india_test.csv')\n",
        "ds3"
      ],
      "execution_count": null,
      "outputs": [
        {
          "output_type": "execute_result",
          "data": {
            "text/html": [
              "<div>\n",
              "<style scoped>\n",
              "    .dataframe tbody tr th:only-of-type {\n",
              "        vertical-align: middle;\n",
              "    }\n",
              "\n",
              "    .dataframe tbody tr th {\n",
              "        vertical-align: top;\n",
              "    }\n",
              "\n",
              "    .dataframe thead th {\n",
              "        text-align: right;\n",
              "    }\n",
              "</style>\n",
              "<table border=\"1\" class=\"dataframe\">\n",
              "  <thead>\n",
              "    <tr style=\"text-align: right;\">\n",
              "      <th></th>\n",
              "      <th>Sno</th>\n",
              "      <th>Date</th>\n",
              "      <th>Time</th>\n",
              "      <th>States</th>\n",
              "      <th>ConfirmedIndianNational</th>\n",
              "      <th>ConfirmedForeignNational</th>\n",
              "      <th>Cured</th>\n",
              "      <th>Deaths</th>\n",
              "      <th>Confirmed</th>\n",
              "    </tr>\n",
              "  </thead>\n",
              "  <tbody>\n",
              "    <tr>\n",
              "      <th>0</th>\n",
              "      <td>8291</td>\n",
              "      <td>11-11-2020</td>\n",
              "      <td>8:00 AM</td>\n",
              "      <td>Jharkhand</td>\n",
              "      <td>-</td>\n",
              "      <td>-</td>\n",
              "      <td>99988</td>\n",
              "      <td>910</td>\n",
              "      <td>104940</td>\n",
              "    </tr>\n",
              "    <tr>\n",
              "      <th>1</th>\n",
              "      <td>8292</td>\n",
              "      <td>11-11-2020</td>\n",
              "      <td>8:00 AM</td>\n",
              "      <td>Karnataka</td>\n",
              "      <td>-</td>\n",
              "      <td>-</td>\n",
              "      <td>808700</td>\n",
              "      <td>11430</td>\n",
              "      <td>851212</td>\n",
              "    </tr>\n",
              "    <tr>\n",
              "      <th>2</th>\n",
              "      <td>8293</td>\n",
              "      <td>11-11-2020</td>\n",
              "      <td>8:00 AM</td>\n",
              "      <td>Kerala</td>\n",
              "      <td>-</td>\n",
              "      <td>-</td>\n",
              "      <td>415158</td>\n",
              "      <td>1742</td>\n",
              "      <td>495712</td>\n",
              "    </tr>\n",
              "    <tr>\n",
              "      <th>3</th>\n",
              "      <td>8294</td>\n",
              "      <td>11-11-2020</td>\n",
              "      <td>8:00 AM</td>\n",
              "      <td>Ladakh</td>\n",
              "      <td>-</td>\n",
              "      <td>-</td>\n",
              "      <td>6058</td>\n",
              "      <td>85</td>\n",
              "      <td>7063</td>\n",
              "    </tr>\n",
              "    <tr>\n",
              "      <th>4</th>\n",
              "      <td>8295</td>\n",
              "      <td>11-11-2020</td>\n",
              "      <td>8:00 AM</td>\n",
              "      <td>Madhya Pradesh</td>\n",
              "      <td>-</td>\n",
              "      <td>-</td>\n",
              "      <td>167877</td>\n",
              "      <td>3042</td>\n",
              "      <td>179068</td>\n",
              "    </tr>\n",
              "    <tr>\n",
              "      <th>...</th>\n",
              "      <td>...</td>\n",
              "      <td>...</td>\n",
              "      <td>...</td>\n",
              "      <td>...</td>\n",
              "      <td>...</td>\n",
              "      <td>...</td>\n",
              "      <td>...</td>\n",
              "      <td>...</td>\n",
              "      <td>...</td>\n",
              "    </tr>\n",
              "    <tr>\n",
              "      <th>996</th>\n",
              "      <td>9287</td>\n",
              "      <td>09-12-2020</td>\n",
              "      <td>8:00 AM</td>\n",
              "      <td>Telengana</td>\n",
              "      <td>-</td>\n",
              "      <td>-</td>\n",
              "      <td>266120</td>\n",
              "      <td>1480</td>\n",
              "      <td>275261</td>\n",
              "    </tr>\n",
              "    <tr>\n",
              "      <th>997</th>\n",
              "      <td>9288</td>\n",
              "      <td>09-12-2020</td>\n",
              "      <td>8:00 AM</td>\n",
              "      <td>Tripura</td>\n",
              "      <td>-</td>\n",
              "      <td>-</td>\n",
              "      <td>32169</td>\n",
              "      <td>373</td>\n",
              "      <td>32945</td>\n",
              "    </tr>\n",
              "    <tr>\n",
              "      <th>998</th>\n",
              "      <td>9289</td>\n",
              "      <td>09-12-2020</td>\n",
              "      <td>8:00 AM</td>\n",
              "      <td>Uttarakhand</td>\n",
              "      <td>-</td>\n",
              "      <td>-</td>\n",
              "      <td>72435</td>\n",
              "      <td>1307</td>\n",
              "      <td>79141</td>\n",
              "    </tr>\n",
              "    <tr>\n",
              "      <th>999</th>\n",
              "      <td>9290</td>\n",
              "      <td>09-12-2020</td>\n",
              "      <td>8:00 AM</td>\n",
              "      <td>Uttar Pradesh</td>\n",
              "      <td>-</td>\n",
              "      <td>-</td>\n",
              "      <td>528832</td>\n",
              "      <td>7967</td>\n",
              "      <td>558173</td>\n",
              "    </tr>\n",
              "    <tr>\n",
              "      <th>1000</th>\n",
              "      <td>9291</td>\n",
              "      <td>09-12-2020</td>\n",
              "      <td>8:00 AM</td>\n",
              "      <td>West Bengal</td>\n",
              "      <td>-</td>\n",
              "      <td>-</td>\n",
              "      <td>475425</td>\n",
              "      <td>8820</td>\n",
              "      <td>507995</td>\n",
              "    </tr>\n",
              "  </tbody>\n",
              "</table>\n",
              "<p>1001 rows × 9 columns</p>\n",
              "</div>"
            ],
            "text/plain": [
              "       Sno        Date     Time  ...   Cured Deaths Confirmed\n",
              "0     8291  11-11-2020  8:00 AM  ...   99988    910    104940\n",
              "1     8292  11-11-2020  8:00 AM  ...  808700  11430    851212\n",
              "2     8293  11-11-2020  8:00 AM  ...  415158   1742    495712\n",
              "3     8294  11-11-2020  8:00 AM  ...    6058     85      7063\n",
              "4     8295  11-11-2020  8:00 AM  ...  167877   3042    179068\n",
              "...    ...         ...      ...  ...     ...    ...       ...\n",
              "996   9287  09-12-2020  8:00 AM  ...  266120   1480    275261\n",
              "997   9288  09-12-2020  8:00 AM  ...   32169    373     32945\n",
              "998   9289  09-12-2020  8:00 AM  ...   72435   1307     79141\n",
              "999   9290  09-12-2020  8:00 AM  ...  528832   7967    558173\n",
              "1000  9291  09-12-2020  8:00 AM  ...  475425   8820    507995\n",
              "\n",
              "[1001 rows x 9 columns]"
            ]
          },
          "metadata": {
            "tags": []
          },
          "execution_count": 926
        }
      ]
    },
    {
      "cell_type": "code",
      "metadata": {
        "colab": {
          "base_uri": "https://localhost:8080/"
        },
        "id": "TfkMkQvEgDRS",
        "outputId": "fce41752-4c8c-4d43-a061-c9eb811aff9a"
      },
      "source": [
        "ds3.info()"
      ],
      "execution_count": null,
      "outputs": [
        {
          "output_type": "stream",
          "text": [
            "<class 'pandas.core.frame.DataFrame'>\n",
            "RangeIndex: 1001 entries, 0 to 1000\n",
            "Data columns (total 9 columns):\n",
            " #   Column                    Non-Null Count  Dtype \n",
            "---  ------                    --------------  ----- \n",
            " 0   Sno                       1001 non-null   int64 \n",
            " 1   Date                      1001 non-null   object\n",
            " 2   Time                      1001 non-null   object\n",
            " 3   States                    1001 non-null   object\n",
            " 4   ConfirmedIndianNational   1001 non-null   object\n",
            " 5   ConfirmedForeignNational  1001 non-null   object\n",
            " 6   Cured                     1001 non-null   int64 \n",
            " 7   Deaths                    1001 non-null   int64 \n",
            " 8   Confirmed                 1001 non-null   int64 \n",
            "dtypes: int64(4), object(5)\n",
            "memory usage: 70.5+ KB\n"
          ],
          "name": "stdout"
        }
      ]
    },
    {
      "cell_type": "code",
      "metadata": {
        "colab": {
          "base_uri": "https://localhost:8080/",
          "height": 297
        },
        "id": "CBLFD3AdgDT-",
        "outputId": "d6cb99ea-fffd-4f1a-d062-cd691e0e831e"
      },
      "source": [
        "ds3.describe()"
      ],
      "execution_count": null,
      "outputs": [
        {
          "output_type": "execute_result",
          "data": {
            "text/html": [
              "<div>\n",
              "<style scoped>\n",
              "    .dataframe tbody tr th:only-of-type {\n",
              "        vertical-align: middle;\n",
              "    }\n",
              "\n",
              "    .dataframe tbody tr th {\n",
              "        vertical-align: top;\n",
              "    }\n",
              "\n",
              "    .dataframe thead th {\n",
              "        text-align: right;\n",
              "    }\n",
              "</style>\n",
              "<table border=\"1\" class=\"dataframe\">\n",
              "  <thead>\n",
              "    <tr style=\"text-align: right;\">\n",
              "      <th></th>\n",
              "      <th>Sno</th>\n",
              "      <th>Cured</th>\n",
              "      <th>Deaths</th>\n",
              "      <th>Confirmed</th>\n",
              "    </tr>\n",
              "  </thead>\n",
              "  <tbody>\n",
              "    <tr>\n",
              "      <th>count</th>\n",
              "      <td>1001.000000</td>\n",
              "      <td>1.001000e+03</td>\n",
              "      <td>1001.000000</td>\n",
              "      <td>1.001000e+03</td>\n",
              "    </tr>\n",
              "    <tr>\n",
              "      <th>mean</th>\n",
              "      <td>8791.000000</td>\n",
              "      <td>2.477798e+05</td>\n",
              "      <td>3873.367632</td>\n",
              "      <td>2.643285e+05</td>\n",
              "    </tr>\n",
              "    <tr>\n",
              "      <th>std</th>\n",
              "      <td>289.108111</td>\n",
              "      <td>3.409139e+05</td>\n",
              "      <td>8096.249821</td>\n",
              "      <td>3.632807e+05</td>\n",
              "    </tr>\n",
              "    <tr>\n",
              "      <th>min</th>\n",
              "      <td>8291.000000</td>\n",
              "      <td>2.686000e+03</td>\n",
              "      <td>2.000000</td>\n",
              "      <td>3.217000e+03</td>\n",
              "    </tr>\n",
              "    <tr>\n",
              "      <th>25%</th>\n",
              "      <td>8541.000000</td>\n",
              "      <td>1.627900e+04</td>\n",
              "      <td>249.000000</td>\n",
              "      <td>1.764200e+04</td>\n",
              "    </tr>\n",
              "    <tr>\n",
              "      <th>50%</th>\n",
              "      <td>8791.000000</td>\n",
              "      <td>1.361780e+05</td>\n",
              "      <td>1264.000000</td>\n",
              "      <td>1.476650e+05</td>\n",
              "    </tr>\n",
              "    <tr>\n",
              "      <th>75%</th>\n",
              "      <td>9041.000000</td>\n",
              "      <td>3.017770e+05</td>\n",
              "      <td>3823.000000</td>\n",
              "      <td>3.109200e+05</td>\n",
              "    </tr>\n",
              "    <tr>\n",
              "      <th>max</th>\n",
              "      <td>9291.000000</td>\n",
              "      <td>1.737080e+06</td>\n",
              "      <td>47827.000000</td>\n",
              "      <td>1.859367e+06</td>\n",
              "    </tr>\n",
              "  </tbody>\n",
              "</table>\n",
              "</div>"
            ],
            "text/plain": [
              "               Sno         Cured        Deaths     Confirmed\n",
              "count  1001.000000  1.001000e+03   1001.000000  1.001000e+03\n",
              "mean   8791.000000  2.477798e+05   3873.367632  2.643285e+05\n",
              "std     289.108111  3.409139e+05   8096.249821  3.632807e+05\n",
              "min    8291.000000  2.686000e+03      2.000000  3.217000e+03\n",
              "25%    8541.000000  1.627900e+04    249.000000  1.764200e+04\n",
              "50%    8791.000000  1.361780e+05   1264.000000  1.476650e+05\n",
              "75%    9041.000000  3.017770e+05   3823.000000  3.109200e+05\n",
              "max    9291.000000  1.737080e+06  47827.000000  1.859367e+06"
            ]
          },
          "metadata": {
            "tags": []
          },
          "execution_count": 928
        }
      ]
    },
    {
      "cell_type": "code",
      "metadata": {
        "colab": {
          "base_uri": "https://localhost:8080/",
          "height": 419
        },
        "id": "ObtVDR-LgxT4",
        "outputId": "eabd2c40-2f98-4350-b887-cf4f21c1e464"
      },
      "source": [
        "del ds3['Sno']\n",
        "del ds3['Time']\n",
        "del ds3['States']\n",
        "del ds3['ConfirmedIndianNational']\n",
        "del ds3['ConfirmedForeignNational']\n",
        "del ds3['Cured']\n",
        "del ds3['Deaths']\n",
        "ds3"
      ],
      "execution_count": null,
      "outputs": [
        {
          "output_type": "execute_result",
          "data": {
            "text/html": [
              "<div>\n",
              "<style scoped>\n",
              "    .dataframe tbody tr th:only-of-type {\n",
              "        vertical-align: middle;\n",
              "    }\n",
              "\n",
              "    .dataframe tbody tr th {\n",
              "        vertical-align: top;\n",
              "    }\n",
              "\n",
              "    .dataframe thead th {\n",
              "        text-align: right;\n",
              "    }\n",
              "</style>\n",
              "<table border=\"1\" class=\"dataframe\">\n",
              "  <thead>\n",
              "    <tr style=\"text-align: right;\">\n",
              "      <th></th>\n",
              "      <th>Date</th>\n",
              "      <th>Confirmed</th>\n",
              "    </tr>\n",
              "  </thead>\n",
              "  <tbody>\n",
              "    <tr>\n",
              "      <th>0</th>\n",
              "      <td>11-11-2020</td>\n",
              "      <td>104940</td>\n",
              "    </tr>\n",
              "    <tr>\n",
              "      <th>1</th>\n",
              "      <td>11-11-2020</td>\n",
              "      <td>851212</td>\n",
              "    </tr>\n",
              "    <tr>\n",
              "      <th>2</th>\n",
              "      <td>11-11-2020</td>\n",
              "      <td>495712</td>\n",
              "    </tr>\n",
              "    <tr>\n",
              "      <th>3</th>\n",
              "      <td>11-11-2020</td>\n",
              "      <td>7063</td>\n",
              "    </tr>\n",
              "    <tr>\n",
              "      <th>4</th>\n",
              "      <td>11-11-2020</td>\n",
              "      <td>179068</td>\n",
              "    </tr>\n",
              "    <tr>\n",
              "      <th>...</th>\n",
              "      <td>...</td>\n",
              "      <td>...</td>\n",
              "    </tr>\n",
              "    <tr>\n",
              "      <th>996</th>\n",
              "      <td>09-12-2020</td>\n",
              "      <td>275261</td>\n",
              "    </tr>\n",
              "    <tr>\n",
              "      <th>997</th>\n",
              "      <td>09-12-2020</td>\n",
              "      <td>32945</td>\n",
              "    </tr>\n",
              "    <tr>\n",
              "      <th>998</th>\n",
              "      <td>09-12-2020</td>\n",
              "      <td>79141</td>\n",
              "    </tr>\n",
              "    <tr>\n",
              "      <th>999</th>\n",
              "      <td>09-12-2020</td>\n",
              "      <td>558173</td>\n",
              "    </tr>\n",
              "    <tr>\n",
              "      <th>1000</th>\n",
              "      <td>09-12-2020</td>\n",
              "      <td>507995</td>\n",
              "    </tr>\n",
              "  </tbody>\n",
              "</table>\n",
              "<p>1001 rows × 2 columns</p>\n",
              "</div>"
            ],
            "text/plain": [
              "            Date  Confirmed\n",
              "0     11-11-2020     104940\n",
              "1     11-11-2020     851212\n",
              "2     11-11-2020     495712\n",
              "3     11-11-2020       7063\n",
              "4     11-11-2020     179068\n",
              "...          ...        ...\n",
              "996   09-12-2020     275261\n",
              "997   09-12-2020      32945\n",
              "998   09-12-2020      79141\n",
              "999   09-12-2020     558173\n",
              "1000  09-12-2020     507995\n",
              "\n",
              "[1001 rows x 2 columns]"
            ]
          },
          "metadata": {
            "tags": []
          },
          "execution_count": 929
        }
      ]
    },
    {
      "cell_type": "code",
      "metadata": {
        "id": "NxUA4Fd2gDWM"
      },
      "source": [
        "ds3.set_index('Date',inplace=True)"
      ],
      "execution_count": null,
      "outputs": []
    },
    {
      "cell_type": "code",
      "metadata": {
        "colab": {
          "base_uri": "https://localhost:8080/",
          "height": 450
        },
        "id": "iQTnzM80gDaP",
        "outputId": "fdf87d18-26ed-4e8c-ec31-f61d6ccd4fb8"
      },
      "source": [
        "ds3"
      ],
      "execution_count": null,
      "outputs": [
        {
          "output_type": "execute_result",
          "data": {
            "text/html": [
              "<div>\n",
              "<style scoped>\n",
              "    .dataframe tbody tr th:only-of-type {\n",
              "        vertical-align: middle;\n",
              "    }\n",
              "\n",
              "    .dataframe tbody tr th {\n",
              "        vertical-align: top;\n",
              "    }\n",
              "\n",
              "    .dataframe thead th {\n",
              "        text-align: right;\n",
              "    }\n",
              "</style>\n",
              "<table border=\"1\" class=\"dataframe\">\n",
              "  <thead>\n",
              "    <tr style=\"text-align: right;\">\n",
              "      <th></th>\n",
              "      <th>Confirmed</th>\n",
              "    </tr>\n",
              "    <tr>\n",
              "      <th>Date</th>\n",
              "      <th></th>\n",
              "    </tr>\n",
              "  </thead>\n",
              "  <tbody>\n",
              "    <tr>\n",
              "      <th>11-11-2020</th>\n",
              "      <td>104940</td>\n",
              "    </tr>\n",
              "    <tr>\n",
              "      <th>11-11-2020</th>\n",
              "      <td>851212</td>\n",
              "    </tr>\n",
              "    <tr>\n",
              "      <th>11-11-2020</th>\n",
              "      <td>495712</td>\n",
              "    </tr>\n",
              "    <tr>\n",
              "      <th>11-11-2020</th>\n",
              "      <td>7063</td>\n",
              "    </tr>\n",
              "    <tr>\n",
              "      <th>11-11-2020</th>\n",
              "      <td>179068</td>\n",
              "    </tr>\n",
              "    <tr>\n",
              "      <th>...</th>\n",
              "      <td>...</td>\n",
              "    </tr>\n",
              "    <tr>\n",
              "      <th>09-12-2020</th>\n",
              "      <td>275261</td>\n",
              "    </tr>\n",
              "    <tr>\n",
              "      <th>09-12-2020</th>\n",
              "      <td>32945</td>\n",
              "    </tr>\n",
              "    <tr>\n",
              "      <th>09-12-2020</th>\n",
              "      <td>79141</td>\n",
              "    </tr>\n",
              "    <tr>\n",
              "      <th>09-12-2020</th>\n",
              "      <td>558173</td>\n",
              "    </tr>\n",
              "    <tr>\n",
              "      <th>09-12-2020</th>\n",
              "      <td>507995</td>\n",
              "    </tr>\n",
              "  </tbody>\n",
              "</table>\n",
              "<p>1001 rows × 1 columns</p>\n",
              "</div>"
            ],
            "text/plain": [
              "            Confirmed\n",
              "Date                 \n",
              "11-11-2020     104940\n",
              "11-11-2020     851212\n",
              "11-11-2020     495712\n",
              "11-11-2020       7063\n",
              "11-11-2020     179068\n",
              "...               ...\n",
              "09-12-2020     275261\n",
              "09-12-2020      32945\n",
              "09-12-2020      79141\n",
              "09-12-2020     558173\n",
              "09-12-2020     507995\n",
              "\n",
              "[1001 rows x 1 columns]"
            ]
          },
          "metadata": {
            "tags": []
          },
          "execution_count": 931
        }
      ]
    },
    {
      "cell_type": "code",
      "metadata": {
        "colab": {
          "base_uri": "https://localhost:8080/",
          "height": 315
        },
        "id": "qhWSzLuugDdD",
        "outputId": "4f041cd0-8d98-40ea-f3ee-db22b61d6ac3"
      },
      "source": [
        "\n",
        "ds3.plot(color='red')"
      ],
      "execution_count": null,
      "outputs": [
        {
          "output_type": "execute_result",
          "data": {
            "text/plain": [
              "<matplotlib.axes._subplots.AxesSubplot at 0x7f43a6685a50>"
            ]
          },
          "metadata": {
            "tags": []
          },
          "execution_count": 932
        },
        {
          "output_type": "display_data",
          "data": {
            "image/png": "[encoded data removed]",
            "text/plain": [
              "<Figure size 432x288 with 1 Axes>"
            ]
          },
          "metadata": {
            "tags": [],
            "needs_background": "light"
          }
        }
      ]
    },
    {
      "cell_type": "code",
      "metadata": {
        "colab": {
          "base_uri": "https://localhost:8080/",
          "height": 304
        },
        "id": "HCVs1bYNaNlU",
        "outputId": "2fae2e3f-4eda-4067-c067-3daedcff8c99"
      },
      "source": [
        "ds1.plot()"
      ],
      "execution_count": null,
      "outputs": [
        {
          "output_type": "execute_result",
          "data": {
            "text/plain": [
              "<matplotlib.axes._subplots.AxesSubplot at 0x7f43a665f610>"
            ]
          },
          "metadata": {
            "tags": []
          },
          "execution_count": 933
        },
        {
          "output_type": "display_data",
          "data": {
            "image/png": "[encoded data removed]",
            "text/plain": [
              "<Figure size 432x288 with 1 Axes>"
            ]
          },
          "metadata": {
            "tags": [],
            "needs_background": "light"
          }
        }
      ]
    },
    {
      "cell_type": "code",
      "metadata": {
        "id": "GVXSkSEdj6cH"
      },
      "source": [
        "ds1 = ds1.astype('float32')"
      ],
      "execution_count": null,
      "outputs": []
    },
    {
      "cell_type": "code",
      "metadata": {
        "id": "XbmgCUbxlTQ3"
      },
      "source": [
        "ds1=ds1.values"
      ],
      "execution_count": null,
      "outputs": []
    },
    {
      "cell_type": "code",
      "metadata": {
        "colab": {
          "base_uri": "https://localhost:8080/"
        },
        "id": "oC_mOr6cj6ei",
        "outputId": "b6774f45-9127-489a-c997-895e82528701"
      },
      "source": [
        "train_size = int(len(ds1) * 0.67)\n",
        "test_size = len(ds1) - train_size\n",
        "train, test = ds1[0:train_size,:], ds1[train_size:len(ds1),:]\n",
        "print(len(train), len(test))"
      ],
      "execution_count": null,
      "outputs": [
        {
          "output_type": "stream",
          "text": [
            "5554 2736\n"
          ],
          "name": "stdout"
        }
      ]
    },
    {
      "cell_type": "code",
      "metadata": {
        "id": "xxYirrH4j6hI"
      },
      "source": [
        "def create_ds1(ds1, look_back=1):\n",
        "\tdataX, dataY = [], []\n",
        "\tfor i in range(len(ds1)-look_back-1):\n",
        "\t\ta = ds1[i:(i+look_back), 0]\n",
        "\t\tdataX.append(a)\n",
        "\t\tdataY.append(ds1[i + look_back, 0])\n",
        "\treturn np.array(dataX), np.array(dataY)"
      ],
      "execution_count": null,
      "outputs": []
    },
    {
      "cell_type": "code",
      "metadata": {
        "id": "60YgeiQskCwo"
      },
      "source": [
        "look_back = 1\n",
        "trainX, trainY = create_ds1(train, look_back)\n",
        "testX, testY = create_ds1(test, look_back)\n",
        "\n",
        "# reshape input to be [samples, time steps, features]\n",
        "trainX = np.reshape(trainX, (trainX.shape[0], 1, trainX.shape[1]))\n",
        "testX = np.reshape(testX, (testX.shape[0], 1, testX.shape[1]))"
      ],
      "execution_count": null,
      "outputs": []
    },
    {
      "cell_type": "code",
      "metadata": {
        "id": "lpNFkFgMk5_2"
      },
      "source": [
        "import keras\n",
        "import tensorflow as tf\n",
        "from keras.models import Sequential\n",
        "from keras.layers import Dense,LSTM,Dropout\n",
        "from tensorflow.keras.callbacks import EarlyStopping"
      ],
      "execution_count": null,
      "outputs": []
    },
    {
      "cell_type": "code",
      "metadata": {
        "id": "uJcK-l1hmePk"
      },
      "source": [
        "model=Sequential()"
      ],
      "execution_count": null,
      "outputs": []
    },
    {
      "cell_type": "code",
      "metadata": {
        "id": "ZCyR61zVmi9Y"
      },
      "source": [
        "model.add(LSTM(4, input_shape=(1, look_back)))\n",
        "model.add(Dense(1))"
      ],
      "execution_count": null,
      "outputs": []
    },
    {
      "cell_type": "code",
      "metadata": {
        "colab": {
          "base_uri": "https://localhost:8080/"
        },
        "id": "P_K1Osxmmwhl",
        "outputId": "f472d4ef-68e0-4827-9c95-16148206a1fc"
      },
      "source": [
        "model.summary()"
      ],
      "execution_count": null,
      "outputs": [
        {
          "output_type": "stream",
          "text": [
            "Model: \"sequential_31\"\n",
            "_________________________________________________________________\n",
            "Layer (type)                 Output Shape              Param #   \n",
            "=================================================================\n",
            "lstm_74 (LSTM)               (None, 4)                 96        \n",
            "_________________________________________________________________\n",
            "dense_24 (Dense)             (None, 1)                 5         \n",
            "=================================================================\n",
            "Total params: 101\n",
            "Trainable params: 101\n",
            "Non-trainable params: 0\n",
            "_________________________________________________________________\n"
          ],
          "name": "stdout"
        }
      ]
    },
    {
      "cell_type": "code",
      "metadata": {
        "colab": {
          "base_uri": "https://localhost:8080/"
        },
        "id": "MQnJKdZhpJ-3",
        "outputId": "634687ba-2bc1-495f-ce87-2a9ca6363011"
      },
      "source": [
        "model.compile(optimizer='adam',loss='mean_squared_error',metrics=['mse'])\n",
        "history=model.fit(trainX,trainY,epochs=30,batch_size=1,verbose=1,shuffle=False,validation_data=(testX,testY),callbacks=[EarlyStopping(monitor='mse', patience=10)])"
      ],
      "execution_count": null,
      "outputs": [
        {
          "output_type": "stream",
          "text": [
            "Epoch 1/30\n",
            "5552/5552 [==============================] - 11s 2ms/step - loss: 1.1598e-04 - mse: 1.1598e-04 - val_loss: 0.0284 - val_mse: 0.0284\n",
            "Epoch 2/30\n",
            "5552/5552 [==============================] - 9s 2ms/step - loss: 2.1956e-04 - mse: 2.1956e-04 - val_loss: 0.0284 - val_mse: 0.0284\n",
            "Epoch 3/30\n",
            "5552/5552 [==============================] - 10s 2ms/step - loss: 2.2070e-04 - mse: 2.2070e-04 - val_loss: 0.0284 - val_mse: 0.0284\n",
            "Epoch 4/30\n",
            "5552/5552 [==============================] - 10s 2ms/step - loss: 2.2152e-04 - mse: 2.2152e-04 - val_loss: 0.0284 - val_mse: 0.0284\n",
            "Epoch 5/30\n",
            "5552/5552 [==============================] - 10s 2ms/step - loss: 2.2222e-04 - mse: 2.2222e-04 - val_loss: 0.0284 - val_mse: 0.0284\n",
            "Epoch 6/30\n",
            "5552/5552 [==============================] - 10s 2ms/step - loss: 2.2281e-04 - mse: 2.2281e-04 - val_loss: 0.0284 - val_mse: 0.0284\n",
            "Epoch 7/30\n",
            "5552/5552 [==============================] - 10s 2ms/step - loss: 2.2333e-04 - mse: 2.2333e-04 - val_loss: 0.0284 - val_mse: 0.0284\n",
            "Epoch 8/30\n",
            "5552/5552 [==============================] - 10s 2ms/step - loss: 2.2379e-04 - mse: 2.2379e-04 - val_loss: 0.0284 - val_mse: 0.0284\n",
            "Epoch 9/30\n",
            "5552/5552 [==============================] - 9s 2ms/step - loss: 2.2421e-04 - mse: 2.2421e-04 - val_loss: 0.0284 - val_mse: 0.0284\n",
            "Epoch 10/30\n",
            "5552/5552 [==============================] - 10s 2ms/step - loss: 2.2459e-04 - mse: 2.2459e-04 - val_loss: 0.0284 - val_mse: 0.0284\n",
            "Epoch 11/30\n",
            "5552/5552 [==============================] - 10s 2ms/step - loss: 2.2493e-04 - mse: 2.2493e-04 - val_loss: 0.0284 - val_mse: 0.0284\n"
          ],
          "name": "stdout"
        }
      ]
    },
    {
      "cell_type": "code",
      "metadata": {
        "colab": {
          "base_uri": "https://localhost:8080/",
          "height": 302
        },
        "id": "dzARN-YvkqYv",
        "outputId": "03cb6b73-f3d7-4387-cd3e-7dd7440b8597"
      },
      "source": [
        "plt.figure(figsize=(8,4))\n",
        "plt.plot(history.history['loss'], label='Train Loss')\n",
        "plt.plot(history.history['val_loss'], label='Test Loss')\n",
        "plt.title('model loss')\n",
        "plt.ylabel('loss')\n",
        "plt.xlabel('epochs')\n",
        "plt.legend(loc='upper right')\n",
        "plt.show();"
      ],
      "execution_count": null,
      "outputs": [
        {
          "output_type": "display_data",
          "data": {
            "image/png": "[encoded data removed]",
            "text/plain": [
              "<Figure size 576x288 with 1 Axes>"
            ]
          },
          "metadata": {
            "tags": [],
            "needs_background": "light"
          }
        }
      ]
    },
    {
      "cell_type": "code",
      "metadata": {
        "colab": {
          "base_uri": "https://localhost:8080/"
        },
        "id": "vKvBCKdGh1RX",
        "outputId": "78f1f2b9-0fda-4aac-a052-d1e2e43061f3"
      },
      "source": [
        "from sklearn.metrics import mean_squared_error\n",
        "import math\n",
        "trainPredict = model.predict(trainX)\n",
        "testPredict = model.predict(testX)\n",
        "# invert predictions\n",
        "trainPredict = ss.inverse_transform(trainPredict)\n",
        "trainY = ss.inverse_transform([trainY])\n",
        "testPredict = ss.inverse_transform(testPredict)\n",
        "testY = ss.inverse_transform([testY])\n",
        "# calculate root mean squared error\n",
        "trainScore = math.sqrt(mean_squared_error(trainY[0], trainPredict[:,0]))\n",
        "print('Train Score: %.2f RMSE' % (trainScore))\n",
        "testScore = math.sqrt(mean_squared_error(testY[0], testPredict[:,0]))\n",
        "print('Test Score: %.2f RMSE' % (testScore))"
      ],
      "execution_count": null,
      "outputs": [
        {
          "output_type": "stream",
          "text": [
            "Train Score: 101394.18 RMSE\n",
            "Test Score: 290182.58 RMSE\n"
          ],
          "name": "stdout"
        }
      ]
    },
    {
      "cell_type": "code",
      "metadata": {
        "colab": {
          "base_uri": "https://localhost:8080/",
          "height": 281
        },
        "id": "Vzw121iLkQV1",
        "outputId": "ee7f33da-7842-4a33-9f98-155e49ac693c"
      },
      "source": [
        "trainPredictPlot = np.empty_like(ds1)\n",
        "trainPredictPlot[:, :] = np.nan\n",
        "trainPredictPlot[look_back:len(trainPredict)+look_back, :] = trainPredict\n",
        "# shift test predictions for plotting\n",
        "testPredictPlot = np.empty_like(ds1)\n",
        "testPredictPlot[:, :] = np.nan\n",
        "testPredictPlot[len(trainPredict)+(look_back*2)+1:len(ds1)-1, :] = testPredict\n",
        "# plot baseline and predictions\n",
        "plt.plot(ss.inverse_transform(ds1))\n",
        "plt.plot(trainPredictPlot)\n",
        "plt.plot(testPredictPlot)\n",
        "plt.show()"
      ],
      "execution_count": null,
      "outputs": [
        {
          "output_type": "display_data",
          "data": {
            "image/png": "[encoded data removed]",
            "text/plain": [
              "<Figure size 432x288 with 1 Axes>"
            ]
          },
          "metadata": {
            "tags": [],
            "needs_background": "light"
          }
        }
      ]
    },
    {
      "cell_type": "code",
      "metadata": {
        "colab": {
          "base_uri": "https://localhost:8080/",
          "height": 285
        },
        "id": "e0txRSy3kQY5",
        "outputId": "2d5bb11e-234e-4be8-a08a-9ada708cbd4d"
      },
      "source": [
        "plt.plot(trainPredictPlot)\n",
        "\n"
      ],
      "execution_count": null,
      "outputs": [
        {
          "output_type": "execute_result",
          "data": {
            "text/plain": [
              "[<matplotlib.lines.Line2D at 0x7f43a5677710>]"
            ]
          },
          "metadata": {
            "tags": []
          },
          "execution_count": 947
        },
        {
          "output_type": "display_data",
          "data": {
            "image/png": "[encoded data removed]",
            "text/plain": [
              "<Figure size 432x288 with 1 Axes>"
            ]
          },
          "metadata": {
            "tags": [],
            "needs_background": "light"
          }
        }
      ]
    },
    {
      "cell_type": "code",
      "metadata": {
        "colab": {
          "base_uri": "https://localhost:8080/",
          "height": 285
        },
        "id": "iTCj1QR2ozqA",
        "outputId": "54de639c-9c37-4cf8-827a-4f0a80bea848"
      },
      "source": [
        "plt.plot(testPredictPlot)"
      ],
      "execution_count": null,
      "outputs": [
        {
          "output_type": "execute_result",
          "data": {
            "text/plain": [
              "[<matplotlib.lines.Line2D at 0x7f43a5660110>]"
            ]
          },
          "metadata": {
            "tags": []
          },
          "execution_count": 948
        },
        {
          "output_type": "display_data",
          "data": {
            "image/png": "[encoded data removed]",
            "text/plain": [
              "<Figure size 432x288 with 1 Axes>"
            ]
          },
          "metadata": {
            "tags": [],
            "needs_background": "light"
          }
        }
      ]
    },
    {
      "cell_type": "code",
      "metadata": {
        "id": "x2gYS1TOo0Fz"
      },
      "source": [
        ""
      ],
      "execution_count": null,
      "outputs": []
    }
  ]
}