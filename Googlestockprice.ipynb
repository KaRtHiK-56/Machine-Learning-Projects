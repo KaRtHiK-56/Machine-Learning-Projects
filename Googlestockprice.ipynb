{
  "nbformat": 4,
  "nbformat_minor": 0,
  "metadata": {
    "colab": {
      "name": "Googlestockprice.ipynb",
      "provenance": [],
      "collapsed_sections": [],
      "authorship_tag": "ABX9TyOl/X1IDNpmjo5/WeFT9vkU",
      "include_colab_link": true
    },
    "kernelspec": {
      "name": "python3",
      "display_name": "Python 3"
    }
  },
  "cells": [
    {
      "cell_type": "markdown",
      "metadata": {
        "id": "view-in-github",
        "colab_type": "text"
      },
      "source": [
        "<a href=\"https://colab.research.google.com/github/VegetaSan1/Machine-Learning-Projects/blob/main/Googlestockprice.ipynb\" target=\"_parent\"><img src=\"https://colab.research.google.com/assets/colab-badge.svg\" alt=\"Open In Colab\"/></a>"
      ]
    },
    {
      "cell_type": "code",
      "metadata": {
        "id": "9jC9PzEA_2qW"
      },
      "source": [
        "import pandas as pd \n",
        "import numpy as np \n",
        "import matplotlib.pyplot as plt"
      ],
      "execution_count": null,
      "outputs": []
    },
    {
      "cell_type": "code",
      "metadata": {
        "id": "4amANLZQA2LY"
      },
      "source": [
        "train=pd.read_csv('trainset.csv')\n",
        "test=pd.read_csv('testset.csv')"
      ],
      "execution_count": null,
      "outputs": []
    },
    {
      "cell_type": "code",
      "metadata": {
        "colab": {
          "base_uri": "https://localhost:8080/",
          "height": 419
        },
        "id": "OYLNF0LWBFqi",
        "outputId": "6d59fc96-88b6-48c2-b4c9-4df851422102"
      },
      "source": [
        "train"
      ],
      "execution_count": null,
      "outputs": [
        {
          "output_type": "execute_result",
          "data": {
            "text/html": [
              "<div>\n",
              "<style scoped>\n",
              "    .dataframe tbody tr th:only-of-type {\n",
              "        vertical-align: middle;\n",
              "    }\n",
              "\n",
              "    .dataframe tbody tr th {\n",
              "        vertical-align: top;\n",
              "    }\n",
              "\n",
              "    .dataframe thead th {\n",
              "        text-align: right;\n",
              "    }\n",
              "</style>\n",
              "<table border=\"1\" class=\"dataframe\">\n",
              "  <thead>\n",
              "    <tr style=\"text-align: right;\">\n",
              "      <th></th>\n",
              "      <th>Date</th>\n",
              "      <th>Open</th>\n",
              "      <th>High</th>\n",
              "      <th>Low</th>\n",
              "      <th>Close</th>\n",
              "      <th>Adj Close</th>\n",
              "      <th>Volume</th>\n",
              "    </tr>\n",
              "  </thead>\n",
              "  <tbody>\n",
              "    <tr>\n",
              "      <th>0</th>\n",
              "      <td>2013-01-02</td>\n",
              "      <td>357.385559</td>\n",
              "      <td>361.151062</td>\n",
              "      <td>355.959839</td>\n",
              "      <td>359.288177</td>\n",
              "      <td>359.288177</td>\n",
              "      <td>5115500</td>\n",
              "    </tr>\n",
              "    <tr>\n",
              "      <th>1</th>\n",
              "      <td>2013-01-03</td>\n",
              "      <td>360.122742</td>\n",
              "      <td>363.600128</td>\n",
              "      <td>358.031342</td>\n",
              "      <td>359.496826</td>\n",
              "      <td>359.496826</td>\n",
              "      <td>4666500</td>\n",
              "    </tr>\n",
              "    <tr>\n",
              "      <th>2</th>\n",
              "      <td>2013-01-04</td>\n",
              "      <td>362.313507</td>\n",
              "      <td>368.339294</td>\n",
              "      <td>361.488861</td>\n",
              "      <td>366.600616</td>\n",
              "      <td>366.600616</td>\n",
              "      <td>5562800</td>\n",
              "    </tr>\n",
              "    <tr>\n",
              "      <th>3</th>\n",
              "      <td>2013-01-07</td>\n",
              "      <td>365.348755</td>\n",
              "      <td>367.301056</td>\n",
              "      <td>362.929504</td>\n",
              "      <td>365.001007</td>\n",
              "      <td>365.001007</td>\n",
              "      <td>3332900</td>\n",
              "    </tr>\n",
              "    <tr>\n",
              "      <th>4</th>\n",
              "      <td>2013-01-08</td>\n",
              "      <td>365.393463</td>\n",
              "      <td>365.771027</td>\n",
              "      <td>359.874359</td>\n",
              "      <td>364.280701</td>\n",
              "      <td>364.280701</td>\n",
              "      <td>3373900</td>\n",
              "    </tr>\n",
              "    <tr>\n",
              "      <th>...</th>\n",
              "      <td>...</td>\n",
              "      <td>...</td>\n",
              "      <td>...</td>\n",
              "      <td>...</td>\n",
              "      <td>...</td>\n",
              "      <td>...</td>\n",
              "      <td>...</td>\n",
              "    </tr>\n",
              "    <tr>\n",
              "      <th>1254</th>\n",
              "      <td>2017-12-22</td>\n",
              "      <td>1061.109985</td>\n",
              "      <td>1064.199951</td>\n",
              "      <td>1059.439941</td>\n",
              "      <td>1060.119995</td>\n",
              "      <td>1060.119995</td>\n",
              "      <td>755100</td>\n",
              "    </tr>\n",
              "    <tr>\n",
              "      <th>1255</th>\n",
              "      <td>2017-12-26</td>\n",
              "      <td>1058.069946</td>\n",
              "      <td>1060.119995</td>\n",
              "      <td>1050.199951</td>\n",
              "      <td>1056.739990</td>\n",
              "      <td>1056.739990</td>\n",
              "      <td>760600</td>\n",
              "    </tr>\n",
              "    <tr>\n",
              "      <th>1256</th>\n",
              "      <td>2017-12-27</td>\n",
              "      <td>1057.390015</td>\n",
              "      <td>1058.369995</td>\n",
              "      <td>1048.050049</td>\n",
              "      <td>1049.369995</td>\n",
              "      <td>1049.369995</td>\n",
              "      <td>1271900</td>\n",
              "    </tr>\n",
              "    <tr>\n",
              "      <th>1257</th>\n",
              "      <td>2017-12-28</td>\n",
              "      <td>1051.599976</td>\n",
              "      <td>1054.750000</td>\n",
              "      <td>1044.770020</td>\n",
              "      <td>1048.140015</td>\n",
              "      <td>1048.140015</td>\n",
              "      <td>837100</td>\n",
              "    </tr>\n",
              "    <tr>\n",
              "      <th>1258</th>\n",
              "      <td>2017-12-29</td>\n",
              "      <td>1046.719971</td>\n",
              "      <td>1049.699951</td>\n",
              "      <td>1044.900024</td>\n",
              "      <td>1046.400024</td>\n",
              "      <td>1046.400024</td>\n",
              "      <td>887500</td>\n",
              "    </tr>\n",
              "  </tbody>\n",
              "</table>\n",
              "<p>1259 rows × 7 columns</p>\n",
              "</div>"
            ],
            "text/plain": [
              "            Date         Open         High  ...        Close    Adj Close   Volume\n",
              "0     2013-01-02   357.385559   361.151062  ...   359.288177   359.288177  5115500\n",
              "1     2013-01-03   360.122742   363.600128  ...   359.496826   359.496826  4666500\n",
              "2     2013-01-04   362.313507   368.339294  ...   366.600616   366.600616  5562800\n",
              "3     2013-01-07   365.348755   367.301056  ...   365.001007   365.001007  3332900\n",
              "4     2013-01-08   365.393463   365.771027  ...   364.280701   364.280701  3373900\n",
              "...          ...          ...          ...  ...          ...          ...      ...\n",
              "1254  2017-12-22  1061.109985  1064.199951  ...  1060.119995  1060.119995   755100\n",
              "1255  2017-12-26  1058.069946  1060.119995  ...  1056.739990  1056.739990   760600\n",
              "1256  2017-12-27  1057.390015  1058.369995  ...  1049.369995  1049.369995  1271900\n",
              "1257  2017-12-28  1051.599976  1054.750000  ...  1048.140015  1048.140015   837100\n",
              "1258  2017-12-29  1046.719971  1049.699951  ...  1046.400024  1046.400024   887500\n",
              "\n",
              "[1259 rows x 7 columns]"
            ]
          },
          "metadata": {
            "tags": []
          },
          "execution_count": 3
        }
      ]
    },
    {
      "cell_type": "code",
      "metadata": {
        "colab": {
          "base_uri": "https://localhost:8080/",
          "height": 419
        },
        "id": "hQYrHagNBGOm",
        "outputId": "54abf506-a979-4d80-b31c-3b422208753a"
      },
      "source": [
        "test"
      ],
      "execution_count": null,
      "outputs": [
        {
          "output_type": "execute_result",
          "data": {
            "text/html": [
              "<div>\n",
              "<style scoped>\n",
              "    .dataframe tbody tr th:only-of-type {\n",
              "        vertical-align: middle;\n",
              "    }\n",
              "\n",
              "    .dataframe tbody tr th {\n",
              "        vertical-align: top;\n",
              "    }\n",
              "\n",
              "    .dataframe thead th {\n",
              "        text-align: right;\n",
              "    }\n",
              "</style>\n",
              "<table border=\"1\" class=\"dataframe\">\n",
              "  <thead>\n",
              "    <tr style=\"text-align: right;\">\n",
              "      <th></th>\n",
              "      <th>Date</th>\n",
              "      <th>Open</th>\n",
              "      <th>High</th>\n",
              "      <th>Low</th>\n",
              "      <th>Close</th>\n",
              "      <th>Adj Close</th>\n",
              "      <th>Volume</th>\n",
              "    </tr>\n",
              "  </thead>\n",
              "  <tbody>\n",
              "    <tr>\n",
              "      <th>0</th>\n",
              "      <td>2018-01-02</td>\n",
              "      <td>1048.339966</td>\n",
              "      <td>1066.939941</td>\n",
              "      <td>1045.229980</td>\n",
              "      <td>1065.000000</td>\n",
              "      <td>1065.000000</td>\n",
              "      <td>1237600</td>\n",
              "    </tr>\n",
              "    <tr>\n",
              "      <th>1</th>\n",
              "      <td>2018-01-03</td>\n",
              "      <td>1064.310059</td>\n",
              "      <td>1086.290039</td>\n",
              "      <td>1063.209961</td>\n",
              "      <td>1082.479980</td>\n",
              "      <td>1082.479980</td>\n",
              "      <td>1430200</td>\n",
              "    </tr>\n",
              "    <tr>\n",
              "      <th>2</th>\n",
              "      <td>2018-01-04</td>\n",
              "      <td>1088.000000</td>\n",
              "      <td>1093.569946</td>\n",
              "      <td>1084.001953</td>\n",
              "      <td>1086.400024</td>\n",
              "      <td>1086.400024</td>\n",
              "      <td>1004600</td>\n",
              "    </tr>\n",
              "    <tr>\n",
              "      <th>3</th>\n",
              "      <td>2018-01-05</td>\n",
              "      <td>1094.000000</td>\n",
              "      <td>1104.250000</td>\n",
              "      <td>1092.000000</td>\n",
              "      <td>1102.229980</td>\n",
              "      <td>1102.229980</td>\n",
              "      <td>1279100</td>\n",
              "    </tr>\n",
              "    <tr>\n",
              "      <th>4</th>\n",
              "      <td>2018-01-08</td>\n",
              "      <td>1102.229980</td>\n",
              "      <td>1111.270020</td>\n",
              "      <td>1101.619995</td>\n",
              "      <td>1106.939941</td>\n",
              "      <td>1106.939941</td>\n",
              "      <td>1047600</td>\n",
              "    </tr>\n",
              "    <tr>\n",
              "      <th>...</th>\n",
              "      <td>...</td>\n",
              "      <td>...</td>\n",
              "      <td>...</td>\n",
              "      <td>...</td>\n",
              "      <td>...</td>\n",
              "      <td>...</td>\n",
              "      <td>...</td>\n",
              "    </tr>\n",
              "    <tr>\n",
              "      <th>120</th>\n",
              "      <td>2018-06-25</td>\n",
              "      <td>1143.599976</td>\n",
              "      <td>1143.910034</td>\n",
              "      <td>1112.780029</td>\n",
              "      <td>1124.810059</td>\n",
              "      <td>1124.810059</td>\n",
              "      <td>2157300</td>\n",
              "    </tr>\n",
              "    <tr>\n",
              "      <th>121</th>\n",
              "      <td>2018-06-26</td>\n",
              "      <td>1128.000000</td>\n",
              "      <td>1133.209961</td>\n",
              "      <td>1116.659058</td>\n",
              "      <td>1118.459961</td>\n",
              "      <td>1118.459961</td>\n",
              "      <td>1563200</td>\n",
              "    </tr>\n",
              "    <tr>\n",
              "      <th>122</th>\n",
              "      <td>2018-06-27</td>\n",
              "      <td>1121.339966</td>\n",
              "      <td>1131.836060</td>\n",
              "      <td>1103.619995</td>\n",
              "      <td>1103.979980</td>\n",
              "      <td>1103.979980</td>\n",
              "      <td>1293900</td>\n",
              "    </tr>\n",
              "    <tr>\n",
              "      <th>123</th>\n",
              "      <td>2018-06-28</td>\n",
              "      <td>1102.089966</td>\n",
              "      <td>1122.310059</td>\n",
              "      <td>1096.010010</td>\n",
              "      <td>1114.219971</td>\n",
              "      <td>1114.219971</td>\n",
              "      <td>1072400</td>\n",
              "    </tr>\n",
              "    <tr>\n",
              "      <th>124</th>\n",
              "      <td>2018-06-29</td>\n",
              "      <td>1120.000000</td>\n",
              "      <td>1128.227051</td>\n",
              "      <td>1115.000000</td>\n",
              "      <td>1115.650024</td>\n",
              "      <td>1115.650024</td>\n",
              "      <td>1315100</td>\n",
              "    </tr>\n",
              "  </tbody>\n",
              "</table>\n",
              "<p>125 rows × 7 columns</p>\n",
              "</div>"
            ],
            "text/plain": [
              "           Date         Open         High  ...        Close    Adj Close   Volume\n",
              "0    2018-01-02  1048.339966  1066.939941  ...  1065.000000  1065.000000  1237600\n",
              "1    2018-01-03  1064.310059  1086.290039  ...  1082.479980  1082.479980  1430200\n",
              "2    2018-01-04  1088.000000  1093.569946  ...  1086.400024  1086.400024  1004600\n",
              "3    2018-01-05  1094.000000  1104.250000  ...  1102.229980  1102.229980  1279100\n",
              "4    2018-01-08  1102.229980  1111.270020  ...  1106.939941  1106.939941  1047600\n",
              "..          ...          ...          ...  ...          ...          ...      ...\n",
              "120  2018-06-25  1143.599976  1143.910034  ...  1124.810059  1124.810059  2157300\n",
              "121  2018-06-26  1128.000000  1133.209961  ...  1118.459961  1118.459961  1563200\n",
              "122  2018-06-27  1121.339966  1131.836060  ...  1103.979980  1103.979980  1293900\n",
              "123  2018-06-28  1102.089966  1122.310059  ...  1114.219971  1114.219971  1072400\n",
              "124  2018-06-29  1120.000000  1128.227051  ...  1115.650024  1115.650024  1315100\n",
              "\n",
              "[125 rows x 7 columns]"
            ]
          },
          "metadata": {
            "tags": []
          },
          "execution_count": 4
        }
      ]
    },
    {
      "cell_type": "code",
      "metadata": {
        "id": "d2Nfe3N0BGkH"
      },
      "source": [
        "train1=train\n",
        "test1=test"
      ],
      "execution_count": null,
      "outputs": []
    },
    {
      "cell_type": "code",
      "metadata": {
        "id": "_IY3UeYfBQEx"
      },
      "source": [
        "del train1['Open']\n",
        "del train1['High']\n",
        "del train1['Low']\n",
        "del train1['Adj Close']\n",
        "del train1['Volume']\n",
        "del test1['Open']\n",
        "del test1['High']\n",
        "del test1['Low']\n",
        "del test1['Adj Close']\n",
        "del test1['Volume']"
      ],
      "execution_count": null,
      "outputs": []
    },
    {
      "cell_type": "code",
      "metadata": {
        "colab": {
          "base_uri": "https://localhost:8080/",
          "height": 419
        },
        "id": "Wp0kB14cBl7d",
        "outputId": "4c88d5a5-cc08-4b45-f3f7-1470267ca17e"
      },
      "source": [
        "train1"
      ],
      "execution_count": null,
      "outputs": [
        {
          "output_type": "execute_result",
          "data": {
            "text/html": [
              "<div>\n",
              "<style scoped>\n",
              "    .dataframe tbody tr th:only-of-type {\n",
              "        vertical-align: middle;\n",
              "    }\n",
              "\n",
              "    .dataframe tbody tr th {\n",
              "        vertical-align: top;\n",
              "    }\n",
              "\n",
              "    .dataframe thead th {\n",
              "        text-align: right;\n",
              "    }\n",
              "</style>\n",
              "<table border=\"1\" class=\"dataframe\">\n",
              "  <thead>\n",
              "    <tr style=\"text-align: right;\">\n",
              "      <th></th>\n",
              "      <th>Date</th>\n",
              "      <th>Close</th>\n",
              "    </tr>\n",
              "  </thead>\n",
              "  <tbody>\n",
              "    <tr>\n",
              "      <th>0</th>\n",
              "      <td>2013-01-02</td>\n",
              "      <td>359.288177</td>\n",
              "    </tr>\n",
              "    <tr>\n",
              "      <th>1</th>\n",
              "      <td>2013-01-03</td>\n",
              "      <td>359.496826</td>\n",
              "    </tr>\n",
              "    <tr>\n",
              "      <th>2</th>\n",
              "      <td>2013-01-04</td>\n",
              "      <td>366.600616</td>\n",
              "    </tr>\n",
              "    <tr>\n",
              "      <th>3</th>\n",
              "      <td>2013-01-07</td>\n",
              "      <td>365.001007</td>\n",
              "    </tr>\n",
              "    <tr>\n",
              "      <th>4</th>\n",
              "      <td>2013-01-08</td>\n",
              "      <td>364.280701</td>\n",
              "    </tr>\n",
              "    <tr>\n",
              "      <th>...</th>\n",
              "      <td>...</td>\n",
              "      <td>...</td>\n",
              "    </tr>\n",
              "    <tr>\n",
              "      <th>1254</th>\n",
              "      <td>2017-12-22</td>\n",
              "      <td>1060.119995</td>\n",
              "    </tr>\n",
              "    <tr>\n",
              "      <th>1255</th>\n",
              "      <td>2017-12-26</td>\n",
              "      <td>1056.739990</td>\n",
              "    </tr>\n",
              "    <tr>\n",
              "      <th>1256</th>\n",
              "      <td>2017-12-27</td>\n",
              "      <td>1049.369995</td>\n",
              "    </tr>\n",
              "    <tr>\n",
              "      <th>1257</th>\n",
              "      <td>2017-12-28</td>\n",
              "      <td>1048.140015</td>\n",
              "    </tr>\n",
              "    <tr>\n",
              "      <th>1258</th>\n",
              "      <td>2017-12-29</td>\n",
              "      <td>1046.400024</td>\n",
              "    </tr>\n",
              "  </tbody>\n",
              "</table>\n",
              "<p>1259 rows × 2 columns</p>\n",
              "</div>"
            ],
            "text/plain": [
              "            Date        Close\n",
              "0     2013-01-02   359.288177\n",
              "1     2013-01-03   359.496826\n",
              "2     2013-01-04   366.600616\n",
              "3     2013-01-07   365.001007\n",
              "4     2013-01-08   364.280701\n",
              "...          ...          ...\n",
              "1254  2017-12-22  1060.119995\n",
              "1255  2017-12-26  1056.739990\n",
              "1256  2017-12-27  1049.369995\n",
              "1257  2017-12-28  1048.140015\n",
              "1258  2017-12-29  1046.400024\n",
              "\n",
              "[1259 rows x 2 columns]"
            ]
          },
          "metadata": {
            "tags": []
          },
          "execution_count": 7
        }
      ]
    },
    {
      "cell_type": "code",
      "metadata": {
        "colab": {
          "base_uri": "https://localhost:8080/",
          "height": 419
        },
        "id": "1dyrDN_bBoIn",
        "outputId": "15231984-83ed-4024-cd41-fe46160eb42f"
      },
      "source": [
        "test1"
      ],
      "execution_count": null,
      "outputs": [
        {
          "output_type": "execute_result",
          "data": {
            "text/html": [
              "<div>\n",
              "<style scoped>\n",
              "    .dataframe tbody tr th:only-of-type {\n",
              "        vertical-align: middle;\n",
              "    }\n",
              "\n",
              "    .dataframe tbody tr th {\n",
              "        vertical-align: top;\n",
              "    }\n",
              "\n",
              "    .dataframe thead th {\n",
              "        text-align: right;\n",
              "    }\n",
              "</style>\n",
              "<table border=\"1\" class=\"dataframe\">\n",
              "  <thead>\n",
              "    <tr style=\"text-align: right;\">\n",
              "      <th></th>\n",
              "      <th>Date</th>\n",
              "      <th>Close</th>\n",
              "    </tr>\n",
              "  </thead>\n",
              "  <tbody>\n",
              "    <tr>\n",
              "      <th>0</th>\n",
              "      <td>2018-01-02</td>\n",
              "      <td>1065.000000</td>\n",
              "    </tr>\n",
              "    <tr>\n",
              "      <th>1</th>\n",
              "      <td>2018-01-03</td>\n",
              "      <td>1082.479980</td>\n",
              "    </tr>\n",
              "    <tr>\n",
              "      <th>2</th>\n",
              "      <td>2018-01-04</td>\n",
              "      <td>1086.400024</td>\n",
              "    </tr>\n",
              "    <tr>\n",
              "      <th>3</th>\n",
              "      <td>2018-01-05</td>\n",
              "      <td>1102.229980</td>\n",
              "    </tr>\n",
              "    <tr>\n",
              "      <th>4</th>\n",
              "      <td>2018-01-08</td>\n",
              "      <td>1106.939941</td>\n",
              "    </tr>\n",
              "    <tr>\n",
              "      <th>...</th>\n",
              "      <td>...</td>\n",
              "      <td>...</td>\n",
              "    </tr>\n",
              "    <tr>\n",
              "      <th>120</th>\n",
              "      <td>2018-06-25</td>\n",
              "      <td>1124.810059</td>\n",
              "    </tr>\n",
              "    <tr>\n",
              "      <th>121</th>\n",
              "      <td>2018-06-26</td>\n",
              "      <td>1118.459961</td>\n",
              "    </tr>\n",
              "    <tr>\n",
              "      <th>122</th>\n",
              "      <td>2018-06-27</td>\n",
              "      <td>1103.979980</td>\n",
              "    </tr>\n",
              "    <tr>\n",
              "      <th>123</th>\n",
              "      <td>2018-06-28</td>\n",
              "      <td>1114.219971</td>\n",
              "    </tr>\n",
              "    <tr>\n",
              "      <th>124</th>\n",
              "      <td>2018-06-29</td>\n",
              "      <td>1115.650024</td>\n",
              "    </tr>\n",
              "  </tbody>\n",
              "</table>\n",
              "<p>125 rows × 2 columns</p>\n",
              "</div>"
            ],
            "text/plain": [
              "           Date        Close\n",
              "0    2018-01-02  1065.000000\n",
              "1    2018-01-03  1082.479980\n",
              "2    2018-01-04  1086.400024\n",
              "3    2018-01-05  1102.229980\n",
              "4    2018-01-08  1106.939941\n",
              "..          ...          ...\n",
              "120  2018-06-25  1124.810059\n",
              "121  2018-06-26  1118.459961\n",
              "122  2018-06-27  1103.979980\n",
              "123  2018-06-28  1114.219971\n",
              "124  2018-06-29  1115.650024\n",
              "\n",
              "[125 rows x 2 columns]"
            ]
          },
          "metadata": {
            "tags": []
          },
          "execution_count": 8
        }
      ]
    },
    {
      "cell_type": "code",
      "metadata": {
        "colab": {
          "base_uri": "https://localhost:8080/"
        },
        "id": "2Z5iLbJmCmBx",
        "outputId": "a8f76ae1-ed5b-4289-d63a-8703481da764"
      },
      "source": [
        "train1.info()"
      ],
      "execution_count": null,
      "outputs": [
        {
          "output_type": "stream",
          "text": [
            "<class 'pandas.core.frame.DataFrame'>\n",
            "RangeIndex: 1259 entries, 0 to 1258\n",
            "Data columns (total 2 columns):\n",
            " #   Column  Non-Null Count  Dtype  \n",
            "---  ------  --------------  -----  \n",
            " 0   Date    1259 non-null   object \n",
            " 1   Close   1259 non-null   float64\n",
            "dtypes: float64(1), object(1)\n",
            "memory usage: 19.8+ KB\n"
          ],
          "name": "stdout"
        }
      ]
    },
    {
      "cell_type": "code",
      "metadata": {
        "colab": {
          "base_uri": "https://localhost:8080/",
          "height": 297
        },
        "id": "HRM9_-dwChtI",
        "outputId": "706c430c-2aee-442c-b836-c8d11696084e"
      },
      "source": [
        "train1.describe()"
      ],
      "execution_count": null,
      "outputs": [
        {
          "output_type": "execute_result",
          "data": {
            "text/html": [
              "<div>\n",
              "<style scoped>\n",
              "    .dataframe tbody tr th:only-of-type {\n",
              "        vertical-align: middle;\n",
              "    }\n",
              "\n",
              "    .dataframe tbody tr th {\n",
              "        vertical-align: top;\n",
              "    }\n",
              "\n",
              "    .dataframe thead th {\n",
              "        text-align: right;\n",
              "    }\n",
              "</style>\n",
              "<table border=\"1\" class=\"dataframe\">\n",
              "  <thead>\n",
              "    <tr style=\"text-align: right;\">\n",
              "      <th></th>\n",
              "      <th>Close</th>\n",
              "    </tr>\n",
              "  </thead>\n",
              "  <tbody>\n",
              "    <tr>\n",
              "      <th>count</th>\n",
              "      <td>1259.000000</td>\n",
              "    </tr>\n",
              "    <tr>\n",
              "      <th>mean</th>\n",
              "      <td>652.657015</td>\n",
              "    </tr>\n",
              "    <tr>\n",
              "      <th>std</th>\n",
              "      <td>175.820993</td>\n",
              "    </tr>\n",
              "    <tr>\n",
              "      <th>min</th>\n",
              "      <td>349.164032</td>\n",
              "    </tr>\n",
              "    <tr>\n",
              "      <th>25%</th>\n",
              "      <td>528.429413</td>\n",
              "    </tr>\n",
              "    <tr>\n",
              "      <th>50%</th>\n",
              "      <td>598.005554</td>\n",
              "    </tr>\n",
              "    <tr>\n",
              "      <th>75%</th>\n",
              "      <td>772.720002</td>\n",
              "    </tr>\n",
              "    <tr>\n",
              "      <th>max</th>\n",
              "      <td>1077.140015</td>\n",
              "    </tr>\n",
              "  </tbody>\n",
              "</table>\n",
              "</div>"
            ],
            "text/plain": [
              "             Close\n",
              "count  1259.000000\n",
              "mean    652.657015\n",
              "std     175.820993\n",
              "min     349.164032\n",
              "25%     528.429413\n",
              "50%     598.005554\n",
              "75%     772.720002\n",
              "max    1077.140015"
            ]
          },
          "metadata": {
            "tags": []
          },
          "execution_count": 10
        }
      ]
    },
    {
      "cell_type": "code",
      "metadata": {
        "colab": {
          "base_uri": "https://localhost:8080/",
          "height": 283
        },
        "id": "fPwSZRYUCy0p",
        "outputId": "6bade60d-5717-43e1-b020-6d41d048699b"
      },
      "source": [
        "plt.plot(train1['Date'],train1['Close'])"
      ],
      "execution_count": null,
      "outputs": [
        {
          "output_type": "execute_result",
          "data": {
            "text/plain": [
              "[<matplotlib.lines.Line2D at 0x7f041d0bf890>]"
            ]
          },
          "metadata": {
            "tags": []
          },
          "execution_count": 11
        },
        {
          "output_type": "display_data",
          "data": {
            "image/png": "[encoded data removed]",
            "text/plain": [
              "<Figure size 432x288 with 1 Axes>"
            ]
          },
          "metadata": {
            "tags": [],
            "needs_background": "light"
          }
        }
      ]
    },
    {
      "cell_type": "code",
      "metadata": {
        "colab": {
          "base_uri": "https://localhost:8080/",
          "height": 282
        },
        "id": "zaeKxA2cDAKI",
        "outputId": "76b2c010-2f1f-4455-abd0-54c86b5983a1"
      },
      "source": [
        "plt.plot(test1['Date'],test1['Close'])"
      ],
      "execution_count": null,
      "outputs": [
        {
          "output_type": "execute_result",
          "data": {
            "text/plain": [
              "[<matplotlib.lines.Line2D at 0x7f041c52ec50>]"
            ]
          },
          "metadata": {
            "tags": []
          },
          "execution_count": 12
        },
        {
          "output_type": "display_data",
          "data": {
            "image/png": "[encoded data removed]",
            "text/plain": [
              "<Figure size 432x288 with 1 Axes>"
            ]
          },
          "metadata": {
            "tags": [],
            "needs_background": "light"
          }
        }
      ]
    },
    {
      "cell_type": "code",
      "metadata": {
        "id": "udQ2ORUnDH52"
      },
      "source": [
        "from sklearn.preprocessing import MinMaxScaler\n",
        "ms=MinMaxScaler(feature_range=(0,1))\n",
        "train1=ms.fit_transform(train1[['Close']])\n",
        "test1=ms.fit_transform(test1[['Close']])"
      ],
      "execution_count": null,
      "outputs": []
    },
    {
      "cell_type": "code",
      "metadata": {
        "id": "0ZDXwZXvD5p1"
      },
      "source": [
        "x_train=[]\n",
        "y_train=[]\n",
        "for i in range(60,1259):\n",
        "  x_train.append(train1[i-60:i,0])\n",
        "  y_train.append(train1[i,0])\n",
        "x_train,y_train=np.array(x_train),np.array(y_train)\n",
        "x_train=np.reshape(x_train,(x_train.shape[0],x_train.shape[1],1))"
      ],
      "execution_count": null,
      "outputs": []
    },
    {
      "cell_type": "code",
      "metadata": {
        "colab": {
          "base_uri": "https://localhost:8080/"
        },
        "id": "l9dHegkZTyzM",
        "outputId": "5f58ce23-568d-4c2a-bd52-8724d1edca2b"
      },
      "source": [
        "x_train.shape"
      ],
      "execution_count": null,
      "outputs": [
        {
          "output_type": "execute_result",
          "data": {
            "text/plain": [
              "(1199, 60, 1)"
            ]
          },
          "metadata": {
            "tags": []
          },
          "execution_count": 15
        }
      ]
    },
    {
      "cell_type": "code",
      "metadata": {
        "id": "F-h-NhZ5fsjQ"
      },
      "source": [
        "import keras\n",
        "from keras.models import Sequential\n",
        "from keras.layers import Dense,LSTM,Dropout"
      ],
      "execution_count": null,
      "outputs": []
    },
    {
      "cell_type": "code",
      "metadata": {
        "id": "laa6FR80fxGN"
      },
      "source": [
        "model=Sequential()"
      ],
      "execution_count": null,
      "outputs": []
    },
    {
      "cell_type": "code",
      "metadata": {
        "id": "_cxrE_3Shiu6"
      },
      "source": [
        "model.add(LSTM(units=50,return_sequences=True,input_shape=(x_train.shape[1],1)))\n",
        "model.add(Dropout(0.2))"
      ],
      "execution_count": null,
      "outputs": []
    },
    {
      "cell_type": "code",
      "metadata": {
        "id": "oh1PqFUsp05Q"
      },
      "source": [
        "model.add(LSTM(units=50,return_sequences=True))\n",
        "model.add(Dropout(0.2))\n",
        "model.add(LSTM(units=50))\n",
        "model.add(Dropout(0.2))\n",
        "model.add(Dense(units=1))"
      ],
      "execution_count": null,
      "outputs": []
    },
    {
      "cell_type": "code",
      "metadata": {
        "colab": {
          "base_uri": "https://localhost:8080/"
        },
        "id": "DhzlEhyk9WUN",
        "outputId": "f016c03d-f87a-4548-826f-e4a288ced0bf"
      },
      "source": [
        "model.compile(optimizer='adam',loss='mean_squared_error')\n",
        "model.fit(x_train,y_train,epochs=100,batch_size=32)"
      ],
      "execution_count": null,
      "outputs": [
        {
          "output_type": "stream",
          "text": [
            "Epoch 1/100\n",
            "38/38 [==============================] - 8s 81ms/step - loss: 0.0479\n",
            "Epoch 2/100\n",
            "38/38 [==============================] - 3s 82ms/step - loss: 0.0047\n",
            "Epoch 3/100\n",
            "38/38 [==============================] - 3s 83ms/step - loss: 0.0032\n",
            "Epoch 4/100\n",
            "38/38 [==============================] - 3s 82ms/step - loss: 0.0041\n",
            "Epoch 5/100\n",
            "38/38 [==============================] - 3s 84ms/step - loss: 0.0035\n",
            "Epoch 6/100\n",
            "38/38 [==============================] - 3s 84ms/step - loss: 0.0031\n",
            "Epoch 7/100\n",
            "38/38 [==============================] - 3s 84ms/step - loss: 0.0033\n",
            "Epoch 8/100\n",
            "38/38 [==============================] - 3s 84ms/step - loss: 0.0030\n",
            "Epoch 9/100\n",
            "38/38 [==============================] - 3s 85ms/step - loss: 0.0030\n",
            "Epoch 10/100\n",
            "38/38 [==============================] - 3s 85ms/step - loss: 0.0023\n",
            "Epoch 11/100\n",
            "38/38 [==============================] - 3s 85ms/step - loss: 0.0029\n",
            "Epoch 12/100\n",
            "38/38 [==============================] - 3s 89ms/step - loss: 0.0026\n",
            "Epoch 13/100\n",
            "38/38 [==============================] - 3s 88ms/step - loss: 0.0027\n",
            "Epoch 14/100\n",
            "38/38 [==============================] - 3s 88ms/step - loss: 0.0029\n",
            "Epoch 15/100\n",
            "38/38 [==============================] - 3s 88ms/step - loss: 0.0028\n",
            "Epoch 16/100\n",
            "38/38 [==============================] - 3s 90ms/step - loss: 0.0030\n",
            "Epoch 17/100\n",
            "38/38 [==============================] - 3s 90ms/step - loss: 0.0025\n",
            "Epoch 18/100\n",
            "38/38 [==============================] - 3s 90ms/step - loss: 0.0024\n",
            "Epoch 19/100\n",
            "38/38 [==============================] - 3s 86ms/step - loss: 0.0024\n",
            "Epoch 20/100\n",
            "38/38 [==============================] - 3s 86ms/step - loss: 0.0024\n",
            "Epoch 21/100\n",
            "38/38 [==============================] - 4s 99ms/step - loss: 0.0023\n",
            "Epoch 22/100\n",
            "38/38 [==============================] - 4s 100ms/step - loss: 0.0021\n",
            "Epoch 23/100\n",
            "38/38 [==============================] - 4s 113ms/step - loss: 0.0020\n",
            "Epoch 24/100\n",
            "38/38 [==============================] - 3s 90ms/step - loss: 0.0024\n",
            "Epoch 25/100\n",
            "38/38 [==============================] - 3s 89ms/step - loss: 0.0019\n",
            "Epoch 26/100\n",
            "38/38 [==============================] - 3s 88ms/step - loss: 0.0021\n",
            "Epoch 27/100\n",
            "38/38 [==============================] - 3s 88ms/step - loss: 0.0020\n",
            "Epoch 28/100\n",
            "38/38 [==============================] - 3s 88ms/step - loss: 0.0019\n",
            "Epoch 29/100\n",
            "38/38 [==============================] - 3s 88ms/step - loss: 0.0020\n",
            "Epoch 30/100\n",
            "38/38 [==============================] - 3s 89ms/step - loss: 0.0023\n",
            "Epoch 31/100\n",
            "38/38 [==============================] - 3s 88ms/step - loss: 0.0016\n",
            "Epoch 32/100\n",
            "38/38 [==============================] - 3s 87ms/step - loss: 0.0018\n",
            "Epoch 33/100\n",
            "38/38 [==============================] - 3s 88ms/step - loss: 0.0017\n",
            "Epoch 34/100\n",
            "38/38 [==============================] - 3s 89ms/step - loss: 0.0018\n",
            "Epoch 35/100\n",
            "38/38 [==============================] - 3s 88ms/step - loss: 0.0017\n",
            "Epoch 36/100\n",
            "38/38 [==============================] - 3s 90ms/step - loss: 0.0019\n",
            "Epoch 37/100\n",
            "38/38 [==============================] - 3s 88ms/step - loss: 0.0017\n",
            "Epoch 38/100\n",
            "38/38 [==============================] - 3s 88ms/step - loss: 0.0018\n",
            "Epoch 39/100\n",
            "38/38 [==============================] - 3s 89ms/step - loss: 0.0017\n",
            "Epoch 40/100\n",
            "38/38 [==============================] - 3s 88ms/step - loss: 0.0017\n",
            "Epoch 41/100\n",
            "38/38 [==============================] - 3s 87ms/step - loss: 0.0018\n",
            "Epoch 42/100\n",
            "38/38 [==============================] - 3s 88ms/step - loss: 0.0016\n",
            "Epoch 43/100\n",
            "38/38 [==============================] - 3s 88ms/step - loss: 0.0015\n",
            "Epoch 44/100\n",
            "38/38 [==============================] - 3s 88ms/step - loss: 0.0017\n",
            "Epoch 45/100\n",
            "38/38 [==============================] - 3s 88ms/step - loss: 0.0015\n",
            "Epoch 46/100\n",
            "38/38 [==============================] - 3s 88ms/step - loss: 0.0015\n",
            "Epoch 47/100\n",
            "38/38 [==============================] - 3s 87ms/step - loss: 0.0017\n",
            "Epoch 48/100\n",
            "38/38 [==============================] - 3s 89ms/step - loss: 0.0013\n",
            "Epoch 49/100\n",
            "38/38 [==============================] - 3s 88ms/step - loss: 0.0017\n",
            "Epoch 50/100\n",
            "38/38 [==============================] - 3s 86ms/step - loss: 0.0014\n",
            "Epoch 51/100\n",
            "38/38 [==============================] - 3s 87ms/step - loss: 0.0013\n",
            "Epoch 52/100\n",
            "38/38 [==============================] - 3s 87ms/step - loss: 0.0012\n",
            "Epoch 53/100\n",
            "38/38 [==============================] - 3s 87ms/step - loss: 0.0019\n",
            "Epoch 54/100\n",
            "38/38 [==============================] - 3s 88ms/step - loss: 0.0014\n",
            "Epoch 55/100\n",
            "38/38 [==============================] - 3s 87ms/step - loss: 0.0015\n",
            "Epoch 56/100\n",
            "38/38 [==============================] - 3s 90ms/step - loss: 0.0014\n",
            "Epoch 57/100\n",
            "38/38 [==============================] - 3s 87ms/step - loss: 0.0013\n",
            "Epoch 58/100\n",
            "38/38 [==============================] - 3s 88ms/step - loss: 0.0012\n",
            "Epoch 59/100\n",
            "38/38 [==============================] - 3s 87ms/step - loss: 0.0012\n",
            "Epoch 60/100\n",
            "38/38 [==============================] - 3s 89ms/step - loss: 0.0013\n",
            "Epoch 61/100\n",
            "38/38 [==============================] - 3s 86ms/step - loss: 0.0012\n",
            "Epoch 62/100\n",
            "38/38 [==============================] - 3s 87ms/step - loss: 0.0013\n",
            "Epoch 63/100\n",
            "38/38 [==============================] - 3s 88ms/step - loss: 0.0012\n",
            "Epoch 64/100\n",
            "38/38 [==============================] - 3s 88ms/step - loss: 0.0012\n",
            "Epoch 65/100\n",
            "38/38 [==============================] - 3s 87ms/step - loss: 0.0013\n",
            "Epoch 66/100\n",
            "38/38 [==============================] - 3s 89ms/step - loss: 0.0011\n",
            "Epoch 67/100\n",
            "38/38 [==============================] - 3s 87ms/step - loss: 0.0010\n",
            "Epoch 68/100\n",
            "38/38 [==============================] - 3s 87ms/step - loss: 0.0012\n",
            "Epoch 69/100\n",
            "38/38 [==============================] - 3s 88ms/step - loss: 0.0012\n",
            "Epoch 70/100\n",
            "38/38 [==============================] - 3s 88ms/step - loss: 0.0011\n",
            "Epoch 71/100\n",
            "38/38 [==============================] - 3s 87ms/step - loss: 0.0010\n",
            "Epoch 72/100\n",
            "38/38 [==============================] - 3s 89ms/step - loss: 0.0011\n",
            "Epoch 73/100\n",
            "38/38 [==============================] - 3s 89ms/step - loss: 0.0013\n",
            "Epoch 74/100\n",
            "38/38 [==============================] - 3s 88ms/step - loss: 0.0012\n",
            "Epoch 75/100\n",
            "38/38 [==============================] - 3s 87ms/step - loss: 9.8528e-04\n",
            "Epoch 76/100\n",
            "38/38 [==============================] - 3s 88ms/step - loss: 0.0011\n",
            "Epoch 77/100\n",
            "38/38 [==============================] - 3s 87ms/step - loss: 0.0011\n",
            "Epoch 78/100\n",
            "38/38 [==============================] - 3s 88ms/step - loss: 9.6974e-04\n",
            "Epoch 79/100\n",
            "38/38 [==============================] - 3s 88ms/step - loss: 0.0011\n",
            "Epoch 80/100\n",
            "38/38 [==============================] - 3s 88ms/step - loss: 0.0011\n",
            "Epoch 81/100\n",
            "38/38 [==============================] - 3s 89ms/step - loss: 0.0011\n",
            "Epoch 82/100\n",
            "38/38 [==============================] - 3s 87ms/step - loss: 0.0011\n",
            "Epoch 83/100\n",
            "38/38 [==============================] - 3s 89ms/step - loss: 9.8963e-04\n",
            "Epoch 84/100\n",
            "38/38 [==============================] - 3s 89ms/step - loss: 8.6366e-04\n",
            "Epoch 85/100\n",
            "38/38 [==============================] - 3s 91ms/step - loss: 9.8694e-04\n",
            "Epoch 86/100\n",
            "38/38 [==============================] - 4s 99ms/step - loss: 0.0011\n",
            "Epoch 87/100\n",
            "38/38 [==============================] - 3s 92ms/step - loss: 9.6179e-04\n",
            "Epoch 88/100\n",
            "38/38 [==============================] - 3s 89ms/step - loss: 9.4861e-04\n",
            "Epoch 89/100\n",
            "38/38 [==============================] - 3s 89ms/step - loss: 8.9633e-04\n",
            "Epoch 90/100\n",
            "38/38 [==============================] - 3s 88ms/step - loss: 0.0010\n",
            "Epoch 91/100\n",
            "38/38 [==============================] - 3s 88ms/step - loss: 9.3224e-04\n",
            "Epoch 92/100\n",
            "38/38 [==============================] - 3s 88ms/step - loss: 8.9358e-04\n",
            "Epoch 93/100\n",
            "38/38 [==============================] - 3s 87ms/step - loss: 9.2907e-04\n",
            "Epoch 94/100\n",
            "38/38 [==============================] - 3s 86ms/step - loss: 0.0011\n",
            "Epoch 95/100\n",
            "38/38 [==============================] - 3s 89ms/step - loss: 9.6841e-04\n",
            "Epoch 96/100\n",
            "38/38 [==============================] - 3s 88ms/step - loss: 8.7642e-04\n",
            "Epoch 97/100\n",
            "38/38 [==============================] - 3s 88ms/step - loss: 8.7046e-04\n",
            "Epoch 98/100\n",
            "38/38 [==============================] - 3s 87ms/step - loss: 8.6436e-04\n",
            "Epoch 99/100\n",
            "38/38 [==============================] - 3s 90ms/step - loss: 0.0011\n",
            "Epoch 100/100\n",
            "38/38 [==============================] - 3s 88ms/step - loss: 9.6027e-04\n"
          ],
          "name": "stdout"
        },
        {
          "output_type": "execute_result",
          "data": {
            "text/plain": [
              "<tensorflow.python.keras.callbacks.History at 0x7f03dac57fd0>"
            ]
          },
          "metadata": {
            "tags": []
          },
          "execution_count": 20
        }
      ]
    },
    {
      "cell_type": "code",
      "metadata": {
        "id": "HDN28LNFFtjV"
      },
      "source": [
        "total=pd.concat((train['Close'],test['Close']),axis=0)\n",
        "inputs=total[len(total)-len(test)-60:].values\n",
        "inputs=inputs.reshape(-1,1)\n",
        "inputs=ms.transform(inputs)"
      ],
      "execution_count": null,
      "outputs": []
    },
    {
      "cell_type": "code",
      "metadata": {
        "colab": {
          "base_uri": "https://localhost:8080/"
        },
        "id": "o1sL5qxPUQlw",
        "outputId": "bc5da67d-a289-49fa-ee01-9dfe4f3c5ac4"
      },
      "source": [
        "inputs.shape"
      ],
      "execution_count": null,
      "outputs": [
        {
          "output_type": "execute_result",
          "data": {
            "text/plain": [
              "(185, 1)"
            ]
          },
          "metadata": {
            "tags": []
          },
          "execution_count": 22
        }
      ]
    },
    {
      "cell_type": "code",
      "metadata": {
        "id": "gCxsZcdkF6kB"
      },
      "source": [
        "x_test=[]\n",
        "for i in range(60,185):\n",
        "  x_test.append(inputs[i-60:i,0])\n",
        "x_test=np.array(x_test)\n",
        "x_test=np.reshape(x_test,(x_test.shape[0],x_test.shape[1],1))\n"
      ],
      "execution_count": null,
      "outputs": []
    },
    {
      "cell_type": "code",
      "metadata": {
        "colab": {
          "base_uri": "https://localhost:8080/"
        },
        "id": "QjAl9ziOQjEo",
        "outputId": "8bb05590-70ce-462b-9a28-5aeda8f9e325"
      },
      "source": [
        "x_test.shape"
      ],
      "execution_count": null,
      "outputs": [
        {
          "output_type": "execute_result",
          "data": {
            "text/plain": [
              "(125, 60, 1)"
            ]
          },
          "metadata": {
            "tags": []
          },
          "execution_count": 24
        }
      ]
    },
    {
      "cell_type": "code",
      "metadata": {
        "colab": {
          "base_uri": "https://localhost:8080/"
        },
        "id": "D_pR4JEYLaZn",
        "outputId": "9b358d0f-3d97-4942-e26c-802fd6391efe"
      },
      "source": [
        "pred= model.predict(x_test)\n",
        "pred= ms.inverse_transform(pred)\n",
        "pred"
      ],
      "execution_count": null,
      "outputs": [
        {
          "output_type": "execute_result",
          "data": {
            "text/plain": [
              "array([[1046.2091 ],\n",
              "       [1048.1327 ],\n",
              "       [1056.5787 ],\n",
              "       [1067.9343 ],\n",
              "       [1080.7303 ],\n",
              "       [1091.9745 ],\n",
              "       [1099.0907 ],\n",
              "       [1101.3037 ],\n",
              "       [1101.0162 ],\n",
              "       [1103.291  ],\n",
              "       [1107.0441 ],\n",
              "       [1112.7462 ],\n",
              "       [1117.7704 ],\n",
              "       [1122.6884 ],\n",
              "       [1130.5309 ],\n",
              "       [1141.4608 ],\n",
              "       [1149.7909 ],\n",
              "       [1155.6111 ],\n",
              "       [1160.1193 ],\n",
              "       [1163.071  ],\n",
              "       [1162.1273 ],\n",
              "       [1161.0952 ],\n",
              "       [1160.3988 ],\n",
              "       [1148.9113 ],\n",
              "       [1124.6273 ],\n",
              "       [1102.713  ],\n",
              "       [1083.1417 ],\n",
              "       [1061.5585 ],\n",
              "       [1047.2555 ],\n",
              "       [1044.5365 ],\n",
              "       [1050.2356 ],\n",
              "       [1061.678  ],\n",
              "       [1076.6107 ],\n",
              "       [1090.0564 ],\n",
              "       [1099.6917 ],\n",
              "       [1106.047  ],\n",
              "       [1107.9032 ],\n",
              "       [1110.6989 ],\n",
              "       [1117.4075 ],\n",
              "       [1119.2781 ],\n",
              "       [1114.594  ],\n",
              "       [1101.0797 ],\n",
              "       [1087.5282 ],\n",
              "       [1080.4069 ],\n",
              "       [1080.5856 ],\n",
              "       [1087.9913 ],\n",
              "       [1101.0107 ],\n",
              "       [1120.8293 ],\n",
              "       [1139.8337 ],\n",
              "       [1146.3464 ],\n",
              "       [1146.7217 ],\n",
              "       [1144.7472 ],\n",
              "       [1139.6974 ],\n",
              "       [1127.3644 ],\n",
              "       [1113.6329 ],\n",
              "       [1101.7494 ],\n",
              "       [1086.6959 ],\n",
              "       [1067.9181 ],\n",
              "       [1055.5374 ],\n",
              "       [1043.5946 ],\n",
              "       [1032.7115 ],\n",
              "       [1028.8586 ],\n",
              "       [1027.0585 ],\n",
              "       [1026.4202 ],\n",
              "       [1028.0911 ],\n",
              "       [1031.1678 ],\n",
              "       [1030.3159 ],\n",
              "       [1027.3132 ],\n",
              "       [1026.4866 ],\n",
              "       [1025.7377 ],\n",
              "       [1026.5778 ],\n",
              "       [1027.7775 ],\n",
              "       [1030.0605 ],\n",
              "       [1039.2338 ],\n",
              "       [1051.1831 ],\n",
              "       [1064.1049 ],\n",
              "       [1071.3734 ],\n",
              "       [1071.9406 ],\n",
              "       [1060.3734 ],\n",
              "       [1044.0775 ],\n",
              "       [1032.4702 ],\n",
              "       [1026.2137 ],\n",
              "       [1022.41144],\n",
              "       [1023.6405 ],\n",
              "       [1026.1277 ],\n",
              "       [1027.9282 ],\n",
              "       [1032.9078 ],\n",
              "       [1040.7599 ],\n",
              "       [1048.1895 ],\n",
              "       [1058.4802 ],\n",
              "       [1071.5459 ],\n",
              "       [1083.0027 ],\n",
              "       [1090.4712 ],\n",
              "       [1089.6182 ],\n",
              "       [1084.6455 ],\n",
              "       [1078.6765 ],\n",
              "       [1071.7955 ],\n",
              "       [1068.4875 ],\n",
              "       [1067.0111 ],\n",
              "       [1068.6095 ],\n",
              "       [1071.8726 ],\n",
              "       [1074.5061 ],\n",
              "       [1073.0425 ],\n",
              "       [1070.5559 ],\n",
              "       [1071.8231 ],\n",
              "       [1082.6123 ],\n",
              "       [1101.1516 ],\n",
              "       [1118.4976 ],\n",
              "       [1128.7454 ],\n",
              "       [1129.5521 ],\n",
              "       [1124.9032 ],\n",
              "       [1121.0732 ],\n",
              "       [1121.4092 ],\n",
              "       [1123.4508 ],\n",
              "       [1129.4443 ],\n",
              "       [1136.3822 ],\n",
              "       [1146.497  ],\n",
              "       [1154.5728 ],\n",
              "       [1159.5443 ],\n",
              "       [1159.1509 ],\n",
              "       [1155.9541 ],\n",
              "       [1146.3712 ],\n",
              "       [1134.7411 ],\n",
              "       [1122.5973 ],\n",
              "       [1115.2385 ]], dtype=float32)"
            ]
          },
          "metadata": {
            "tags": []
          },
          "execution_count": 25
        }
      ]
    },
    {
      "cell_type": "code",
      "metadata": {
        "colab": {
          "base_uri": "https://localhost:8080/",
          "height": 282
        },
        "id": "nY9TDpGZUwKL",
        "outputId": "f92ea8fc-d1f1-4840-f533-7717025c4c7c"
      },
      "source": [
        "plt.plot(test1,color='blue')"
      ],
      "execution_count": null,
      "outputs": [
        {
          "output_type": "execute_result",
          "data": {
            "text/plain": [
              "[<matplotlib.lines.Line2D at 0x7f03d3ad1dd0>]"
            ]
          },
          "metadata": {
            "tags": []
          },
          "execution_count": 26
        },
        {
          "output_type": "display_data",
          "data": {
            "image/png": "[encoded data removed]",
            "text/plain": [
              "<Figure size 432x288 with 1 Axes>"
            ]
          },
          "metadata": {
            "tags": [],
            "needs_background": "light"
          }
        }
      ]
    },
    {
      "cell_type": "code",
      "metadata": {
        "colab": {
          "base_uri": "https://localhost:8080/",
          "height": 282
        },
        "id": "qlesAUARYxc7",
        "outputId": "f3f0bfa4-6d33-413d-b102-5c2dbeb181dc"
      },
      "source": [
        "plt.plot(test['Close'],color='blue')"
      ],
      "execution_count": null,
      "outputs": [
        {
          "output_type": "execute_result",
          "data": {
            "text/plain": [
              "[<matplotlib.lines.Line2D at 0x7f03d2fb8610>]"
            ]
          },
          "metadata": {
            "tags": []
          },
          "execution_count": 27
        },
        {
          "output_type": "display_data",
          "data": {
            "image/png": "[encoded data removed]",
            "text/plain": [
              "<Figure size 432x288 with 1 Axes>"
            ]
          },
          "metadata": {
            "tags": [],
            "needs_background": "light"
          }
        }
      ]
    },
    {
      "cell_type": "code",
      "metadata": {
        "colab": {
          "base_uri": "https://localhost:8080/",
          "height": 282
        },
        "id": "HAUDHKzSX6mn",
        "outputId": "be4c0200-2c5b-4727-dd00-a2c1a8311ed4"
      },
      "source": [
        "plt.plot(pred,color='red')"
      ],
      "execution_count": null,
      "outputs": [
        {
          "output_type": "execute_result",
          "data": {
            "text/plain": [
              "[<matplotlib.lines.Line2D at 0x7f03d2f2d610>]"
            ]
          },
          "metadata": {
            "tags": []
          },
          "execution_count": 28
        },
        {
          "output_type": "display_data",
          "data": {
            "image/png": "[encoded data removed]",
            "text/plain": [
              "<Figure size 432x288 with 1 Axes>"
            ]
          },
          "metadata": {
            "tags": [],
            "needs_background": "light"
          }
        }
      ]
    },
    {
      "cell_type": "code",
      "metadata": {
        "colab": {
          "base_uri": "https://localhost:8080/",
          "height": 265
        },
        "id": "QkZibfbjX_EP",
        "outputId": "a3d18ce5-7807-4356-b648-a79b17e54ea8"
      },
      "source": [
        "plt.plot(test['Close'],color='blue',label = 'actual')\n",
        "plt.plot(pred,color='red',label = 'predicted')\n",
        "plt.legend()\n",
        "plt.show()"
      ],
      "execution_count": null,
      "outputs": [
        {
          "output_type": "display_data",
          "data": {
            "image/png": "[encoded data removed]",
            "text/plain": [
              "<Figure size 432x288 with 1 Axes>"
            ]
          },
          "metadata": {
            "tags": [],
            "needs_background": "light"
          }
        }
      ]
    },
    {
      "cell_type": "code",
      "metadata": {
        "colab": {
          "base_uri": "https://localhost:8080/"
        },
        "id": "M2N1f9cJYjhh",
        "outputId": "80510eeb-9951-4eb4-a8d7-d8c8abf00992"
      },
      "source": [
        "model.summary()"
      ],
      "execution_count": null,
      "outputs": [
        {
          "output_type": "stream",
          "text": [
            "Model: \"sequential\"\n",
            "_________________________________________________________________\n",
            "Layer (type)                 Output Shape              Param #   \n",
            "=================================================================\n",
            "lstm (LSTM)                  (None, 60, 50)            10400     \n",
            "_________________________________________________________________\n",
            "dropout (Dropout)            (None, 60, 50)            0         \n",
            "_________________________________________________________________\n",
            "lstm_1 (LSTM)                (None, 60, 50)            20200     \n",
            "_________________________________________________________________\n",
            "dropout_1 (Dropout)          (None, 60, 50)            0         \n",
            "_________________________________________________________________\n",
            "lstm_2 (LSTM)                (None, 50)                20200     \n",
            "_________________________________________________________________\n",
            "dropout_2 (Dropout)          (None, 50)                0         \n",
            "_________________________________________________________________\n",
            "dense (Dense)                (None, 1)                 51        \n",
            "=================================================================\n",
            "Total params: 50,851\n",
            "Trainable params: 50,851\n",
            "Non-trainable params: 0\n",
            "_________________________________________________________________\n"
          ],
          "name": "stdout"
        }
      ]
    },
    {
      "cell_type": "code",
      "metadata": {
        "id": "cTKtLFzVfdgW"
      },
      "source": [
        "tt=train['Close']"
      ],
      "execution_count": null,
      "outputs": []
    },
    {
      "cell_type": "code",
      "metadata": {
        "colab": {
          "base_uri": "https://localhost:8080/"
        },
        "id": "LxbEDMhnftbX",
        "outputId": "0ceb9274-21a8-4703-ad16-62e93dfb54da"
      },
      "source": [
        "tt.shape"
      ],
      "execution_count": null,
      "outputs": [
        {
          "output_type": "execute_result",
          "data": {
            "text/plain": [
              "(1259,)"
            ]
          },
          "metadata": {
            "tags": []
          },
          "execution_count": 33
        }
      ]
    },
    {
      "cell_type": "code",
      "metadata": {
        "colab": {
          "base_uri": "https://localhost:8080/"
        },
        "id": "KCrhFHNtgF3w",
        "outputId": "33d2e94d-1bcc-4fc4-fa5f-4df459217036"
      },
      "source": [
        "x_train.shape"
      ],
      "execution_count": null,
      "outputs": [
        {
          "output_type": "execute_result",
          "data": {
            "text/plain": [
              "(1199, 60, 1)"
            ]
          },
          "metadata": {
            "tags": []
          },
          "execution_count": 34
        }
      ]
    },
    {
      "cell_type": "code",
      "metadata": {
        "colab": {
          "base_uri": "https://localhost:8080/"
        },
        "id": "0TS-l4o_gMIi",
        "outputId": "66199df5-f101-4939-bb89-97169dcdec0a"
      },
      "source": [
        "y_train.shape"
      ],
      "execution_count": null,
      "outputs": [
        {
          "output_type": "execute_result",
          "data": {
            "text/plain": [
              "(1199,)"
            ]
          },
          "metadata": {
            "tags": []
          },
          "execution_count": 35
        }
      ]
    },
    {
      "cell_type": "code",
      "metadata": {
        "colab": {
          "base_uri": "https://localhost:8080/"
        },
        "id": "8uI-ACWxfuRU",
        "outputId": "f9399a79-76e0-419d-d192-4c0a73a3e263"
      },
      "source": [
        "pred.shape"
      ],
      "execution_count": null,
      "outputs": [
        {
          "output_type": "execute_result",
          "data": {
            "text/plain": [
              "(125, 1)"
            ]
          },
          "metadata": {
            "tags": []
          },
          "execution_count": 36
        }
      ]
    },
    {
      "cell_type": "code",
      "metadata": {
        "colab": {
          "base_uri": "https://localhost:8080/",
          "height": 357
        },
        "id": "O3X4SNMVZ1M7",
        "outputId": "94e754a3-c20a-49a1-a6c2-2a55dd6040b0"
      },
      "source": [
        "model.evaluate(tt,pred)"
      ],
      "execution_count": null,
      "outputs": [
        {
          "output_type": "error",
          "ename": "ValueError",
          "evalue": "ignored",
          "traceback": [
            "\u001b[0;31m---------------------------------------------------------------------------\u001b[0m",
            "\u001b[0;31mValueError\u001b[0m                                Traceback (most recent call last)",
            "\u001b[0;32m<ipython-input-37-f6e59f26b869>\u001b[0m in \u001b[0;36m<module>\u001b[0;34m()\u001b[0m\n\u001b[0;32m----> 1\u001b[0;31m \u001b[0mmodel\u001b[0m\u001b[0;34m.\u001b[0m\u001b[0mevaluate\u001b[0m\u001b[0;34m(\u001b[0m\u001b[0mtt\u001b[0m\u001b[0;34m,\u001b[0m\u001b[0mpred\u001b[0m\u001b[0;34m)\u001b[0m\u001b[0;34m\u001b[0m\u001b[0;34m\u001b[0m\u001b[0m\n\u001b[0m",
            "\u001b[0;32m/usr/local/lib/python3.7/dist-packages/tensorflow/python/keras/engine/training.py\u001b[0m in \u001b[0;36mevaluate\u001b[0;34m(self, x, y, batch_size, verbose, sample_weight, steps, callbacks, max_queue_size, workers, use_multiprocessing, return_dict)\u001b[0m\n\u001b[1;32m   1364\u001b[0m             \u001b[0muse_multiprocessing\u001b[0m\u001b[0;34m=\u001b[0m\u001b[0muse_multiprocessing\u001b[0m\u001b[0;34m,\u001b[0m\u001b[0;34m\u001b[0m\u001b[0;34m\u001b[0m\u001b[0m\n\u001b[1;32m   1365\u001b[0m             \u001b[0mmodel\u001b[0m\u001b[0;34m=\u001b[0m\u001b[0mself\u001b[0m\u001b[0;34m,\u001b[0m\u001b[0;34m\u001b[0m\u001b[0;34m\u001b[0m\u001b[0m\n\u001b[0;32m-> 1366\u001b[0;31m             steps_per_execution=self._steps_per_execution)\n\u001b[0m\u001b[1;32m   1367\u001b[0m \u001b[0;34m\u001b[0m\u001b[0m\n\u001b[1;32m   1368\u001b[0m       \u001b[0;31m# Container that configures and calls `tf.keras.Callback`s.\u001b[0m\u001b[0;34m\u001b[0m\u001b[0;34m\u001b[0m\u001b[0;34m\u001b[0m\u001b[0m\n",
            "\u001b[0;32m/usr/local/lib/python3.7/dist-packages/tensorflow/python/keras/engine/data_adapter.py\u001b[0m in \u001b[0;36m__init__\u001b[0;34m(self, x, y, sample_weight, batch_size, steps_per_epoch, initial_epoch, epochs, shuffle, class_weight, max_queue_size, workers, use_multiprocessing, model, steps_per_execution)\u001b[0m\n\u001b[1;32m   1110\u001b[0m         \u001b[0muse_multiprocessing\u001b[0m\u001b[0;34m=\u001b[0m\u001b[0muse_multiprocessing\u001b[0m\u001b[0;34m,\u001b[0m\u001b[0;34m\u001b[0m\u001b[0;34m\u001b[0m\u001b[0m\n\u001b[1;32m   1111\u001b[0m         \u001b[0mdistribution_strategy\u001b[0m\u001b[0;34m=\u001b[0m\u001b[0mds_context\u001b[0m\u001b[0;34m.\u001b[0m\u001b[0mget_strategy\u001b[0m\u001b[0;34m(\u001b[0m\u001b[0;34m)\u001b[0m\u001b[0;34m,\u001b[0m\u001b[0;34m\u001b[0m\u001b[0;34m\u001b[0m\u001b[0m\n\u001b[0;32m-> 1112\u001b[0;31m         model=model)\n\u001b[0m\u001b[1;32m   1113\u001b[0m \u001b[0;34m\u001b[0m\u001b[0m\n\u001b[1;32m   1114\u001b[0m     \u001b[0mstrategy\u001b[0m \u001b[0;34m=\u001b[0m \u001b[0mds_context\u001b[0m\u001b[0;34m.\u001b[0m\u001b[0mget_strategy\u001b[0m\u001b[0;34m(\u001b[0m\u001b[0;34m)\u001b[0m\u001b[0;34m\u001b[0m\u001b[0;34m\u001b[0m\u001b[0m\n",
            "\u001b[0;32m/usr/local/lib/python3.7/dist-packages/tensorflow/python/keras/engine/data_adapter.py\u001b[0m in \u001b[0;36m__init__\u001b[0;34m(self, x, y, sample_weights, sample_weight_modes, batch_size, epochs, steps, shuffle, **kwargs)\u001b[0m\n\u001b[1;32m    272\u001b[0m \u001b[0;34m\u001b[0m\u001b[0m\n\u001b[1;32m    273\u001b[0m     \u001b[0mnum_samples\u001b[0m \u001b[0;34m=\u001b[0m \u001b[0mset\u001b[0m\u001b[0;34m(\u001b[0m\u001b[0mint\u001b[0m\u001b[0;34m(\u001b[0m\u001b[0mi\u001b[0m\u001b[0;34m.\u001b[0m\u001b[0mshape\u001b[0m\u001b[0;34m[\u001b[0m\u001b[0;36m0\u001b[0m\u001b[0;34m]\u001b[0m\u001b[0;34m)\u001b[0m \u001b[0;32mfor\u001b[0m \u001b[0mi\u001b[0m \u001b[0;32min\u001b[0m \u001b[0mnest\u001b[0m\u001b[0;34m.\u001b[0m\u001b[0mflatten\u001b[0m\u001b[0;34m(\u001b[0m\u001b[0minputs\u001b[0m\u001b[0;34m)\u001b[0m\u001b[0;34m)\u001b[0m\u001b[0;34m.\u001b[0m\u001b[0mpop\u001b[0m\u001b[0;34m(\u001b[0m\u001b[0;34m)\u001b[0m\u001b[0;34m\u001b[0m\u001b[0;34m\u001b[0m\u001b[0m\n\u001b[0;32m--> 274\u001b[0;31m     \u001b[0m_check_data_cardinality\u001b[0m\u001b[0;34m(\u001b[0m\u001b[0minputs\u001b[0m\u001b[0;34m)\u001b[0m\u001b[0;34m\u001b[0m\u001b[0;34m\u001b[0m\u001b[0m\n\u001b[0m\u001b[1;32m    275\u001b[0m \u001b[0;34m\u001b[0m\u001b[0m\n\u001b[1;32m    276\u001b[0m     \u001b[0;31m# If batch_size is not passed but steps is, calculate from the input data.\u001b[0m\u001b[0;34m\u001b[0m\u001b[0;34m\u001b[0m\u001b[0;34m\u001b[0m\u001b[0m\n",
            "\u001b[0;32m/usr/local/lib/python3.7/dist-packages/tensorflow/python/keras/engine/data_adapter.py\u001b[0m in \u001b[0;36m_check_data_cardinality\u001b[0;34m(data)\u001b[0m\n\u001b[1;32m   1527\u001b[0m           label, \", \".join(str(i.shape[0]) for i in nest.flatten(single_data)))\n\u001b[1;32m   1528\u001b[0m     \u001b[0mmsg\u001b[0m \u001b[0;34m+=\u001b[0m \u001b[0;34m\"Make sure all arrays contain the same number of samples.\"\u001b[0m\u001b[0;34m\u001b[0m\u001b[0;34m\u001b[0m\u001b[0m\n\u001b[0;32m-> 1529\u001b[0;31m     \u001b[0;32mraise\u001b[0m \u001b[0mValueError\u001b[0m\u001b[0;34m(\u001b[0m\u001b[0mmsg\u001b[0m\u001b[0;34m)\u001b[0m\u001b[0;34m\u001b[0m\u001b[0;34m\u001b[0m\u001b[0m\n\u001b[0m\u001b[1;32m   1530\u001b[0m \u001b[0;34m\u001b[0m\u001b[0m\n\u001b[1;32m   1531\u001b[0m \u001b[0;34m\u001b[0m\u001b[0m\n",
            "\u001b[0;31mValueError\u001b[0m: Data cardinality is ambiguous:\n  x sizes: 1259\n  y sizes: 125\nMake sure all arrays contain the same number of samples."
          ]
        }
      ]
    },
    {
      "cell_type": "code",
      "metadata": {
        "id": "3lpLLaXidBXc"
      },
      "source": [
        ""
      ],
      "execution_count": null,
      "outputs": []
    }
  ]
}