{
  "cells": [
    {
      "cell_type": "markdown",
      "metadata": {
        "id": "view-in-github",
        "colab_type": "text"
      },
      "source": [
        "<a href=\"https://colab.research.google.com/github/KaRtHiK-56/Machine-Learning-Projects/blob/main/Heart.ipynb\" target=\"_parent\"><img src=\"https://colab.research.google.com/assets/colab-badge.svg\" alt=\"Open In Colab\"/></a>"
      ]
    },
    {
      "cell_type": "markdown",
      "metadata": {
        "id": "UrzCKVOHGyyU"
      },
      "source": [
        "**This case study is based on the  heart attack datasets were collected at Zheen hospital in Erbil, Iraq, from January 2019 to May 2019.**\n",
        "\n",
        "**The dataset contains information about 1319 patients, which also indiactes about the person is affected by heart disease or not.**\n",
        "\n",
        "**The goal is to create a predictive model which can predict wheather the person will be affected by heart disease or not in the future.**\n",
        "\n"
      ]
    },
    {
      "cell_type": "markdown",
      "metadata": {
        "id": "ThoOP6KQGy0X"
      },
      "source": [
        "In this case study I will discuss the step by step approach to create a Machine Learning predictive model in such scenarios. You can use this flow as a template to solve any supervised ML classification problem.\n",
        "\n",
        "The flow of the case study is as below:\n",
        "\n",
        "Reading the data in python\n",
        "\n",
        "Defining the problem statement\n",
        "\n",
        "Identifying the Target variable\n",
        "\n",
        "Looking at the distribution of Target variable\n",
        "\n",
        "Basic Data exploration\n",
        "\n",
        "Rejecting useless columns\n",
        "\n",
        "Visual Exploratory Data Analysis for data distribution\n",
        "\n",
        "Feature Selection based on data distribution\n",
        "\n",
        "Outlier treatment\n",
        "\n",
        "Missing Values treatment\n",
        "\n",
        "Visual correlation analysis\n",
        "\n",
        "Statistical correlation analysis (Feature Selection)\n",
        "\n",
        "Converting data to numeric for ML\n",
        "\n",
        "Sampling and K-fold cross validation\n",
        "\n",
        "Trying multiple classification algorithms\n",
        "\n",
        "Selecting the best Model\n",
        "\n",
        "Deploying the best model in production\n",
        "\n"
      ]
    },
    {
      "cell_type": "markdown",
      "metadata": {
        "id": "miZymqMQTJMn"
      },
      "source": [
        "# Importing Necessary libraries"
      ]
    },
    {
      "cell_type": "code",
      "execution_count": null,
      "metadata": {
        "id": "BqXr2cRfFbEG"
      },
      "outputs": [],
      "source": [
        "import pandas as pd\n",
        "import numpy as np\n",
        "import plotly.express as px\n",
        "import matplotlib.pyplot as plt\n",
        "import seaborn as sns"
      ]
    },
    {
      "cell_type": "markdown",
      "metadata": {
        "id": "7FMUF7XQTQcO"
      },
      "source": [
        "# Reading Dataset"
      ]
    },
    {
      "cell_type": "code",
      "execution_count": null,
      "metadata": {
        "id": "U2h4oGV9GRzc"
      },
      "outputs": [],
      "source": [
        "data=pd.read_csv('Medicaldataset.csv')"
      ]
    },
    {
      "cell_type": "code",
      "execution_count": null,
      "metadata": {
        "colab": {
          "base_uri": "https://localhost:8080/",
          "height": 423
        },
        "id": "60dGeHUvGZCp",
        "outputId": "d864e7ce-d619-436b-b94d-a3499cb2e724"
      },
      "outputs": [
        {
          "data": {
            "text/html": [
              "\n",
              "  <div id=\"df-c9702b57-4991-434b-825e-24036355d149\">\n",
              "    <div class=\"colab-df-container\">\n",
              "      <div>\n",
              "<style scoped>\n",
              "    .dataframe tbody tr th:only-of-type {\n",
              "        vertical-align: middle;\n",
              "    }\n",
              "\n",
              "    .dataframe tbody tr th {\n",
              "        vertical-align: top;\n",
              "    }\n",
              "\n",
              "    .dataframe thead th {\n",
              "        text-align: right;\n",
              "    }\n",
              "</style>\n",
              "<table border=\"1\" class=\"dataframe\">\n",
              "  <thead>\n",
              "    <tr style=\"text-align: right;\">\n",
              "      <th></th>\n",
              "      <th>Age</th>\n",
              "      <th>Gender</th>\n",
              "      <th>Heart rate</th>\n",
              "      <th>Systolic blood pressure</th>\n",
              "      <th>Diastolic blood pressure</th>\n",
              "      <th>Blood sugar</th>\n",
              "      <th>CK-MB</th>\n",
              "      <th>Troponin</th>\n",
              "      <th>Result</th>\n",
              "    </tr>\n",
              "  </thead>\n",
              "  <tbody>\n",
              "    <tr>\n",
              "      <th>0</th>\n",
              "      <td>64</td>\n",
              "      <td>1</td>\n",
              "      <td>66</td>\n",
              "      <td>160</td>\n",
              "      <td>83</td>\n",
              "      <td>160.0</td>\n",
              "      <td>1.80</td>\n",
              "      <td>0.012</td>\n",
              "      <td>negative</td>\n",
              "    </tr>\n",
              "    <tr>\n",
              "      <th>1</th>\n",
              "      <td>21</td>\n",
              "      <td>1</td>\n",
              "      <td>94</td>\n",
              "      <td>98</td>\n",
              "      <td>46</td>\n",
              "      <td>296.0</td>\n",
              "      <td>6.75</td>\n",
              "      <td>1.060</td>\n",
              "      <td>positive</td>\n",
              "    </tr>\n",
              "    <tr>\n",
              "      <th>2</th>\n",
              "      <td>55</td>\n",
              "      <td>1</td>\n",
              "      <td>64</td>\n",
              "      <td>160</td>\n",
              "      <td>77</td>\n",
              "      <td>270.0</td>\n",
              "      <td>1.99</td>\n",
              "      <td>0.003</td>\n",
              "      <td>negative</td>\n",
              "    </tr>\n",
              "    <tr>\n",
              "      <th>3</th>\n",
              "      <td>64</td>\n",
              "      <td>1</td>\n",
              "      <td>70</td>\n",
              "      <td>120</td>\n",
              "      <td>55</td>\n",
              "      <td>270.0</td>\n",
              "      <td>13.87</td>\n",
              "      <td>0.122</td>\n",
              "      <td>positive</td>\n",
              "    </tr>\n",
              "    <tr>\n",
              "      <th>4</th>\n",
              "      <td>55</td>\n",
              "      <td>1</td>\n",
              "      <td>64</td>\n",
              "      <td>112</td>\n",
              "      <td>65</td>\n",
              "      <td>300.0</td>\n",
              "      <td>1.08</td>\n",
              "      <td>0.003</td>\n",
              "      <td>negative</td>\n",
              "    </tr>\n",
              "    <tr>\n",
              "      <th>...</th>\n",
              "      <td>...</td>\n",
              "      <td>...</td>\n",
              "      <td>...</td>\n",
              "      <td>...</td>\n",
              "      <td>...</td>\n",
              "      <td>...</td>\n",
              "      <td>...</td>\n",
              "      <td>...</td>\n",
              "      <td>...</td>\n",
              "    </tr>\n",
              "    <tr>\n",
              "      <th>1314</th>\n",
              "      <td>44</td>\n",
              "      <td>1</td>\n",
              "      <td>94</td>\n",
              "      <td>122</td>\n",
              "      <td>67</td>\n",
              "      <td>204.0</td>\n",
              "      <td>1.63</td>\n",
              "      <td>0.006</td>\n",
              "      <td>negative</td>\n",
              "    </tr>\n",
              "    <tr>\n",
              "      <th>1315</th>\n",
              "      <td>66</td>\n",
              "      <td>1</td>\n",
              "      <td>84</td>\n",
              "      <td>125</td>\n",
              "      <td>55</td>\n",
              "      <td>149.0</td>\n",
              "      <td>1.33</td>\n",
              "      <td>0.172</td>\n",
              "      <td>positive</td>\n",
              "    </tr>\n",
              "    <tr>\n",
              "      <th>1316</th>\n",
              "      <td>45</td>\n",
              "      <td>1</td>\n",
              "      <td>85</td>\n",
              "      <td>168</td>\n",
              "      <td>104</td>\n",
              "      <td>96.0</td>\n",
              "      <td>1.24</td>\n",
              "      <td>4.250</td>\n",
              "      <td>positive</td>\n",
              "    </tr>\n",
              "    <tr>\n",
              "      <th>1317</th>\n",
              "      <td>54</td>\n",
              "      <td>1</td>\n",
              "      <td>58</td>\n",
              "      <td>117</td>\n",
              "      <td>68</td>\n",
              "      <td>443.0</td>\n",
              "      <td>5.80</td>\n",
              "      <td>0.359</td>\n",
              "      <td>positive</td>\n",
              "    </tr>\n",
              "    <tr>\n",
              "      <th>1318</th>\n",
              "      <td>51</td>\n",
              "      <td>1</td>\n",
              "      <td>94</td>\n",
              "      <td>157</td>\n",
              "      <td>79</td>\n",
              "      <td>134.0</td>\n",
              "      <td>50.89</td>\n",
              "      <td>1.770</td>\n",
              "      <td>positive</td>\n",
              "    </tr>\n",
              "  </tbody>\n",
              "</table>\n",
              "<p>1319 rows × 9 columns</p>\n",
              "</div>\n",
              "      <button class=\"colab-df-convert\" onclick=\"convertToInteractive('df-c9702b57-4991-434b-825e-24036355d149')\"\n",
              "              title=\"Convert this dataframe to an interactive table.\"\n",
              "              style=\"display:none;\">\n",
              "        \n",
              "  <svg xmlns=\"http://www.w3.org/2000/svg\" height=\"24px\"viewBox=\"0 0 24 24\"\n",
              "       width=\"24px\">\n",
              "    <path d=\"M0 0h24v24H0V0z\" fill=\"none\"/>\n",
              "    <path d=\"M18.56 5.44l.94 2.06.94-2.06 2.06-.94-2.06-.94-.94-2.06-.94 2.06-2.06.94zm-11 1L8.5 8.5l.94-2.06 2.06-.94-2.06-.94L8.5 2.5l-.94 2.06-2.06.94zm10 10l.94 2.06.94-2.06 2.06-.94-2.06-.94-.94-2.06-.94 2.06-2.06.94z\"/><path d=\"M17.41 7.96l-1.37-1.37c-.4-.4-.92-.59-1.43-.59-.52 0-1.04.2-1.43.59L10.3 9.45l-7.72 7.72c-.78.78-.78 2.05 0 2.83L4 21.41c.39.39.9.59 1.41.59.51 0 1.02-.2 1.41-.59l7.78-7.78 2.81-2.81c.8-.78.8-2.07 0-2.86zM5.41 20L4 18.59l7.72-7.72 1.47 1.35L5.41 20z\"/>\n",
              "  </svg>\n",
              "      </button>\n",
              "      \n",
              "  <style>\n",
              "    .colab-df-container {\n",
              "      display:flex;\n",
              "      flex-wrap:wrap;\n",
              "      gap: 12px;\n",
              "    }\n",
              "\n",
              "    .colab-df-convert {\n",
              "      background-color: #E8F0FE;\n",
              "      border: none;\n",
              "      border-radius: 50%;\n",
              "      cursor: pointer;\n",
              "      display: none;\n",
              "      fill: #1967D2;\n",
              "      height: 32px;\n",
              "      padding: 0 0 0 0;\n",
              "      width: 32px;\n",
              "    }\n",
              "\n",
              "    .colab-df-convert:hover {\n",
              "      background-color: #E2EBFA;\n",
              "      box-shadow: 0px 1px 2px rgba(60, 64, 67, 0.3), 0px 1px 3px 1px rgba(60, 64, 67, 0.15);\n",
              "      fill: #174EA6;\n",
              "    }\n",
              "\n",
              "    [theme=dark] .colab-df-convert {\n",
              "      background-color: #3B4455;\n",
              "      fill: #D2E3FC;\n",
              "    }\n",
              "\n",
              "    [theme=dark] .colab-df-convert:hover {\n",
              "      background-color: #434B5C;\n",
              "      box-shadow: 0px 1px 3px 1px rgba(0, 0, 0, 0.15);\n",
              "      filter: drop-shadow(0px 1px 2px rgba(0, 0, 0, 0.3));\n",
              "      fill: #FFFFFF;\n",
              "    }\n",
              "  </style>\n",
              "\n",
              "      <script>\n",
              "        const buttonEl =\n",
              "          document.querySelector('#df-c9702b57-4991-434b-825e-24036355d149 button.colab-df-convert');\n",
              "        buttonEl.style.display =\n",
              "          google.colab.kernel.accessAllowed ? 'block' : 'none';\n",
              "\n",
              "        async function convertToInteractive(key) {\n",
              "          const element = document.querySelector('#df-c9702b57-4991-434b-825e-24036355d149');\n",
              "          const dataTable =\n",
              "            await google.colab.kernel.invokeFunction('convertToInteractive',\n",
              "                                                     [key], {});\n",
              "          if (!dataTable) return;\n",
              "\n",
              "          const docLinkHtml = 'Like what you see? Visit the ' +\n",
              "            '<a target=\"_blank\" href=https://colab.research.google.com/notebooks/data_table.ipynb>data table notebook</a>'\n",
              "            + ' to learn more about interactive tables.';\n",
              "          element.innerHTML = '';\n",
              "          dataTable['output_type'] = 'display_data';\n",
              "          await google.colab.output.renderOutput(dataTable, element);\n",
              "          const docLink = document.createElement('div');\n",
              "          docLink.innerHTML = docLinkHtml;\n",
              "          element.appendChild(docLink);\n",
              "        }\n",
              "      </script>\n",
              "    </div>\n",
              "  </div>\n",
              "  "
            ],
            "text/plain": [
              "      Age  Gender  Heart rate  Systolic blood pressure  \\\n",
              "0      64       1          66                      160   \n",
              "1      21       1          94                       98   \n",
              "2      55       1          64                      160   \n",
              "3      64       1          70                      120   \n",
              "4      55       1          64                      112   \n",
              "...   ...     ...         ...                      ...   \n",
              "1314   44       1          94                      122   \n",
              "1315   66       1          84                      125   \n",
              "1316   45       1          85                      168   \n",
              "1317   54       1          58                      117   \n",
              "1318   51       1          94                      157   \n",
              "\n",
              "      Diastolic blood pressure  Blood sugar  CK-MB  Troponin    Result  \n",
              "0                           83        160.0   1.80     0.012  negative  \n",
              "1                           46        296.0   6.75     1.060  positive  \n",
              "2                           77        270.0   1.99     0.003  negative  \n",
              "3                           55        270.0  13.87     0.122  positive  \n",
              "4                           65        300.0   1.08     0.003  negative  \n",
              "...                        ...          ...    ...       ...       ...  \n",
              "1314                        67        204.0   1.63     0.006  negative  \n",
              "1315                        55        149.0   1.33     0.172  positive  \n",
              "1316                       104         96.0   1.24     4.250  positive  \n",
              "1317                        68        443.0   5.80     0.359  positive  \n",
              "1318                        79        134.0  50.89     1.770  positive  \n",
              "\n",
              "[1319 rows x 9 columns]"
            ]
          },
          "execution_count": 428,
          "metadata": {},
          "output_type": "execute_result"
        }
      ],
      "source": [
        "data"
      ]
    },
    {
      "cell_type": "markdown",
      "metadata": {
        "id": "5h1vm5EwTfbY"
      },
      "source": [
        "# Data Description\n",
        "\n",
        "The attributes of this dataset are:\n",
        "\n",
        "**Age** : The age of the patient .\n",
        "\n",
        "**Gender** : Gender of the Patient.\n",
        "\n",
        "**Heart rate** : Heart rate is the frequency of the heartbeat measured by the number of contractions of the heart per minute.\n",
        "\n",
        "**Systolic blood pressure** : Systolic blood pressure, or the top number, is the amount of pressure experienced by the arteries while the heart is beating.\n",
        "\n",
        "**Diastolic blood pressure** :  Diastolic blood pressure (the bottom number) is the amount of pressure in the arteries while the heart is resting in between heart beats.\n",
        "\n",
        "**Blood sugar** : The concentration of glucose in the blood.\n",
        "\n",
        "**ck-mb** :Creatine kinase (CK) is an enzyme (a molecule that helps speed up certain chemical reactions) that occurs naturally inside muscle cells throughout your body.\n",
        "\n",
        "**Troponin** with negative or positive output : Troponin is a type of protein found in the muscles of your heart.\n",
        "\n",
        "According to the provided information, the medical dataset classifies either heart attack or none. The gender column in the data is normalized: the male is set to 1 and the female to 0. The glucose column is set to 1 if it is > 120; otherwise, 0. As for the output, positive is set to 1 and negative to 0."
      ]
    },
    {
      "cell_type": "markdown",
      "metadata": {
        "id": "6MxxDgBgUfay"
      },
      "source": [
        "## Defining the problem Statement\n",
        "\n",
        "Create a Predictive model which can tell if a person will be affected by heart disease or not?\n",
        "\n",
        "Target Variable: Results\n",
        "Predictors: Age, Gender etc.\n",
        "\n",
        "Positive=0 The passenger died\n",
        "Negative=1 The passenger survived"
      ]
    },
    {
      "cell_type": "markdown",
      "metadata": {
        "id": "hsfeAEtNU8pj"
      },
      "source": [
        "## Looking at the distribution of the target variable"
      ]
    },
    {
      "cell_type": "code",
      "execution_count": null,
      "metadata": {
        "colab": {
          "base_uri": "https://localhost:8080/"
        },
        "id": "k2mkb9M9ULEU",
        "outputId": "689769ac-48d6-46be-d0cc-67822ee53d8f"
      },
      "outputs": [
        {
          "data": {
            "text/plain": [
              "2"
            ]
          },
          "execution_count": 429,
          "metadata": {},
          "output_type": "execute_result"
        }
      ],
      "source": [
        "results=data.groupby('Result').size()\n",
        "results.count()"
      ]
    },
    {
      "cell_type": "code",
      "execution_count": null,
      "metadata": {
        "colab": {
          "base_uri": "https://localhost:8080/",
          "height": 112
        },
        "id": "dkNmf4L5XFoz",
        "outputId": "6ad6469d-d0e9-499b-d913-583b92509693"
      },
      "outputs": [
        {
          "data": {
            "text/html": [
              "\n",
              "  <div id=\"df-ccadbace-f914-46c9-9e89-225ebdd321b7\">\n",
              "    <div class=\"colab-df-container\">\n",
              "      <div>\n",
              "<style scoped>\n",
              "    .dataframe tbody tr th:only-of-type {\n",
              "        vertical-align: middle;\n",
              "    }\n",
              "\n",
              "    .dataframe tbody tr th {\n",
              "        vertical-align: top;\n",
              "    }\n",
              "\n",
              "    .dataframe thead th {\n",
              "        text-align: right;\n",
              "    }\n",
              "</style>\n",
              "<table border=\"1\" class=\"dataframe\">\n",
              "  <thead>\n",
              "    <tr style=\"text-align: right;\">\n",
              "      <th></th>\n",
              "      <th>Result</th>\n",
              "    </tr>\n",
              "  </thead>\n",
              "  <tbody>\n",
              "    <tr>\n",
              "      <th>positive</th>\n",
              "      <td>810</td>\n",
              "    </tr>\n",
              "    <tr>\n",
              "      <th>negative</th>\n",
              "      <td>509</td>\n",
              "    </tr>\n",
              "  </tbody>\n",
              "</table>\n",
              "</div>\n",
              "      <button class=\"colab-df-convert\" onclick=\"convertToInteractive('df-ccadbace-f914-46c9-9e89-225ebdd321b7')\"\n",
              "              title=\"Convert this dataframe to an interactive table.\"\n",
              "              style=\"display:none;\">\n",
              "        \n",
              "  <svg xmlns=\"http://www.w3.org/2000/svg\" height=\"24px\"viewBox=\"0 0 24 24\"\n",
              "       width=\"24px\">\n",
              "    <path d=\"M0 0h24v24H0V0z\" fill=\"none\"/>\n",
              "    <path d=\"M18.56 5.44l.94 2.06.94-2.06 2.06-.94-2.06-.94-.94-2.06-.94 2.06-2.06.94zm-11 1L8.5 8.5l.94-2.06 2.06-.94-2.06-.94L8.5 2.5l-.94 2.06-2.06.94zm10 10l.94 2.06.94-2.06 2.06-.94-2.06-.94-.94-2.06-.94 2.06-2.06.94z\"/><path d=\"M17.41 7.96l-1.37-1.37c-.4-.4-.92-.59-1.43-.59-.52 0-1.04.2-1.43.59L10.3 9.45l-7.72 7.72c-.78.78-.78 2.05 0 2.83L4 21.41c.39.39.9.59 1.41.59.51 0 1.02-.2 1.41-.59l7.78-7.78 2.81-2.81c.8-.78.8-2.07 0-2.86zM5.41 20L4 18.59l7.72-7.72 1.47 1.35L5.41 20z\"/>\n",
              "  </svg>\n",
              "      </button>\n",
              "      \n",
              "  <style>\n",
              "    .colab-df-container {\n",
              "      display:flex;\n",
              "      flex-wrap:wrap;\n",
              "      gap: 12px;\n",
              "    }\n",
              "\n",
              "    .colab-df-convert {\n",
              "      background-color: #E8F0FE;\n",
              "      border: none;\n",
              "      border-radius: 50%;\n",
              "      cursor: pointer;\n",
              "      display: none;\n",
              "      fill: #1967D2;\n",
              "      height: 32px;\n",
              "      padding: 0 0 0 0;\n",
              "      width: 32px;\n",
              "    }\n",
              "\n",
              "    .colab-df-convert:hover {\n",
              "      background-color: #E2EBFA;\n",
              "      box-shadow: 0px 1px 2px rgba(60, 64, 67, 0.3), 0px 1px 3px 1px rgba(60, 64, 67, 0.15);\n",
              "      fill: #174EA6;\n",
              "    }\n",
              "\n",
              "    [theme=dark] .colab-df-convert {\n",
              "      background-color: #3B4455;\n",
              "      fill: #D2E3FC;\n",
              "    }\n",
              "\n",
              "    [theme=dark] .colab-df-convert:hover {\n",
              "      background-color: #434B5C;\n",
              "      box-shadow: 0px 1px 3px 1px rgba(0, 0, 0, 0.15);\n",
              "      filter: drop-shadow(0px 1px 2px rgba(0, 0, 0, 0.3));\n",
              "      fill: #FFFFFF;\n",
              "    }\n",
              "  </style>\n",
              "\n",
              "      <script>\n",
              "        const buttonEl =\n",
              "          document.querySelector('#df-ccadbace-f914-46c9-9e89-225ebdd321b7 button.colab-df-convert');\n",
              "        buttonEl.style.display =\n",
              "          google.colab.kernel.accessAllowed ? 'block' : 'none';\n",
              "\n",
              "        async function convertToInteractive(key) {\n",
              "          const element = document.querySelector('#df-ccadbace-f914-46c9-9e89-225ebdd321b7');\n",
              "          const dataTable =\n",
              "            await google.colab.kernel.invokeFunction('convertToInteractive',\n",
              "                                                     [key], {});\n",
              "          if (!dataTable) return;\n",
              "\n",
              "          const docLinkHtml = 'Like what you see? Visit the ' +\n",
              "            '<a target=\"_blank\" href=https://colab.research.google.com/notebooks/data_table.ipynb>data table notebook</a>'\n",
              "            + ' to learn more about interactive tables.';\n",
              "          element.innerHTML = '';\n",
              "          dataTable['output_type'] = 'display_data';\n",
              "          await google.colab.output.renderOutput(dataTable, element);\n",
              "          const docLink = document.createElement('div');\n",
              "          docLink.innerHTML = docLinkHtml;\n",
              "          element.appendChild(docLink);\n",
              "        }\n",
              "      </script>\n",
              "    </div>\n",
              "  </div>\n",
              "  "
            ],
            "text/plain": [
              "          Result\n",
              "positive     810\n",
              "negative     509"
            ]
          },
          "execution_count": 430,
          "metadata": {},
          "output_type": "execute_result"
        }
      ],
      "source": [
        "res=data['Result'].value_counts()\n",
        "res=pd.DataFrame(res)\n",
        "res"
      ]
    },
    {
      "cell_type": "code",
      "execution_count": null,
      "metadata": {
        "colab": {
          "base_uri": "https://localhost:8080/",
          "height": 494
        },
        "id": "b2Yq0DOgViKF",
        "outputId": "142bb9f2-6aef-42c3-bbf4-f31d57b8e3a9"
      },
      "outputs": [
        {
          "data": {
            "text/plain": [
              "<Axes: >"
            ]
          },
          "execution_count": 431,
          "metadata": {},
          "output_type": "execute_result"
        },
        {
          "data": {
            "image/png": "[encoded data removed]",
            "text/plain": [
              "<Figure size 640x480 with 1 Axes>"
            ]
          },
          "metadata": {},
          "output_type": "display_data"
        }
      ],
      "source": [
        "res.plot(kind='bar')"
      ]
    },
    {
      "cell_type": "markdown",
      "metadata": {
        "id": "nd_YTL1AZQB1"
      },
      "source": [
        "## Basic Data Exploration"
      ]
    },
    {
      "cell_type": "code",
      "execution_count": null,
      "metadata": {
        "colab": {
          "base_uri": "https://localhost:8080/"
        },
        "id": "SH1GJ-MJUHd0",
        "outputId": "896eed78-8c12-4912-b236-9c9c32512e0d"
      },
      "outputs": [
        {
          "data": {
            "text/plain": [
              "11871"
            ]
          },
          "execution_count": 432,
          "metadata": {},
          "output_type": "execute_result"
        }
      ],
      "source": [
        "data.size"
      ]
    },
    {
      "cell_type": "code",
      "execution_count": null,
      "metadata": {
        "colab": {
          "base_uri": "https://localhost:8080/"
        },
        "id": "OqeSK6nkGaPB",
        "outputId": "a2d84da5-e4d8-4438-9ffa-a4fc920c661d"
      },
      "outputs": [
        {
          "name": "stdout",
          "output_type": "stream",
          "text": [
            "<class 'pandas.core.frame.DataFrame'>\n",
            "RangeIndex: 1319 entries, 0 to 1318\n",
            "Data columns (total 9 columns):\n",
            " #   Column                    Non-Null Count  Dtype  \n",
            "---  ------                    --------------  -----  \n",
            " 0   Age                       1319 non-null   int64  \n",
            " 1   Gender                    1319 non-null   int64  \n",
            " 2   Heart rate                1319 non-null   int64  \n",
            " 3   Systolic blood pressure   1319 non-null   int64  \n",
            " 4   Diastolic blood pressure  1319 non-null   int64  \n",
            " 5   Blood sugar               1319 non-null   float64\n",
            " 6   CK-MB                     1319 non-null   float64\n",
            " 7   Troponin                  1319 non-null   float64\n",
            " 8   Result                    1319 non-null   object \n",
            "dtypes: float64(3), int64(5), object(1)\n",
            "memory usage: 92.9+ KB\n"
          ]
        }
      ],
      "source": [
        "data.info()"
      ]
    },
    {
      "cell_type": "code",
      "execution_count": null,
      "metadata": {
        "colab": {
          "base_uri": "https://localhost:8080/",
          "height": 300
        },
        "id": "iWgQ1SwcT3Qh",
        "outputId": "ea75a9f2-1c71-4904-e61c-633983f6676d"
      },
      "outputs": [
        {
          "data": {
            "text/html": [
              "\n",
              "  <div id=\"df-91eafec4-371e-4f50-b0da-cc8b8d4f13e4\">\n",
              "    <div class=\"colab-df-container\">\n",
              "      <div>\n",
              "<style scoped>\n",
              "    .dataframe tbody tr th:only-of-type {\n",
              "        vertical-align: middle;\n",
              "    }\n",
              "\n",
              "    .dataframe tbody tr th {\n",
              "        vertical-align: top;\n",
              "    }\n",
              "\n",
              "    .dataframe thead th {\n",
              "        text-align: right;\n",
              "    }\n",
              "</style>\n",
              "<table border=\"1\" class=\"dataframe\">\n",
              "  <thead>\n",
              "    <tr style=\"text-align: right;\">\n",
              "      <th></th>\n",
              "      <th>Age</th>\n",
              "      <th>Gender</th>\n",
              "      <th>Heart rate</th>\n",
              "      <th>Systolic blood pressure</th>\n",
              "      <th>Diastolic blood pressure</th>\n",
              "      <th>Blood sugar</th>\n",
              "      <th>CK-MB</th>\n",
              "      <th>Troponin</th>\n",
              "    </tr>\n",
              "  </thead>\n",
              "  <tbody>\n",
              "    <tr>\n",
              "      <th>count</th>\n",
              "      <td>1319.000000</td>\n",
              "      <td>1319.000000</td>\n",
              "      <td>1319.000000</td>\n",
              "      <td>1319.000000</td>\n",
              "      <td>1319.000000</td>\n",
              "      <td>1319.000000</td>\n",
              "      <td>1319.000000</td>\n",
              "      <td>1319.000000</td>\n",
              "    </tr>\n",
              "    <tr>\n",
              "      <th>mean</th>\n",
              "      <td>56.191812</td>\n",
              "      <td>0.659591</td>\n",
              "      <td>78.336619</td>\n",
              "      <td>127.170584</td>\n",
              "      <td>72.269143</td>\n",
              "      <td>146.634344</td>\n",
              "      <td>15.274306</td>\n",
              "      <td>0.360942</td>\n",
              "    </tr>\n",
              "    <tr>\n",
              "      <th>std</th>\n",
              "      <td>13.647315</td>\n",
              "      <td>0.474027</td>\n",
              "      <td>51.630270</td>\n",
              "      <td>26.122720</td>\n",
              "      <td>14.033924</td>\n",
              "      <td>74.923045</td>\n",
              "      <td>46.327083</td>\n",
              "      <td>1.154568</td>\n",
              "    </tr>\n",
              "    <tr>\n",
              "      <th>min</th>\n",
              "      <td>14.000000</td>\n",
              "      <td>0.000000</td>\n",
              "      <td>20.000000</td>\n",
              "      <td>42.000000</td>\n",
              "      <td>38.000000</td>\n",
              "      <td>35.000000</td>\n",
              "      <td>0.321000</td>\n",
              "      <td>0.001000</td>\n",
              "    </tr>\n",
              "    <tr>\n",
              "      <th>25%</th>\n",
              "      <td>47.000000</td>\n",
              "      <td>0.000000</td>\n",
              "      <td>64.000000</td>\n",
              "      <td>110.000000</td>\n",
              "      <td>62.000000</td>\n",
              "      <td>98.000000</td>\n",
              "      <td>1.655000</td>\n",
              "      <td>0.006000</td>\n",
              "    </tr>\n",
              "    <tr>\n",
              "      <th>50%</th>\n",
              "      <td>58.000000</td>\n",
              "      <td>1.000000</td>\n",
              "      <td>74.000000</td>\n",
              "      <td>124.000000</td>\n",
              "      <td>72.000000</td>\n",
              "      <td>116.000000</td>\n",
              "      <td>2.850000</td>\n",
              "      <td>0.014000</td>\n",
              "    </tr>\n",
              "    <tr>\n",
              "      <th>75%</th>\n",
              "      <td>65.000000</td>\n",
              "      <td>1.000000</td>\n",
              "      <td>85.000000</td>\n",
              "      <td>143.000000</td>\n",
              "      <td>81.000000</td>\n",
              "      <td>169.500000</td>\n",
              "      <td>5.805000</td>\n",
              "      <td>0.085500</td>\n",
              "    </tr>\n",
              "    <tr>\n",
              "      <th>max</th>\n",
              "      <td>103.000000</td>\n",
              "      <td>1.000000</td>\n",
              "      <td>1111.000000</td>\n",
              "      <td>223.000000</td>\n",
              "      <td>154.000000</td>\n",
              "      <td>541.000000</td>\n",
              "      <td>300.000000</td>\n",
              "      <td>10.300000</td>\n",
              "    </tr>\n",
              "  </tbody>\n",
              "</table>\n",
              "</div>\n",
              "      <button class=\"colab-df-convert\" onclick=\"convertToInteractive('df-91eafec4-371e-4f50-b0da-cc8b8d4f13e4')\"\n",
              "              title=\"Convert this dataframe to an interactive table.\"\n",
              "              style=\"display:none;\">\n",
              "        \n",
              "  <svg xmlns=\"http://www.w3.org/2000/svg\" height=\"24px\"viewBox=\"0 0 24 24\"\n",
              "       width=\"24px\">\n",
              "    <path d=\"M0 0h24v24H0V0z\" fill=\"none\"/>\n",
              "    <path d=\"M18.56 5.44l.94 2.06.94-2.06 2.06-.94-2.06-.94-.94-2.06-.94 2.06-2.06.94zm-11 1L8.5 8.5l.94-2.06 2.06-.94-2.06-.94L8.5 2.5l-.94 2.06-2.06.94zm10 10l.94 2.06.94-2.06 2.06-.94-2.06-.94-.94-2.06-.94 2.06-2.06.94z\"/><path d=\"M17.41 7.96l-1.37-1.37c-.4-.4-.92-.59-1.43-.59-.52 0-1.04.2-1.43.59L10.3 9.45l-7.72 7.72c-.78.78-.78 2.05 0 2.83L4 21.41c.39.39.9.59 1.41.59.51 0 1.02-.2 1.41-.59l7.78-7.78 2.81-2.81c.8-.78.8-2.07 0-2.86zM5.41 20L4 18.59l7.72-7.72 1.47 1.35L5.41 20z\"/>\n",
              "  </svg>\n",
              "      </button>\n",
              "      \n",
              "  <style>\n",
              "    .colab-df-container {\n",
              "      display:flex;\n",
              "      flex-wrap:wrap;\n",
              "      gap: 12px;\n",
              "    }\n",
              "\n",
              "    .colab-df-convert {\n",
              "      background-color: #E8F0FE;\n",
              "      border: none;\n",
              "      border-radius: 50%;\n",
              "      cursor: pointer;\n",
              "      display: none;\n",
              "      fill: #1967D2;\n",
              "      height: 32px;\n",
              "      padding: 0 0 0 0;\n",
              "      width: 32px;\n",
              "    }\n",
              "\n",
              "    .colab-df-convert:hover {\n",
              "      background-color: #E2EBFA;\n",
              "      box-shadow: 0px 1px 2px rgba(60, 64, 67, 0.3), 0px 1px 3px 1px rgba(60, 64, 67, 0.15);\n",
              "      fill: #174EA6;\n",
              "    }\n",
              "\n",
              "    [theme=dark] .colab-df-convert {\n",
              "      background-color: #3B4455;\n",
              "      fill: #D2E3FC;\n",
              "    }\n",
              "\n",
              "    [theme=dark] .colab-df-convert:hover {\n",
              "      background-color: #434B5C;\n",
              "      box-shadow: 0px 1px 3px 1px rgba(0, 0, 0, 0.15);\n",
              "      filter: drop-shadow(0px 1px 2px rgba(0, 0, 0, 0.3));\n",
              "      fill: #FFFFFF;\n",
              "    }\n",
              "  </style>\n",
              "\n",
              "      <script>\n",
              "        const buttonEl =\n",
              "          document.querySelector('#df-91eafec4-371e-4f50-b0da-cc8b8d4f13e4 button.colab-df-convert');\n",
              "        buttonEl.style.display =\n",
              "          google.colab.kernel.accessAllowed ? 'block' : 'none';\n",
              "\n",
              "        async function convertToInteractive(key) {\n",
              "          const element = document.querySelector('#df-91eafec4-371e-4f50-b0da-cc8b8d4f13e4');\n",
              "          const dataTable =\n",
              "            await google.colab.kernel.invokeFunction('convertToInteractive',\n",
              "                                                     [key], {});\n",
              "          if (!dataTable) return;\n",
              "\n",
              "          const docLinkHtml = 'Like what you see? Visit the ' +\n",
              "            '<a target=\"_blank\" href=https://colab.research.google.com/notebooks/data_table.ipynb>data table notebook</a>'\n",
              "            + ' to learn more about interactive tables.';\n",
              "          element.innerHTML = '';\n",
              "          dataTable['output_type'] = 'display_data';\n",
              "          await google.colab.output.renderOutput(dataTable, element);\n",
              "          const docLink = document.createElement('div');\n",
              "          docLink.innerHTML = docLinkHtml;\n",
              "          element.appendChild(docLink);\n",
              "        }\n",
              "      </script>\n",
              "    </div>\n",
              "  </div>\n",
              "  "
            ],
            "text/plain": [
              "               Age       Gender   Heart rate  Systolic blood pressure  \\\n",
              "count  1319.000000  1319.000000  1319.000000              1319.000000   \n",
              "mean     56.191812     0.659591    78.336619               127.170584   \n",
              "std      13.647315     0.474027    51.630270                26.122720   \n",
              "min      14.000000     0.000000    20.000000                42.000000   \n",
              "25%      47.000000     0.000000    64.000000               110.000000   \n",
              "50%      58.000000     1.000000    74.000000               124.000000   \n",
              "75%      65.000000     1.000000    85.000000               143.000000   \n",
              "max     103.000000     1.000000  1111.000000               223.000000   \n",
              "\n",
              "       Diastolic blood pressure  Blood sugar        CK-MB     Troponin  \n",
              "count               1319.000000  1319.000000  1319.000000  1319.000000  \n",
              "mean                  72.269143   146.634344    15.274306     0.360942  \n",
              "std                   14.033924    74.923045    46.327083     1.154568  \n",
              "min                   38.000000    35.000000     0.321000     0.001000  \n",
              "25%                   62.000000    98.000000     1.655000     0.006000  \n",
              "50%                   72.000000   116.000000     2.850000     0.014000  \n",
              "75%                   81.000000   169.500000     5.805000     0.085500  \n",
              "max                  154.000000   541.000000   300.000000    10.300000  "
            ]
          },
          "execution_count": 434,
          "metadata": {},
          "output_type": "execute_result"
        }
      ],
      "source": [
        "data.describe()"
      ]
    },
    {
      "cell_type": "code",
      "execution_count": null,
      "metadata": {
        "colab": {
          "base_uri": "https://localhost:8080/"
        },
        "id": "imMtajWqT5En",
        "outputId": "170f5a64-40fc-4ee0-ae8f-e1ed7dc4d96e"
      },
      "outputs": [
        {
          "data": {
            "text/plain": [
              "(1319, 9)"
            ]
          },
          "execution_count": 435,
          "metadata": {},
          "output_type": "execute_result"
        }
      ],
      "source": [
        "data.shape"
      ]
    },
    {
      "cell_type": "code",
      "execution_count": null,
      "metadata": {
        "colab": {
          "base_uri": "https://localhost:8080/"
        },
        "id": "JQe8LUM9T7aG",
        "outputId": "bd78fff0-cfe1-479e-f590-405dfc69ca73"
      },
      "outputs": [
        {
          "data": {
            "text/plain": [
              "2"
            ]
          },
          "execution_count": 436,
          "metadata": {},
          "output_type": "execute_result"
        }
      ],
      "source": [
        "data.ndim"
      ]
    },
    {
      "cell_type": "code",
      "execution_count": null,
      "metadata": {
        "colab": {
          "base_uri": "https://localhost:8080/"
        },
        "id": "Dp44YIeqZWxB",
        "outputId": "57d8b76e-d927-4796-c824-2bd2fc3e0864"
      },
      "outputs": [
        {
          "data": {
            "text/plain": [
              "Age                         0\n",
              "Gender                      0\n",
              "Heart rate                  0\n",
              "Systolic blood pressure     0\n",
              "Diastolic blood pressure    0\n",
              "Blood sugar                 0\n",
              "CK-MB                       0\n",
              "Troponin                    0\n",
              "Result                      0\n",
              "dtype: int64"
            ]
          },
          "execution_count": 437,
          "metadata": {},
          "output_type": "execute_result"
        }
      ],
      "source": [
        "data.isnull().sum()"
      ]
    },
    {
      "cell_type": "code",
      "execution_count": null,
      "metadata": {
        "colab": {
          "base_uri": "https://localhost:8080/"
        },
        "id": "C0XN1r1UZWyq",
        "outputId": "eb811ded-9aa9-4b7e-ba13-f019238fb6f6"
      },
      "outputs": [
        {
          "data": {
            "text/plain": [
              "Age                           int64\n",
              "Gender                        int64\n",
              "Heart rate                    int64\n",
              "Systolic blood pressure       int64\n",
              "Diastolic blood pressure      int64\n",
              "Blood sugar                 float64\n",
              "CK-MB                       float64\n",
              "Troponin                    float64\n",
              "Result                       object\n",
              "dtype: object"
            ]
          },
          "execution_count": 438,
          "metadata": {},
          "output_type": "execute_result"
        }
      ],
      "source": [
        "data.dtypes"
      ]
    },
    {
      "cell_type": "code",
      "execution_count": null,
      "metadata": {
        "colab": {
          "base_uri": "https://localhost:8080/"
        },
        "id": "DiJ6e8NsZW0f",
        "outputId": "1c62f7b2-9231-47ec-e1e4-35b45696cfa7"
      },
      "outputs": [
        {
          "data": {
            "text/plain": [
              "Index(['Age', 'Gender', 'Heart rate', 'Systolic blood pressure',\n",
              "       'Diastolic blood pressure', 'Blood sugar', 'CK-MB', 'Troponin',\n",
              "       'Result'],\n",
              "      dtype='object')"
            ]
          },
          "execution_count": 439,
          "metadata": {},
          "output_type": "execute_result"
        }
      ],
      "source": [
        "data.columns"
      ]
    },
    {
      "cell_type": "code",
      "execution_count": null,
      "metadata": {
        "colab": {
          "base_uri": "https://localhost:8080/"
        },
        "id": "iXYm1S3tZW2S",
        "outputId": "1acdffaa-d864-4d42-9a6e-c718f59beb05"
      },
      "outputs": [
        {
          "data": {
            "text/plain": [
              "0"
            ]
          },
          "execution_count": 440,
          "metadata": {},
          "output_type": "execute_result"
        }
      ],
      "source": [
        "data.duplicated().sum()"
      ]
    },
    {
      "cell_type": "code",
      "execution_count": null,
      "metadata": {
        "colab": {
          "base_uri": "https://localhost:8080/"
        },
        "id": "aIgwlEftZW4K",
        "outputId": "000261e0-0866-49f5-af3f-a835db5e5c7f"
      },
      "outputs": [
        {
          "data": {
            "text/plain": [
              "Age                          75\n",
              "Gender                        2\n",
              "Heart rate                   79\n",
              "Systolic blood pressure     116\n",
              "Diastolic blood pressure     73\n",
              "Blood sugar                 244\n",
              "CK-MB                       700\n",
              "Troponin                    352\n",
              "Result                        2\n",
              "dtype: int64"
            ]
          },
          "execution_count": 441,
          "metadata": {},
          "output_type": "execute_result"
        }
      ],
      "source": [
        "data.nunique()"
      ]
    },
    {
      "cell_type": "markdown",
      "metadata": {
        "id": "iy73OHEUavEe"
      },
      "source": [
        "## Visual Data Visualisation and Data Distribution"
      ]
    },
    {
      "cell_type": "code",
      "execution_count": null,
      "metadata": {
        "colab": {
          "base_uri": "https://localhost:8080/",
          "height": 992
        },
        "id": "-c3VqpkJZW6L",
        "outputId": "865f9734-56af-49d2-c404-758cdbbddb5f"
      },
      "outputs": [
        {
          "data": {
            "text/plain": [
              "array([[<Axes: title={'center': 'Age'}>,\n",
              "        <Axes: title={'center': 'Heart rate'}>,\n",
              "        <Axes: title={'center': 'Systolic blood pressure'}>],\n",
              "       [<Axes: title={'center': 'Diastolic blood pressure'}>,\n",
              "        <Axes: title={'center': 'Blood sugar'}>,\n",
              "        <Axes: title={'center': 'CK-MB'}>],\n",
              "       [<Axes: title={'center': 'Troponin'}>, <Axes: >, <Axes: >]],\n",
              "      dtype=object)"
            ]
          },
          "execution_count": 442,
          "metadata": {},
          "output_type": "execute_result"
        },
        {
          "data": {
            "image/png": "[encoded data removed]",
            "text/plain": [
              "<Figure size 1000x1000 with 9 Axes>"
            ]
          },
          "metadata": {},
          "output_type": "display_data"
        }
      ],
      "source": [
        "data.hist(['Age','Heart rate','Systolic blood pressure',\n",
        "'Diastolic blood pressure',\n",
        "'Blood sugar'  ,\n",
        "'CK-MB'      ,\n",
        "'Troponin'],figsize=(10,10))"
      ]
    },
    {
      "cell_type": "code",
      "execution_count": null,
      "metadata": {
        "colab": {
          "base_uri": "https://localhost:8080/",
          "height": 1000
        },
        "id": "oi_XahDtZW8E",
        "outputId": "8439c370-648f-4835-f19b-bdefdd94f3ec"
      },
      "outputs": [
        {
          "data": {
            "image/png": "[encoded data removed]",
            "text/plain": [
              "<Figure size 500x500 with 1 Axes>"
            ]
          },
          "metadata": {},
          "output_type": "display_data"
        },
        {
          "data": {
            "image/png": "[encoded data removed]",
            "text/plain": [
              "<Figure size 500x500 with 1 Axes>"
            ]
          },
          "metadata": {},
          "output_type": "display_data"
        },
        {
          "data": {
            "image/png": "[encoded data removed]",
            "text/plain": [
              "<Figure size 500x500 with 1 Axes>"
            ]
          },
          "metadata": {},
          "output_type": "display_data"
        },
        {
          "data": {
            "image/png": "[encoded data removed]",
            "text/plain": [
              "<Figure size 500x500 with 1 Axes>"
            ]
          },
          "metadata": {},
          "output_type": "display_data"
        },
        {
          "data": {
            "image/png": "[encoded data removed]",
            "text/plain": [
              "<Figure size 500x500 with 1 Axes>"
            ]
          },
          "metadata": {},
          "output_type": "display_data"
        },
        {
          "data": {
            "image/png": "[encoded data removed]",
            "text/plain": [
              "<Figure size 500x500 with 1 Axes>"
            ]
          },
          "metadata": {},
          "output_type": "display_data"
        },
        {
          "data": {
            "image/png": "[encoded data removed]",
            "text/plain": [
              "<Figure size 500x500 with 1 Axes>"
            ]
          },
          "metadata": {},
          "output_type": "display_data"
        }
      ],
      "source": [
        "ContinuousCols=data[['Age','Heart rate','Systolic blood pressure','Diastolic blood pressure','Blood sugar','CK-MB','Troponin']]\n",
        "for kdes in ContinuousCols:\n",
        "    sns.displot(data[kdes],kde=True)"
      ]
    },
    {
      "cell_type": "markdown",
      "metadata": {
        "id": "uiQ238861C1w"
      },
      "source": [
        "Age data is normally distributed and has few outliers to remove.\n",
        "\n",
        "Heart rate is Right skewed data and outliers has to be treated.\n",
        "\n",
        "Systolic blood pressure is similar to normal distribution.\n",
        "\n",
        "Diabolic blood pressure is right skewed data.\n",
        "\n",
        "Blood sugar level is right skewed data.\n",
        "\n",
        "Ck-mb is right skewed and needs outliers to be treated.\n",
        "\n",
        "Troponin is right skewed and needs outliers to be treated.\n"
      ]
    },
    {
      "cell_type": "code",
      "execution_count": null,
      "metadata": {
        "colab": {
          "base_uri": "https://localhost:8080/",
          "height": 494
        },
        "id": "RbaJvQSoZW_O",
        "outputId": "57b1c624-3600-4fe6-ee4b-244039475b6b"
      },
      "outputs": [
        {
          "data": {
            "text/plain": [
              "<Axes: >"
            ]
          },
          "execution_count": 444,
          "metadata": {},
          "output_type": "execute_result"
        },
        {
          "data": {
            "image/png": "[encoded data removed]",
            "text/plain": [
              "<Figure size 640x480 with 1 Axes>"
            ]
          },
          "metadata": {},
          "output_type": "display_data"
        }
      ],
      "source": [
        "res=data['Result'].value_counts()\n",
        "res=pd.DataFrame(res)\n",
        "res.plot(kind='bar')"
      ]
    },
    {
      "cell_type": "code",
      "execution_count": null,
      "metadata": {
        "colab": {
          "base_uri": "https://localhost:8080/",
          "height": 442
        },
        "id": "9JL1fU4NZXCm",
        "outputId": "473979d6-01c5-4624-965b-9024eae512de"
      },
      "outputs": [
        {
          "data": {
            "text/plain": [
              "<Axes: >"
            ]
          },
          "execution_count": 445,
          "metadata": {},
          "output_type": "execute_result"
        },
        {
          "data": {
            "image/png": "[encoded data removed]",
            "text/plain": [
              "<Figure size 640x480 with 1 Axes>"
            ]
          },
          "metadata": {},
          "output_type": "display_data"
        }
      ],
      "source": [
        "gen=data['Gender'].value_counts()\n",
        "gen=pd.DataFrame(gen)\n",
        "gen.plot(kind='bar')"
      ]
    },
    {
      "cell_type": "markdown",
      "metadata": {
        "id": "plKFEP89k61j"
      },
      "source": [
        "## Outlier Treatment"
      ]
    },
    {
      "cell_type": "code",
      "execution_count": null,
      "metadata": {
        "colab": {
          "base_uri": "https://localhost:8080/",
          "height": 1000
        },
        "id": "CfBDLIodlLxq",
        "outputId": "e4a60029-08c7-4433-e234-8d683ec338b0"
      },
      "outputs": [
        {
          "data": {
            "image/png": "[encoded data removed]",
            "text/plain": [
              "<Figure size 640x480 with 1 Axes>"
            ]
          },
          "metadata": {},
          "output_type": "display_data"
        },
        {
          "data": {
            "image/png": "[encoded data removed]",
            "text/plain": [
              "<Figure size 640x480 with 1 Axes>"
            ]
          },
          "metadata": {},
          "output_type": "display_data"
        },
        {
          "data": {
            "image/png": "[encoded data removed]",
            "text/plain": [
              "<Figure size 640x480 with 1 Axes>"
            ]
          },
          "metadata": {},
          "output_type": "display_data"
        },
        {
          "data": {
            "image/png": "[encoded data removed]",
            "text/plain": [
              "<Figure size 640x480 with 1 Axes>"
            ]
          },
          "metadata": {},
          "output_type": "display_data"
        },
        {
          "data": {
            "image/png": "[encoded data removed]",
            "text/plain": [
              "<Figure size 640x480 with 1 Axes>"
            ]
          },
          "metadata": {},
          "output_type": "display_data"
        },
        {
          "data": {
            "image/png": "[encoded data removed]",
            "text/plain": [
              "<Figure size 640x480 with 1 Axes>"
            ]
          },
          "metadata": {},
          "output_type": "display_data"
        },
        {
          "data": {
            "image/png": "[encoded data removed]",
            "text/plain": [
              "<Figure size 640x480 with 1 Axes>"
            ]
          },
          "metadata": {},
          "output_type": "display_data"
        }
      ],
      "source": [
        "for box in ContinuousCols:\n",
        "    plt.figure()\n",
        "    plt.tight_layout()\n",
        "    sns.boxplot(data[box])"
      ]
    },
    {
      "cell_type": "markdown",
      "metadata": {
        "id": "WRrsR7zU2iO4"
      },
      "source": [
        "Age --> Z score\n",
        "\n",
        "Heart rate --> IQR\n",
        "\n",
        "Systolic blood pressure --> Z score\n",
        "\n",
        "Diabolic blood pressure --> IQR\n",
        "\n",
        "Blood sugar level --> IQR\n",
        "\n",
        "Ck-mb --> IQR\n",
        "\n",
        "Troponin --> IQR\n"
      ]
    },
    {
      "cell_type": "code",
      "execution_count": null,
      "metadata": {
        "colab": {
          "base_uri": "https://localhost:8080/"
        },
        "id": "Gu1vR0akof6m",
        "outputId": "1f34d02c-62ee-410d-e2a1-3933fb118381"
      },
      "outputs": [
        {
          "name": "stdout",
          "output_type": "stream",
          "text": [
            "15.249865550535418\n",
            "97.13375840700817\n"
          ]
        }
      ],
      "source": [
        "ageupper = data['Age'].mean() + 3*data['Age'].std()\n",
        "agelower = data['Age'].mean() - 3*data['Age'].std()\n",
        "print(agelower)\n",
        "print(ageupper)"
      ]
    },
    {
      "cell_type": "code",
      "execution_count": null,
      "metadata": {
        "colab": {
          "base_uri": "https://localhost:8080/"
        },
        "id": "Tn7TsssErZMI",
        "outputId": "80087cca-ffc6-45f4-f4a0-303dcac5c997"
      },
      "outputs": [
        {
          "name": "stdout",
          "output_type": "stream",
          "text": [
            "48.80242240806359\n",
            "205.53874514311156\n"
          ]
        }
      ],
      "source": [
        "sbpupper = data['Systolic blood pressure'].mean() + 3*data['Systolic blood pressure'].std()\n",
        "sbplower = data['Systolic blood pressure'].mean() - 3*data['Systolic blood pressure'].std()\n",
        "print(sbplower)\n",
        "print(sbpupper)"
      ]
    },
    {
      "cell_type": "code",
      "execution_count": null,
      "metadata": {
        "id": "KgDS1OXVrf54"
      },
      "outputs": [],
      "source": [
        "data['Age'] = np.where(\n",
        "    data['Age']>ageupper,\n",
        "    ageupper,\n",
        "    np.where(\n",
        "        data['Age']<agelower,\n",
        "        agelower,\n",
        "        data['Age']\n",
        "    )\n",
        ")"
      ]
    },
    {
      "cell_type": "code",
      "execution_count": null,
      "metadata": {
        "id": "5XNov-Wf3OHD"
      },
      "outputs": [],
      "source": [
        "data['Systolic blood pressure'] = np.where(\n",
        "    data['Systolic blood pressure']>sbpupper,\n",
        "    sbpupper,\n",
        "    np.where(\n",
        "        data['Systolic blood pressure']<sbplower,\n",
        "        sbplower,\n",
        "        data['Systolic blood pressure']\n",
        "    )\n",
        ")"
      ]
    },
    {
      "cell_type": "code",
      "execution_count": null,
      "metadata": {
        "colab": {
          "base_uri": "https://localhost:8080/"
        },
        "id": "pv5st7qC72eG",
        "outputId": "f62ed496-d777-4dec-ea81-f93d1b145531"
      },
      "outputs": [
        {
          "name": "stdout",
          "output_type": "stream",
          "text": [
            "64.0\n",
            "85.0\n",
            "21.0\n",
            "32.5\n",
            "116.5\n"
          ]
        }
      ],
      "source": [
        "hrq1=data['Heart rate'].quantile(0.25)\n",
        "hrq3=data['Heart rate'].quantile(0.75)\n",
        "hriqr=hrq3-hrq1\n",
        "print(hrq1)\n",
        "print(hrq3)\n",
        "print(hriqr)\n",
        "hrlower = hrq1 - (1.5 * hriqr)\n",
        "hrupper = hrq3 + (1.5 * hriqr)\n",
        "print(hrlower)\n",
        "print(hrupper)"
      ]
    },
    {
      "cell_type": "code",
      "execution_count": null,
      "metadata": {
        "colab": {
          "base_uri": "https://localhost:8080/"
        },
        "id": "STq1a_O081v5",
        "outputId": "01102888-c149-41ff-c1c4-e2eefafc3683"
      },
      "outputs": [
        {
          "name": "stdout",
          "output_type": "stream",
          "text": [
            "62.0\n",
            "81.0\n",
            "19.0\n",
            "33.5\n",
            "109.5\n"
          ]
        }
      ],
      "source": [
        "dbq1=data['Diastolic blood pressure'].quantile(0.25)\n",
        "dbq3=data['Diastolic blood pressure'].quantile(0.75)\n",
        "dbiqr=dbq3-dbq1\n",
        "print(dbq1)\n",
        "print(dbq3)\n",
        "print(dbiqr)\n",
        "dblower = dbq1 - (1.5 * dbiqr)\n",
        "dbupper = dbq3 + (1.5 * dbiqr)\n",
        "print(dblower)\n",
        "print(dbupper)"
      ]
    },
    {
      "cell_type": "code",
      "execution_count": null,
      "metadata": {
        "colab": {
          "base_uri": "https://localhost:8080/"
        },
        "id": "VZAVWclg85qE",
        "outputId": "e4dd0005-836d-42d7-e3cf-5978f573de2a"
      },
      "outputs": [
        {
          "name": "stdout",
          "output_type": "stream",
          "text": [
            "98.0\n",
            "169.5\n",
            "71.5\n",
            "-9.25\n",
            "276.75\n"
          ]
        }
      ],
      "source": [
        "bsq1=data['Blood sugar'].quantile(0.25)\n",
        "bsq3=data['Blood sugar'].quantile(0.75)\n",
        "bsiqr=bsq3-bsq1\n",
        "print(bsq1)\n",
        "print(bsq3)\n",
        "print(bsiqr)\n",
        "bslower = bsq1 - (1.5 * bsiqr)\n",
        "bsupper = bsq3 + (1.5 * bsiqr)\n",
        "print(bslower)\n",
        "print(bsupper)"
      ]
    },
    {
      "cell_type": "code",
      "execution_count": null,
      "metadata": {
        "colab": {
          "base_uri": "https://localhost:8080/"
        },
        "id": "rmxchT7j85v2",
        "outputId": "0fceccee-9970-47b5-80fc-5f2f2e82542a"
      },
      "outputs": [
        {
          "name": "stdout",
          "output_type": "stream",
          "text": [
            "1.6549999999999998\n",
            "5.805\n",
            "4.15\n",
            "57.775\n",
            "91.225\n"
          ]
        }
      ],
      "source": [
        "ckq1=data['CK-MB'].quantile(0.25)\n",
        "ckq3=data['CK-MB'].quantile(0.75)\n",
        "ckiqr=ckq3-ckq1\n",
        "print(ckq1)\n",
        "print(ckq3)\n",
        "print(ckiqr)\n",
        "cklower = hrq1 - (1.5 * ckiqr)\n",
        "ckupper = hrq3 + (1.5 * ckiqr)\n",
        "print(cklower)\n",
        "print(ckupper)"
      ]
    },
    {
      "cell_type": "code",
      "execution_count": null,
      "metadata": {
        "colab": {
          "base_uri": "https://localhost:8080/"
        },
        "id": "QlXF2iep852E",
        "outputId": "c0688f4d-13cf-45e2-bed1-b517de9fb1e7"
      },
      "outputs": [
        {
          "name": "stdout",
          "output_type": "stream",
          "text": [
            "0.006\n",
            "0.08549999999999999\n",
            "0.07949999999999999\n",
            "-0.11324999999999998\n",
            "0.20475\n"
          ]
        }
      ],
      "source": [
        "trq1=data['Troponin'].quantile(0.25)\n",
        "trq3=data['Troponin'].quantile(0.75)\n",
        "triqr=trq3-trq1\n",
        "print(trq1)\n",
        "print(trq3)\n",
        "print(triqr)\n",
        "trlower = trq1 - (1.5 * triqr)\n",
        "trupper = trq3 + (1.5 * triqr)\n",
        "print(trlower)\n",
        "print(trupper)"
      ]
    },
    {
      "cell_type": "code",
      "execution_count": null,
      "metadata": {
        "id": "ruUIUMJ29xwa"
      },
      "outputs": [],
      "source": [
        "data['Heart rate'] = np.where(\n",
        "    data['Heart rate'] > hrupper,\n",
        "    hrupper,\n",
        "    np.where(\n",
        "        data['Heart rate'] < hrlower,\n",
        "        hrlower,\n",
        "        data['Heart rate']\n",
        "    )\n",
        ")"
      ]
    },
    {
      "cell_type": "code",
      "execution_count": null,
      "metadata": {
        "id": "o69OeWHj_tEh"
      },
      "outputs": [],
      "source": [
        "data['Diastolic blood pressure'] = np.where(\n",
        "    data['Diastolic blood pressure'] > dbupper,\n",
        "    dbupper,\n",
        "    np.where(\n",
        "        data['Diastolic blood pressure'] < dblower,\n",
        "        dblower,\n",
        "        data['Diastolic blood pressure']\n",
        "    )\n",
        ")"
      ]
    },
    {
      "cell_type": "code",
      "execution_count": null,
      "metadata": {
        "id": "VUJ1bOvx_tJK"
      },
      "outputs": [],
      "source": [
        "data['Blood sugar'] = np.where(\n",
        "    data['Blood sugar'] > bsupper,\n",
        "    bsupper,\n",
        "    np.where(\n",
        "        data['Blood sugar'] < bslower,\n",
        "        bslower,\n",
        "        data['Blood sugar']\n",
        "    )\n",
        ")"
      ]
    },
    {
      "cell_type": "code",
      "execution_count": null,
      "metadata": {
        "id": "hIDiMhyC_tM9"
      },
      "outputs": [],
      "source": [
        "data['CK-MB'] = np.where(\n",
        "    data['CK-MB'] > ckupper,\n",
        "    ckupper,\n",
        "    np.where(\n",
        "        data['CK-MB'] < cklower,\n",
        "        cklower,\n",
        "        data['CK-MB']\n",
        "    )\n",
        ")"
      ]
    },
    {
      "cell_type": "code",
      "execution_count": null,
      "metadata": {
        "id": "5eyHJfW4_tRf"
      },
      "outputs": [],
      "source": [
        "data['Troponin'] = np.where(\n",
        "    data['Troponin'] > trupper,\n",
        "    trupper,\n",
        "    np.where(\n",
        "        data['Troponin'] < trlower,\n",
        "        trlower,\n",
        "        data['Troponin']\n",
        "    )\n",
        ")"
      ]
    },
    {
      "cell_type": "code",
      "execution_count": null,
      "metadata": {
        "colab": {
          "base_uri": "https://localhost:8080/",
          "height": 423
        },
        "id": "iPOk3VN1J8RF",
        "outputId": "6b64a821-83f4-4d74-a33b-92d46d1e0db0"
      },
      "outputs": [
        {
          "data": {
            "text/html": [
              "\n",
              "  <div id=\"df-9774298b-83f8-4702-9d24-8ec06db7078c\">\n",
              "    <div class=\"colab-df-container\">\n",
              "      <div>\n",
              "<style scoped>\n",
              "    .dataframe tbody tr th:only-of-type {\n",
              "        vertical-align: middle;\n",
              "    }\n",
              "\n",
              "    .dataframe tbody tr th {\n",
              "        vertical-align: top;\n",
              "    }\n",
              "\n",
              "    .dataframe thead th {\n",
              "        text-align: right;\n",
              "    }\n",
              "</style>\n",
              "<table border=\"1\" class=\"dataframe\">\n",
              "  <thead>\n",
              "    <tr style=\"text-align: right;\">\n",
              "      <th></th>\n",
              "      <th>Age</th>\n",
              "      <th>Gender</th>\n",
              "      <th>Heart rate</th>\n",
              "      <th>Systolic blood pressure</th>\n",
              "      <th>Diastolic blood pressure</th>\n",
              "      <th>Blood sugar</th>\n",
              "      <th>CK-MB</th>\n",
              "      <th>Troponin</th>\n",
              "      <th>Result</th>\n",
              "    </tr>\n",
              "  </thead>\n",
              "  <tbody>\n",
              "    <tr>\n",
              "      <th>0</th>\n",
              "      <td>64.0</td>\n",
              "      <td>1</td>\n",
              "      <td>66.0</td>\n",
              "      <td>160.0</td>\n",
              "      <td>83.0</td>\n",
              "      <td>160.00</td>\n",
              "      <td>57.775</td>\n",
              "      <td>0.01200</td>\n",
              "      <td>negative</td>\n",
              "    </tr>\n",
              "    <tr>\n",
              "      <th>1</th>\n",
              "      <td>21.0</td>\n",
              "      <td>1</td>\n",
              "      <td>94.0</td>\n",
              "      <td>98.0</td>\n",
              "      <td>46.0</td>\n",
              "      <td>276.75</td>\n",
              "      <td>57.775</td>\n",
              "      <td>0.20475</td>\n",
              "      <td>positive</td>\n",
              "    </tr>\n",
              "    <tr>\n",
              "      <th>2</th>\n",
              "      <td>55.0</td>\n",
              "      <td>1</td>\n",
              "      <td>64.0</td>\n",
              "      <td>160.0</td>\n",
              "      <td>77.0</td>\n",
              "      <td>270.00</td>\n",
              "      <td>57.775</td>\n",
              "      <td>0.00300</td>\n",
              "      <td>negative</td>\n",
              "    </tr>\n",
              "    <tr>\n",
              "      <th>3</th>\n",
              "      <td>64.0</td>\n",
              "      <td>1</td>\n",
              "      <td>70.0</td>\n",
              "      <td>120.0</td>\n",
              "      <td>55.0</td>\n",
              "      <td>270.00</td>\n",
              "      <td>57.775</td>\n",
              "      <td>0.12200</td>\n",
              "      <td>positive</td>\n",
              "    </tr>\n",
              "    <tr>\n",
              "      <th>4</th>\n",
              "      <td>55.0</td>\n",
              "      <td>1</td>\n",
              "      <td>64.0</td>\n",
              "      <td>112.0</td>\n",
              "      <td>65.0</td>\n",
              "      <td>276.75</td>\n",
              "      <td>57.775</td>\n",
              "      <td>0.00300</td>\n",
              "      <td>negative</td>\n",
              "    </tr>\n",
              "    <tr>\n",
              "      <th>...</th>\n",
              "      <td>...</td>\n",
              "      <td>...</td>\n",
              "      <td>...</td>\n",
              "      <td>...</td>\n",
              "      <td>...</td>\n",
              "      <td>...</td>\n",
              "      <td>...</td>\n",
              "      <td>...</td>\n",
              "      <td>...</td>\n",
              "    </tr>\n",
              "    <tr>\n",
              "      <th>1314</th>\n",
              "      <td>44.0</td>\n",
              "      <td>1</td>\n",
              "      <td>94.0</td>\n",
              "      <td>122.0</td>\n",
              "      <td>67.0</td>\n",
              "      <td>204.00</td>\n",
              "      <td>57.775</td>\n",
              "      <td>0.00600</td>\n",
              "      <td>negative</td>\n",
              "    </tr>\n",
              "    <tr>\n",
              "      <th>1315</th>\n",
              "      <td>66.0</td>\n",
              "      <td>1</td>\n",
              "      <td>84.0</td>\n",
              "      <td>125.0</td>\n",
              "      <td>55.0</td>\n",
              "      <td>149.00</td>\n",
              "      <td>57.775</td>\n",
              "      <td>0.17200</td>\n",
              "      <td>positive</td>\n",
              "    </tr>\n",
              "    <tr>\n",
              "      <th>1316</th>\n",
              "      <td>45.0</td>\n",
              "      <td>1</td>\n",
              "      <td>85.0</td>\n",
              "      <td>168.0</td>\n",
              "      <td>104.0</td>\n",
              "      <td>96.00</td>\n",
              "      <td>57.775</td>\n",
              "      <td>0.20475</td>\n",
              "      <td>positive</td>\n",
              "    </tr>\n",
              "    <tr>\n",
              "      <th>1317</th>\n",
              "      <td>54.0</td>\n",
              "      <td>1</td>\n",
              "      <td>58.0</td>\n",
              "      <td>117.0</td>\n",
              "      <td>68.0</td>\n",
              "      <td>276.75</td>\n",
              "      <td>57.775</td>\n",
              "      <td>0.20475</td>\n",
              "      <td>positive</td>\n",
              "    </tr>\n",
              "    <tr>\n",
              "      <th>1318</th>\n",
              "      <td>51.0</td>\n",
              "      <td>1</td>\n",
              "      <td>94.0</td>\n",
              "      <td>157.0</td>\n",
              "      <td>79.0</td>\n",
              "      <td>134.00</td>\n",
              "      <td>57.775</td>\n",
              "      <td>0.20475</td>\n",
              "      <td>positive</td>\n",
              "    </tr>\n",
              "  </tbody>\n",
              "</table>\n",
              "<p>1319 rows × 9 columns</p>\n",
              "</div>\n",
              "      <button class=\"colab-df-convert\" onclick=\"convertToInteractive('df-9774298b-83f8-4702-9d24-8ec06db7078c')\"\n",
              "              title=\"Convert this dataframe to an interactive table.\"\n",
              "              style=\"display:none;\">\n",
              "        \n",
              "  <svg xmlns=\"http://www.w3.org/2000/svg\" height=\"24px\"viewBox=\"0 0 24 24\"\n",
              "       width=\"24px\">\n",
              "    <path d=\"M0 0h24v24H0V0z\" fill=\"none\"/>\n",
              "    <path d=\"M18.56 5.44l.94 2.06.94-2.06 2.06-.94-2.06-.94-.94-2.06-.94 2.06-2.06.94zm-11 1L8.5 8.5l.94-2.06 2.06-.94-2.06-.94L8.5 2.5l-.94 2.06-2.06.94zm10 10l.94 2.06.94-2.06 2.06-.94-2.06-.94-.94-2.06-.94 2.06-2.06.94z\"/><path d=\"M17.41 7.96l-1.37-1.37c-.4-.4-.92-.59-1.43-.59-.52 0-1.04.2-1.43.59L10.3 9.45l-7.72 7.72c-.78.78-.78 2.05 0 2.83L4 21.41c.39.39.9.59 1.41.59.51 0 1.02-.2 1.41-.59l7.78-7.78 2.81-2.81c.8-.78.8-2.07 0-2.86zM5.41 20L4 18.59l7.72-7.72 1.47 1.35L5.41 20z\"/>\n",
              "  </svg>\n",
              "      </button>\n",
              "      \n",
              "  <style>\n",
              "    .colab-df-container {\n",
              "      display:flex;\n",
              "      flex-wrap:wrap;\n",
              "      gap: 12px;\n",
              "    }\n",
              "\n",
              "    .colab-df-convert {\n",
              "      background-color: #E8F0FE;\n",
              "      border: none;\n",
              "      border-radius: 50%;\n",
              "      cursor: pointer;\n",
              "      display: none;\n",
              "      fill: #1967D2;\n",
              "      height: 32px;\n",
              "      padding: 0 0 0 0;\n",
              "      width: 32px;\n",
              "    }\n",
              "\n",
              "    .colab-df-convert:hover {\n",
              "      background-color: #E2EBFA;\n",
              "      box-shadow: 0px 1px 2px rgba(60, 64, 67, 0.3), 0px 1px 3px 1px rgba(60, 64, 67, 0.15);\n",
              "      fill: #174EA6;\n",
              "    }\n",
              "\n",
              "    [theme=dark] .colab-df-convert {\n",
              "      background-color: #3B4455;\n",
              "      fill: #D2E3FC;\n",
              "    }\n",
              "\n",
              "    [theme=dark] .colab-df-convert:hover {\n",
              "      background-color: #434B5C;\n",
              "      box-shadow: 0px 1px 3px 1px rgba(0, 0, 0, 0.15);\n",
              "      filter: drop-shadow(0px 1px 2px rgba(0, 0, 0, 0.3));\n",
              "      fill: #FFFFFF;\n",
              "    }\n",
              "  </style>\n",
              "\n",
              "      <script>\n",
              "        const buttonEl =\n",
              "          document.querySelector('#df-9774298b-83f8-4702-9d24-8ec06db7078c button.colab-df-convert');\n",
              "        buttonEl.style.display =\n",
              "          google.colab.kernel.accessAllowed ? 'block' : 'none';\n",
              "\n",
              "        async function convertToInteractive(key) {\n",
              "          const element = document.querySelector('#df-9774298b-83f8-4702-9d24-8ec06db7078c');\n",
              "          const dataTable =\n",
              "            await google.colab.kernel.invokeFunction('convertToInteractive',\n",
              "                                                     [key], {});\n",
              "          if (!dataTable) return;\n",
              "\n",
              "          const docLinkHtml = 'Like what you see? Visit the ' +\n",
              "            '<a target=\"_blank\" href=https://colab.research.google.com/notebooks/data_table.ipynb>data table notebook</a>'\n",
              "            + ' to learn more about interactive tables.';\n",
              "          element.innerHTML = '';\n",
              "          dataTable['output_type'] = 'display_data';\n",
              "          await google.colab.output.renderOutput(dataTable, element);\n",
              "          const docLink = document.createElement('div');\n",
              "          docLink.innerHTML = docLinkHtml;\n",
              "          element.appendChild(docLink);\n",
              "        }\n",
              "      </script>\n",
              "    </div>\n",
              "  </div>\n",
              "  "
            ],
            "text/plain": [
              "       Age  Gender  Heart rate  Systolic blood pressure  \\\n",
              "0     64.0       1        66.0                    160.0   \n",
              "1     21.0       1        94.0                     98.0   \n",
              "2     55.0       1        64.0                    160.0   \n",
              "3     64.0       1        70.0                    120.0   \n",
              "4     55.0       1        64.0                    112.0   \n",
              "...    ...     ...         ...                      ...   \n",
              "1314  44.0       1        94.0                    122.0   \n",
              "1315  66.0       1        84.0                    125.0   \n",
              "1316  45.0       1        85.0                    168.0   \n",
              "1317  54.0       1        58.0                    117.0   \n",
              "1318  51.0       1        94.0                    157.0   \n",
              "\n",
              "      Diastolic blood pressure  Blood sugar   CK-MB  Troponin    Result  \n",
              "0                         83.0       160.00  57.775   0.01200  negative  \n",
              "1                         46.0       276.75  57.775   0.20475  positive  \n",
              "2                         77.0       270.00  57.775   0.00300  negative  \n",
              "3                         55.0       270.00  57.775   0.12200  positive  \n",
              "4                         65.0       276.75  57.775   0.00300  negative  \n",
              "...                        ...          ...     ...       ...       ...  \n",
              "1314                      67.0       204.00  57.775   0.00600  negative  \n",
              "1315                      55.0       149.00  57.775   0.17200  positive  \n",
              "1316                     104.0        96.00  57.775   0.20475  positive  \n",
              "1317                      68.0       276.75  57.775   0.20475  positive  \n",
              "1318                      79.0       134.00  57.775   0.20475  positive  \n",
              "\n",
              "[1319 rows x 9 columns]"
            ]
          },
          "execution_count": 461,
          "metadata": {},
          "output_type": "execute_result"
        }
      ],
      "source": [
        "data"
      ]
    },
    {
      "cell_type": "code",
      "execution_count": null,
      "metadata": {
        "colab": {
          "base_uri": "https://localhost:8080/",
          "height": 300
        },
        "id": "e_aENOpyKqGH",
        "outputId": "7d608163-ce90-430e-8e1a-90b3c5eca52b"
      },
      "outputs": [
        {
          "data": {
            "text/html": [
              "\n",
              "  <div id=\"df-b0c9244e-5aab-4826-b7e7-acec1f4dc771\">\n",
              "    <div class=\"colab-df-container\">\n",
              "      <div>\n",
              "<style scoped>\n",
              "    .dataframe tbody tr th:only-of-type {\n",
              "        vertical-align: middle;\n",
              "    }\n",
              "\n",
              "    .dataframe tbody tr th {\n",
              "        vertical-align: top;\n",
              "    }\n",
              "\n",
              "    .dataframe thead th {\n",
              "        text-align: right;\n",
              "    }\n",
              "</style>\n",
              "<table border=\"1\" class=\"dataframe\">\n",
              "  <thead>\n",
              "    <tr style=\"text-align: right;\">\n",
              "      <th></th>\n",
              "      <th>Age</th>\n",
              "      <th>Gender</th>\n",
              "      <th>Heart rate</th>\n",
              "      <th>Systolic blood pressure</th>\n",
              "      <th>Diastolic blood pressure</th>\n",
              "      <th>Blood sugar</th>\n",
              "      <th>CK-MB</th>\n",
              "      <th>Troponin</th>\n",
              "    </tr>\n",
              "  </thead>\n",
              "  <tbody>\n",
              "    <tr>\n",
              "      <th>count</th>\n",
              "      <td>1319.000000</td>\n",
              "      <td>1319.000000</td>\n",
              "      <td>1319.000000</td>\n",
              "      <td>1319.000000</td>\n",
              "      <td>1319.000000</td>\n",
              "      <td>1319.000000</td>\n",
              "      <td>1319.000000</td>\n",
              "      <td>1319.000000</td>\n",
              "    </tr>\n",
              "    <tr>\n",
              "      <th>mean</th>\n",
              "      <td>56.181692</td>\n",
              "      <td>0.659591</td>\n",
              "      <td>75.931766</td>\n",
              "      <td>127.062897</td>\n",
              "      <td>72.185747</td>\n",
              "      <td>141.249962</td>\n",
              "      <td>59.407058</td>\n",
              "      <td>0.058548</td>\n",
              "    </tr>\n",
              "    <tr>\n",
              "      <th>std</th>\n",
              "      <td>13.608999</td>\n",
              "      <td>0.474027</td>\n",
              "      <td>14.807730</td>\n",
              "      <td>25.738432</td>\n",
              "      <td>13.731063</td>\n",
              "      <td>59.267678</td>\n",
              "      <td>7.006929</td>\n",
              "      <td>0.078493</td>\n",
              "    </tr>\n",
              "    <tr>\n",
              "      <th>min</th>\n",
              "      <td>15.249866</td>\n",
              "      <td>0.000000</td>\n",
              "      <td>32.500000</td>\n",
              "      <td>48.802422</td>\n",
              "      <td>38.000000</td>\n",
              "      <td>35.000000</td>\n",
              "      <td>57.775000</td>\n",
              "      <td>0.001000</td>\n",
              "    </tr>\n",
              "    <tr>\n",
              "      <th>25%</th>\n",
              "      <td>47.000000</td>\n",
              "      <td>0.000000</td>\n",
              "      <td>64.000000</td>\n",
              "      <td>110.000000</td>\n",
              "      <td>62.000000</td>\n",
              "      <td>98.000000</td>\n",
              "      <td>57.775000</td>\n",
              "      <td>0.006000</td>\n",
              "    </tr>\n",
              "    <tr>\n",
              "      <th>50%</th>\n",
              "      <td>58.000000</td>\n",
              "      <td>1.000000</td>\n",
              "      <td>74.000000</td>\n",
              "      <td>124.000000</td>\n",
              "      <td>72.000000</td>\n",
              "      <td>116.000000</td>\n",
              "      <td>57.775000</td>\n",
              "      <td>0.014000</td>\n",
              "    </tr>\n",
              "    <tr>\n",
              "      <th>75%</th>\n",
              "      <td>65.000000</td>\n",
              "      <td>1.000000</td>\n",
              "      <td>85.000000</td>\n",
              "      <td>143.000000</td>\n",
              "      <td>81.000000</td>\n",
              "      <td>169.500000</td>\n",
              "      <td>57.775000</td>\n",
              "      <td>0.085500</td>\n",
              "    </tr>\n",
              "    <tr>\n",
              "      <th>max</th>\n",
              "      <td>97.133758</td>\n",
              "      <td>1.000000</td>\n",
              "      <td>116.500000</td>\n",
              "      <td>205.538745</td>\n",
              "      <td>109.500000</td>\n",
              "      <td>276.750000</td>\n",
              "      <td>91.225000</td>\n",
              "      <td>0.204750</td>\n",
              "    </tr>\n",
              "  </tbody>\n",
              "</table>\n",
              "</div>\n",
              "      <button class=\"colab-df-convert\" onclick=\"convertToInteractive('df-b0c9244e-5aab-4826-b7e7-acec1f4dc771')\"\n",
              "              title=\"Convert this dataframe to an interactive table.\"\n",
              "              style=\"display:none;\">\n",
              "        \n",
              "  <svg xmlns=\"http://www.w3.org/2000/svg\" height=\"24px\"viewBox=\"0 0 24 24\"\n",
              "       width=\"24px\">\n",
              "    <path d=\"M0 0h24v24H0V0z\" fill=\"none\"/>\n",
              "    <path d=\"M18.56 5.44l.94 2.06.94-2.06 2.06-.94-2.06-.94-.94-2.06-.94 2.06-2.06.94zm-11 1L8.5 8.5l.94-2.06 2.06-.94-2.06-.94L8.5 2.5l-.94 2.06-2.06.94zm10 10l.94 2.06.94-2.06 2.06-.94-2.06-.94-.94-2.06-.94 2.06-2.06.94z\"/><path d=\"M17.41 7.96l-1.37-1.37c-.4-.4-.92-.59-1.43-.59-.52 0-1.04.2-1.43.59L10.3 9.45l-7.72 7.72c-.78.78-.78 2.05 0 2.83L4 21.41c.39.39.9.59 1.41.59.51 0 1.02-.2 1.41-.59l7.78-7.78 2.81-2.81c.8-.78.8-2.07 0-2.86zM5.41 20L4 18.59l7.72-7.72 1.47 1.35L5.41 20z\"/>\n",
              "  </svg>\n",
              "      </button>\n",
              "      \n",
              "  <style>\n",
              "    .colab-df-container {\n",
              "      display:flex;\n",
              "      flex-wrap:wrap;\n",
              "      gap: 12px;\n",
              "    }\n",
              "\n",
              "    .colab-df-convert {\n",
              "      background-color: #E8F0FE;\n",
              "      border: none;\n",
              "      border-radius: 50%;\n",
              "      cursor: pointer;\n",
              "      display: none;\n",
              "      fill: #1967D2;\n",
              "      height: 32px;\n",
              "      padding: 0 0 0 0;\n",
              "      width: 32px;\n",
              "    }\n",
              "\n",
              "    .colab-df-convert:hover {\n",
              "      background-color: #E2EBFA;\n",
              "      box-shadow: 0px 1px 2px rgba(60, 64, 67, 0.3), 0px 1px 3px 1px rgba(60, 64, 67, 0.15);\n",
              "      fill: #174EA6;\n",
              "    }\n",
              "\n",
              "    [theme=dark] .colab-df-convert {\n",
              "      background-color: #3B4455;\n",
              "      fill: #D2E3FC;\n",
              "    }\n",
              "\n",
              "    [theme=dark] .colab-df-convert:hover {\n",
              "      background-color: #434B5C;\n",
              "      box-shadow: 0px 1px 3px 1px rgba(0, 0, 0, 0.15);\n",
              "      filter: drop-shadow(0px 1px 2px rgba(0, 0, 0, 0.3));\n",
              "      fill: #FFFFFF;\n",
              "    }\n",
              "  </style>\n",
              "\n",
              "      <script>\n",
              "        const buttonEl =\n",
              "          document.querySelector('#df-b0c9244e-5aab-4826-b7e7-acec1f4dc771 button.colab-df-convert');\n",
              "        buttonEl.style.display =\n",
              "          google.colab.kernel.accessAllowed ? 'block' : 'none';\n",
              "\n",
              "        async function convertToInteractive(key) {\n",
              "          const element = document.querySelector('#df-b0c9244e-5aab-4826-b7e7-acec1f4dc771');\n",
              "          const dataTable =\n",
              "            await google.colab.kernel.invokeFunction('convertToInteractive',\n",
              "                                                     [key], {});\n",
              "          if (!dataTable) return;\n",
              "\n",
              "          const docLinkHtml = 'Like what you see? Visit the ' +\n",
              "            '<a target=\"_blank\" href=https://colab.research.google.com/notebooks/data_table.ipynb>data table notebook</a>'\n",
              "            + ' to learn more about interactive tables.';\n",
              "          element.innerHTML = '';\n",
              "          dataTable['output_type'] = 'display_data';\n",
              "          await google.colab.output.renderOutput(dataTable, element);\n",
              "          const docLink = document.createElement('div');\n",
              "          docLink.innerHTML = docLinkHtml;\n",
              "          element.appendChild(docLink);\n",
              "        }\n",
              "      </script>\n",
              "    </div>\n",
              "  </div>\n",
              "  "
            ],
            "text/plain": [
              "               Age       Gender   Heart rate  Systolic blood pressure  \\\n",
              "count  1319.000000  1319.000000  1319.000000              1319.000000   \n",
              "mean     56.181692     0.659591    75.931766               127.062897   \n",
              "std      13.608999     0.474027    14.807730                25.738432   \n",
              "min      15.249866     0.000000    32.500000                48.802422   \n",
              "25%      47.000000     0.000000    64.000000               110.000000   \n",
              "50%      58.000000     1.000000    74.000000               124.000000   \n",
              "75%      65.000000     1.000000    85.000000               143.000000   \n",
              "max      97.133758     1.000000   116.500000               205.538745   \n",
              "\n",
              "       Diastolic blood pressure  Blood sugar        CK-MB     Troponin  \n",
              "count               1319.000000  1319.000000  1319.000000  1319.000000  \n",
              "mean                  72.185747   141.249962    59.407058     0.058548  \n",
              "std                   13.731063    59.267678     7.006929     0.078493  \n",
              "min                   38.000000    35.000000    57.775000     0.001000  \n",
              "25%                   62.000000    98.000000    57.775000     0.006000  \n",
              "50%                   72.000000   116.000000    57.775000     0.014000  \n",
              "75%                   81.000000   169.500000    57.775000     0.085500  \n",
              "max                  109.500000   276.750000    91.225000     0.204750  "
            ]
          },
          "execution_count": 462,
          "metadata": {},
          "output_type": "execute_result"
        }
      ],
      "source": [
        "data.describe()"
      ]
    },
    {
      "cell_type": "markdown",
      "metadata": {
        "id": "G827I0b5Mgsv"
      },
      "source": [
        "## Converitng categorical values into numeric"
      ]
    },
    {
      "cell_type": "code",
      "execution_count": null,
      "metadata": {
        "id": "bbniApVpL9fK"
      },
      "outputs": [],
      "source": [
        "from sklearn.preprocessing import LabelEncoder\n",
        "le=LabelEncoder()\n",
        "data['Result']= le.fit_transform(data['Result'])"
      ]
    },
    {
      "cell_type": "code",
      "execution_count": null,
      "metadata": {
        "colab": {
          "base_uri": "https://localhost:8080/",
          "height": 423
        },
        "id": "TvinlSgaNFxz",
        "outputId": "f365eb9f-bf04-464b-cc29-979beaadd502"
      },
      "outputs": [
        {
          "data": {
            "text/html": [
              "\n",
              "  <div id=\"df-796ce1d9-c51d-4c0b-af77-cef90b0b108a\">\n",
              "    <div class=\"colab-df-container\">\n",
              "      <div>\n",
              "<style scoped>\n",
              "    .dataframe tbody tr th:only-of-type {\n",
              "        vertical-align: middle;\n",
              "    }\n",
              "\n",
              "    .dataframe tbody tr th {\n",
              "        vertical-align: top;\n",
              "    }\n",
              "\n",
              "    .dataframe thead th {\n",
              "        text-align: right;\n",
              "    }\n",
              "</style>\n",
              "<table border=\"1\" class=\"dataframe\">\n",
              "  <thead>\n",
              "    <tr style=\"text-align: right;\">\n",
              "      <th></th>\n",
              "      <th>Age</th>\n",
              "      <th>Gender</th>\n",
              "      <th>Heart rate</th>\n",
              "      <th>Systolic blood pressure</th>\n",
              "      <th>Diastolic blood pressure</th>\n",
              "      <th>Blood sugar</th>\n",
              "      <th>CK-MB</th>\n",
              "      <th>Troponin</th>\n",
              "      <th>Result</th>\n",
              "    </tr>\n",
              "  </thead>\n",
              "  <tbody>\n",
              "    <tr>\n",
              "      <th>0</th>\n",
              "      <td>64.0</td>\n",
              "      <td>1</td>\n",
              "      <td>66.0</td>\n",
              "      <td>160.0</td>\n",
              "      <td>83.0</td>\n",
              "      <td>160.00</td>\n",
              "      <td>57.775</td>\n",
              "      <td>0.01200</td>\n",
              "      <td>0</td>\n",
              "    </tr>\n",
              "    <tr>\n",
              "      <th>1</th>\n",
              "      <td>21.0</td>\n",
              "      <td>1</td>\n",
              "      <td>94.0</td>\n",
              "      <td>98.0</td>\n",
              "      <td>46.0</td>\n",
              "      <td>276.75</td>\n",
              "      <td>57.775</td>\n",
              "      <td>0.20475</td>\n",
              "      <td>1</td>\n",
              "    </tr>\n",
              "    <tr>\n",
              "      <th>2</th>\n",
              "      <td>55.0</td>\n",
              "      <td>1</td>\n",
              "      <td>64.0</td>\n",
              "      <td>160.0</td>\n",
              "      <td>77.0</td>\n",
              "      <td>270.00</td>\n",
              "      <td>57.775</td>\n",
              "      <td>0.00300</td>\n",
              "      <td>0</td>\n",
              "    </tr>\n",
              "    <tr>\n",
              "      <th>3</th>\n",
              "      <td>64.0</td>\n",
              "      <td>1</td>\n",
              "      <td>70.0</td>\n",
              "      <td>120.0</td>\n",
              "      <td>55.0</td>\n",
              "      <td>270.00</td>\n",
              "      <td>57.775</td>\n",
              "      <td>0.12200</td>\n",
              "      <td>1</td>\n",
              "    </tr>\n",
              "    <tr>\n",
              "      <th>4</th>\n",
              "      <td>55.0</td>\n",
              "      <td>1</td>\n",
              "      <td>64.0</td>\n",
              "      <td>112.0</td>\n",
              "      <td>65.0</td>\n",
              "      <td>276.75</td>\n",
              "      <td>57.775</td>\n",
              "      <td>0.00300</td>\n",
              "      <td>0</td>\n",
              "    </tr>\n",
              "    <tr>\n",
              "      <th>...</th>\n",
              "      <td>...</td>\n",
              "      <td>...</td>\n",
              "      <td>...</td>\n",
              "      <td>...</td>\n",
              "      <td>...</td>\n",
              "      <td>...</td>\n",
              "      <td>...</td>\n",
              "      <td>...</td>\n",
              "      <td>...</td>\n",
              "    </tr>\n",
              "    <tr>\n",
              "      <th>1314</th>\n",
              "      <td>44.0</td>\n",
              "      <td>1</td>\n",
              "      <td>94.0</td>\n",
              "      <td>122.0</td>\n",
              "      <td>67.0</td>\n",
              "      <td>204.00</td>\n",
              "      <td>57.775</td>\n",
              "      <td>0.00600</td>\n",
              "      <td>0</td>\n",
              "    </tr>\n",
              "    <tr>\n",
              "      <th>1315</th>\n",
              "      <td>66.0</td>\n",
              "      <td>1</td>\n",
              "      <td>84.0</td>\n",
              "      <td>125.0</td>\n",
              "      <td>55.0</td>\n",
              "      <td>149.00</td>\n",
              "      <td>57.775</td>\n",
              "      <td>0.17200</td>\n",
              "      <td>1</td>\n",
              "    </tr>\n",
              "    <tr>\n",
              "      <th>1316</th>\n",
              "      <td>45.0</td>\n",
              "      <td>1</td>\n",
              "      <td>85.0</td>\n",
              "      <td>168.0</td>\n",
              "      <td>104.0</td>\n",
              "      <td>96.00</td>\n",
              "      <td>57.775</td>\n",
              "      <td>0.20475</td>\n",
              "      <td>1</td>\n",
              "    </tr>\n",
              "    <tr>\n",
              "      <th>1317</th>\n",
              "      <td>54.0</td>\n",
              "      <td>1</td>\n",
              "      <td>58.0</td>\n",
              "      <td>117.0</td>\n",
              "      <td>68.0</td>\n",
              "      <td>276.75</td>\n",
              "      <td>57.775</td>\n",
              "      <td>0.20475</td>\n",
              "      <td>1</td>\n",
              "    </tr>\n",
              "    <tr>\n",
              "      <th>1318</th>\n",
              "      <td>51.0</td>\n",
              "      <td>1</td>\n",
              "      <td>94.0</td>\n",
              "      <td>157.0</td>\n",
              "      <td>79.0</td>\n",
              "      <td>134.00</td>\n",
              "      <td>57.775</td>\n",
              "      <td>0.20475</td>\n",
              "      <td>1</td>\n",
              "    </tr>\n",
              "  </tbody>\n",
              "</table>\n",
              "<p>1319 rows × 9 columns</p>\n",
              "</div>\n",
              "      <button class=\"colab-df-convert\" onclick=\"convertToInteractive('df-796ce1d9-c51d-4c0b-af77-cef90b0b108a')\"\n",
              "              title=\"Convert this dataframe to an interactive table.\"\n",
              "              style=\"display:none;\">\n",
              "        \n",
              "  <svg xmlns=\"http://www.w3.org/2000/svg\" height=\"24px\"viewBox=\"0 0 24 24\"\n",
              "       width=\"24px\">\n",
              "    <path d=\"M0 0h24v24H0V0z\" fill=\"none\"/>\n",
              "    <path d=\"M18.56 5.44l.94 2.06.94-2.06 2.06-.94-2.06-.94-.94-2.06-.94 2.06-2.06.94zm-11 1L8.5 8.5l.94-2.06 2.06-.94-2.06-.94L8.5 2.5l-.94 2.06-2.06.94zm10 10l.94 2.06.94-2.06 2.06-.94-2.06-.94-.94-2.06-.94 2.06-2.06.94z\"/><path d=\"M17.41 7.96l-1.37-1.37c-.4-.4-.92-.59-1.43-.59-.52 0-1.04.2-1.43.59L10.3 9.45l-7.72 7.72c-.78.78-.78 2.05 0 2.83L4 21.41c.39.39.9.59 1.41.59.51 0 1.02-.2 1.41-.59l7.78-7.78 2.81-2.81c.8-.78.8-2.07 0-2.86zM5.41 20L4 18.59l7.72-7.72 1.47 1.35L5.41 20z\"/>\n",
              "  </svg>\n",
              "      </button>\n",
              "      \n",
              "  <style>\n",
              "    .colab-df-container {\n",
              "      display:flex;\n",
              "      flex-wrap:wrap;\n",
              "      gap: 12px;\n",
              "    }\n",
              "\n",
              "    .colab-df-convert {\n",
              "      background-color: #E8F0FE;\n",
              "      border: none;\n",
              "      border-radius: 50%;\n",
              "      cursor: pointer;\n",
              "      display: none;\n",
              "      fill: #1967D2;\n",
              "      height: 32px;\n",
              "      padding: 0 0 0 0;\n",
              "      width: 32px;\n",
              "    }\n",
              "\n",
              "    .colab-df-convert:hover {\n",
              "      background-color: #E2EBFA;\n",
              "      box-shadow: 0px 1px 2px rgba(60, 64, 67, 0.3), 0px 1px 3px 1px rgba(60, 64, 67, 0.15);\n",
              "      fill: #174EA6;\n",
              "    }\n",
              "\n",
              "    [theme=dark] .colab-df-convert {\n",
              "      background-color: #3B4455;\n",
              "      fill: #D2E3FC;\n",
              "    }\n",
              "\n",
              "    [theme=dark] .colab-df-convert:hover {\n",
              "      background-color: #434B5C;\n",
              "      box-shadow: 0px 1px 3px 1px rgba(0, 0, 0, 0.15);\n",
              "      filter: drop-shadow(0px 1px 2px rgba(0, 0, 0, 0.3));\n",
              "      fill: #FFFFFF;\n",
              "    }\n",
              "  </style>\n",
              "\n",
              "      <script>\n",
              "        const buttonEl =\n",
              "          document.querySelector('#df-796ce1d9-c51d-4c0b-af77-cef90b0b108a button.colab-df-convert');\n",
              "        buttonEl.style.display =\n",
              "          google.colab.kernel.accessAllowed ? 'block' : 'none';\n",
              "\n",
              "        async function convertToInteractive(key) {\n",
              "          const element = document.querySelector('#df-796ce1d9-c51d-4c0b-af77-cef90b0b108a');\n",
              "          const dataTable =\n",
              "            await google.colab.kernel.invokeFunction('convertToInteractive',\n",
              "                                                     [key], {});\n",
              "          if (!dataTable) return;\n",
              "\n",
              "          const docLinkHtml = 'Like what you see? Visit the ' +\n",
              "            '<a target=\"_blank\" href=https://colab.research.google.com/notebooks/data_table.ipynb>data table notebook</a>'\n",
              "            + ' to learn more about interactive tables.';\n",
              "          element.innerHTML = '';\n",
              "          dataTable['output_type'] = 'display_data';\n",
              "          await google.colab.output.renderOutput(dataTable, element);\n",
              "          const docLink = document.createElement('div');\n",
              "          docLink.innerHTML = docLinkHtml;\n",
              "          element.appendChild(docLink);\n",
              "        }\n",
              "      </script>\n",
              "    </div>\n",
              "  </div>\n",
              "  "
            ],
            "text/plain": [
              "       Age  Gender  Heart rate  Systolic blood pressure  \\\n",
              "0     64.0       1        66.0                    160.0   \n",
              "1     21.0       1        94.0                     98.0   \n",
              "2     55.0       1        64.0                    160.0   \n",
              "3     64.0       1        70.0                    120.0   \n",
              "4     55.0       1        64.0                    112.0   \n",
              "...    ...     ...         ...                      ...   \n",
              "1314  44.0       1        94.0                    122.0   \n",
              "1315  66.0       1        84.0                    125.0   \n",
              "1316  45.0       1        85.0                    168.0   \n",
              "1317  54.0       1        58.0                    117.0   \n",
              "1318  51.0       1        94.0                    157.0   \n",
              "\n",
              "      Diastolic blood pressure  Blood sugar   CK-MB  Troponin  Result  \n",
              "0                         83.0       160.00  57.775   0.01200       0  \n",
              "1                         46.0       276.75  57.775   0.20475       1  \n",
              "2                         77.0       270.00  57.775   0.00300       0  \n",
              "3                         55.0       270.00  57.775   0.12200       1  \n",
              "4                         65.0       276.75  57.775   0.00300       0  \n",
              "...                        ...          ...     ...       ...     ...  \n",
              "1314                      67.0       204.00  57.775   0.00600       0  \n",
              "1315                      55.0       149.00  57.775   0.17200       1  \n",
              "1316                     104.0        96.00  57.775   0.20475       1  \n",
              "1317                      68.0       276.75  57.775   0.20475       1  \n",
              "1318                      79.0       134.00  57.775   0.20475       1  \n",
              "\n",
              "[1319 rows x 9 columns]"
            ]
          },
          "execution_count": 464,
          "metadata": {},
          "output_type": "execute_result"
        }
      ],
      "source": [
        "data"
      ]
    },
    {
      "cell_type": "code",
      "execution_count": null,
      "metadata": {
        "colab": {
          "base_uri": "https://localhost:8080/",
          "height": 427
        },
        "id": "lPLk1gnPNGMP",
        "outputId": "5d5c6bb1-dd6e-45d6-98e8-37ffa7ee4211"
      },
      "outputs": [
        {
          "data": {
            "text/html": [
              "\n",
              "  <div id=\"df-848de094-132f-433c-8738-b7b898b738cd\">\n",
              "    <div class=\"colab-df-container\">\n",
              "      <div>\n",
              "<style scoped>\n",
              "    .dataframe tbody tr th:only-of-type {\n",
              "        vertical-align: middle;\n",
              "    }\n",
              "\n",
              "    .dataframe tbody tr th {\n",
              "        vertical-align: top;\n",
              "    }\n",
              "\n",
              "    .dataframe thead th {\n",
              "        text-align: right;\n",
              "    }\n",
              "</style>\n",
              "<table border=\"1\" class=\"dataframe\">\n",
              "  <thead>\n",
              "    <tr style=\"text-align: right;\">\n",
              "      <th></th>\n",
              "      <th>Age</th>\n",
              "      <th>Gender</th>\n",
              "      <th>Heart rate</th>\n",
              "      <th>Systolic blood pressure</th>\n",
              "      <th>Diastolic blood pressure</th>\n",
              "      <th>Blood sugar</th>\n",
              "      <th>CK-MB</th>\n",
              "      <th>Troponin</th>\n",
              "      <th>Result</th>\n",
              "    </tr>\n",
              "  </thead>\n",
              "  <tbody>\n",
              "    <tr>\n",
              "      <th>Age</th>\n",
              "      <td>1.000000</td>\n",
              "      <td>-0.092437</td>\n",
              "      <td>-0.003955</td>\n",
              "      <td>0.016726</td>\n",
              "      <td>0.001899</td>\n",
              "      <td>-0.014529</td>\n",
              "      <td>0.024217</td>\n",
              "      <td>0.169416</td>\n",
              "      <td>0.238034</td>\n",
              "    </tr>\n",
              "    <tr>\n",
              "      <th>Gender</th>\n",
              "      <td>-0.092437</td>\n",
              "      <td>1.000000</td>\n",
              "      <td>0.005930</td>\n",
              "      <td>0.012902</td>\n",
              "      <td>-0.008521</td>\n",
              "      <td>0.003073</td>\n",
              "      <td>-0.000218</td>\n",
              "      <td>0.143746</td>\n",
              "      <td>0.094432</td>\n",
              "    </tr>\n",
              "    <tr>\n",
              "      <th>Heart rate</th>\n",
              "      <td>-0.003955</td>\n",
              "      <td>0.005930</td>\n",
              "      <td>1.000000</td>\n",
              "      <td>-0.040635</td>\n",
              "      <td>0.131413</td>\n",
              "      <td>0.004934</td>\n",
              "      <td>0.006105</td>\n",
              "      <td>0.018429</td>\n",
              "      <td>0.002396</td>\n",
              "    </tr>\n",
              "    <tr>\n",
              "      <th>Systolic blood pressure</th>\n",
              "      <td>0.016726</td>\n",
              "      <td>0.012902</td>\n",
              "      <td>-0.040635</td>\n",
              "      <td>1.000000</td>\n",
              "      <td>0.591888</td>\n",
              "      <td>0.018410</td>\n",
              "      <td>-0.022819</td>\n",
              "      <td>0.037969</td>\n",
              "      <td>-0.021611</td>\n",
              "    </tr>\n",
              "    <tr>\n",
              "      <th>Diastolic blood pressure</th>\n",
              "      <td>0.001899</td>\n",
              "      <td>-0.008521</td>\n",
              "      <td>0.131413</td>\n",
              "      <td>0.591888</td>\n",
              "      <td>1.000000</td>\n",
              "      <td>-0.012729</td>\n",
              "      <td>-0.012520</td>\n",
              "      <td>0.035155</td>\n",
              "      <td>-0.011512</td>\n",
              "    </tr>\n",
              "    <tr>\n",
              "      <th>Blood sugar</th>\n",
              "      <td>-0.014529</td>\n",
              "      <td>0.003073</td>\n",
              "      <td>0.004934</td>\n",
              "      <td>0.018410</td>\n",
              "      <td>-0.012729</td>\n",
              "      <td>1.000000</td>\n",
              "      <td>0.043008</td>\n",
              "      <td>0.014057</td>\n",
              "      <td>-0.027213</td>\n",
              "    </tr>\n",
              "    <tr>\n",
              "      <th>CK-MB</th>\n",
              "      <td>0.024217</td>\n",
              "      <td>-0.000218</td>\n",
              "      <td>0.006105</td>\n",
              "      <td>-0.022819</td>\n",
              "      <td>-0.012520</td>\n",
              "      <td>0.043008</td>\n",
              "      <td>1.000000</td>\n",
              "      <td>-0.042437</td>\n",
              "      <td>0.184709</td>\n",
              "    </tr>\n",
              "    <tr>\n",
              "      <th>Troponin</th>\n",
              "      <td>0.169416</td>\n",
              "      <td>0.143746</td>\n",
              "      <td>0.018429</td>\n",
              "      <td>0.037969</td>\n",
              "      <td>0.035155</td>\n",
              "      <td>0.014057</td>\n",
              "      <td>-0.042437</td>\n",
              "      <td>1.000000</td>\n",
              "      <td>0.517664</td>\n",
              "    </tr>\n",
              "    <tr>\n",
              "      <th>Result</th>\n",
              "      <td>0.238034</td>\n",
              "      <td>0.094432</td>\n",
              "      <td>0.002396</td>\n",
              "      <td>-0.021611</td>\n",
              "      <td>-0.011512</td>\n",
              "      <td>-0.027213</td>\n",
              "      <td>0.184709</td>\n",
              "      <td>0.517664</td>\n",
              "      <td>1.000000</td>\n",
              "    </tr>\n",
              "  </tbody>\n",
              "</table>\n",
              "</div>\n",
              "      <button class=\"colab-df-convert\" onclick=\"convertToInteractive('df-848de094-132f-433c-8738-b7b898b738cd')\"\n",
              "              title=\"Convert this dataframe to an interactive table.\"\n",
              "              style=\"display:none;\">\n",
              "        \n",
              "  <svg xmlns=\"http://www.w3.org/2000/svg\" height=\"24px\"viewBox=\"0 0 24 24\"\n",
              "       width=\"24px\">\n",
              "    <path d=\"M0 0h24v24H0V0z\" fill=\"none\"/>\n",
              "    <path d=\"M18.56 5.44l.94 2.06.94-2.06 2.06-.94-2.06-.94-.94-2.06-.94 2.06-2.06.94zm-11 1L8.5 8.5l.94-2.06 2.06-.94-2.06-.94L8.5 2.5l-.94 2.06-2.06.94zm10 10l.94 2.06.94-2.06 2.06-.94-2.06-.94-.94-2.06-.94 2.06-2.06.94z\"/><path d=\"M17.41 7.96l-1.37-1.37c-.4-.4-.92-.59-1.43-.59-.52 0-1.04.2-1.43.59L10.3 9.45l-7.72 7.72c-.78.78-.78 2.05 0 2.83L4 21.41c.39.39.9.59 1.41.59.51 0 1.02-.2 1.41-.59l7.78-7.78 2.81-2.81c.8-.78.8-2.07 0-2.86zM5.41 20L4 18.59l7.72-7.72 1.47 1.35L5.41 20z\"/>\n",
              "  </svg>\n",
              "      </button>\n",
              "      \n",
              "  <style>\n",
              "    .colab-df-container {\n",
              "      display:flex;\n",
              "      flex-wrap:wrap;\n",
              "      gap: 12px;\n",
              "    }\n",
              "\n",
              "    .colab-df-convert {\n",
              "      background-color: #E8F0FE;\n",
              "      border: none;\n",
              "      border-radius: 50%;\n",
              "      cursor: pointer;\n",
              "      display: none;\n",
              "      fill: #1967D2;\n",
              "      height: 32px;\n",
              "      padding: 0 0 0 0;\n",
              "      width: 32px;\n",
              "    }\n",
              "\n",
              "    .colab-df-convert:hover {\n",
              "      background-color: #E2EBFA;\n",
              "      box-shadow: 0px 1px 2px rgba(60, 64, 67, 0.3), 0px 1px 3px 1px rgba(60, 64, 67, 0.15);\n",
              "      fill: #174EA6;\n",
              "    }\n",
              "\n",
              "    [theme=dark] .colab-df-convert {\n",
              "      background-color: #3B4455;\n",
              "      fill: #D2E3FC;\n",
              "    }\n",
              "\n",
              "    [theme=dark] .colab-df-convert:hover {\n",
              "      background-color: #434B5C;\n",
              "      box-shadow: 0px 1px 3px 1px rgba(0, 0, 0, 0.15);\n",
              "      filter: drop-shadow(0px 1px 2px rgba(0, 0, 0, 0.3));\n",
              "      fill: #FFFFFF;\n",
              "    }\n",
              "  </style>\n",
              "\n",
              "      <script>\n",
              "        const buttonEl =\n",
              "          document.querySelector('#df-848de094-132f-433c-8738-b7b898b738cd button.colab-df-convert');\n",
              "        buttonEl.style.display =\n",
              "          google.colab.kernel.accessAllowed ? 'block' : 'none';\n",
              "\n",
              "        async function convertToInteractive(key) {\n",
              "          const element = document.querySelector('#df-848de094-132f-433c-8738-b7b898b738cd');\n",
              "          const dataTable =\n",
              "            await google.colab.kernel.invokeFunction('convertToInteractive',\n",
              "                                                     [key], {});\n",
              "          if (!dataTable) return;\n",
              "\n",
              "          const docLinkHtml = 'Like what you see? Visit the ' +\n",
              "            '<a target=\"_blank\" href=https://colab.research.google.com/notebooks/data_table.ipynb>data table notebook</a>'\n",
              "            + ' to learn more about interactive tables.';\n",
              "          element.innerHTML = '';\n",
              "          dataTable['output_type'] = 'display_data';\n",
              "          await google.colab.output.renderOutput(dataTable, element);\n",
              "          const docLink = document.createElement('div');\n",
              "          docLink.innerHTML = docLinkHtml;\n",
              "          element.appendChild(docLink);\n",
              "        }\n",
              "      </script>\n",
              "    </div>\n",
              "  </div>\n",
              "  "
            ],
            "text/plain": [
              "                               Age    Gender  Heart rate  \\\n",
              "Age                       1.000000 -0.092437   -0.003955   \n",
              "Gender                   -0.092437  1.000000    0.005930   \n",
              "Heart rate               -0.003955  0.005930    1.000000   \n",
              "Systolic blood pressure   0.016726  0.012902   -0.040635   \n",
              "Diastolic blood pressure  0.001899 -0.008521    0.131413   \n",
              "Blood sugar              -0.014529  0.003073    0.004934   \n",
              "CK-MB                     0.024217 -0.000218    0.006105   \n",
              "Troponin                  0.169416  0.143746    0.018429   \n",
              "Result                    0.238034  0.094432    0.002396   \n",
              "\n",
              "                          Systolic blood pressure  Diastolic blood pressure  \\\n",
              "Age                                      0.016726                  0.001899   \n",
              "Gender                                   0.012902                 -0.008521   \n",
              "Heart rate                              -0.040635                  0.131413   \n",
              "Systolic blood pressure                  1.000000                  0.591888   \n",
              "Diastolic blood pressure                 0.591888                  1.000000   \n",
              "Blood sugar                              0.018410                 -0.012729   \n",
              "CK-MB                                   -0.022819                 -0.012520   \n",
              "Troponin                                 0.037969                  0.035155   \n",
              "Result                                  -0.021611                 -0.011512   \n",
              "\n",
              "                          Blood sugar     CK-MB  Troponin    Result  \n",
              "Age                         -0.014529  0.024217  0.169416  0.238034  \n",
              "Gender                       0.003073 -0.000218  0.143746  0.094432  \n",
              "Heart rate                   0.004934  0.006105  0.018429  0.002396  \n",
              "Systolic blood pressure      0.018410 -0.022819  0.037969 -0.021611  \n",
              "Diastolic blood pressure    -0.012729 -0.012520  0.035155 -0.011512  \n",
              "Blood sugar                  1.000000  0.043008  0.014057 -0.027213  \n",
              "CK-MB                        0.043008  1.000000 -0.042437  0.184709  \n",
              "Troponin                     0.014057 -0.042437  1.000000  0.517664  \n",
              "Result                      -0.027213  0.184709  0.517664  1.000000  "
            ]
          },
          "execution_count": 465,
          "metadata": {},
          "output_type": "execute_result"
        }
      ],
      "source": [
        "data.corr()"
      ]
    },
    {
      "cell_type": "markdown",
      "metadata": {
        "id": "oHlUh5YiPlC0"
      },
      "source": [
        "##Statistical correlation analysis (Feature Selection)"
      ]
    },
    {
      "cell_type": "code",
      "execution_count": null,
      "metadata": {
        "colab": {
          "base_uri": "https://localhost:8080/",
          "height": 605
        },
        "id": "j8lcnjTlPQPG",
        "outputId": "1530e37f-8e32-4f91-d81e-040cfbc2abf0"
      },
      "outputs": [
        {
          "data": {
            "text/plain": [
              "<Axes: >"
            ]
          },
          "execution_count": 466,
          "metadata": {},
          "output_type": "execute_result"
        },
        {
          "data": {
            "image/png": "[encoded data removed]",
            "text/plain": [
              "<Figure size 640x480 with 2 Axes>"
            ]
          },
          "metadata": {},
          "output_type": "display_data"
        }
      ],
      "source": [
        "sns.heatmap(data=data.corr())"
      ]
    },
    {
      "cell_type": "markdown",
      "metadata": {
        "id": "9N6U5fyWVfZ6"
      },
      "source": [
        "Null Hypothysis(H0): There is NO relation between the given variables ie. all are in same range.\n",
        "\n",
        "Alternate Hypothesis(H1): There is relation between the given variables ie. all are in different range.\n"
      ]
    },
    {
      "cell_type": "code",
      "execution_count": null,
      "metadata": {
        "id": "b9v6PfLvUzVZ"
      },
      "outputs": [],
      "source": [
        "def FunctionAnova(inpData, TargetVariable, ContinuousPredictorList):\n",
        "    from scipy.stats import f_oneway\n",
        "\n",
        "    # Creating an empty list of final selected predictors\n",
        "    SelectedPredictors=[]\n",
        "\n",
        "    print('##### ANOVA Results ##### \\n')\n",
        "    for predictor in ContinuousPredictorList:\n",
        "        CategoryGroupLists=inpData.groupby(TargetVariable)[predictor].apply(list)\n",
        "        AnovaResults = f_oneway(*CategoryGroupLists)\n",
        "\n",
        "        # If the ANOVA P-Value is <0.05, that means we reject H0\n",
        "        if (AnovaResults[1] < 0.05):\n",
        "            print(predictor, 'is correlated with', TargetVariable, '| P-Value:', AnovaResults[1])\n",
        "            SelectedPredictors.append(predictor)\n",
        "        else:\n",
        "            print(predictor, 'is NOT correlated with', TargetVariable, '| P-Value:', AnovaResults[1])\n",
        "\n",
        "    return(SelectedPredictors)"
      ]
    },
    {
      "cell_type": "code",
      "execution_count": null,
      "metadata": {
        "colab": {
          "base_uri": "https://localhost:8080/"
        },
        "id": "u5ddQYRbUzXj",
        "outputId": "c3319531-8bb8-46e9-cd29-d759f185d23f"
      },
      "outputs": [
        {
          "name": "stdout",
          "output_type": "stream",
          "text": [
            "##### ANOVA Results ##### \n",
            "\n",
            "Age is correlated with Result | P-Value: 1.90117391312857e-18\n",
            "Heart rate is NOT correlated with Result | P-Value: 0.9307330569439741\n",
            "Systolic blood pressure is NOT correlated with Result | P-Value: 0.4329137589203014\n",
            "Diastolic blood pressure is NOT correlated with Result | P-Value: 0.6761717719845903\n",
            "Blood sugar is NOT correlated with Result | P-Value: 0.3233624729895339\n",
            "CK-MB is correlated with Result | P-Value: 1.3782743585693059e-11\n",
            "Troponin is correlated with Result | P-Value: 2.612080487691413e-91\n"
          ]
        },
        {
          "data": {
            "text/plain": [
              "['Age', 'CK-MB', 'Troponin']"
            ]
          },
          "execution_count": 468,
          "metadata": {},
          "output_type": "execute_result"
        }
      ],
      "source": [
        "ContinuousVariables=['Age','Heart rate','Systolic blood pressure','Diastolic blood pressure','Blood sugar','CK-MB','Troponin']\n",
        "FunctionAnova(inpData=data, TargetVariable='Result', ContinuousPredictorList=ContinuousVariables)"
      ]
    },
    {
      "cell_type": "code",
      "execution_count": null,
      "metadata": {
        "id": "BKcbb49NUzZq"
      },
      "outputs": [],
      "source": [
        "def FunctionChisq(inpData, TargetVariable, CategoricalVariablesList):\n",
        "    from scipy.stats import chi2_contingency\n",
        "\n",
        "    # Creating an empty list of final selected predictors\n",
        "    SelectedPredictors=[]\n",
        "\n",
        "    for predictor in CategoricalVariablesList:\n",
        "        CrossTabResult=pd.crosstab(index=inpData[TargetVariable], columns=inpData[predictor])\n",
        "        ChiSqResult = chi2_contingency(CrossTabResult)\n",
        "\n",
        "        # If the ChiSq P-Value is <0.05, that means we reject H0\n",
        "        if (ChiSqResult[1] < 0.05):\n",
        "            print(predictor, 'is correlated with', TargetVariable, '| P-Value:', ChiSqResult[1])\n",
        "            SelectedPredictors.append(predictor)\n",
        "        else:\n",
        "            print(predictor, 'is NOT correlated with', TargetVariable, '| P-Value:', ChiSqResult[1])\n",
        "\n",
        "    return(SelectedPredictors)"
      ]
    },
    {
      "cell_type": "code",
      "execution_count": null,
      "metadata": {
        "colab": {
          "base_uri": "https://localhost:8080/"
        },
        "id": "yCYLhAHEUzb_",
        "outputId": "44747128-baa6-4f6c-ba54-cfa1cb89acf7"
      },
      "outputs": [
        {
          "name": "stdout",
          "output_type": "stream",
          "text": [
            "Gender is correlated with Result | P-Value: 0.0007519186100483854\n"
          ]
        },
        {
          "data": {
            "text/plain": [
              "['Gender']"
            ]
          },
          "execution_count": 470,
          "metadata": {},
          "output_type": "execute_result"
        }
      ],
      "source": [
        "CategoricalVariables=['Gender']\n",
        "\n",
        "# Calling the function\n",
        "FunctionChisq(inpData=data,\n",
        "              TargetVariable='Result',\n",
        "              CategoricalVariablesList= CategoricalVariables)"
      ]
    },
    {
      "cell_type": "code",
      "execution_count": null,
      "metadata": {
        "colab": {
          "base_uri": "https://localhost:8080/",
          "height": 423
        },
        "id": "DjNd9v1Pbpws",
        "outputId": "e25b3fca-7df6-495d-ac27-c0adfcd95a0d"
      },
      "outputs": [
        {
          "data": {
            "text/html": [
              "\n",
              "  <div id=\"df-e3a369cc-a7fd-45a7-b2d8-09ad4fe83a1d\">\n",
              "    <div class=\"colab-df-container\">\n",
              "      <div>\n",
              "<style scoped>\n",
              "    .dataframe tbody tr th:only-of-type {\n",
              "        vertical-align: middle;\n",
              "    }\n",
              "\n",
              "    .dataframe tbody tr th {\n",
              "        vertical-align: top;\n",
              "    }\n",
              "\n",
              "    .dataframe thead th {\n",
              "        text-align: right;\n",
              "    }\n",
              "</style>\n",
              "<table border=\"1\" class=\"dataframe\">\n",
              "  <thead>\n",
              "    <tr style=\"text-align: right;\">\n",
              "      <th></th>\n",
              "      <th>Age</th>\n",
              "      <th>Gender</th>\n",
              "      <th>Heart rate</th>\n",
              "      <th>CK-MB</th>\n",
              "      <th>Troponin</th>\n",
              "      <th>Result</th>\n",
              "    </tr>\n",
              "  </thead>\n",
              "  <tbody>\n",
              "    <tr>\n",
              "      <th>0</th>\n",
              "      <td>64.0</td>\n",
              "      <td>1</td>\n",
              "      <td>66.0</td>\n",
              "      <td>57.775</td>\n",
              "      <td>0.01200</td>\n",
              "      <td>0</td>\n",
              "    </tr>\n",
              "    <tr>\n",
              "      <th>1</th>\n",
              "      <td>21.0</td>\n",
              "      <td>1</td>\n",
              "      <td>94.0</td>\n",
              "      <td>57.775</td>\n",
              "      <td>0.20475</td>\n",
              "      <td>1</td>\n",
              "    </tr>\n",
              "    <tr>\n",
              "      <th>2</th>\n",
              "      <td>55.0</td>\n",
              "      <td>1</td>\n",
              "      <td>64.0</td>\n",
              "      <td>57.775</td>\n",
              "      <td>0.00300</td>\n",
              "      <td>0</td>\n",
              "    </tr>\n",
              "    <tr>\n",
              "      <th>3</th>\n",
              "      <td>64.0</td>\n",
              "      <td>1</td>\n",
              "      <td>70.0</td>\n",
              "      <td>57.775</td>\n",
              "      <td>0.12200</td>\n",
              "      <td>1</td>\n",
              "    </tr>\n",
              "    <tr>\n",
              "      <th>4</th>\n",
              "      <td>55.0</td>\n",
              "      <td>1</td>\n",
              "      <td>64.0</td>\n",
              "      <td>57.775</td>\n",
              "      <td>0.00300</td>\n",
              "      <td>0</td>\n",
              "    </tr>\n",
              "    <tr>\n",
              "      <th>...</th>\n",
              "      <td>...</td>\n",
              "      <td>...</td>\n",
              "      <td>...</td>\n",
              "      <td>...</td>\n",
              "      <td>...</td>\n",
              "      <td>...</td>\n",
              "    </tr>\n",
              "    <tr>\n",
              "      <th>1314</th>\n",
              "      <td>44.0</td>\n",
              "      <td>1</td>\n",
              "      <td>94.0</td>\n",
              "      <td>57.775</td>\n",
              "      <td>0.00600</td>\n",
              "      <td>0</td>\n",
              "    </tr>\n",
              "    <tr>\n",
              "      <th>1315</th>\n",
              "      <td>66.0</td>\n",
              "      <td>1</td>\n",
              "      <td>84.0</td>\n",
              "      <td>57.775</td>\n",
              "      <td>0.17200</td>\n",
              "      <td>1</td>\n",
              "    </tr>\n",
              "    <tr>\n",
              "      <th>1316</th>\n",
              "      <td>45.0</td>\n",
              "      <td>1</td>\n",
              "      <td>85.0</td>\n",
              "      <td>57.775</td>\n",
              "      <td>0.20475</td>\n",
              "      <td>1</td>\n",
              "    </tr>\n",
              "    <tr>\n",
              "      <th>1317</th>\n",
              "      <td>54.0</td>\n",
              "      <td>1</td>\n",
              "      <td>58.0</td>\n",
              "      <td>57.775</td>\n",
              "      <td>0.20475</td>\n",
              "      <td>1</td>\n",
              "    </tr>\n",
              "    <tr>\n",
              "      <th>1318</th>\n",
              "      <td>51.0</td>\n",
              "      <td>1</td>\n",
              "      <td>94.0</td>\n",
              "      <td>57.775</td>\n",
              "      <td>0.20475</td>\n",
              "      <td>1</td>\n",
              "    </tr>\n",
              "  </tbody>\n",
              "</table>\n",
              "<p>1319 rows × 6 columns</p>\n",
              "</div>\n",
              "      <button class=\"colab-df-convert\" onclick=\"convertToInteractive('df-e3a369cc-a7fd-45a7-b2d8-09ad4fe83a1d')\"\n",
              "              title=\"Convert this dataframe to an interactive table.\"\n",
              "              style=\"display:none;\">\n",
              "        \n",
              "  <svg xmlns=\"http://www.w3.org/2000/svg\" height=\"24px\"viewBox=\"0 0 24 24\"\n",
              "       width=\"24px\">\n",
              "    <path d=\"M0 0h24v24H0V0z\" fill=\"none\"/>\n",
              "    <path d=\"M18.56 5.44l.94 2.06.94-2.06 2.06-.94-2.06-.94-.94-2.06-.94 2.06-2.06.94zm-11 1L8.5 8.5l.94-2.06 2.06-.94-2.06-.94L8.5 2.5l-.94 2.06-2.06.94zm10 10l.94 2.06.94-2.06 2.06-.94-2.06-.94-.94-2.06-.94 2.06-2.06.94z\"/><path d=\"M17.41 7.96l-1.37-1.37c-.4-.4-.92-.59-1.43-.59-.52 0-1.04.2-1.43.59L10.3 9.45l-7.72 7.72c-.78.78-.78 2.05 0 2.83L4 21.41c.39.39.9.59 1.41.59.51 0 1.02-.2 1.41-.59l7.78-7.78 2.81-2.81c.8-.78.8-2.07 0-2.86zM5.41 20L4 18.59l7.72-7.72 1.47 1.35L5.41 20z\"/>\n",
              "  </svg>\n",
              "      </button>\n",
              "      \n",
              "  <style>\n",
              "    .colab-df-container {\n",
              "      display:flex;\n",
              "      flex-wrap:wrap;\n",
              "      gap: 12px;\n",
              "    }\n",
              "\n",
              "    .colab-df-convert {\n",
              "      background-color: #E8F0FE;\n",
              "      border: none;\n",
              "      border-radius: 50%;\n",
              "      cursor: pointer;\n",
              "      display: none;\n",
              "      fill: #1967D2;\n",
              "      height: 32px;\n",
              "      padding: 0 0 0 0;\n",
              "      width: 32px;\n",
              "    }\n",
              "\n",
              "    .colab-df-convert:hover {\n",
              "      background-color: #E2EBFA;\n",
              "      box-shadow: 0px 1px 2px rgba(60, 64, 67, 0.3), 0px 1px 3px 1px rgba(60, 64, 67, 0.15);\n",
              "      fill: #174EA6;\n",
              "    }\n",
              "\n",
              "    [theme=dark] .colab-df-convert {\n",
              "      background-color: #3B4455;\n",
              "      fill: #D2E3FC;\n",
              "    }\n",
              "\n",
              "    [theme=dark] .colab-df-convert:hover {\n",
              "      background-color: #434B5C;\n",
              "      box-shadow: 0px 1px 3px 1px rgba(0, 0, 0, 0.15);\n",
              "      filter: drop-shadow(0px 1px 2px rgba(0, 0, 0, 0.3));\n",
              "      fill: #FFFFFF;\n",
              "    }\n",
              "  </style>\n",
              "\n",
              "      <script>\n",
              "        const buttonEl =\n",
              "          document.querySelector('#df-e3a369cc-a7fd-45a7-b2d8-09ad4fe83a1d button.colab-df-convert');\n",
              "        buttonEl.style.display =\n",
              "          google.colab.kernel.accessAllowed ? 'block' : 'none';\n",
              "\n",
              "        async function convertToInteractive(key) {\n",
              "          const element = document.querySelector('#df-e3a369cc-a7fd-45a7-b2d8-09ad4fe83a1d');\n",
              "          const dataTable =\n",
              "            await google.colab.kernel.invokeFunction('convertToInteractive',\n",
              "                                                     [key], {});\n",
              "          if (!dataTable) return;\n",
              "\n",
              "          const docLinkHtml = 'Like what you see? Visit the ' +\n",
              "            '<a target=\"_blank\" href=https://colab.research.google.com/notebooks/data_table.ipynb>data table notebook</a>'\n",
              "            + ' to learn more about interactive tables.';\n",
              "          element.innerHTML = '';\n",
              "          dataTable['output_type'] = 'display_data';\n",
              "          await google.colab.output.renderOutput(dataTable, element);\n",
              "          const docLink = document.createElement('div');\n",
              "          docLink.innerHTML = docLinkHtml;\n",
              "          element.appendChild(docLink);\n",
              "        }\n",
              "      </script>\n",
              "    </div>\n",
              "  </div>\n",
              "  "
            ],
            "text/plain": [
              "       Age  Gender  Heart rate   CK-MB  Troponin  Result\n",
              "0     64.0       1        66.0  57.775   0.01200       0\n",
              "1     21.0       1        94.0  57.775   0.20475       1\n",
              "2     55.0       1        64.0  57.775   0.00300       0\n",
              "3     64.0       1        70.0  57.775   0.12200       1\n",
              "4     55.0       1        64.0  57.775   0.00300       0\n",
              "...    ...     ...         ...     ...       ...     ...\n",
              "1314  44.0       1        94.0  57.775   0.00600       0\n",
              "1315  66.0       1        84.0  57.775   0.17200       1\n",
              "1316  45.0       1        85.0  57.775   0.20475       1\n",
              "1317  54.0       1        58.0  57.775   0.20475       1\n",
              "1318  51.0       1        94.0  57.775   0.20475       1\n",
              "\n",
              "[1319 rows x 6 columns]"
            ]
          },
          "execution_count": 471,
          "metadata": {},
          "output_type": "execute_result"
        }
      ],
      "source": [
        "data=data[['Age','Gender','Heart rate','CK-MB','Troponin','Result']]\n",
        "data"
      ]
    },
    {
      "cell_type": "code",
      "execution_count": null,
      "metadata": {
        "id": "FCmmV-UNb60n"
      },
      "outputs": [],
      "source": [
        "x=data.iloc[:,:-1].values\n",
        "y=data.iloc[:,1].values"
      ]
    },
    {
      "cell_type": "code",
      "execution_count": null,
      "metadata": {
        "colab": {
          "base_uri": "https://localhost:8080/"
        },
        "id": "mm_uwKLLc8z2",
        "outputId": "cb0808f8-51b5-43db-8a07-eb2bb91a54f0"
      },
      "outputs": [
        {
          "data": {
            "text/plain": [
              "(1319, 5)"
            ]
          },
          "execution_count": 473,
          "metadata": {},
          "output_type": "execute_result"
        }
      ],
      "source": [
        "x.shape"
      ]
    },
    {
      "cell_type": "code",
      "execution_count": null,
      "metadata": {
        "colab": {
          "base_uri": "https://localhost:8080/"
        },
        "id": "gnRt_LNkdAkh",
        "outputId": "51c87153-c604-4039-edcd-67942ad09335"
      },
      "outputs": [
        {
          "data": {
            "text/plain": [
              "(1319,)"
            ]
          },
          "execution_count": 474,
          "metadata": {},
          "output_type": "execute_result"
        }
      ],
      "source": [
        "y.shape"
      ]
    },
    {
      "cell_type": "code",
      "execution_count": null,
      "metadata": {
        "id": "wc5fTv2ndCm7"
      },
      "outputs": [],
      "source": [
        "from sklearn.model_selection import train_test_split\n",
        "x_train, x_test, y_train, y_test = train_test_split(x, y, test_size=0.3, random_state=0)"
      ]
    },
    {
      "cell_type": "code",
      "execution_count": null,
      "metadata": {
        "colab": {
          "base_uri": "https://localhost:8080/"
        },
        "id": "oxQvcFP0dxOg",
        "outputId": "4855aef8-cd91-45b2-91b5-3486a4c8adc0"
      },
      "outputs": [
        {
          "name": "stdout",
          "output_type": "stream",
          "text": [
            "(923, 5)\n",
            "(396, 5)\n",
            "(923,)\n",
            "(396,)\n"
          ]
        }
      ],
      "source": [
        "print(x_train.shape)\n",
        "print(x_test.shape)\n",
        "print(y_train.shape)\n",
        "print(y_test.shape)"
      ]
    },
    {
      "cell_type": "code",
      "execution_count": null,
      "metadata": {
        "id": "XUoqEzSpek69"
      },
      "outputs": [],
      "source": [
        "from sklearn.svm import SVC\n",
        "svc=SVC(C=10.0,kernel='rbf')\n",
        "svc.fit(x_train, y_train)"
      ]
    },
    {
      "cell_type": "code",
      "execution_count": null,
      "metadata": {
        "colab": {
          "background_save": true
        },
        "id": "Xd9_HSQgflh8",
        "outputId": "06e80603-69a5-4798-a15f-80b0e08e35d7"
      },
      "outputs": [
        {
          "data": {
            "text/plain": [
              "0.9783315276273022"
            ]
          },
          "execution_count": 498,
          "metadata": {},
          "output_type": "execute_result"
        }
      ],
      "source": [
        "svc.score(x_train,y_train)"
      ]
    },
    {
      "cell_type": "code",
      "execution_count": null,
      "metadata": {
        "id": "bHpS6cCtf2iU"
      },
      "outputs": [],
      "source": [
        "yp1=svc.predict(x_test)\n",
        "yp1=pd.DataFrame(yp1)\n",
        "yp1"
      ]
    },
    {
      "cell_type": "code",
      "execution_count": null,
      "metadata": {
        "id": "ArjJGMJZf_E0"
      },
      "outputs": [],
      "source": [
        "y_test=pd.DataFrame(y_test)\n",
        "y_test"
      ]
    },
    {
      "cell_type": "code",
      "execution_count": null,
      "metadata": {
        "id": "Ym-2BOAIgBSF"
      },
      "outputs": [],
      "source": [
        "p1=pd.concat([y_test,yp1],axis=1)\n",
        "p1"
      ]
    },
    {
      "cell_type": "code",
      "execution_count": null,
      "metadata": {
        "colab": {
          "base_uri": "https://localhost:8080/"
        },
        "id": "YYMj2RHngFjx",
        "outputId": "d1e364cb-f8d0-46da-8747-a42d3984d7d7"
      },
      "outputs": [
        {
          "data": {
            "text/plain": [
              "array([[132,   7],\n",
              "       [  0, 257]])"
            ]
          },
          "execution_count": 482,
          "metadata": {},
          "output_type": "execute_result"
        }
      ],
      "source": [
        "from sklearn.metrics import accuracy_score,classification_report,confusion_matrix,log_loss\n",
        "cm=confusion_matrix(y_test,yp1)\n",
        "cm"
      ]
    },
    {
      "cell_type": "code",
      "execution_count": null,
      "metadata": {
        "colab": {
          "base_uri": "https://localhost:8080/"
        },
        "id": "pGjIDutlgIss",
        "outputId": "1fd788f8-4573-49ae-e65f-ef1fc93f30f7"
      },
      "outputs": [
        {
          "name": "stdout",
          "output_type": "stream",
          "text": [
            "              precision    recall  f1-score   support\n",
            "\n",
            "           0       1.00      0.95      0.97       139\n",
            "           1       0.97      1.00      0.99       257\n",
            "\n",
            "    accuracy                           0.98       396\n",
            "   macro avg       0.99      0.97      0.98       396\n",
            "weighted avg       0.98      0.98      0.98       396\n",
            "\n"
          ]
        }
      ],
      "source": [
        "print(classification_report(y_test,yp1))\n"
      ]
    },
    {
      "cell_type": "code",
      "execution_count": null,
      "metadata": {
        "colab": {
          "base_uri": "https://localhost:8080/"
        },
        "id": "BmVnUdm7gMAS",
        "outputId": "af066fb0-7654-4c74-dc2b-519abc86d20d"
      },
      "outputs": [
        {
          "data": {
            "text/plain": [
              "0.637135287181364"
            ]
          },
          "execution_count": 484,
          "metadata": {},
          "output_type": "execute_result"
        }
      ],
      "source": [
        "logloss=log_loss(y_test,yp1)\n",
        "logloss"
      ]
    },
    {
      "cell_type": "code",
      "execution_count": null,
      "metadata": {
        "colab": {
          "base_uri": "https://localhost:8080/"
        },
        "id": "oOHiSV5KgP65",
        "outputId": "c571b164-6563-407b-8cda-09fb18d19f53"
      },
      "outputs": [
        {
          "data": {
            "text/plain": [
              "0.9823232323232324"
            ]
          },
          "execution_count": 485,
          "metadata": {},
          "output_type": "execute_result"
        }
      ],
      "source": [
        "b=accuracy_score(y_test,yp1)\n",
        "b"
      ]
    },
    {
      "cell_type": "code",
      "execution_count": null,
      "metadata": {
        "colab": {
          "base_uri": "https://localhost:8080/"
        },
        "id": "2PI73eQukFIz",
        "outputId": "296c67a3-46b2-454c-e024-4c24a0818e05"
      },
      "outputs": [
        {
          "name": "stdout",
          "output_type": "stream",
          "text": [
            "\n",
            "Accuracy values for 10-fold Cross Validation:\n",
            " [1. 1. 1. 1. 1. 1. 1. 1. 1. 1.]\n",
            "\n",
            "Final Average Accuracy of the model: 1.0\n"
          ]
        }
      ],
      "source": [
        "from sklearn.model_selection import cross_val_score\n",
        "Accuracy_Values=cross_val_score(svc, x , y, cv=10, scoring='f1_weighted')\n",
        "print('\\nAccuracy values for 10-fold Cross Validation:\\n',Accuracy_Values)\n",
        "print('\\nFinal Average Accuracy of the model:', round(Accuracy_Values.mean(),2))"
      ]
    },
    {
      "cell_type": "code",
      "execution_count": null,
      "metadata": {
        "colab": {
          "base_uri": "https://localhost:8080/"
        },
        "id": "u8dIBSUagRaE",
        "outputId": "47c7c040-463b-4e1a-af1d-d2cdd0941b40"
      },
      "outputs": [
        {
          "name": "stdout",
          "output_type": "stream",
          "text": [
            " Results from Grid Search \n",
            "\n",
            "\n",
            " The best estimator across ALL searched params:\n",
            " SVC(C=20, degree=1)\n",
            "\n",
            " The best score across ALL searched params:\n",
            " 1.0\n",
            "\n",
            " The best parameters across ALL searched params:\n",
            " {'C': 20, 'degree': 1}\n"
          ]
        }
      ],
      "source": [
        "from sklearn.model_selection import GridSearchCV\n",
        "parameters = { 'C'    : [1,2,3,4,5,6,7,8,9,10,20,22,25,27,30,32,35,40,50],\n",
        "              'degree' : [1,2,3,4,5]\n",
        "                 }\n",
        "svc = GridSearchCV(estimator=svc, param_grid = parameters, cv = 5, n_jobs=-1)\n",
        "svc.fit(x_train, y_train)\n",
        "\n",
        "print(\" Results from Grid Search \" )\n",
        "print()\n",
        "print(\"\\n The best estimator across ALL searched params:\\n\",\n",
        "          svc.best_estimator_)\n",
        "print(\"\\n The best score across ALL searched params:\\n\",\n",
        "          svc.best_score_)\n",
        "print(\"\\n The best parameters across ALL searched params:\\n\",\n",
        "          svc.best_params_)"
      ]
    }
  ],
  "metadata": {
    "accelerator": "TPU",
    "colab": {
      "provenance": [],
      "authorship_tag": "ABX9TyNoFEoA1MLCrXRDuxassOdh",
      "include_colab_link": true
    },
    "kernelspec": {
      "display_name": "Python 3",
      "name": "python3"
    },
    "language_info": {
      "name": "python"
    }
  },
  "nbformat": 4,
  "nbformat_minor": 0
}