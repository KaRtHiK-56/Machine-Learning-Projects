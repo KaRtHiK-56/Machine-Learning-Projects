{
  "nbformat": 4,
  "nbformat_minor": 0,
  "metadata": {
    "kernelspec": {
      "display_name": "Python 3",
      "language": "python",
      "name": "python3"
    },
    "language_info": {
      "codemirror_mode": {
        "name": "ipython",
        "version": 3
      },
      "file_extension": ".py",
      "mimetype": "text/x-python",
      "name": "python",
      "nbconvert_exporter": "python",
      "pygments_lexer": "ipython3",
      "version": "3.7.4"
    },
    "colab": {
      "name": "HeartDiseasePrediction.ipynb",
      "provenance": [],
      "collapsed_sections": [],
      "include_colab_link": true
    }
  },
  "cells": [
    {
      "cell_type": "markdown",
      "metadata": {
        "id": "view-in-github",
        "colab_type": "text"
      },
      "source": [
        "<a href=\"https://colab.research.google.com/github/VegetaSan1/Machine-Learning-Projects/blob/main/HeartDiseasePrediction.ipynb\" target=\"_parent\"><img src=\"https://colab.research.google.com/assets/colab-badge.svg\" alt=\"Open In Colab\"/></a>"
      ]
    },
    {
      "cell_type": "code",
      "metadata": {
        "id": "RIStzSg8nzJS"
      },
      "source": [
        "import pandas as pd\n",
        "import numpy as np \n",
        "import matplotlib.pyplot as plt\n",
        "import seaborn as sns"
      ],
      "execution_count": null,
      "outputs": []
    },
    {
      "cell_type": "code",
      "metadata": {
        "colab": {
          "base_uri": "https://localhost:8080/",
          "height": 419
        },
        "id": "Cg7g2jZFnzJb",
        "outputId": "b8424908-41f7-4da7-c2c7-557b0f2587f7"
      },
      "source": [
        "ds=pd.read_csv('heart.csv')\n",
        "ds"
      ],
      "execution_count": null,
      "outputs": [
        {
          "output_type": "execute_result",
          "data": {
            "text/html": [
              "<div>\n",
              "<style scoped>\n",
              "    .dataframe tbody tr th:only-of-type {\n",
              "        vertical-align: middle;\n",
              "    }\n",
              "\n",
              "    .dataframe tbody tr th {\n",
              "        vertical-align: top;\n",
              "    }\n",
              "\n",
              "    .dataframe thead th {\n",
              "        text-align: right;\n",
              "    }\n",
              "</style>\n",
              "<table border=\"1\" class=\"dataframe\">\n",
              "  <thead>\n",
              "    <tr style=\"text-align: right;\">\n",
              "      <th></th>\n",
              "      <th>age</th>\n",
              "      <th>sex</th>\n",
              "      <th>cp</th>\n",
              "      <th>trestbps</th>\n",
              "      <th>chol</th>\n",
              "      <th>fbs</th>\n",
              "      <th>restecg</th>\n",
              "      <th>thalach</th>\n",
              "      <th>exang</th>\n",
              "      <th>oldpeak</th>\n",
              "      <th>slope</th>\n",
              "      <th>ca</th>\n",
              "      <th>thal</th>\n",
              "      <th>target</th>\n",
              "    </tr>\n",
              "  </thead>\n",
              "  <tbody>\n",
              "    <tr>\n",
              "      <th>0</th>\n",
              "      <td>63</td>\n",
              "      <td>1</td>\n",
              "      <td>3</td>\n",
              "      <td>145</td>\n",
              "      <td>233</td>\n",
              "      <td>1</td>\n",
              "      <td>0</td>\n",
              "      <td>150</td>\n",
              "      <td>0</td>\n",
              "      <td>2.3</td>\n",
              "      <td>0</td>\n",
              "      <td>0</td>\n",
              "      <td>1</td>\n",
              "      <td>1</td>\n",
              "    </tr>\n",
              "    <tr>\n",
              "      <th>1</th>\n",
              "      <td>37</td>\n",
              "      <td>1</td>\n",
              "      <td>2</td>\n",
              "      <td>130</td>\n",
              "      <td>250</td>\n",
              "      <td>0</td>\n",
              "      <td>1</td>\n",
              "      <td>187</td>\n",
              "      <td>0</td>\n",
              "      <td>3.5</td>\n",
              "      <td>0</td>\n",
              "      <td>0</td>\n",
              "      <td>2</td>\n",
              "      <td>1</td>\n",
              "    </tr>\n",
              "    <tr>\n",
              "      <th>2</th>\n",
              "      <td>41</td>\n",
              "      <td>0</td>\n",
              "      <td>1</td>\n",
              "      <td>130</td>\n",
              "      <td>204</td>\n",
              "      <td>0</td>\n",
              "      <td>0</td>\n",
              "      <td>172</td>\n",
              "      <td>0</td>\n",
              "      <td>1.4</td>\n",
              "      <td>2</td>\n",
              "      <td>0</td>\n",
              "      <td>2</td>\n",
              "      <td>1</td>\n",
              "    </tr>\n",
              "    <tr>\n",
              "      <th>3</th>\n",
              "      <td>56</td>\n",
              "      <td>1</td>\n",
              "      <td>1</td>\n",
              "      <td>120</td>\n",
              "      <td>236</td>\n",
              "      <td>0</td>\n",
              "      <td>1</td>\n",
              "      <td>178</td>\n",
              "      <td>0</td>\n",
              "      <td>0.8</td>\n",
              "      <td>2</td>\n",
              "      <td>0</td>\n",
              "      <td>2</td>\n",
              "      <td>1</td>\n",
              "    </tr>\n",
              "    <tr>\n",
              "      <th>4</th>\n",
              "      <td>57</td>\n",
              "      <td>0</td>\n",
              "      <td>0</td>\n",
              "      <td>120</td>\n",
              "      <td>354</td>\n",
              "      <td>0</td>\n",
              "      <td>1</td>\n",
              "      <td>163</td>\n",
              "      <td>1</td>\n",
              "      <td>0.6</td>\n",
              "      <td>2</td>\n",
              "      <td>0</td>\n",
              "      <td>2</td>\n",
              "      <td>1</td>\n",
              "    </tr>\n",
              "    <tr>\n",
              "      <th>...</th>\n",
              "      <td>...</td>\n",
              "      <td>...</td>\n",
              "      <td>...</td>\n",
              "      <td>...</td>\n",
              "      <td>...</td>\n",
              "      <td>...</td>\n",
              "      <td>...</td>\n",
              "      <td>...</td>\n",
              "      <td>...</td>\n",
              "      <td>...</td>\n",
              "      <td>...</td>\n",
              "      <td>...</td>\n",
              "      <td>...</td>\n",
              "      <td>...</td>\n",
              "    </tr>\n",
              "    <tr>\n",
              "      <th>298</th>\n",
              "      <td>57</td>\n",
              "      <td>0</td>\n",
              "      <td>0</td>\n",
              "      <td>140</td>\n",
              "      <td>241</td>\n",
              "      <td>0</td>\n",
              "      <td>1</td>\n",
              "      <td>123</td>\n",
              "      <td>1</td>\n",
              "      <td>0.2</td>\n",
              "      <td>1</td>\n",
              "      <td>0</td>\n",
              "      <td>3</td>\n",
              "      <td>0</td>\n",
              "    </tr>\n",
              "    <tr>\n",
              "      <th>299</th>\n",
              "      <td>45</td>\n",
              "      <td>1</td>\n",
              "      <td>3</td>\n",
              "      <td>110</td>\n",
              "      <td>264</td>\n",
              "      <td>0</td>\n",
              "      <td>1</td>\n",
              "      <td>132</td>\n",
              "      <td>0</td>\n",
              "      <td>1.2</td>\n",
              "      <td>1</td>\n",
              "      <td>0</td>\n",
              "      <td>3</td>\n",
              "      <td>0</td>\n",
              "    </tr>\n",
              "    <tr>\n",
              "      <th>300</th>\n",
              "      <td>68</td>\n",
              "      <td>1</td>\n",
              "      <td>0</td>\n",
              "      <td>144</td>\n",
              "      <td>193</td>\n",
              "      <td>1</td>\n",
              "      <td>1</td>\n",
              "      <td>141</td>\n",
              "      <td>0</td>\n",
              "      <td>3.4</td>\n",
              "      <td>1</td>\n",
              "      <td>2</td>\n",
              "      <td>3</td>\n",
              "      <td>0</td>\n",
              "    </tr>\n",
              "    <tr>\n",
              "      <th>301</th>\n",
              "      <td>57</td>\n",
              "      <td>1</td>\n",
              "      <td>0</td>\n",
              "      <td>130</td>\n",
              "      <td>131</td>\n",
              "      <td>0</td>\n",
              "      <td>1</td>\n",
              "      <td>115</td>\n",
              "      <td>1</td>\n",
              "      <td>1.2</td>\n",
              "      <td>1</td>\n",
              "      <td>1</td>\n",
              "      <td>3</td>\n",
              "      <td>0</td>\n",
              "    </tr>\n",
              "    <tr>\n",
              "      <th>302</th>\n",
              "      <td>57</td>\n",
              "      <td>0</td>\n",
              "      <td>1</td>\n",
              "      <td>130</td>\n",
              "      <td>236</td>\n",
              "      <td>0</td>\n",
              "      <td>0</td>\n",
              "      <td>174</td>\n",
              "      <td>0</td>\n",
              "      <td>0.0</td>\n",
              "      <td>1</td>\n",
              "      <td>1</td>\n",
              "      <td>2</td>\n",
              "      <td>0</td>\n",
              "    </tr>\n",
              "  </tbody>\n",
              "</table>\n",
              "<p>303 rows × 14 columns</p>\n",
              "</div>"
            ],
            "text/plain": [
              "     age  sex  cp  trestbps  chol  fbs  ...  exang  oldpeak  slope  ca  thal  target\n",
              "0     63    1   3       145   233    1  ...      0      2.3      0   0     1       1\n",
              "1     37    1   2       130   250    0  ...      0      3.5      0   0     2       1\n",
              "2     41    0   1       130   204    0  ...      0      1.4      2   0     2       1\n",
              "3     56    1   1       120   236    0  ...      0      0.8      2   0     2       1\n",
              "4     57    0   0       120   354    0  ...      1      0.6      2   0     2       1\n",
              "..   ...  ...  ..       ...   ...  ...  ...    ...      ...    ...  ..   ...     ...\n",
              "298   57    0   0       140   241    0  ...      1      0.2      1   0     3       0\n",
              "299   45    1   3       110   264    0  ...      0      1.2      1   0     3       0\n",
              "300   68    1   0       144   193    1  ...      0      3.4      1   2     3       0\n",
              "301   57    1   0       130   131    0  ...      1      1.2      1   1     3       0\n",
              "302   57    0   1       130   236    0  ...      0      0.0      1   1     2       0\n",
              "\n",
              "[303 rows x 14 columns]"
            ]
          },
          "metadata": {
            "tags": []
          },
          "execution_count": 2
        }
      ]
    },
    {
      "cell_type": "code",
      "metadata": {
        "colab": {
          "base_uri": "https://localhost:8080/",
          "height": 317
        },
        "id": "GuoGdlOrnzJe",
        "outputId": "588742af-3291-4819-9bc7-52665474dce7"
      },
      "source": [
        "ds.describe()"
      ],
      "execution_count": null,
      "outputs": [
        {
          "output_type": "execute_result",
          "data": {
            "text/html": [
              "<div>\n",
              "<style scoped>\n",
              "    .dataframe tbody tr th:only-of-type {\n",
              "        vertical-align: middle;\n",
              "    }\n",
              "\n",
              "    .dataframe tbody tr th {\n",
              "        vertical-align: top;\n",
              "    }\n",
              "\n",
              "    .dataframe thead th {\n",
              "        text-align: right;\n",
              "    }\n",
              "</style>\n",
              "<table border=\"1\" class=\"dataframe\">\n",
              "  <thead>\n",
              "    <tr style=\"text-align: right;\">\n",
              "      <th></th>\n",
              "      <th>age</th>\n",
              "      <th>sex</th>\n",
              "      <th>cp</th>\n",
              "      <th>trestbps</th>\n",
              "      <th>chol</th>\n",
              "      <th>fbs</th>\n",
              "      <th>restecg</th>\n",
              "      <th>thalach</th>\n",
              "      <th>exang</th>\n",
              "      <th>oldpeak</th>\n",
              "      <th>slope</th>\n",
              "      <th>ca</th>\n",
              "      <th>thal</th>\n",
              "      <th>target</th>\n",
              "    </tr>\n",
              "  </thead>\n",
              "  <tbody>\n",
              "    <tr>\n",
              "      <th>count</th>\n",
              "      <td>303.000000</td>\n",
              "      <td>303.000000</td>\n",
              "      <td>303.000000</td>\n",
              "      <td>303.000000</td>\n",
              "      <td>303.000000</td>\n",
              "      <td>303.000000</td>\n",
              "      <td>303.000000</td>\n",
              "      <td>303.000000</td>\n",
              "      <td>303.000000</td>\n",
              "      <td>303.000000</td>\n",
              "      <td>303.000000</td>\n",
              "      <td>303.000000</td>\n",
              "      <td>303.000000</td>\n",
              "      <td>303.000000</td>\n",
              "    </tr>\n",
              "    <tr>\n",
              "      <th>mean</th>\n",
              "      <td>54.366337</td>\n",
              "      <td>0.683168</td>\n",
              "      <td>0.966997</td>\n",
              "      <td>131.623762</td>\n",
              "      <td>246.264026</td>\n",
              "      <td>0.148515</td>\n",
              "      <td>0.528053</td>\n",
              "      <td>149.646865</td>\n",
              "      <td>0.326733</td>\n",
              "      <td>1.039604</td>\n",
              "      <td>1.399340</td>\n",
              "      <td>0.729373</td>\n",
              "      <td>2.313531</td>\n",
              "      <td>0.544554</td>\n",
              "    </tr>\n",
              "    <tr>\n",
              "      <th>std</th>\n",
              "      <td>9.082101</td>\n",
              "      <td>0.466011</td>\n",
              "      <td>1.032052</td>\n",
              "      <td>17.538143</td>\n",
              "      <td>51.830751</td>\n",
              "      <td>0.356198</td>\n",
              "      <td>0.525860</td>\n",
              "      <td>22.905161</td>\n",
              "      <td>0.469794</td>\n",
              "      <td>1.161075</td>\n",
              "      <td>0.616226</td>\n",
              "      <td>1.022606</td>\n",
              "      <td>0.612277</td>\n",
              "      <td>0.498835</td>\n",
              "    </tr>\n",
              "    <tr>\n",
              "      <th>min</th>\n",
              "      <td>29.000000</td>\n",
              "      <td>0.000000</td>\n",
              "      <td>0.000000</td>\n",
              "      <td>94.000000</td>\n",
              "      <td>126.000000</td>\n",
              "      <td>0.000000</td>\n",
              "      <td>0.000000</td>\n",
              "      <td>71.000000</td>\n",
              "      <td>0.000000</td>\n",
              "      <td>0.000000</td>\n",
              "      <td>0.000000</td>\n",
              "      <td>0.000000</td>\n",
              "      <td>0.000000</td>\n",
              "      <td>0.000000</td>\n",
              "    </tr>\n",
              "    <tr>\n",
              "      <th>25%</th>\n",
              "      <td>47.500000</td>\n",
              "      <td>0.000000</td>\n",
              "      <td>0.000000</td>\n",
              "      <td>120.000000</td>\n",
              "      <td>211.000000</td>\n",
              "      <td>0.000000</td>\n",
              "      <td>0.000000</td>\n",
              "      <td>133.500000</td>\n",
              "      <td>0.000000</td>\n",
              "      <td>0.000000</td>\n",
              "      <td>1.000000</td>\n",
              "      <td>0.000000</td>\n",
              "      <td>2.000000</td>\n",
              "      <td>0.000000</td>\n",
              "    </tr>\n",
              "    <tr>\n",
              "      <th>50%</th>\n",
              "      <td>55.000000</td>\n",
              "      <td>1.000000</td>\n",
              "      <td>1.000000</td>\n",
              "      <td>130.000000</td>\n",
              "      <td>240.000000</td>\n",
              "      <td>0.000000</td>\n",
              "      <td>1.000000</td>\n",
              "      <td>153.000000</td>\n",
              "      <td>0.000000</td>\n",
              "      <td>0.800000</td>\n",
              "      <td>1.000000</td>\n",
              "      <td>0.000000</td>\n",
              "      <td>2.000000</td>\n",
              "      <td>1.000000</td>\n",
              "    </tr>\n",
              "    <tr>\n",
              "      <th>75%</th>\n",
              "      <td>61.000000</td>\n",
              "      <td>1.000000</td>\n",
              "      <td>2.000000</td>\n",
              "      <td>140.000000</td>\n",
              "      <td>274.500000</td>\n",
              "      <td>0.000000</td>\n",
              "      <td>1.000000</td>\n",
              "      <td>166.000000</td>\n",
              "      <td>1.000000</td>\n",
              "      <td>1.600000</td>\n",
              "      <td>2.000000</td>\n",
              "      <td>1.000000</td>\n",
              "      <td>3.000000</td>\n",
              "      <td>1.000000</td>\n",
              "    </tr>\n",
              "    <tr>\n",
              "      <th>max</th>\n",
              "      <td>77.000000</td>\n",
              "      <td>1.000000</td>\n",
              "      <td>3.000000</td>\n",
              "      <td>200.000000</td>\n",
              "      <td>564.000000</td>\n",
              "      <td>1.000000</td>\n",
              "      <td>2.000000</td>\n",
              "      <td>202.000000</td>\n",
              "      <td>1.000000</td>\n",
              "      <td>6.200000</td>\n",
              "      <td>2.000000</td>\n",
              "      <td>4.000000</td>\n",
              "      <td>3.000000</td>\n",
              "      <td>1.000000</td>\n",
              "    </tr>\n",
              "  </tbody>\n",
              "</table>\n",
              "</div>"
            ],
            "text/plain": [
              "              age         sex          cp  ...          ca        thal      target\n",
              "count  303.000000  303.000000  303.000000  ...  303.000000  303.000000  303.000000\n",
              "mean    54.366337    0.683168    0.966997  ...    0.729373    2.313531    0.544554\n",
              "std      9.082101    0.466011    1.032052  ...    1.022606    0.612277    0.498835\n",
              "min     29.000000    0.000000    0.000000  ...    0.000000    0.000000    0.000000\n",
              "25%     47.500000    0.000000    0.000000  ...    0.000000    2.000000    0.000000\n",
              "50%     55.000000    1.000000    1.000000  ...    0.000000    2.000000    1.000000\n",
              "75%     61.000000    1.000000    2.000000  ...    1.000000    3.000000    1.000000\n",
              "max     77.000000    1.000000    3.000000  ...    4.000000    3.000000    1.000000\n",
              "\n",
              "[8 rows x 14 columns]"
            ]
          },
          "metadata": {
            "tags": []
          },
          "execution_count": 3
        }
      ]
    },
    {
      "cell_type": "code",
      "metadata": {
        "colab": {
          "base_uri": "https://localhost:8080/"
        },
        "id": "epxaUzmGnzJe",
        "outputId": "b6ea2520-dffe-42f6-ee1a-e40ce4f2b875"
      },
      "source": [
        "ds.info()"
      ],
      "execution_count": null,
      "outputs": [
        {
          "output_type": "stream",
          "text": [
            "<class 'pandas.core.frame.DataFrame'>\n",
            "RangeIndex: 303 entries, 0 to 302\n",
            "Data columns (total 14 columns):\n",
            " #   Column    Non-Null Count  Dtype  \n",
            "---  ------    --------------  -----  \n",
            " 0   age       303 non-null    int64  \n",
            " 1   sex       303 non-null    int64  \n",
            " 2   cp        303 non-null    int64  \n",
            " 3   trestbps  303 non-null    int64  \n",
            " 4   chol      303 non-null    int64  \n",
            " 5   fbs       303 non-null    int64  \n",
            " 6   restecg   303 non-null    int64  \n",
            " 7   thalach   303 non-null    int64  \n",
            " 8   exang     303 non-null    int64  \n",
            " 9   oldpeak   303 non-null    float64\n",
            " 10  slope     303 non-null    int64  \n",
            " 11  ca        303 non-null    int64  \n",
            " 12  thal      303 non-null    int64  \n",
            " 13  target    303 non-null    int64  \n",
            "dtypes: float64(1), int64(13)\n",
            "memory usage: 33.3 KB\n"
          ],
          "name": "stdout"
        }
      ]
    },
    {
      "cell_type": "code",
      "metadata": {
        "colab": {
          "base_uri": "https://localhost:8080/"
        },
        "id": "ZwIizPDLnzJf",
        "outputId": "164ca9fe-cf6b-40b9-9b9a-9e5db6a90718"
      },
      "source": [
        "ds.isnull().sum()"
      ],
      "execution_count": null,
      "outputs": [
        {
          "output_type": "execute_result",
          "data": {
            "text/plain": [
              "age         0\n",
              "sex         0\n",
              "cp          0\n",
              "trestbps    0\n",
              "chol        0\n",
              "fbs         0\n",
              "restecg     0\n",
              "thalach     0\n",
              "exang       0\n",
              "oldpeak     0\n",
              "slope       0\n",
              "ca          0\n",
              "thal        0\n",
              "target      0\n",
              "dtype: int64"
            ]
          },
          "metadata": {
            "tags": []
          },
          "execution_count": 5
        }
      ]
    },
    {
      "cell_type": "code",
      "metadata": {
        "colab": {
          "base_uri": "https://localhost:8080/",
          "height": 35
        },
        "id": "aJ9qf4OLnzJg",
        "outputId": "61089457-8aea-4018-f911-d8902570cef1"
      },
      "source": [
        "\"\"\"\n",
        "cp\n",
        "thalach\n",
        "exang\n",
        "oldpeak\n",
        "slope\n",
        "ca\n",
        "thal\n",
        "\n",
        "\"\"\""
      ],
      "execution_count": null,
      "outputs": [
        {
          "output_type": "execute_result",
          "data": {
            "application/vnd.google.colaboratory.intrinsic+json": {
              "type": "string"
            },
            "text/plain": [
              "'\\ncp\\nthalach\\nexang\\noldpeak\\nslope\\nca\\nthal\\n\\n'"
            ]
          },
          "metadata": {
            "tags": []
          },
          "execution_count": 6
        }
      ]
    },
    {
      "cell_type": "code",
      "metadata": {
        "colab": {
          "base_uri": "https://localhost:8080/",
          "height": 419
        },
        "id": "10RBwYUynzJg",
        "outputId": "4fddce0d-3e63-4676-df1d-070aa2105a35"
      },
      "source": [
        "ds"
      ],
      "execution_count": null,
      "outputs": [
        {
          "output_type": "execute_result",
          "data": {
            "text/html": [
              "<div>\n",
              "<style scoped>\n",
              "    .dataframe tbody tr th:only-of-type {\n",
              "        vertical-align: middle;\n",
              "    }\n",
              "\n",
              "    .dataframe tbody tr th {\n",
              "        vertical-align: top;\n",
              "    }\n",
              "\n",
              "    .dataframe thead th {\n",
              "        text-align: right;\n",
              "    }\n",
              "</style>\n",
              "<table border=\"1\" class=\"dataframe\">\n",
              "  <thead>\n",
              "    <tr style=\"text-align: right;\">\n",
              "      <th></th>\n",
              "      <th>age</th>\n",
              "      <th>sex</th>\n",
              "      <th>cp</th>\n",
              "      <th>trestbps</th>\n",
              "      <th>chol</th>\n",
              "      <th>fbs</th>\n",
              "      <th>restecg</th>\n",
              "      <th>thalach</th>\n",
              "      <th>exang</th>\n",
              "      <th>oldpeak</th>\n",
              "      <th>slope</th>\n",
              "      <th>ca</th>\n",
              "      <th>thal</th>\n",
              "      <th>target</th>\n",
              "    </tr>\n",
              "  </thead>\n",
              "  <tbody>\n",
              "    <tr>\n",
              "      <th>0</th>\n",
              "      <td>63</td>\n",
              "      <td>1</td>\n",
              "      <td>3</td>\n",
              "      <td>145</td>\n",
              "      <td>233</td>\n",
              "      <td>1</td>\n",
              "      <td>0</td>\n",
              "      <td>150</td>\n",
              "      <td>0</td>\n",
              "      <td>2.3</td>\n",
              "      <td>0</td>\n",
              "      <td>0</td>\n",
              "      <td>1</td>\n",
              "      <td>1</td>\n",
              "    </tr>\n",
              "    <tr>\n",
              "      <th>1</th>\n",
              "      <td>37</td>\n",
              "      <td>1</td>\n",
              "      <td>2</td>\n",
              "      <td>130</td>\n",
              "      <td>250</td>\n",
              "      <td>0</td>\n",
              "      <td>1</td>\n",
              "      <td>187</td>\n",
              "      <td>0</td>\n",
              "      <td>3.5</td>\n",
              "      <td>0</td>\n",
              "      <td>0</td>\n",
              "      <td>2</td>\n",
              "      <td>1</td>\n",
              "    </tr>\n",
              "    <tr>\n",
              "      <th>2</th>\n",
              "      <td>41</td>\n",
              "      <td>0</td>\n",
              "      <td>1</td>\n",
              "      <td>130</td>\n",
              "      <td>204</td>\n",
              "      <td>0</td>\n",
              "      <td>0</td>\n",
              "      <td>172</td>\n",
              "      <td>0</td>\n",
              "      <td>1.4</td>\n",
              "      <td>2</td>\n",
              "      <td>0</td>\n",
              "      <td>2</td>\n",
              "      <td>1</td>\n",
              "    </tr>\n",
              "    <tr>\n",
              "      <th>3</th>\n",
              "      <td>56</td>\n",
              "      <td>1</td>\n",
              "      <td>1</td>\n",
              "      <td>120</td>\n",
              "      <td>236</td>\n",
              "      <td>0</td>\n",
              "      <td>1</td>\n",
              "      <td>178</td>\n",
              "      <td>0</td>\n",
              "      <td>0.8</td>\n",
              "      <td>2</td>\n",
              "      <td>0</td>\n",
              "      <td>2</td>\n",
              "      <td>1</td>\n",
              "    </tr>\n",
              "    <tr>\n",
              "      <th>4</th>\n",
              "      <td>57</td>\n",
              "      <td>0</td>\n",
              "      <td>0</td>\n",
              "      <td>120</td>\n",
              "      <td>354</td>\n",
              "      <td>0</td>\n",
              "      <td>1</td>\n",
              "      <td>163</td>\n",
              "      <td>1</td>\n",
              "      <td>0.6</td>\n",
              "      <td>2</td>\n",
              "      <td>0</td>\n",
              "      <td>2</td>\n",
              "      <td>1</td>\n",
              "    </tr>\n",
              "    <tr>\n",
              "      <th>...</th>\n",
              "      <td>...</td>\n",
              "      <td>...</td>\n",
              "      <td>...</td>\n",
              "      <td>...</td>\n",
              "      <td>...</td>\n",
              "      <td>...</td>\n",
              "      <td>...</td>\n",
              "      <td>...</td>\n",
              "      <td>...</td>\n",
              "      <td>...</td>\n",
              "      <td>...</td>\n",
              "      <td>...</td>\n",
              "      <td>...</td>\n",
              "      <td>...</td>\n",
              "    </tr>\n",
              "    <tr>\n",
              "      <th>298</th>\n",
              "      <td>57</td>\n",
              "      <td>0</td>\n",
              "      <td>0</td>\n",
              "      <td>140</td>\n",
              "      <td>241</td>\n",
              "      <td>0</td>\n",
              "      <td>1</td>\n",
              "      <td>123</td>\n",
              "      <td>1</td>\n",
              "      <td>0.2</td>\n",
              "      <td>1</td>\n",
              "      <td>0</td>\n",
              "      <td>3</td>\n",
              "      <td>0</td>\n",
              "    </tr>\n",
              "    <tr>\n",
              "      <th>299</th>\n",
              "      <td>45</td>\n",
              "      <td>1</td>\n",
              "      <td>3</td>\n",
              "      <td>110</td>\n",
              "      <td>264</td>\n",
              "      <td>0</td>\n",
              "      <td>1</td>\n",
              "      <td>132</td>\n",
              "      <td>0</td>\n",
              "      <td>1.2</td>\n",
              "      <td>1</td>\n",
              "      <td>0</td>\n",
              "      <td>3</td>\n",
              "      <td>0</td>\n",
              "    </tr>\n",
              "    <tr>\n",
              "      <th>300</th>\n",
              "      <td>68</td>\n",
              "      <td>1</td>\n",
              "      <td>0</td>\n",
              "      <td>144</td>\n",
              "      <td>193</td>\n",
              "      <td>1</td>\n",
              "      <td>1</td>\n",
              "      <td>141</td>\n",
              "      <td>0</td>\n",
              "      <td>3.4</td>\n",
              "      <td>1</td>\n",
              "      <td>2</td>\n",
              "      <td>3</td>\n",
              "      <td>0</td>\n",
              "    </tr>\n",
              "    <tr>\n",
              "      <th>301</th>\n",
              "      <td>57</td>\n",
              "      <td>1</td>\n",
              "      <td>0</td>\n",
              "      <td>130</td>\n",
              "      <td>131</td>\n",
              "      <td>0</td>\n",
              "      <td>1</td>\n",
              "      <td>115</td>\n",
              "      <td>1</td>\n",
              "      <td>1.2</td>\n",
              "      <td>1</td>\n",
              "      <td>1</td>\n",
              "      <td>3</td>\n",
              "      <td>0</td>\n",
              "    </tr>\n",
              "    <tr>\n",
              "      <th>302</th>\n",
              "      <td>57</td>\n",
              "      <td>0</td>\n",
              "      <td>1</td>\n",
              "      <td>130</td>\n",
              "      <td>236</td>\n",
              "      <td>0</td>\n",
              "      <td>0</td>\n",
              "      <td>174</td>\n",
              "      <td>0</td>\n",
              "      <td>0.0</td>\n",
              "      <td>1</td>\n",
              "      <td>1</td>\n",
              "      <td>2</td>\n",
              "      <td>0</td>\n",
              "    </tr>\n",
              "  </tbody>\n",
              "</table>\n",
              "<p>303 rows × 14 columns</p>\n",
              "</div>"
            ],
            "text/plain": [
              "     age  sex  cp  trestbps  chol  fbs  ...  exang  oldpeak  slope  ca  thal  target\n",
              "0     63    1   3       145   233    1  ...      0      2.3      0   0     1       1\n",
              "1     37    1   2       130   250    0  ...      0      3.5      0   0     2       1\n",
              "2     41    0   1       130   204    0  ...      0      1.4      2   0     2       1\n",
              "3     56    1   1       120   236    0  ...      0      0.8      2   0     2       1\n",
              "4     57    0   0       120   354    0  ...      1      0.6      2   0     2       1\n",
              "..   ...  ...  ..       ...   ...  ...  ...    ...      ...    ...  ..   ...     ...\n",
              "298   57    0   0       140   241    0  ...      1      0.2      1   0     3       0\n",
              "299   45    1   3       110   264    0  ...      0      1.2      1   0     3       0\n",
              "300   68    1   0       144   193    1  ...      0      3.4      1   2     3       0\n",
              "301   57    1   0       130   131    0  ...      1      1.2      1   1     3       0\n",
              "302   57    0   1       130   236    0  ...      0      0.0      1   1     2       0\n",
              "\n",
              "[303 rows x 14 columns]"
            ]
          },
          "metadata": {
            "tags": []
          },
          "execution_count": 7
        }
      ]
    },
    {
      "cell_type": "code",
      "metadata": {
        "colab": {
          "base_uri": "https://localhost:8080/",
          "height": 454
        },
        "id": "QqovaI1hnzJh",
        "outputId": "d6da0093-ab23-45a5-bded-52f1b45387ed"
      },
      "source": [
        "sns.factorplot(x='sex',data=ds,kind='count')"
      ],
      "execution_count": null,
      "outputs": [
        {
          "output_type": "stream",
          "text": [
            "/usr/local/lib/python3.7/dist-packages/seaborn/categorical.py:3714: UserWarning: The `factorplot` function has been renamed to `catplot`. The original name will be removed in a future release. Please update your code. Note that the default `kind` in `factorplot` (`'point'`) has changed `'strip'` in `catplot`.\n",
            "  warnings.warn(msg)\n"
          ],
          "name": "stderr"
        },
        {
          "output_type": "execute_result",
          "data": {
            "text/plain": [
              "<seaborn.axisgrid.FacetGrid at 0x7f62c7b4bd50>"
            ]
          },
          "metadata": {
            "tags": []
          },
          "execution_count": 8
        },
        {
          "output_type": "display_data",
          "data": {
            "image/png": "[encoded data removed]",
            "text/plain": [
              "<Figure size 360x360 with 1 Axes>"
            ]
          },
          "metadata": {
            "tags": [],
            "needs_background": "light"
          }
        }
      ]
    },
    {
      "cell_type": "code",
      "metadata": {
        "colab": {
          "base_uri": "https://localhost:8080/",
          "height": 454
        },
        "id": "l4r3HHTFnzJh",
        "outputId": "1fecf752-5551-428b-d581-f3661859bd94"
      },
      "source": [
        "sns.factorplot(x='cp',data=ds,kind='count')"
      ],
      "execution_count": null,
      "outputs": [
        {
          "output_type": "stream",
          "text": [
            "/usr/local/lib/python3.7/dist-packages/seaborn/categorical.py:3714: UserWarning: The `factorplot` function has been renamed to `catplot`. The original name will be removed in a future release. Please update your code. Note that the default `kind` in `factorplot` (`'point'`) has changed `'strip'` in `catplot`.\n",
            "  warnings.warn(msg)\n"
          ],
          "name": "stderr"
        },
        {
          "output_type": "execute_result",
          "data": {
            "text/plain": [
              "<seaborn.axisgrid.FacetGrid at 0x7f62c73a4b10>"
            ]
          },
          "metadata": {
            "tags": []
          },
          "execution_count": 9
        },
        {
          "output_type": "display_data",
          "data": {
            "image/png": "[encoded data removed]",
            "text/plain": [
              "<Figure size 360x360 with 1 Axes>"
            ]
          },
          "metadata": {
            "tags": [],
            "needs_background": "light"
          }
        }
      ]
    },
    {
      "cell_type": "code",
      "metadata": {
        "colab": {
          "base_uri": "https://localhost:8080/",
          "height": 454
        },
        "id": "SY-NwLqWnzJi",
        "outputId": "e30dda08-62d3-466d-c6ce-4bcd9b0e66dd"
      },
      "source": [
        "sns.factorplot(x='fbs',data=ds,kind='count')"
      ],
      "execution_count": null,
      "outputs": [
        {
          "output_type": "stream",
          "text": [
            "/usr/local/lib/python3.7/dist-packages/seaborn/categorical.py:3714: UserWarning: The `factorplot` function has been renamed to `catplot`. The original name will be removed in a future release. Please update your code. Note that the default `kind` in `factorplot` (`'point'`) has changed `'strip'` in `catplot`.\n",
            "  warnings.warn(msg)\n"
          ],
          "name": "stderr"
        },
        {
          "output_type": "execute_result",
          "data": {
            "text/plain": [
              "<seaborn.axisgrid.FacetGrid at 0x7f62beda6e90>"
            ]
          },
          "metadata": {
            "tags": []
          },
          "execution_count": 10
        },
        {
          "output_type": "display_data",
          "data": {
            "image/png": "[encoded data removed]",
            "text/plain": [
              "<Figure size 360x360 with 1 Axes>"
            ]
          },
          "metadata": {
            "tags": [],
            "needs_background": "light"
          }
        }
      ]
    },
    {
      "cell_type": "code",
      "metadata": {
        "colab": {
          "base_uri": "https://localhost:8080/",
          "height": 454
        },
        "id": "tp9rs3sDnzJi",
        "outputId": "981ccf90-fc90-4a4c-eca5-5e92edd92d5f"
      },
      "source": [
        "sns.factorplot(x='restecg',data=ds,kind='count')"
      ],
      "execution_count": null,
      "outputs": [
        {
          "output_type": "stream",
          "text": [
            "/usr/local/lib/python3.7/dist-packages/seaborn/categorical.py:3714: UserWarning: The `factorplot` function has been renamed to `catplot`. The original name will be removed in a future release. Please update your code. Note that the default `kind` in `factorplot` (`'point'`) has changed `'strip'` in `catplot`.\n",
            "  warnings.warn(msg)\n"
          ],
          "name": "stderr"
        },
        {
          "output_type": "execute_result",
          "data": {
            "text/plain": [
              "<seaborn.axisgrid.FacetGrid at 0x7f62bedf3ad0>"
            ]
          },
          "metadata": {
            "tags": []
          },
          "execution_count": 11
        },
        {
          "output_type": "display_data",
          "data": {
            "image/png": "[encoded data removed]",
            "text/plain": [
              "<Figure size 360x360 with 1 Axes>"
            ]
          },
          "metadata": {
            "tags": [],
            "needs_background": "light"
          }
        }
      ]
    },
    {
      "cell_type": "code",
      "metadata": {
        "colab": {
          "base_uri": "https://localhost:8080/",
          "height": 454
        },
        "id": "T_XrItplnzJj",
        "outputId": "522bc068-ba6d-47e7-97e7-5900307336a4"
      },
      "source": [
        "sns.factorplot(x='exang',data=ds,kind='count')"
      ],
      "execution_count": null,
      "outputs": [
        {
          "output_type": "stream",
          "text": [
            "/usr/local/lib/python3.7/dist-packages/seaborn/categorical.py:3714: UserWarning: The `factorplot` function has been renamed to `catplot`. The original name will be removed in a future release. Please update your code. Note that the default `kind` in `factorplot` (`'point'`) has changed `'strip'` in `catplot`.\n",
            "  warnings.warn(msg)\n"
          ],
          "name": "stderr"
        },
        {
          "output_type": "execute_result",
          "data": {
            "text/plain": [
              "<seaborn.axisgrid.FacetGrid at 0x7f62bed73790>"
            ]
          },
          "metadata": {
            "tags": []
          },
          "execution_count": 12
        },
        {
          "output_type": "display_data",
          "data": {
            "image/png": "[encoded data removed]",
            "text/plain": [
              "<Figure size 360x360 with 1 Axes>"
            ]
          },
          "metadata": {
            "tags": [],
            "needs_background": "light"
          }
        }
      ]
    },
    {
      "cell_type": "code",
      "metadata": {
        "colab": {
          "base_uri": "https://localhost:8080/",
          "height": 454
        },
        "id": "R_XJSo1wnzJj",
        "outputId": "abb27fa1-3c86-4a8a-866a-78be931b2507"
      },
      "source": [
        "sns.factorplot(x='slope',data=ds,kind='count')"
      ],
      "execution_count": null,
      "outputs": [
        {
          "output_type": "stream",
          "text": [
            "/usr/local/lib/python3.7/dist-packages/seaborn/categorical.py:3714: UserWarning: The `factorplot` function has been renamed to `catplot`. The original name will be removed in a future release. Please update your code. Note that the default `kind` in `factorplot` (`'point'`) has changed `'strip'` in `catplot`.\n",
            "  warnings.warn(msg)\n"
          ],
          "name": "stderr"
        },
        {
          "output_type": "execute_result",
          "data": {
            "text/plain": [
              "<seaborn.axisgrid.FacetGrid at 0x7f62bec45790>"
            ]
          },
          "metadata": {
            "tags": []
          },
          "execution_count": 13
        },
        {
          "output_type": "display_data",
          "data": {
            "image/png": "[encoded data removed]",
            "text/plain": [
              "<Figure size 360x360 with 1 Axes>"
            ]
          },
          "metadata": {
            "tags": [],
            "needs_background": "light"
          }
        }
      ]
    },
    {
      "cell_type": "code",
      "metadata": {
        "colab": {
          "base_uri": "https://localhost:8080/",
          "height": 454
        },
        "id": "Mus4_09GnzJk",
        "outputId": "563e7bea-e774-42bb-a8c3-1f2099435ce0"
      },
      "source": [
        "sns.factorplot(x='ca',data=ds,kind='count')"
      ],
      "execution_count": null,
      "outputs": [
        {
          "output_type": "stream",
          "text": [
            "/usr/local/lib/python3.7/dist-packages/seaborn/categorical.py:3714: UserWarning: The `factorplot` function has been renamed to `catplot`. The original name will be removed in a future release. Please update your code. Note that the default `kind` in `factorplot` (`'point'`) has changed `'strip'` in `catplot`.\n",
            "  warnings.warn(msg)\n"
          ],
          "name": "stderr"
        },
        {
          "output_type": "execute_result",
          "data": {
            "text/plain": [
              "<seaborn.axisgrid.FacetGrid at 0x7f62c73a4a10>"
            ]
          },
          "metadata": {
            "tags": []
          },
          "execution_count": 14
        },
        {
          "output_type": "display_data",
          "data": {
            "image/png": "[encoded data removed]",
            "text/plain": [
              "<Figure size 360x360 with 1 Axes>"
            ]
          },
          "metadata": {
            "tags": [],
            "needs_background": "light"
          }
        }
      ]
    },
    {
      "cell_type": "code",
      "metadata": {
        "colab": {
          "base_uri": "https://localhost:8080/",
          "height": 454
        },
        "id": "AkkDJsVdnzJk",
        "outputId": "1c488256-28d0-4667-9626-8219b5c5994d"
      },
      "source": [
        "sns.factorplot(x='thal',data=ds,kind='count')"
      ],
      "execution_count": null,
      "outputs": [
        {
          "output_type": "stream",
          "text": [
            "/usr/local/lib/python3.7/dist-packages/seaborn/categorical.py:3714: UserWarning: The `factorplot` function has been renamed to `catplot`. The original name will be removed in a future release. Please update your code. Note that the default `kind` in `factorplot` (`'point'`) has changed `'strip'` in `catplot`.\n",
            "  warnings.warn(msg)\n"
          ],
          "name": "stderr"
        },
        {
          "output_type": "execute_result",
          "data": {
            "text/plain": [
              "<seaborn.axisgrid.FacetGrid at 0x7f62beba8ed0>"
            ]
          },
          "metadata": {
            "tags": []
          },
          "execution_count": 15
        },
        {
          "output_type": "display_data",
          "data": {
            "image/png": "[encoded data removed]",
            "text/plain": [
              "<Figure size 360x360 with 1 Axes>"
            ]
          },
          "metadata": {
            "tags": [],
            "needs_background": "light"
          }
        }
      ]
    },
    {
      "cell_type": "code",
      "metadata": {
        "colab": {
          "base_uri": "https://localhost:8080/",
          "height": 419
        },
        "id": "Nw13p-uDnzJk",
        "outputId": "c791665d-6d72-4ef6-c528-0f86063d05c6"
      },
      "source": [
        "from sklearn.preprocessing import OneHotEncoder\n",
        "encoder = OneHotEncoder(sparse=False)\n",
        "ds['sex'] = encoder.fit_transform(ds[['sex']])\n",
        "ds['cp']= encoder.fit_transform(ds[['cp']])\n",
        "ds['fbs'] = encoder.fit_transform(ds[['fbs']])\n",
        "ds['restecg']= encoder.fit_transform(ds[['restecg']])\n",
        "ds['exang']= encoder.fit_transform(ds[['exang']])\n",
        "ds['slope']= encoder.fit_transform(ds[['slope']])\n",
        "ds['ca']= encoder.fit_transform(ds[['ca']])\n",
        "ds['thal']= encoder.fit_transform(ds[['thal']])\n",
        "ds"
      ],
      "execution_count": null,
      "outputs": [
        {
          "output_type": "execute_result",
          "data": {
            "text/html": [
              "<div>\n",
              "<style scoped>\n",
              "    .dataframe tbody tr th:only-of-type {\n",
              "        vertical-align: middle;\n",
              "    }\n",
              "\n",
              "    .dataframe tbody tr th {\n",
              "        vertical-align: top;\n",
              "    }\n",
              "\n",
              "    .dataframe thead th {\n",
              "        text-align: right;\n",
              "    }\n",
              "</style>\n",
              "<table border=\"1\" class=\"dataframe\">\n",
              "  <thead>\n",
              "    <tr style=\"text-align: right;\">\n",
              "      <th></th>\n",
              "      <th>age</th>\n",
              "      <th>sex</th>\n",
              "      <th>cp</th>\n",
              "      <th>trestbps</th>\n",
              "      <th>chol</th>\n",
              "      <th>fbs</th>\n",
              "      <th>restecg</th>\n",
              "      <th>thalach</th>\n",
              "      <th>exang</th>\n",
              "      <th>oldpeak</th>\n",
              "      <th>slope</th>\n",
              "      <th>ca</th>\n",
              "      <th>thal</th>\n",
              "      <th>target</th>\n",
              "    </tr>\n",
              "  </thead>\n",
              "  <tbody>\n",
              "    <tr>\n",
              "      <th>0</th>\n",
              "      <td>63</td>\n",
              "      <td>0.0</td>\n",
              "      <td>0.0</td>\n",
              "      <td>145</td>\n",
              "      <td>233</td>\n",
              "      <td>0.0</td>\n",
              "      <td>1.0</td>\n",
              "      <td>150</td>\n",
              "      <td>1.0</td>\n",
              "      <td>2.3</td>\n",
              "      <td>1.0</td>\n",
              "      <td>1.0</td>\n",
              "      <td>0.0</td>\n",
              "      <td>1</td>\n",
              "    </tr>\n",
              "    <tr>\n",
              "      <th>1</th>\n",
              "      <td>37</td>\n",
              "      <td>0.0</td>\n",
              "      <td>0.0</td>\n",
              "      <td>130</td>\n",
              "      <td>250</td>\n",
              "      <td>1.0</td>\n",
              "      <td>0.0</td>\n",
              "      <td>187</td>\n",
              "      <td>1.0</td>\n",
              "      <td>3.5</td>\n",
              "      <td>1.0</td>\n",
              "      <td>1.0</td>\n",
              "      <td>0.0</td>\n",
              "      <td>1</td>\n",
              "    </tr>\n",
              "    <tr>\n",
              "      <th>2</th>\n",
              "      <td>41</td>\n",
              "      <td>1.0</td>\n",
              "      <td>0.0</td>\n",
              "      <td>130</td>\n",
              "      <td>204</td>\n",
              "      <td>1.0</td>\n",
              "      <td>1.0</td>\n",
              "      <td>172</td>\n",
              "      <td>1.0</td>\n",
              "      <td>1.4</td>\n",
              "      <td>0.0</td>\n",
              "      <td>1.0</td>\n",
              "      <td>0.0</td>\n",
              "      <td>1</td>\n",
              "    </tr>\n",
              "    <tr>\n",
              "      <th>3</th>\n",
              "      <td>56</td>\n",
              "      <td>0.0</td>\n",
              "      <td>0.0</td>\n",
              "      <td>120</td>\n",
              "      <td>236</td>\n",
              "      <td>1.0</td>\n",
              "      <td>0.0</td>\n",
              "      <td>178</td>\n",
              "      <td>1.0</td>\n",
              "      <td>0.8</td>\n",
              "      <td>0.0</td>\n",
              "      <td>1.0</td>\n",
              "      <td>0.0</td>\n",
              "      <td>1</td>\n",
              "    </tr>\n",
              "    <tr>\n",
              "      <th>4</th>\n",
              "      <td>57</td>\n",
              "      <td>1.0</td>\n",
              "      <td>1.0</td>\n",
              "      <td>120</td>\n",
              "      <td>354</td>\n",
              "      <td>1.0</td>\n",
              "      <td>0.0</td>\n",
              "      <td>163</td>\n",
              "      <td>0.0</td>\n",
              "      <td>0.6</td>\n",
              "      <td>0.0</td>\n",
              "      <td>1.0</td>\n",
              "      <td>0.0</td>\n",
              "      <td>1</td>\n",
              "    </tr>\n",
              "    <tr>\n",
              "      <th>...</th>\n",
              "      <td>...</td>\n",
              "      <td>...</td>\n",
              "      <td>...</td>\n",
              "      <td>...</td>\n",
              "      <td>...</td>\n",
              "      <td>...</td>\n",
              "      <td>...</td>\n",
              "      <td>...</td>\n",
              "      <td>...</td>\n",
              "      <td>...</td>\n",
              "      <td>...</td>\n",
              "      <td>...</td>\n",
              "      <td>...</td>\n",
              "      <td>...</td>\n",
              "    </tr>\n",
              "    <tr>\n",
              "      <th>298</th>\n",
              "      <td>57</td>\n",
              "      <td>1.0</td>\n",
              "      <td>1.0</td>\n",
              "      <td>140</td>\n",
              "      <td>241</td>\n",
              "      <td>1.0</td>\n",
              "      <td>0.0</td>\n",
              "      <td>123</td>\n",
              "      <td>0.0</td>\n",
              "      <td>0.2</td>\n",
              "      <td>0.0</td>\n",
              "      <td>1.0</td>\n",
              "      <td>0.0</td>\n",
              "      <td>0</td>\n",
              "    </tr>\n",
              "    <tr>\n",
              "      <th>299</th>\n",
              "      <td>45</td>\n",
              "      <td>0.0</td>\n",
              "      <td>0.0</td>\n",
              "      <td>110</td>\n",
              "      <td>264</td>\n",
              "      <td>1.0</td>\n",
              "      <td>0.0</td>\n",
              "      <td>132</td>\n",
              "      <td>1.0</td>\n",
              "      <td>1.2</td>\n",
              "      <td>0.0</td>\n",
              "      <td>1.0</td>\n",
              "      <td>0.0</td>\n",
              "      <td>0</td>\n",
              "    </tr>\n",
              "    <tr>\n",
              "      <th>300</th>\n",
              "      <td>68</td>\n",
              "      <td>0.0</td>\n",
              "      <td>1.0</td>\n",
              "      <td>144</td>\n",
              "      <td>193</td>\n",
              "      <td>0.0</td>\n",
              "      <td>0.0</td>\n",
              "      <td>141</td>\n",
              "      <td>1.0</td>\n",
              "      <td>3.4</td>\n",
              "      <td>0.0</td>\n",
              "      <td>0.0</td>\n",
              "      <td>0.0</td>\n",
              "      <td>0</td>\n",
              "    </tr>\n",
              "    <tr>\n",
              "      <th>301</th>\n",
              "      <td>57</td>\n",
              "      <td>0.0</td>\n",
              "      <td>1.0</td>\n",
              "      <td>130</td>\n",
              "      <td>131</td>\n",
              "      <td>1.0</td>\n",
              "      <td>0.0</td>\n",
              "      <td>115</td>\n",
              "      <td>0.0</td>\n",
              "      <td>1.2</td>\n",
              "      <td>0.0</td>\n",
              "      <td>0.0</td>\n",
              "      <td>0.0</td>\n",
              "      <td>0</td>\n",
              "    </tr>\n",
              "    <tr>\n",
              "      <th>302</th>\n",
              "      <td>57</td>\n",
              "      <td>1.0</td>\n",
              "      <td>0.0</td>\n",
              "      <td>130</td>\n",
              "      <td>236</td>\n",
              "      <td>1.0</td>\n",
              "      <td>1.0</td>\n",
              "      <td>174</td>\n",
              "      <td>1.0</td>\n",
              "      <td>0.0</td>\n",
              "      <td>0.0</td>\n",
              "      <td>0.0</td>\n",
              "      <td>0.0</td>\n",
              "      <td>0</td>\n",
              "    </tr>\n",
              "  </tbody>\n",
              "</table>\n",
              "<p>303 rows × 14 columns</p>\n",
              "</div>"
            ],
            "text/plain": [
              "     age  sex   cp  trestbps  chol  ...  oldpeak  slope   ca  thal  target\n",
              "0     63  0.0  0.0       145   233  ...      2.3    1.0  1.0   0.0       1\n",
              "1     37  0.0  0.0       130   250  ...      3.5    1.0  1.0   0.0       1\n",
              "2     41  1.0  0.0       130   204  ...      1.4    0.0  1.0   0.0       1\n",
              "3     56  0.0  0.0       120   236  ...      0.8    0.0  1.0   0.0       1\n",
              "4     57  1.0  1.0       120   354  ...      0.6    0.0  1.0   0.0       1\n",
              "..   ...  ...  ...       ...   ...  ...      ...    ...  ...   ...     ...\n",
              "298   57  1.0  1.0       140   241  ...      0.2    0.0  1.0   0.0       0\n",
              "299   45  0.0  0.0       110   264  ...      1.2    0.0  1.0   0.0       0\n",
              "300   68  0.0  1.0       144   193  ...      3.4    0.0  0.0   0.0       0\n",
              "301   57  0.0  1.0       130   131  ...      1.2    0.0  0.0   0.0       0\n",
              "302   57  1.0  0.0       130   236  ...      0.0    0.0  0.0   0.0       0\n",
              "\n",
              "[303 rows x 14 columns]"
            ]
          },
          "metadata": {
            "tags": []
          },
          "execution_count": 16
        }
      ]
    },
    {
      "cell_type": "code",
      "metadata": {
        "colab": {
          "base_uri": "https://localhost:8080/",
          "height": 503
        },
        "id": "vmLMjHC9nzJl",
        "outputId": "33669019-c2b6-4e21-fe88-132ff09d720b"
      },
      "source": [
        "cor=ds.corr()\n",
        "cor"
      ],
      "execution_count": null,
      "outputs": [
        {
          "output_type": "execute_result",
          "data": {
            "text/html": [
              "<div>\n",
              "<style scoped>\n",
              "    .dataframe tbody tr th:only-of-type {\n",
              "        vertical-align: middle;\n",
              "    }\n",
              "\n",
              "    .dataframe tbody tr th {\n",
              "        vertical-align: top;\n",
              "    }\n",
              "\n",
              "    .dataframe thead th {\n",
              "        text-align: right;\n",
              "    }\n",
              "</style>\n",
              "<table border=\"1\" class=\"dataframe\">\n",
              "  <thead>\n",
              "    <tr style=\"text-align: right;\">\n",
              "      <th></th>\n",
              "      <th>age</th>\n",
              "      <th>sex</th>\n",
              "      <th>cp</th>\n",
              "      <th>trestbps</th>\n",
              "      <th>chol</th>\n",
              "      <th>fbs</th>\n",
              "      <th>restecg</th>\n",
              "      <th>thalach</th>\n",
              "      <th>exang</th>\n",
              "      <th>oldpeak</th>\n",
              "      <th>slope</th>\n",
              "      <th>ca</th>\n",
              "      <th>thal</th>\n",
              "      <th>target</th>\n",
              "    </tr>\n",
              "  </thead>\n",
              "  <tbody>\n",
              "    <tr>\n",
              "      <th>age</th>\n",
              "      <td>1.000000</td>\n",
              "      <td>0.098447</td>\n",
              "      <td>0.138253</td>\n",
              "      <td>0.279351</td>\n",
              "      <td>0.213678</td>\n",
              "      <td>-0.121308</td>\n",
              "      <td>0.141398</td>\n",
              "      <td>-0.398522</td>\n",
              "      <td>-0.096801</td>\n",
              "      <td>0.210013</td>\n",
              "      <td>0.030536</td>\n",
              "      <td>-0.350844</td>\n",
              "      <td>-0.016779</td>\n",
              "      <td>-0.225439</td>\n",
              "    </tr>\n",
              "    <tr>\n",
              "      <th>sex</th>\n",
              "      <td>0.098447</td>\n",
              "      <td>1.000000</td>\n",
              "      <td>-0.089621</td>\n",
              "      <td>0.056769</td>\n",
              "      <td>0.197912</td>\n",
              "      <td>0.045032</td>\n",
              "      <td>-0.036539</td>\n",
              "      <td>0.044020</td>\n",
              "      <td>0.141664</td>\n",
              "      <td>-0.096093</td>\n",
              "      <td>-0.046183</td>\n",
              "      <td>0.122854</td>\n",
              "      <td>0.032093</td>\n",
              "      <td>0.280937</td>\n",
              "    </tr>\n",
              "    <tr>\n",
              "      <th>cp</th>\n",
              "      <td>0.138253</td>\n",
              "      <td>-0.089621</td>\n",
              "      <td>1.000000</td>\n",
              "      <td>0.021447</td>\n",
              "      <td>0.070684</td>\n",
              "      <td>0.060190</td>\n",
              "      <td>0.114075</td>\n",
              "      <td>-0.376561</td>\n",
              "      <td>-0.469061</td>\n",
              "      <td>0.280243</td>\n",
              "      <td>0.028350</td>\n",
              "      <td>-0.235437</td>\n",
              "      <td>0.004581</td>\n",
              "      <td>-0.516015</td>\n",
              "    </tr>\n",
              "    <tr>\n",
              "      <th>trestbps</th>\n",
              "      <td>0.279351</td>\n",
              "      <td>0.056769</td>\n",
              "      <td>0.021447</td>\n",
              "      <td>1.000000</td>\n",
              "      <td>0.123174</td>\n",
              "      <td>-0.177531</td>\n",
              "      <td>0.133249</td>\n",
              "      <td>-0.046698</td>\n",
              "      <td>-0.067616</td>\n",
              "      <td>0.193216</td>\n",
              "      <td>0.122384</td>\n",
              "      <td>-0.055011</td>\n",
              "      <td>-0.016870</td>\n",
              "      <td>-0.144931</td>\n",
              "    </tr>\n",
              "    <tr>\n",
              "      <th>chol</th>\n",
              "      <td>0.213678</td>\n",
              "      <td>0.197912</td>\n",
              "      <td>0.070684</td>\n",
              "      <td>0.123174</td>\n",
              "      <td>1.000000</td>\n",
              "      <td>-0.013294</td>\n",
              "      <td>0.166565</td>\n",
              "      <td>-0.009940</td>\n",
              "      <td>-0.067023</td>\n",
              "      <td>0.053952</td>\n",
              "      <td>-0.045340</td>\n",
              "      <td>-0.080600</td>\n",
              "      <td>-0.057127</td>\n",
              "      <td>-0.085239</td>\n",
              "    </tr>\n",
              "    <tr>\n",
              "      <th>fbs</th>\n",
              "      <td>-0.121308</td>\n",
              "      <td>0.045032</td>\n",
              "      <td>0.060190</td>\n",
              "      <td>-0.177531</td>\n",
              "      <td>-0.013294</td>\n",
              "      <td>1.000000</td>\n",
              "      <td>-0.077405</td>\n",
              "      <td>0.008567</td>\n",
              "      <td>0.025665</td>\n",
              "      <td>-0.005747</td>\n",
              "      <td>-0.105284</td>\n",
              "      <td>0.112548</td>\n",
              "      <td>-0.080568</td>\n",
              "      <td>0.028046</td>\n",
              "    </tr>\n",
              "    <tr>\n",
              "      <th>restecg</th>\n",
              "      <td>0.141398</td>\n",
              "      <td>-0.036539</td>\n",
              "      <td>0.114075</td>\n",
              "      <td>0.133249</td>\n",
              "      <td>0.166565</td>\n",
              "      <td>-0.077405</td>\n",
              "      <td>1.000000</td>\n",
              "      <td>-0.073953</td>\n",
              "      <td>-0.084059</td>\n",
              "      <td>0.100141</td>\n",
              "      <td>0.047110</td>\n",
              "      <td>-0.105628</td>\n",
              "      <td>0.002422</td>\n",
              "      <td>-0.159775</td>\n",
              "    </tr>\n",
              "    <tr>\n",
              "      <th>thalach</th>\n",
              "      <td>-0.398522</td>\n",
              "      <td>0.044020</td>\n",
              "      <td>-0.376561</td>\n",
              "      <td>-0.046698</td>\n",
              "      <td>-0.009940</td>\n",
              "      <td>0.008567</td>\n",
              "      <td>-0.073953</td>\n",
              "      <td>1.000000</td>\n",
              "      <td>0.378812</td>\n",
              "      <td>-0.344187</td>\n",
              "      <td>-0.056590</td>\n",
              "      <td>0.273136</td>\n",
              "      <td>-0.050429</td>\n",
              "      <td>0.421741</td>\n",
              "    </tr>\n",
              "    <tr>\n",
              "      <th>exang</th>\n",
              "      <td>-0.096801</td>\n",
              "      <td>0.141664</td>\n",
              "      <td>-0.469061</td>\n",
              "      <td>-0.067616</td>\n",
              "      <td>-0.067023</td>\n",
              "      <td>0.025665</td>\n",
              "      <td>-0.084059</td>\n",
              "      <td>0.378812</td>\n",
              "      <td>1.000000</td>\n",
              "      <td>-0.288223</td>\n",
              "      <td>-0.059253</td>\n",
              "      <td>0.187734</td>\n",
              "      <td>-0.030113</td>\n",
              "      <td>0.436757</td>\n",
              "    </tr>\n",
              "    <tr>\n",
              "      <th>oldpeak</th>\n",
              "      <td>0.210013</td>\n",
              "      <td>-0.096093</td>\n",
              "      <td>0.280243</td>\n",
              "      <td>0.193216</td>\n",
              "      <td>0.053952</td>\n",
              "      <td>-0.005747</td>\n",
              "      <td>0.100141</td>\n",
              "      <td>-0.344187</td>\n",
              "      <td>-0.288223</td>\n",
              "      <td>1.000000</td>\n",
              "      <td>0.394253</td>\n",
              "      <td>-0.204803</td>\n",
              "      <td>-0.037946</td>\n",
              "      <td>-0.430696</td>\n",
              "    </tr>\n",
              "    <tr>\n",
              "      <th>slope</th>\n",
              "      <td>0.030536</td>\n",
              "      <td>-0.046183</td>\n",
              "      <td>0.028350</td>\n",
              "      <td>0.122384</td>\n",
              "      <td>-0.045340</td>\n",
              "      <td>-0.105284</td>\n",
              "      <td>0.047110</td>\n",
              "      <td>-0.056590</td>\n",
              "      <td>-0.059253</td>\n",
              "      <td>0.394253</td>\n",
              "      <td>1.000000</td>\n",
              "      <td>0.075537</td>\n",
              "      <td>-0.022244</td>\n",
              "      <td>-0.063554</td>\n",
              "    </tr>\n",
              "    <tr>\n",
              "      <th>ca</th>\n",
              "      <td>-0.350844</td>\n",
              "      <td>0.122854</td>\n",
              "      <td>-0.235437</td>\n",
              "      <td>-0.055011</td>\n",
              "      <td>-0.080600</td>\n",
              "      <td>0.112548</td>\n",
              "      <td>-0.105628</td>\n",
              "      <td>0.273136</td>\n",
              "      <td>0.187734</td>\n",
              "      <td>-0.204803</td>\n",
              "      <td>0.075537</td>\n",
              "      <td>1.000000</td>\n",
              "      <td>0.069714</td>\n",
              "      <td>0.465590</td>\n",
              "    </tr>\n",
              "    <tr>\n",
              "      <th>thal</th>\n",
              "      <td>-0.016779</td>\n",
              "      <td>0.032093</td>\n",
              "      <td>0.004581</td>\n",
              "      <td>-0.016870</td>\n",
              "      <td>-0.057127</td>\n",
              "      <td>-0.080568</td>\n",
              "      <td>0.002422</td>\n",
              "      <td>-0.050429</td>\n",
              "      <td>-0.030113</td>\n",
              "      <td>-0.037946</td>\n",
              "      <td>-0.022244</td>\n",
              "      <td>0.069714</td>\n",
              "      <td>1.000000</td>\n",
              "      <td>-0.007293</td>\n",
              "    </tr>\n",
              "    <tr>\n",
              "      <th>target</th>\n",
              "      <td>-0.225439</td>\n",
              "      <td>0.280937</td>\n",
              "      <td>-0.516015</td>\n",
              "      <td>-0.144931</td>\n",
              "      <td>-0.085239</td>\n",
              "      <td>0.028046</td>\n",
              "      <td>-0.159775</td>\n",
              "      <td>0.421741</td>\n",
              "      <td>0.436757</td>\n",
              "      <td>-0.430696</td>\n",
              "      <td>-0.063554</td>\n",
              "      <td>0.465590</td>\n",
              "      <td>-0.007293</td>\n",
              "      <td>1.000000</td>\n",
              "    </tr>\n",
              "  </tbody>\n",
              "</table>\n",
              "</div>"
            ],
            "text/plain": [
              "               age       sex        cp  ...        ca      thal    target\n",
              "age       1.000000  0.098447  0.138253  ... -0.350844 -0.016779 -0.225439\n",
              "sex       0.098447  1.000000 -0.089621  ...  0.122854  0.032093  0.280937\n",
              "cp        0.138253 -0.089621  1.000000  ... -0.235437  0.004581 -0.516015\n",
              "trestbps  0.279351  0.056769  0.021447  ... -0.055011 -0.016870 -0.144931\n",
              "chol      0.213678  0.197912  0.070684  ... -0.080600 -0.057127 -0.085239\n",
              "fbs      -0.121308  0.045032  0.060190  ...  0.112548 -0.080568  0.028046\n",
              "restecg   0.141398 -0.036539  0.114075  ... -0.105628  0.002422 -0.159775\n",
              "thalach  -0.398522  0.044020 -0.376561  ...  0.273136 -0.050429  0.421741\n",
              "exang    -0.096801  0.141664 -0.469061  ...  0.187734 -0.030113  0.436757\n",
              "oldpeak   0.210013 -0.096093  0.280243  ... -0.204803 -0.037946 -0.430696\n",
              "slope     0.030536 -0.046183  0.028350  ...  0.075537 -0.022244 -0.063554\n",
              "ca       -0.350844  0.122854 -0.235437  ...  1.000000  0.069714  0.465590\n",
              "thal     -0.016779  0.032093  0.004581  ...  0.069714  1.000000 -0.007293\n",
              "target   -0.225439  0.280937 -0.516015  ...  0.465590 -0.007293  1.000000\n",
              "\n",
              "[14 rows x 14 columns]"
            ]
          },
          "metadata": {
            "tags": []
          },
          "execution_count": 17
        }
      ]
    },
    {
      "cell_type": "code",
      "metadata": {
        "colab": {
          "base_uri": "https://localhost:8080/",
          "height": 503
        },
        "id": "cBCyLgVVnzJm",
        "outputId": "394f9b35-e50c-42c9-e559-4f991774581b"
      },
      "source": [
        "ds.corr()"
      ],
      "execution_count": null,
      "outputs": [
        {
          "output_type": "execute_result",
          "data": {
            "text/html": [
              "<div>\n",
              "<style scoped>\n",
              "    .dataframe tbody tr th:only-of-type {\n",
              "        vertical-align: middle;\n",
              "    }\n",
              "\n",
              "    .dataframe tbody tr th {\n",
              "        vertical-align: top;\n",
              "    }\n",
              "\n",
              "    .dataframe thead th {\n",
              "        text-align: right;\n",
              "    }\n",
              "</style>\n",
              "<table border=\"1\" class=\"dataframe\">\n",
              "  <thead>\n",
              "    <tr style=\"text-align: right;\">\n",
              "      <th></th>\n",
              "      <th>age</th>\n",
              "      <th>sex</th>\n",
              "      <th>cp</th>\n",
              "      <th>trestbps</th>\n",
              "      <th>chol</th>\n",
              "      <th>fbs</th>\n",
              "      <th>restecg</th>\n",
              "      <th>thalach</th>\n",
              "      <th>exang</th>\n",
              "      <th>oldpeak</th>\n",
              "      <th>slope</th>\n",
              "      <th>ca</th>\n",
              "      <th>thal</th>\n",
              "      <th>target</th>\n",
              "    </tr>\n",
              "  </thead>\n",
              "  <tbody>\n",
              "    <tr>\n",
              "      <th>age</th>\n",
              "      <td>1.000000</td>\n",
              "      <td>0.098447</td>\n",
              "      <td>0.138253</td>\n",
              "      <td>0.279351</td>\n",
              "      <td>0.213678</td>\n",
              "      <td>-0.121308</td>\n",
              "      <td>0.141398</td>\n",
              "      <td>-0.398522</td>\n",
              "      <td>-0.096801</td>\n",
              "      <td>0.210013</td>\n",
              "      <td>0.030536</td>\n",
              "      <td>-0.350844</td>\n",
              "      <td>-0.016779</td>\n",
              "      <td>-0.225439</td>\n",
              "    </tr>\n",
              "    <tr>\n",
              "      <th>sex</th>\n",
              "      <td>0.098447</td>\n",
              "      <td>1.000000</td>\n",
              "      <td>-0.089621</td>\n",
              "      <td>0.056769</td>\n",
              "      <td>0.197912</td>\n",
              "      <td>0.045032</td>\n",
              "      <td>-0.036539</td>\n",
              "      <td>0.044020</td>\n",
              "      <td>0.141664</td>\n",
              "      <td>-0.096093</td>\n",
              "      <td>-0.046183</td>\n",
              "      <td>0.122854</td>\n",
              "      <td>0.032093</td>\n",
              "      <td>0.280937</td>\n",
              "    </tr>\n",
              "    <tr>\n",
              "      <th>cp</th>\n",
              "      <td>0.138253</td>\n",
              "      <td>-0.089621</td>\n",
              "      <td>1.000000</td>\n",
              "      <td>0.021447</td>\n",
              "      <td>0.070684</td>\n",
              "      <td>0.060190</td>\n",
              "      <td>0.114075</td>\n",
              "      <td>-0.376561</td>\n",
              "      <td>-0.469061</td>\n",
              "      <td>0.280243</td>\n",
              "      <td>0.028350</td>\n",
              "      <td>-0.235437</td>\n",
              "      <td>0.004581</td>\n",
              "      <td>-0.516015</td>\n",
              "    </tr>\n",
              "    <tr>\n",
              "      <th>trestbps</th>\n",
              "      <td>0.279351</td>\n",
              "      <td>0.056769</td>\n",
              "      <td>0.021447</td>\n",
              "      <td>1.000000</td>\n",
              "      <td>0.123174</td>\n",
              "      <td>-0.177531</td>\n",
              "      <td>0.133249</td>\n",
              "      <td>-0.046698</td>\n",
              "      <td>-0.067616</td>\n",
              "      <td>0.193216</td>\n",
              "      <td>0.122384</td>\n",
              "      <td>-0.055011</td>\n",
              "      <td>-0.016870</td>\n",
              "      <td>-0.144931</td>\n",
              "    </tr>\n",
              "    <tr>\n",
              "      <th>chol</th>\n",
              "      <td>0.213678</td>\n",
              "      <td>0.197912</td>\n",
              "      <td>0.070684</td>\n",
              "      <td>0.123174</td>\n",
              "      <td>1.000000</td>\n",
              "      <td>-0.013294</td>\n",
              "      <td>0.166565</td>\n",
              "      <td>-0.009940</td>\n",
              "      <td>-0.067023</td>\n",
              "      <td>0.053952</td>\n",
              "      <td>-0.045340</td>\n",
              "      <td>-0.080600</td>\n",
              "      <td>-0.057127</td>\n",
              "      <td>-0.085239</td>\n",
              "    </tr>\n",
              "    <tr>\n",
              "      <th>fbs</th>\n",
              "      <td>-0.121308</td>\n",
              "      <td>0.045032</td>\n",
              "      <td>0.060190</td>\n",
              "      <td>-0.177531</td>\n",
              "      <td>-0.013294</td>\n",
              "      <td>1.000000</td>\n",
              "      <td>-0.077405</td>\n",
              "      <td>0.008567</td>\n",
              "      <td>0.025665</td>\n",
              "      <td>-0.005747</td>\n",
              "      <td>-0.105284</td>\n",
              "      <td>0.112548</td>\n",
              "      <td>-0.080568</td>\n",
              "      <td>0.028046</td>\n",
              "    </tr>\n",
              "    <tr>\n",
              "      <th>restecg</th>\n",
              "      <td>0.141398</td>\n",
              "      <td>-0.036539</td>\n",
              "      <td>0.114075</td>\n",
              "      <td>0.133249</td>\n",
              "      <td>0.166565</td>\n",
              "      <td>-0.077405</td>\n",
              "      <td>1.000000</td>\n",
              "      <td>-0.073953</td>\n",
              "      <td>-0.084059</td>\n",
              "      <td>0.100141</td>\n",
              "      <td>0.047110</td>\n",
              "      <td>-0.105628</td>\n",
              "      <td>0.002422</td>\n",
              "      <td>-0.159775</td>\n",
              "    </tr>\n",
              "    <tr>\n",
              "      <th>thalach</th>\n",
              "      <td>-0.398522</td>\n",
              "      <td>0.044020</td>\n",
              "      <td>-0.376561</td>\n",
              "      <td>-0.046698</td>\n",
              "      <td>-0.009940</td>\n",
              "      <td>0.008567</td>\n",
              "      <td>-0.073953</td>\n",
              "      <td>1.000000</td>\n",
              "      <td>0.378812</td>\n",
              "      <td>-0.344187</td>\n",
              "      <td>-0.056590</td>\n",
              "      <td>0.273136</td>\n",
              "      <td>-0.050429</td>\n",
              "      <td>0.421741</td>\n",
              "    </tr>\n",
              "    <tr>\n",
              "      <th>exang</th>\n",
              "      <td>-0.096801</td>\n",
              "      <td>0.141664</td>\n",
              "      <td>-0.469061</td>\n",
              "      <td>-0.067616</td>\n",
              "      <td>-0.067023</td>\n",
              "      <td>0.025665</td>\n",
              "      <td>-0.084059</td>\n",
              "      <td>0.378812</td>\n",
              "      <td>1.000000</td>\n",
              "      <td>-0.288223</td>\n",
              "      <td>-0.059253</td>\n",
              "      <td>0.187734</td>\n",
              "      <td>-0.030113</td>\n",
              "      <td>0.436757</td>\n",
              "    </tr>\n",
              "    <tr>\n",
              "      <th>oldpeak</th>\n",
              "      <td>0.210013</td>\n",
              "      <td>-0.096093</td>\n",
              "      <td>0.280243</td>\n",
              "      <td>0.193216</td>\n",
              "      <td>0.053952</td>\n",
              "      <td>-0.005747</td>\n",
              "      <td>0.100141</td>\n",
              "      <td>-0.344187</td>\n",
              "      <td>-0.288223</td>\n",
              "      <td>1.000000</td>\n",
              "      <td>0.394253</td>\n",
              "      <td>-0.204803</td>\n",
              "      <td>-0.037946</td>\n",
              "      <td>-0.430696</td>\n",
              "    </tr>\n",
              "    <tr>\n",
              "      <th>slope</th>\n",
              "      <td>0.030536</td>\n",
              "      <td>-0.046183</td>\n",
              "      <td>0.028350</td>\n",
              "      <td>0.122384</td>\n",
              "      <td>-0.045340</td>\n",
              "      <td>-0.105284</td>\n",
              "      <td>0.047110</td>\n",
              "      <td>-0.056590</td>\n",
              "      <td>-0.059253</td>\n",
              "      <td>0.394253</td>\n",
              "      <td>1.000000</td>\n",
              "      <td>0.075537</td>\n",
              "      <td>-0.022244</td>\n",
              "      <td>-0.063554</td>\n",
              "    </tr>\n",
              "    <tr>\n",
              "      <th>ca</th>\n",
              "      <td>-0.350844</td>\n",
              "      <td>0.122854</td>\n",
              "      <td>-0.235437</td>\n",
              "      <td>-0.055011</td>\n",
              "      <td>-0.080600</td>\n",
              "      <td>0.112548</td>\n",
              "      <td>-0.105628</td>\n",
              "      <td>0.273136</td>\n",
              "      <td>0.187734</td>\n",
              "      <td>-0.204803</td>\n",
              "      <td>0.075537</td>\n",
              "      <td>1.000000</td>\n",
              "      <td>0.069714</td>\n",
              "      <td>0.465590</td>\n",
              "    </tr>\n",
              "    <tr>\n",
              "      <th>thal</th>\n",
              "      <td>-0.016779</td>\n",
              "      <td>0.032093</td>\n",
              "      <td>0.004581</td>\n",
              "      <td>-0.016870</td>\n",
              "      <td>-0.057127</td>\n",
              "      <td>-0.080568</td>\n",
              "      <td>0.002422</td>\n",
              "      <td>-0.050429</td>\n",
              "      <td>-0.030113</td>\n",
              "      <td>-0.037946</td>\n",
              "      <td>-0.022244</td>\n",
              "      <td>0.069714</td>\n",
              "      <td>1.000000</td>\n",
              "      <td>-0.007293</td>\n",
              "    </tr>\n",
              "    <tr>\n",
              "      <th>target</th>\n",
              "      <td>-0.225439</td>\n",
              "      <td>0.280937</td>\n",
              "      <td>-0.516015</td>\n",
              "      <td>-0.144931</td>\n",
              "      <td>-0.085239</td>\n",
              "      <td>0.028046</td>\n",
              "      <td>-0.159775</td>\n",
              "      <td>0.421741</td>\n",
              "      <td>0.436757</td>\n",
              "      <td>-0.430696</td>\n",
              "      <td>-0.063554</td>\n",
              "      <td>0.465590</td>\n",
              "      <td>-0.007293</td>\n",
              "      <td>1.000000</td>\n",
              "    </tr>\n",
              "  </tbody>\n",
              "</table>\n",
              "</div>"
            ],
            "text/plain": [
              "               age       sex        cp  ...        ca      thal    target\n",
              "age       1.000000  0.098447  0.138253  ... -0.350844 -0.016779 -0.225439\n",
              "sex       0.098447  1.000000 -0.089621  ...  0.122854  0.032093  0.280937\n",
              "cp        0.138253 -0.089621  1.000000  ... -0.235437  0.004581 -0.516015\n",
              "trestbps  0.279351  0.056769  0.021447  ... -0.055011 -0.016870 -0.144931\n",
              "chol      0.213678  0.197912  0.070684  ... -0.080600 -0.057127 -0.085239\n",
              "fbs      -0.121308  0.045032  0.060190  ...  0.112548 -0.080568  0.028046\n",
              "restecg   0.141398 -0.036539  0.114075  ... -0.105628  0.002422 -0.159775\n",
              "thalach  -0.398522  0.044020 -0.376561  ...  0.273136 -0.050429  0.421741\n",
              "exang    -0.096801  0.141664 -0.469061  ...  0.187734 -0.030113  0.436757\n",
              "oldpeak   0.210013 -0.096093  0.280243  ... -0.204803 -0.037946 -0.430696\n",
              "slope     0.030536 -0.046183  0.028350  ...  0.075537 -0.022244 -0.063554\n",
              "ca       -0.350844  0.122854 -0.235437  ...  1.000000  0.069714  0.465590\n",
              "thal     -0.016779  0.032093  0.004581  ...  0.069714  1.000000 -0.007293\n",
              "target   -0.225439  0.280937 -0.516015  ...  0.465590 -0.007293  1.000000\n",
              "\n",
              "[14 rows x 14 columns]"
            ]
          },
          "metadata": {
            "tags": []
          },
          "execution_count": 18
        }
      ]
    },
    {
      "cell_type": "code",
      "metadata": {
        "colab": {
          "base_uri": "https://localhost:8080/",
          "height": 977
        },
        "id": "Lsmjabh6nzJm",
        "outputId": "53bbcd61-dcf2-4ecb-f8fe-f0f20f24a098"
      },
      "source": [
        "sns.pairplot(data=ds)"
      ],
      "execution_count": null,
      "outputs": [
        {
          "output_type": "execute_result",
          "data": {
            "text/plain": [
              "<seaborn.axisgrid.PairGrid at 0x7f62bd7ca790>"
            ]
          },
          "metadata": {
            "tags": []
          },
          "execution_count": 19
        },
        {
          "output_type": "display_data",
          "data": {
            "image/png": "[encoded data removed]",
            "text/plain": [
              "<Figure size 2520x2520 with 210 Axes>"
            ]
          },
          "metadata": {
            "tags": [],
            "needs_background": "light"
          }
        }
      ]
    },
    {
      "cell_type": "code",
      "metadata": {
        "id": "xNaSeTXCnzJm"
      },
      "source": [
        "x=ds.iloc[:,:-1].values\n",
        "y=ds.iloc[:,-1].values"
      ],
      "execution_count": null,
      "outputs": []
    },
    {
      "cell_type": "code",
      "metadata": {
        "id": "poe1A4STnzJn"
      },
      "source": [
        "from sklearn.model_selection import train_test_split\n",
        "x_train,x_test,y_train,y_test=train_test_split(x,y,test_size=0.2,random_state=0)"
      ],
      "execution_count": null,
      "outputs": []
    },
    {
      "cell_type": "code",
      "metadata": {
        "colab": {
          "base_uri": "https://localhost:8080/"
        },
        "id": "MhQyzyKynzJn",
        "outputId": "9cff766a-e659-4a55-e964-e9ddfd08df05"
      },
      "source": [
        "from sklearn.linear_model import LogisticRegression\n",
        "lr=LogisticRegression(solver='lbfgs')\n",
        "lr.fit(x_train,y_train)"
      ],
      "execution_count": null,
      "outputs": [
        {
          "output_type": "stream",
          "text": [
            "/usr/local/lib/python3.7/dist-packages/sklearn/linear_model/_logistic.py:940: ConvergenceWarning: lbfgs failed to converge (status=1):\n",
            "STOP: TOTAL NO. of ITERATIONS REACHED LIMIT.\n",
            "\n",
            "Increase the number of iterations (max_iter) or scale the data as shown in:\n",
            "    https://scikit-learn.org/stable/modules/preprocessing.html\n",
            "Please also refer to the documentation for alternative solver options:\n",
            "    https://scikit-learn.org/stable/modules/linear_model.html#logistic-regression\n",
            "  extra_warning_msg=_LOGISTIC_SOLVER_CONVERGENCE_MSG)\n"
          ],
          "name": "stderr"
        },
        {
          "output_type": "execute_result",
          "data": {
            "text/plain": [
              "LogisticRegression(C=1.0, class_weight=None, dual=False, fit_intercept=True,\n",
              "                   intercept_scaling=1, l1_ratio=None, max_iter=100,\n",
              "                   multi_class='auto', n_jobs=None, penalty='l2',\n",
              "                   random_state=None, solver='lbfgs', tol=0.0001, verbose=0,\n",
              "                   warm_start=False)"
            ]
          },
          "metadata": {
            "tags": []
          },
          "execution_count": 22
        }
      ]
    },
    {
      "cell_type": "code",
      "metadata": {
        "colab": {
          "base_uri": "https://localhost:8080/"
        },
        "id": "yv325R-XnzJn",
        "outputId": "a1a58b42-c22b-4e71-8f91-5bbf753c66de"
      },
      "source": [
        "lr.score(x_train,y_train)"
      ],
      "execution_count": null,
      "outputs": [
        {
          "output_type": "execute_result",
          "data": {
            "text/plain": [
              "0.871900826446281"
            ]
          },
          "metadata": {
            "tags": []
          },
          "execution_count": 23
        }
      ]
    },
    {
      "cell_type": "code",
      "metadata": {
        "colab": {
          "base_uri": "https://localhost:8080/",
          "height": 419
        },
        "id": "vFt57Ow4nzJo",
        "outputId": "df9e4df3-0c08-4f9e-d527-0ae72b3b9bf7"
      },
      "source": [
        "yp=lr.predict(x_test)\n",
        "yp=pd.DataFrame(yp)\n",
        "yp"
      ],
      "execution_count": null,
      "outputs": [
        {
          "output_type": "execute_result",
          "data": {
            "text/html": [
              "<div>\n",
              "<style scoped>\n",
              "    .dataframe tbody tr th:only-of-type {\n",
              "        vertical-align: middle;\n",
              "    }\n",
              "\n",
              "    .dataframe tbody tr th {\n",
              "        vertical-align: top;\n",
              "    }\n",
              "\n",
              "    .dataframe thead th {\n",
              "        text-align: right;\n",
              "    }\n",
              "</style>\n",
              "<table border=\"1\" class=\"dataframe\">\n",
              "  <thead>\n",
              "    <tr style=\"text-align: right;\">\n",
              "      <th></th>\n",
              "      <th>0</th>\n",
              "    </tr>\n",
              "  </thead>\n",
              "  <tbody>\n",
              "    <tr>\n",
              "      <th>0</th>\n",
              "      <td>0</td>\n",
              "    </tr>\n",
              "    <tr>\n",
              "      <th>1</th>\n",
              "      <td>1</td>\n",
              "    </tr>\n",
              "    <tr>\n",
              "      <th>2</th>\n",
              "      <td>1</td>\n",
              "    </tr>\n",
              "    <tr>\n",
              "      <th>3</th>\n",
              "      <td>0</td>\n",
              "    </tr>\n",
              "    <tr>\n",
              "      <th>4</th>\n",
              "      <td>0</td>\n",
              "    </tr>\n",
              "    <tr>\n",
              "      <th>...</th>\n",
              "      <td>...</td>\n",
              "    </tr>\n",
              "    <tr>\n",
              "      <th>56</th>\n",
              "      <td>1</td>\n",
              "    </tr>\n",
              "    <tr>\n",
              "      <th>57</th>\n",
              "      <td>1</td>\n",
              "    </tr>\n",
              "    <tr>\n",
              "      <th>58</th>\n",
              "      <td>1</td>\n",
              "    </tr>\n",
              "    <tr>\n",
              "      <th>59</th>\n",
              "      <td>1</td>\n",
              "    </tr>\n",
              "    <tr>\n",
              "      <th>60</th>\n",
              "      <td>1</td>\n",
              "    </tr>\n",
              "  </tbody>\n",
              "</table>\n",
              "<p>61 rows × 1 columns</p>\n",
              "</div>"
            ],
            "text/plain": [
              "    0\n",
              "0   0\n",
              "1   1\n",
              "2   1\n",
              "3   0\n",
              "4   0\n",
              ".. ..\n",
              "56  1\n",
              "57  1\n",
              "58  1\n",
              "59  1\n",
              "60  1\n",
              "\n",
              "[61 rows x 1 columns]"
            ]
          },
          "metadata": {
            "tags": []
          },
          "execution_count": 24
        }
      ]
    },
    {
      "cell_type": "code",
      "metadata": {
        "colab": {
          "base_uri": "https://localhost:8080/",
          "height": 419
        },
        "id": "2WIPlGtWnzJo",
        "outputId": "cfa783c8-8ef9-458e-f4b4-bef22918a484"
      },
      "source": [
        "y_test=pd.DataFrame(y_test)\n",
        "y_test"
      ],
      "execution_count": null,
      "outputs": [
        {
          "output_type": "execute_result",
          "data": {
            "text/html": [
              "<div>\n",
              "<style scoped>\n",
              "    .dataframe tbody tr th:only-of-type {\n",
              "        vertical-align: middle;\n",
              "    }\n",
              "\n",
              "    .dataframe tbody tr th {\n",
              "        vertical-align: top;\n",
              "    }\n",
              "\n",
              "    .dataframe thead th {\n",
              "        text-align: right;\n",
              "    }\n",
              "</style>\n",
              "<table border=\"1\" class=\"dataframe\">\n",
              "  <thead>\n",
              "    <tr style=\"text-align: right;\">\n",
              "      <th></th>\n",
              "      <th>0</th>\n",
              "    </tr>\n",
              "  </thead>\n",
              "  <tbody>\n",
              "    <tr>\n",
              "      <th>0</th>\n",
              "      <td>0</td>\n",
              "    </tr>\n",
              "    <tr>\n",
              "      <th>1</th>\n",
              "      <td>1</td>\n",
              "    </tr>\n",
              "    <tr>\n",
              "      <th>2</th>\n",
              "      <td>0</td>\n",
              "    </tr>\n",
              "    <tr>\n",
              "      <th>3</th>\n",
              "      <td>0</td>\n",
              "    </tr>\n",
              "    <tr>\n",
              "      <th>4</th>\n",
              "      <td>1</td>\n",
              "    </tr>\n",
              "    <tr>\n",
              "      <th>...</th>\n",
              "      <td>...</td>\n",
              "    </tr>\n",
              "    <tr>\n",
              "      <th>56</th>\n",
              "      <td>1</td>\n",
              "    </tr>\n",
              "    <tr>\n",
              "      <th>57</th>\n",
              "      <td>0</td>\n",
              "    </tr>\n",
              "    <tr>\n",
              "      <th>58</th>\n",
              "      <td>1</td>\n",
              "    </tr>\n",
              "    <tr>\n",
              "      <th>59</th>\n",
              "      <td>1</td>\n",
              "    </tr>\n",
              "    <tr>\n",
              "      <th>60</th>\n",
              "      <td>1</td>\n",
              "    </tr>\n",
              "  </tbody>\n",
              "</table>\n",
              "<p>61 rows × 1 columns</p>\n",
              "</div>"
            ],
            "text/plain": [
              "    0\n",
              "0   0\n",
              "1   1\n",
              "2   0\n",
              "3   0\n",
              "4   1\n",
              ".. ..\n",
              "56  1\n",
              "57  0\n",
              "58  1\n",
              "59  1\n",
              "60  1\n",
              "\n",
              "[61 rows x 1 columns]"
            ]
          },
          "metadata": {
            "tags": []
          },
          "execution_count": 25
        }
      ]
    },
    {
      "cell_type": "code",
      "metadata": {
        "colab": {
          "base_uri": "https://localhost:8080/",
          "height": 419
        },
        "id": "Kog0Vl3CnzJo",
        "outputId": "bd2b2428-631d-4218-da20-9f03573e619b"
      },
      "source": [
        "p=pd.concat([y_test,yp],axis=1)\n",
        "p"
      ],
      "execution_count": null,
      "outputs": [
        {
          "output_type": "execute_result",
          "data": {
            "text/html": [
              "<div>\n",
              "<style scoped>\n",
              "    .dataframe tbody tr th:only-of-type {\n",
              "        vertical-align: middle;\n",
              "    }\n",
              "\n",
              "    .dataframe tbody tr th {\n",
              "        vertical-align: top;\n",
              "    }\n",
              "\n",
              "    .dataframe thead th {\n",
              "        text-align: right;\n",
              "    }\n",
              "</style>\n",
              "<table border=\"1\" class=\"dataframe\">\n",
              "  <thead>\n",
              "    <tr style=\"text-align: right;\">\n",
              "      <th></th>\n",
              "      <th>0</th>\n",
              "      <th>0</th>\n",
              "    </tr>\n",
              "  </thead>\n",
              "  <tbody>\n",
              "    <tr>\n",
              "      <th>0</th>\n",
              "      <td>0</td>\n",
              "      <td>0</td>\n",
              "    </tr>\n",
              "    <tr>\n",
              "      <th>1</th>\n",
              "      <td>1</td>\n",
              "      <td>1</td>\n",
              "    </tr>\n",
              "    <tr>\n",
              "      <th>2</th>\n",
              "      <td>0</td>\n",
              "      <td>1</td>\n",
              "    </tr>\n",
              "    <tr>\n",
              "      <th>3</th>\n",
              "      <td>0</td>\n",
              "      <td>0</td>\n",
              "    </tr>\n",
              "    <tr>\n",
              "      <th>4</th>\n",
              "      <td>1</td>\n",
              "      <td>0</td>\n",
              "    </tr>\n",
              "    <tr>\n",
              "      <th>...</th>\n",
              "      <td>...</td>\n",
              "      <td>...</td>\n",
              "    </tr>\n",
              "    <tr>\n",
              "      <th>56</th>\n",
              "      <td>1</td>\n",
              "      <td>1</td>\n",
              "    </tr>\n",
              "    <tr>\n",
              "      <th>57</th>\n",
              "      <td>0</td>\n",
              "      <td>1</td>\n",
              "    </tr>\n",
              "    <tr>\n",
              "      <th>58</th>\n",
              "      <td>1</td>\n",
              "      <td>1</td>\n",
              "    </tr>\n",
              "    <tr>\n",
              "      <th>59</th>\n",
              "      <td>1</td>\n",
              "      <td>1</td>\n",
              "    </tr>\n",
              "    <tr>\n",
              "      <th>60</th>\n",
              "      <td>1</td>\n",
              "      <td>1</td>\n",
              "    </tr>\n",
              "  </tbody>\n",
              "</table>\n",
              "<p>61 rows × 2 columns</p>\n",
              "</div>"
            ],
            "text/plain": [
              "    0  0\n",
              "0   0  0\n",
              "1   1  1\n",
              "2   0  1\n",
              "3   0  0\n",
              "4   1  0\n",
              ".. .. ..\n",
              "56  1  1\n",
              "57  0  1\n",
              "58  1  1\n",
              "59  1  1\n",
              "60  1  1\n",
              "\n",
              "[61 rows x 2 columns]"
            ]
          },
          "metadata": {
            "tags": []
          },
          "execution_count": 26
        }
      ]
    },
    {
      "cell_type": "code",
      "metadata": {
        "colab": {
          "base_uri": "https://localhost:8080/"
        },
        "id": "6biJUGCUnzJp",
        "outputId": "87428140-2beb-451e-bd11-7046cb2a8fe6"
      },
      "source": [
        "lr.score(x_test,y_test)"
      ],
      "execution_count": null,
      "outputs": [
        {
          "output_type": "execute_result",
          "data": {
            "text/plain": [
              "0.8032786885245902"
            ]
          },
          "metadata": {
            "tags": []
          },
          "execution_count": 27
        }
      ]
    },
    {
      "cell_type": "code",
      "metadata": {
        "colab": {
          "base_uri": "https://localhost:8080/"
        },
        "id": "pS1Wd_PAnzJp",
        "outputId": "19d14a13-52cf-47b5-8037-53397dc3522b"
      },
      "source": [
        "from sklearn.metrics import accuracy_score,classification_report,confusion_matrix,log_loss\n",
        "cm=confusion_matrix(y_test,yp)\n",
        "cm"
      ],
      "execution_count": null,
      "outputs": [
        {
          "output_type": "execute_result",
          "data": {
            "text/plain": [
              "array([[18,  9],\n",
              "       [ 3, 31]])"
            ]
          },
          "metadata": {
            "tags": []
          },
          "execution_count": 28
        }
      ]
    },
    {
      "cell_type": "code",
      "metadata": {
        "colab": {
          "base_uri": "https://localhost:8080/",
          "height": 69
        },
        "id": "ZPf_hVJ0nzJp",
        "outputId": "de26c5c3-2a98-44f1-a994-871d6a146c36"
      },
      "source": [
        "cf=classification_report(y_test,yp)\n",
        "cf"
      ],
      "execution_count": null,
      "outputs": [
        {
          "output_type": "execute_result",
          "data": {
            "application/vnd.google.colaboratory.intrinsic+json": {
              "type": "string"
            },
            "text/plain": [
              "'              precision    recall  f1-score   support\\n\\n           0       0.86      0.67      0.75        27\\n           1       0.78      0.91      0.84        34\\n\\n    accuracy                           0.80        61\\n   macro avg       0.82      0.79      0.79        61\\nweighted avg       0.81      0.80      0.80        61\\n'"
            ]
          },
          "metadata": {
            "tags": []
          },
          "execution_count": 29
        }
      ]
    },
    {
      "cell_type": "code",
      "metadata": {
        "colab": {
          "base_uri": "https://localhost:8080/"
        },
        "id": "PnJBxiufnzJq",
        "outputId": "30ff02e9-b90c-4fd6-8daf-df36ae900665"
      },
      "source": [
        "logloss=log_loss(y_test,yp)\n",
        "logloss"
      ],
      "execution_count": null,
      "outputs": [
        {
          "output_type": "execute_result",
          "data": {
            "text/plain": [
              "6.794631362554097"
            ]
          },
          "metadata": {
            "tags": []
          },
          "execution_count": 30
        }
      ]
    },
    {
      "cell_type": "code",
      "metadata": {
        "colab": {
          "base_uri": "https://localhost:8080/"
        },
        "id": "GiOJ6sGinzJq",
        "outputId": "144a6dd3-6fad-46aa-ca9b-40c2a3625e85"
      },
      "source": [
        "a=accuracy_score(y_test,yp)\n",
        "a"
      ],
      "execution_count": null,
      "outputs": [
        {
          "output_type": "execute_result",
          "data": {
            "text/plain": [
              "0.8032786885245902"
            ]
          },
          "metadata": {
            "tags": []
          },
          "execution_count": 31
        }
      ]
    },
    {
      "cell_type": "code",
      "metadata": {
        "id": "9cyHEGZlnzJq"
      },
      "source": [
        "from sklearn.tree import DecisionTreeClassifier\n",
        "dt=DecisionTreeClassifier()"
      ],
      "execution_count": null,
      "outputs": []
    },
    {
      "cell_type": "code",
      "metadata": {
        "colab": {
          "base_uri": "https://localhost:8080/"
        },
        "id": "Cc3F79k0nzJr",
        "outputId": "33bccfb2-fbcd-4b72-850d-2e5fa3b62385"
      },
      "source": [
        "from sklearn.model_selection import GridSearchCV\n",
        "parameters = { 'max_depth'    : [1,2,3,4,5,6,7,8,9,10],\n",
        "                 }\n",
        "dtc = GridSearchCV(estimator=dt, param_grid = parameters, cv = 2, n_jobs=-1)\n",
        "dtc.fit(x_train, y_train)\n",
        "\n",
        "print(\" Results from Grid Search \" )\n",
        "print()\n",
        "print(\"\\n The best estimator across ALL searched params:\\n\",\n",
        "          dtc.best_estimator_)\n",
        "print(\"\\n The best score across ALL searched params:\\n\",\n",
        "          dtc.best_score_)\n",
        "print(\"\\n The best parameters across ALL searched params:\\n\",\n",
        "          dtc.best_params_)"
      ],
      "execution_count": null,
      "outputs": [
        {
          "output_type": "stream",
          "text": [
            " Results from Grid Search \n",
            "\n",
            "\n",
            " The best estimator across ALL searched params:\n",
            " DecisionTreeClassifier(ccp_alpha=0.0, class_weight=None, criterion='gini',\n",
            "                       max_depth=9, max_features=None, max_leaf_nodes=None,\n",
            "                       min_impurity_decrease=0.0, min_impurity_split=None,\n",
            "                       min_samples_leaf=1, min_samples_split=2,\n",
            "                       min_weight_fraction_leaf=0.0, presort='deprecated',\n",
            "                       random_state=None, splitter='best')\n",
            "\n",
            " The best score across ALL searched params:\n",
            " 0.7975206611570248\n",
            "\n",
            " The best parameters across ALL searched params:\n",
            " {'max_depth': 9}\n"
          ],
          "name": "stdout"
        }
      ]
    },
    {
      "cell_type": "code",
      "metadata": {
        "colab": {
          "base_uri": "https://localhost:8080/"
        },
        "id": "CWTogBZinzJr",
        "outputId": "d9fdc06e-76e6-4c92-88dd-d2d8d5a3c58d"
      },
      "source": [
        "dt=DecisionTreeClassifier(max_depth=5)\n",
        "dt.fit(x_train,y_train)"
      ],
      "execution_count": null,
      "outputs": [
        {
          "output_type": "execute_result",
          "data": {
            "text/plain": [
              "DecisionTreeClassifier(ccp_alpha=0.0, class_weight=None, criterion='gini',\n",
              "                       max_depth=5, max_features=None, max_leaf_nodes=None,\n",
              "                       min_impurity_decrease=0.0, min_impurity_split=None,\n",
              "                       min_samples_leaf=1, min_samples_split=2,\n",
              "                       min_weight_fraction_leaf=0.0, presort='deprecated',\n",
              "                       random_state=None, splitter='best')"
            ]
          },
          "metadata": {
            "tags": []
          },
          "execution_count": 92
        }
      ]
    },
    {
      "cell_type": "code",
      "metadata": {
        "colab": {
          "base_uri": "https://localhost:8080/"
        },
        "id": "iwoCtqHinzJr",
        "outputId": "9dab6fe6-10bc-4b99-a350-4d00bc3d9712"
      },
      "source": [
        "dt.score(x_train,y_train)"
      ],
      "execution_count": null,
      "outputs": [
        {
          "output_type": "execute_result",
          "data": {
            "text/plain": [
              "0.9504132231404959"
            ]
          },
          "metadata": {
            "tags": []
          },
          "execution_count": 93
        }
      ]
    },
    {
      "cell_type": "code",
      "metadata": {
        "colab": {
          "base_uri": "https://localhost:8080/",
          "height": 419
        },
        "id": "HHrWqL1qnzJs",
        "outputId": "74749079-91f1-42b5-ed73-1f38f577eb2f"
      },
      "source": [
        "yp1=dt.predict(x_test)\n",
        "yp1=pd.DataFrame(yp1)\n",
        "yp1"
      ],
      "execution_count": null,
      "outputs": [
        {
          "output_type": "execute_result",
          "data": {
            "text/html": [
              "<div>\n",
              "<style scoped>\n",
              "    .dataframe tbody tr th:only-of-type {\n",
              "        vertical-align: middle;\n",
              "    }\n",
              "\n",
              "    .dataframe tbody tr th {\n",
              "        vertical-align: top;\n",
              "    }\n",
              "\n",
              "    .dataframe thead th {\n",
              "        text-align: right;\n",
              "    }\n",
              "</style>\n",
              "<table border=\"1\" class=\"dataframe\">\n",
              "  <thead>\n",
              "    <tr style=\"text-align: right;\">\n",
              "      <th></th>\n",
              "      <th>0</th>\n",
              "    </tr>\n",
              "  </thead>\n",
              "  <tbody>\n",
              "    <tr>\n",
              "      <th>0</th>\n",
              "      <td>0</td>\n",
              "    </tr>\n",
              "    <tr>\n",
              "      <th>1</th>\n",
              "      <td>1</td>\n",
              "    </tr>\n",
              "    <tr>\n",
              "      <th>2</th>\n",
              "      <td>0</td>\n",
              "    </tr>\n",
              "    <tr>\n",
              "      <th>3</th>\n",
              "      <td>0</td>\n",
              "    </tr>\n",
              "    <tr>\n",
              "      <th>4</th>\n",
              "      <td>0</td>\n",
              "    </tr>\n",
              "    <tr>\n",
              "      <th>...</th>\n",
              "      <td>...</td>\n",
              "    </tr>\n",
              "    <tr>\n",
              "      <th>56</th>\n",
              "      <td>1</td>\n",
              "    </tr>\n",
              "    <tr>\n",
              "      <th>57</th>\n",
              "      <td>1</td>\n",
              "    </tr>\n",
              "    <tr>\n",
              "      <th>58</th>\n",
              "      <td>1</td>\n",
              "    </tr>\n",
              "    <tr>\n",
              "      <th>59</th>\n",
              "      <td>1</td>\n",
              "    </tr>\n",
              "    <tr>\n",
              "      <th>60</th>\n",
              "      <td>1</td>\n",
              "    </tr>\n",
              "  </tbody>\n",
              "</table>\n",
              "<p>61 rows × 1 columns</p>\n",
              "</div>"
            ],
            "text/plain": [
              "    0\n",
              "0   0\n",
              "1   1\n",
              "2   0\n",
              "3   0\n",
              "4   0\n",
              ".. ..\n",
              "56  1\n",
              "57  1\n",
              "58  1\n",
              "59  1\n",
              "60  1\n",
              "\n",
              "[61 rows x 1 columns]"
            ]
          },
          "metadata": {
            "tags": []
          },
          "execution_count": 94
        }
      ]
    },
    {
      "cell_type": "code",
      "metadata": {
        "colab": {
          "base_uri": "https://localhost:8080/",
          "height": 419
        },
        "id": "x9vz6M9XnzJs",
        "outputId": "eb72d37a-16ab-4a0d-b57a-f8997f84cb97"
      },
      "source": [
        "p1=pd.concat([y_test,yp1],axis=1)\n",
        "p1"
      ],
      "execution_count": null,
      "outputs": [
        {
          "output_type": "execute_result",
          "data": {
            "text/html": [
              "<div>\n",
              "<style scoped>\n",
              "    .dataframe tbody tr th:only-of-type {\n",
              "        vertical-align: middle;\n",
              "    }\n",
              "\n",
              "    .dataframe tbody tr th {\n",
              "        vertical-align: top;\n",
              "    }\n",
              "\n",
              "    .dataframe thead th {\n",
              "        text-align: right;\n",
              "    }\n",
              "</style>\n",
              "<table border=\"1\" class=\"dataframe\">\n",
              "  <thead>\n",
              "    <tr style=\"text-align: right;\">\n",
              "      <th></th>\n",
              "      <th>0</th>\n",
              "      <th>0</th>\n",
              "    </tr>\n",
              "  </thead>\n",
              "  <tbody>\n",
              "    <tr>\n",
              "      <th>0</th>\n",
              "      <td>0</td>\n",
              "      <td>0</td>\n",
              "    </tr>\n",
              "    <tr>\n",
              "      <th>1</th>\n",
              "      <td>1</td>\n",
              "      <td>1</td>\n",
              "    </tr>\n",
              "    <tr>\n",
              "      <th>2</th>\n",
              "      <td>0</td>\n",
              "      <td>0</td>\n",
              "    </tr>\n",
              "    <tr>\n",
              "      <th>3</th>\n",
              "      <td>0</td>\n",
              "      <td>0</td>\n",
              "    </tr>\n",
              "    <tr>\n",
              "      <th>4</th>\n",
              "      <td>1</td>\n",
              "      <td>0</td>\n",
              "    </tr>\n",
              "    <tr>\n",
              "      <th>...</th>\n",
              "      <td>...</td>\n",
              "      <td>...</td>\n",
              "    </tr>\n",
              "    <tr>\n",
              "      <th>56</th>\n",
              "      <td>1</td>\n",
              "      <td>1</td>\n",
              "    </tr>\n",
              "    <tr>\n",
              "      <th>57</th>\n",
              "      <td>0</td>\n",
              "      <td>1</td>\n",
              "    </tr>\n",
              "    <tr>\n",
              "      <th>58</th>\n",
              "      <td>1</td>\n",
              "      <td>1</td>\n",
              "    </tr>\n",
              "    <tr>\n",
              "      <th>59</th>\n",
              "      <td>1</td>\n",
              "      <td>1</td>\n",
              "    </tr>\n",
              "    <tr>\n",
              "      <th>60</th>\n",
              "      <td>1</td>\n",
              "      <td>1</td>\n",
              "    </tr>\n",
              "  </tbody>\n",
              "</table>\n",
              "<p>61 rows × 2 columns</p>\n",
              "</div>"
            ],
            "text/plain": [
              "    0  0\n",
              "0   0  0\n",
              "1   1  1\n",
              "2   0  0\n",
              "3   0  0\n",
              "4   1  0\n",
              ".. .. ..\n",
              "56  1  1\n",
              "57  0  1\n",
              "58  1  1\n",
              "59  1  1\n",
              "60  1  1\n",
              "\n",
              "[61 rows x 2 columns]"
            ]
          },
          "metadata": {
            "tags": []
          },
          "execution_count": 95
        }
      ]
    },
    {
      "cell_type": "code",
      "metadata": {
        "colab": {
          "base_uri": "https://localhost:8080/"
        },
        "id": "-oif-bTmnzJs",
        "outputId": "c5197665-bdde-476e-ad3c-fb77eac4ba91"
      },
      "source": [
        "cm=confusion_matrix(y_test,yp1)\n",
        "cm"
      ],
      "execution_count": null,
      "outputs": [
        {
          "output_type": "execute_result",
          "data": {
            "text/plain": [
              "array([[17, 10],\n",
              "       [ 8, 26]])"
            ]
          },
          "metadata": {
            "tags": []
          },
          "execution_count": 96
        }
      ]
    },
    {
      "cell_type": "code",
      "metadata": {
        "colab": {
          "base_uri": "https://localhost:8080/",
          "height": 69
        },
        "id": "KeMZOcF1nzJt",
        "outputId": "27d69dd1-9e72-498c-f625-d8ca4dd9b473"
      },
      "source": [
        "cf=classification_report(y_test,yp1)\n",
        "cf"
      ],
      "execution_count": null,
      "outputs": [
        {
          "output_type": "execute_result",
          "data": {
            "application/vnd.google.colaboratory.intrinsic+json": {
              "type": "string"
            },
            "text/plain": [
              "'              precision    recall  f1-score   support\\n\\n           0       0.68      0.63      0.65        27\\n           1       0.72      0.76      0.74        34\\n\\n    accuracy                           0.70        61\\n   macro avg       0.70      0.70      0.70        61\\nweighted avg       0.70      0.70      0.70        61\\n'"
            ]
          },
          "metadata": {
            "tags": []
          },
          "execution_count": 97
        }
      ]
    },
    {
      "cell_type": "code",
      "metadata": {
        "colab": {
          "base_uri": "https://localhost:8080/"
        },
        "id": "DYkUhLN1nzJt",
        "outputId": "3640c5ca-8884-4205-e0d7-a399f2e3127f"
      },
      "source": [
        "logloss=log_loss(y_test,yp1)\n",
        "logloss"
      ],
      "execution_count": null,
      "outputs": [
        {
          "output_type": "execute_result",
          "data": {
            "text/plain": [
              "10.191901165290071"
            ]
          },
          "metadata": {
            "tags": []
          },
          "execution_count": 98
        }
      ]
    },
    {
      "cell_type": "code",
      "metadata": {
        "colab": {
          "base_uri": "https://localhost:8080/"
        },
        "id": "GEgD2ppbnzJw",
        "outputId": "6b0ba6c0-4f2f-4c0c-cc4a-fd58a1d8c91e"
      },
      "source": [
        "b=accuracy_score(y_test,yp1)\n",
        "b"
      ],
      "execution_count": null,
      "outputs": [
        {
          "output_type": "execute_result",
          "data": {
            "text/plain": [
              "0.7049180327868853"
            ]
          },
          "metadata": {
            "tags": []
          },
          "execution_count": 99
        }
      ]
    },
    {
      "cell_type": "code",
      "metadata": {
        "id": "22XjnT5bnzJw"
      },
      "source": [
        "from sklearn.ensemble import RandomForestClassifier\n",
        "rf=RandomForestClassifier()"
      ],
      "execution_count": null,
      "outputs": []
    },
    {
      "cell_type": "code",
      "metadata": {
        "colab": {
          "base_uri": "https://localhost:8080/"
        },
        "id": "50TPdrlFnzJx",
        "outputId": "ad9669e2-eeb7-4652-b722-ff077bbac240"
      },
      "source": [
        "from sklearn.model_selection import GridSearchCV\n",
        "parameters = { 'max_depth'    : [1,2,3,4,5,6,7,8,9,10],\n",
        "              'n_estimators':[1,2,3,4,5,6,7,8,9,10,20,30,40,50]\n",
        "                 }\n",
        "rfc = GridSearchCV(estimator=rf, param_grid = parameters, cv = 2, n_jobs=-1)\n",
        "rfc.fit(x_train, y_train)\n",
        "\n",
        "print(\" Results from Grid Search \" )\n",
        "print()\n",
        "print(\"\\n The best estimator across ALL searched params:\\n\",\n",
        "          rfc.best_estimator_)\n",
        "print(\"\\n The best score across ALL searched params:\\n\",\n",
        "          rfc.best_score_)\n",
        "print(\"\\n The best parameters across ALL searched params:\\n\",\n",
        "          rfc.best_params_)"
      ],
      "execution_count": null,
      "outputs": [
        {
          "output_type": "stream",
          "text": [
            " Results from Grid Search \n",
            "\n",
            "\n",
            " The best estimator across ALL searched params:\n",
            " RandomForestClassifier(bootstrap=True, ccp_alpha=0.0, class_weight=None,\n",
            "                       criterion='gini', max_depth=4, max_features='auto',\n",
            "                       max_leaf_nodes=None, max_samples=None,\n",
            "                       min_impurity_decrease=0.0, min_impurity_split=None,\n",
            "                       min_samples_leaf=1, min_samples_split=2,\n",
            "                       min_weight_fraction_leaf=0.0, n_estimators=8,\n",
            "                       n_jobs=None, oob_score=False, random_state=None,\n",
            "                       verbose=0, warm_start=False)\n",
            "\n",
            " The best score across ALL searched params:\n",
            " 0.834710743801653\n",
            "\n",
            " The best parameters across ALL searched params:\n",
            " {'max_depth': 4, 'n_estimators': 8}\n"
          ],
          "name": "stdout"
        }
      ]
    },
    {
      "cell_type": "code",
      "metadata": {
        "colab": {
          "base_uri": "https://localhost:8080/"
        },
        "id": "xbyk5YQVnzJx",
        "outputId": "e5b9e1dd-e248-417a-d0cb-f38f910d71a0"
      },
      "source": [
        "rf=RandomForestClassifier(max_depth=4, n_estimators=8)\n",
        "rf.fit(x_train,y_train)"
      ],
      "execution_count": null,
      "outputs": [
        {
          "output_type": "execute_result",
          "data": {
            "text/plain": [
              "RandomForestClassifier(bootstrap=True, ccp_alpha=0.0, class_weight=None,\n",
              "                       criterion='gini', max_depth=4, max_features='auto',\n",
              "                       max_leaf_nodes=None, max_samples=None,\n",
              "                       min_impurity_decrease=0.0, min_impurity_split=None,\n",
              "                       min_samples_leaf=1, min_samples_split=2,\n",
              "                       min_weight_fraction_leaf=0.0, n_estimators=8,\n",
              "                       n_jobs=None, oob_score=False, random_state=None,\n",
              "                       verbose=0, warm_start=False)"
            ]
          },
          "metadata": {
            "tags": []
          },
          "execution_count": 102
        }
      ]
    },
    {
      "cell_type": "code",
      "metadata": {
        "colab": {
          "base_uri": "https://localhost:8080/",
          "height": 419
        },
        "id": "cqDZIbQfnzJx",
        "outputId": "263ba115-85df-48d2-a01e-cb1ee1518360"
      },
      "source": [
        "yp2=rf.predict(x_test)\n",
        "yp2=pd.DataFrame(yp2)\n",
        "yp2"
      ],
      "execution_count": null,
      "outputs": [
        {
          "output_type": "execute_result",
          "data": {
            "text/html": [
              "<div>\n",
              "<style scoped>\n",
              "    .dataframe tbody tr th:only-of-type {\n",
              "        vertical-align: middle;\n",
              "    }\n",
              "\n",
              "    .dataframe tbody tr th {\n",
              "        vertical-align: top;\n",
              "    }\n",
              "\n",
              "    .dataframe thead th {\n",
              "        text-align: right;\n",
              "    }\n",
              "</style>\n",
              "<table border=\"1\" class=\"dataframe\">\n",
              "  <thead>\n",
              "    <tr style=\"text-align: right;\">\n",
              "      <th></th>\n",
              "      <th>0</th>\n",
              "    </tr>\n",
              "  </thead>\n",
              "  <tbody>\n",
              "    <tr>\n",
              "      <th>0</th>\n",
              "      <td>0</td>\n",
              "    </tr>\n",
              "    <tr>\n",
              "      <th>1</th>\n",
              "      <td>1</td>\n",
              "    </tr>\n",
              "    <tr>\n",
              "      <th>2</th>\n",
              "      <td>1</td>\n",
              "    </tr>\n",
              "    <tr>\n",
              "      <th>3</th>\n",
              "      <td>0</td>\n",
              "    </tr>\n",
              "    <tr>\n",
              "      <th>4</th>\n",
              "      <td>0</td>\n",
              "    </tr>\n",
              "    <tr>\n",
              "      <th>...</th>\n",
              "      <td>...</td>\n",
              "    </tr>\n",
              "    <tr>\n",
              "      <th>56</th>\n",
              "      <td>1</td>\n",
              "    </tr>\n",
              "    <tr>\n",
              "      <th>57</th>\n",
              "      <td>1</td>\n",
              "    </tr>\n",
              "    <tr>\n",
              "      <th>58</th>\n",
              "      <td>1</td>\n",
              "    </tr>\n",
              "    <tr>\n",
              "      <th>59</th>\n",
              "      <td>1</td>\n",
              "    </tr>\n",
              "    <tr>\n",
              "      <th>60</th>\n",
              "      <td>1</td>\n",
              "    </tr>\n",
              "  </tbody>\n",
              "</table>\n",
              "<p>61 rows × 1 columns</p>\n",
              "</div>"
            ],
            "text/plain": [
              "    0\n",
              "0   0\n",
              "1   1\n",
              "2   1\n",
              "3   0\n",
              "4   0\n",
              ".. ..\n",
              "56  1\n",
              "57  1\n",
              "58  1\n",
              "59  1\n",
              "60  1\n",
              "\n",
              "[61 rows x 1 columns]"
            ]
          },
          "metadata": {
            "tags": []
          },
          "execution_count": 103
        }
      ]
    },
    {
      "cell_type": "code",
      "metadata": {
        "colab": {
          "base_uri": "https://localhost:8080/",
          "height": 419
        },
        "id": "hxPI_rx2nzJy",
        "outputId": "bac1c446-bc86-45b0-eb52-7ad4f9d9d6b8"
      },
      "source": [
        "p2=pd.concat([y_test,yp2],axis=1)\n",
        "p2"
      ],
      "execution_count": null,
      "outputs": [
        {
          "output_type": "execute_result",
          "data": {
            "text/html": [
              "<div>\n",
              "<style scoped>\n",
              "    .dataframe tbody tr th:only-of-type {\n",
              "        vertical-align: middle;\n",
              "    }\n",
              "\n",
              "    .dataframe tbody tr th {\n",
              "        vertical-align: top;\n",
              "    }\n",
              "\n",
              "    .dataframe thead th {\n",
              "        text-align: right;\n",
              "    }\n",
              "</style>\n",
              "<table border=\"1\" class=\"dataframe\">\n",
              "  <thead>\n",
              "    <tr style=\"text-align: right;\">\n",
              "      <th></th>\n",
              "      <th>0</th>\n",
              "      <th>0</th>\n",
              "    </tr>\n",
              "  </thead>\n",
              "  <tbody>\n",
              "    <tr>\n",
              "      <th>0</th>\n",
              "      <td>0</td>\n",
              "      <td>0</td>\n",
              "    </tr>\n",
              "    <tr>\n",
              "      <th>1</th>\n",
              "      <td>1</td>\n",
              "      <td>1</td>\n",
              "    </tr>\n",
              "    <tr>\n",
              "      <th>2</th>\n",
              "      <td>0</td>\n",
              "      <td>1</td>\n",
              "    </tr>\n",
              "    <tr>\n",
              "      <th>3</th>\n",
              "      <td>0</td>\n",
              "      <td>0</td>\n",
              "    </tr>\n",
              "    <tr>\n",
              "      <th>4</th>\n",
              "      <td>1</td>\n",
              "      <td>0</td>\n",
              "    </tr>\n",
              "    <tr>\n",
              "      <th>...</th>\n",
              "      <td>...</td>\n",
              "      <td>...</td>\n",
              "    </tr>\n",
              "    <tr>\n",
              "      <th>56</th>\n",
              "      <td>1</td>\n",
              "      <td>1</td>\n",
              "    </tr>\n",
              "    <tr>\n",
              "      <th>57</th>\n",
              "      <td>0</td>\n",
              "      <td>1</td>\n",
              "    </tr>\n",
              "    <tr>\n",
              "      <th>58</th>\n",
              "      <td>1</td>\n",
              "      <td>1</td>\n",
              "    </tr>\n",
              "    <tr>\n",
              "      <th>59</th>\n",
              "      <td>1</td>\n",
              "      <td>1</td>\n",
              "    </tr>\n",
              "    <tr>\n",
              "      <th>60</th>\n",
              "      <td>1</td>\n",
              "      <td>1</td>\n",
              "    </tr>\n",
              "  </tbody>\n",
              "</table>\n",
              "<p>61 rows × 2 columns</p>\n",
              "</div>"
            ],
            "text/plain": [
              "    0  0\n",
              "0   0  0\n",
              "1   1  1\n",
              "2   0  1\n",
              "3   0  0\n",
              "4   1  0\n",
              ".. .. ..\n",
              "56  1  1\n",
              "57  0  1\n",
              "58  1  1\n",
              "59  1  1\n",
              "60  1  1\n",
              "\n",
              "[61 rows x 2 columns]"
            ]
          },
          "metadata": {
            "tags": []
          },
          "execution_count": 104
        }
      ]
    },
    {
      "cell_type": "code",
      "metadata": {
        "colab": {
          "base_uri": "https://localhost:8080/"
        },
        "id": "n94KN6AhnzJy",
        "outputId": "2db2c359-75d5-40db-d53a-d2ff7d4a82b9"
      },
      "source": [
        "cm=confusion_matrix(y_test,yp2)\n",
        "cm"
      ],
      "execution_count": null,
      "outputs": [
        {
          "output_type": "execute_result",
          "data": {
            "text/plain": [
              "array([[20,  7],\n",
              "       [ 5, 29]])"
            ]
          },
          "metadata": {
            "tags": []
          },
          "execution_count": 105
        }
      ]
    },
    {
      "cell_type": "code",
      "metadata": {
        "colab": {
          "base_uri": "https://localhost:8080/"
        },
        "id": "gK4qp1hUnzJy",
        "outputId": "bd5148ce-f7a0-45f4-8b78-82142c9c3871"
      },
      "source": [
        "print(classification_report(y_test,yp2))"
      ],
      "execution_count": null,
      "outputs": [
        {
          "output_type": "stream",
          "text": [
            "              precision    recall  f1-score   support\n",
            "\n",
            "           0       0.80      0.74      0.77        27\n",
            "           1       0.81      0.85      0.83        34\n",
            "\n",
            "    accuracy                           0.80        61\n",
            "   macro avg       0.80      0.80      0.80        61\n",
            "weighted avg       0.80      0.80      0.80        61\n",
            "\n"
          ],
          "name": "stdout"
        }
      ]
    },
    {
      "cell_type": "code",
      "metadata": {
        "colab": {
          "base_uri": "https://localhost:8080/"
        },
        "id": "opLZ2aCWnzJz",
        "outputId": "8d89aa3e-af65-43d6-9a82-dd0e579ed329"
      },
      "source": [
        "logloss=log_loss(y_test,yp2)\n",
        "logloss"
      ],
      "execution_count": null,
      "outputs": [
        {
          "output_type": "execute_result",
          "data": {
            "text/plain": [
              "6.794605146244912"
            ]
          },
          "metadata": {
            "tags": []
          },
          "execution_count": 107
        }
      ]
    },
    {
      "cell_type": "code",
      "metadata": {
        "colab": {
          "base_uri": "https://localhost:8080/"
        },
        "id": "xsX2B6FQnzJz",
        "outputId": "f3d94e64-e3fd-432b-c677-6188e9095c07"
      },
      "source": [
        "c=accuracy_score(y_test,yp2)\n",
        "c"
      ],
      "execution_count": null,
      "outputs": [
        {
          "output_type": "execute_result",
          "data": {
            "text/plain": [
              "0.8032786885245902"
            ]
          },
          "metadata": {
            "tags": []
          },
          "execution_count": 108
        }
      ]
    },
    {
      "cell_type": "code",
      "metadata": {
        "id": "8jytXa8dnzJz"
      },
      "source": [
        "from sklearn.neighbors import KNeighborsClassifier\n",
        "knn=KNeighborsClassifier()"
      ],
      "execution_count": null,
      "outputs": []
    },
    {
      "cell_type": "code",
      "metadata": {
        "colab": {
          "base_uri": "https://localhost:8080/"
        },
        "id": "WO6g6NvWnzJ0",
        "outputId": "c45a302c-36b0-4983-d249-f8ac2e5a87f9"
      },
      "source": [
        "from sklearn.model_selection import GridSearchCV\n",
        "parameters = {\n",
        "              'n_neighbors':[1,2,3,4,5,6,7,8,9,10,20,30,40,50],\n",
        "    'leaf_size':[1,2,3,4,5,6,7,8,9,10,20,30,40,50]\n",
        "                 }\n",
        "knc = GridSearchCV(estimator=knn, param_grid = parameters, cv = 2, n_jobs=-1)\n",
        "knc.fit(x_train, y_train)\n",
        "\n",
        "print(\" Results from Grid Search \" )\n",
        "print()\n",
        "print(\"\\n The best estimator across ALL searched params:\\n\",\n",
        "          knc.best_estimator_)\n",
        "print(\"\\n The best score across ALL searched params:\\n\",\n",
        "          knc.best_score_)\n",
        "print(\"\\n The best parameters across ALL searched params:\\n\",\n",
        "          knc.best_params_)"
      ],
      "execution_count": null,
      "outputs": [
        {
          "output_type": "stream",
          "text": [
            " Results from Grid Search \n",
            "\n",
            "\n",
            " The best estimator across ALL searched params:\n",
            " KNeighborsClassifier(algorithm='auto', leaf_size=1, metric='minkowski',\n",
            "                     metric_params=None, n_jobs=None, n_neighbors=20, p=2,\n",
            "                     weights='uniform')\n",
            "\n",
            " The best score across ALL searched params:\n",
            " 0.8512396694214877\n",
            "\n",
            " The best parameters across ALL searched params:\n",
            " {'leaf_size': 1, 'n_neighbors': 20}\n"
          ],
          "name": "stdout"
        }
      ]
    },
    {
      "cell_type": "code",
      "metadata": {
        "colab": {
          "base_uri": "https://localhost:8080/"
        },
        "id": "vvWA5M0OnzJ0",
        "outputId": "34cba7e6-2785-46fc-dfd1-37cce313c32f"
      },
      "source": [
        "knn=KNeighborsClassifier(leaf_size=1,n_neighbors=20)\n",
        "knn.fit(x_train,y_train)"
      ],
      "execution_count": null,
      "outputs": [
        {
          "output_type": "execute_result",
          "data": {
            "text/plain": [
              "KNeighborsClassifier(algorithm='auto', leaf_size=1, metric='minkowski',\n",
              "                     metric_params=None, n_jobs=None, n_neighbors=20, p=2,\n",
              "                     weights='uniform')"
            ]
          },
          "metadata": {
            "tags": []
          },
          "execution_count": 111
        }
      ]
    },
    {
      "cell_type": "code",
      "metadata": {
        "colab": {
          "base_uri": "https://localhost:8080/",
          "height": 419
        },
        "id": "lhhBnGuFnzJ0",
        "outputId": "b9d49f8d-1610-451d-a203-6ba18d81a29c"
      },
      "source": [
        "yp3=knn.predict(x_test)\n",
        "yp3=pd.DataFrame(yp3)\n",
        "yp3"
      ],
      "execution_count": null,
      "outputs": [
        {
          "output_type": "execute_result",
          "data": {
            "text/html": [
              "<div>\n",
              "<style scoped>\n",
              "    .dataframe tbody tr th:only-of-type {\n",
              "        vertical-align: middle;\n",
              "    }\n",
              "\n",
              "    .dataframe tbody tr th {\n",
              "        vertical-align: top;\n",
              "    }\n",
              "\n",
              "    .dataframe thead th {\n",
              "        text-align: right;\n",
              "    }\n",
              "</style>\n",
              "<table border=\"1\" class=\"dataframe\">\n",
              "  <thead>\n",
              "    <tr style=\"text-align: right;\">\n",
              "      <th></th>\n",
              "      <th>0</th>\n",
              "    </tr>\n",
              "  </thead>\n",
              "  <tbody>\n",
              "    <tr>\n",
              "      <th>0</th>\n",
              "      <td>0</td>\n",
              "    </tr>\n",
              "    <tr>\n",
              "      <th>1</th>\n",
              "      <td>1</td>\n",
              "    </tr>\n",
              "    <tr>\n",
              "      <th>2</th>\n",
              "      <td>1</td>\n",
              "    </tr>\n",
              "    <tr>\n",
              "      <th>3</th>\n",
              "      <td>0</td>\n",
              "    </tr>\n",
              "    <tr>\n",
              "      <th>4</th>\n",
              "      <td>0</td>\n",
              "    </tr>\n",
              "    <tr>\n",
              "      <th>...</th>\n",
              "      <td>...</td>\n",
              "    </tr>\n",
              "    <tr>\n",
              "      <th>56</th>\n",
              "      <td>1</td>\n",
              "    </tr>\n",
              "    <tr>\n",
              "      <th>57</th>\n",
              "      <td>1</td>\n",
              "    </tr>\n",
              "    <tr>\n",
              "      <th>58</th>\n",
              "      <td>1</td>\n",
              "    </tr>\n",
              "    <tr>\n",
              "      <th>59</th>\n",
              "      <td>1</td>\n",
              "    </tr>\n",
              "    <tr>\n",
              "      <th>60</th>\n",
              "      <td>1</td>\n",
              "    </tr>\n",
              "  </tbody>\n",
              "</table>\n",
              "<p>61 rows × 1 columns</p>\n",
              "</div>"
            ],
            "text/plain": [
              "    0\n",
              "0   0\n",
              "1   1\n",
              "2   1\n",
              "3   0\n",
              "4   0\n",
              ".. ..\n",
              "56  1\n",
              "57  1\n",
              "58  1\n",
              "59  1\n",
              "60  1\n",
              "\n",
              "[61 rows x 1 columns]"
            ]
          },
          "metadata": {
            "tags": []
          },
          "execution_count": 112
        }
      ]
    },
    {
      "cell_type": "code",
      "metadata": {
        "colab": {
          "base_uri": "https://localhost:8080/",
          "height": 419
        },
        "id": "r1MgnOu9nzJ1",
        "outputId": "019315b2-15ec-4cbf-e484-e9d01c522938"
      },
      "source": [
        "p3=pd.concat([y_test,yp3],axis=1)\n",
        "p3"
      ],
      "execution_count": null,
      "outputs": [
        {
          "output_type": "execute_result",
          "data": {
            "text/html": [
              "<div>\n",
              "<style scoped>\n",
              "    .dataframe tbody tr th:only-of-type {\n",
              "        vertical-align: middle;\n",
              "    }\n",
              "\n",
              "    .dataframe tbody tr th {\n",
              "        vertical-align: top;\n",
              "    }\n",
              "\n",
              "    .dataframe thead th {\n",
              "        text-align: right;\n",
              "    }\n",
              "</style>\n",
              "<table border=\"1\" class=\"dataframe\">\n",
              "  <thead>\n",
              "    <tr style=\"text-align: right;\">\n",
              "      <th></th>\n",
              "      <th>0</th>\n",
              "      <th>0</th>\n",
              "    </tr>\n",
              "  </thead>\n",
              "  <tbody>\n",
              "    <tr>\n",
              "      <th>0</th>\n",
              "      <td>0</td>\n",
              "      <td>0</td>\n",
              "    </tr>\n",
              "    <tr>\n",
              "      <th>1</th>\n",
              "      <td>1</td>\n",
              "      <td>1</td>\n",
              "    </tr>\n",
              "    <tr>\n",
              "      <th>2</th>\n",
              "      <td>0</td>\n",
              "      <td>1</td>\n",
              "    </tr>\n",
              "    <tr>\n",
              "      <th>3</th>\n",
              "      <td>0</td>\n",
              "      <td>0</td>\n",
              "    </tr>\n",
              "    <tr>\n",
              "      <th>4</th>\n",
              "      <td>1</td>\n",
              "      <td>0</td>\n",
              "    </tr>\n",
              "    <tr>\n",
              "      <th>...</th>\n",
              "      <td>...</td>\n",
              "      <td>...</td>\n",
              "    </tr>\n",
              "    <tr>\n",
              "      <th>56</th>\n",
              "      <td>1</td>\n",
              "      <td>1</td>\n",
              "    </tr>\n",
              "    <tr>\n",
              "      <th>57</th>\n",
              "      <td>0</td>\n",
              "      <td>1</td>\n",
              "    </tr>\n",
              "    <tr>\n",
              "      <th>58</th>\n",
              "      <td>1</td>\n",
              "      <td>1</td>\n",
              "    </tr>\n",
              "    <tr>\n",
              "      <th>59</th>\n",
              "      <td>1</td>\n",
              "      <td>1</td>\n",
              "    </tr>\n",
              "    <tr>\n",
              "      <th>60</th>\n",
              "      <td>1</td>\n",
              "      <td>1</td>\n",
              "    </tr>\n",
              "  </tbody>\n",
              "</table>\n",
              "<p>61 rows × 2 columns</p>\n",
              "</div>"
            ],
            "text/plain": [
              "    0  0\n",
              "0   0  0\n",
              "1   1  1\n",
              "2   0  1\n",
              "3   0  0\n",
              "4   1  0\n",
              ".. .. ..\n",
              "56  1  1\n",
              "57  0  1\n",
              "58  1  1\n",
              "59  1  1\n",
              "60  1  1\n",
              "\n",
              "[61 rows x 2 columns]"
            ]
          },
          "metadata": {
            "tags": []
          },
          "execution_count": 113
        }
      ]
    },
    {
      "cell_type": "code",
      "metadata": {
        "colab": {
          "base_uri": "https://localhost:8080/"
        },
        "id": "gFUKGiwNnzJ1",
        "outputId": "4e774480-aea5-4059-8d35-53690fc93cac"
      },
      "source": [
        "cm=confusion_matrix(y_test,yp3)\n",
        "cm"
      ],
      "execution_count": null,
      "outputs": [
        {
          "output_type": "execute_result",
          "data": {
            "text/plain": [
              "array([[19,  8],\n",
              "       [ 4, 30]])"
            ]
          },
          "metadata": {
            "tags": []
          },
          "execution_count": 114
        }
      ]
    },
    {
      "cell_type": "code",
      "metadata": {
        "colab": {
          "base_uri": "https://localhost:8080/"
        },
        "id": "lILYqc1KnzJ1",
        "outputId": "d868d459-b873-4e91-a6e4-f1bff5b20bd7"
      },
      "source": [
        "print(classification_report(y_test,yp3))"
      ],
      "execution_count": null,
      "outputs": [
        {
          "output_type": "stream",
          "text": [
            "              precision    recall  f1-score   support\n",
            "\n",
            "           0       0.83      0.70      0.76        27\n",
            "           1       0.79      0.88      0.83        34\n",
            "\n",
            "    accuracy                           0.80        61\n",
            "   macro avg       0.81      0.79      0.80        61\n",
            "weighted avg       0.81      0.80      0.80        61\n",
            "\n"
          ],
          "name": "stdout"
        }
      ]
    },
    {
      "cell_type": "code",
      "metadata": {
        "colab": {
          "base_uri": "https://localhost:8080/"
        },
        "id": "_B_5iWkanzJ2",
        "outputId": "1089d45d-54bf-4090-99cd-2d730b2cee3a"
      },
      "source": [
        "logloss=log_loss(y_test,yp3)\n",
        "logloss"
      ],
      "execution_count": null,
      "outputs": [
        {
          "output_type": "execute_result",
          "data": {
            "text/plain": [
              "6.794618254399504"
            ]
          },
          "metadata": {
            "tags": []
          },
          "execution_count": 116
        }
      ]
    },
    {
      "cell_type": "code",
      "metadata": {
        "colab": {
          "base_uri": "https://localhost:8080/"
        },
        "id": "eE-jeyWXnzJ2",
        "outputId": "84f0531e-422a-4bb9-9ccb-98059ed8ff5e"
      },
      "source": [
        "d=accuracy_score(y_test,yp3)\n",
        "d"
      ],
      "execution_count": null,
      "outputs": [
        {
          "output_type": "execute_result",
          "data": {
            "text/plain": [
              "0.8032786885245902"
            ]
          },
          "metadata": {
            "tags": []
          },
          "execution_count": 117
        }
      ]
    },
    {
      "cell_type": "code",
      "metadata": {
        "colab": {
          "base_uri": "https://localhost:8080/"
        },
        "id": "Dmhp04ITnzJ2",
        "outputId": "28b6db12-e701-4aa7-e8b9-1806ec26dcde"
      },
      "source": [
        "from sklearn.naive_bayes import GaussianNB\n",
        "nb=GaussianNB()\n",
        "nb.fit(x_train,y_train)"
      ],
      "execution_count": null,
      "outputs": [
        {
          "output_type": "execute_result",
          "data": {
            "text/plain": [
              "GaussianNB(priors=None, var_smoothing=1e-09)"
            ]
          },
          "metadata": {
            "tags": []
          },
          "execution_count": 118
        }
      ]
    },
    {
      "cell_type": "code",
      "metadata": {
        "colab": {
          "base_uri": "https://localhost:8080/",
          "height": 419
        },
        "id": "1Eq8-YRtnzJ2",
        "outputId": "eaf50603-0eb7-4a63-b0df-c082fd335c6e"
      },
      "source": [
        "yp4=nb.predict(x_test)\n",
        "yp4=pd.DataFrame(yp4)\n",
        "yp4"
      ],
      "execution_count": null,
      "outputs": [
        {
          "output_type": "execute_result",
          "data": {
            "text/html": [
              "<div>\n",
              "<style scoped>\n",
              "    .dataframe tbody tr th:only-of-type {\n",
              "        vertical-align: middle;\n",
              "    }\n",
              "\n",
              "    .dataframe tbody tr th {\n",
              "        vertical-align: top;\n",
              "    }\n",
              "\n",
              "    .dataframe thead th {\n",
              "        text-align: right;\n",
              "    }\n",
              "</style>\n",
              "<table border=\"1\" class=\"dataframe\">\n",
              "  <thead>\n",
              "    <tr style=\"text-align: right;\">\n",
              "      <th></th>\n",
              "      <th>0</th>\n",
              "    </tr>\n",
              "  </thead>\n",
              "  <tbody>\n",
              "    <tr>\n",
              "      <th>0</th>\n",
              "      <td>0</td>\n",
              "    </tr>\n",
              "    <tr>\n",
              "      <th>1</th>\n",
              "      <td>1</td>\n",
              "    </tr>\n",
              "    <tr>\n",
              "      <th>2</th>\n",
              "      <td>1</td>\n",
              "    </tr>\n",
              "    <tr>\n",
              "      <th>3</th>\n",
              "      <td>0</td>\n",
              "    </tr>\n",
              "    <tr>\n",
              "      <th>4</th>\n",
              "      <td>0</td>\n",
              "    </tr>\n",
              "    <tr>\n",
              "      <th>...</th>\n",
              "      <td>...</td>\n",
              "    </tr>\n",
              "    <tr>\n",
              "      <th>56</th>\n",
              "      <td>1</td>\n",
              "    </tr>\n",
              "    <tr>\n",
              "      <th>57</th>\n",
              "      <td>1</td>\n",
              "    </tr>\n",
              "    <tr>\n",
              "      <th>58</th>\n",
              "      <td>1</td>\n",
              "    </tr>\n",
              "    <tr>\n",
              "      <th>59</th>\n",
              "      <td>1</td>\n",
              "    </tr>\n",
              "    <tr>\n",
              "      <th>60</th>\n",
              "      <td>1</td>\n",
              "    </tr>\n",
              "  </tbody>\n",
              "</table>\n",
              "<p>61 rows × 1 columns</p>\n",
              "</div>"
            ],
            "text/plain": [
              "    0\n",
              "0   0\n",
              "1   1\n",
              "2   1\n",
              "3   0\n",
              "4   0\n",
              ".. ..\n",
              "56  1\n",
              "57  1\n",
              "58  1\n",
              "59  1\n",
              "60  1\n",
              "\n",
              "[61 rows x 1 columns]"
            ]
          },
          "metadata": {
            "tags": []
          },
          "execution_count": 119
        }
      ]
    },
    {
      "cell_type": "code",
      "metadata": {
        "colab": {
          "base_uri": "https://localhost:8080/",
          "height": 419
        },
        "id": "42dIGXn6nzJ3",
        "outputId": "c760b234-041d-4fb9-ff62-b5e4359ef1b0"
      },
      "source": [
        "p4=pd.concat([y_test,yp4],axis=1)\n",
        "p4"
      ],
      "execution_count": null,
      "outputs": [
        {
          "output_type": "execute_result",
          "data": {
            "text/html": [
              "<div>\n",
              "<style scoped>\n",
              "    .dataframe tbody tr th:only-of-type {\n",
              "        vertical-align: middle;\n",
              "    }\n",
              "\n",
              "    .dataframe tbody tr th {\n",
              "        vertical-align: top;\n",
              "    }\n",
              "\n",
              "    .dataframe thead th {\n",
              "        text-align: right;\n",
              "    }\n",
              "</style>\n",
              "<table border=\"1\" class=\"dataframe\">\n",
              "  <thead>\n",
              "    <tr style=\"text-align: right;\">\n",
              "      <th></th>\n",
              "      <th>0</th>\n",
              "      <th>0</th>\n",
              "    </tr>\n",
              "  </thead>\n",
              "  <tbody>\n",
              "    <tr>\n",
              "      <th>0</th>\n",
              "      <td>0</td>\n",
              "      <td>0</td>\n",
              "    </tr>\n",
              "    <tr>\n",
              "      <th>1</th>\n",
              "      <td>1</td>\n",
              "      <td>1</td>\n",
              "    </tr>\n",
              "    <tr>\n",
              "      <th>2</th>\n",
              "      <td>0</td>\n",
              "      <td>1</td>\n",
              "    </tr>\n",
              "    <tr>\n",
              "      <th>3</th>\n",
              "      <td>0</td>\n",
              "      <td>0</td>\n",
              "    </tr>\n",
              "    <tr>\n",
              "      <th>4</th>\n",
              "      <td>1</td>\n",
              "      <td>0</td>\n",
              "    </tr>\n",
              "    <tr>\n",
              "      <th>...</th>\n",
              "      <td>...</td>\n",
              "      <td>...</td>\n",
              "    </tr>\n",
              "    <tr>\n",
              "      <th>56</th>\n",
              "      <td>1</td>\n",
              "      <td>1</td>\n",
              "    </tr>\n",
              "    <tr>\n",
              "      <th>57</th>\n",
              "      <td>0</td>\n",
              "      <td>1</td>\n",
              "    </tr>\n",
              "    <tr>\n",
              "      <th>58</th>\n",
              "      <td>1</td>\n",
              "      <td>1</td>\n",
              "    </tr>\n",
              "    <tr>\n",
              "      <th>59</th>\n",
              "      <td>1</td>\n",
              "      <td>1</td>\n",
              "    </tr>\n",
              "    <tr>\n",
              "      <th>60</th>\n",
              "      <td>1</td>\n",
              "      <td>1</td>\n",
              "    </tr>\n",
              "  </tbody>\n",
              "</table>\n",
              "<p>61 rows × 2 columns</p>\n",
              "</div>"
            ],
            "text/plain": [
              "    0  0\n",
              "0   0  0\n",
              "1   1  1\n",
              "2   0  1\n",
              "3   0  0\n",
              "4   1  0\n",
              ".. .. ..\n",
              "56  1  1\n",
              "57  0  1\n",
              "58  1  1\n",
              "59  1  1\n",
              "60  1  1\n",
              "\n",
              "[61 rows x 2 columns]"
            ]
          },
          "metadata": {
            "tags": []
          },
          "execution_count": 120
        }
      ]
    },
    {
      "cell_type": "code",
      "metadata": {
        "colab": {
          "base_uri": "https://localhost:8080/"
        },
        "id": "w_c8Se1EnzJ3",
        "outputId": "d5b5bbb2-eb4a-4f0a-bf63-f1b8b5df8b5b"
      },
      "source": [
        "\n",
        "cm=confusion_matrix(y_test,yp4)\n",
        "cm"
      ],
      "execution_count": null,
      "outputs": [
        {
          "output_type": "execute_result",
          "data": {
            "text/plain": [
              "array([[21,  6],\n",
              "       [ 5, 29]])"
            ]
          },
          "metadata": {
            "tags": []
          },
          "execution_count": 121
        }
      ]
    },
    {
      "cell_type": "code",
      "metadata": {
        "colab": {
          "base_uri": "https://localhost:8080/"
        },
        "id": "NvmL7knbnzJ3",
        "outputId": "e567e9aa-e773-4c96-ad7f-a8b5bf63745f"
      },
      "source": [
        "print(classification_report(y_test,yp4))"
      ],
      "execution_count": null,
      "outputs": [
        {
          "output_type": "stream",
          "text": [
            "              precision    recall  f1-score   support\n",
            "\n",
            "           0       0.81      0.78      0.79        27\n",
            "           1       0.83      0.85      0.84        34\n",
            "\n",
            "    accuracy                           0.82        61\n",
            "   macro avg       0.82      0.82      0.82        61\n",
            "weighted avg       0.82      0.82      0.82        61\n",
            "\n"
          ],
          "name": "stdout"
        }
      ]
    },
    {
      "cell_type": "code",
      "metadata": {
        "colab": {
          "base_uri": "https://localhost:8080/"
        },
        "id": "0IoIxL27nzJ4",
        "outputId": "ade4a1d4-048c-4b55-cea8-debe16884a64"
      },
      "source": [
        "logloss=log_loss(y_test,yp4)\n",
        "logloss"
      ],
      "execution_count": null,
      "outputs": [
        {
          "output_type": "execute_result",
          "data": {
            "text/plain": [
              "6.228382588993421"
            ]
          },
          "metadata": {
            "tags": []
          },
          "execution_count": 123
        }
      ]
    },
    {
      "cell_type": "code",
      "metadata": {
        "colab": {
          "base_uri": "https://localhost:8080/"
        },
        "id": "Yn4PFoQxnzJ4",
        "outputId": "a42b1b50-992b-4739-8733-8736709cb7db"
      },
      "source": [
        "e=accuracy_score(y_test,yp4)\n",
        "e"
      ],
      "execution_count": null,
      "outputs": [
        {
          "output_type": "execute_result",
          "data": {
            "text/plain": [
              "0.819672131147541"
            ]
          },
          "metadata": {
            "tags": []
          },
          "execution_count": 124
        }
      ]
    },
    {
      "cell_type": "code",
      "metadata": {
        "id": "T0X0KNOFnzJ4"
      },
      "source": [
        "from sklearn.svm import SVC"
      ],
      "execution_count": null,
      "outputs": []
    },
    {
      "cell_type": "code",
      "metadata": {
        "id": "r-YVNVc7nzJ4"
      },
      "source": [
        "from sklearn.preprocessing import StandardScaler\n",
        "sc=StandardScaler()\n",
        "x_train=sc.fit_transform(x_train)\n",
        "x_test=sc.fit_transform(x_test)"
      ],
      "execution_count": null,
      "outputs": []
    },
    {
      "cell_type": "code",
      "metadata": {
        "colab": {
          "base_uri": "https://localhost:8080/"
        },
        "id": "5TkNTEEfnzJ5",
        "outputId": "9096e561-c52e-4992-b37f-0d047dfae8eb"
      },
      "source": [
        "x_train"
      ],
      "execution_count": null,
      "outputs": [
        {
          "output_type": "execute_result",
          "data": {
            "text/plain": [
              "array([[-1.32773282,  1.43641607, -0.96747093, ..., -0.27487371,\n",
              "         0.83918136, -0.09128709],\n",
              "       [ 1.24903178,  1.43641607, -0.96747093, ..., -0.27487371,\n",
              "        -1.19163753, -0.09128709],\n",
              "       [ 0.35276583, -0.69617712, -0.96747093, ..., -0.27487371,\n",
              "         0.83918136, -0.09128709],\n",
              "       ...,\n",
              "       [ 0.12869935, -0.69617712, -0.96747093, ..., -0.27487371,\n",
              "         0.83918136, -0.09128709],\n",
              "       [-0.87959984, -0.69617712, -0.96747093, ..., -0.27487371,\n",
              "         0.83918136, -0.09128709],\n",
              "       [ 0.35276583, -0.69617712, -0.96747093, ..., -0.27487371,\n",
              "         0.83918136, -0.09128709]])"
            ]
          },
          "metadata": {
            "tags": []
          },
          "execution_count": 127
        }
      ]
    },
    {
      "cell_type": "code",
      "metadata": {
        "colab": {
          "base_uri": "https://localhost:8080/"
        },
        "id": "RkqhUQ1vnzJ5",
        "outputId": "76b5fcc8-6bad-4550-ea18-da21418f65c8"
      },
      "source": [
        "x_test"
      ],
      "execution_count": null,
      "outputs": [
        {
          "output_type": "execute_result",
          "data": {
            "text/plain": [
              "array([[ 1.87528580e+00, -6.21581561e-01,  1.16023870e+00,\n",
              "         7.38067738e-01, -1.57231830e+00,  4.16025147e-01,\n",
              "        -8.91132789e-01, -1.09707537e+00, -1.54560308e+00,\n",
              "         1.62748286e+00,  3.77491722e+00,  9.21132373e-01,\n",
              "         0.00000000e+00],\n",
              "       [ 1.23443183e+00, -6.21581561e-01, -8.61891607e-01,\n",
              "         2.04685065e+00, -3.86846038e-01,  4.16025147e-01,\n",
              "         1.12216722e+00,  2.78025949e-01,  6.46996639e-01,\n",
              "        -3.40335861e-01, -2.64906471e-01,  9.21132373e-01,\n",
              "         0.00000000e+00],\n",
              "       [ 7.00386852e-01, -6.21581561e-01, -8.61891607e-01,\n",
              "         2.04685065e+00,  9.77565437e-01,  4.16025147e-01,\n",
              "         1.12216722e+00,  4.61372791e-01,  6.46996639e-01,\n",
              "        -7.33899606e-01, -2.64906471e-01,  9.21132373e-01,\n",
              "         0.00000000e+00],\n",
              "       [ 8.07195847e-01, -6.21581561e-01,  1.16023870e+00,\n",
              "        -3.08958588e-01,  3.06543400e-01,  4.16025147e-01,\n",
              "         1.12216722e+00, -3.63687998e-01, -1.54560308e+00,\n",
              "         1.82426474e+00, -2.64906471e-01, -1.08562030e+00,\n",
              "         0.00000000e+00],\n",
              "       [ 1.02081384e+00, -6.21581561e-01, -8.61891607e-01,\n",
              "        -4.72020065e-02, -2.97376433e-01,  4.16025147e-01,\n",
              "        -8.91132789e-01, -1.34504446e-01,  6.46996639e-01,\n",
              "         8.40355374e-01, -2.64906471e-01, -1.08562030e+00,\n",
              "         0.00000000e+00],\n",
              "       [-4.74512092e-01, -6.21581561e-01,  1.16023870e+00,\n",
              "        -3.61309905e-01,  6.64421820e-01,  4.16025147e-01,\n",
              "         1.12216722e+00,  7.82229765e-01,  6.46996639e-01,\n",
              "        -4.38726798e-01, -2.64906471e-01,  9.21132373e-01,\n",
              "         0.00000000e+00],\n",
              "       [-1.32898405e+00, -6.21581561e-01,  1.16023870e+00,\n",
              "        -1.09422833e+00, -1.72889011e+00,  4.16025147e-01,\n",
              "         1.12216722e+00, -1.60127918e+00, -1.54560308e+00,\n",
              "         1.03713725e+00, -2.64906471e-01,  9.21132373e-01,\n",
              "         0.00000000e+00],\n",
              "       [ 1.12762283e+00, -6.21581561e-01,  1.16023870e+00,\n",
              "        -4.72020065e-02,  2.17073795e-01,  4.16025147e-01,\n",
              "         1.12216722e+00, -8.86677351e-02,  6.46996639e-01,\n",
              "         4.46791629e-01, -2.64906471e-01, -1.08562030e+00,\n",
              "         0.00000000e+00],\n",
              "       [ 3.79959867e-01,  1.60879933e+00,  1.16023870e+00,\n",
              "         3.61739014e+00,  9.77565437e-01, -2.40370085e+00,\n",
              "         1.12216722e+00, -7.30381683e-01, -1.54560308e+00,\n",
              "         3.00495597e+00,  3.77491722e+00, -1.08562030e+00,\n",
              "         0.00000000e+00],\n",
              "       [ 1.12762283e+00, -6.21581561e-01,  1.16023870e+00,\n",
              "        -4.72020065e-02,  1.91699629e+00, -2.40370085e+00,\n",
              "         1.12216722e+00, -7.76218393e-01, -1.54560308e+00,\n",
              "         8.40355374e-01, -2.64906471e-01, -1.08562030e+00,\n",
              "         0.00000000e+00],\n",
              "       [ 4.86768862e-01, -6.21581561e-01, -8.61891607e-01,\n",
              "         9.99824320e-01, -2.64595356e+00, -2.40370085e+00,\n",
              "        -8.91132789e-01,  1.10308674e+00,  6.46996639e-01,\n",
              "        -7.33899606e-01, -2.64906471e-01, -1.08562030e+00,\n",
              "         0.00000000e+00],\n",
              "       [-3.67703097e-01,  1.60879933e+00,  1.16023870e+00,\n",
              "        -4.72020065e-02,  5.52584814e-01,  4.16025147e-01,\n",
              "        -8.91132789e-01,  6.44719633e-01,  6.46996639e-01,\n",
              "        -9.30681479e-01, -2.64906471e-01,  9.21132373e-01,\n",
              "         0.00000000e+00],\n",
              "       [ 1.34124082e+00, -6.21581561e-01,  1.16023870e+00,\n",
              "         2.14554575e-01,  2.17073795e-01,  4.16025147e-01,\n",
              "         1.12216722e+00, -1.00540195e+00,  6.46996639e-01,\n",
              "         1.82426474e+00, -2.64906471e-01, -1.08562030e+00,\n",
              "         0.00000000e+00],\n",
              "       [-3.67703097e-01, -6.21581561e-01, -8.61891607e-01,\n",
              "        -4.72020065e-02,  4.85482610e-01,  4.16025147e-01,\n",
              "        -8.91132789e-01,  1.01141332e+00,  6.46996639e-01,\n",
              "        -3.40335861e-01, -2.64906471e-01,  9.21132373e-01,\n",
              "         0.00000000e+00],\n",
              "       [-2.60894102e-01,  1.60879933e+00, -8.61891607e-01,\n",
              "        -5.70715170e-01, -5.65785247e-01,  4.16025147e-01,\n",
              "        -8.91132789e-01,  4.15536081e-01,  6.46996639e-01,\n",
              "         6.43573501e-01, -2.64906471e-01,  9.21132373e-01,\n",
              "         0.00000000e+00],\n",
              "       [-1.54085107e-01, -6.21581561e-01, -8.61891607e-01,\n",
              "        -1.61774150e+00, -4.98683044e-01,  4.16025147e-01,\n",
              "        -8.91132789e-01, -2.72014577e-01, -1.54560308e+00,\n",
              "         2.50009756e-01, -2.64906471e-01,  9.21132373e-01,\n",
              "         0.00000000e+00],\n",
              "       [-4.72761125e-02, -6.21581561e-01,  1.16023870e+00,\n",
              "        -1.19893097e+00, -2.52641630e-01, -2.40370085e+00,\n",
              "        -8.91132789e-01, -8.86677351e-02,  6.46996639e-01,\n",
              "        -8.32290543e-01, -2.64906471e-01, -1.08562030e+00,\n",
              "         0.00000000e+00],\n",
              "       [-4.74512092e-01, -6.21581561e-01, -8.61891607e-01,\n",
              "        -3.61309905e-01,  2.39441197e-01, -2.40370085e+00,\n",
              "        -8.91132789e-01,  1.19476016e+00,  6.46996639e-01,\n",
              "        -9.30681479e-01, -2.64906471e-01, -1.08562030e+00,\n",
              "         0.00000000e+00],\n",
              "       [ 1.02081384e+00, -6.21581561e-01,  1.16023870e+00,\n",
              "        -5.70715170e-01,  5.07850011e-01,  4.16025147e-01,\n",
              "        -8.91132789e-01, -2.28882984e+00, -1.54560308e+00,\n",
              "         8.40355374e-01, -2.64906471e-01, -1.08562030e+00,\n",
              "         0.00000000e+00],\n",
              "       [-1.11536606e+00, -6.21581561e-01, -8.61891607e-01,\n",
              "        -5.70715170e-01, -9.60698217e-02, -2.40370085e+00,\n",
              "        -8.91132789e-01,  2.06565766e+00,  6.46996639e-01,\n",
              "        -1.43553989e-01,  3.77491722e+00,  9.21132373e-01,\n",
              "         0.00000000e+00],\n",
              "       [-1.11536606e+00, -6.21581561e-01,  1.16023870e+00,\n",
              "         4.76311157e-01, -4.09213439e-01,  4.16025147e-01,\n",
              "        -8.91132789e-01,  1.33227029e+00,  6.46996639e-01,\n",
              "        -9.30681479e-01, -2.64906471e-01,  9.21132373e-01,\n",
              "         0.00000000e+00],\n",
              "       [-1.43579305e+00, -6.21581561e-01,  1.16023870e+00,\n",
              "        -6.75417803e-01, -5.65785247e-01,  4.16025147e-01,\n",
              "        -8.91132789e-01, -4.09524709e-01,  6.46996639e-01,\n",
              "         2.50009756e-01, -2.64906471e-01,  9.21132373e-01,\n",
              "         0.00000000e+00],\n",
              "       [ 1.02081384e+00, -6.21581561e-01, -8.61891607e-01,\n",
              "        -5.70715170e-01,  8.20993629e-01,  4.16025147e-01,\n",
              "         1.12216722e+00, -2.10548300e+00,  6.46996639e-01,\n",
              "         4.46791629e-01, -2.64906471e-01, -1.08562030e+00,\n",
              "         0.00000000e+00],\n",
              "       [ 1.66341877e-01, -6.21581561e-01,  1.16023870e+00,\n",
              "        -1.09422833e+00, -8.56561463e-01,  4.16025147e-01,\n",
              "         1.12216722e+00, -1.87629945e+00, -1.54560308e+00,\n",
              "        -9.30681479e-01, -2.64906471e-01, -1.08562030e+00,\n",
              "         0.00000000e+00],\n",
              "       [-1.22217506e+00, -6.21581561e-01, -8.61891607e-01,\n",
              "        -1.09422833e+00, -2.07906828e-01,  4.16025147e-01,\n",
              "        -8.91132789e-01,  1.86352528e-01,  6.46996639e-01,\n",
              "        -9.30681479e-01, -2.64906471e-01,  9.21132373e-01,\n",
              "         0.00000000e+00],\n",
              "       [ 1.02081384e+00,  1.60879933e+00, -8.61891607e-01,\n",
              "        -4.72020065e-02,  4.18380407e-01,  4.16025147e-01,\n",
              "        -8.91132789e-01, -2.38050326e+00,  6.46996639e-01,\n",
              "         2.50009756e-01, -2.64906471e-01, -1.08562030e+00,\n",
              "         0.00000000e+00],\n",
              "       [-4.72761125e-02, -6.21581561e-01,  1.16023870e+00,\n",
              "        -3.08958588e-01, -7.22357056e-01,  4.16025147e-01,\n",
              "        -8.91132789e-01,  8.73903186e-01,  6.46996639e-01,\n",
              "         5.32278835e-02, -2.64906471e-01, -1.08562030e+00,\n",
              "         0.00000000e+00],\n",
              "       [-6.88130082e-01, -6.21581561e-01,  1.16023870e+00,\n",
              "        -5.70715170e-01,  1.05236789e-01,  4.16025147e-01,\n",
              "         1.12216722e+00, -2.26177867e-01,  6.46996639e-01,\n",
              "        -1.43553989e-01, -2.64906471e-01,  9.21132373e-01,\n",
              "         0.00000000e+00],\n",
              "       [-1.43579305e+00,  1.60879933e+00, -8.61891607e-01,\n",
              "         3.71608524e-01, -5.43417846e-01,  4.16025147e-01,\n",
              "        -8.91132789e-01,  1.40515818e-01,  6.46996639e-01,\n",
              "        -9.30681479e-01, -2.64906471e-01,  9.21132373e-01,\n",
              "         0.00000000e+00],\n",
              "       [-4.72761125e-02, -6.21581561e-01, -8.61891607e-01,\n",
              "         1.62203259e-01, -9.68398469e-01,  4.16025147e-01,\n",
              "        -8.91132789e-01,  4.15536081e-01,  6.46996639e-01,\n",
              "        -1.43553989e-01, -2.64906471e-01, -1.08562030e+00,\n",
              "         0.00000000e+00],\n",
              "       [ 8.07195847e-01, -6.21581561e-01, -8.61891607e-01,\n",
              "         4.76311157e-01, -1.32627689e+00,  4.16025147e-01,\n",
              "         1.12216722e+00,  2.78025949e-01,  6.46996639e-01,\n",
              "         2.02104661e+00, -2.64906471e-01,  9.21132373e-01,\n",
              "         0.00000000e+00],\n",
              "       [-7.94939077e-01, -6.21581561e-01,  1.16023870e+00,\n",
              "         5.81013789e-01,  1.44728086e+00,  4.16025147e-01,\n",
              "         1.12216722e+00, -8.86677351e-02, -1.54560308e+00,\n",
              "        -9.30681479e-01, -2.64906471e-01, -1.08562030e+00,\n",
              "         0.00000000e+00],\n",
              "       [-1.22217506e+00,  1.60879933e+00, -8.61891607e-01,\n",
              "        -2.56607272e-01,  1.38017866e+00,  4.16025147e-01,\n",
              "        -8.91132789e-01,  6.44719633e-01,  6.46996639e-01,\n",
              "        -9.30681479e-01, -2.64906471e-01,  9.21132373e-01,\n",
              "         0.00000000e+00],\n",
              "       [-4.72761125e-02, -6.21581561e-01, -8.61891607e-01,\n",
              "         2.15155328e+00, -1.01313327e+00, -2.40370085e+00,\n",
              "        -8.91132789e-01,  5.98882923e-01,  6.46996639e-01,\n",
              "        -4.38726798e-01, -2.64906471e-01,  9.21132373e-01,\n",
              "         0.00000000e+00],\n",
              "       [-1.86302903e+00, -6.21581561e-01, -8.61891607e-01,\n",
              "        -4.66012537e-01, -1.16970508e+00,  4.16025147e-01,\n",
              "        -8.91132789e-01,  1.14892345e+00,  6.46996639e-01,\n",
              "        -9.30681479e-01, -2.64906471e-01,  9.21132373e-01,\n",
              "         0.00000000e+00],\n",
              "       [ 7.00386852e-01,  1.60879933e+00,  1.16023870e+00,\n",
              "         2.25625591e+00,  1.05236789e-01,  4.16025147e-01,\n",
              "        -8.91132789e-01, -2.72014577e-01, -1.54560308e+00,\n",
              "        -9.30681479e-01, -2.64906471e-01,  9.21132373e-01,\n",
              "         0.00000000e+00],\n",
              "       [ 1.87528580e+00, -6.21581561e-01, -8.61891607e-01,\n",
              "         1.52333748e+00,  5.52584814e-01,  4.16025147e-01,\n",
              "        -8.91132789e-01, -1.69295260e+00, -1.54560308e+00,\n",
              "         1.92265567e+00, -2.64906471e-01, -1.08562030e+00,\n",
              "         0.00000000e+00],\n",
              "       [-7.94939077e-01, -6.21581561e-01, -8.61891607e-01,\n",
              "        -1.51904639e-01,  1.42491346e+00,  4.16025147e-01,\n",
              "         1.12216722e+00,  9.65576607e-01,  6.46996639e-01,\n",
              "        -9.30681479e-01, -2.64906471e-01,  9.21132373e-01,\n",
              "         0.00000000e+00],\n",
              "       [ 3.79959867e-01, -6.21581561e-01,  1.16023870e+00,\n",
              "        -3.08958588e-01,  1.05236789e-01, -2.40370085e+00,\n",
              "         1.12216722e+00, -2.26177867e-01, -1.54560308e+00,\n",
              "         2.50009756e-01, -2.64906471e-01, -1.08562030e+00,\n",
              "         0.00000000e+00],\n",
              "       [ 1.02081384e+00,  1.60879933e+00,  1.16023870e+00,\n",
              "         4.76311157e-01,  5.30217413e-01,  4.16025147e-01,\n",
              "         1.12216722e+00,  5.07209502e-01,  6.46996639e-01,\n",
              "         2.61139223e+00,  3.77491722e+00, -1.08562030e+00,\n",
              "         0.00000000e+00],\n",
              "       [ 4.86768862e-01, -6.21581561e-01,  1.16023870e+00,\n",
              "         4.76311157e-01, -1.16970508e+00,  4.16025147e-01,\n",
              "        -8.91132789e-01, -4.28310246e-02,  6.46996639e-01,\n",
              "        -5.37117734e-01, -2.64906471e-01,  9.21132373e-01,\n",
              "         0.00000000e+00],\n",
              "       [ 4.86768862e-01,  1.60879933e+00,  1.16023870e+00,\n",
              "        -1.51904639e-01,  1.31307646e+00,  4.16025147e-01,\n",
              "         1.12216722e+00,  4.61372791e-01,  6.46996639e-01,\n",
              "        -9.30681479e-01, -2.64906471e-01, -1.08562030e+00,\n",
              "         0.00000000e+00],\n",
              "       [-4.72761125e-02, -6.21581561e-01, -8.61891607e-01,\n",
              "         3.71608524e-01, -4.76315642e-01,  4.16025147e-01,\n",
              "        -8.91132789e-01,  9.19739897e-01,  6.46996639e-01,\n",
              "        -9.30681479e-01, -2.64906471e-01, -1.08562030e+00,\n",
              "         0.00000000e+00],\n",
              "       [-5.81321087e-01, -6.21581561e-01,  1.16023870e+00,\n",
              "        -1.09422833e+00,  6.86789221e-01,  4.16025147e-01,\n",
              "         1.12216722e+00, -1.41793234e+00, -1.54560308e+00,\n",
              "         5.32278835e-02, -2.64906471e-01, -1.08562030e+00,\n",
              "         0.00000000e+00],\n",
              "       [-1.54085107e-01, -6.21581561e-01, -8.61891607e-01,\n",
              "        -3.08958588e-01, -6.99989655e-01,  4.16025147e-01,\n",
              "         1.12216722e+00, -1.09707537e+00, -1.54560308e+00,\n",
              "         4.46791629e-01, -2.64906471e-01, -1.08562030e+00,\n",
              "         0.00000000e+00],\n",
              "       [ 1.87528580e+00, -6.21581561e-01, -8.61891607e-01,\n",
              "         1.31393222e+00,  1.57671845e-02,  4.16025147e-01,\n",
              "         1.12216722e+00, -2.72014577e-01,  6.46996639e-01,\n",
              "        -9.30681479e-01, -2.64906471e-01,  9.21132373e-01,\n",
              "         0.00000000e+00],\n",
              "       [-1.22217506e+00, -6.21581561e-01, -8.61891607e-01,\n",
              "        -4.72020065e-02, -6.77622253e-01,  4.16025147e-01,\n",
              "         1.12216722e+00,  8.73903186e-01,  6.46996639e-01,\n",
              "         1.03713725e+00, -2.64906471e-01,  9.21132373e-01,\n",
              "         0.00000000e+00],\n",
              "       [-2.60894102e-01, -6.21581561e-01, -8.61891607e-01,\n",
              "         4.76311157e-01, -2.52641630e-01,  4.16025147e-01,\n",
              "        -8.91132789e-01,  6.44719633e-01,  6.46996639e-01,\n",
              "        -3.40335861e-01, -2.64906471e-01, -1.08562030e+00,\n",
              "         0.00000000e+00],\n",
              "       [ 3.79959867e-01,  1.60879933e+00,  1.16023870e+00,\n",
              "         1.62203259e-01,  3.68402099e+00,  4.16025147e-01,\n",
              "         1.12216722e+00,  4.88423965e-02, -1.54560308e+00,\n",
              "         9.38746310e-01, -2.64906471e-01, -1.08562030e+00,\n",
              "         0.00000000e+00],\n",
              "       [-9.01748072e-01, -6.21581561e-01, -8.61891607e-01,\n",
              "        -5.70715170e-01,  4.18380407e-01,  4.16025147e-01,\n",
              "        -8.91132789e-01,  1.10308674e+00,  6.46996639e-01,\n",
              "        -9.30681479e-01, -2.64906471e-01,  9.21132373e-01,\n",
              "         0.00000000e+00],\n",
              "       [-4.72761125e-02, -6.21581561e-01, -8.61891607e-01,\n",
              "        -5.70715170e-01,  1.80515928e+00,  4.16025147e-01,\n",
              "        -8.91132789e-01,  1.05725003e+00,  6.46996639e-01,\n",
              "        -7.33899606e-01, -2.64906471e-01,  9.21132373e-01,\n",
              "         0.00000000e+00],\n",
              "       [ 2.30252177e+00,  1.60879933e+00, -8.61891607e-01,\n",
              "        -5.70715170e-01,  5.52584814e-01,  4.16025147e-01,\n",
              "         1.12216722e+00, -1.28042221e+00, -1.54560308e+00,\n",
              "        -7.33899606e-01, -2.64906471e-01, -1.08562030e+00,\n",
              "         0.00000000e+00],\n",
              "       [-1.22217506e+00,  1.60879933e+00, -8.61891607e-01,\n",
              "        -9.89525700e-01,  5.30217413e-01,  4.16025147e-01,\n",
              "         1.12216722e+00,  1.05725003e+00, -1.54560308e+00,\n",
              "        -9.30681479e-01, -2.64906471e-01,  9.21132373e-01,\n",
              "         0.00000000e+00],\n",
              "       [-1.22217506e+00, -6.21581561e-01, -8.61891607e-01,\n",
              "         2.14554575e-01, -9.23663667e-01,  4.16025147e-01,\n",
              "        -8.91132789e-01, -7.76218393e-01,  6.46996639e-01,\n",
              "        -9.30681479e-01, -2.64906471e-01,  9.21132373e-01,\n",
              "         0.00000000e+00],\n",
              "       [-1.43579305e+00,  1.60879933e+00, -8.61891607e-01,\n",
              "        -1.93184939e+00, -1.01313327e+00,  4.16025147e-01,\n",
              "        -8.91132789e-01,  1.37810700e+00,  6.46996639e-01,\n",
              "        -9.30681479e-01, -2.64906471e-01,  9.21132373e-01,\n",
              "         0.00000000e+00],\n",
              "       [-1.86302903e+00, -6.21581561e-01,  1.16023870e+00,\n",
              "        -5.70715170e-01, -1.03550067e+00,  4.16025147e-01,\n",
              "        -8.91132789e-01, -8.67891814e-01, -1.54560308e+00,\n",
              "         6.43573501e-01, -2.64906471e-01,  9.21132373e-01,\n",
              "         0.00000000e+00],\n",
              "       [-9.01748072e-01,  1.60879933e+00, -8.61891607e-01,\n",
              "        -6.75417803e-01, -5.13350192e-02,  4.16025147e-01,\n",
              "        -8.91132789e-01,  3.00568594e-03,  6.46996639e-01,\n",
              "        -6.35508670e-01, -2.64906471e-01, -1.08562030e+00,\n",
              "         0.00000000e+00],\n",
              "       [ 4.86768862e-01,  1.60879933e+00, -8.61891607e-01,\n",
              "        -4.72020065e-02, -1.85539427e-01,  4.16025147e-01,\n",
              "         1.12216722e+00,  1.14892345e+00,  6.46996639e-01,\n",
              "        -9.30681479e-01, -2.64906471e-01, -1.08562030e+00,\n",
              "         0.00000000e+00],\n",
              "       [ 7.00386852e-01, -6.21581561e-01, -8.61891607e-01,\n",
              "         9.99824320e-01, -7.22357056e-01, -2.40370085e+00,\n",
              "        -8.91132789e-01,  3.69699370e-01,  6.46996639e-01,\n",
              "         6.43573501e-01, -2.64906471e-01,  9.21132373e-01,\n",
              "         0.00000000e+00],\n",
              "       [-2.60894102e-01,  1.60879933e+00, -8.61891607e-01,\n",
              "        -5.70715170e-01, -6.60021675e-03,  4.16025147e-01,\n",
              "        -8.91132789e-01,  5.98882923e-01,  6.46996639e-01,\n",
              "         1.51618820e-01, -2.64906471e-01,  9.21132373e-01,\n",
              "         0.00000000e+00],\n",
              "       [ 5.93577857e-01,  1.60879933e+00,  1.16023870e+00,\n",
              "        -1.61774150e+00,  8.28693881e-02,  4.16025147e-01,\n",
              "         1.12216722e+00, -1.23458550e+00,  6.46996639e-01,\n",
              "         5.32278835e-02, -2.64906471e-01,  9.21132373e-01,\n",
              "         0.00000000e+00]])"
            ]
          },
          "metadata": {
            "tags": []
          },
          "execution_count": 70
        }
      ]
    },
    {
      "cell_type": "code",
      "metadata": {
        "colab": {
          "base_uri": "https://localhost:8080/"
        },
        "id": "KcnkBy0znzJ5",
        "outputId": "a3a08df0-81f4-4a1e-99de-dcd489c12e1f"
      },
      "source": [
        "svc=SVC(kernel='poly')\n",
        "svc.fit(x_train,y_train)"
      ],
      "execution_count": null,
      "outputs": [
        {
          "output_type": "execute_result",
          "data": {
            "text/plain": [
              "SVC(C=1.0, break_ties=False, cache_size=200, class_weight=None, coef0=0.0,\n",
              "    decision_function_shape='ovr', degree=3, gamma='scale', kernel='poly',\n",
              "    max_iter=-1, probability=False, random_state=None, shrinking=True,\n",
              "    tol=0.001, verbose=False)"
            ]
          },
          "metadata": {
            "tags": []
          },
          "execution_count": 128
        }
      ]
    },
    {
      "cell_type": "code",
      "metadata": {
        "colab": {
          "base_uri": "https://localhost:8080/",
          "height": 419
        },
        "id": "tw064vEynzJ5",
        "outputId": "ed775102-f20f-4ff0-ce52-36b3087805a6"
      },
      "source": [
        "yp5=svc.predict(x_test)\n",
        "yp5=pd.DataFrame(yp5)\n",
        "yp5"
      ],
      "execution_count": null,
      "outputs": [
        {
          "output_type": "execute_result",
          "data": {
            "text/html": [
              "<div>\n",
              "<style scoped>\n",
              "    .dataframe tbody tr th:only-of-type {\n",
              "        vertical-align: middle;\n",
              "    }\n",
              "\n",
              "    .dataframe tbody tr th {\n",
              "        vertical-align: top;\n",
              "    }\n",
              "\n",
              "    .dataframe thead th {\n",
              "        text-align: right;\n",
              "    }\n",
              "</style>\n",
              "<table border=\"1\" class=\"dataframe\">\n",
              "  <thead>\n",
              "    <tr style=\"text-align: right;\">\n",
              "      <th></th>\n",
              "      <th>0</th>\n",
              "    </tr>\n",
              "  </thead>\n",
              "  <tbody>\n",
              "    <tr>\n",
              "      <th>0</th>\n",
              "      <td>0</td>\n",
              "    </tr>\n",
              "    <tr>\n",
              "      <th>1</th>\n",
              "      <td>1</td>\n",
              "    </tr>\n",
              "    <tr>\n",
              "      <th>2</th>\n",
              "      <td>1</td>\n",
              "    </tr>\n",
              "    <tr>\n",
              "      <th>3</th>\n",
              "      <td>0</td>\n",
              "    </tr>\n",
              "    <tr>\n",
              "      <th>4</th>\n",
              "      <td>0</td>\n",
              "    </tr>\n",
              "    <tr>\n",
              "      <th>...</th>\n",
              "      <td>...</td>\n",
              "    </tr>\n",
              "    <tr>\n",
              "      <th>56</th>\n",
              "      <td>1</td>\n",
              "    </tr>\n",
              "    <tr>\n",
              "      <th>57</th>\n",
              "      <td>1</td>\n",
              "    </tr>\n",
              "    <tr>\n",
              "      <th>58</th>\n",
              "      <td>1</td>\n",
              "    </tr>\n",
              "    <tr>\n",
              "      <th>59</th>\n",
              "      <td>1</td>\n",
              "    </tr>\n",
              "    <tr>\n",
              "      <th>60</th>\n",
              "      <td>1</td>\n",
              "    </tr>\n",
              "  </tbody>\n",
              "</table>\n",
              "<p>61 rows × 1 columns</p>\n",
              "</div>"
            ],
            "text/plain": [
              "    0\n",
              "0   0\n",
              "1   1\n",
              "2   1\n",
              "3   0\n",
              "4   0\n",
              ".. ..\n",
              "56  1\n",
              "57  1\n",
              "58  1\n",
              "59  1\n",
              "60  1\n",
              "\n",
              "[61 rows x 1 columns]"
            ]
          },
          "metadata": {
            "tags": []
          },
          "execution_count": 129
        }
      ]
    },
    {
      "cell_type": "code",
      "metadata": {
        "colab": {
          "base_uri": "https://localhost:8080/",
          "height": 419
        },
        "id": "wJauVYfKnzJ6",
        "outputId": "dbb1a0fe-5488-4f0d-f30b-e2039de00009"
      },
      "source": [
        "p5=pd.concat([y_test,yp5],axis=1)\n",
        "p5"
      ],
      "execution_count": null,
      "outputs": [
        {
          "output_type": "execute_result",
          "data": {
            "text/html": [
              "<div>\n",
              "<style scoped>\n",
              "    .dataframe tbody tr th:only-of-type {\n",
              "        vertical-align: middle;\n",
              "    }\n",
              "\n",
              "    .dataframe tbody tr th {\n",
              "        vertical-align: top;\n",
              "    }\n",
              "\n",
              "    .dataframe thead th {\n",
              "        text-align: right;\n",
              "    }\n",
              "</style>\n",
              "<table border=\"1\" class=\"dataframe\">\n",
              "  <thead>\n",
              "    <tr style=\"text-align: right;\">\n",
              "      <th></th>\n",
              "      <th>0</th>\n",
              "      <th>0</th>\n",
              "    </tr>\n",
              "  </thead>\n",
              "  <tbody>\n",
              "    <tr>\n",
              "      <th>0</th>\n",
              "      <td>0</td>\n",
              "      <td>0</td>\n",
              "    </tr>\n",
              "    <tr>\n",
              "      <th>1</th>\n",
              "      <td>1</td>\n",
              "      <td>1</td>\n",
              "    </tr>\n",
              "    <tr>\n",
              "      <th>2</th>\n",
              "      <td>0</td>\n",
              "      <td>1</td>\n",
              "    </tr>\n",
              "    <tr>\n",
              "      <th>3</th>\n",
              "      <td>0</td>\n",
              "      <td>0</td>\n",
              "    </tr>\n",
              "    <tr>\n",
              "      <th>4</th>\n",
              "      <td>1</td>\n",
              "      <td>0</td>\n",
              "    </tr>\n",
              "    <tr>\n",
              "      <th>...</th>\n",
              "      <td>...</td>\n",
              "      <td>...</td>\n",
              "    </tr>\n",
              "    <tr>\n",
              "      <th>56</th>\n",
              "      <td>1</td>\n",
              "      <td>1</td>\n",
              "    </tr>\n",
              "    <tr>\n",
              "      <th>57</th>\n",
              "      <td>0</td>\n",
              "      <td>1</td>\n",
              "    </tr>\n",
              "    <tr>\n",
              "      <th>58</th>\n",
              "      <td>1</td>\n",
              "      <td>1</td>\n",
              "    </tr>\n",
              "    <tr>\n",
              "      <th>59</th>\n",
              "      <td>1</td>\n",
              "      <td>1</td>\n",
              "    </tr>\n",
              "    <tr>\n",
              "      <th>60</th>\n",
              "      <td>1</td>\n",
              "      <td>1</td>\n",
              "    </tr>\n",
              "  </tbody>\n",
              "</table>\n",
              "<p>61 rows × 2 columns</p>\n",
              "</div>"
            ],
            "text/plain": [
              "    0  0\n",
              "0   0  0\n",
              "1   1  1\n",
              "2   0  1\n",
              "3   0  0\n",
              "4   1  0\n",
              ".. .. ..\n",
              "56  1  1\n",
              "57  0  1\n",
              "58  1  1\n",
              "59  1  1\n",
              "60  1  1\n",
              "\n",
              "[61 rows x 2 columns]"
            ]
          },
          "metadata": {
            "tags": []
          },
          "execution_count": 130
        }
      ]
    },
    {
      "cell_type": "code",
      "metadata": {
        "colab": {
          "base_uri": "https://localhost:8080/"
        },
        "id": "6YI2p2_BnzJ7",
        "outputId": "1ca3ba40-432b-4ad3-c24c-44c208581e10"
      },
      "source": [
        "cm=confusion_matrix(y_test,yp5)\n",
        "cm"
      ],
      "execution_count": null,
      "outputs": [
        {
          "output_type": "execute_result",
          "data": {
            "text/plain": [
              "array([[19,  8],\n",
              "       [ 4, 30]])"
            ]
          },
          "metadata": {
            "tags": []
          },
          "execution_count": 131
        }
      ]
    },
    {
      "cell_type": "code",
      "metadata": {
        "colab": {
          "base_uri": "https://localhost:8080/"
        },
        "id": "gCmaUDA7nzJ7",
        "outputId": "a2783fe9-4577-4796-de79-217ef61ea68f"
      },
      "source": [
        "print(classification_report(y_test,yp5))"
      ],
      "execution_count": null,
      "outputs": [
        {
          "output_type": "stream",
          "text": [
            "              precision    recall  f1-score   support\n",
            "\n",
            "           0       0.83      0.70      0.76        27\n",
            "           1       0.79      0.88      0.83        34\n",
            "\n",
            "    accuracy                           0.80        61\n",
            "   macro avg       0.81      0.79      0.80        61\n",
            "weighted avg       0.81      0.80      0.80        61\n",
            "\n"
          ],
          "name": "stdout"
        }
      ]
    },
    {
      "cell_type": "code",
      "metadata": {
        "colab": {
          "base_uri": "https://localhost:8080/"
        },
        "id": "yGcQkBz7nzJ7",
        "outputId": "35612aed-51ac-4244-8614-1deed761c10c"
      },
      "source": [
        "logloss=log_loss(y_test,yp5)\n",
        "logloss"
      ],
      "execution_count": null,
      "outputs": [
        {
          "output_type": "execute_result",
          "data": {
            "text/plain": [
              "6.794618254399504"
            ]
          },
          "metadata": {
            "tags": []
          },
          "execution_count": 133
        }
      ]
    },
    {
      "cell_type": "code",
      "metadata": {
        "colab": {
          "base_uri": "https://localhost:8080/"
        },
        "id": "XjIp421bnzJ8",
        "outputId": "ba06c329-77a1-4690-d08a-402d9f1f2abe"
      },
      "source": [
        "f=accuracy_score(y_test,yp5)\n",
        "f"
      ],
      "execution_count": null,
      "outputs": [
        {
          "output_type": "execute_result",
          "data": {
            "text/plain": [
              "0.8032786885245902"
            ]
          },
          "metadata": {
            "tags": []
          },
          "execution_count": 134
        }
      ]
    },
    {
      "cell_type": "code",
      "metadata": {
        "id": "d-G7DjI9nzJ8"
      },
      "source": [
        "import keras \n",
        "import tensorflow as tf\n",
        "from keras.layers import Dense\n",
        "from keras.models import Sequential"
      ],
      "execution_count": null,
      "outputs": []
    },
    {
      "cell_type": "code",
      "metadata": {
        "id": "2doq_MlUpFXz"
      },
      "source": [
        "from sklearn.preprocessing import StandardScaler\n",
        "sc=StandardScaler()\n",
        "x_train=sc.fit_transform(x_train)\n",
        "x_test=sc.fit_transform(x_test)"
      ],
      "execution_count": null,
      "outputs": []
    },
    {
      "cell_type": "code",
      "metadata": {
        "colab": {
          "base_uri": "https://localhost:8080/"
        },
        "id": "-AEr54yCpSni",
        "outputId": "a25c6b40-d99c-4a74-d4af-94e7c2fb60fc"
      },
      "source": [
        "x_train"
      ],
      "execution_count": null,
      "outputs": [
        {
          "output_type": "execute_result",
          "data": {
            "text/plain": [
              "array([[-1.32773282,  1.43641607, -0.96747093, ..., -0.27487371,\n",
              "         0.83918136, -0.09128709],\n",
              "       [ 1.24903178,  1.43641607, -0.96747093, ..., -0.27487371,\n",
              "        -1.19163753, -0.09128709],\n",
              "       [ 0.35276583, -0.69617712, -0.96747093, ..., -0.27487371,\n",
              "         0.83918136, -0.09128709],\n",
              "       ...,\n",
              "       [ 0.12869935, -0.69617712, -0.96747093, ..., -0.27487371,\n",
              "         0.83918136, -0.09128709],\n",
              "       [-0.87959984, -0.69617712, -0.96747093, ..., -0.27487371,\n",
              "         0.83918136, -0.09128709],\n",
              "       [ 0.35276583, -0.69617712, -0.96747093, ..., -0.27487371,\n",
              "         0.83918136, -0.09128709]])"
            ]
          },
          "metadata": {
            "tags": []
          },
          "execution_count": 80
        }
      ]
    },
    {
      "cell_type": "code",
      "metadata": {
        "colab": {
          "base_uri": "https://localhost:8080/"
        },
        "id": "9t2uWglbpT9U",
        "outputId": "4c41da77-1f4b-41bb-8edc-b8e073b3297b"
      },
      "source": [
        "x_test"
      ],
      "execution_count": null,
      "outputs": [
        {
          "output_type": "execute_result",
          "data": {
            "text/plain": [
              "array([[ 1.87528580e+00, -6.21581561e-01,  1.16023870e+00,\n",
              "         7.38067738e-01, -1.57231830e+00,  4.16025147e-01,\n",
              "        -8.91132789e-01, -1.09707537e+00, -1.54560308e+00,\n",
              "         1.62748286e+00,  3.77491722e+00,  9.21132373e-01,\n",
              "         0.00000000e+00],\n",
              "       [ 1.23443183e+00, -6.21581561e-01, -8.61891607e-01,\n",
              "         2.04685065e+00, -3.86846038e-01,  4.16025147e-01,\n",
              "         1.12216722e+00,  2.78025949e-01,  6.46996639e-01,\n",
              "        -3.40335861e-01, -2.64906471e-01,  9.21132373e-01,\n",
              "         0.00000000e+00],\n",
              "       [ 7.00386852e-01, -6.21581561e-01, -8.61891607e-01,\n",
              "         2.04685065e+00,  9.77565437e-01,  4.16025147e-01,\n",
              "         1.12216722e+00,  4.61372791e-01,  6.46996639e-01,\n",
              "        -7.33899606e-01, -2.64906471e-01,  9.21132373e-01,\n",
              "         0.00000000e+00],\n",
              "       [ 8.07195847e-01, -6.21581561e-01,  1.16023870e+00,\n",
              "        -3.08958588e-01,  3.06543400e-01,  4.16025147e-01,\n",
              "         1.12216722e+00, -3.63687998e-01, -1.54560308e+00,\n",
              "         1.82426474e+00, -2.64906471e-01, -1.08562030e+00,\n",
              "         0.00000000e+00],\n",
              "       [ 1.02081384e+00, -6.21581561e-01, -8.61891607e-01,\n",
              "        -4.72020065e-02, -2.97376433e-01,  4.16025147e-01,\n",
              "        -8.91132789e-01, -1.34504446e-01,  6.46996639e-01,\n",
              "         8.40355374e-01, -2.64906471e-01, -1.08562030e+00,\n",
              "         0.00000000e+00],\n",
              "       [-4.74512092e-01, -6.21581561e-01,  1.16023870e+00,\n",
              "        -3.61309905e-01,  6.64421820e-01,  4.16025147e-01,\n",
              "         1.12216722e+00,  7.82229765e-01,  6.46996639e-01,\n",
              "        -4.38726798e-01, -2.64906471e-01,  9.21132373e-01,\n",
              "         0.00000000e+00],\n",
              "       [-1.32898405e+00, -6.21581561e-01,  1.16023870e+00,\n",
              "        -1.09422833e+00, -1.72889011e+00,  4.16025147e-01,\n",
              "         1.12216722e+00, -1.60127918e+00, -1.54560308e+00,\n",
              "         1.03713725e+00, -2.64906471e-01,  9.21132373e-01,\n",
              "         0.00000000e+00],\n",
              "       [ 1.12762283e+00, -6.21581561e-01,  1.16023870e+00,\n",
              "        -4.72020065e-02,  2.17073795e-01,  4.16025147e-01,\n",
              "         1.12216722e+00, -8.86677351e-02,  6.46996639e-01,\n",
              "         4.46791629e-01, -2.64906471e-01, -1.08562030e+00,\n",
              "         0.00000000e+00],\n",
              "       [ 3.79959867e-01,  1.60879933e+00,  1.16023870e+00,\n",
              "         3.61739014e+00,  9.77565437e-01, -2.40370085e+00,\n",
              "         1.12216722e+00, -7.30381683e-01, -1.54560308e+00,\n",
              "         3.00495597e+00,  3.77491722e+00, -1.08562030e+00,\n",
              "         0.00000000e+00],\n",
              "       [ 1.12762283e+00, -6.21581561e-01,  1.16023870e+00,\n",
              "        -4.72020065e-02,  1.91699629e+00, -2.40370085e+00,\n",
              "         1.12216722e+00, -7.76218393e-01, -1.54560308e+00,\n",
              "         8.40355374e-01, -2.64906471e-01, -1.08562030e+00,\n",
              "         0.00000000e+00],\n",
              "       [ 4.86768862e-01, -6.21581561e-01, -8.61891607e-01,\n",
              "         9.99824320e-01, -2.64595356e+00, -2.40370085e+00,\n",
              "        -8.91132789e-01,  1.10308674e+00,  6.46996639e-01,\n",
              "        -7.33899606e-01, -2.64906471e-01, -1.08562030e+00,\n",
              "         0.00000000e+00],\n",
              "       [-3.67703097e-01,  1.60879933e+00,  1.16023870e+00,\n",
              "        -4.72020065e-02,  5.52584814e-01,  4.16025147e-01,\n",
              "        -8.91132789e-01,  6.44719633e-01,  6.46996639e-01,\n",
              "        -9.30681479e-01, -2.64906471e-01,  9.21132373e-01,\n",
              "         0.00000000e+00],\n",
              "       [ 1.34124082e+00, -6.21581561e-01,  1.16023870e+00,\n",
              "         2.14554575e-01,  2.17073795e-01,  4.16025147e-01,\n",
              "         1.12216722e+00, -1.00540195e+00,  6.46996639e-01,\n",
              "         1.82426474e+00, -2.64906471e-01, -1.08562030e+00,\n",
              "         0.00000000e+00],\n",
              "       [-3.67703097e-01, -6.21581561e-01, -8.61891607e-01,\n",
              "        -4.72020065e-02,  4.85482610e-01,  4.16025147e-01,\n",
              "        -8.91132789e-01,  1.01141332e+00,  6.46996639e-01,\n",
              "        -3.40335861e-01, -2.64906471e-01,  9.21132373e-01,\n",
              "         0.00000000e+00],\n",
              "       [-2.60894102e-01,  1.60879933e+00, -8.61891607e-01,\n",
              "        -5.70715170e-01, -5.65785247e-01,  4.16025147e-01,\n",
              "        -8.91132789e-01,  4.15536081e-01,  6.46996639e-01,\n",
              "         6.43573501e-01, -2.64906471e-01,  9.21132373e-01,\n",
              "         0.00000000e+00],\n",
              "       [-1.54085107e-01, -6.21581561e-01, -8.61891607e-01,\n",
              "        -1.61774150e+00, -4.98683044e-01,  4.16025147e-01,\n",
              "        -8.91132789e-01, -2.72014577e-01, -1.54560308e+00,\n",
              "         2.50009756e-01, -2.64906471e-01,  9.21132373e-01,\n",
              "         0.00000000e+00],\n",
              "       [-4.72761125e-02, -6.21581561e-01,  1.16023870e+00,\n",
              "        -1.19893097e+00, -2.52641630e-01, -2.40370085e+00,\n",
              "        -8.91132789e-01, -8.86677351e-02,  6.46996639e-01,\n",
              "        -8.32290543e-01, -2.64906471e-01, -1.08562030e+00,\n",
              "         0.00000000e+00],\n",
              "       [-4.74512092e-01, -6.21581561e-01, -8.61891607e-01,\n",
              "        -3.61309905e-01,  2.39441197e-01, -2.40370085e+00,\n",
              "        -8.91132789e-01,  1.19476016e+00,  6.46996639e-01,\n",
              "        -9.30681479e-01, -2.64906471e-01, -1.08562030e+00,\n",
              "         0.00000000e+00],\n",
              "       [ 1.02081384e+00, -6.21581561e-01,  1.16023870e+00,\n",
              "        -5.70715170e-01,  5.07850011e-01,  4.16025147e-01,\n",
              "        -8.91132789e-01, -2.28882984e+00, -1.54560308e+00,\n",
              "         8.40355374e-01, -2.64906471e-01, -1.08562030e+00,\n",
              "         0.00000000e+00],\n",
              "       [-1.11536606e+00, -6.21581561e-01, -8.61891607e-01,\n",
              "        -5.70715170e-01, -9.60698217e-02, -2.40370085e+00,\n",
              "        -8.91132789e-01,  2.06565766e+00,  6.46996639e-01,\n",
              "        -1.43553989e-01,  3.77491722e+00,  9.21132373e-01,\n",
              "         0.00000000e+00],\n",
              "       [-1.11536606e+00, -6.21581561e-01,  1.16023870e+00,\n",
              "         4.76311157e-01, -4.09213439e-01,  4.16025147e-01,\n",
              "        -8.91132789e-01,  1.33227029e+00,  6.46996639e-01,\n",
              "        -9.30681479e-01, -2.64906471e-01,  9.21132373e-01,\n",
              "         0.00000000e+00],\n",
              "       [-1.43579305e+00, -6.21581561e-01,  1.16023870e+00,\n",
              "        -6.75417803e-01, -5.65785247e-01,  4.16025147e-01,\n",
              "        -8.91132789e-01, -4.09524709e-01,  6.46996639e-01,\n",
              "         2.50009756e-01, -2.64906471e-01,  9.21132373e-01,\n",
              "         0.00000000e+00],\n",
              "       [ 1.02081384e+00, -6.21581561e-01, -8.61891607e-01,\n",
              "        -5.70715170e-01,  8.20993629e-01,  4.16025147e-01,\n",
              "         1.12216722e+00, -2.10548300e+00,  6.46996639e-01,\n",
              "         4.46791629e-01, -2.64906471e-01, -1.08562030e+00,\n",
              "         0.00000000e+00],\n",
              "       [ 1.66341877e-01, -6.21581561e-01,  1.16023870e+00,\n",
              "        -1.09422833e+00, -8.56561463e-01,  4.16025147e-01,\n",
              "         1.12216722e+00, -1.87629945e+00, -1.54560308e+00,\n",
              "        -9.30681479e-01, -2.64906471e-01, -1.08562030e+00,\n",
              "         0.00000000e+00],\n",
              "       [-1.22217506e+00, -6.21581561e-01, -8.61891607e-01,\n",
              "        -1.09422833e+00, -2.07906828e-01,  4.16025147e-01,\n",
              "        -8.91132789e-01,  1.86352528e-01,  6.46996639e-01,\n",
              "        -9.30681479e-01, -2.64906471e-01,  9.21132373e-01,\n",
              "         0.00000000e+00],\n",
              "       [ 1.02081384e+00,  1.60879933e+00, -8.61891607e-01,\n",
              "        -4.72020065e-02,  4.18380407e-01,  4.16025147e-01,\n",
              "        -8.91132789e-01, -2.38050326e+00,  6.46996639e-01,\n",
              "         2.50009756e-01, -2.64906471e-01, -1.08562030e+00,\n",
              "         0.00000000e+00],\n",
              "       [-4.72761125e-02, -6.21581561e-01,  1.16023870e+00,\n",
              "        -3.08958588e-01, -7.22357056e-01,  4.16025147e-01,\n",
              "        -8.91132789e-01,  8.73903186e-01,  6.46996639e-01,\n",
              "         5.32278835e-02, -2.64906471e-01, -1.08562030e+00,\n",
              "         0.00000000e+00],\n",
              "       [-6.88130082e-01, -6.21581561e-01,  1.16023870e+00,\n",
              "        -5.70715170e-01,  1.05236789e-01,  4.16025147e-01,\n",
              "         1.12216722e+00, -2.26177867e-01,  6.46996639e-01,\n",
              "        -1.43553989e-01, -2.64906471e-01,  9.21132373e-01,\n",
              "         0.00000000e+00],\n",
              "       [-1.43579305e+00,  1.60879933e+00, -8.61891607e-01,\n",
              "         3.71608524e-01, -5.43417846e-01,  4.16025147e-01,\n",
              "        -8.91132789e-01,  1.40515818e-01,  6.46996639e-01,\n",
              "        -9.30681479e-01, -2.64906471e-01,  9.21132373e-01,\n",
              "         0.00000000e+00],\n",
              "       [-4.72761125e-02, -6.21581561e-01, -8.61891607e-01,\n",
              "         1.62203259e-01, -9.68398469e-01,  4.16025147e-01,\n",
              "        -8.91132789e-01,  4.15536081e-01,  6.46996639e-01,\n",
              "        -1.43553989e-01, -2.64906471e-01, -1.08562030e+00,\n",
              "         0.00000000e+00],\n",
              "       [ 8.07195847e-01, -6.21581561e-01, -8.61891607e-01,\n",
              "         4.76311157e-01, -1.32627689e+00,  4.16025147e-01,\n",
              "         1.12216722e+00,  2.78025949e-01,  6.46996639e-01,\n",
              "         2.02104661e+00, -2.64906471e-01,  9.21132373e-01,\n",
              "         0.00000000e+00],\n",
              "       [-7.94939077e-01, -6.21581561e-01,  1.16023870e+00,\n",
              "         5.81013789e-01,  1.44728086e+00,  4.16025147e-01,\n",
              "         1.12216722e+00, -8.86677351e-02, -1.54560308e+00,\n",
              "        -9.30681479e-01, -2.64906471e-01, -1.08562030e+00,\n",
              "         0.00000000e+00],\n",
              "       [-1.22217506e+00,  1.60879933e+00, -8.61891607e-01,\n",
              "        -2.56607272e-01,  1.38017866e+00,  4.16025147e-01,\n",
              "        -8.91132789e-01,  6.44719633e-01,  6.46996639e-01,\n",
              "        -9.30681479e-01, -2.64906471e-01,  9.21132373e-01,\n",
              "         0.00000000e+00],\n",
              "       [-4.72761125e-02, -6.21581561e-01, -8.61891607e-01,\n",
              "         2.15155328e+00, -1.01313327e+00, -2.40370085e+00,\n",
              "        -8.91132789e-01,  5.98882923e-01,  6.46996639e-01,\n",
              "        -4.38726798e-01, -2.64906471e-01,  9.21132373e-01,\n",
              "         0.00000000e+00],\n",
              "       [-1.86302903e+00, -6.21581561e-01, -8.61891607e-01,\n",
              "        -4.66012537e-01, -1.16970508e+00,  4.16025147e-01,\n",
              "        -8.91132789e-01,  1.14892345e+00,  6.46996639e-01,\n",
              "        -9.30681479e-01, -2.64906471e-01,  9.21132373e-01,\n",
              "         0.00000000e+00],\n",
              "       [ 7.00386852e-01,  1.60879933e+00,  1.16023870e+00,\n",
              "         2.25625591e+00,  1.05236789e-01,  4.16025147e-01,\n",
              "        -8.91132789e-01, -2.72014577e-01, -1.54560308e+00,\n",
              "        -9.30681479e-01, -2.64906471e-01,  9.21132373e-01,\n",
              "         0.00000000e+00],\n",
              "       [ 1.87528580e+00, -6.21581561e-01, -8.61891607e-01,\n",
              "         1.52333748e+00,  5.52584814e-01,  4.16025147e-01,\n",
              "        -8.91132789e-01, -1.69295260e+00, -1.54560308e+00,\n",
              "         1.92265567e+00, -2.64906471e-01, -1.08562030e+00,\n",
              "         0.00000000e+00],\n",
              "       [-7.94939077e-01, -6.21581561e-01, -8.61891607e-01,\n",
              "        -1.51904639e-01,  1.42491346e+00,  4.16025147e-01,\n",
              "         1.12216722e+00,  9.65576607e-01,  6.46996639e-01,\n",
              "        -9.30681479e-01, -2.64906471e-01,  9.21132373e-01,\n",
              "         0.00000000e+00],\n",
              "       [ 3.79959867e-01, -6.21581561e-01,  1.16023870e+00,\n",
              "        -3.08958588e-01,  1.05236789e-01, -2.40370085e+00,\n",
              "         1.12216722e+00, -2.26177867e-01, -1.54560308e+00,\n",
              "         2.50009756e-01, -2.64906471e-01, -1.08562030e+00,\n",
              "         0.00000000e+00],\n",
              "       [ 1.02081384e+00,  1.60879933e+00,  1.16023870e+00,\n",
              "         4.76311157e-01,  5.30217413e-01,  4.16025147e-01,\n",
              "         1.12216722e+00,  5.07209502e-01,  6.46996639e-01,\n",
              "         2.61139223e+00,  3.77491722e+00, -1.08562030e+00,\n",
              "         0.00000000e+00],\n",
              "       [ 4.86768862e-01, -6.21581561e-01,  1.16023870e+00,\n",
              "         4.76311157e-01, -1.16970508e+00,  4.16025147e-01,\n",
              "        -8.91132789e-01, -4.28310246e-02,  6.46996639e-01,\n",
              "        -5.37117734e-01, -2.64906471e-01,  9.21132373e-01,\n",
              "         0.00000000e+00],\n",
              "       [ 4.86768862e-01,  1.60879933e+00,  1.16023870e+00,\n",
              "        -1.51904639e-01,  1.31307646e+00,  4.16025147e-01,\n",
              "         1.12216722e+00,  4.61372791e-01,  6.46996639e-01,\n",
              "        -9.30681479e-01, -2.64906471e-01, -1.08562030e+00,\n",
              "         0.00000000e+00],\n",
              "       [-4.72761125e-02, -6.21581561e-01, -8.61891607e-01,\n",
              "         3.71608524e-01, -4.76315642e-01,  4.16025147e-01,\n",
              "        -8.91132789e-01,  9.19739897e-01,  6.46996639e-01,\n",
              "        -9.30681479e-01, -2.64906471e-01, -1.08562030e+00,\n",
              "         0.00000000e+00],\n",
              "       [-5.81321087e-01, -6.21581561e-01,  1.16023870e+00,\n",
              "        -1.09422833e+00,  6.86789221e-01,  4.16025147e-01,\n",
              "         1.12216722e+00, -1.41793234e+00, -1.54560308e+00,\n",
              "         5.32278835e-02, -2.64906471e-01, -1.08562030e+00,\n",
              "         0.00000000e+00],\n",
              "       [-1.54085107e-01, -6.21581561e-01, -8.61891607e-01,\n",
              "        -3.08958588e-01, -6.99989655e-01,  4.16025147e-01,\n",
              "         1.12216722e+00, -1.09707537e+00, -1.54560308e+00,\n",
              "         4.46791629e-01, -2.64906471e-01, -1.08562030e+00,\n",
              "         0.00000000e+00],\n",
              "       [ 1.87528580e+00, -6.21581561e-01, -8.61891607e-01,\n",
              "         1.31393222e+00,  1.57671845e-02,  4.16025147e-01,\n",
              "         1.12216722e+00, -2.72014577e-01,  6.46996639e-01,\n",
              "        -9.30681479e-01, -2.64906471e-01,  9.21132373e-01,\n",
              "         0.00000000e+00],\n",
              "       [-1.22217506e+00, -6.21581561e-01, -8.61891607e-01,\n",
              "        -4.72020065e-02, -6.77622253e-01,  4.16025147e-01,\n",
              "         1.12216722e+00,  8.73903186e-01,  6.46996639e-01,\n",
              "         1.03713725e+00, -2.64906471e-01,  9.21132373e-01,\n",
              "         0.00000000e+00],\n",
              "       [-2.60894102e-01, -6.21581561e-01, -8.61891607e-01,\n",
              "         4.76311157e-01, -2.52641630e-01,  4.16025147e-01,\n",
              "        -8.91132789e-01,  6.44719633e-01,  6.46996639e-01,\n",
              "        -3.40335861e-01, -2.64906471e-01, -1.08562030e+00,\n",
              "         0.00000000e+00],\n",
              "       [ 3.79959867e-01,  1.60879933e+00,  1.16023870e+00,\n",
              "         1.62203259e-01,  3.68402099e+00,  4.16025147e-01,\n",
              "         1.12216722e+00,  4.88423965e-02, -1.54560308e+00,\n",
              "         9.38746310e-01, -2.64906471e-01, -1.08562030e+00,\n",
              "         0.00000000e+00],\n",
              "       [-9.01748072e-01, -6.21581561e-01, -8.61891607e-01,\n",
              "        -5.70715170e-01,  4.18380407e-01,  4.16025147e-01,\n",
              "        -8.91132789e-01,  1.10308674e+00,  6.46996639e-01,\n",
              "        -9.30681479e-01, -2.64906471e-01,  9.21132373e-01,\n",
              "         0.00000000e+00],\n",
              "       [-4.72761125e-02, -6.21581561e-01, -8.61891607e-01,\n",
              "        -5.70715170e-01,  1.80515928e+00,  4.16025147e-01,\n",
              "        -8.91132789e-01,  1.05725003e+00,  6.46996639e-01,\n",
              "        -7.33899606e-01, -2.64906471e-01,  9.21132373e-01,\n",
              "         0.00000000e+00],\n",
              "       [ 2.30252177e+00,  1.60879933e+00, -8.61891607e-01,\n",
              "        -5.70715170e-01,  5.52584814e-01,  4.16025147e-01,\n",
              "         1.12216722e+00, -1.28042221e+00, -1.54560308e+00,\n",
              "        -7.33899606e-01, -2.64906471e-01, -1.08562030e+00,\n",
              "         0.00000000e+00],\n",
              "       [-1.22217506e+00,  1.60879933e+00, -8.61891607e-01,\n",
              "        -9.89525700e-01,  5.30217413e-01,  4.16025147e-01,\n",
              "         1.12216722e+00,  1.05725003e+00, -1.54560308e+00,\n",
              "        -9.30681479e-01, -2.64906471e-01,  9.21132373e-01,\n",
              "         0.00000000e+00],\n",
              "       [-1.22217506e+00, -6.21581561e-01, -8.61891607e-01,\n",
              "         2.14554575e-01, -9.23663667e-01,  4.16025147e-01,\n",
              "        -8.91132789e-01, -7.76218393e-01,  6.46996639e-01,\n",
              "        -9.30681479e-01, -2.64906471e-01,  9.21132373e-01,\n",
              "         0.00000000e+00],\n",
              "       [-1.43579305e+00,  1.60879933e+00, -8.61891607e-01,\n",
              "        -1.93184939e+00, -1.01313327e+00,  4.16025147e-01,\n",
              "        -8.91132789e-01,  1.37810700e+00,  6.46996639e-01,\n",
              "        -9.30681479e-01, -2.64906471e-01,  9.21132373e-01,\n",
              "         0.00000000e+00],\n",
              "       [-1.86302903e+00, -6.21581561e-01,  1.16023870e+00,\n",
              "        -5.70715170e-01, -1.03550067e+00,  4.16025147e-01,\n",
              "        -8.91132789e-01, -8.67891814e-01, -1.54560308e+00,\n",
              "         6.43573501e-01, -2.64906471e-01,  9.21132373e-01,\n",
              "         0.00000000e+00],\n",
              "       [-9.01748072e-01,  1.60879933e+00, -8.61891607e-01,\n",
              "        -6.75417803e-01, -5.13350192e-02,  4.16025147e-01,\n",
              "        -8.91132789e-01,  3.00568594e-03,  6.46996639e-01,\n",
              "        -6.35508670e-01, -2.64906471e-01, -1.08562030e+00,\n",
              "         0.00000000e+00],\n",
              "       [ 4.86768862e-01,  1.60879933e+00, -8.61891607e-01,\n",
              "        -4.72020065e-02, -1.85539427e-01,  4.16025147e-01,\n",
              "         1.12216722e+00,  1.14892345e+00,  6.46996639e-01,\n",
              "        -9.30681479e-01, -2.64906471e-01, -1.08562030e+00,\n",
              "         0.00000000e+00],\n",
              "       [ 7.00386852e-01, -6.21581561e-01, -8.61891607e-01,\n",
              "         9.99824320e-01, -7.22357056e-01, -2.40370085e+00,\n",
              "        -8.91132789e-01,  3.69699370e-01,  6.46996639e-01,\n",
              "         6.43573501e-01, -2.64906471e-01,  9.21132373e-01,\n",
              "         0.00000000e+00],\n",
              "       [-2.60894102e-01,  1.60879933e+00, -8.61891607e-01,\n",
              "        -5.70715170e-01, -6.60021675e-03,  4.16025147e-01,\n",
              "        -8.91132789e-01,  5.98882923e-01,  6.46996639e-01,\n",
              "         1.51618820e-01, -2.64906471e-01,  9.21132373e-01,\n",
              "         0.00000000e+00],\n",
              "       [ 5.93577857e-01,  1.60879933e+00,  1.16023870e+00,\n",
              "        -1.61774150e+00,  8.28693881e-02,  4.16025147e-01,\n",
              "         1.12216722e+00, -1.23458550e+00,  6.46996639e-01,\n",
              "         5.32278835e-02, -2.64906471e-01,  9.21132373e-01,\n",
              "         0.00000000e+00]])"
            ]
          },
          "metadata": {
            "tags": []
          },
          "execution_count": 81
        }
      ]
    },
    {
      "cell_type": "code",
      "metadata": {
        "id": "epvAisH7pU1L"
      },
      "source": [
        "ann = tf.keras.models.Sequential()"
      ],
      "execution_count": null,
      "outputs": []
    },
    {
      "cell_type": "code",
      "metadata": {
        "id": "rQmX7RKJrZeY"
      },
      "source": [
        "ann.add(tf.keras.layers.Dense(units=5, activation='relu'))\n",
        "ann.add(tf.keras.layers.Dense(units=6, activation='relu'))\n",
        "ann.add(tf.keras.layers.Dense(units=4, activation='relu'))\n",
        "ann.add(tf.keras.layers.Dense(units=1, activation='sigmoid'))"
      ],
      "execution_count": null,
      "outputs": []
    },
    {
      "cell_type": "code",
      "metadata": {
        "colab": {
          "base_uri": "https://localhost:8080/"
        },
        "id": "jqdQZWXRsGs2",
        "outputId": "c656469a-ba74-4fbd-b86d-8a4451ecd1e1"
      },
      "source": [
        "ann.compile(optimizer = 'adam', loss = 'binary_crossentropy', metrics = ['accuracy'])\n",
        "ann.fit(x_train, y_train, batch_size = 32, epochs = 140)"
      ],
      "execution_count": null,
      "outputs": [
        {
          "output_type": "stream",
          "text": [
            "Epoch 1/140\n",
            "8/8 [==============================] - 1s 2ms/step - loss: 0.6978 - accuracy: 0.5720\n",
            "Epoch 2/140\n",
            "8/8 [==============================] - 0s 2ms/step - loss: 0.6763 - accuracy: 0.5254\n",
            "Epoch 3/140\n",
            "8/8 [==============================] - 0s 2ms/step - loss: 0.6577 - accuracy: 0.5196\n",
            "Epoch 4/140\n",
            "8/8 [==============================] - 0s 2ms/step - loss: 0.6578 - accuracy: 0.5508\n",
            "Epoch 5/140\n",
            "8/8 [==============================] - 0s 2ms/step - loss: 0.6550 - accuracy: 0.5266\n",
            "Epoch 6/140\n",
            "8/8 [==============================] - 0s 2ms/step - loss: 0.6456 - accuracy: 0.5453\n",
            "Epoch 7/140\n",
            "8/8 [==============================] - 0s 2ms/step - loss: 0.6361 - accuracy: 0.5687\n",
            "Epoch 8/140\n",
            "8/8 [==============================] - 0s 2ms/step - loss: 0.6196 - accuracy: 0.6405\n",
            "Epoch 9/140\n",
            "8/8 [==============================] - 0s 2ms/step - loss: 0.6094 - accuracy: 0.5912\n",
            "Epoch 10/140\n",
            "8/8 [==============================] - 0s 2ms/step - loss: 0.5863 - accuracy: 0.6233\n",
            "Epoch 11/140\n",
            "8/8 [==============================] - 0s 2ms/step - loss: 0.5678 - accuracy: 0.6240\n",
            "Epoch 12/140\n",
            "8/8 [==============================] - 0s 2ms/step - loss: 0.5914 - accuracy: 0.5992\n",
            "Epoch 13/140\n",
            "8/8 [==============================] - 0s 2ms/step - loss: 0.5863 - accuracy: 0.6208\n",
            "Epoch 14/140\n",
            "8/8 [==============================] - 0s 2ms/step - loss: 0.5988 - accuracy: 0.7000\n",
            "Epoch 15/140\n",
            "8/8 [==============================] - 0s 2ms/step - loss: 0.5689 - accuracy: 0.7047\n",
            "Epoch 16/140\n",
            "8/8 [==============================] - 0s 2ms/step - loss: 0.5591 - accuracy: 0.7079\n",
            "Epoch 17/140\n",
            "8/8 [==============================] - 0s 2ms/step - loss: 0.5787 - accuracy: 0.6891\n",
            "Epoch 18/140\n",
            "8/8 [==============================] - 0s 2ms/step - loss: 0.5690 - accuracy: 0.6964\n",
            "Epoch 19/140\n",
            "8/8 [==============================] - 0s 2ms/step - loss: 0.6017 - accuracy: 0.7059\n",
            "Epoch 20/140\n",
            "8/8 [==============================] - 0s 2ms/step - loss: 0.5731 - accuracy: 0.7152\n",
            "Epoch 21/140\n",
            "8/8 [==============================] - 0s 2ms/step - loss: 0.5381 - accuracy: 0.7697\n",
            "Epoch 22/140\n",
            "8/8 [==============================] - 0s 2ms/step - loss: 0.5341 - accuracy: 0.7680\n",
            "Epoch 23/140\n",
            "8/8 [==============================] - 0s 2ms/step - loss: 0.5304 - accuracy: 0.7730\n",
            "Epoch 24/140\n",
            "8/8 [==============================] - 0s 2ms/step - loss: 0.5442 - accuracy: 0.7894\n",
            "Epoch 25/140\n",
            "8/8 [==============================] - 0s 2ms/step - loss: 0.5310 - accuracy: 0.7606\n",
            "Epoch 26/140\n",
            "8/8 [==============================] - 0s 2ms/step - loss: 0.5243 - accuracy: 0.7790\n",
            "Epoch 27/140\n",
            "8/8 [==============================] - 0s 2ms/step - loss: 0.5368 - accuracy: 0.7631\n",
            "Epoch 28/140\n",
            "8/8 [==============================] - 0s 3ms/step - loss: 0.4831 - accuracy: 0.8096\n",
            "Epoch 29/140\n",
            "8/8 [==============================] - 0s 2ms/step - loss: 0.4899 - accuracy: 0.8204\n",
            "Epoch 30/140\n",
            "8/8 [==============================] - 0s 2ms/step - loss: 0.4959 - accuracy: 0.7891\n",
            "Epoch 31/140\n",
            "8/8 [==============================] - 0s 2ms/step - loss: 0.4822 - accuracy: 0.8076\n",
            "Epoch 32/140\n",
            "8/8 [==============================] - 0s 2ms/step - loss: 0.4839 - accuracy: 0.8108\n",
            "Epoch 33/140\n",
            "8/8 [==============================] - 0s 2ms/step - loss: 0.4544 - accuracy: 0.8208\n",
            "Epoch 34/140\n",
            "8/8 [==============================] - 0s 2ms/step - loss: 0.4902 - accuracy: 0.7977\n",
            "Epoch 35/140\n",
            "8/8 [==============================] - 0s 2ms/step - loss: 0.4820 - accuracy: 0.7867\n",
            "Epoch 36/140\n",
            "8/8 [==============================] - 0s 2ms/step - loss: 0.4469 - accuracy: 0.8325\n",
            "Epoch 37/140\n",
            "8/8 [==============================] - 0s 2ms/step - loss: 0.4636 - accuracy: 0.8284\n",
            "Epoch 38/140\n",
            "8/8 [==============================] - 0s 2ms/step - loss: 0.4500 - accuracy: 0.8348\n",
            "Epoch 39/140\n",
            "8/8 [==============================] - 0s 2ms/step - loss: 0.4787 - accuracy: 0.8042\n",
            "Epoch 40/140\n",
            "8/8 [==============================] - 0s 3ms/step - loss: 0.4438 - accuracy: 0.8487\n",
            "Epoch 41/140\n",
            "8/8 [==============================] - 0s 2ms/step - loss: 0.4477 - accuracy: 0.8273\n",
            "Epoch 42/140\n",
            "8/8 [==============================] - 0s 2ms/step - loss: 0.4831 - accuracy: 0.7994\n",
            "Epoch 43/140\n",
            "8/8 [==============================] - 0s 2ms/step - loss: 0.4681 - accuracy: 0.7988\n",
            "Epoch 44/140\n",
            "8/8 [==============================] - 0s 2ms/step - loss: 0.4233 - accuracy: 0.8210\n",
            "Epoch 45/140\n",
            "8/8 [==============================] - 0s 2ms/step - loss: 0.4208 - accuracy: 0.8446\n",
            "Epoch 46/140\n",
            "8/8 [==============================] - 0s 2ms/step - loss: 0.4013 - accuracy: 0.8444\n",
            "Epoch 47/140\n",
            "8/8 [==============================] - 0s 2ms/step - loss: 0.4563 - accuracy: 0.8080\n",
            "Epoch 48/140\n",
            "8/8 [==============================] - 0s 2ms/step - loss: 0.4293 - accuracy: 0.8299\n",
            "Epoch 49/140\n",
            "8/8 [==============================] - 0s 2ms/step - loss: 0.4083 - accuracy: 0.8246\n",
            "Epoch 50/140\n",
            "8/8 [==============================] - 0s 2ms/step - loss: 0.4249 - accuracy: 0.8140\n",
            "Epoch 51/140\n",
            "8/8 [==============================] - 0s 2ms/step - loss: 0.4099 - accuracy: 0.8195\n",
            "Epoch 52/140\n",
            "8/8 [==============================] - 0s 2ms/step - loss: 0.4490 - accuracy: 0.8084\n",
            "Epoch 53/140\n",
            "8/8 [==============================] - 0s 2ms/step - loss: 0.4179 - accuracy: 0.8185\n",
            "Epoch 54/140\n",
            "8/8 [==============================] - 0s 2ms/step - loss: 0.4092 - accuracy: 0.8299\n",
            "Epoch 55/140\n",
            "8/8 [==============================] - 0s 2ms/step - loss: 0.4160 - accuracy: 0.8081\n",
            "Epoch 56/140\n",
            "8/8 [==============================] - 0s 2ms/step - loss: 0.4045 - accuracy: 0.8303\n",
            "Epoch 57/140\n",
            "8/8 [==============================] - 0s 2ms/step - loss: 0.4021 - accuracy: 0.8303\n",
            "Epoch 58/140\n",
            "8/8 [==============================] - 0s 2ms/step - loss: 0.3683 - accuracy: 0.8407\n",
            "Epoch 59/140\n",
            "8/8 [==============================] - 0s 2ms/step - loss: 0.3935 - accuracy: 0.8292\n",
            "Epoch 60/140\n",
            "8/8 [==============================] - 0s 2ms/step - loss: 0.4413 - accuracy: 0.7993\n",
            "Epoch 61/140\n",
            "8/8 [==============================] - 0s 1ms/step - loss: 0.3568 - accuracy: 0.8694\n",
            "Epoch 62/140\n",
            "8/8 [==============================] - 0s 2ms/step - loss: 0.4037 - accuracy: 0.8253\n",
            "Epoch 63/140\n",
            "8/8 [==============================] - 0s 2ms/step - loss: 0.4373 - accuracy: 0.7977\n",
            "Epoch 64/140\n",
            "8/8 [==============================] - 0s 2ms/step - loss: 0.3683 - accuracy: 0.8535\n",
            "Epoch 65/140\n",
            "8/8 [==============================] - 0s 3ms/step - loss: 0.4005 - accuracy: 0.8316\n",
            "Epoch 66/140\n",
            "8/8 [==============================] - 0s 2ms/step - loss: 0.3831 - accuracy: 0.8500\n",
            "Epoch 67/140\n",
            "8/8 [==============================] - 0s 2ms/step - loss: 0.3774 - accuracy: 0.8498\n",
            "Epoch 68/140\n",
            "8/8 [==============================] - 0s 2ms/step - loss: 0.3882 - accuracy: 0.8340\n",
            "Epoch 69/140\n",
            "8/8 [==============================] - 0s 2ms/step - loss: 0.3723 - accuracy: 0.8326\n",
            "Epoch 70/140\n",
            "8/8 [==============================] - 0s 2ms/step - loss: 0.3888 - accuracy: 0.8476\n",
            "Epoch 71/140\n",
            "8/8 [==============================] - 0s 2ms/step - loss: 0.3487 - accuracy: 0.8662\n",
            "Epoch 72/140\n",
            "8/8 [==============================] - 0s 2ms/step - loss: 0.3807 - accuracy: 0.8321\n",
            "Epoch 73/140\n",
            "8/8 [==============================] - 0s 2ms/step - loss: 0.3612 - accuracy: 0.8476\n",
            "Epoch 74/140\n",
            "8/8 [==============================] - 0s 2ms/step - loss: 0.3608 - accuracy: 0.8506\n",
            "Epoch 75/140\n",
            "8/8 [==============================] - 0s 2ms/step - loss: 0.3788 - accuracy: 0.8405\n",
            "Epoch 76/140\n",
            "8/8 [==============================] - 0s 2ms/step - loss: 0.4098 - accuracy: 0.8260\n",
            "Epoch 77/140\n",
            "8/8 [==============================] - 0s 2ms/step - loss: 0.3409 - accuracy: 0.8674\n",
            "Epoch 78/140\n",
            "8/8 [==============================] - 0s 2ms/step - loss: 0.3830 - accuracy: 0.8506\n",
            "Epoch 79/140\n",
            "8/8 [==============================] - 0s 2ms/step - loss: 0.3785 - accuracy: 0.8496\n",
            "Epoch 80/140\n",
            "8/8 [==============================] - 0s 2ms/step - loss: 0.3590 - accuracy: 0.8583\n",
            "Epoch 81/140\n",
            "8/8 [==============================] - 0s 2ms/step - loss: 0.3307 - accuracy: 0.8625\n",
            "Epoch 82/140\n",
            "8/8 [==============================] - 0s 2ms/step - loss: 0.3493 - accuracy: 0.8482\n",
            "Epoch 83/140\n",
            "8/8 [==============================] - 0s 2ms/step - loss: 0.3440 - accuracy: 0.8589\n",
            "Epoch 84/140\n",
            "8/8 [==============================] - 0s 2ms/step - loss: 0.3558 - accuracy: 0.8490\n",
            "Epoch 85/140\n",
            "8/8 [==============================] - 0s 2ms/step - loss: 0.4020 - accuracy: 0.8190\n",
            "Epoch 86/140\n",
            "8/8 [==============================] - 0s 2ms/step - loss: 0.3312 - accuracy: 0.8649\n",
            "Epoch 87/140\n",
            "8/8 [==============================] - 0s 2ms/step - loss: 0.4023 - accuracy: 0.8156\n",
            "Epoch 88/140\n",
            "8/8 [==============================] - 0s 2ms/step - loss: 0.3433 - accuracy: 0.8474\n",
            "Epoch 89/140\n",
            "8/8 [==============================] - 0s 2ms/step - loss: 0.3185 - accuracy: 0.8728\n",
            "Epoch 90/140\n",
            "8/8 [==============================] - 0s 2ms/step - loss: 0.3614 - accuracy: 0.8366\n",
            "Epoch 91/140\n",
            "8/8 [==============================] - 0s 2ms/step - loss: 0.3361 - accuracy: 0.8596\n",
            "Epoch 92/140\n",
            "8/8 [==============================] - 0s 2ms/step - loss: 0.3536 - accuracy: 0.8360\n",
            "Epoch 93/140\n",
            "8/8 [==============================] - 0s 2ms/step - loss: 0.3441 - accuracy: 0.8336\n",
            "Epoch 94/140\n",
            "8/8 [==============================] - 0s 2ms/step - loss: 0.3588 - accuracy: 0.8432\n",
            "Epoch 95/140\n",
            "8/8 [==============================] - 0s 2ms/step - loss: 0.3509 - accuracy: 0.8613\n",
            "Epoch 96/140\n",
            "8/8 [==============================] - 0s 2ms/step - loss: 0.3518 - accuracy: 0.8547\n",
            "Epoch 97/140\n",
            "8/8 [==============================] - 0s 2ms/step - loss: 0.3547 - accuracy: 0.8487\n",
            "Epoch 98/140\n",
            "8/8 [==============================] - 0s 2ms/step - loss: 0.3360 - accuracy: 0.8504\n",
            "Epoch 99/140\n",
            "8/8 [==============================] - 0s 2ms/step - loss: 0.3568 - accuracy: 0.8427\n",
            "Epoch 100/140\n",
            "8/8 [==============================] - 0s 2ms/step - loss: 0.2888 - accuracy: 0.8953\n",
            "Epoch 101/140\n",
            "8/8 [==============================] - 0s 2ms/step - loss: 0.3535 - accuracy: 0.8557\n",
            "Epoch 102/140\n",
            "8/8 [==============================] - 0s 2ms/step - loss: 0.3646 - accuracy: 0.8357\n",
            "Epoch 103/140\n",
            "8/8 [==============================] - 0s 2ms/step - loss: 0.3637 - accuracy: 0.8479\n",
            "Epoch 104/140\n",
            "8/8 [==============================] - 0s 2ms/step - loss: 0.3265 - accuracy: 0.8637\n",
            "Epoch 105/140\n",
            "8/8 [==============================] - 0s 2ms/step - loss: 0.3258 - accuracy: 0.8673\n",
            "Epoch 106/140\n",
            "8/8 [==============================] - 0s 2ms/step - loss: 0.3230 - accuracy: 0.8807\n",
            "Epoch 107/140\n",
            "8/8 [==============================] - 0s 2ms/step - loss: 0.3160 - accuracy: 0.8599\n",
            "Epoch 108/140\n",
            "8/8 [==============================] - 0s 3ms/step - loss: 0.3418 - accuracy: 0.8631\n",
            "Epoch 109/140\n",
            "8/8 [==============================] - 0s 2ms/step - loss: 0.2964 - accuracy: 0.8788\n",
            "Epoch 110/140\n",
            "8/8 [==============================] - 0s 2ms/step - loss: 0.3404 - accuracy: 0.8597\n",
            "Epoch 111/140\n",
            "8/8 [==============================] - 0s 2ms/step - loss: 0.3186 - accuracy: 0.8758\n",
            "Epoch 112/140\n",
            "8/8 [==============================] - 0s 2ms/step - loss: 0.3634 - accuracy: 0.8424\n",
            "Epoch 113/140\n",
            "8/8 [==============================] - 0s 2ms/step - loss: 0.3437 - accuracy: 0.8550\n",
            "Epoch 114/140\n",
            "8/8 [==============================] - 0s 3ms/step - loss: 0.2761 - accuracy: 0.9037\n",
            "Epoch 115/140\n",
            "8/8 [==============================] - 0s 2ms/step - loss: 0.3150 - accuracy: 0.8703\n",
            "Epoch 116/140\n",
            "8/8 [==============================] - 0s 2ms/step - loss: 0.3563 - accuracy: 0.8331\n",
            "Epoch 117/140\n",
            "8/8 [==============================] - 0s 2ms/step - loss: 0.3267 - accuracy: 0.8588\n",
            "Epoch 118/140\n",
            "8/8 [==============================] - 0s 2ms/step - loss: 0.2834 - accuracy: 0.8899\n",
            "Epoch 119/140\n",
            "8/8 [==============================] - 0s 2ms/step - loss: 0.3733 - accuracy: 0.8319\n",
            "Epoch 120/140\n",
            "8/8 [==============================] - 0s 2ms/step - loss: 0.3244 - accuracy: 0.8689\n",
            "Epoch 121/140\n",
            "8/8 [==============================] - 0s 2ms/step - loss: 0.3631 - accuracy: 0.8304\n",
            "Epoch 122/140\n",
            "8/8 [==============================] - 0s 2ms/step - loss: 0.3335 - accuracy: 0.8589\n",
            "Epoch 123/140\n",
            "8/8 [==============================] - 0s 2ms/step - loss: 0.2872 - accuracy: 0.8837\n",
            "Epoch 124/140\n",
            "8/8 [==============================] - 0s 2ms/step - loss: 0.3227 - accuracy: 0.8635\n",
            "Epoch 125/140\n",
            "8/8 [==============================] - 0s 2ms/step - loss: 0.3362 - accuracy: 0.8606\n",
            "Epoch 126/140\n",
            "8/8 [==============================] - 0s 2ms/step - loss: 0.2873 - accuracy: 0.8935\n",
            "Epoch 127/140\n",
            "8/8 [==============================] - 0s 2ms/step - loss: 0.2636 - accuracy: 0.9002\n",
            "Epoch 128/140\n",
            "8/8 [==============================] - 0s 2ms/step - loss: 0.3026 - accuracy: 0.8903\n",
            "Epoch 129/140\n",
            "8/8 [==============================] - 0s 2ms/step - loss: 0.3084 - accuracy: 0.8655\n",
            "Epoch 130/140\n",
            "8/8 [==============================] - 0s 2ms/step - loss: 0.3051 - accuracy: 0.8642\n",
            "Epoch 131/140\n",
            "8/8 [==============================] - 0s 2ms/step - loss: 0.3144 - accuracy: 0.8809\n",
            "Epoch 132/140\n",
            "8/8 [==============================] - 0s 2ms/step - loss: 0.2970 - accuracy: 0.8818\n",
            "Epoch 133/140\n",
            "8/8 [==============================] - 0s 2ms/step - loss: 0.3313 - accuracy: 0.8589\n",
            "Epoch 134/140\n",
            "8/8 [==============================] - 0s 2ms/step - loss: 0.3344 - accuracy: 0.8679\n",
            "Epoch 135/140\n",
            "8/8 [==============================] - 0s 2ms/step - loss: 0.3066 - accuracy: 0.8663\n",
            "Epoch 136/140\n",
            "8/8 [==============================] - 0s 2ms/step - loss: 0.3159 - accuracy: 0.8742\n",
            "Epoch 137/140\n",
            "8/8 [==============================] - 0s 2ms/step - loss: 0.2843 - accuracy: 0.8951\n",
            "Epoch 138/140\n",
            "8/8 [==============================] - 0s 2ms/step - loss: 0.3290 - accuracy: 0.8581\n",
            "Epoch 139/140\n",
            "8/8 [==============================] - 0s 2ms/step - loss: 0.3085 - accuracy: 0.8776\n",
            "Epoch 140/140\n",
            "8/8 [==============================] - 0s 2ms/step - loss: 0.3250 - accuracy: 0.8583\n"
          ],
          "name": "stdout"
        },
        {
          "output_type": "execute_result",
          "data": {
            "text/plain": [
              "<tensorflow.python.keras.callbacks.History at 0x7f627a0f2790>"
            ]
          },
          "metadata": {
            "tags": []
          },
          "execution_count": 84
        }
      ]
    },
    {
      "cell_type": "code",
      "metadata": {
        "colab": {
          "base_uri": "https://localhost:8080/",
          "height": 419
        },
        "id": "RxeOe579sLhw",
        "outputId": "859dff50-c2a8-4b6f-beda-4ecc12955073"
      },
      "source": [
        "yp6=(ann.predict(x_test).round())\n",
        "yp6=pd.DataFrame(yp6)\n",
        "yp6"
      ],
      "execution_count": null,
      "outputs": [
        {
          "output_type": "execute_result",
          "data": {
            "text/html": [
              "<div>\n",
              "<style scoped>\n",
              "    .dataframe tbody tr th:only-of-type {\n",
              "        vertical-align: middle;\n",
              "    }\n",
              "\n",
              "    .dataframe tbody tr th {\n",
              "        vertical-align: top;\n",
              "    }\n",
              "\n",
              "    .dataframe thead th {\n",
              "        text-align: right;\n",
              "    }\n",
              "</style>\n",
              "<table border=\"1\" class=\"dataframe\">\n",
              "  <thead>\n",
              "    <tr style=\"text-align: right;\">\n",
              "      <th></th>\n",
              "      <th>0</th>\n",
              "    </tr>\n",
              "  </thead>\n",
              "  <tbody>\n",
              "    <tr>\n",
              "      <th>0</th>\n",
              "      <td>0.0</td>\n",
              "    </tr>\n",
              "    <tr>\n",
              "      <th>1</th>\n",
              "      <td>0.0</td>\n",
              "    </tr>\n",
              "    <tr>\n",
              "      <th>2</th>\n",
              "      <td>1.0</td>\n",
              "    </tr>\n",
              "    <tr>\n",
              "      <th>3</th>\n",
              "      <td>0.0</td>\n",
              "    </tr>\n",
              "    <tr>\n",
              "      <th>4</th>\n",
              "      <td>0.0</td>\n",
              "    </tr>\n",
              "    <tr>\n",
              "      <th>...</th>\n",
              "      <td>...</td>\n",
              "    </tr>\n",
              "    <tr>\n",
              "      <th>56</th>\n",
              "      <td>1.0</td>\n",
              "    </tr>\n",
              "    <tr>\n",
              "      <th>57</th>\n",
              "      <td>1.0</td>\n",
              "    </tr>\n",
              "    <tr>\n",
              "      <th>58</th>\n",
              "      <td>1.0</td>\n",
              "    </tr>\n",
              "    <tr>\n",
              "      <th>59</th>\n",
              "      <td>1.0</td>\n",
              "    </tr>\n",
              "    <tr>\n",
              "      <th>60</th>\n",
              "      <td>1.0</td>\n",
              "    </tr>\n",
              "  </tbody>\n",
              "</table>\n",
              "<p>61 rows × 1 columns</p>\n",
              "</div>"
            ],
            "text/plain": [
              "      0\n",
              "0   0.0\n",
              "1   0.0\n",
              "2   1.0\n",
              "3   0.0\n",
              "4   0.0\n",
              "..  ...\n",
              "56  1.0\n",
              "57  1.0\n",
              "58  1.0\n",
              "59  1.0\n",
              "60  1.0\n",
              "\n",
              "[61 rows x 1 columns]"
            ]
          },
          "metadata": {
            "tags": []
          },
          "execution_count": 85
        }
      ]
    },
    {
      "cell_type": "code",
      "metadata": {
        "colab": {
          "base_uri": "https://localhost:8080/",
          "height": 419
        },
        "id": "PvgRdzBssdpU",
        "outputId": "060c6425-bb8a-4ebf-9802-60a060f7c2a1"
      },
      "source": [
        "\n",
        "p6=pd.concat([y_test,yp6],axis=1)\n",
        "p6"
      ],
      "execution_count": null,
      "outputs": [
        {
          "output_type": "execute_result",
          "data": {
            "text/html": [
              "<div>\n",
              "<style scoped>\n",
              "    .dataframe tbody tr th:only-of-type {\n",
              "        vertical-align: middle;\n",
              "    }\n",
              "\n",
              "    .dataframe tbody tr th {\n",
              "        vertical-align: top;\n",
              "    }\n",
              "\n",
              "    .dataframe thead th {\n",
              "        text-align: right;\n",
              "    }\n",
              "</style>\n",
              "<table border=\"1\" class=\"dataframe\">\n",
              "  <thead>\n",
              "    <tr style=\"text-align: right;\">\n",
              "      <th></th>\n",
              "      <th>0</th>\n",
              "      <th>0</th>\n",
              "    </tr>\n",
              "  </thead>\n",
              "  <tbody>\n",
              "    <tr>\n",
              "      <th>0</th>\n",
              "      <td>0</td>\n",
              "      <td>0.0</td>\n",
              "    </tr>\n",
              "    <tr>\n",
              "      <th>1</th>\n",
              "      <td>1</td>\n",
              "      <td>0.0</td>\n",
              "    </tr>\n",
              "    <tr>\n",
              "      <th>2</th>\n",
              "      <td>0</td>\n",
              "      <td>1.0</td>\n",
              "    </tr>\n",
              "    <tr>\n",
              "      <th>3</th>\n",
              "      <td>0</td>\n",
              "      <td>0.0</td>\n",
              "    </tr>\n",
              "    <tr>\n",
              "      <th>4</th>\n",
              "      <td>1</td>\n",
              "      <td>0.0</td>\n",
              "    </tr>\n",
              "    <tr>\n",
              "      <th>...</th>\n",
              "      <td>...</td>\n",
              "      <td>...</td>\n",
              "    </tr>\n",
              "    <tr>\n",
              "      <th>56</th>\n",
              "      <td>1</td>\n",
              "      <td>1.0</td>\n",
              "    </tr>\n",
              "    <tr>\n",
              "      <th>57</th>\n",
              "      <td>0</td>\n",
              "      <td>1.0</td>\n",
              "    </tr>\n",
              "    <tr>\n",
              "      <th>58</th>\n",
              "      <td>1</td>\n",
              "      <td>1.0</td>\n",
              "    </tr>\n",
              "    <tr>\n",
              "      <th>59</th>\n",
              "      <td>1</td>\n",
              "      <td>1.0</td>\n",
              "    </tr>\n",
              "    <tr>\n",
              "      <th>60</th>\n",
              "      <td>1</td>\n",
              "      <td>1.0</td>\n",
              "    </tr>\n",
              "  </tbody>\n",
              "</table>\n",
              "<p>61 rows × 2 columns</p>\n",
              "</div>"
            ],
            "text/plain": [
              "    0    0\n",
              "0   0  0.0\n",
              "1   1  0.0\n",
              "2   0  1.0\n",
              "3   0  0.0\n",
              "4   1  0.0\n",
              ".. ..  ...\n",
              "56  1  1.0\n",
              "57  0  1.0\n",
              "58  1  1.0\n",
              "59  1  1.0\n",
              "60  1  1.0\n",
              "\n",
              "[61 rows x 2 columns]"
            ]
          },
          "metadata": {
            "tags": []
          },
          "execution_count": 86
        }
      ]
    },
    {
      "cell_type": "code",
      "metadata": {
        "colab": {
          "base_uri": "https://localhost:8080/"
        },
        "id": "eL_NHWWksrZ6",
        "outputId": "4836f275-dccd-41bc-eac8-bcb791a5c53b"
      },
      "source": [
        "cm=confusion_matrix(y_test,yp6)\n",
        "cm"
      ],
      "execution_count": null,
      "outputs": [
        {
          "output_type": "execute_result",
          "data": {
            "text/plain": [
              "array([[23,  4],\n",
              "       [ 7, 27]])"
            ]
          },
          "metadata": {
            "tags": []
          },
          "execution_count": 87
        }
      ]
    },
    {
      "cell_type": "code",
      "metadata": {
        "colab": {
          "base_uri": "https://localhost:8080/"
        },
        "id": "WssPplAds2uv",
        "outputId": "9f8da4c1-30b2-4e39-d7ec-645f4621bd9c"
      },
      "source": [
        "print(classification_report(y_test,yp6))"
      ],
      "execution_count": null,
      "outputs": [
        {
          "output_type": "stream",
          "text": [
            "              precision    recall  f1-score   support\n",
            "\n",
            "           0       0.77      0.85      0.81        27\n",
            "           1       0.87      0.79      0.83        34\n",
            "\n",
            "    accuracy                           0.82        61\n",
            "   macro avg       0.82      0.82      0.82        61\n",
            "weighted avg       0.82      0.82      0.82        61\n",
            "\n"
          ],
          "name": "stdout"
        }
      ]
    },
    {
      "cell_type": "code",
      "metadata": {
        "colab": {
          "base_uri": "https://localhost:8080/"
        },
        "id": "h5cPPeWGs3MH",
        "outputId": "4d90f9fd-935d-440c-b32c-08d9031775ad"
      },
      "source": [
        "logloss=log_loss(y_test,yp6)\n",
        "logloss"
      ],
      "execution_count": null,
      "outputs": [
        {
          "output_type": "stream",
          "text": [
            "/usr/local/lib/python3.7/dist-packages/sklearn/metrics/_classification.py:2295: RuntimeWarning: divide by zero encountered in log\n",
            "  loss = -(transformed_labels * np.log(y_pred)).sum(axis=1)\n",
            "/usr/local/lib/python3.7/dist-packages/sklearn/metrics/_classification.py:2295: RuntimeWarning: invalid value encountered in multiply\n",
            "  loss = -(transformed_labels * np.log(y_pred)).sum(axis=1)\n"
          ],
          "name": "stderr"
        },
        {
          "output_type": "execute_result",
          "data": {
            "text/plain": [
              "nan"
            ]
          },
          "metadata": {
            "tags": []
          },
          "execution_count": 89
        }
      ]
    },
    {
      "cell_type": "code",
      "metadata": {
        "colab": {
          "base_uri": "https://localhost:8080/"
        },
        "id": "hlry0vJps7y_",
        "outputId": "4289080c-9961-47f6-a4f8-af5023a5c4b3"
      },
      "source": [
        "g=accuracy_score(y_test,yp6)\n",
        "g"
      ],
      "execution_count": null,
      "outputs": [
        {
          "output_type": "execute_result",
          "data": {
            "text/plain": [
              "0.819672131147541"
            ]
          },
          "metadata": {
            "tags": []
          },
          "execution_count": 90
        }
      ]
    },
    {
      "cell_type": "code",
      "metadata": {
        "colab": {
          "base_uri": "https://localhost:8080/"
        },
        "id": "OnIsQIn-tEol",
        "outputId": "0989aa72-f1cb-4c29-94a7-6bc2875698fe"
      },
      "source": [
        "print('Logistic',a)\n",
        "print('Decision tree',b)\n",
        "print('random forest',c)\n",
        "print('knn',d)\n",
        "print('naieve bayes',e)\n",
        "print('svc',f)\n",
        "print('neural network',g)"
      ],
      "execution_count": null,
      "outputs": [
        {
          "output_type": "stream",
          "text": [
            "Logistic 0.8032786885245902\n",
            "Decision tree 0.7049180327868853\n",
            "random forest 0.8032786885245902\n",
            "knn 0.8032786885245902\n",
            "naieve bayes 0.819672131147541\n",
            "svc 0.8032786885245902\n",
            "neural network 0.819672131147541\n"
          ],
          "name": "stdout"
        }
      ]
    },
    {
      "cell_type": "code",
      "metadata": {
        "id": "a565JflktRcw"
      },
      "source": [
        ""
      ],
      "execution_count": null,
      "outputs": []
    }
  ]
}